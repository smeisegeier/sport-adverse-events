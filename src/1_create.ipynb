{
 "cells": [
  {
   "cell_type": "markdown",
   "metadata": {},
   "source": [
    "# <a id='toc1_'></a>[create dataset](#toc0_)"
   ]
  },
  {
   "cell_type": "markdown",
   "metadata": {},
   "source": [
    "**Table of contents**<a id='toc0_'></a>    \n",
    "- [create dataset](#toc1_)    \n",
    "  - [init code](#toc1_1_)    \n",
    "  - [load data](#toc1_2_)    \n",
    "    - [option clean csv](#toc1_2_1_)    \n",
    "    - [ (deprecated) option dirty csv](#toc1_2_2_)    \n",
    "  - [arrange data](#toc1_3_)    \n",
    "    - [trim column names](#toc1_3_1_)    \n",
    "    - [set date column](#toc1_3_2_)    \n",
    "    - [relabeling duplicate columns](#toc1_3_3_)    \n",
    "    - [remove duplicates or invalids](#toc1_3_4_)    \n",
    "    - [parse dates to datetime 🕥](#toc1_3_5_)    \n",
    "    - [(deprecated) remove columns w/ no or few values](#toc1_3_6_)    \n",
    "  - [condensed dataset](#toc1_4_)    \n",
    "    - [define functions](#toc1_4_1_)    \n",
    "    - [define single, multi and misc columns](#toc1_4_2_)    \n",
    "    - [concat condensed dataset from subsets](#toc1_4_3_)    \n",
    "    - [create manual table for mapping](#toc1_4_4_)    \n",
    "    - [column mapping from codebook](#toc1_4_5_)    \n",
    "    - [value mapping for missings and unknown](#toc1_4_6_)    \n",
    "    - [value mapping from codebook](#toc1_4_7_)    \n",
    "  - [💾 data for pivot use](#toc1_5_)    \n",
    "\n",
    "<!-- vscode-jupyter-toc-config\n",
    "\tnumbering=false\n",
    "\tanchor=true\n",
    "\tflat=false\n",
    "\tminLevel=1\n",
    "\tmaxLevel=6\n",
    "\t/vscode-jupyter-toc-config -->\n",
    "<!-- THIS CELL WILL BE REPLACED ON TOC UPDATE. DO NOT WRITE YOUR TEXT IN THIS CELL -->"
   ]
  },
  {
   "cell_type": "markdown",
   "metadata": {},
   "source": [
    "## <a id='toc1_1_'></a>[init code](#toc0_)"
   ]
  },
  {
   "cell_type": "code",
   "execution_count": 1,
   "metadata": {},
   "outputs": [
    {
     "name": "stdout",
     "output_type": "stream",
     "text": [
      "🐍 3.12.9 | 📦 pygwalker: 0.4.9.15 | 📦 pandas: 2.3.2 | 📦 numpy: 1.26.4 | 📦 duckdb: 1.3.2 | 📦 pandas-plots: 0.16.0 | 📦 connection-helper: 0.13.0\n"
     ]
    }
   ],
   "source": [
    "\n",
    "import io\n",
    "import os\n",
    "from glob import glob\n",
    "import pandas as pd\n",
    "from pathlib import Path\n",
    "from pandas_plots import tbl, pls, hlp\n",
    "from pandas_plots.hlp import add_bitmask_label\n",
    "import re\n",
    "hlp.show_package_version([\"pygwalker\"])\n",
    "\n",
    "os.environ[\"THEME\"]=\"light\"\n",
    "\n",
    "dir_data_in=Path(\"../data/in\")\n",
    "dir_data_out=Path(\"../data/out\")\n",
    "dir_data_codebooks=Path(\"../data/codebooks\")\n",
    "\n",
    "# ! only 1 csv file in in/ is allowed\n",
    "file_csv_list=glob(f\"{dir_data_in}/*.csv\")\n",
    "assert len(file_csv_list) == 1, f\"❌ Expected 1 csv file, found {len(file_csv_list)}\"\n",
    "\n",
    "file_csv = file_csv_list[0]\n",
    "\n",
    "# * grab choice part or eg .1\n",
    "REGEX_CHOICE = r\"( \\(choice=.*?\\)+|\\.\\d$)\"\n",
    "\n",
    "# * grab the code block at the start\n",
    "REGEX_CODE1 = r\"(^\\[.*?\\])\"\n",
    "\n",
    "# * grab the non-code block\n",
    "REGEX_NONCODE = r\"\\].*\"\n",
    "\n",
    "# * grab the code block\n",
    "REGEX_CODEALL = r'(\\[\\d{2}\\.\\d{2}(?:\\.\\d{2})?\\])'\n",
    "\n",
    "ENABLE_UPDATE=True"
   ]
  },
  {
   "cell_type": "markdown",
   "metadata": {},
   "source": [
    "## <a id='toc1_2_'></a>[load data](#toc0_)\n"
   ]
  },
  {
   "cell_type": "markdown",
   "metadata": {},
   "source": [
    "### <a id='toc1_2_1_'></a>[option clean csv](#toc0_)"
   ]
  },
  {
   "cell_type": "code",
   "execution_count": 2,
   "metadata": {},
   "outputs": [],
   "source": [
    "df_csv = pd.read_csv(\n",
    "    file_csv,\n",
    "    sep=\",\",\n",
    "    encoding=\"utf-8-sig\",\n",
    "    dtype={\"[01.01] Bewertung - CTCAE-Bewertung\": str},\n",
    ")"
   ]
  },
  {
   "cell_type": "markdown",
   "metadata": {},
   "source": [
    "### <a id='toc1_2_2_'></a>[ (deprecated) option dirty csv](#toc0_)\n",
    "- ⚠️ strategy to import the csv raw data:\n",
    "  - ❌ do not use default `pd.read_csv()`, its not as error tolerant as excel\n",
    "  - ✅ read csv as `windows-1252` string and cleanse it\n",
    "    - most (not all) lines have heading + trailing quotes, remove\n",
    "    - data have a mixture of \"\" and \", downgrade by 1\n",
    "    - delimiter \",\" also occurs in quotes, change to \";\" only outside of quotes\n",
    "    - now byte stream can be imported"
   ]
  },
  {
   "cell_type": "code",
   "execution_count": 3,
   "metadata": {},
   "outputs": [],
   "source": [
    "# # * replace delimiter *only* outside of quotes\n",
    "# def replace_delimiter_outside_quotes(\n",
    "#     input: str, delimiter_old: str = \",\", delimiter_new: str = \";\", quotechar: str = '\"'\n",
    "# ):\n",
    "#     outside_quotes = True\n",
    "#     output = \"\"\n",
    "#     # * loop through input and toggle inside/outside status\n",
    "#     for char in input:\n",
    "#         if char == quotechar:\n",
    "#             outside_quotes = not outside_quotes\n",
    "#         elif outside_quotes and char == delimiter_old:\n",
    "#             char = delimiter_new\n",
    "#         output += char\n",
    "#     return output\n",
    "\n",
    "# # * downgrades quotes in string to normalize quots: \" -> NA, \"\" -> \"\n",
    "# def reduce_quotes_in_string(input: str):\n",
    "#     output = \"\"\n",
    "#     len_=len(input)\n",
    "#     i = 0\n",
    "#     while i < len_:\n",
    "#         # * check current + next char if within range\n",
    "#         if input[i] == '\"' and i+1 < len_ and input[i+1] != '\"':\n",
    "#             output += ''\n",
    "#             i = i+1\n",
    "#         elif input[i] == '\"'and i+1 < len_ and input[i+1] == '\"':\n",
    "#             output+= '\"'\n",
    "#             i = i+2\n",
    "#         else:\n",
    "#             output += input[i]\n",
    "#             i=i+1\n",
    "#     return output\n",
    "\n",
    "# # * read csv -> variable\n",
    "# with open(file_csv, encoding=\"windows-1252\") as f:\n",
    "#     csv=f.read()\n",
    "\n",
    "# # * selectively change , into ;\n",
    "# csv_lines = csv.splitlines()\n",
    "# csv_lines_new = []\n",
    "# for line in csv_lines[:]:\n",
    "#     # * remove first and last quotes if present\n",
    "#     if line[:1] == '\"':\n",
    "#         line = line[1:-1]\n",
    "#     # * tailor line by line\n",
    "#     line=reduce_quotes_in_string(line)\n",
    "#     line=replace_delimiter_outside_quotes(line)\n",
    "#     # * just now quotes can be removed, not before\n",
    "#     line=line.replace('\"', '')\n",
    "#     csv_lines_new.append(line)\n",
    "#     # print(f'{line.count(\";\")} {line}')\n",
    "\n",
    "# # * list -> string fo feed into df constructor\n",
    "# csv_string = \"\\n\".join(csv_lines_new).replace('\\t', '')\n",
    "\n",
    "# df_csv = pd.read_csv(\n",
    "#     io.StringIO(csv_string),\n",
    "#     sep=\";\",\n",
    "#     encoding=\"windows-1252\",\n",
    "# )"
   ]
  },
  {
   "cell_type": "markdown",
   "metadata": {},
   "source": [
    "## <a id='toc1_3_'></a>[arrange data](#toc0_)"
   ]
  },
  {
   "cell_type": "markdown",
   "metadata": {},
   "source": [
    "### <a id='toc1_3_1_'></a>[trim column names](#toc0_)"
   ]
  },
  {
   "cell_type": "code",
   "execution_count": 4,
   "metadata": {},
   "outputs": [],
   "source": [
    "cols_trimmed = [col.strip() for col in df_csv.columns]\n",
    "df_csv.columns = cols_trimmed"
   ]
  },
  {
   "cell_type": "markdown",
   "metadata": {},
   "source": [
    "### <a id='toc1_3_2_'></a>[set date column](#toc0_)"
   ]
  },
  {
   "cell_type": "code",
   "execution_count": 5,
   "metadata": {},
   "outputs": [
    {
     "name": "stdout",
     "output_type": "stream",
     "text": [
      "[02.01] Basics - Datum\n"
     ]
    }
   ],
   "source": [
    "[print(col) for col in df_csv.columns if \"Datum\" in col]\n",
    "col_date = \"[02.01] Basics - Datum\""
   ]
  },
  {
   "cell_type": "markdown",
   "metadata": {},
   "source": [
    "### <a id='toc1_3_3_'></a>[relabeling duplicate columns](#toc0_)"
   ]
  },
  {
   "cell_type": "code",
   "execution_count": 6,
   "metadata": {},
   "outputs": [],
   "source": [
    "df_csv.rename(columns={\"[03.05.01] Folgen - Wie oft wurde die lebensnotwendige Intervention wiederholt?\":\"[03.05.02] Folgen - Wie oft wurde die lebensnotwendige Intervention wiederholt?\"}, inplace=True)"
   ]
  },
  {
   "cell_type": "markdown",
   "metadata": {},
   "source": [
    "### <a id='toc1_3_4_'></a>[remove duplicates or invalids](#toc0_)"
   ]
  },
  {
   "cell_type": "code",
   "execution_count": 7,
   "metadata": {},
   "outputs": [],
   "source": [
    "# # * remove known erroruos lines\n",
    "# df_csv.drop([0,34,33], inplace=True, axis=0, errors='ignore')\n",
    "# * remove \"löschen\" lines\n",
    "df_csv = df_csv[~(df_csv[col_date] == \"löschen\")]\n",
    "\n",
    "# * remove \"Anmerkung\"\n",
    "df_csv.drop(['[05.09] Rahmenbedingungen - Welchen Trainingszustand hatte der / die Betroffene zum Zeitpunkt als das AE auftrat? (choice=5 Anmerkung)'], axis=1, inplace=True, errors='ignore')\n",
    "\n",
    "# * remove \"kein AE\" from CTCAE\n",
    "# df_csv.loc[df_csv[\"Participant ID\"] == 218, df_csv.columns[4]] = pd.NA"
   ]
  },
  {
   "cell_type": "markdown",
   "metadata": {},
   "source": [
    "### <a id='toc1_3_5_'></a>[parse dates to datetime 🕥](#toc0_)"
   ]
  },
  {
   "cell_type": "code",
   "execution_count": 8,
   "metadata": {},
   "outputs": [],
   "source": [
    "df_csv.loc[df_csv[col_date]==\"2023_08_2028\", col_date]=\"2023_08_28\"\n",
    "df_csv.loc[df_csv[col_date]==\"2025_04_31\", col_date]=\"2025_04_30\"\n",
    "df_csv.loc[df_csv[col_date]==\"2024_16\", col_date]=\"2024_06\""
   ]
  },
  {
   "cell_type": "code",
   "execution_count": 9,
   "metadata": {},
   "outputs": [],
   "source": [
    "# Define a list of possible date formats\n",
    "formats = ['%Y_%m', '%Y_%m_%d']\n",
    "\n",
    "# Create an empty Series to store the converted datetimes\n",
    "converted_series = pd.Series(pd.NaT, index=df_csv.index)\n",
    "\n",
    "# Iterate through the formats and convert the column\n",
    "for fmt in formats:\n",
    "    converted_series.fillna(pd.to_datetime(df_csv[col_date], format=fmt, errors='coerce'), inplace=True)\n",
    "\n",
    "df_csv[col_date] = converted_series\n",
    "\n",
    "# Convert the column to datetime\n",
    "df_csv[col_date].fillna(df_csv[\"Survey Timestamp\"], inplace=True)"
   ]
  },
  {
   "cell_type": "markdown",
   "metadata": {},
   "source": [
    "### <a id='toc1_3_6_'></a>[(deprecated) remove columns w/ no or few values](#toc0_)"
   ]
  },
  {
   "cell_type": "code",
   "execution_count": 10,
   "metadata": {},
   "outputs": [],
   "source": [
    "# import numpy as np\n",
    "# # * remove columns with no value\n",
    "# cols_no_value = [col for col in df_csv.columns if df_csv[col].isna().all()]\n",
    "# print(\"these columns have no values at all:\")\n",
    "\n",
    "# print(np.array(cols_no_value))\n",
    "\n",
    "# # ! remove columns\n",
    "# cols_after_removal = list(set(df_csv.columns) - set(cols_no_value))\n",
    "# df_csv_short = df_csv[list(set(df_csv.columns) - set(cols_no_value))]"
   ]
  },
  {
   "cell_type": "code",
   "execution_count": 11,
   "metadata": {},
   "outputs": [
    {
     "data": {
      "text/html": [
       "<div>\n",
       "<style scoped>\n",
       "    .dataframe tbody tr th:only-of-type {\n",
       "        vertical-align: middle;\n",
       "    }\n",
       "\n",
       "    .dataframe tbody tr th {\n",
       "        vertical-align: top;\n",
       "    }\n",
       "\n",
       "    .dataframe thead th {\n",
       "        text-align: right;\n",
       "    }\n",
       "</style>\n",
       "<table border=\"1\" class=\"dataframe\">\n",
       "  <thead>\n",
       "    <tr style=\"text-align: right;\">\n",
       "      <th></th>\n",
       "      <th>Participant ID</th>\n",
       "      <th>Survey Identifier</th>\n",
       "      <th>Survey Timestamp</th>\n",
       "      <th>[02.01] Basics - Datum</th>\n",
       "      <th>[01.01] Bewertung - CTCAE-Bewertung</th>\n",
       "      <th>[01.02] Wann ist das AE erstmals aufgetreten?</th>\n",
       "      <th>[01.03] Bewertung - Glauben Sie, dass das AE mit dem Sport assoziiert ist?</th>\n",
       "      <th>[02.02] Basics - Was war das AE?  (choice=Schmerzen)</th>\n",
       "      <th>[02.02] Basics - Was war das AE?  (choice=Übelkeit / Erbrechen)</th>\n",
       "      <th>[02.02] Basics - Was war das AE?  (choice=Oberflächliche Verletzungen)</th>\n",
       "      <th>...</th>\n",
       "      <th>Welche motorische Hauptform dominierte die Bewegungseinheit ?  (choice=Schnelligkeit).1</th>\n",
       "      <th>In welcher Phase der geplanten Sporteinheit trat das AE auf?.1</th>\n",
       "      <th>Welchen Trainingszustand hatte der / die Betroffene zum Zeitpunkt als das AE auftrat? (choice=Gut).1</th>\n",
       "      <th>Welchen Trainingszustand hatte der / die Betroffene zum Zeitpunkt als das AE auftrat? (choice=Durchschnittlich).1</th>\n",
       "      <th>Welchen Trainingszustand hatte der / die Betroffene zum Zeitpunkt als das AE auftrat? (choice=Mäßig).1</th>\n",
       "      <th>Welchen Trainingszustand hatte der / die Betroffene zum Zeitpunkt als das AE auftrat? (choice=Weiß nicht).1</th>\n",
       "      <th>Welchen Trainingszustand hatte der / die Betroffene zum Zeitpunkt als das AE auftrat? (choice=Anmerkung).1</th>\n",
       "      <th>Glaubst Du, dass das AE mit dem Sport assoziiert ist?</th>\n",
       "      <th>Anmerkung.1</th>\n",
       "      <th>Complete?.2</th>\n",
       "    </tr>\n",
       "  </thead>\n",
       "  <tbody>\n",
       "    <tr>\n",
       "      <th>0</th>\n",
       "      <td>3</td>\n",
       "      <td>NaN</td>\n",
       "      <td>2022-10-13 13:41:16</td>\n",
       "      <td>2022-10-01</td>\n",
       "      <td>2</td>\n",
       "      <td>Das AE war vor dem Sport bereits vorhanden und...</td>\n",
       "      <td>No</td>\n",
       "      <td>Unchecked</td>\n",
       "      <td>Checked</td>\n",
       "      <td>Unchecked</td>\n",
       "      <td>...</td>\n",
       "      <td>Unchecked</td>\n",
       "      <td>NaN</td>\n",
       "      <td>Unchecked</td>\n",
       "      <td>Unchecked</td>\n",
       "      <td>Unchecked</td>\n",
       "      <td>Unchecked</td>\n",
       "      <td>Unchecked</td>\n",
       "      <td>NaN</td>\n",
       "      <td>NaN</td>\n",
       "      <td>NaN</td>\n",
       "    </tr>\n",
       "    <tr>\n",
       "      <th>1</th>\n",
       "      <td>4</td>\n",
       "      <td>NaN</td>\n",
       "      <td>2022-11-08 09:19:23</td>\n",
       "      <td>2022-10-01</td>\n",
       "      <td>1</td>\n",
       "      <td>Das AE ist neu aufgetreten.</td>\n",
       "      <td>Yes</td>\n",
       "      <td>Checked</td>\n",
       "      <td>Unchecked</td>\n",
       "      <td>Unchecked</td>\n",
       "      <td>...</td>\n",
       "      <td>Unchecked</td>\n",
       "      <td>NaN</td>\n",
       "      <td>Unchecked</td>\n",
       "      <td>Unchecked</td>\n",
       "      <td>Unchecked</td>\n",
       "      <td>Unchecked</td>\n",
       "      <td>Unchecked</td>\n",
       "      <td>NaN</td>\n",
       "      <td>NaN</td>\n",
       "      <td>NaN</td>\n",
       "    </tr>\n",
       "    <tr>\n",
       "      <th>2</th>\n",
       "      <td>5</td>\n",
       "      <td>NaN</td>\n",
       "      <td>2022-11-08 09:31:05</td>\n",
       "      <td>2022-11-01</td>\n",
       "      <td>2</td>\n",
       "      <td>Das AE war vor dem Sport bereits vorhanden und...</td>\n",
       "      <td>No</td>\n",
       "      <td>Unchecked</td>\n",
       "      <td>Unchecked</td>\n",
       "      <td>Unchecked</td>\n",
       "      <td>...</td>\n",
       "      <td>Unchecked</td>\n",
       "      <td>NaN</td>\n",
       "      <td>Unchecked</td>\n",
       "      <td>Unchecked</td>\n",
       "      <td>Unchecked</td>\n",
       "      <td>Unchecked</td>\n",
       "      <td>Unchecked</td>\n",
       "      <td>NaN</td>\n",
       "      <td>NaN</td>\n",
       "      <td>NaN</td>\n",
       "    </tr>\n",
       "    <tr>\n",
       "      <th>3</th>\n",
       "      <td>6</td>\n",
       "      <td>NaN</td>\n",
       "      <td>2022-11-18 10:10:55</td>\n",
       "      <td>2022-11-01</td>\n",
       "      <td>1</td>\n",
       "      <td>Das AE ist neu aufgetreten.</td>\n",
       "      <td>No</td>\n",
       "      <td>Unchecked</td>\n",
       "      <td>Checked</td>\n",
       "      <td>Unchecked</td>\n",
       "      <td>...</td>\n",
       "      <td>Unchecked</td>\n",
       "      <td>NaN</td>\n",
       "      <td>Unchecked</td>\n",
       "      <td>Unchecked</td>\n",
       "      <td>Unchecked</td>\n",
       "      <td>Unchecked</td>\n",
       "      <td>Unchecked</td>\n",
       "      <td>NaN</td>\n",
       "      <td>NaN</td>\n",
       "      <td>NaN</td>\n",
       "    </tr>\n",
       "    <tr>\n",
       "      <th>4</th>\n",
       "      <td>7</td>\n",
       "      <td>NaN</td>\n",
       "      <td>2022-11-21 14:02:25</td>\n",
       "      <td>2022-11-01</td>\n",
       "      <td>3</td>\n",
       "      <td>Das AE ist neu aufgetreten.</td>\n",
       "      <td>Yes</td>\n",
       "      <td>Unchecked</td>\n",
       "      <td>Unchecked</td>\n",
       "      <td>Unchecked</td>\n",
       "      <td>...</td>\n",
       "      <td>Unchecked</td>\n",
       "      <td>NaN</td>\n",
       "      <td>Unchecked</td>\n",
       "      <td>Unchecked</td>\n",
       "      <td>Unchecked</td>\n",
       "      <td>Unchecked</td>\n",
       "      <td>Unchecked</td>\n",
       "      <td>NaN</td>\n",
       "      <td>NaN</td>\n",
       "      <td>NaN</td>\n",
       "    </tr>\n",
       "    <tr>\n",
       "      <th>...</th>\n",
       "      <td>...</td>\n",
       "      <td>...</td>\n",
       "      <td>...</td>\n",
       "      <td>...</td>\n",
       "      <td>...</td>\n",
       "      <td>...</td>\n",
       "      <td>...</td>\n",
       "      <td>...</td>\n",
       "      <td>...</td>\n",
       "      <td>...</td>\n",
       "      <td>...</td>\n",
       "      <td>...</td>\n",
       "      <td>...</td>\n",
       "      <td>...</td>\n",
       "      <td>...</td>\n",
       "      <td>...</td>\n",
       "      <td>...</td>\n",
       "      <td>...</td>\n",
       "      <td>...</td>\n",
       "      <td>...</td>\n",
       "      <td>...</td>\n",
       "    </tr>\n",
       "    <tr>\n",
       "      <th>173</th>\n",
       "      <td>204</td>\n",
       "      <td>NaN</td>\n",
       "      <td>NaN</td>\n",
       "      <td>2024-11-27</td>\n",
       "      <td>1</td>\n",
       "      <td>Das AE ist neu aufgetreten.</td>\n",
       "      <td>Yes</td>\n",
       "      <td>Unchecked</td>\n",
       "      <td>Unchecked</td>\n",
       "      <td>Unchecked</td>\n",
       "      <td>...</td>\n",
       "      <td>Unchecked</td>\n",
       "      <td>NaN</td>\n",
       "      <td>Unchecked</td>\n",
       "      <td>Unchecked</td>\n",
       "      <td>Unchecked</td>\n",
       "      <td>Unchecked</td>\n",
       "      <td>Unchecked</td>\n",
       "      <td>NaN</td>\n",
       "      <td>NaN</td>\n",
       "      <td>NaN</td>\n",
       "    </tr>\n",
       "    <tr>\n",
       "      <th>174</th>\n",
       "      <td>205</td>\n",
       "      <td>NaN</td>\n",
       "      <td>NaN</td>\n",
       "      <td>2024-12-03</td>\n",
       "      <td>1</td>\n",
       "      <td>Das AE war vor dem Sport bereits vorhanden und...</td>\n",
       "      <td>Yes</td>\n",
       "      <td>Unchecked</td>\n",
       "      <td>Unchecked</td>\n",
       "      <td>Unchecked</td>\n",
       "      <td>...</td>\n",
       "      <td>Unchecked</td>\n",
       "      <td>NaN</td>\n",
       "      <td>Unchecked</td>\n",
       "      <td>Unchecked</td>\n",
       "      <td>Unchecked</td>\n",
       "      <td>Unchecked</td>\n",
       "      <td>Unchecked</td>\n",
       "      <td>NaN</td>\n",
       "      <td>NaN</td>\n",
       "      <td>NaN</td>\n",
       "    </tr>\n",
       "    <tr>\n",
       "      <th>175</th>\n",
       "      <td>206</td>\n",
       "      <td>NaN</td>\n",
       "      <td>NaN</td>\n",
       "      <td>2024-12-08</td>\n",
       "      <td>2</td>\n",
       "      <td>Das AE ist neu aufgetreten.</td>\n",
       "      <td>Yes</td>\n",
       "      <td>Unchecked</td>\n",
       "      <td>Checked</td>\n",
       "      <td>Unchecked</td>\n",
       "      <td>...</td>\n",
       "      <td>Unchecked</td>\n",
       "      <td>NaN</td>\n",
       "      <td>Unchecked</td>\n",
       "      <td>Unchecked</td>\n",
       "      <td>Unchecked</td>\n",
       "      <td>Unchecked</td>\n",
       "      <td>Unchecked</td>\n",
       "      <td>NaN</td>\n",
       "      <td>NaN</td>\n",
       "      <td>NaN</td>\n",
       "    </tr>\n",
       "    <tr>\n",
       "      <th>176</th>\n",
       "      <td>207</td>\n",
       "      <td>NaN</td>\n",
       "      <td>NaN</td>\n",
       "      <td>2024-12-12</td>\n",
       "      <td>1</td>\n",
       "      <td>Das AE ist neu aufgetreten.</td>\n",
       "      <td>Yes</td>\n",
       "      <td>Checked</td>\n",
       "      <td>Unchecked</td>\n",
       "      <td>Unchecked</td>\n",
       "      <td>...</td>\n",
       "      <td>Unchecked</td>\n",
       "      <td>NaN</td>\n",
       "      <td>Unchecked</td>\n",
       "      <td>Unchecked</td>\n",
       "      <td>Unchecked</td>\n",
       "      <td>Unchecked</td>\n",
       "      <td>Unchecked</td>\n",
       "      <td>NaN</td>\n",
       "      <td>NaN</td>\n",
       "      <td>NaN</td>\n",
       "    </tr>\n",
       "    <tr>\n",
       "      <th>177</th>\n",
       "      <td>213</td>\n",
       "      <td>NaN</td>\n",
       "      <td>NaN</td>\n",
       "      <td>2024-12-12</td>\n",
       "      <td>1</td>\n",
       "      <td>Das AE ist neu aufgetreten.</td>\n",
       "      <td>Yes</td>\n",
       "      <td>Checked</td>\n",
       "      <td>Unchecked</td>\n",
       "      <td>Unchecked</td>\n",
       "      <td>...</td>\n",
       "      <td>Unchecked</td>\n",
       "      <td>NaN</td>\n",
       "      <td>Unchecked</td>\n",
       "      <td>Unchecked</td>\n",
       "      <td>Unchecked</td>\n",
       "      <td>Unchecked</td>\n",
       "      <td>Unchecked</td>\n",
       "      <td>NaN</td>\n",
       "      <td>NaN</td>\n",
       "      <td>NaN</td>\n",
       "    </tr>\n",
       "  </tbody>\n",
       "</table>\n",
       "<p>178 rows × 363 columns</p>\n",
       "</div>"
      ],
      "text/plain": [
       "     Participant ID  Survey Identifier     Survey Timestamp  \\\n",
       "0                 3                NaN  2022-10-13 13:41:16   \n",
       "1                 4                NaN  2022-11-08 09:19:23   \n",
       "2                 5                NaN  2022-11-08 09:31:05   \n",
       "3                 6                NaN  2022-11-18 10:10:55   \n",
       "4                 7                NaN  2022-11-21 14:02:25   \n",
       "..              ...                ...                  ...   \n",
       "173             204                NaN                  NaN   \n",
       "174             205                NaN                  NaN   \n",
       "175             206                NaN                  NaN   \n",
       "176             207                NaN                  NaN   \n",
       "177             213                NaN                  NaN   \n",
       "\n",
       "    [02.01] Basics - Datum [01.01] Bewertung - CTCAE-Bewertung  \\\n",
       "0               2022-10-01                                   2   \n",
       "1               2022-10-01                                   1   \n",
       "2               2022-11-01                                   2   \n",
       "3               2022-11-01                                   1   \n",
       "4               2022-11-01                                   3   \n",
       "..                     ...                                 ...   \n",
       "173             2024-11-27                                   1   \n",
       "174             2024-12-03                                   1   \n",
       "175             2024-12-08                                   2   \n",
       "176             2024-12-12                                   1   \n",
       "177             2024-12-12                                   1   \n",
       "\n",
       "         [01.02] Wann ist das AE erstmals aufgetreten?  \\\n",
       "0    Das AE war vor dem Sport bereits vorhanden und...   \n",
       "1                          Das AE ist neu aufgetreten.   \n",
       "2    Das AE war vor dem Sport bereits vorhanden und...   \n",
       "3                          Das AE ist neu aufgetreten.   \n",
       "4                          Das AE ist neu aufgetreten.   \n",
       "..                                                 ...   \n",
       "173                        Das AE ist neu aufgetreten.   \n",
       "174  Das AE war vor dem Sport bereits vorhanden und...   \n",
       "175                        Das AE ist neu aufgetreten.   \n",
       "176                        Das AE ist neu aufgetreten.   \n",
       "177                        Das AE ist neu aufgetreten.   \n",
       "\n",
       "    [01.03] Bewertung - Glauben Sie, dass das AE mit dem Sport assoziiert ist?  \\\n",
       "0                                                   No                           \n",
       "1                                                  Yes                           \n",
       "2                                                   No                           \n",
       "3                                                   No                           \n",
       "4                                                  Yes                           \n",
       "..                                                 ...                           \n",
       "173                                                Yes                           \n",
       "174                                                Yes                           \n",
       "175                                                Yes                           \n",
       "176                                                Yes                           \n",
       "177                                                Yes                           \n",
       "\n",
       "    [02.02] Basics - Was war das AE?  (choice=Schmerzen)  \\\n",
       "0                                            Unchecked     \n",
       "1                                              Checked     \n",
       "2                                            Unchecked     \n",
       "3                                            Unchecked     \n",
       "4                                            Unchecked     \n",
       "..                                                 ...     \n",
       "173                                          Unchecked     \n",
       "174                                          Unchecked     \n",
       "175                                          Unchecked     \n",
       "176                                            Checked     \n",
       "177                                            Checked     \n",
       "\n",
       "    [02.02] Basics - Was war das AE?  (choice=Übelkeit / Erbrechen)  \\\n",
       "0                                              Checked                \n",
       "1                                            Unchecked                \n",
       "2                                            Unchecked                \n",
       "3                                              Checked                \n",
       "4                                            Unchecked                \n",
       "..                                                 ...                \n",
       "173                                          Unchecked                \n",
       "174                                          Unchecked                \n",
       "175                                            Checked                \n",
       "176                                          Unchecked                \n",
       "177                                          Unchecked                \n",
       "\n",
       "    [02.02] Basics - Was war das AE?  (choice=Oberflächliche Verletzungen)  \\\n",
       "0                                            Unchecked                       \n",
       "1                                            Unchecked                       \n",
       "2                                            Unchecked                       \n",
       "3                                            Unchecked                       \n",
       "4                                            Unchecked                       \n",
       "..                                                 ...                       \n",
       "173                                          Unchecked                       \n",
       "174                                          Unchecked                       \n",
       "175                                          Unchecked                       \n",
       "176                                          Unchecked                       \n",
       "177                                          Unchecked                       \n",
       "\n",
       "     ...  \\\n",
       "0    ...   \n",
       "1    ...   \n",
       "2    ...   \n",
       "3    ...   \n",
       "4    ...   \n",
       "..   ...   \n",
       "173  ...   \n",
       "174  ...   \n",
       "175  ...   \n",
       "176  ...   \n",
       "177  ...   \n",
       "\n",
       "    Welche motorische Hauptform dominierte die Bewegungseinheit ?  (choice=Schnelligkeit).1  \\\n",
       "0                                            Unchecked                                        \n",
       "1                                            Unchecked                                        \n",
       "2                                            Unchecked                                        \n",
       "3                                            Unchecked                                        \n",
       "4                                            Unchecked                                        \n",
       "..                                                 ...                                        \n",
       "173                                          Unchecked                                        \n",
       "174                                          Unchecked                                        \n",
       "175                                          Unchecked                                        \n",
       "176                                          Unchecked                                        \n",
       "177                                          Unchecked                                        \n",
       "\n",
       "    In welcher Phase der geplanten Sporteinheit trat das AE auf?.1  \\\n",
       "0                                                  NaN               \n",
       "1                                                  NaN               \n",
       "2                                                  NaN               \n",
       "3                                                  NaN               \n",
       "4                                                  NaN               \n",
       "..                                                 ...               \n",
       "173                                                NaN               \n",
       "174                                                NaN               \n",
       "175                                                NaN               \n",
       "176                                                NaN               \n",
       "177                                                NaN               \n",
       "\n",
       "    Welchen Trainingszustand hatte der / die Betroffene zum Zeitpunkt als das AE auftrat? (choice=Gut).1  \\\n",
       "0                                            Unchecked                                                     \n",
       "1                                            Unchecked                                                     \n",
       "2                                            Unchecked                                                     \n",
       "3                                            Unchecked                                                     \n",
       "4                                            Unchecked                                                     \n",
       "..                                                 ...                                                     \n",
       "173                                          Unchecked                                                     \n",
       "174                                          Unchecked                                                     \n",
       "175                                          Unchecked                                                     \n",
       "176                                          Unchecked                                                     \n",
       "177                                          Unchecked                                                     \n",
       "\n",
       "    Welchen Trainingszustand hatte der / die Betroffene zum Zeitpunkt als das AE auftrat? (choice=Durchschnittlich).1  \\\n",
       "0                                            Unchecked                                                                  \n",
       "1                                            Unchecked                                                                  \n",
       "2                                            Unchecked                                                                  \n",
       "3                                            Unchecked                                                                  \n",
       "4                                            Unchecked                                                                  \n",
       "..                                                 ...                                                                  \n",
       "173                                          Unchecked                                                                  \n",
       "174                                          Unchecked                                                                  \n",
       "175                                          Unchecked                                                                  \n",
       "176                                          Unchecked                                                                  \n",
       "177                                          Unchecked                                                                  \n",
       "\n",
       "    Welchen Trainingszustand hatte der / die Betroffene zum Zeitpunkt als das AE auftrat? (choice=Mäßig).1  \\\n",
       "0                                            Unchecked                                                       \n",
       "1                                            Unchecked                                                       \n",
       "2                                            Unchecked                                                       \n",
       "3                                            Unchecked                                                       \n",
       "4                                            Unchecked                                                       \n",
       "..                                                 ...                                                       \n",
       "173                                          Unchecked                                                       \n",
       "174                                          Unchecked                                                       \n",
       "175                                          Unchecked                                                       \n",
       "176                                          Unchecked                                                       \n",
       "177                                          Unchecked                                                       \n",
       "\n",
       "    Welchen Trainingszustand hatte der / die Betroffene zum Zeitpunkt als das AE auftrat? (choice=Weiß nicht).1  \\\n",
       "0                                            Unchecked                                                            \n",
       "1                                            Unchecked                                                            \n",
       "2                                            Unchecked                                                            \n",
       "3                                            Unchecked                                                            \n",
       "4                                            Unchecked                                                            \n",
       "..                                                 ...                                                            \n",
       "173                                          Unchecked                                                            \n",
       "174                                          Unchecked                                                            \n",
       "175                                          Unchecked                                                            \n",
       "176                                          Unchecked                                                            \n",
       "177                                          Unchecked                                                            \n",
       "\n",
       "    Welchen Trainingszustand hatte der / die Betroffene zum Zeitpunkt als das AE auftrat? (choice=Anmerkung).1  \\\n",
       "0                                            Unchecked                                                           \n",
       "1                                            Unchecked                                                           \n",
       "2                                            Unchecked                                                           \n",
       "3                                            Unchecked                                                           \n",
       "4                                            Unchecked                                                           \n",
       "..                                                 ...                                                           \n",
       "173                                          Unchecked                                                           \n",
       "174                                          Unchecked                                                           \n",
       "175                                          Unchecked                                                           \n",
       "176                                          Unchecked                                                           \n",
       "177                                          Unchecked                                                           \n",
       "\n",
       "    Glaubst Du, dass das AE mit dem Sport assoziiert ist? Anmerkung.1  \\\n",
       "0                                                  NaN            NaN   \n",
       "1                                                  NaN            NaN   \n",
       "2                                                  NaN            NaN   \n",
       "3                                                  NaN            NaN   \n",
       "4                                                  NaN            NaN   \n",
       "..                                                 ...            ...   \n",
       "173                                                NaN            NaN   \n",
       "174                                                NaN            NaN   \n",
       "175                                                NaN            NaN   \n",
       "176                                                NaN            NaN   \n",
       "177                                                NaN            NaN   \n",
       "\n",
       "    Complete?.2  \n",
       "0           NaN  \n",
       "1           NaN  \n",
       "2           NaN  \n",
       "3           NaN  \n",
       "4           NaN  \n",
       "..          ...  \n",
       "173         NaN  \n",
       "174         NaN  \n",
       "175         NaN  \n",
       "176         NaN  \n",
       "177         NaN  \n",
       "\n",
       "[178 rows x 363 columns]"
      ]
     },
     "execution_count": 11,
     "metadata": {},
     "output_type": "execute_result"
    }
   ],
   "source": [
    "df_csv"
   ]
  },
  {
   "cell_type": "markdown",
   "metadata": {},
   "source": [
    "## <a id='toc1_4_'></a>[condensed dataset](#toc0_)\n",
    "- take the cleansed (but structurally unchanged) dataset `df_csv` as a starting point\n",
    "- define handling for column subsets according to column types\n",
    "  - **single choice** - only 1 value is allowed per row\n",
    "  - **multi choice** - multiple values are allowed per row\n",
    "  - **misc** - all other columns that are selected to appear in the final dataset\n",
    "- apply column mapping from manual table `codebook_columns.xlsx`\n",
    "- apply value mapping for missings and unknown value\n",
    "- apply value mapping from manual table `codebook_values.xlsx`"
   ]
  },
  {
   "cell_type": "markdown",
   "metadata": {},
   "source": [
    "### <a id='toc1_4_1_'></a>[define functions](#toc0_)"
   ]
  },
  {
   "cell_type": "code",
   "execution_count": 12,
   "metadata": {},
   "outputs": [],
   "source": [
    "def condense_columns_single_choice(df, strict=False):\n",
    "    \"\"\"\n",
    "    Condenses multiple columns into a single target column, extracting specific values based on\n",
    "    the first occurrence of 'Checked' in each row. \n",
    "\n",
    "    The function processes columns named according to a pattern (e.g., 'choice=<value>') and condenses\n",
    "    them into a single column. If a column contains the value 'Checked', the corresponding value (e.g., \n",
    "    'Schmerzen', 'Muskelkater') is assigned to the new target column. If multiple 'Checked' values are \n",
    "    present, only the leftmost occurrence is used.\n",
    "\n",
    "    Parameters:\n",
    "        df (pandas.DataFrame): The input DataFrame with columns to be processed. The columns should contain\n",
    "                                values such as 'Checked' or 'Unchecked', and be named according to a \n",
    "                                pattern like '[02.02] Basics - Was war das AE?  (choice=<value>)'.\n",
    "        strict: if an error is raised if more than 1 cell is \"Checked\"\n",
    "\n",
    "    Returns:\n",
    "        pandas.DataFrame: A DataFrame with the same columns as input, but with a new target column containing \n",
    "                        the extracted values based on the first occurrence of 'Checked' in each row.\n",
    "                        The new column is named using the pattern found in the column names (e.g., '[02.02]').\n",
    "\n",
    "    Notes:\n",
    "        - If no 'Checked' value is found in a row, the target column is set to pd.NA for that row.\n",
    "        - The new column name is derived from the first part of the first input column (i.e., the substring\n",
    "        within the square brackets).\n",
    "        - Only the first 'Checked' occurrence in each row is considered; any subsequent 'Checked' cells\n",
    "        will be ignored.\n",
    "    \"\"\"\n",
    "\n",
    "    # * Extract target column name using the updated regex pattern (substring in square brackets)\n",
    "    match = re.search(r\"\\[\\d{2}\\.\\d{2}(\\.\\d{2})?\\]\", df.columns[0])\n",
    "    if not match:\n",
    "        raise ValueError(\"No substring in square brackets matching the pattern found in the first column name.\")\n",
    "    target_col_name = match.group(0)\n",
    "\n",
    "    # * Check for multiple \"checked\" cells in one row\n",
    "    columns_to_check = [col for col in df.columns if re.search(r\"\\(choice=.*\\)\", col)]\n",
    "    checked_counts = df[columns_to_check].apply(lambda row: (row.str.lower() == \"checked\").sum(), axis=1)\n",
    "\n",
    "    if strict and (checked_counts > 1).any():\n",
    "        problematic_rows = df.index[checked_counts > 1].tolist()\n",
    "        raise ValueError(f\"Multiple 'checked' values found in rows: {problematic_rows}\")\n",
    "\n",
    "    # * Create the target column with default pd.NA values\n",
    "    df[target_col_name] = pd.NA\n",
    "\n",
    "    # * Process each row and select the first \"checked\" value from left to right\n",
    "    for index, row in df.iterrows():\n",
    "        # * Loop over columns left to right to find the first \"checked\" value\n",
    "        for col in columns_to_check:\n",
    "            if row[col].lower() == \"checked\":\n",
    "                # * Extract the choice label using regex. capture group is \n",
    "                match = re.search(r\"\\(choice=(.*?)\\)\", col)\n",
    "                # match = re.search(r\"\\(choice=\\d+ (.*?)\\)\", col)\n",
    "                if match:\n",
    "                    choice_label = match.group(1)\n",
    "                    # Set the target column with the choice label for this row\n",
    "                    df.at[index, target_col_name] = choice_label\n",
    "                break  # Stop after the first \"checked\" value is found\n",
    "\n",
    "    return df.iloc[:,-1]\n",
    "\n",
    "def condense_columns_multi_choice(\n",
    "    df, \n",
    "    new_col_pattern=r\"^\\[.*?\\]\", \n",
    "    choice_pattern=r\"\\(choice=(.*?)\\)\"\n",
    "):\n",
    "    # Extract the new column name from the first column using the provided regex pattern\n",
    "    first_col = df.columns[0]\n",
    "    new_col_name = re.search(new_col_pattern, first_col).group(0) if re.search(new_col_pattern, first_col) else \"Unnamed\"\n",
    "    \n",
    "    # Extract parts from original column names using the provided choice pattern\n",
    "    extracted_parts = [\n",
    "        re.search(choice_pattern, col).group(1) if re.search(choice_pattern, col) else None\n",
    "        for col in df.columns\n",
    "    ]\n",
    "\n",
    "    # Calculate the new column using a bitmask\n",
    "    def calculate_bitmask(row):\n",
    "        bitmask = 0\n",
    "        for i, col in enumerate(df.columns):\n",
    "            if row[col] == \"Checked\":\n",
    "                bitmask += 2**i\n",
    "        return bitmask\n",
    "\n",
    "    df[new_col_name] = df.apply(calculate_bitmask, axis=1)\n",
    "\n",
    "    # Example placeholder for a function to add additional labels or transformations\n",
    "    # Replace `add_bitmask_label` with your actual logic if needed\n",
    "    # add_bitmask_label(df, new_col_name, extracted_parts)\n",
    "\n",
    "    add_bitmask_label(df, new_col_name, extracted_parts)\n",
    "    return df.iloc[:,-1]\n"
   ]
  },
  {
   "cell_type": "markdown",
   "metadata": {},
   "source": [
    "### <a id='toc1_4_2_'></a>[define single, multi and misc columns](#toc0_)"
   ]
  },
  {
   "cell_type": "code",
   "execution_count": 13,
   "metadata": {},
   "outputs": [],
   "source": [
    "\n",
    "stubs_single = set((\n",
    "'[03.01.02]',\n",
    "'[03.15.01]',\n",
    "'[03.10]',\n",
    "))\n",
    "\n",
    "\n",
    "stubs_multi = set((\n",
    "'[02.02]', '[02.03]', '[02.04]', \n",
    "'[03.03.02]', '[03.03.01]', '[03.06.01]',\n",
    "'[03.07.01]', '[03.08.01]', \n",
    "'[03.10.01]', '[03.10.02]',\n",
    "'[03.11.01]', '[03.12.01]', '[03.14.01]',\n",
    "'[03.17.01]', '[03.14]',\n",
    "'[05.07]', '[05.09]',\n",
    "))\n",
    "\n",
    "stubs_misc= set((\n",
    "'Participant ID', \n",
    "'[01.02]','[01.03]', '[03.01]', '[03.02]', '[03.03]',\n",
    "'[03.04]', '[03.05]', '[03.06]', '[03.07]', '[03.08]', '[03.09]',\n",
    "'[03.11]', '[03.12]', '[03.13]', '[03.15]', '[03.16]', '[03.17]', '[05.01]',\n",
    "'[05.02]', '[05.03]', '[05.04]', '[05.05]', '[05.06]', '[05.08]',\n",
    "'[03.01.01]', '[03.02.01]',\n",
    "'[03.02.02]',\n",
    "'[03.06.02]', '[03.07.02]', '[03.08.02]',\n",
    "'[03.09.01]', '[03.09.02]', '[03.11.02]',\n",
    "'[03.12.02]', '[03.13.01]', '[03.13.02]', \n",
    "'[03.15.02]', '[03.17.02]',\n",
    "\n",
    "'[02.01]', '[01.01]', '[01.02]', '[03.01]',\n",
    "'[03.02]', '[03.03]', '[03.04]', '[03.07]',\n",
    "'[03.08]', '[03.08.02]',\n",
    "'[03.09]', '[03.09.01]', '[03.09.02]', '[03.11]', '[03.12]',\n",
    "'[03.13]', '[03.13.01]', '[03.13.02]', '[03.17]', '[05.01]', '[05.02]',\n",
    "'[05.03]', '[05.04]', '[05.05]', '[05.06]', '[05.08]',\n",
    "'[03.18]',\n",
    "))\n",
    "\n",
    "if stubs_misc & stubs_multi or stubs_misc & stubs_single or stubs_single & stubs_multi:\n",
    "    raise ValueError(\"stubs must be disjoint\")\n",
    "\n",
    "cols_single = hlp.find_cols(df_csv.columns, stubs_single)\n",
    "cols_multi = hlp.find_cols(df_csv.columns, stubs_multi)\n",
    "cols_misc = hlp.find_cols(df_csv.columns, stubs_misc)\n"
   ]
  },
  {
   "cell_type": "code",
   "execution_count": 14,
   "metadata": {},
   "outputs": [],
   "source": [
    "# # * testing\n",
    "# df_csv.find_cols(stubs=[\"06.01\"])"
   ]
  },
  {
   "cell_type": "code",
   "execution_count": 15,
   "metadata": {},
   "outputs": [
    {
     "name": "stdout",
     "output_type": "stream",
     "text": [
      "['[03.01.02] Folgen - Wie lange dauerten die Schmerzen an? (choice=Schmerzen am gleichen Tag)', '[03.01.02] Folgen - Wie lange dauerten die Schmerzen an? (choice=Schmerzen bis zum Folgetag)', '[03.01.02] Folgen - Wie lange dauerten die Schmerzen an? (choice=Schmerzen, die mindestens 3 Tage anhielten)', '[03.01.02] Folgen - Wie lange dauerten die Schmerzen an? (choice=Weiß nicht)']\n",
      "['[03.15.01] Folgen - War die gesamte Handlungsweise bei diesem AE rein pädagogischer Natur? (choice=Ja)', '[03.15.01] Folgen - War die gesamte Handlungsweise bei diesem AE rein pädagogischer Natur? (choice=Nein)']\n",
      "['[03.10] Folgen - Wurde die Situation von einer Person mit entsprechender Expertise direkt geprüft?']\n"
     ]
    },
    {
     "data": {
      "text/html": [
       "<div>\n",
       "<style scoped>\n",
       "    .dataframe tbody tr th:only-of-type {\n",
       "        vertical-align: middle;\n",
       "    }\n",
       "\n",
       "    .dataframe tbody tr th {\n",
       "        vertical-align: top;\n",
       "    }\n",
       "\n",
       "    .dataframe thead th {\n",
       "        text-align: right;\n",
       "    }\n",
       "</style>\n",
       "<table border=\"1\" class=\"dataframe\">\n",
       "  <thead>\n",
       "    <tr style=\"text-align: right;\">\n",
       "      <th></th>\n",
       "      <th>[03.01.02]</th>\n",
       "      <th>[03.15.01]</th>\n",
       "      <th>[03.10]</th>\n",
       "    </tr>\n",
       "  </thead>\n",
       "  <tbody>\n",
       "    <tr>\n",
       "      <th>0</th>\n",
       "      <td>&lt;NA&gt;</td>\n",
       "      <td>&lt;NA&gt;</td>\n",
       "      <td>&lt;NA&gt;</td>\n",
       "    </tr>\n",
       "    <tr>\n",
       "      <th>1</th>\n",
       "      <td>Schmerzen am gleichen Tag</td>\n",
       "      <td>&lt;NA&gt;</td>\n",
       "      <td>&lt;NA&gt;</td>\n",
       "    </tr>\n",
       "    <tr>\n",
       "      <th>2</th>\n",
       "      <td>&lt;NA&gt;</td>\n",
       "      <td>&lt;NA&gt;</td>\n",
       "      <td>&lt;NA&gt;</td>\n",
       "    </tr>\n",
       "    <tr>\n",
       "      <th>3</th>\n",
       "      <td>&lt;NA&gt;</td>\n",
       "      <td>&lt;NA&gt;</td>\n",
       "      <td>&lt;NA&gt;</td>\n",
       "    </tr>\n",
       "    <tr>\n",
       "      <th>4</th>\n",
       "      <td>Schmerzen, die mindestens 3 Tage anhielten</td>\n",
       "      <td>Ja</td>\n",
       "      <td>&lt;NA&gt;</td>\n",
       "    </tr>\n",
       "    <tr>\n",
       "      <th>...</th>\n",
       "      <td>...</td>\n",
       "      <td>...</td>\n",
       "      <td>...</td>\n",
       "    </tr>\n",
       "    <tr>\n",
       "      <th>173</th>\n",
       "      <td>&lt;NA&gt;</td>\n",
       "      <td>&lt;NA&gt;</td>\n",
       "      <td>&lt;NA&gt;</td>\n",
       "    </tr>\n",
       "    <tr>\n",
       "      <th>174</th>\n",
       "      <td>&lt;NA&gt;</td>\n",
       "      <td>&lt;NA&gt;</td>\n",
       "      <td>&lt;NA&gt;</td>\n",
       "    </tr>\n",
       "    <tr>\n",
       "      <th>175</th>\n",
       "      <td>&lt;NA&gt;</td>\n",
       "      <td>&lt;NA&gt;</td>\n",
       "      <td>&lt;NA&gt;</td>\n",
       "    </tr>\n",
       "    <tr>\n",
       "      <th>176</th>\n",
       "      <td>&lt;NA&gt;</td>\n",
       "      <td>&lt;NA&gt;</td>\n",
       "      <td>&lt;NA&gt;</td>\n",
       "    </tr>\n",
       "    <tr>\n",
       "      <th>177</th>\n",
       "      <td>Schmerzen, die mindestens 3 Tage anhielten</td>\n",
       "      <td>&lt;NA&gt;</td>\n",
       "      <td>&lt;NA&gt;</td>\n",
       "    </tr>\n",
       "  </tbody>\n",
       "</table>\n",
       "<p>178 rows × 3 columns</p>\n",
       "</div>"
      ],
      "text/plain": [
       "                                     [03.01.02] [03.15.01] [03.10]\n",
       "0                                          <NA>       <NA>    <NA>\n",
       "1                     Schmerzen am gleichen Tag       <NA>    <NA>\n",
       "2                                          <NA>       <NA>    <NA>\n",
       "3                                          <NA>       <NA>    <NA>\n",
       "4    Schmerzen, die mindestens 3 Tage anhielten         Ja    <NA>\n",
       "..                                          ...        ...     ...\n",
       "173                                        <NA>       <NA>    <NA>\n",
       "174                                        <NA>       <NA>    <NA>\n",
       "175                                        <NA>       <NA>    <NA>\n",
       "176                                        <NA>       <NA>    <NA>\n",
       "177  Schmerzen, die mindestens 3 Tage anhielten       <NA>    <NA>\n",
       "\n",
       "[178 rows x 3 columns]"
      ]
     },
     "execution_count": 15,
     "metadata": {},
     "output_type": "execute_result"
    }
   ],
   "source": [
    "# # * derive single\n",
    "df_csv_single = pd.DataFrame()\n",
    "for stub in stubs_single:\n",
    "    cols = [col for col in df_csv.columns if stub in col]\n",
    "    print(cols)\n",
    "\n",
    "    df = pd.DataFrame(df_csv[cols])\n",
    "    ser = condense_columns_single_choice(df)\n",
    "    df_csv_single[stub] = ser\n",
    "\n",
    "df_csv_single"
   ]
  },
  {
   "cell_type": "code",
   "execution_count": 16,
   "metadata": {},
   "outputs": [
    {
     "data": {
      "text/html": [
       "<div>\n",
       "<style scoped>\n",
       "    .dataframe tbody tr th:only-of-type {\n",
       "        vertical-align: middle;\n",
       "    }\n",
       "\n",
       "    .dataframe tbody tr th {\n",
       "        vertical-align: top;\n",
       "    }\n",
       "\n",
       "    .dataframe thead th {\n",
       "        text-align: right;\n",
       "    }\n",
       "</style>\n",
       "<table border=\"1\" class=\"dataframe\">\n",
       "  <thead>\n",
       "    <tr style=\"text-align: right;\">\n",
       "      <th></th>\n",
       "      <th>[02.03]</th>\n",
       "      <th>[03.07.01]</th>\n",
       "      <th>[03.14.01]</th>\n",
       "      <th>[03.08.01]</th>\n",
       "      <th>[03.03.02]</th>\n",
       "      <th>[03.12.01]</th>\n",
       "      <th>[03.14]</th>\n",
       "      <th>[03.10.01]</th>\n",
       "      <th>[03.17.01]</th>\n",
       "      <th>[03.11.01]</th>\n",
       "      <th>[05.09]</th>\n",
       "      <th>[02.04]</th>\n",
       "      <th>[03.03.01]</th>\n",
       "      <th>[02.02]</th>\n",
       "      <th>[03.10.02]</th>\n",
       "      <th>[05.07]</th>\n",
       "      <th>[03.06.01]</th>\n",
       "    </tr>\n",
       "  </thead>\n",
       "  <tbody>\n",
       "    <tr>\n",
       "      <th>0</th>\n",
       "      <td>Physische Belastung|Med. Therapie</td>\n",
       "      <td>-</td>\n",
       "      <td>-</td>\n",
       "      <td>Bei dem Betroffenen selbst</td>\n",
       "      <td>-</td>\n",
       "      <td>-</td>\n",
       "      <td>-</td>\n",
       "      <td>Medizin</td>\n",
       "      <td>-</td>\n",
       "      <td>-</td>\n",
       "      <td>2 Durchschnittlich</td>\n",
       "      <td>Innere Medizin</td>\n",
       "      <td>-</td>\n",
       "      <td>Übelkeit / Erbrechen</td>\n",
       "      <td>-</td>\n",
       "      <td>Koordination</td>\n",
       "      <td>-</td>\n",
       "    </tr>\n",
       "    <tr>\n",
       "      <th>1</th>\n",
       "      <td>Koordinationsprobleme</td>\n",
       "      <td>-</td>\n",
       "      <td>Übungsauswahl|Intensität</td>\n",
       "      <td>Bei dem Betroffenen selbst|Beim Behandlungsteam</td>\n",
       "      <td>-</td>\n",
       "      <td>-</td>\n",
       "      <td>-</td>\n",
       "      <td>-</td>\n",
       "      <td>-</td>\n",
       "      <td>-</td>\n",
       "      <td>1 Gut</td>\n",
       "      <td>Rücken|Gesäß</td>\n",
       "      <td>-</td>\n",
       "      <td>Schmerzen</td>\n",
       "      <td>-</td>\n",
       "      <td>Koordination</td>\n",
       "      <td>-</td>\n",
       "    </tr>\n",
       "    <tr>\n",
       "      <th>2</th>\n",
       "      <td>Med. Therapie</td>\n",
       "      <td>-</td>\n",
       "      <td>-</td>\n",
       "      <td>Bei dem Betroffenen selbst</td>\n",
       "      <td>Innerhalb der ersten 24 Stunden</td>\n",
       "      <td>-</td>\n",
       "      <td>-</td>\n",
       "      <td>Pflege</td>\n",
       "      <td>-</td>\n",
       "      <td>-</td>\n",
       "      <td>3 Mäßig</td>\n",
       "      <td>Innere Medizin</td>\n",
       "      <td>Medikamentengabe oral</td>\n",
       "      <td>Kreislaufprobleme</td>\n",
       "      <td>-</td>\n",
       "      <td>Koordination</td>\n",
       "      <td>-</td>\n",
       "    </tr>\n",
       "  </tbody>\n",
       "</table>\n",
       "</div>"
      ],
      "text/plain": [
       "                             [02.03] [03.07.01]                [03.14.01]  \\\n",
       "0  Physische Belastung|Med. Therapie          -                         -   \n",
       "1              Koordinationsprobleme          -  Übungsauswahl|Intensität   \n",
       "2                      Med. Therapie          -                         -   \n",
       "\n",
       "                                        [03.08.01]  \\\n",
       "0                       Bei dem Betroffenen selbst   \n",
       "1  Bei dem Betroffenen selbst|Beim Behandlungsteam   \n",
       "2                       Bei dem Betroffenen selbst   \n",
       "\n",
       "                        [03.03.02] [03.12.01] [03.14] [03.10.01] [03.17.01]  \\\n",
       "0                                -          -       -    Medizin          -   \n",
       "1                                -          -       -          -          -   \n",
       "2  Innerhalb der ersten 24 Stunden          -       -     Pflege          -   \n",
       "\n",
       "  [03.11.01]             [05.09]         [02.04]             [03.03.01]  \\\n",
       "0          -  2 Durchschnittlich  Innere Medizin                      -   \n",
       "1          -               1 Gut    Rücken|Gesäß                      -   \n",
       "2          -             3 Mäßig  Innere Medizin  Medikamentengabe oral   \n",
       "\n",
       "                [02.02] [03.10.02]       [05.07] [03.06.01]  \n",
       "0  Übelkeit / Erbrechen          -  Koordination          -  \n",
       "1             Schmerzen          -  Koordination          -  \n",
       "2     Kreislaufprobleme          -  Koordination          -  "
      ]
     },
     "execution_count": 16,
     "metadata": {},
     "output_type": "execute_result"
    }
   ],
   "source": [
    "# # * derive multi\n",
    "df_csv_multi = pd.DataFrame()\n",
    "for stub in stubs_multi:\n",
    "    cols = [col for col in df_csv.columns if stub in col]\n",
    "    # print(cols)\n",
    "\n",
    "    df = pd.DataFrame(df_csv[cols])\n",
    "    ser = condense_columns_multi_choice(df)\n",
    "    df_csv_multi[stub] = ser\n",
    "\n",
    "df_csv_multi[:3]"
   ]
  },
  {
   "cell_type": "markdown",
   "metadata": {},
   "source": [
    "### <a id='toc1_4_3_'></a>[concat condensed dataset from subsets](#toc0_)"
   ]
  },
  {
   "cell_type": "code",
   "execution_count": 17,
   "metadata": {},
   "outputs": [
    {
     "data": {
      "text/html": [
       "<div>\n",
       "<style scoped>\n",
       "    .dataframe tbody tr th:only-of-type {\n",
       "        vertical-align: middle;\n",
       "    }\n",
       "\n",
       "    .dataframe tbody tr th {\n",
       "        vertical-align: top;\n",
       "    }\n",
       "\n",
       "    .dataframe thead th {\n",
       "        text-align: right;\n",
       "    }\n",
       "</style>\n",
       "<table border=\"1\" class=\"dataframe\">\n",
       "  <thead>\n",
       "    <tr style=\"text-align: right;\">\n",
       "      <th></th>\n",
       "      <th>Participant ID</th>\n",
       "      <th>[01.01] Bewertung - CTCAE-Bewertung</th>\n",
       "      <th>[01.02] Wann ist das AE erstmals aufgetreten?</th>\n",
       "      <th>[01.03] Bewertung - Glauben Sie, dass das AE mit dem Sport assoziiert ist?</th>\n",
       "      <th>[02.01] Basics - Datum</th>\n",
       "      <th>[02.02]</th>\n",
       "      <th>[02.03]</th>\n",
       "      <th>[02.04]</th>\n",
       "      <th>[03.01.01] Folgen - Schmerzskala</th>\n",
       "      <th>[03.01.02]</th>\n",
       "      <th>...</th>\n",
       "      <th>[03.18]  Folgen - Gibt es noch weitere relevante Folgen?</th>\n",
       "      <th>[05.01] Rahmenbedingung - In welcher Phase der Therapie trat das AE auf?</th>\n",
       "      <th>[05.02] Rahmenbedingungen - In welcher Gruppengröße fand die Sporteinheit statt, in der das AE auftrat?</th>\n",
       "      <th>[05.03] Rahmenbedingungen - Wie alt war der/die Betroffene zum Zeitpunkt des AE?</th>\n",
       "      <th>[05.04] Rahmenbedingungen - Fand das Sportprogramm online statt?</th>\n",
       "      <th>[05.05] Rahmenbedingungen - Fand das AE im Rahmen einer Sporttestung statt?</th>\n",
       "      <th>[05.06] Rahmenbedingungen - In welchem Setting trat das AE auf?</th>\n",
       "      <th>[05.07]</th>\n",
       "      <th>[05.08] Rahmenbedingungen - In welcher Phase der geplanten Sporteinheit trat das AE auf?</th>\n",
       "      <th>[05.09]</th>\n",
       "    </tr>\n",
       "  </thead>\n",
       "  <tbody>\n",
       "    <tr>\n",
       "      <th>0</th>\n",
       "      <td>3</td>\n",
       "      <td>2</td>\n",
       "      <td>Das AE war vor dem Sport bereits vorhanden und...</td>\n",
       "      <td>No</td>\n",
       "      <td>2022-10-01</td>\n",
       "      <td>Übelkeit / Erbrechen</td>\n",
       "      <td>Physische Belastung|Med. Therapie</td>\n",
       "      <td>Innere Medizin</td>\n",
       "      <td>NaN</td>\n",
       "      <td>&lt;NA&gt;</td>\n",
       "      <td>...</td>\n",
       "      <td>NaN</td>\n",
       "      <td>Akuttherapie</td>\n",
       "      <td>Einzel</td>\n",
       "      <td>10 bis 14 Jahre</td>\n",
       "      <td>No</td>\n",
       "      <td>No</td>\n",
       "      <td>Klinikflur</td>\n",
       "      <td>Koordination</td>\n",
       "      <td>2. Hälfte</td>\n",
       "      <td>2 Durchschnittlich</td>\n",
       "    </tr>\n",
       "    <tr>\n",
       "      <th>1</th>\n",
       "      <td>4</td>\n",
       "      <td>1</td>\n",
       "      <td>Das AE ist neu aufgetreten.</td>\n",
       "      <td>Yes</td>\n",
       "      <td>2022-10-01</td>\n",
       "      <td>Schmerzen</td>\n",
       "      <td>Koordinationsprobleme</td>\n",
       "      <td>Rücken|Gesäß</td>\n",
       "      <td>2.0</td>\n",
       "      <td>Schmerzen am gleichen Tag</td>\n",
       "      <td>...</td>\n",
       "      <td>NaN</td>\n",
       "      <td>Akuttherapie</td>\n",
       "      <td>Einzel</td>\n",
       "      <td>06 bis 9 Jahre</td>\n",
       "      <td>No</td>\n",
       "      <td>No</td>\n",
       "      <td>Klinikflur</td>\n",
       "      <td>Koordination</td>\n",
       "      <td>1. Hälfte</td>\n",
       "      <td>1 Gut</td>\n",
       "    </tr>\n",
       "    <tr>\n",
       "      <th>2</th>\n",
       "      <td>5</td>\n",
       "      <td>2</td>\n",
       "      <td>Das AE war vor dem Sport bereits vorhanden und...</td>\n",
       "      <td>No</td>\n",
       "      <td>2022-11-01</td>\n",
       "      <td>Kreislaufprobleme</td>\n",
       "      <td>Med. Therapie</td>\n",
       "      <td>Innere Medizin</td>\n",
       "      <td>NaN</td>\n",
       "      <td>&lt;NA&gt;</td>\n",
       "      <td>...</td>\n",
       "      <td>NaN</td>\n",
       "      <td>Akuttherapie</td>\n",
       "      <td>Einzel</td>\n",
       "      <td>10 bis 14 Jahre</td>\n",
       "      <td>No</td>\n",
       "      <td>No</td>\n",
       "      <td>Pat.-Zimmer</td>\n",
       "      <td>Koordination</td>\n",
       "      <td>2. Hälfte</td>\n",
       "      <td>3 Mäßig</td>\n",
       "    </tr>\n",
       "  </tbody>\n",
       "</table>\n",
       "<p>3 rows × 62 columns</p>\n",
       "</div>"
      ],
      "text/plain": [
       "   Participant ID [01.01] Bewertung - CTCAE-Bewertung  \\\n",
       "0               3                                   2   \n",
       "1               4                                   1   \n",
       "2               5                                   2   \n",
       "\n",
       "       [01.02] Wann ist das AE erstmals aufgetreten?  \\\n",
       "0  Das AE war vor dem Sport bereits vorhanden und...   \n",
       "1                        Das AE ist neu aufgetreten.   \n",
       "2  Das AE war vor dem Sport bereits vorhanden und...   \n",
       "\n",
       "  [01.03] Bewertung - Glauben Sie, dass das AE mit dem Sport assoziiert ist?  \\\n",
       "0                                                 No                           \n",
       "1                                                Yes                           \n",
       "2                                                 No                           \n",
       "\n",
       "  [02.01] Basics - Datum               [02.02]  \\\n",
       "0             2022-10-01  Übelkeit / Erbrechen   \n",
       "1             2022-10-01             Schmerzen   \n",
       "2             2022-11-01     Kreislaufprobleme   \n",
       "\n",
       "                             [02.03]         [02.04]  \\\n",
       "0  Physische Belastung|Med. Therapie  Innere Medizin   \n",
       "1              Koordinationsprobleme    Rücken|Gesäß   \n",
       "2                      Med. Therapie  Innere Medizin   \n",
       "\n",
       "   [03.01.01] Folgen - Schmerzskala                 [03.01.02]  ...  \\\n",
       "0                               NaN                       <NA>  ...   \n",
       "1                               2.0  Schmerzen am gleichen Tag  ...   \n",
       "2                               NaN                       <NA>  ...   \n",
       "\n",
       "  [03.18]  Folgen - Gibt es noch weitere relevante Folgen?  \\\n",
       "0                                                NaN         \n",
       "1                                                NaN         \n",
       "2                                                NaN         \n",
       "\n",
       "  [05.01] Rahmenbedingung - In welcher Phase der Therapie trat das AE auf?  \\\n",
       "0                                       Akuttherapie                         \n",
       "1                                       Akuttherapie                         \n",
       "2                                       Akuttherapie                         \n",
       "\n",
       "  [05.02] Rahmenbedingungen - In welcher Gruppengröße fand die Sporteinheit statt, in der das AE auftrat?  \\\n",
       "0                                             Einzel                                                        \n",
       "1                                             Einzel                                                        \n",
       "2                                             Einzel                                                        \n",
       "\n",
       "  [05.03] Rahmenbedingungen - Wie alt war der/die Betroffene zum Zeitpunkt des AE?  \\\n",
       "0                                    10 bis 14 Jahre                                 \n",
       "1                                     06 bis 9 Jahre                                 \n",
       "2                                    10 bis 14 Jahre                                 \n",
       "\n",
       "  [05.04] Rahmenbedingungen - Fand das Sportprogramm online statt?  \\\n",
       "0                                                 No                 \n",
       "1                                                 No                 \n",
       "2                                                 No                 \n",
       "\n",
       "  [05.05] Rahmenbedingungen - Fand das AE im Rahmen einer Sporttestung statt?  \\\n",
       "0                                                 No                            \n",
       "1                                                 No                            \n",
       "2                                                 No                            \n",
       "\n",
       "  [05.06] Rahmenbedingungen - In welchem Setting trat das AE auf?  \\\n",
       "0                                         Klinikflur                \n",
       "1                                         Klinikflur                \n",
       "2                                        Pat.-Zimmer                \n",
       "\n",
       "        [05.07]  \\\n",
       "0  Koordination   \n",
       "1  Koordination   \n",
       "2  Koordination   \n",
       "\n",
       "  [05.08] Rahmenbedingungen - In welcher Phase der geplanten Sporteinheit trat das AE auf?  \\\n",
       "0                                          2. Hälfte                                         \n",
       "1                                          1. Hälfte                                         \n",
       "2                                          2. Hälfte                                         \n",
       "\n",
       "              [05.09]  \n",
       "0  2 Durchschnittlich  \n",
       "1               1 Gut  \n",
       "2             3 Mäßig  \n",
       "\n",
       "[3 rows x 62 columns]"
      ]
     },
     "metadata": {},
     "output_type": "display_data"
    }
   ],
   "source": [
    "# # * save original columns as txt\n",
    "cols_all = sorted(cols_single + cols_multi + cols_misc)\n",
    "\n",
    "if ENABLE_UPDATE:\n",
    "    pd.DataFrame(cols_all).to_csv(dir_data_out/\"df_csv_condensed_columns.txt\", index=False, sep=\";\", header=False)\n",
    "\n",
    "# * all columns\n",
    "df_csv_condensed = pd.concat(\n",
    "    [\n",
    "        df_csv[cols_misc],\n",
    "        df_csv_single,\n",
    "        df_csv_multi,\n",
    "    ], \n",
    "    axis=1,\n",
    ").sort_index(axis=1)\n",
    "display(df_csv_condensed[:3])\n",
    "\n",
    "# # ! prevent duplicate column names\n",
    "if df_csv_condensed.columns.duplicated().any():\n",
    "    raise ValueError(\"duplicated columns\")"
   ]
  },
  {
   "cell_type": "markdown",
   "metadata": {},
   "source": [
    "### <a id='toc1_4_4_'></a>[create manual table for mapping](#toc0_)"
   ]
  },
  {
   "cell_type": "code",
   "execution_count": 18,
   "metadata": {},
   "outputs": [],
   "source": [
    "if ENABLE_UPDATE and False:\n",
    "\n",
    "    # * have all columns but remove choices from column names, isolate code\n",
    "    df_csv_cols = (\n",
    "        pd.DataFrame(df_csv.columns, columns=[\"col\"])\n",
    "        .assign(\n",
    "            col_code=lambda x: x[\"col\"].str.extract(REGEX_CODE1),\n",
    "            col_clean=lambda x: x[\"col\"].str.replace(REGEX_CHOICE, \"\", regex=True),\n",
    "        )\n",
    "    )\n",
    "    display(df_csv_cols[:3])\n",
    "\n",
    "    # * group and set up foe manual renaming\n",
    "    df_csv_cols_condensed = (df_csv_cols\n",
    "        .assign(cnt=1)\n",
    "        .groupby([\"col_clean\",\"col_code\"], as_index=False, dropna=False)[\"cnt\"].sum()\n",
    "    )\n",
    "    display(df_csv_cols_condensed[:3])\n",
    "\n",
    "\n",
    "    df_csv_cols_condensed.assign(col_new=lambda x: x[\"col_code\"]).to_excel(dir_data_out/\"codebook_columns.xlsx\", index=False)\n",
    "    # df_csv_cols_condensed.assign(col_new=lambda x: x[\"col_code\"]).to_excel(dir_data_out/\"df_csv_cols.ods\", index=False, engine=\"odf\")\n"
   ]
  },
  {
   "cell_type": "markdown",
   "metadata": {},
   "source": [
    "### <a id='toc1_4_5_'></a>[column mapping from codebook](#toc0_)\n",
    "- in `codebook_columns.xlsx`\n",
    "  - col names in `col_clean` (full label) -> `col_final`\n",
    "  - col names in `col_code` (code only) -> `col_new`"
   ]
  },
  {
   "cell_type": "code",
   "execution_count": 19,
   "metadata": {},
   "outputs": [
    {
     "data": {
      "text/html": [
       "<div>\n",
       "<style scoped>\n",
       "    .dataframe tbody tr th:only-of-type {\n",
       "        vertical-align: middle;\n",
       "    }\n",
       "\n",
       "    .dataframe tbody tr th {\n",
       "        vertical-align: top;\n",
       "    }\n",
       "\n",
       "    .dataframe thead th {\n",
       "        text-align: right;\n",
       "    }\n",
       "</style>\n",
       "<table border=\"1\" class=\"dataframe\">\n",
       "  <thead>\n",
       "    <tr style=\"text-align: right;\">\n",
       "      <th></th>\n",
       "      <th>col_clean</th>\n",
       "      <th>col_code</th>\n",
       "      <th>cnt</th>\n",
       "      <th>col_new</th>\n",
       "      <th>col_aux1</th>\n",
       "      <th>col_aux2</th>\n",
       "      <th>col_final</th>\n",
       "    </tr>\n",
       "  </thead>\n",
       "  <tbody>\n",
       "    <tr>\n",
       "      <th>16</th>\n",
       "      <td>Participant ID</td>\n",
       "      <td>NaN</td>\n",
       "      <td>1.0</td>\n",
       "      <td>Participant ID</td>\n",
       "      <td>NaN</td>\n",
       "      <td>NaN</td>\n",
       "      <td>[00.00] ParticipantID</td>\n",
       "    </tr>\n",
       "    <tr>\n",
       "      <th>42</th>\n",
       "      <td>[01.01] Bewertung - CTCAE-Bewertung</td>\n",
       "      <td>[01.01]</td>\n",
       "      <td>1.0</td>\n",
       "      <td>CTCAE</td>\n",
       "      <td>NaN</td>\n",
       "      <td>NaN</td>\n",
       "      <td>[01.01] CTCAE</td>\n",
       "    </tr>\n",
       "    <tr>\n",
       "      <th>43</th>\n",
       "      <td>[01.02] Wann ist das AE erstmals aufgetreten?</td>\n",
       "      <td>[01.02]</td>\n",
       "      <td>1.0</td>\n",
       "      <td>Datum_AE</td>\n",
       "      <td>NaN</td>\n",
       "      <td>NaN</td>\n",
       "      <td>[01.02] Date</td>\n",
       "    </tr>\n",
       "    <tr>\n",
       "      <th>44</th>\n",
       "      <td>[01.03] Bewertung - Glauben Sie, dass das AE m...</td>\n",
       "      <td>[01.03]</td>\n",
       "      <td>1.0</td>\n",
       "      <td>Sportassoziation</td>\n",
       "      <td>NaN</td>\n",
       "      <td>NaN</td>\n",
       "      <td>[01.03] Exercise-related</td>\n",
       "    </tr>\n",
       "    <tr>\n",
       "      <th>45</th>\n",
       "      <td>[02.01] Basics - Datum</td>\n",
       "      <td>[02.01]</td>\n",
       "      <td>1.0</td>\n",
       "      <td>Datum_Aufnahme</td>\n",
       "      <td>NaN</td>\n",
       "      <td>NaN</td>\n",
       "      <td>[02.01] CreatedOn</td>\n",
       "    </tr>\n",
       "    <tr>\n",
       "      <th>46</th>\n",
       "      <td>[02.02] Basics - Was war das AE?</td>\n",
       "      <td>[02.02]</td>\n",
       "      <td>16.0</td>\n",
       "      <td>Art</td>\n",
       "      <td>NaN</td>\n",
       "      <td>NaN</td>\n",
       "      <td>[02.02] Type</td>\n",
       "    </tr>\n",
       "    <tr>\n",
       "      <th>47</th>\n",
       "      <td>[02.03] Basics - Was war der Auslöser des AEs?</td>\n",
       "      <td>[02.03]</td>\n",
       "      <td>8.0</td>\n",
       "      <td>Auslösser</td>\n",
       "      <td>NaN</td>\n",
       "      <td>NaN</td>\n",
       "      <td>[02.03] Trigger</td>\n",
       "    </tr>\n",
       "    <tr>\n",
       "      <th>48</th>\n",
       "      <td>[02.04] Basics - Welches Körperteil ist betrof...</td>\n",
       "      <td>[02.04]</td>\n",
       "      <td>13.0</td>\n",
       "      <td>Körperteil</td>\n",
       "      <td>NaN</td>\n",
       "      <td>NaN</td>\n",
       "      <td>[02.04] Affected body parts</td>\n",
       "    </tr>\n",
       "    <tr>\n",
       "      <th>51</th>\n",
       "      <td>[03.01] Folgen - Sind Schmerzen aufgetreten?</td>\n",
       "      <td>[03.01]</td>\n",
       "      <td>1.0</td>\n",
       "      <td>Schmerzen_Folge</td>\n",
       "      <td>NaN</td>\n",
       "      <td>NaN</td>\n",
       "      <td>[03.01] Pain</td>\n",
       "    </tr>\n",
       "    <tr>\n",
       "      <th>54</th>\n",
       "      <td>[03.02] Folgen - Kam es zu einem Krankenhausau...</td>\n",
       "      <td>[03.02]</td>\n",
       "      <td>1.0</td>\n",
       "      <td>Krankenhaus_Folge</td>\n",
       "      <td>NaN</td>\n",
       "      <td>NaN</td>\n",
       "      <td>[03.02] With hospitalization</td>\n",
       "    </tr>\n",
       "    <tr>\n",
       "      <th>57</th>\n",
       "      <td>[03.03] - Folgen - Kam es zu einer medizinisch...</td>\n",
       "      <td>[03.03]</td>\n",
       "      <td>1.0</td>\n",
       "      <td>Med.Weiterbehandlung_Folge</td>\n",
       "      <td>NaN</td>\n",
       "      <td>NaN</td>\n",
       "      <td>[03.03] Medical follow-up treatment</td>\n",
       "    </tr>\n",
       "    <tr>\n",
       "      <th>60</th>\n",
       "      <td>[03.04] Folgen - Kam es zu einer deutlichen Ve...</td>\n",
       "      <td>[03.04]</td>\n",
       "      <td>1.0</td>\n",
       "      <td>Therapieprotokoll_Folge</td>\n",
       "      <td>NaN</td>\n",
       "      <td>NaN</td>\n",
       "      <td>[03.04] With delayed therapy protocol</td>\n",
       "    </tr>\n",
       "    <tr>\n",
       "      <th>61</th>\n",
       "      <td>[03.05] Folgen - Kam es zu lebensnotwendigen I...</td>\n",
       "      <td>[03.05]</td>\n",
       "      <td>1.0</td>\n",
       "      <td>lebensnotwendigeIntenvention_Folge</td>\n",
       "      <td>NaN</td>\n",
       "      <td>NaN</td>\n",
       "      <td>[03.05] Life-saving intervention</td>\n",
       "    </tr>\n",
       "    <tr>\n",
       "      <th>66</th>\n",
       "      <td>[03.06] Folgen - Kam es zu einem erhöhten Pfle...</td>\n",
       "      <td>NaN</td>\n",
       "      <td>1.0</td>\n",
       "      <td>Pflege_Folge</td>\n",
       "      <td>NaN</td>\n",
       "      <td>NaN</td>\n",
       "      <td>[03.06] Increased care needs</td>\n",
       "    </tr>\n",
       "    <tr>\n",
       "      <th>69</th>\n",
       "      <td>[03.07] Konsequenzen - Mussten Medikamenten ei...</td>\n",
       "      <td>[03.07]</td>\n",
       "      <td>1.0</td>\n",
       "      <td>Medikamente_Folge</td>\n",
       "      <td>NaN</td>\n",
       "      <td>NaN</td>\n",
       "      <td>[03.07] With medication administration</td>\n",
       "    </tr>\n",
       "    <tr>\n",
       "      <th>70</th>\n",
       "      <td>[03.08.01] Folgen -  Welche Konsequenzen resul...</td>\n",
       "      <td>[03.08.01]</td>\n",
       "      <td>5.0</td>\n",
       "      <td>Angst_Intensität</td>\n",
       "      <td>NaN</td>\n",
       "      <td>NaN</td>\n",
       "      <td>[03.08.01] Affected person</td>\n",
       "    </tr>\n",
       "    <tr>\n",
       "      <th>72</th>\n",
       "      <td>[03.08] Folgen - Traten Angst und Unsicherheit...</td>\n",
       "      <td>[03.08]</td>\n",
       "      <td>1.0</td>\n",
       "      <td>Angst_Folge</td>\n",
       "      <td>NaN</td>\n",
       "      <td>NaN</td>\n",
       "      <td>[03.08] Occurrence of fear and uncertainty</td>\n",
       "    </tr>\n",
       "    <tr>\n",
       "      <th>75</th>\n",
       "      <td>[03.09] Folgen - Kam es zu einer strukturellen...</td>\n",
       "      <td>[03.09]</td>\n",
       "      <td>1.0</td>\n",
       "      <td>Strukturanpassung_Folge</td>\n",
       "      <td>NaN</td>\n",
       "      <td>NaN</td>\n",
       "      <td>[03.09] Structural adjustment</td>\n",
       "    </tr>\n",
       "    <tr>\n",
       "      <th>76</th>\n",
       "      <td>[03.10.01] Folgen - Wer hat geprüft?</td>\n",
       "      <td>[03.10.01]</td>\n",
       "      <td>1.0</td>\n",
       "      <td>Freigabe_OK</td>\n",
       "      <td>NaN</td>\n",
       "      <td>NaN</td>\n",
       "      <td>[03.10.01] Approver</td>\n",
       "    </tr>\n",
       "    <tr>\n",
       "      <th>77</th>\n",
       "      <td>[03.10.02] Folgen - Wurde ein OK zum Weitermac...</td>\n",
       "      <td>[03.10.02]</td>\n",
       "      <td>1.0</td>\n",
       "      <td>Freigabe_Wer</td>\n",
       "      <td>NaN</td>\n",
       "      <td>NaN</td>\n",
       "      <td>[03.10.02] OK to proceed</td>\n",
       "    </tr>\n",
       "    <tr>\n",
       "      <th>78</th>\n",
       "      <td>[03.10] Folgen - Wurde die Situation von jeman...</td>\n",
       "      <td>[03.10]</td>\n",
       "      <td>1.0</td>\n",
       "      <td>Freigabe_Folge</td>\n",
       "      <td>NaN</td>\n",
       "      <td>NaN</td>\n",
       "      <td>[03.10] Assessment of the situation by expertise</td>\n",
       "    </tr>\n",
       "    <tr>\n",
       "      <th>81</th>\n",
       "      <td>[03.11] Folgen - Wurde die PECH-Regel angewendet?</td>\n",
       "      <td>[03.11]</td>\n",
       "      <td>1.0</td>\n",
       "      <td>PECH_Folge</td>\n",
       "      <td>NaN</td>\n",
       "      <td>NaN</td>\n",
       "      <td>[03.11] Application RICE rule (Rest, Ice, Comp...</td>\n",
       "    </tr>\n",
       "    <tr>\n",
       "      <th>84</th>\n",
       "      <td>[03.12] Folgen - Wurde das Kind nach dem AE ob...</td>\n",
       "      <td>[03.12]</td>\n",
       "      <td>1.0</td>\n",
       "      <td>Observierung_Folge</td>\n",
       "      <td>NaN</td>\n",
       "      <td>NaN</td>\n",
       "      <td>[03.12] With observation</td>\n",
       "    </tr>\n",
       "    <tr>\n",
       "      <th>85</th>\n",
       "      <td>[03.13.01] Folgen - Wie wurde gestoppt?</td>\n",
       "      <td>[03.13.01]</td>\n",
       "      <td>1.0</td>\n",
       "      <td>Ende_vs_Pause</td>\n",
       "      <td>NaN</td>\n",
       "      <td>NaN</td>\n",
       "      <td>[03.13.01] Stop or Break</td>\n",
       "    </tr>\n",
       "    <tr>\n",
       "      <th>87</th>\n",
       "      <td>[03.13] Folgen - Wurde die Bewegungseinheit ge...</td>\n",
       "      <td>[03.13]</td>\n",
       "      <td>1.0</td>\n",
       "      <td>Stoppung_Folge</td>\n",
       "      <td>NaN</td>\n",
       "      <td>NaN</td>\n",
       "      <td>[03.13] Stop</td>\n",
       "    </tr>\n",
       "    <tr>\n",
       "      <th>88</th>\n",
       "      <td>[03.14.01] Folgen - Wie wurde die Bewegungsein...</td>\n",
       "      <td>[03.14.01]</td>\n",
       "      <td>9.0</td>\n",
       "      <td>Anpassung_Intensität</td>\n",
       "      <td>NaN</td>\n",
       "      <td>NaN</td>\n",
       "      <td>[03.14.01] Adaptations intensity</td>\n",
       "    </tr>\n",
       "    <tr>\n",
       "      <th>90</th>\n",
       "      <td>[03.14] Folgen - Wurde die Bewegungseinheit in...</td>\n",
       "      <td>[03.14]</td>\n",
       "      <td>1.0</td>\n",
       "      <td>Anpassung_Folge</td>\n",
       "      <td>NaN</td>\n",
       "      <td>NaN</td>\n",
       "      <td>[03.14] Adaptations</td>\n",
       "    </tr>\n",
       "    <tr>\n",
       "      <th>94</th>\n",
       "      <td>[03.16] Folgen - Kam es zum Tod?</td>\n",
       "      <td>[03.16]</td>\n",
       "      <td>1.0</td>\n",
       "      <td>Tod_Folge</td>\n",
       "      <td>NaN</td>\n",
       "      <td>NaN</td>\n",
       "      <td>[03.16] Death</td>\n",
       "    </tr>\n",
       "    <tr>\n",
       "      <th>99</th>\n",
       "      <td>[05.01] Rahmenbedingung - In welcher Therapiep...</td>\n",
       "      <td>[05.01]</td>\n",
       "      <td>1.0</td>\n",
       "      <td>Therapiephase</td>\n",
       "      <td>NaN</td>\n",
       "      <td>NaN</td>\n",
       "      <td>[05.01] Therapy phase</td>\n",
       "    </tr>\n",
       "    <tr>\n",
       "      <th>100</th>\n",
       "      <td>[05.02] Rahmenbedingungen - In welcher Gruppen...</td>\n",
       "      <td>[05.02]</td>\n",
       "      <td>1.0</td>\n",
       "      <td>Gruppengröße</td>\n",
       "      <td>NaN</td>\n",
       "      <td>NaN</td>\n",
       "      <td>[05.02] Group size</td>\n",
       "    </tr>\n",
       "    <tr>\n",
       "      <th>101</th>\n",
       "      <td>[05.03] Rahmenbedingungen - Wie alt war der/di...</td>\n",
       "      <td>[05.03]</td>\n",
       "      <td>1.0</td>\n",
       "      <td>Alter</td>\n",
       "      <td>NaN</td>\n",
       "      <td>NaN</td>\n",
       "      <td>[05.03] Age</td>\n",
       "    </tr>\n",
       "    <tr>\n",
       "      <th>102</th>\n",
       "      <td>[05.04] Rahmenbedingungen - Fand das Sportprog...</td>\n",
       "      <td>[05.04]</td>\n",
       "      <td>1.0</td>\n",
       "      <td>Online</td>\n",
       "      <td>NaN</td>\n",
       "      <td>NaN</td>\n",
       "      <td>[05.04] Online</td>\n",
       "    </tr>\n",
       "    <tr>\n",
       "      <th>103</th>\n",
       "      <td>[05.05] Rahmenbedingungen - Fand das AE im Rah...</td>\n",
       "      <td>[05.05]</td>\n",
       "      <td>1.0</td>\n",
       "      <td>Testung</td>\n",
       "      <td>NaN</td>\n",
       "      <td>NaN</td>\n",
       "      <td>[05.05] As part of testing</td>\n",
       "    </tr>\n",
       "    <tr>\n",
       "      <th>104</th>\n",
       "      <td>[05.06] Rahmenbedingungen - In welchem Setting...</td>\n",
       "      <td>[05.06]</td>\n",
       "      <td>1.0</td>\n",
       "      <td>Setting</td>\n",
       "      <td>NaN</td>\n",
       "      <td>NaN</td>\n",
       "      <td>[05.06] Setting</td>\n",
       "    </tr>\n",
       "    <tr>\n",
       "      <th>105</th>\n",
       "      <td>[05.07] Rahmenbedingungen - Welche motorische ...</td>\n",
       "      <td>[05.07]</td>\n",
       "      <td>8.0</td>\n",
       "      <td>Motorik</td>\n",
       "      <td>NaN</td>\n",
       "      <td>NaN</td>\n",
       "      <td>[05.07] Main motor skill</td>\n",
       "    </tr>\n",
       "    <tr>\n",
       "      <th>106</th>\n",
       "      <td>[05.08] Rahmenbedingungen - In welcher Phase d...</td>\n",
       "      <td>[05.08]</td>\n",
       "      <td>1.0</td>\n",
       "      <td>Hälfte</td>\n",
       "      <td>NaN</td>\n",
       "      <td>NaN</td>\n",
       "      <td>[05.08] Time point</td>\n",
       "    </tr>\n",
       "    <tr>\n",
       "      <th>107</th>\n",
       "      <td>[05.09] Rahmenbedingungen - Welchen Trainingsz...</td>\n",
       "      <td>[05.09]</td>\n",
       "      <td>5.0</td>\n",
       "      <td>Trainingszustand</td>\n",
       "      <td>NaN</td>\n",
       "      <td>NaN</td>\n",
       "      <td>[05.09] Training condition</td>\n",
       "    </tr>\n",
       "  </tbody>\n",
       "</table>\n",
       "</div>"
      ],
      "text/plain": [
       "                                             col_clean    col_code   cnt  \\\n",
       "16                                      Participant ID         NaN   1.0   \n",
       "42                 [01.01] Bewertung - CTCAE-Bewertung     [01.01]   1.0   \n",
       "43       [01.02] Wann ist das AE erstmals aufgetreten?     [01.02]   1.0   \n",
       "44   [01.03] Bewertung - Glauben Sie, dass das AE m...     [01.03]   1.0   \n",
       "45                              [02.01] Basics - Datum     [02.01]   1.0   \n",
       "46                    [02.02] Basics - Was war das AE?     [02.02]  16.0   \n",
       "47      [02.03] Basics - Was war der Auslöser des AEs?     [02.03]   8.0   \n",
       "48   [02.04] Basics - Welches Körperteil ist betrof...     [02.04]  13.0   \n",
       "51        [03.01] Folgen - Sind Schmerzen aufgetreten?     [03.01]   1.0   \n",
       "54   [03.02] Folgen - Kam es zu einem Krankenhausau...     [03.02]   1.0   \n",
       "57   [03.03] - Folgen - Kam es zu einer medizinisch...     [03.03]   1.0   \n",
       "60   [03.04] Folgen - Kam es zu einer deutlichen Ve...     [03.04]   1.0   \n",
       "61   [03.05] Folgen - Kam es zu lebensnotwendigen I...     [03.05]   1.0   \n",
       "66   [03.06] Folgen - Kam es zu einem erhöhten Pfle...         NaN   1.0   \n",
       "69   [03.07] Konsequenzen - Mussten Medikamenten ei...     [03.07]   1.0   \n",
       "70   [03.08.01] Folgen -  Welche Konsequenzen resul...  [03.08.01]   5.0   \n",
       "72   [03.08] Folgen - Traten Angst und Unsicherheit...     [03.08]   1.0   \n",
       "75   [03.09] Folgen - Kam es zu einer strukturellen...     [03.09]   1.0   \n",
       "76                [03.10.01] Folgen - Wer hat geprüft?  [03.10.01]   1.0   \n",
       "77   [03.10.02] Folgen - Wurde ein OK zum Weitermac...  [03.10.02]   1.0   \n",
       "78   [03.10] Folgen - Wurde die Situation von jeman...     [03.10]   1.0   \n",
       "81   [03.11] Folgen - Wurde die PECH-Regel angewendet?     [03.11]   1.0   \n",
       "84   [03.12] Folgen - Wurde das Kind nach dem AE ob...     [03.12]   1.0   \n",
       "85             [03.13.01] Folgen - Wie wurde gestoppt?  [03.13.01]   1.0   \n",
       "87   [03.13] Folgen - Wurde die Bewegungseinheit ge...     [03.13]   1.0   \n",
       "88   [03.14.01] Folgen - Wie wurde die Bewegungsein...  [03.14.01]   9.0   \n",
       "90   [03.14] Folgen - Wurde die Bewegungseinheit in...     [03.14]   1.0   \n",
       "94                    [03.16] Folgen - Kam es zum Tod?     [03.16]   1.0   \n",
       "99   [05.01] Rahmenbedingung - In welcher Therapiep...     [05.01]   1.0   \n",
       "100  [05.02] Rahmenbedingungen - In welcher Gruppen...     [05.02]   1.0   \n",
       "101  [05.03] Rahmenbedingungen - Wie alt war der/di...     [05.03]   1.0   \n",
       "102  [05.04] Rahmenbedingungen - Fand das Sportprog...     [05.04]   1.0   \n",
       "103  [05.05] Rahmenbedingungen - Fand das AE im Rah...     [05.05]   1.0   \n",
       "104  [05.06] Rahmenbedingungen - In welchem Setting...     [05.06]   1.0   \n",
       "105  [05.07] Rahmenbedingungen - Welche motorische ...     [05.07]   8.0   \n",
       "106  [05.08] Rahmenbedingungen - In welcher Phase d...     [05.08]   1.0   \n",
       "107  [05.09] Rahmenbedingungen - Welchen Trainingsz...     [05.09]   5.0   \n",
       "\n",
       "                                col_new  col_aux1 col_aux2  \\\n",
       "16                       Participant ID       NaN      NaN   \n",
       "42                                CTCAE       NaN      NaN   \n",
       "43                             Datum_AE       NaN      NaN   \n",
       "44                     Sportassoziation       NaN      NaN   \n",
       "45                       Datum_Aufnahme       NaN      NaN   \n",
       "46                                  Art       NaN      NaN   \n",
       "47                            Auslösser       NaN      NaN   \n",
       "48                           Körperteil       NaN      NaN   \n",
       "51                      Schmerzen_Folge       NaN      NaN   \n",
       "54                    Krankenhaus_Folge       NaN      NaN   \n",
       "57           Med.Weiterbehandlung_Folge       NaN      NaN   \n",
       "60              Therapieprotokoll_Folge       NaN      NaN   \n",
       "61   lebensnotwendigeIntenvention_Folge       NaN      NaN   \n",
       "66                         Pflege_Folge       NaN      NaN   \n",
       "69                    Medikamente_Folge       NaN      NaN   \n",
       "70                     Angst_Intensität       NaN      NaN   \n",
       "72                          Angst_Folge       NaN      NaN   \n",
       "75              Strukturanpassung_Folge       NaN      NaN   \n",
       "76                          Freigabe_OK       NaN      NaN   \n",
       "77                         Freigabe_Wer       NaN      NaN   \n",
       "78                       Freigabe_Folge       NaN      NaN   \n",
       "81                           PECH_Folge       NaN      NaN   \n",
       "84                   Observierung_Folge       NaN      NaN   \n",
       "85                        Ende_vs_Pause       NaN      NaN   \n",
       "87                       Stoppung_Folge       NaN      NaN   \n",
       "88                 Anpassung_Intensität       NaN      NaN   \n",
       "90                      Anpassung_Folge       NaN      NaN   \n",
       "94                            Tod_Folge       NaN      NaN   \n",
       "99                        Therapiephase       NaN      NaN   \n",
       "100                        Gruppengröße       NaN      NaN   \n",
       "101                               Alter       NaN      NaN   \n",
       "102                              Online       NaN      NaN   \n",
       "103                             Testung       NaN      NaN   \n",
       "104                             Setting       NaN      NaN   \n",
       "105                             Motorik       NaN      NaN   \n",
       "106                              Hälfte       NaN      NaN   \n",
       "107                    Trainingszustand       NaN      NaN   \n",
       "\n",
       "                                             col_final  \n",
       "16                               [00.00] ParticipantID  \n",
       "42                                       [01.01] CTCAE  \n",
       "43                                        [01.02] Date  \n",
       "44                            [01.03] Exercise-related  \n",
       "45                                   [02.01] CreatedOn  \n",
       "46                                        [02.02] Type  \n",
       "47                                     [02.03] Trigger  \n",
       "48                         [02.04] Affected body parts  \n",
       "51                                        [03.01] Pain  \n",
       "54                        [03.02] With hospitalization  \n",
       "57                 [03.03] Medical follow-up treatment  \n",
       "60               [03.04] With delayed therapy protocol  \n",
       "61                    [03.05] Life-saving intervention  \n",
       "66                        [03.06] Increased care needs  \n",
       "69              [03.07] With medication administration  \n",
       "70                          [03.08.01] Affected person  \n",
       "72          [03.08] Occurrence of fear and uncertainty  \n",
       "75                       [03.09] Structural adjustment  \n",
       "76                                 [03.10.01] Approver  \n",
       "77                            [03.10.02] OK to proceed  \n",
       "78    [03.10] Assessment of the situation by expertise  \n",
       "81   [03.11] Application RICE rule (Rest, Ice, Comp...  \n",
       "84                            [03.12] With observation  \n",
       "85                            [03.13.01] Stop or Break  \n",
       "87                                        [03.13] Stop  \n",
       "88                    [03.14.01] Adaptations intensity  \n",
       "90                                 [03.14] Adaptations  \n",
       "94                                       [03.16] Death  \n",
       "99                               [05.01] Therapy phase  \n",
       "100                                 [05.02] Group size  \n",
       "101                                        [05.03] Age  \n",
       "102                                     [05.04] Online  \n",
       "103                         [05.05] As part of testing  \n",
       "104                                    [05.06] Setting  \n",
       "105                           [05.07] Main motor skill  \n",
       "106                                 [05.08] Time point  \n",
       "107                         [05.09] Training condition  "
      ]
     },
     "execution_count": 19,
     "metadata": {},
     "output_type": "execute_result"
    }
   ],
   "source": [
    "# # * import column mapping\n",
    "df_codebook_columns = (pd\n",
    "        .read_excel(dir_data_codebooks/\"codebook_columns.xlsx\")\n",
    "        # * remove leading and trailing spaces\n",
    "        .applymap(lambda x: x.strip() if isinstance(x, str) else x)\n",
    ")\n",
    "# * ignore empty rows\n",
    "df_codebook_columns = df_codebook_columns.dropna(subset=[\"col_final\"])[:]\n",
    "df_codebook_columns"
   ]
  },
  {
   "cell_type": "code",
   "execution_count": 20,
   "metadata": {},
   "outputs": [],
   "source": [
    "df_csv_condensed.rename(columns={\"Participant ID\": \"[00.00] ParticipantID\"}, inplace=True)"
   ]
  },
  {
   "cell_type": "code",
   "execution_count": 21,
   "metadata": {},
   "outputs": [
    {
     "data": {
      "text/plain": [
       "{'[00.00] ParticipantID': '[00.00] ParticipantID',\n",
       " '[01.01] Bewertung - CTCAE-Bewertung': '[01.01] CTCAE',\n",
       " '[01.02] Wann ist das AE erstmals aufgetreten?': '[01.02] Date',\n",
       " '[01.03] Bewertung - Glauben Sie, dass das AE mit dem Sport assoziiert ist?': '[01.03] Exercise-related',\n",
       " '[02.01] Basics - Datum': '[02.01] CreatedOn',\n",
       " '[02.02]': '[02.02] Type',\n",
       " '[02.03]': '[02.03] Trigger',\n",
       " '[02.04]': '[02.04] Affected body parts',\n",
       " '[03.01] Folgen - Sind Schmerzen aufgetreten?': '[03.01] Pain',\n",
       " \"[03.02] Folgen - Kam es zu einem Krankenhausaufenthalt oder zu einer Verlängerung dieses Aufenthalts?'\": '[03.02] With hospitalization',\n",
       " '[03.03] - Folgen - Kam es zu einer medizinischen Weiterbehandlung?': '[03.03] Medical follow-up treatment',\n",
       " \"[03.04] Folgen -Kam es zu einer deutlichen Verzögerung bei der Umsetzung des medizinischen Therapieprotokolls?'\": '[03.04] With delayed therapy protocol',\n",
       " '[03.05] Folgen - Kam es zu lebensrettenden Interventionen (z.\\u202fB. Beatmung, Herzdruckmassage)?': '[03.05] Life-saving intervention',\n",
       " '[03.06] Folgen - Gab es einen erhöhten Pflegebedarf?': '[03.06] Increased care needs',\n",
       " '[03.07] Konsequenzen - Mussten Medikamente eingenommen werden?': '[03.07] With medication administration',\n",
       " '[03.08.01]': '[03.08.01] Affected person',\n",
       " '[03.08] Folgen - Kam es zu Angst und Unsicherheit?': '[03.08] Occurrence of fear and uncertainty',\n",
       " '[03.09] Folgen -  Kam es zu strukturellen Anpassungen?': '[03.09] Structural adjustment',\n",
       " '[03.10.01]': '[03.10.01] Approver',\n",
       " '[03.10.02]': '[03.10.02] OK to proceed',\n",
       " '[03.10]': '[03.10] Assessment of the situation by expertise',\n",
       " '[03.11] Folgen - Wurde die PECH-Regel zur Behandlung angewendet?': '[03.11] Application RICE rule (Rest, Ice, Compression, Elevation)',\n",
       " '[03.12] Folgen - Wurde das Kind nach dem AE observiert?': '[03.12] With observation',\n",
       " '[03.13.01] Folgen - Wie wurde gestoppt?': '[03.13.01] Stop or Break',\n",
       " '[03.13] Folgen - Wurde die Bewegungseinheit gestoppt?': '[03.13] Stop',\n",
       " '[03.14.01]': '[03.14.01] Adaptations intensity',\n",
       " '[03.14]': '[03.14] Adaptations',\n",
       " '[03.16] Folgen - Kam es zum Tod?': '[03.16] Death',\n",
       " '[05.01] Rahmenbedingung - In welcher Phase der Therapie trat das AE auf?': '[05.01] Therapy phase',\n",
       " '[05.02] Rahmenbedingungen - In welcher Gruppengröße fand die Sporteinheit statt, in der das AE auftrat?': '[05.02] Group size',\n",
       " '[05.03] Rahmenbedingungen - Wie alt war der/die Betroffene zum Zeitpunkt des AE?': '[05.03] Age',\n",
       " '[05.04] Rahmenbedingungen - Fand das Sportprogramm online statt?': '[05.04] Online',\n",
       " '[05.05] Rahmenbedingungen - Fand das AE im Rahmen einer Sporttestung statt?': '[05.05] As part of testing',\n",
       " '[05.06] Rahmenbedingungen - In welchem Setting trat das AE auf?': '[05.06] Setting',\n",
       " '[05.07]': '[05.07] Main motor skill',\n",
       " '[05.08] Rahmenbedingungen - In welcher Phase der geplanten Sporteinheit trat das AE auf?': '[05.08] Time point',\n",
       " '[05.09]': '[05.09] Training condition'}"
      ]
     },
     "metadata": {},
     "output_type": "display_data"
    },
    {
     "data": {
      "text/html": [
       "<div>\n",
       "<style scoped>\n",
       "    .dataframe tbody tr th:only-of-type {\n",
       "        vertical-align: middle;\n",
       "    }\n",
       "\n",
       "    .dataframe tbody tr th {\n",
       "        vertical-align: top;\n",
       "    }\n",
       "\n",
       "    .dataframe thead th {\n",
       "        text-align: right;\n",
       "    }\n",
       "</style>\n",
       "<table border=\"1\" class=\"dataframe\">\n",
       "  <thead>\n",
       "    <tr style=\"text-align: right;\">\n",
       "      <th></th>\n",
       "      <th>[00.00] ParticipantID</th>\n",
       "      <th>[01.01] CTCAE</th>\n",
       "      <th>[01.02] Date</th>\n",
       "      <th>[01.03] Exercise-related</th>\n",
       "      <th>[02.01] CreatedOn</th>\n",
       "      <th>[02.02] Type</th>\n",
       "      <th>[02.03] Trigger</th>\n",
       "      <th>[02.04] Affected body parts</th>\n",
       "      <th>[03.01.01] Folgen - Schmerzskala</th>\n",
       "      <th>[03.01.02]</th>\n",
       "      <th>...</th>\n",
       "      <th>[03.18]  Folgen - Gibt es noch weitere relevante Folgen?</th>\n",
       "      <th>[05.01] Therapy phase</th>\n",
       "      <th>[05.02] Group size</th>\n",
       "      <th>[05.03] Age</th>\n",
       "      <th>[05.04] Online</th>\n",
       "      <th>[05.05] As part of testing</th>\n",
       "      <th>[05.06] Setting</th>\n",
       "      <th>[05.07] Main motor skill</th>\n",
       "      <th>[05.08] Time point</th>\n",
       "      <th>[05.09] Training condition</th>\n",
       "    </tr>\n",
       "  </thead>\n",
       "  <tbody>\n",
       "    <tr>\n",
       "      <th>0</th>\n",
       "      <td>3</td>\n",
       "      <td>2</td>\n",
       "      <td>Das AE war vor dem Sport bereits vorhanden und...</td>\n",
       "      <td>No</td>\n",
       "      <td>2022-10-01</td>\n",
       "      <td>Übelkeit / Erbrechen</td>\n",
       "      <td>Physische Belastung|Med. Therapie</td>\n",
       "      <td>Innere Medizin</td>\n",
       "      <td>NaN</td>\n",
       "      <td>&lt;NA&gt;</td>\n",
       "      <td>...</td>\n",
       "      <td>NaN</td>\n",
       "      <td>Akuttherapie</td>\n",
       "      <td>Einzel</td>\n",
       "      <td>10 bis 14 Jahre</td>\n",
       "      <td>No</td>\n",
       "      <td>No</td>\n",
       "      <td>Klinikflur</td>\n",
       "      <td>Koordination</td>\n",
       "      <td>2. Hälfte</td>\n",
       "      <td>2 Durchschnittlich</td>\n",
       "    </tr>\n",
       "    <tr>\n",
       "      <th>1</th>\n",
       "      <td>4</td>\n",
       "      <td>1</td>\n",
       "      <td>Das AE ist neu aufgetreten.</td>\n",
       "      <td>Yes</td>\n",
       "      <td>2022-10-01</td>\n",
       "      <td>Schmerzen</td>\n",
       "      <td>Koordinationsprobleme</td>\n",
       "      <td>Rücken|Gesäß</td>\n",
       "      <td>2.0</td>\n",
       "      <td>Schmerzen am gleichen Tag</td>\n",
       "      <td>...</td>\n",
       "      <td>NaN</td>\n",
       "      <td>Akuttherapie</td>\n",
       "      <td>Einzel</td>\n",
       "      <td>06 bis 9 Jahre</td>\n",
       "      <td>No</td>\n",
       "      <td>No</td>\n",
       "      <td>Klinikflur</td>\n",
       "      <td>Koordination</td>\n",
       "      <td>1. Hälfte</td>\n",
       "      <td>1 Gut</td>\n",
       "    </tr>\n",
       "    <tr>\n",
       "      <th>2</th>\n",
       "      <td>5</td>\n",
       "      <td>2</td>\n",
       "      <td>Das AE war vor dem Sport bereits vorhanden und...</td>\n",
       "      <td>No</td>\n",
       "      <td>2022-11-01</td>\n",
       "      <td>Kreislaufprobleme</td>\n",
       "      <td>Med. Therapie</td>\n",
       "      <td>Innere Medizin</td>\n",
       "      <td>NaN</td>\n",
       "      <td>&lt;NA&gt;</td>\n",
       "      <td>...</td>\n",
       "      <td>NaN</td>\n",
       "      <td>Akuttherapie</td>\n",
       "      <td>Einzel</td>\n",
       "      <td>10 bis 14 Jahre</td>\n",
       "      <td>No</td>\n",
       "      <td>No</td>\n",
       "      <td>Pat.-Zimmer</td>\n",
       "      <td>Koordination</td>\n",
       "      <td>2. Hälfte</td>\n",
       "      <td>3 Mäßig</td>\n",
       "    </tr>\n",
       "  </tbody>\n",
       "</table>\n",
       "<p>3 rows × 62 columns</p>\n",
       "</div>"
      ],
      "text/plain": [
       "   [00.00] ParticipantID [01.01] CTCAE  \\\n",
       "0                      3             2   \n",
       "1                      4             1   \n",
       "2                      5             2   \n",
       "\n",
       "                                        [01.02] Date [01.03] Exercise-related  \\\n",
       "0  Das AE war vor dem Sport bereits vorhanden und...                       No   \n",
       "1                        Das AE ist neu aufgetreten.                      Yes   \n",
       "2  Das AE war vor dem Sport bereits vorhanden und...                       No   \n",
       "\n",
       "  [02.01] CreatedOn          [02.02] Type                    [02.03] Trigger  \\\n",
       "0        2022-10-01  Übelkeit / Erbrechen  Physische Belastung|Med. Therapie   \n",
       "1        2022-10-01             Schmerzen              Koordinationsprobleme   \n",
       "2        2022-11-01     Kreislaufprobleme                      Med. Therapie   \n",
       "\n",
       "  [02.04] Affected body parts  [03.01.01] Folgen - Schmerzskala  \\\n",
       "0              Innere Medizin                               NaN   \n",
       "1                Rücken|Gesäß                               2.0   \n",
       "2              Innere Medizin                               NaN   \n",
       "\n",
       "                  [03.01.02]  ...  \\\n",
       "0                       <NA>  ...   \n",
       "1  Schmerzen am gleichen Tag  ...   \n",
       "2                       <NA>  ...   \n",
       "\n",
       "  [03.18]  Folgen - Gibt es noch weitere relevante Folgen?  \\\n",
       "0                                                NaN         \n",
       "1                                                NaN         \n",
       "2                                                NaN         \n",
       "\n",
       "  [05.01] Therapy phase [05.02] Group size      [05.03] Age [05.04] Online  \\\n",
       "0          Akuttherapie             Einzel  10 bis 14 Jahre             No   \n",
       "1          Akuttherapie             Einzel   06 bis 9 Jahre             No   \n",
       "2          Akuttherapie             Einzel  10 bis 14 Jahre             No   \n",
       "\n",
       "  [05.05] As part of testing [05.06] Setting [05.07] Main motor skill  \\\n",
       "0                         No      Klinikflur             Koordination   \n",
       "1                         No      Klinikflur             Koordination   \n",
       "2                         No     Pat.-Zimmer             Koordination   \n",
       "\n",
       "  [05.08] Time point [05.09] Training condition  \n",
       "0          2. Hälfte         2 Durchschnittlich  \n",
       "1          1. Hälfte                      1 Gut  \n",
       "2          2. Hälfte                    3 Mäßig  \n",
       "\n",
       "[3 rows x 62 columns]"
      ]
     },
     "execution_count": 21,
     "metadata": {},
     "output_type": "execute_result"
    }
   ],
   "source": [
    "# # ! get all columns from codebook, BUT ONLY COL_FINAL. rest is ignored!\n",
    "cols_target = df_codebook_columns[\"col_final\"]\n",
    "\n",
    "# * extract codes from column names in codebook\n",
    "codes_to_be_translated = sorted(\n",
    "    set(\n",
    "        cols_target\n",
    "            .str\n",
    "            .extract(REGEX_CODEALL, flags=re.IGNORECASE)\n",
    "            .iloc[:, 0]\n",
    "    )\n",
    ")\n",
    "\n",
    "# hack dict is not robust!\n",
    "# * get all columns with these codes_to_be_translated\n",
    "cols_source = sorted(df_csv_condensed.find_cols(codes_to_be_translated))\n",
    "\n",
    "dict_cols = dict(zip(cols_source, cols_target))\n",
    "display(dict_cols)\n",
    "# ! rename columns\n",
    "df_csv_condensed = df_csv_condensed.rename(columns= dict_cols)\n",
    "df_csv_condensed[:3]"
   ]
  },
  {
   "cell_type": "code",
   "execution_count": 22,
   "metadata": {},
   "outputs": [],
   "source": [
    "# # ! DEPRC\n",
    "\n",
    "# # * coalesce columns - most right column has priority\n",
    "# # * -> deprecated. only use col_final!\n",
    "# # df_csv_cols_import[\"col_final\"] = df_csv_cols_import[[\"col_new\", \"col_code\", \"col_clean\"]].backfill(axis=1).iloc[:,0]\n",
    "\n",
    "\n",
    "# # * create dict for mapping\n",
    "# # * column names in target df can be full label or code only, so 2 rounds are needed\n",
    "# def create_col_map(df, join_col: str):\n",
    "#     # * only use rows with not NA values\n",
    "#     series_source = df_csv_condensed.columns.to_series()\n",
    "#     series_target = df_codebook_columns.set_index(join_col)[\"col_final\"]\n",
    "#     # * use concat to join two series\n",
    "#     series_joint = (pd.concat(\n",
    "#         [\n",
    "#             series_source,\n",
    "#             series_target\n",
    "#         ],\n",
    "#         axis=1, join=\"inner\"\n",
    "#         )\n",
    "#         [\"col_final\"]\n",
    "#     )\n",
    "#     return series_joint.to_dict()\n",
    "\n",
    "# col_map1 = create_col_map(df_codebook_columns, \"col_clean\")\n",
    "# col_map2 = create_col_map(df_codebook_columns, \"col_code\")\n",
    "\n",
    "# # * relabel column names in 2 rounds\n",
    "# df_csv_condensed.rename(columns=col_map1, inplace=True)\n",
    "# df_csv_condensed.rename(columns=col_map2, inplace=True)\n",
    "\n",
    "\n",
    "# # * (deprecated) strip column names to code only\n",
    "# # cols = df_csv_condensed.columns\n",
    "# # df_csv_condensed.columns = [re.sub(REGEX_NONCODE, \"]\", col) for col in cols]\n",
    "\n",
    "# df_csv_condensed#[df_csv_condensed.columns.sort_values()]"
   ]
  },
  {
   "cell_type": "markdown",
   "metadata": {},
   "source": [
    "### <a id='toc1_4_6_'></a>[value mapping for missings and unknown](#toc0_)"
   ]
  },
  {
   "cell_type": "code",
   "execution_count": 23,
   "metadata": {},
   "outputs": [
    {
     "name": "stdout",
     "output_type": "stream",
     "text": [
      "in [02.04] Affected body parts: - -> <NA>\n",
      "in [03.02] With hospitalization: weiß nicht -> <Unknown>\n",
      "in [03.03] Medical follow-up treatment: weiß nicht -> <Unknown>\n",
      "in [03.07] With medication administration: weiß nicht -> <Unknown>\n",
      "in [03.12] With observation: Weiß nicht -> <Unknown>\n",
      "in [03.14.01] Adaptations intensity: - -> <NA>\n",
      "in [03.17] Folgen - Kam es zu Einschränkungen der Aktivitäten des täglichen Lebens (ADL)?: weiß nicht -> <Unknown>\n",
      "in [05.03] Age: weiß nicht -> <Unknown>\n",
      "in [05.07] Main motor skill: - -> <NA>\n",
      "in [05.09] Training condition: - -> <NA>\n",
      "in [05.09] Training condition: weiß nicht -> <Unknown>\n",
      "in [03.08.01] Affected person: - -> <NA>\n",
      "[03.08.01] Affected person                                                                               \n",
      "Bei dem Betroffenen selbst                                                                                   27\n",
      "Bei dem Betroffenen selbst|Bei der Bewegungsfachkraft                                                         7\n",
      "Bei dem Betroffenen selbst|Beim Behandlungsteam                                                               7\n",
      "Bei dem Betroffenen selbst|Mit der Ablehnung weiterer sporttherapheutischer Angebote                          7\n",
      "Bei dem Betroffenen selbst|Bei den Eltern des Betroffenen|Beim Behandlungsteam                                3\n",
      "Bei den Eltern des Betroffenen                                                                                2\n",
      "Bei dem Betroffenen selbst|Bei den Eltern des Betroffenen                                                     1\n",
      "Bei dem Betroffenen selbst|Beim Behandlungsteam|Bei der Bewegungsfachkraft                                    1\n",
      "Bei dem Betroffenen selbst|Beim Behandlungsteam|Mit der Ablehnung weiterer sporttherapheutischer Angebote     1\n",
      "Name: count, dtype: int64\n"
     ]
    }
   ],
   "source": [
    "# # * target coding for missing / unknown\n",
    "STR_NA = pd.NA\n",
    "STR_U = \"<Unknown>\"\n",
    "\n",
    "# * remove digits in [05.09]. inplace wont work, whyever\n",
    "df_csv_condensed[df_csv_condensed.find_cols([\"[05.09]\"])] = df_csv_condensed[df_csv_condensed.find_cols([\"[05.09]\"])].replace(r\"\\d{1} \",\"\", regex=True, inplace=False)\n",
    "\n",
    "items = [\n",
    "    (\"[02.04]\",\"-\",STR_NA),\n",
    "    (\"[03.02]\",\"weiß nicht\",STR_U),\n",
    "    (\"[03.03]\",\"weiß nicht\",STR_U),\n",
    "    (\"[03.07]\",\"weiß nicht\",STR_U),\n",
    "    (\"[03.12]\",\"Weiß nicht\",STR_U),\n",
    "    (\"[03.14.01]\",\"-\",STR_NA),\n",
    "    (\"[03.17]\",\"weiß nicht\",STR_U),\n",
    "    (\"[05.03]\",\"weiß nicht\",STR_U),\n",
    "    (\"[05.07]\",\"-\",STR_NA),\n",
    "    (\"[05.09]\",\"-\",STR_NA),\n",
    "    (\"[05.09]\",\"weiß nicht\",STR_U),\n",
    "    (\"[03.08.01]\",\"-\",STR_NA),\n",
    "]\n",
    "for item in items:\n",
    "    _col = df_csv_condensed.find_cols([item[0]])[0]\n",
    "    print(f\"in {_col}: {item[1]} -> {item[2]}\")\n",
    "    df_csv_condensed.loc[df_csv_condensed[_col].str.lower().str.strip()==item[1].lower().strip(),_col] = item[2]\n",
    "\n",
    "print(df_csv_condensed[df_csv_condensed.find_cols([\"[03.08.01]\"])].value_counts())"
   ]
  },
  {
   "cell_type": "markdown",
   "metadata": {},
   "source": [
    "### <a id='toc1_4_7_'></a>[value mapping from codebook](#toc0_)\n",
    "- in `codebook_values.xlsx`\n",
    "  - col codes in `code`\n",
    "  - old value in `de` -> new value in `en`"
   ]
  },
  {
   "cell_type": "code",
   "execution_count": 24,
   "metadata": {},
   "outputs": [],
   "source": [
    "from mod import helper as h\n",
    "# # * import column mapping\n",
    "df_codebook_values = (pd\n",
    "        .read_excel(dir_data_codebooks/\"codebook_values.xlsx\")\n",
    "        # * remove leading and trailing spaces\n",
    "        .applymap(lambda x: x.strip() if isinstance(x, str) else x)\n",
    "        # * ignore empty rows in code column\n",
    "        .dropna(subset=[\"code\"])\n",
    "        # * rename columns for use in function\n",
    "        .rename(columns={\"de\": \"val_old\", \"en\": \"val_new\"})\n",
    ")\n",
    "\n",
    "# * list all column codes should be searched in dataset\n",
    "# * include duplicates, this list is added as a column later\n",
    "stubs = df_codebook_values.code.to_list()\n",
    "\n",
    "# * resulting full column names\n",
    "found = hlp.find_cols(df_csv_condensed, stubs)\n",
    "\n",
    "# * add these full names\n",
    "df_codebook_values[\"col\"]=found\n",
    "\n",
    "# ! map values in dataset\n",
    "_df = df_csv_condensed.copy()\n",
    "df_csv_condensed = h.replace_substring_vectorized(df_mapping=df_codebook_values, df_target=_df)\n",
    "\n",
    "# display(df_codebook_values[df_codebook_values.code == '[02.04]'])"
   ]
  },
  {
   "cell_type": "markdown",
   "metadata": {},
   "source": [
    "### reduce columns"
   ]
  },
  {
   "cell_type": "code",
   "execution_count": 25,
   "metadata": {},
   "outputs": [],
   "source": [
    "# # ! dont run this earlier before other transformations, those might crash when subjected column was already removed\n",
    "df_csv_condensed = df_csv_condensed[cols_target.to_list()]"
   ]
  },
  {
   "cell_type": "code",
   "execution_count": 26,
   "metadata": {},
   "outputs": [
    {
     "data": {
      "text/html": [
       "<div>\n",
       "<style scoped>\n",
       "    .dataframe tbody tr th:only-of-type {\n",
       "        vertical-align: middle;\n",
       "    }\n",
       "\n",
       "    .dataframe tbody tr th {\n",
       "        vertical-align: top;\n",
       "    }\n",
       "\n",
       "    .dataframe thead th {\n",
       "        text-align: right;\n",
       "    }\n",
       "</style>\n",
       "<table border=\"1\" class=\"dataframe\">\n",
       "  <thead>\n",
       "    <tr style=\"text-align: right;\">\n",
       "      <th></th>\n",
       "      <th>[00.00] ParticipantID</th>\n",
       "      <th>[01.01] CTCAE</th>\n",
       "      <th>[01.02] Date</th>\n",
       "      <th>[01.03] Exercise-related</th>\n",
       "      <th>[02.01] CreatedOn</th>\n",
       "      <th>[02.02] Type</th>\n",
       "      <th>[02.03] Trigger</th>\n",
       "      <th>[02.04] Affected body parts</th>\n",
       "      <th>[03.01] Pain</th>\n",
       "      <th>[03.02] With hospitalization</th>\n",
       "      <th>...</th>\n",
       "      <th>[03.16] Death</th>\n",
       "      <th>[05.01] Therapy phase</th>\n",
       "      <th>[05.02] Group size</th>\n",
       "      <th>[05.03] Age</th>\n",
       "      <th>[05.04] Online</th>\n",
       "      <th>[05.05] As part of testing</th>\n",
       "      <th>[05.06] Setting</th>\n",
       "      <th>[05.07] Main motor skill</th>\n",
       "      <th>[05.08] Time point</th>\n",
       "      <th>[05.09] Training condition</th>\n",
       "    </tr>\n",
       "  </thead>\n",
       "  <tbody>\n",
       "    <tr>\n",
       "      <th>0</th>\n",
       "      <td>3</td>\n",
       "      <td>2</td>\n",
       "      <td>Already present</td>\n",
       "      <td>No</td>\n",
       "      <td>2022-10-01</td>\n",
       "      <td>Nausea/Vomiting</td>\n",
       "      <td>Physical strain|Medical therapy</td>\n",
       "      <td>Internal medicine type</td>\n",
       "      <td>Nein</td>\n",
       "      <td>No</td>\n",
       "      <td>...</td>\n",
       "      <td>No</td>\n",
       "      <td>Acute therapy</td>\n",
       "      <td>Individual</td>\n",
       "      <td>10 to 14 years</td>\n",
       "      <td>No</td>\n",
       "      <td>No</td>\n",
       "      <td>Hospital corridor</td>\n",
       "      <td>Coordination</td>\n",
       "      <td>2. Time point</td>\n",
       "      <td>Average</td>\n",
       "    </tr>\n",
       "    <tr>\n",
       "      <th>1</th>\n",
       "      <td>4</td>\n",
       "      <td>1</td>\n",
       "      <td>First occurrence</td>\n",
       "      <td>Yes</td>\n",
       "      <td>2022-10-01</td>\n",
       "      <td>Pain</td>\n",
       "      <td>Coordination problems</td>\n",
       "      <td>Back|Buttocks</td>\n",
       "      <td>Ja</td>\n",
       "      <td>No</td>\n",
       "      <td>...</td>\n",
       "      <td>No</td>\n",
       "      <td>Acute therapy</td>\n",
       "      <td>Individual</td>\n",
       "      <td>06 to 09 years</td>\n",
       "      <td>No</td>\n",
       "      <td>No</td>\n",
       "      <td>Hospital corridor</td>\n",
       "      <td>Coordination</td>\n",
       "      <td>1. Time point</td>\n",
       "      <td>Good</td>\n",
       "    </tr>\n",
       "    <tr>\n",
       "      <th>2</th>\n",
       "      <td>5</td>\n",
       "      <td>2</td>\n",
       "      <td>Already present</td>\n",
       "      <td>No</td>\n",
       "      <td>2022-11-01</td>\n",
       "      <td>Circulatory problems</td>\n",
       "      <td>Medical therapy</td>\n",
       "      <td>Internal medicine type</td>\n",
       "      <td>Nein</td>\n",
       "      <td>No</td>\n",
       "      <td>...</td>\n",
       "      <td>No</td>\n",
       "      <td>Acute therapy</td>\n",
       "      <td>Individual</td>\n",
       "      <td>10 to 14 years</td>\n",
       "      <td>No</td>\n",
       "      <td>No</td>\n",
       "      <td>Patients room</td>\n",
       "      <td>Coordination</td>\n",
       "      <td>2. Time point</td>\n",
       "      <td>Moderate</td>\n",
       "    </tr>\n",
       "    <tr>\n",
       "      <th>3</th>\n",
       "      <td>6</td>\n",
       "      <td>1</td>\n",
       "      <td>First occurrence</td>\n",
       "      <td>No</td>\n",
       "      <td>2022-11-01</td>\n",
       "      <td>Nausea/Vomiting</td>\n",
       "      <td>Physical strain|Medical therapy</td>\n",
       "      <td>Internal medicine type</td>\n",
       "      <td>Nein</td>\n",
       "      <td>No</td>\n",
       "      <td>...</td>\n",
       "      <td>No</td>\n",
       "      <td>Acute therapy</td>\n",
       "      <td>Individual</td>\n",
       "      <td>02 to 05 years</td>\n",
       "      <td>No</td>\n",
       "      <td>No</td>\n",
       "      <td>Patients room</td>\n",
       "      <td>Coordination</td>\n",
       "      <td>1. Time point</td>\n",
       "      <td>Average</td>\n",
       "    </tr>\n",
       "    <tr>\n",
       "      <th>4</th>\n",
       "      <td>7</td>\n",
       "      <td>3</td>\n",
       "      <td>First occurrence</td>\n",
       "      <td>Yes</td>\n",
       "      <td>2022-11-01</td>\n",
       "      <td>Bone injuries</td>\n",
       "      <td>Fall event</td>\n",
       "      <td>Lower extremities</td>\n",
       "      <td>Ja</td>\n",
       "      <td>&lt;Unknown&gt;</td>\n",
       "      <td>...</td>\n",
       "      <td>No</td>\n",
       "      <td>Aftercare</td>\n",
       "      <td>Individual</td>\n",
       "      <td>15 to 18 years</td>\n",
       "      <td>No</td>\n",
       "      <td>No</td>\n",
       "      <td>Gym</td>\n",
       "      <td>Coordination|Strength</td>\n",
       "      <td>1. Time point</td>\n",
       "      <td>Moderate</td>\n",
       "    </tr>\n",
       "    <tr>\n",
       "      <th>...</th>\n",
       "      <td>...</td>\n",
       "      <td>...</td>\n",
       "      <td>...</td>\n",
       "      <td>...</td>\n",
       "      <td>...</td>\n",
       "      <td>...</td>\n",
       "      <td>...</td>\n",
       "      <td>...</td>\n",
       "      <td>...</td>\n",
       "      <td>...</td>\n",
       "      <td>...</td>\n",
       "      <td>...</td>\n",
       "      <td>...</td>\n",
       "      <td>...</td>\n",
       "      <td>...</td>\n",
       "      <td>...</td>\n",
       "      <td>...</td>\n",
       "      <td>...</td>\n",
       "      <td>...</td>\n",
       "      <td>...</td>\n",
       "      <td>...</td>\n",
       "    </tr>\n",
       "    <tr>\n",
       "      <th>173</th>\n",
       "      <td>204</td>\n",
       "      <td>1</td>\n",
       "      <td>First occurrence</td>\n",
       "      <td>Yes</td>\n",
       "      <td>2024-11-27</td>\n",
       "      <td>Circulatory problems</td>\n",
       "      <td>Physical strain</td>\n",
       "      <td>Full body</td>\n",
       "      <td>Nein</td>\n",
       "      <td>No</td>\n",
       "      <td>...</td>\n",
       "      <td>No</td>\n",
       "      <td>Acute therapy</td>\n",
       "      <td>Individual</td>\n",
       "      <td>06 to 09 years</td>\n",
       "      <td>No</td>\n",
       "      <td>No</td>\n",
       "      <td>Gym</td>\n",
       "      <td>Full body</td>\n",
       "      <td>2. Time point</td>\n",
       "      <td>Moderate</td>\n",
       "    </tr>\n",
       "    <tr>\n",
       "      <th>174</th>\n",
       "      <td>205</td>\n",
       "      <td>1</td>\n",
       "      <td>Already present</td>\n",
       "      <td>Yes</td>\n",
       "      <td>2024-12-03</td>\n",
       "      <td>Circulatory problems</td>\n",
       "      <td>Physical strain</td>\n",
       "      <td>Full body</td>\n",
       "      <td>Nein</td>\n",
       "      <td>No</td>\n",
       "      <td>...</td>\n",
       "      <td>No</td>\n",
       "      <td>Acute therapy</td>\n",
       "      <td>Individual</td>\n",
       "      <td>06 to 09 years</td>\n",
       "      <td>No</td>\n",
       "      <td>No</td>\n",
       "      <td>nan</td>\n",
       "      <td>Coordination</td>\n",
       "      <td>2. Time point</td>\n",
       "      <td>Moderate</td>\n",
       "    </tr>\n",
       "    <tr>\n",
       "      <th>175</th>\n",
       "      <td>206</td>\n",
       "      <td>2</td>\n",
       "      <td>First occurrence</td>\n",
       "      <td>Yes</td>\n",
       "      <td>2024-12-08</td>\n",
       "      <td>Nausea/Vomiting</td>\n",
       "      <td>Psychological strain|Medical therapy</td>\n",
       "      <td>Full body</td>\n",
       "      <td>Nein</td>\n",
       "      <td>No</td>\n",
       "      <td>...</td>\n",
       "      <td>No</td>\n",
       "      <td>Acute therapy</td>\n",
       "      <td>Individual</td>\n",
       "      <td>06 to 09 years</td>\n",
       "      <td>No</td>\n",
       "      <td>No</td>\n",
       "      <td>Gym</td>\n",
       "      <td>Flexibility</td>\n",
       "      <td>1. Time point</td>\n",
       "      <td>Moderate</td>\n",
       "    </tr>\n",
       "    <tr>\n",
       "      <th>176</th>\n",
       "      <td>207</td>\n",
       "      <td>1</td>\n",
       "      <td>First occurrence</td>\n",
       "      <td>Yes</td>\n",
       "      <td>2024-12-12</td>\n",
       "      <td>Pain|Schmerzhafter Spontaneous painful bowel m...</td>\n",
       "      <td>Physical strain|Medical therapy</td>\n",
       "      <td>Intestine</td>\n",
       "      <td>Ja</td>\n",
       "      <td>No</td>\n",
       "      <td>...</td>\n",
       "      <td>No</td>\n",
       "      <td>Acute therapy</td>\n",
       "      <td>Individual</td>\n",
       "      <td>06 to 09 years</td>\n",
       "      <td>No</td>\n",
       "      <td>No</td>\n",
       "      <td>Gym</td>\n",
       "      <td>Full body</td>\n",
       "      <td>2. Time point</td>\n",
       "      <td>Moderate</td>\n",
       "    </tr>\n",
       "    <tr>\n",
       "      <th>177</th>\n",
       "      <td>213</td>\n",
       "      <td>1</td>\n",
       "      <td>First occurrence</td>\n",
       "      <td>Yes</td>\n",
       "      <td>2024-12-12</td>\n",
       "      <td>Pain</td>\n",
       "      <td>Physical strain</td>\n",
       "      <td>Back</td>\n",
       "      <td>Ja</td>\n",
       "      <td>No</td>\n",
       "      <td>...</td>\n",
       "      <td>No</td>\n",
       "      <td>Acute therapy</td>\n",
       "      <td>Individual</td>\n",
       "      <td>10 to 14 years</td>\n",
       "      <td>No</td>\n",
       "      <td>No</td>\n",
       "      <td>Gym</td>\n",
       "      <td>Coordination</td>\n",
       "      <td>2. Time point</td>\n",
       "      <td>Average</td>\n",
       "    </tr>\n",
       "  </tbody>\n",
       "</table>\n",
       "<p>178 rows × 37 columns</p>\n",
       "</div>"
      ],
      "text/plain": [
       "     [00.00] ParticipantID [01.01] CTCAE      [01.02] Date  \\\n",
       "0                        3             2   Already present   \n",
       "1                        4             1  First occurrence   \n",
       "2                        5             2   Already present   \n",
       "3                        6             1  First occurrence   \n",
       "4                        7             3  First occurrence   \n",
       "..                     ...           ...               ...   \n",
       "173                    204             1  First occurrence   \n",
       "174                    205             1   Already present   \n",
       "175                    206             2  First occurrence   \n",
       "176                    207             1  First occurrence   \n",
       "177                    213             1  First occurrence   \n",
       "\n",
       "    [01.03] Exercise-related [02.01] CreatedOn  \\\n",
       "0                         No        2022-10-01   \n",
       "1                        Yes        2022-10-01   \n",
       "2                         No        2022-11-01   \n",
       "3                         No        2022-11-01   \n",
       "4                        Yes        2022-11-01   \n",
       "..                       ...               ...   \n",
       "173                      Yes        2024-11-27   \n",
       "174                      Yes        2024-12-03   \n",
       "175                      Yes        2024-12-08   \n",
       "176                      Yes        2024-12-12   \n",
       "177                      Yes        2024-12-12   \n",
       "\n",
       "                                          [02.02] Type  \\\n",
       "0                                      Nausea/Vomiting   \n",
       "1                                                 Pain   \n",
       "2                                 Circulatory problems   \n",
       "3                                      Nausea/Vomiting   \n",
       "4                                        Bone injuries   \n",
       "..                                                 ...   \n",
       "173                               Circulatory problems   \n",
       "174                               Circulatory problems   \n",
       "175                                    Nausea/Vomiting   \n",
       "176  Pain|Schmerzhafter Spontaneous painful bowel m...   \n",
       "177                                               Pain   \n",
       "\n",
       "                          [02.03] Trigger [02.04] Affected body parts  \\\n",
       "0         Physical strain|Medical therapy      Internal medicine type   \n",
       "1                   Coordination problems               Back|Buttocks   \n",
       "2                         Medical therapy      Internal medicine type   \n",
       "3         Physical strain|Medical therapy      Internal medicine type   \n",
       "4                              Fall event           Lower extremities   \n",
       "..                                    ...                         ...   \n",
       "173                       Physical strain                   Full body   \n",
       "174                       Physical strain                   Full body   \n",
       "175  Psychological strain|Medical therapy                   Full body   \n",
       "176       Physical strain|Medical therapy                   Intestine   \n",
       "177                       Physical strain                        Back   \n",
       "\n",
       "    [03.01] Pain [03.02] With hospitalization  ... [03.16] Death  \\\n",
       "0           Nein                           No  ...            No   \n",
       "1             Ja                           No  ...            No   \n",
       "2           Nein                           No  ...            No   \n",
       "3           Nein                           No  ...            No   \n",
       "4             Ja                    <Unknown>  ...            No   \n",
       "..           ...                          ...  ...           ...   \n",
       "173         Nein                           No  ...            No   \n",
       "174         Nein                           No  ...            No   \n",
       "175         Nein                           No  ...            No   \n",
       "176           Ja                           No  ...            No   \n",
       "177           Ja                           No  ...            No   \n",
       "\n",
       "    [05.01] Therapy phase [05.02] Group size     [05.03] Age [05.04] Online  \\\n",
       "0           Acute therapy         Individual  10 to 14 years             No   \n",
       "1           Acute therapy         Individual  06 to 09 years             No   \n",
       "2           Acute therapy         Individual  10 to 14 years             No   \n",
       "3           Acute therapy         Individual  02 to 05 years             No   \n",
       "4               Aftercare         Individual  15 to 18 years             No   \n",
       "..                    ...                ...             ...            ...   \n",
       "173         Acute therapy         Individual  06 to 09 years             No   \n",
       "174         Acute therapy         Individual  06 to 09 years             No   \n",
       "175         Acute therapy         Individual  06 to 09 years             No   \n",
       "176         Acute therapy         Individual  06 to 09 years             No   \n",
       "177         Acute therapy         Individual  10 to 14 years             No   \n",
       "\n",
       "    [05.05] As part of testing    [05.06] Setting [05.07] Main motor skill  \\\n",
       "0                           No  Hospital corridor             Coordination   \n",
       "1                           No  Hospital corridor             Coordination   \n",
       "2                           No      Patients room             Coordination   \n",
       "3                           No      Patients room             Coordination   \n",
       "4                           No                Gym    Coordination|Strength   \n",
       "..                         ...                ...                      ...   \n",
       "173                         No                Gym                Full body   \n",
       "174                         No                nan             Coordination   \n",
       "175                         No                Gym              Flexibility   \n",
       "176                         No                Gym                Full body   \n",
       "177                         No                Gym             Coordination   \n",
       "\n",
       "    [05.08] Time point [05.09] Training condition  \n",
       "0        2. Time point                    Average  \n",
       "1        1. Time point                       Good  \n",
       "2        2. Time point                   Moderate  \n",
       "3        1. Time point                    Average  \n",
       "4        1. Time point                   Moderate  \n",
       "..                 ...                        ...  \n",
       "173      2. Time point                   Moderate  \n",
       "174      2. Time point                   Moderate  \n",
       "175      1. Time point                   Moderate  \n",
       "176      2. Time point                   Moderate  \n",
       "177      2. Time point                    Average  \n",
       "\n",
       "[178 rows x 37 columns]"
      ]
     },
     "metadata": {},
     "output_type": "display_data"
    },
    {
     "data": {
      "text/plain": [
       "Index(['[00.00] ParticipantID', '[01.01] CTCAE', '[01.02] Date',\n",
       "       '[01.03] Exercise-related', '[02.01] CreatedOn', '[02.02] Type',\n",
       "       '[02.03] Trigger', '[02.04] Affected body parts', '[03.01] Pain',\n",
       "       '[03.02] With hospitalization', '[03.03] Medical follow-up treatment',\n",
       "       '[03.04] With delayed therapy protocol',\n",
       "       '[03.05] Life-saving intervention', '[03.06] Increased care needs',\n",
       "       '[03.07] With medication administration', '[03.08.01] Affected person',\n",
       "       '[03.08] Occurrence of fear and uncertainty',\n",
       "       '[03.09] Structural adjustment', '[03.10.01] Approver',\n",
       "       '[03.10.02] OK to proceed',\n",
       "       '[03.10] Assessment of the situation by expertise',\n",
       "       '[03.11] Application RICE rule (Rest, Ice, Compression, Elevation)',\n",
       "       '[03.12] With observation', '[03.13.01] Stop or Break', '[03.13] Stop',\n",
       "       '[03.14.01] Adaptations intensity', '[03.14] Adaptations',\n",
       "       '[03.16] Death', '[05.01] Therapy phase', '[05.02] Group size',\n",
       "       '[05.03] Age', '[05.04] Online', '[05.05] As part of testing',\n",
       "       '[05.06] Setting', '[05.07] Main motor skill', '[05.08] Time point',\n",
       "       '[05.09] Training condition'],\n",
       "      dtype='object')"
      ]
     },
     "execution_count": 26,
     "metadata": {},
     "output_type": "execute_result"
    }
   ],
   "source": [
    "display(df_csv_condensed)\n",
    "df_csv_condensed.columns"
   ]
  },
  {
   "cell_type": "markdown",
   "metadata": {},
   "source": [
    "## <a id='toc1_5_'></a>[💾 data for pivot use](#toc0_)"
   ]
  },
  {
   "cell_type": "code",
   "execution_count": 27,
   "metadata": {},
   "outputs": [],
   "source": [
    "if ENABLE_UPDATE:\n",
    "    # # * only show cols w/ >1 value\n",
    "    # df_csv_short = df_csv.loc[:, df_csv.apply(pd.Series.nunique) > 1]\n",
    "    # df_csv_short.to_csv(Path(dir_data_out/\"df_csv_short.csv\"),sep=\";\", index=False, encoding=\"utf-8-sig\")\n",
    "\n",
    "    df_csv.to_csv(Path(dir_data_out/\"df_csv.csv\"),sep=\";\", index=False, encoding=\"utf-8-sig\")\n",
    "    df_csv.to_excel(Path(dir_data_out/\"df_csv.xlsx\"),index=False)\n",
    "    df_csv_condensed.sort_index(axis=1).to_csv(Path(dir_data_out/\"df_csv_condensed.csv\"),sep=\";\", index=False, encoding=\"utf-8-sig\")\n",
    "    df_csv_condensed.sort_index(axis=1).to_excel(Path(dir_data_out/\"df_csv_condensed.xlsx\"), index=False)"
   ]
  },
  {
   "cell_type": "code",
   "execution_count": 28,
   "metadata": {},
   "outputs": [],
   "source": [
    "# for col in df_csv.columns.to_list()[8]:\n",
    "#     x = col\n",
    "#     x1=re.search(pattern=r\"^\\[\\d{2}\\.\\d{2}(\\.\\d{2})?\\]\", string=x).group()\n",
    "#     x3 = re.search(pattern=r\"( \\(choice=.*?\\)+|\\.\\d$)\", string=x).group()\n",
    "#     x4 = re.search(pattern=r\"\\(choice=(.*?)\\)\", string=x).group(1)\n",
    "#     x5 = re.search(pattern=r\"\\](.*?)\\(choice=\", string=x).group(1)\n",
    "#     print(f\"{x} | {x1} | {x4} | {x5}\")"
   ]
  },
  {
   "cell_type": "code",
   "execution_count": 29,
   "metadata": {},
   "outputs": [
    {
     "name": "stdout",
     "output_type": "stream",
     "text": [
      "🔵 *** df: df_csv_condensed ***  \n",
      "🟣 shape: (178, 37) columns: ['[00.00] ParticipantID' '[01.01] CTCAE' '[01.02] Date'\n",
      " '[01.03] Exercise-related' '[02.01] CreatedOn' '[02.02] Type'\n",
      " '[02.03] Trigger' '[02.04] Affected body parts' '[03.01] Pain'\n",
      " '[03.02] With hospitalization' '[03.03] Medical follow-up treatment'\n",
      " '[03.04] With delayed therapy protocol'\n",
      " '[03.05] Life-saving intervention' '[03.06] Increased care needs'\n",
      " '[03.07] With medication administration' '[03.08.01] Affected person'\n",
      " '[03.08] Occurrence of fear and uncertainty'\n",
      " '[03.09] Structural adjustment' '[03.10.01] Approver'\n",
      " '[03.10.02] OK to proceed'\n",
      " '[03.10] Assessment of the situation by expertise'\n",
      " '[03.11] Application RICE rule (Rest, Ice, Compression, Elevation)'\n",
      " '[03.12] With observation' '[03.13.01] Stop or Break' '[03.13] Stop'\n",
      " '[03.14.01] Adaptations intensity' '[03.14] Adaptations' '[03.16] Death'\n",
      " '[05.01] Therapy phase' '[05.02] Group size' '[05.03] Age'\n",
      " '[05.04] Online' '[05.05] As part of testing' '[05.06] Setting'\n",
      " '[05.07] Main motor skill' '[05.08] Time point'\n",
      " '[05.09] Training condition']  \n",
      "🟣 duplicates: 0  \n",
      "🟣 uniques: [{00.00 ParticipantID: 178 01.01 CTCAE: 3 01.02 Date: 2 01.03 Exercise-related: 3 02.01  \n",
      "CreatedOn: 127 02.02 Type: 32 02.03 Trigger: 24 02.04 Affected body parts: 21 03.01  \n",
      "Pain: 2 03.02 With hospitalization: 3 03.03 Medical follow-up treatment: 3 03.04 With  \n",
      "delayed therapy protocol: 1 03.05 Life-saving intervention: 1 03.06 Increased care  \n",
      "needs: 2 03.07 With medication administration: 3 03.08.01 Affected person: 10 03.08  \n",
      "Occurrence of fear and uncertainty: 3 03.09 Structural adjustment: 3 03.10.01 Approver:  \n",
      "6 03.10.02 OK to proceed: 1 03.10 Assessment of the situation by expertise: 0 03.11 Application  \n",
      "RICE rule (Rest Ice Compression Elevation): 2 03.12 With observation: 3 03.13.01 Stop  \n",
      "or Break: 3 03.13 Stop: 2 03.14.01 Adaptations intensity: 9 03.14 Adaptations: 1 03.16  \n",
      "Death: 1 05.01 Therapy phase: 3 05.02 Group size: 5 05.03 Age: 6 05.04 Online: 2 05.05  \n",
      "As part of testing: 3 05.06 Setting: 6 05.07 Main motor skill: 16 05.08 Time point: 3 05.09  \n",
      "Training condition: 5}]  \n",
      "🟣 missings: [{00.00 ParticipantID: 0 01.01 CTCAE: 0 01.02 Date: 0 01.03 Exercise-related: 0 02.01  \n",
      "CreatedOn: 0 02.02 Type: 0 02.03 Trigger: 0 02.04 Affected body parts: 0 03.01 Pain:  \n",
      "0 03.02 With hospitalization: 0 03.03 Medical follow-up treatment: 0 03.04 With delayed  \n",
      "therapy protocol: 0 03.05 Life-saving intervention: 0 03.06 Increased care needs:  \n",
      "0 03.07 With medication administration: 5 03.08.01 Affected person: 0 03.08 Occurrence  \n",
      "of fear and uncertainty: 0 03.09 Structural adjustment: 0 03.10.01 Approver: 0 03.10.02  \n",
      "OK to proceed: 0 03.10 Assessment of the situation by expertise: 178 03.11 Application  \n",
      "RICE rule (Rest Ice Compression Elevation): 0 03.12 With observation: 0 03.13.01 Stop  \n",
      "or Break: 0 03.13 Stop: 0 03.14.01 Adaptations intensity: 0 03.14 Adaptations: 0 03.16  \n",
      "Death: 0 05.01 Therapy phase: 0 05.02 Group size: 0 05.03 Age: 0 05.04 Online: 1 05.05  \n",
      "As part of testing: 0 05.06 Setting: 0 05.07 Main motor skill: 0 05.08 Time point: 0 05.09  \n",
      "Training condition: 0}]  \n",
      "--- column uniques (all)  \n",
      "🟠 index [0, 1, 2, 3, 4,]  \n",
      "🟠 [00.00] ParticipantID(178|int64)   [3, 4, 5, 6, 7,]  \n",
      "🟠 [01.01] CTCAE(3|object)   ['1', '2', '3',]  \n",
      "🟠 [01.02] Date(2|object)   ['Already present', 'First occurrence',]  \n",
      "🟠 [01.03] Exercise-related(3|object)   ['No', 'Yes', 'nan',]  \n",
      "🟠 [02.01] CreatedOn(127|datetime64[ns])   [2021-01-11 00:00:00, 2021-01-12 00:00:00, 2021-01-18 00:00:00, 2021-02-01 00:00:00,  \n",
      "2021-02-19 00:00:00,]  \n",
      "🟠 [02.02] Type(32|object)   ['Bone injuries', 'Circulatory problems', 'Circulatory problems|Muscle cramps',  \n",
      "'Circulatory problems|Psychological stress reaction', 'Circulatory problems|Severe exhaustion',]  \n",
      "🟠 [02.03] Trigger(24|object)   ['Colliding', 'Coordination problems', 'Environmental conditions|Colliding',  \n",
      "'Fall event', 'Fall event|Coordination problems',]  \n",
      "🟠 [02.04] Affected body parts(21|object)   ['<NA>', 'Abdomen', 'Abdomen|Coccyx', 'Abdomen|Intestine', 'Back',]  \n",
      "🟠 [03.01] Pain(2|object)   ['Ja', 'Nein',]  \n",
      "🟠 [03.02] With hospitalization(3|object)   ['<Unknown>', 'No', 'Yes',]  \n",
      "🟠 [03.03] Medical follow-up treatment(3|object)   ['<Unknown>', 'No', 'Yes',]  \n",
      "🟠 [03.04] With delayed therapy protocol(1|object)   ['No',]  \n",
      "🟠 [03.05] Life-saving intervention(1|object)   ['No',]  \n",
      "🟠 [03.06] Increased care needs(2|object)   ['No', 'Yes',]  \n",
      "🟠 [03.07] With medication administration(4|object)   ['<NA>', '<Unknown>', 'No', 'Yes',]  \n",
      "🟠 [03.08.01] Affected person(10|object)   ['<NA>', 'For affected individuals', 'For affected individuals|For parents',  \n",
      "'For affected individuals|For parents|In the treatment team', 'For affected individuals|For the excercise experts',]  \n",
      "🟠 [03.08] Occurrence of fear and uncertainty(3|object)   ['No', 'Yes', 'nan',]  \n",
      "🟠 [03.09] Structural adjustment(3|object)   ['No', 'Yes', 'nan',]  \n",
      "🟠 [03.10.01] Approver(6|object)   ['-', 'By medical professionals', 'By nursing staff', 'By parents', 'By physiotherapy',]  \n",
      "🟠 [03.10.02] OK to proceed(1|object)   ['-',]  \n",
      "🟠 [03.10] Assessment of the situation by expertise(1|object)   ['<NA>',]  \n",
      "🟠 [03.11] Application RICE rule (Rest, Ice, Compression, Elevation)(2|object)   ['No', 'Yes',]  \n",
      "🟠 [03.12] With observation(3|object)   ['<Unknown>', 'No', 'Yes',]  \n",
      "🟠 [03.13.01] Stop or Break(3|object)   ['Break', 'Cessation', 'nan',]  \n",
      "🟠 [03.13] Stop(2|object)   ['No', 'Yes',]  \n",
      "🟠 [03.14.01] Adaptations intensity(9|object)   ['<NA>', 'Communication strategy', 'Equipment', 'Exercise selection', 'Exercise selection|Equipment',]  \n",
      "🟠 [03.14] Adaptations(1|object)   ['-',]  \n",
      "🟠 [03.16] Death(1|object)   ['No',]  \n",
      "🟠 [05.01] Therapy phase(3|object)   ['Acute therapy', 'Aftercare', 'Long-term therapy',]  \n",
      "🟠 [05.02] Group size(5|object)   ['Group 2-5', 'Group 5 to 10', 'Group over 10', 'Individual', 'nan',]  \n",
      "🟠 [05.03] Age(6|object)   ['02 to 05 years', '06 to 09 years', '10 to 14 years', '15 to 18 years', '18+ years',]  \n",
      "🟠 [05.04] Online(3|object)   ['<NA>', 'No', 'Yes',]  \n",
      "🟠 [05.05] As part of testing(3|object)   ['No', 'Yes', 'nan',]  \n",
      "🟠 [05.06] Setting(6|object)   ['At home (via telemedicine)', 'Gym', 'Hospital corridor', 'Outside', 'Patients room',]  \n",
      "🟠 [05.07] Main motor skill(16|object)   ['<NA>', 'Coordination', 'Coordination|Speed', 'Coordination|Strength', 'Endurance',]  \n",
      "🟠 [05.08] Time point(3|object)   ['1. Time point', '2. Time point', 'nan',]  \n",
      "🟠 [05.09] Training condition(5|object)   ['<NA>', '<Unknown>', 'Average', 'Good', 'Moderate',]  \n",
      "--- column stats (numeric)  \n",
      "[00.00] ParticipantID -> min: 3 | lower: 3 | q25: 51.25 | median: 111.5 | mean: 105.5 | q75: 156.75 | upper: 213 | max: 213 | std: 60.527 | cv: 0.574 | sum: 18_779 | skew: -0.065 | kurto: -1.234  \n"
     ]
    },
    {
     "data": {
      "text/html": [
       "<div>\n",
       "<style scoped>\n",
       "    .dataframe tbody tr th:only-of-type {\n",
       "        vertical-align: middle;\n",
       "    }\n",
       "\n",
       "    .dataframe tbody tr th {\n",
       "        vertical-align: top;\n",
       "    }\n",
       "\n",
       "    .dataframe thead th {\n",
       "        text-align: right;\n",
       "    }\n",
       "</style>\n",
       "<table border=\"1\" class=\"dataframe\">\n",
       "  <thead>\n",
       "    <tr style=\"text-align: right;\">\n",
       "      <th></th>\n",
       "      <th>[00.00] ParticipantID</th>\n",
       "      <th>[01.01] CTCAE</th>\n",
       "      <th>[01.02] Date</th>\n",
       "      <th>[01.03] Exercise-related</th>\n",
       "      <th>[02.01] CreatedOn</th>\n",
       "      <th>[02.02] Type</th>\n",
       "      <th>[02.03] Trigger</th>\n",
       "      <th>[02.04] Affected body parts</th>\n",
       "      <th>[03.01] Pain</th>\n",
       "      <th>[03.02] With hospitalization</th>\n",
       "      <th>...</th>\n",
       "      <th>[03.16] Death</th>\n",
       "      <th>[05.01] Therapy phase</th>\n",
       "      <th>[05.02] Group size</th>\n",
       "      <th>[05.03] Age</th>\n",
       "      <th>[05.04] Online</th>\n",
       "      <th>[05.05] As part of testing</th>\n",
       "      <th>[05.06] Setting</th>\n",
       "      <th>[05.07] Main motor skill</th>\n",
       "      <th>[05.08] Time point</th>\n",
       "      <th>[05.09] Training condition</th>\n",
       "    </tr>\n",
       "  </thead>\n",
       "  <tbody>\n",
       "    <tr>\n",
       "      <th>0</th>\n",
       "      <td>3</td>\n",
       "      <td>2</td>\n",
       "      <td>Already present</td>\n",
       "      <td>No</td>\n",
       "      <td>2022-10-01</td>\n",
       "      <td>Nausea/Vomiting</td>\n",
       "      <td>Physical strain|Medical therapy</td>\n",
       "      <td>Internal medicine type</td>\n",
       "      <td>Nein</td>\n",
       "      <td>No</td>\n",
       "      <td>...</td>\n",
       "      <td>No</td>\n",
       "      <td>Acute therapy</td>\n",
       "      <td>Individual</td>\n",
       "      <td>10 to 14 years</td>\n",
       "      <td>No</td>\n",
       "      <td>No</td>\n",
       "      <td>Hospital corridor</td>\n",
       "      <td>Coordination</td>\n",
       "      <td>2. Time point</td>\n",
       "      <td>Average</td>\n",
       "    </tr>\n",
       "    <tr>\n",
       "      <th>1</th>\n",
       "      <td>4</td>\n",
       "      <td>1</td>\n",
       "      <td>First occurrence</td>\n",
       "      <td>Yes</td>\n",
       "      <td>2022-10-01</td>\n",
       "      <td>Pain</td>\n",
       "      <td>Coordination problems</td>\n",
       "      <td>Back|Buttocks</td>\n",
       "      <td>Ja</td>\n",
       "      <td>No</td>\n",
       "      <td>...</td>\n",
       "      <td>No</td>\n",
       "      <td>Acute therapy</td>\n",
       "      <td>Individual</td>\n",
       "      <td>06 to 09 years</td>\n",
       "      <td>No</td>\n",
       "      <td>No</td>\n",
       "      <td>Hospital corridor</td>\n",
       "      <td>Coordination</td>\n",
       "      <td>1. Time point</td>\n",
       "      <td>Good</td>\n",
       "    </tr>\n",
       "    <tr>\n",
       "      <th>2</th>\n",
       "      <td>5</td>\n",
       "      <td>2</td>\n",
       "      <td>Already present</td>\n",
       "      <td>No</td>\n",
       "      <td>2022-11-01</td>\n",
       "      <td>Circulatory problems</td>\n",
       "      <td>Medical therapy</td>\n",
       "      <td>Internal medicine type</td>\n",
       "      <td>Nein</td>\n",
       "      <td>No</td>\n",
       "      <td>...</td>\n",
       "      <td>No</td>\n",
       "      <td>Acute therapy</td>\n",
       "      <td>Individual</td>\n",
       "      <td>10 to 14 years</td>\n",
       "      <td>No</td>\n",
       "      <td>No</td>\n",
       "      <td>Patients room</td>\n",
       "      <td>Coordination</td>\n",
       "      <td>2. Time point</td>\n",
       "      <td>Moderate</td>\n",
       "    </tr>\n",
       "  </tbody>\n",
       "</table>\n",
       "<p>3 rows × 37 columns</p>\n",
       "</div>"
      ],
      "text/plain": [
       "   [00.00] ParticipantID [01.01] CTCAE      [01.02] Date  \\\n",
       "0                      3             2   Already present   \n",
       "1                      4             1  First occurrence   \n",
       "2                      5             2   Already present   \n",
       "\n",
       "  [01.03] Exercise-related [02.01] CreatedOn          [02.02] Type  \\\n",
       "0                       No        2022-10-01       Nausea/Vomiting   \n",
       "1                      Yes        2022-10-01                  Pain   \n",
       "2                       No        2022-11-01  Circulatory problems   \n",
       "\n",
       "                   [02.03] Trigger [02.04] Affected body parts [03.01] Pain  \\\n",
       "0  Physical strain|Medical therapy      Internal medicine type         Nein   \n",
       "1            Coordination problems               Back|Buttocks           Ja   \n",
       "2                  Medical therapy      Internal medicine type         Nein   \n",
       "\n",
       "  [03.02] With hospitalization  ... [03.16] Death [05.01] Therapy phase  \\\n",
       "0                           No  ...            No         Acute therapy   \n",
       "1                           No  ...            No         Acute therapy   \n",
       "2                           No  ...            No         Acute therapy   \n",
       "\n",
       "  [05.02] Group size     [05.03] Age [05.04] Online  \\\n",
       "0         Individual  10 to 14 years             No   \n",
       "1         Individual  06 to 09 years             No   \n",
       "2         Individual  10 to 14 years             No   \n",
       "\n",
       "  [05.05] As part of testing    [05.06] Setting [05.07] Main motor skill  \\\n",
       "0                         No  Hospital corridor             Coordination   \n",
       "1                         No  Hospital corridor             Coordination   \n",
       "2                         No      Patients room             Coordination   \n",
       "\n",
       "  [05.08] Time point [05.09] Training condition  \n",
       "0      2. Time point                    Average  \n",
       "1      1. Time point                       Good  \n",
       "2      2. Time point                   Moderate  \n",
       "\n",
       "[3 rows x 37 columns]"
      ]
     },
     "metadata": {},
     "output_type": "display_data"
    },
    {
     "data": {
      "application/vnd.plotly.v1+json": {
       "config": {
        "plotlyServerURL": "https://plot.ly"
       },
       "data": [
        {
         "hovertemplate": "x=%{x}<br>y=%{y}<extra></extra>",
         "legendgroup": "",
         "marker": {
          "color": "#636efa",
          "pattern": {
           "shape": ""
          }
         },
         "name": "",
         "orientation": "v",
         "showlegend": false,
         "textposition": "auto",
         "type": "bar",
         "x": {
          "bdata": "AwAyABgADQAFAAYABwAIAAkACgALAAwADgAXAA8AEAARABIAEwAUABUAGQAaADEAJABuABsAHAAdAB4AHwAgACEAJwAwACgAKQAqACsALAAtAC4ALwAWADMAnQA0AEAANgA3ADgAOQA7ADwAPQA/AEEATQBDAEQARQBGAEcASgBLAEwANQBOAFAAYwBkAFEAUgBTAFQAVQBWAGIAZQBtAE8AZgBnAGgAaQBqAGsAbABvAHAAcQCzAHoAcgBzAHQAdQB2AHcAeAA=",
          "dtype": "i2"
         },
         "xaxis": "x",
         "y": {
          "bdata": "AQEBAQEBAQEBAQEBAQEBAQEBAQEBAQEBAQEBAQEBAQEBAQEBAQEBAQEBAQEBAQEBAQEBAQEBAQEBAQEBAQEBAQEBAQEBAQEBAQEBAQEBAQEBAQEBAQEBAQEBAQEBAQEBAQEBAQ==",
          "dtype": "i1"
         },
         "yaxis": "y"
        },
        {
         "hovertemplate": "x=%{x}<br>y=%{y}<extra></extra>",
         "legendgroup": "",
         "marker": {
          "color": "#636efa",
          "pattern": {
           "shape": ""
          }
         },
         "name": "",
         "orientation": "v",
         "showlegend": false,
         "textposition": "auto",
         "type": "bar",
         "x": [
          "1",
          "2",
          "3"
         ],
         "xaxis": "x2",
         "y": {
          "bdata": "hQAqAAMA",
          "dtype": "i2"
         },
         "yaxis": "y2"
        },
        {
         "hovertemplate": "x=%{x}<br>y=%{y}<extra></extra>",
         "legendgroup": "",
         "marker": {
          "color": "#636efa",
          "pattern": {
           "shape": ""
          }
         },
         "name": "",
         "orientation": "v",
         "showlegend": false,
         "textposition": "auto",
         "type": "bar",
         "x": [
          "First occurrenc..",
          "Already present"
         ],
         "xaxis": "x3",
         "y": {
          "bdata": "kgAgAA==",
          "dtype": "i2"
         },
         "yaxis": "y3"
        },
        {
         "hovertemplate": "x=%{x}<br>y=%{y}<extra></extra>",
         "legendgroup": "",
         "marker": {
          "color": "#636efa",
          "pattern": {
           "shape": ""
          }
         },
         "name": "",
         "orientation": "v",
         "showlegend": false,
         "textposition": "auto",
         "type": "bar",
         "x": [
          "Yes",
          "No",
          "nan"
         ],
         "xaxis": "x4",
         "y": {
          "bdata": "lgAbAAEA",
          "dtype": "i2"
         },
         "yaxis": "y4"
        },
        {
         "hovertemplate": "x=%{x}<br>y=%{y}<extra></extra>",
         "legendgroup": "",
         "marker": {
          "color": "#636efa",
          "pattern": {
           "shape": ""
          }
         },
         "name": "",
         "orientation": "v",
         "showlegend": false,
         "textposition": "auto",
         "type": "bar",
         "x": [
          "2023-05-01",
          "2023-06-01",
          "2023-01-01",
          "2021-08-23",
          "2023-12-01",
          "2023-10-01",
          "2024-02-07",
          "2022-07-04",
          "2023-04-01",
          "2022-11-01",
          "2024-12-12",
          "2021-06-05",
          "2021-11-13",
          "2023-07-01",
          "2024-02-05",
          "2024-01-01",
          "2023-08-01",
          "2021-05-06",
          "2022-07-19",
          "2024-02-13",
          "2021-02-01",
          "2021-03-17",
          "2021-11-04",
          "2022-01-18",
          "2022-10-01",
          "2021-11-03",
          "2021-07-05",
          "2021-03-01",
          "2024-01-15",
          "2024-01-29",
          "2024-04-24",
          "2024-03-11",
          "2024-03-12",
          "2024-03-14",
          "2024-03-18",
          "2024-04-04",
          "2024-05-03",
          "2024-02-06",
          "2024-06-06",
          "2024-04-26",
          "2024-05-15",
          "2024-05-21",
          "2024-06-10",
          "2024-06-11",
          "2022-04-20",
          "2022-05-20",
          "2022-06-24",
          "2022-06-22",
          "2024-03-09",
          "2024-04-12",
          "2024-01-10",
          "2022-08-08",
          "2022-01-24",
          "2021-10-13",
          "2024-03-15",
          "2022-02-17",
          "2022-04-06",
          "2022-05-18",
          "2022-06-28",
          "2022-07-01",
          "2022-07-14",
          "2022-08-02",
          "2022-05-22",
          "2022-03-31",
          "2021-04-29",
          "2024-02-16",
          "2024-02-20",
          "2021-08-26",
          "2021-08-04",
          "2021-06-09",
          "2024-02-02",
          "2021-10-25",
          "2022-02-24",
          "2021-03-18",
          "2021-06-04",
          "2022-02-01",
          "2024-01-06",
          "2024-10-07",
          "2023-03-01",
          "2024-05-01",
          "2021-12-15",
          "2021-12-03",
          "2021-01-11",
          "2021-01-12",
          "2021-02-19",
          "2023-08-20",
          "2021-04-08",
          "2021-07-07",
          "2021-09-20",
          "2021-12-09",
          "2021-10-01",
          "2021-09-25",
          "2021-10-06",
          "2021-11-05",
          "2021-12-13",
          "2021-09-30",
          "2021-10-17",
          "2021-10-07",
          "2021-10-04",
          "2021-09-12"
         ],
         "xaxis": "x5",
         "y": {
          "bdata": "CAYGAwMDAwMDAwMDAgICAgICAgICAgICAgICAgEBAQEBAQEBAQEBAQEBAQEBAQEBAQEBAQEBAQEBAQEBAQEBAQEBAQEBAQEBAQEBAQEBAQEBAQEBAQEBAQEBAQEBAQEBAQEBAQ==",
          "dtype": "i1"
         },
         "yaxis": "y5"
        },
        {
         "hovertemplate": "x=%{x}<br>y=%{y}<extra></extra>",
         "legendgroup": "",
         "marker": {
          "color": "#636efa",
          "pattern": {
           "shape": ""
          }
         },
         "name": "",
         "orientation": "v",
         "showlegend": false,
         "textposition": "auto",
         "type": "bar",
         "x": [
          "Pain",
          "Nausea/Vomiting",
          "Circulatory pro..",
          "Pain|Soft tissu..",
          "Pain|Superficia..",
          "Soft tissue/inj..",
          "Superficial inj..",
          "Muscle soreness",
          "Itching",
          "Nosebleed",
          "Psychological s..",
          "Circulatory pro..",
          "Coughing fit",
          "Enuresis",
          "Pain|Schmerzhaf..",
          "Pain|Muscle sor..",
          "Pain|Superficia..",
          "Nausea/Vomiting..",
          "Circulatory pro..",
          "Severe exhausti..",
          "Pain|Itching",
          "Bone injuries",
          "Coughing fit|Ps..",
          "Nausea/Vomiting..",
          "Pain|Bone injur..",
          "Pain|Circulator..",
          "Pain|Psychologi..",
          "Nausea/Vomiting..",
          "Pain|Circulator..",
          "Pain|Nausea/Vom..",
          "Nausea/Vomiting..",
          "Circulatory pro.."
         ],
         "xaxis": "x6",
         "y": {
          "bdata": "PB0TDQkEBAMDAgICAgICAgICAgIBAQEBAQEBAQEBAQE=",
          "dtype": "i1"
         },
         "yaxis": "y6"
        },
        {
         "hovertemplate": "x=%{x}<br>y=%{y}<extra></extra>",
         "legendgroup": "",
         "marker": {
          "color": "#636efa",
          "pattern": {
           "shape": ""
          }
         },
         "name": "",
         "orientation": "v",
         "showlegend": false,
         "textposition": "auto",
         "type": "bar",
         "x": [
          "Physical strain..",
          "Physical strain",
          "Fall event",
          "Fall event|Coor..",
          "Coordination pr..",
          "Medical therapy",
          "Colliding",
          "Physical strain..",
          "Psychological s..",
          "Physical strain..",
          "Physical strain..",
          "Fall event|Phys..",
          "Physical strain..",
          "Fall event|Envi..",
          "Physical strain..",
          "Psychological s..",
          "Fall event|Phys..",
          "Medical therapy..",
          "Fall event|Medi..",
          "Medical therapy..",
          "Physical strain..",
          "Psychological s..",
          "Fall event|Psyc..",
          "Environmental c.."
         ],
         "xaxis": "x7",
         "y": {
          "bdata": "QR8YCggGBAMDAwMCAgICAgEBAQEBAQEB",
          "dtype": "i1"
         },
         "yaxis": "y7"
        },
        {
         "hovertemplate": "x=%{x}<br>y=%{y}<extra></extra>",
         "legendgroup": "",
         "marker": {
          "color": "#636efa",
          "pattern": {
           "shape": ""
          }
         },
         "name": "",
         "orientation": "v",
         "showlegend": false,
         "textposition": "auto",
         "type": "bar",
         "x": [
          "Internal medici..",
          "Lower extremiti..",
          "Head",
          "Abdomen",
          "Full body",
          "Back",
          "Upper extremiti..",
          "Chest",
          "Buttocks",
          "Intestine",
          "Head|Upper extr..",
          "Back|Buttocks",
          "Abdomen|Coccyx",
          "Full body|Inter..",
          "Coccyx",
          "Head|Buttocks",
          "<NA>",
          "Intimate area",
          "Upper extremiti..",
          "Back|Abdomen",
          "Abdomen|Intesti.."
         ],
         "xaxis": "x8",
         "y": {
          "bdata": "QCsRCAgICAUDAgIBAQEBAQEBAQEB",
          "dtype": "i1"
         },
         "yaxis": "y8"
        },
        {
         "hovertemplate": "x=%{x}<br>y=%{y}<extra></extra>",
         "legendgroup": "",
         "marker": {
          "color": "#636efa",
          "pattern": {
           "shape": ""
          }
         },
         "name": "",
         "orientation": "v",
         "showlegend": false,
         "textposition": "auto",
         "type": "bar",
         "x": [
          "Ja",
          "Nein"
         ],
         "xaxis": "x9",
         "y": {
          "bdata": "akg=",
          "dtype": "i1"
         },
         "yaxis": "y9"
        },
        {
         "hovertemplate": "x=%{x}<br>y=%{y}<extra></extra>",
         "legendgroup": "",
         "marker": {
          "color": "#636efa",
          "pattern": {
           "shape": ""
          }
         },
         "name": "",
         "orientation": "v",
         "showlegend": false,
         "textposition": "auto",
         "type": "bar",
         "x": [
          "No",
          "Yes",
          "<Unknown>"
         ],
         "xaxis": "x10",
         "y": {
          "bdata": "rwACAAEA",
          "dtype": "i2"
         },
         "yaxis": "y10"
        },
        {
         "hovertemplate": "x=%{x}<br>y=%{y}<extra></extra>",
         "legendgroup": "",
         "marker": {
          "color": "#636efa",
          "pattern": {
           "shape": ""
          }
         },
         "name": "",
         "orientation": "v",
         "showlegend": false,
         "textposition": "auto",
         "type": "bar",
         "x": [
          "No",
          "Yes",
          "<Unknown>"
         ],
         "xaxis": "x11",
         "y": {
          "bdata": "gQAuAAMA",
          "dtype": "i2"
         },
         "yaxis": "y11"
        },
        {
         "hovertemplate": "x=%{x}<br>y=%{y}<extra></extra>",
         "legendgroup": "",
         "marker": {
          "color": "#636efa",
          "pattern": {
           "shape": ""
          }
         },
         "name": "",
         "orientation": "v",
         "showlegend": false,
         "textposition": "auto",
         "type": "bar",
         "x": [
          "No"
         ],
         "xaxis": "x12",
         "y": {
          "bdata": "sgA=",
          "dtype": "i2"
         },
         "yaxis": "y12"
        },
        {
         "hovertemplate": "x=%{x}<br>y=%{y}<extra></extra>",
         "legendgroup": "",
         "marker": {
          "color": "#636efa",
          "pattern": {
           "shape": ""
          }
         },
         "name": "",
         "orientation": "v",
         "showlegend": false,
         "textposition": "auto",
         "type": "bar",
         "x": [
          "No"
         ],
         "xaxis": "x13",
         "y": {
          "bdata": "sgA=",
          "dtype": "i2"
         },
         "yaxis": "y13"
        },
        {
         "hovertemplate": "x=%{x}<br>y=%{y}<extra></extra>",
         "legendgroup": "",
         "marker": {
          "color": "#636efa",
          "pattern": {
           "shape": ""
          }
         },
         "name": "",
         "orientation": "v",
         "showlegend": false,
         "textposition": "auto",
         "type": "bar",
         "x": [
          "No",
          "Yes"
         ],
         "xaxis": "x14",
         "y": {
          "bdata": "rgAEAA==",
          "dtype": "i2"
         },
         "yaxis": "y14"
        },
        {
         "hovertemplate": "x=%{x}<br>y=%{y}<extra></extra>",
         "legendgroup": "",
         "marker": {
          "color": "#636efa",
          "pattern": {
           "shape": ""
          }
         },
         "name": "",
         "orientation": "v",
         "showlegend": false,
         "textposition": "auto",
         "type": "bar",
         "x": [
          "No",
          "<Unknown>",
          "Yes",
          "<NA>"
         ],
         "xaxis": "x15",
         "y": {
          "bdata": "hwAhAAUABQA=",
          "dtype": "i2"
         },
         "yaxis": "y15"
        },
        {
         "hovertemplate": "x=%{x}<br>y=%{y}<extra></extra>",
         "legendgroup": "",
         "marker": {
          "color": "#636efa",
          "pattern": {
           "shape": ""
          }
         },
         "name": "",
         "orientation": "v",
         "showlegend": false,
         "textposition": "auto",
         "type": "bar",
         "x": [
          "<NA>",
          "For affected in..",
          "For affected in..",
          "For affected in..",
          "For affected in..",
          "For affected in..",
          "For parents",
          "For affected in..",
          "For affected in..",
          "For affected in.."
         ],
         "xaxis": "x16",
         "y": {
          "bdata": "ehsHBwcDAgEBAQ==",
          "dtype": "i1"
         },
         "yaxis": "y16"
        },
        {
         "hovertemplate": "x=%{x}<br>y=%{y}<extra></extra>",
         "legendgroup": "",
         "marker": {
          "color": "#636efa",
          "pattern": {
           "shape": ""
          }
         },
         "name": "",
         "orientation": "v",
         "showlegend": false,
         "textposition": "auto",
         "type": "bar",
         "x": [
          "No",
          "Yes",
          "nan"
         ],
         "xaxis": "x17",
         "y": {
          "bdata": "dzkC",
          "dtype": "i1"
         },
         "yaxis": "y17"
        },
        {
         "hovertemplate": "x=%{x}<br>y=%{y}<extra></extra>",
         "legendgroup": "",
         "marker": {
          "color": "#636efa",
          "pattern": {
           "shape": ""
          }
         },
         "name": "",
         "orientation": "v",
         "showlegend": false,
         "textposition": "auto",
         "type": "bar",
         "x": [
          "No",
          "Yes",
          "nan"
         ],
         "xaxis": "x18",
         "y": {
          "bdata": "pwAKAAEA",
          "dtype": "i2"
         },
         "yaxis": "y18"
        },
        {
         "hovertemplate": "x=%{x}<br>y=%{y}<extra></extra>",
         "legendgroup": "",
         "marker": {
          "color": "#636efa",
          "pattern": {
           "shape": ""
          }
         },
         "name": "",
         "orientation": "v",
         "showlegend": false,
         "textposition": "auto",
         "type": "bar",
         "x": [
          "-",
          "By medical prof..",
          "By nursing staf..",
          "By physiotherap..",
          "By parents",
          "By psychosocial.."
         ],
         "xaxis": "x19",
         "y": {
          "bdata": "exsWAwIB",
          "dtype": "i1"
         },
         "yaxis": "y19"
        },
        {
         "hovertemplate": "x=%{x}<br>y=%{y}<extra></extra>",
         "legendgroup": "",
         "marker": {
          "color": "#636efa",
          "pattern": {
           "shape": ""
          }
         },
         "name": "",
         "orientation": "v",
         "showlegend": false,
         "textposition": "auto",
         "type": "bar",
         "x": [
          "-"
         ],
         "xaxis": "x20",
         "y": {
          "bdata": "sgA=",
          "dtype": "i2"
         },
         "yaxis": "y20"
        },
        {
         "hovertemplate": "x=%{x}<br>y=%{y}<extra></extra>",
         "legendgroup": "",
         "marker": {
          "color": "#636efa",
          "pattern": {
           "shape": ""
          }
         },
         "name": "",
         "orientation": "v",
         "showlegend": false,
         "textposition": "auto",
         "type": "bar",
         "x": [
          "<NA>"
         ],
         "xaxis": "x21",
         "y": {
          "bdata": "sgA=",
          "dtype": "i2"
         },
         "yaxis": "y21"
        },
        {
         "hovertemplate": "x=%{x}<br>y=%{y}<extra></extra>",
         "legendgroup": "",
         "marker": {
          "color": "#636efa",
          "pattern": {
           "shape": ""
          }
         },
         "name": "",
         "orientation": "v",
         "showlegend": false,
         "textposition": "auto",
         "type": "bar",
         "x": [
          "No",
          "Yes"
         ],
         "xaxis": "x22",
         "y": {
          "bdata": "oAASAA==",
          "dtype": "i2"
         },
         "yaxis": "y22"
        },
        {
         "hovertemplate": "x=%{x}<br>y=%{y}<extra></extra>",
         "legendgroup": "",
         "marker": {
          "color": "#636efa",
          "pattern": {
           "shape": ""
          }
         },
         "name": "",
         "orientation": "v",
         "showlegend": false,
         "textposition": "auto",
         "type": "bar",
         "x": [
          "No",
          "Yes",
          "<Unknown>"
         ],
         "xaxis": "x23",
         "y": {
          "bdata": "qwAGAAEA",
          "dtype": "i2"
         },
         "yaxis": "y23"
        },
        {
         "hovertemplate": "x=%{x}<br>y=%{y}<extra></extra>",
         "legendgroup": "",
         "marker": {
          "color": "#636efa",
          "pattern": {
           "shape": ""
          }
         },
         "name": "",
         "orientation": "v",
         "showlegend": false,
         "textposition": "auto",
         "type": "bar",
         "x": [
          "Cessation",
          "Break",
          "nan"
         ],
         "xaxis": "x24",
         "y": {
          "bdata": "XUUQ",
          "dtype": "i1"
         },
         "yaxis": "y24"
        },
        {
         "hovertemplate": "x=%{x}<br>y=%{y}<extra></extra>",
         "legendgroup": "",
         "marker": {
          "color": "#636efa",
          "pattern": {
           "shape": ""
          }
         },
         "name": "",
         "orientation": "v",
         "showlegend": false,
         "textposition": "auto",
         "type": "bar",
         "x": [
          "Yes",
          "No"
         ],
         "xaxis": "x25",
         "y": {
          "bdata": "ogAQAA==",
          "dtype": "i2"
         },
         "yaxis": "y25"
        },
        {
         "hovertemplate": "x=%{x}<br>y=%{y}<extra></extra>",
         "legendgroup": "",
         "marker": {
          "color": "#636efa",
          "pattern": {
           "shape": ""
          }
         },
         "name": "",
         "orientation": "v",
         "showlegend": false,
         "textposition": "auto",
         "type": "bar",
         "x": [
          "<NA>",
          "Exercise select..",
          "Exercise select..",
          "Intensity",
          "Communication s..",
          "Setting",
          "Exercise select..",
          "Equipment",
          "Exercise select.."
         ],
         "xaxis": "x26",
         "y": {
          "bdata": "igAPAAwABQACAAIAAgABAAEA",
          "dtype": "i2"
         },
         "yaxis": "y26"
        },
        {
         "hovertemplate": "x=%{x}<br>y=%{y}<extra></extra>",
         "legendgroup": "",
         "marker": {
          "color": "#636efa",
          "pattern": {
           "shape": ""
          }
         },
         "name": "",
         "orientation": "v",
         "showlegend": false,
         "textposition": "auto",
         "type": "bar",
         "x": [
          "-"
         ],
         "xaxis": "x27",
         "y": {
          "bdata": "sgA=",
          "dtype": "i2"
         },
         "yaxis": "y27"
        },
        {
         "hovertemplate": "x=%{x}<br>y=%{y}<extra></extra>",
         "legendgroup": "",
         "marker": {
          "color": "#636efa",
          "pattern": {
           "shape": ""
          }
         },
         "name": "",
         "orientation": "v",
         "showlegend": false,
         "textposition": "auto",
         "type": "bar",
         "x": [
          "No"
         ],
         "xaxis": "x28",
         "y": {
          "bdata": "sgA=",
          "dtype": "i2"
         },
         "yaxis": "y28"
        },
        {
         "hovertemplate": "x=%{x}<br>y=%{y}<extra></extra>",
         "legendgroup": "",
         "marker": {
          "color": "#636efa",
          "pattern": {
           "shape": ""
          }
         },
         "name": "",
         "orientation": "v",
         "showlegend": false,
         "textposition": "auto",
         "type": "bar",
         "x": [
          "Acute therapy",
          "Aftercare",
          "Long-term thera.."
         ],
         "xaxis": "x29",
         "y": {
          "bdata": "kwAZAAYA",
          "dtype": "i2"
         },
         "yaxis": "y29"
        },
        {
         "hovertemplate": "x=%{x}<br>y=%{y}<extra></extra>",
         "legendgroup": "",
         "marker": {
          "color": "#636efa",
          "pattern": {
           "shape": ""
          }
         },
         "name": "",
         "orientation": "v",
         "showlegend": false,
         "textposition": "auto",
         "type": "bar",
         "x": [
          "Individual",
          "Group 5 to 10",
          "Group over 10",
          "nan",
          "Group 2-5"
         ],
         "xaxis": "x30",
         "y": {
          "bdata": "oAAGAAYABAACAA==",
          "dtype": "i2"
         },
         "yaxis": "y30"
        },
        {
         "hovertemplate": "x=%{x}<br>y=%{y}<extra></extra>",
         "legendgroup": "",
         "marker": {
          "color": "#636efa",
          "pattern": {
           "shape": ""
          }
         },
         "name": "",
         "orientation": "v",
         "showlegend": false,
         "textposition": "auto",
         "type": "bar",
         "x": [
          "nan",
          "06 to 09 years",
          "10 to 14 years",
          "15 to 18 years",
          "02 to 05 years",
          "18+ years"
         ],
         "xaxis": "x31",
         "y": {
          "bdata": "LSgmGBcI",
          "dtype": "i1"
         },
         "yaxis": "y31"
        },
        {
         "hovertemplate": "x=%{x}<br>y=%{y}<extra></extra>",
         "legendgroup": "",
         "marker": {
          "color": "#636efa",
          "pattern": {
           "shape": ""
          }
         },
         "name": "",
         "orientation": "v",
         "showlegend": false,
         "textposition": "auto",
         "type": "bar",
         "x": [
          "No",
          "Yes",
          "<NA>"
         ],
         "xaxis": "x32",
         "y": {
          "bdata": "qQAIAAEA",
          "dtype": "i2"
         },
         "yaxis": "y32"
        },
        {
         "hovertemplate": "x=%{x}<br>y=%{y}<extra></extra>",
         "legendgroup": "",
         "marker": {
          "color": "#636efa",
          "pattern": {
           "shape": ""
          }
         },
         "name": "",
         "orientation": "v",
         "showlegend": false,
         "textposition": "auto",
         "type": "bar",
         "x": [
          "No",
          "Yes",
          "nan"
         ],
         "xaxis": "x33",
         "y": {
          "bdata": "rQAEAAEA",
          "dtype": "i2"
         },
         "yaxis": "y33"
        },
        {
         "hovertemplate": "x=%{x}<br>y=%{y}<extra></extra>",
         "legendgroup": "",
         "marker": {
          "color": "#636efa",
          "pattern": {
           "shape": ""
          }
         },
         "name": "",
         "orientation": "v",
         "showlegend": false,
         "textposition": "auto",
         "type": "bar",
         "x": [
          "Gym",
          "Hospital corrid..",
          "Patients room",
          "nan",
          "Outside",
          "At home (via te.."
         ],
         "xaxis": "x34",
         "y": {
          "bdata": "PykoEAsH",
          "dtype": "i1"
         },
         "yaxis": "y34"
        },
        {
         "hovertemplate": "x=%{x}<br>y=%{y}<extra></extra>",
         "legendgroup": "",
         "marker": {
          "color": "#636efa",
          "pattern": {
           "shape": ""
          }
         },
         "name": "",
         "orientation": "v",
         "showlegend": false,
         "textposition": "auto",
         "type": "bar",
         "x": [
          "Coordination",
          "Full body",
          "Endurance|Coord..",
          "Coordination|St..",
          "Endurance",
          "Strength",
          "<NA>",
          "Flexibility",
          "Coordination|Sp..",
          "Flexibility|Coo..",
          "Endurance|Stren..",
          "Speed",
          "Flexibility|Str..",
          "Endurance|Flexi..",
          "Flexibility|Coo..",
          "Relaxation"
         ],
         "xaxis": "x35",
         "y": {
          "bdata": "HRgVExMNDQsGBgUEAwMBAQ==",
          "dtype": "i1"
         },
         "yaxis": "y35"
        },
        {
         "hovertemplate": "x=%{x}<br>y=%{y}<extra></extra>",
         "legendgroup": "",
         "marker": {
          "color": "#636efa",
          "pattern": {
           "shape": ""
          }
         },
         "name": "",
         "orientation": "v",
         "showlegend": false,
         "textposition": "auto",
         "type": "bar",
         "x": [
          "2. Time point",
          "1. Time point",
          "nan"
         ],
         "xaxis": "x36",
         "y": {
          "bdata": "STov",
          "dtype": "i1"
         },
         "yaxis": "y36"
        },
        {
         "hovertemplate": "x=%{x}<br>y=%{y}<extra></extra>",
         "legendgroup": "",
         "marker": {
          "color": "#636efa",
          "pattern": {
           "shape": ""
          }
         },
         "name": "",
         "orientation": "v",
         "showlegend": false,
         "textposition": "auto",
         "type": "bar",
         "x": [
          "Moderate",
          "<NA>",
          "Average",
          "Good",
          "<Unknown>"
         ],
         "xaxis": "x37",
         "y": {
          "bdata": "STYkDAM=",
          "dtype": "i1"
         },
         "yaxis": "y37"
        }
       ],
       "layout": {
        "annotations": [
         {
          "font": {
           "size": 16
          },
          "showarrow": false,
          "text": "[00.00] ParticipantID_000",
          "x": 0.08399999999999999,
          "xanchor": "center",
          "xref": "paper",
          "y": 1,
          "yanchor": "bottom",
          "yref": "paper"
         },
         {
          "font": {
           "size": 16
          },
          "showarrow": false,
          "text": "[01.01] CTCAE_001",
          "x": 0.292,
          "xanchor": "center",
          "xref": "paper",
          "y": 1,
          "yanchor": "bottom",
          "yref": "paper"
         },
         {
          "font": {
           "size": 16
          },
          "showarrow": false,
          "text": "[01.02] Date_002",
          "x": 0.5,
          "xanchor": "center",
          "xref": "paper",
          "y": 1,
          "yanchor": "bottom",
          "yref": "paper"
         },
         {
          "font": {
           "size": 16
          },
          "showarrow": false,
          "text": "[01.03] Exercise-related_003",
          "x": 0.708,
          "xanchor": "center",
          "xref": "paper",
          "y": 1,
          "yanchor": "bottom",
          "yref": "paper"
         },
         {
          "font": {
           "size": 16
          },
          "showarrow": false,
          "text": "[02.01] CreatedOn_004",
          "x": 0.9159999999999999,
          "xanchor": "center",
          "xref": "paper",
          "y": 1,
          "yanchor": "bottom",
          "yref": "paper"
         },
         {
          "font": {
           "size": 16
          },
          "showarrow": false,
          "text": "[02.02] Type_005",
          "x": 0.08399999999999999,
          "xanchor": "center",
          "xref": "paper",
          "y": 0.8671875,
          "yanchor": "bottom",
          "yref": "paper"
         },
         {
          "font": {
           "size": 16
          },
          "showarrow": false,
          "text": "[02.03] Trigger_006",
          "x": 0.292,
          "xanchor": "center",
          "xref": "paper",
          "y": 0.8671875,
          "yanchor": "bottom",
          "yref": "paper"
         },
         {
          "font": {
           "size": 16
          },
          "showarrow": false,
          "text": "[02.04] Affected body par_007",
          "x": 0.5,
          "xanchor": "center",
          "xref": "paper",
          "y": 0.8671875,
          "yanchor": "bottom",
          "yref": "paper"
         },
         {
          "font": {
           "size": 16
          },
          "showarrow": false,
          "text": "[03.01] Pain_008",
          "x": 0.708,
          "xanchor": "center",
          "xref": "paper",
          "y": 0.8671875,
          "yanchor": "bottom",
          "yref": "paper"
         },
         {
          "font": {
           "size": 16
          },
          "showarrow": false,
          "text": "[03.02] With hospitalizat_009",
          "x": 0.9159999999999999,
          "xanchor": "center",
          "xref": "paper",
          "y": 0.8671875,
          "yanchor": "bottom",
          "yref": "paper"
         },
         {
          "font": {
           "size": 16
          },
          "showarrow": false,
          "text": "[03.03] Medical follow-up_010",
          "x": 0.08399999999999999,
          "xanchor": "center",
          "xref": "paper",
          "y": 0.734375,
          "yanchor": "bottom",
          "yref": "paper"
         },
         {
          "font": {
           "size": 16
          },
          "showarrow": false,
          "text": "[03.04] With delayed ther_011",
          "x": 0.292,
          "xanchor": "center",
          "xref": "paper",
          "y": 0.734375,
          "yanchor": "bottom",
          "yref": "paper"
         },
         {
          "font": {
           "size": 16
          },
          "showarrow": false,
          "text": "[03.05] Life-saving inter_012",
          "x": 0.5,
          "xanchor": "center",
          "xref": "paper",
          "y": 0.734375,
          "yanchor": "bottom",
          "yref": "paper"
         },
         {
          "font": {
           "size": 16
          },
          "showarrow": false,
          "text": "[03.06] Increased care ne_013",
          "x": 0.708,
          "xanchor": "center",
          "xref": "paper",
          "y": 0.734375,
          "yanchor": "bottom",
          "yref": "paper"
         },
         {
          "font": {
           "size": 16
          },
          "showarrow": false,
          "text": "[03.07] With medication a_014",
          "x": 0.9159999999999999,
          "xanchor": "center",
          "xref": "paper",
          "y": 0.734375,
          "yanchor": "bottom",
          "yref": "paper"
         },
         {
          "font": {
           "size": 16
          },
          "showarrow": false,
          "text": "[03.08.01] Affected perso_015",
          "x": 0.08399999999999999,
          "xanchor": "center",
          "xref": "paper",
          "y": 0.6015625,
          "yanchor": "bottom",
          "yref": "paper"
         },
         {
          "font": {
           "size": 16
          },
          "showarrow": false,
          "text": "[03.08] Occurrence of fea_016",
          "x": 0.292,
          "xanchor": "center",
          "xref": "paper",
          "y": 0.6015625,
          "yanchor": "bottom",
          "yref": "paper"
         },
         {
          "font": {
           "size": 16
          },
          "showarrow": false,
          "text": "[03.09] Structural adjust_017",
          "x": 0.5,
          "xanchor": "center",
          "xref": "paper",
          "y": 0.6015625,
          "yanchor": "bottom",
          "yref": "paper"
         },
         {
          "font": {
           "size": 16
          },
          "showarrow": false,
          "text": "[03.10.01] Approver_018",
          "x": 0.708,
          "xanchor": "center",
          "xref": "paper",
          "y": 0.6015625,
          "yanchor": "bottom",
          "yref": "paper"
         },
         {
          "font": {
           "size": 16
          },
          "showarrow": false,
          "text": "[03.10.02] OK to proceed_019",
          "x": 0.9159999999999999,
          "xanchor": "center",
          "xref": "paper",
          "y": 0.6015625,
          "yanchor": "bottom",
          "yref": "paper"
         },
         {
          "font": {
           "size": 16
          },
          "showarrow": false,
          "text": "[03.10] Assessment of the_020",
          "x": 0.08399999999999999,
          "xanchor": "center",
          "xref": "paper",
          "y": 0.46875,
          "yanchor": "bottom",
          "yref": "paper"
         },
         {
          "font": {
           "size": 16
          },
          "showarrow": false,
          "text": "[03.11] Application RICE _021",
          "x": 0.292,
          "xanchor": "center",
          "xref": "paper",
          "y": 0.46875,
          "yanchor": "bottom",
          "yref": "paper"
         },
         {
          "font": {
           "size": 16
          },
          "showarrow": false,
          "text": "[03.12] With observation_022",
          "x": 0.5,
          "xanchor": "center",
          "xref": "paper",
          "y": 0.46875,
          "yanchor": "bottom",
          "yref": "paper"
         },
         {
          "font": {
           "size": 16
          },
          "showarrow": false,
          "text": "[03.13.01] Stop or Break_023",
          "x": 0.708,
          "xanchor": "center",
          "xref": "paper",
          "y": 0.46875,
          "yanchor": "bottom",
          "yref": "paper"
         },
         {
          "font": {
           "size": 16
          },
          "showarrow": false,
          "text": "[03.13] Stop_024",
          "x": 0.9159999999999999,
          "xanchor": "center",
          "xref": "paper",
          "y": 0.46875,
          "yanchor": "bottom",
          "yref": "paper"
         },
         {
          "font": {
           "size": 16
          },
          "showarrow": false,
          "text": "[03.14.01] Adaptations in_025",
          "x": 0.08399999999999999,
          "xanchor": "center",
          "xref": "paper",
          "y": 0.3359375,
          "yanchor": "bottom",
          "yref": "paper"
         },
         {
          "font": {
           "size": 16
          },
          "showarrow": false,
          "text": "[03.14] Adaptations_026",
          "x": 0.292,
          "xanchor": "center",
          "xref": "paper",
          "y": 0.3359375,
          "yanchor": "bottom",
          "yref": "paper"
         },
         {
          "font": {
           "size": 16
          },
          "showarrow": false,
          "text": "[03.16] Death_027",
          "x": 0.5,
          "xanchor": "center",
          "xref": "paper",
          "y": 0.3359375,
          "yanchor": "bottom",
          "yref": "paper"
         },
         {
          "font": {
           "size": 16
          },
          "showarrow": false,
          "text": "[05.01] Therapy phase_028",
          "x": 0.708,
          "xanchor": "center",
          "xref": "paper",
          "y": 0.3359375,
          "yanchor": "bottom",
          "yref": "paper"
         },
         {
          "font": {
           "size": 16
          },
          "showarrow": false,
          "text": "[05.02] Group size_029",
          "x": 0.9159999999999999,
          "xanchor": "center",
          "xref": "paper",
          "y": 0.3359375,
          "yanchor": "bottom",
          "yref": "paper"
         },
         {
          "font": {
           "size": 16
          },
          "showarrow": false,
          "text": "[05.03] Age_030",
          "x": 0.08399999999999999,
          "xanchor": "center",
          "xref": "paper",
          "y": 0.203125,
          "yanchor": "bottom",
          "yref": "paper"
         },
         {
          "font": {
           "size": 16
          },
          "showarrow": false,
          "text": "[05.04] Online_031",
          "x": 0.292,
          "xanchor": "center",
          "xref": "paper",
          "y": 0.203125,
          "yanchor": "bottom",
          "yref": "paper"
         },
         {
          "font": {
           "size": 16
          },
          "showarrow": false,
          "text": "[05.05] As part of testin_032",
          "x": 0.5,
          "xanchor": "center",
          "xref": "paper",
          "y": 0.203125,
          "yanchor": "bottom",
          "yref": "paper"
         },
         {
          "font": {
           "size": 16
          },
          "showarrow": false,
          "text": "[05.06] Setting_033",
          "x": 0.708,
          "xanchor": "center",
          "xref": "paper",
          "y": 0.203125,
          "yanchor": "bottom",
          "yref": "paper"
         },
         {
          "font": {
           "size": 16
          },
          "showarrow": false,
          "text": "[05.07] Main motor skill_034",
          "x": 0.9159999999999999,
          "xanchor": "center",
          "xref": "paper",
          "y": 0.203125,
          "yanchor": "bottom",
          "yref": "paper"
         },
         {
          "font": {
           "size": 16
          },
          "showarrow": false,
          "text": "[05.08] Time point_035",
          "x": 0.08399999999999999,
          "xanchor": "center",
          "xref": "paper",
          "y": 0.0703125,
          "yanchor": "bottom",
          "yref": "paper"
         },
         {
          "font": {
           "size": 16
          },
          "showarrow": false,
          "text": "[05.09] Training conditio_036",
          "x": 0.292,
          "xanchor": "center",
          "xref": "paper",
          "y": 0.0703125,
          "yanchor": "bottom",
          "yref": "paper"
         }
        ],
        "height": 2400,
        "template": {
         "data": {
          "bar": [
           {
            "error_x": {
             "color": "#2a3f5f"
            },
            "error_y": {
             "color": "#2a3f5f"
            },
            "marker": {
             "line": {
              "color": "#E5ECF6",
              "width": 0.5
             },
             "pattern": {
              "fillmode": "overlay",
              "size": 10,
              "solidity": 0.2
             }
            },
            "type": "bar"
           }
          ],
          "barpolar": [
           {
            "marker": {
             "line": {
              "color": "#E5ECF6",
              "width": 0.5
             },
             "pattern": {
              "fillmode": "overlay",
              "size": 10,
              "solidity": 0.2
             }
            },
            "type": "barpolar"
           }
          ],
          "carpet": [
           {
            "aaxis": {
             "endlinecolor": "#2a3f5f",
             "gridcolor": "white",
             "linecolor": "white",
             "minorgridcolor": "white",
             "startlinecolor": "#2a3f5f"
            },
            "baxis": {
             "endlinecolor": "#2a3f5f",
             "gridcolor": "white",
             "linecolor": "white",
             "minorgridcolor": "white",
             "startlinecolor": "#2a3f5f"
            },
            "type": "carpet"
           }
          ],
          "choropleth": [
           {
            "colorbar": {
             "outlinewidth": 0,
             "ticks": ""
            },
            "type": "choropleth"
           }
          ],
          "contour": [
           {
            "colorbar": {
             "outlinewidth": 0,
             "ticks": ""
            },
            "colorscale": [
             [
              0,
              "#0d0887"
             ],
             [
              0.1111111111111111,
              "#46039f"
             ],
             [
              0.2222222222222222,
              "#7201a8"
             ],
             [
              0.3333333333333333,
              "#9c179e"
             ],
             [
              0.4444444444444444,
              "#bd3786"
             ],
             [
              0.5555555555555556,
              "#d8576b"
             ],
             [
              0.6666666666666666,
              "#ed7953"
             ],
             [
              0.7777777777777778,
              "#fb9f3a"
             ],
             [
              0.8888888888888888,
              "#fdca26"
             ],
             [
              1,
              "#f0f921"
             ]
            ],
            "type": "contour"
           }
          ],
          "contourcarpet": [
           {
            "colorbar": {
             "outlinewidth": 0,
             "ticks": ""
            },
            "type": "contourcarpet"
           }
          ],
          "heatmap": [
           {
            "colorbar": {
             "outlinewidth": 0,
             "ticks": ""
            },
            "colorscale": [
             [
              0,
              "#0d0887"
             ],
             [
              0.1111111111111111,
              "#46039f"
             ],
             [
              0.2222222222222222,
              "#7201a8"
             ],
             [
              0.3333333333333333,
              "#9c179e"
             ],
             [
              0.4444444444444444,
              "#bd3786"
             ],
             [
              0.5555555555555556,
              "#d8576b"
             ],
             [
              0.6666666666666666,
              "#ed7953"
             ],
             [
              0.7777777777777778,
              "#fb9f3a"
             ],
             [
              0.8888888888888888,
              "#fdca26"
             ],
             [
              1,
              "#f0f921"
             ]
            ],
            "type": "heatmap"
           }
          ],
          "histogram": [
           {
            "marker": {
             "pattern": {
              "fillmode": "overlay",
              "size": 10,
              "solidity": 0.2
             }
            },
            "type": "histogram"
           }
          ],
          "histogram2d": [
           {
            "colorbar": {
             "outlinewidth": 0,
             "ticks": ""
            },
            "colorscale": [
             [
              0,
              "#0d0887"
             ],
             [
              0.1111111111111111,
              "#46039f"
             ],
             [
              0.2222222222222222,
              "#7201a8"
             ],
             [
              0.3333333333333333,
              "#9c179e"
             ],
             [
              0.4444444444444444,
              "#bd3786"
             ],
             [
              0.5555555555555556,
              "#d8576b"
             ],
             [
              0.6666666666666666,
              "#ed7953"
             ],
             [
              0.7777777777777778,
              "#fb9f3a"
             ],
             [
              0.8888888888888888,
              "#fdca26"
             ],
             [
              1,
              "#f0f921"
             ]
            ],
            "type": "histogram2d"
           }
          ],
          "histogram2dcontour": [
           {
            "colorbar": {
             "outlinewidth": 0,
             "ticks": ""
            },
            "colorscale": [
             [
              0,
              "#0d0887"
             ],
             [
              0.1111111111111111,
              "#46039f"
             ],
             [
              0.2222222222222222,
              "#7201a8"
             ],
             [
              0.3333333333333333,
              "#9c179e"
             ],
             [
              0.4444444444444444,
              "#bd3786"
             ],
             [
              0.5555555555555556,
              "#d8576b"
             ],
             [
              0.6666666666666666,
              "#ed7953"
             ],
             [
              0.7777777777777778,
              "#fb9f3a"
             ],
             [
              0.8888888888888888,
              "#fdca26"
             ],
             [
              1,
              "#f0f921"
             ]
            ],
            "type": "histogram2dcontour"
           }
          ],
          "mesh3d": [
           {
            "colorbar": {
             "outlinewidth": 0,
             "ticks": ""
            },
            "type": "mesh3d"
           }
          ],
          "parcoords": [
           {
            "line": {
             "colorbar": {
              "outlinewidth": 0,
              "ticks": ""
             }
            },
            "type": "parcoords"
           }
          ],
          "pie": [
           {
            "automargin": true,
            "type": "pie"
           }
          ],
          "scatter": [
           {
            "fillpattern": {
             "fillmode": "overlay",
             "size": 10,
             "solidity": 0.2
            },
            "type": "scatter"
           }
          ],
          "scatter3d": [
           {
            "line": {
             "colorbar": {
              "outlinewidth": 0,
              "ticks": ""
             }
            },
            "marker": {
             "colorbar": {
              "outlinewidth": 0,
              "ticks": ""
             }
            },
            "type": "scatter3d"
           }
          ],
          "scattercarpet": [
           {
            "marker": {
             "colorbar": {
              "outlinewidth": 0,
              "ticks": ""
             }
            },
            "type": "scattercarpet"
           }
          ],
          "scattergeo": [
           {
            "marker": {
             "colorbar": {
              "outlinewidth": 0,
              "ticks": ""
             }
            },
            "type": "scattergeo"
           }
          ],
          "scattergl": [
           {
            "marker": {
             "colorbar": {
              "outlinewidth": 0,
              "ticks": ""
             }
            },
            "type": "scattergl"
           }
          ],
          "scattermap": [
           {
            "marker": {
             "colorbar": {
              "outlinewidth": 0,
              "ticks": ""
             }
            },
            "type": "scattermap"
           }
          ],
          "scattermapbox": [
           {
            "marker": {
             "colorbar": {
              "outlinewidth": 0,
              "ticks": ""
             }
            },
            "type": "scattermapbox"
           }
          ],
          "scatterpolar": [
           {
            "marker": {
             "colorbar": {
              "outlinewidth": 0,
              "ticks": ""
             }
            },
            "type": "scatterpolar"
           }
          ],
          "scatterpolargl": [
           {
            "marker": {
             "colorbar": {
              "outlinewidth": 0,
              "ticks": ""
             }
            },
            "type": "scatterpolargl"
           }
          ],
          "scatterternary": [
           {
            "marker": {
             "colorbar": {
              "outlinewidth": 0,
              "ticks": ""
             }
            },
            "type": "scatterternary"
           }
          ],
          "surface": [
           {
            "colorbar": {
             "outlinewidth": 0,
             "ticks": ""
            },
            "colorscale": [
             [
              0,
              "#0d0887"
             ],
             [
              0.1111111111111111,
              "#46039f"
             ],
             [
              0.2222222222222222,
              "#7201a8"
             ],
             [
              0.3333333333333333,
              "#9c179e"
             ],
             [
              0.4444444444444444,
              "#bd3786"
             ],
             [
              0.5555555555555556,
              "#d8576b"
             ],
             [
              0.6666666666666666,
              "#ed7953"
             ],
             [
              0.7777777777777778,
              "#fb9f3a"
             ],
             [
              0.8888888888888888,
              "#fdca26"
             ],
             [
              1,
              "#f0f921"
             ]
            ],
            "type": "surface"
           }
          ],
          "table": [
           {
            "cells": {
             "fill": {
              "color": "#EBF0F8"
             },
             "line": {
              "color": "white"
             }
            },
            "header": {
             "fill": {
              "color": "#C8D4E3"
             },
             "line": {
              "color": "white"
             }
            },
            "type": "table"
           }
          ]
         },
         "layout": {
          "annotationdefaults": {
           "arrowcolor": "#2a3f5f",
           "arrowhead": 0,
           "arrowwidth": 1
          },
          "autotypenumbers": "strict",
          "coloraxis": {
           "colorbar": {
            "outlinewidth": 0,
            "ticks": ""
           }
          },
          "colorscale": {
           "diverging": [
            [
             0,
             "#8e0152"
            ],
            [
             0.1,
             "#c51b7d"
            ],
            [
             0.2,
             "#de77ae"
            ],
            [
             0.3,
             "#f1b6da"
            ],
            [
             0.4,
             "#fde0ef"
            ],
            [
             0.5,
             "#f7f7f7"
            ],
            [
             0.6,
             "#e6f5d0"
            ],
            [
             0.7,
             "#b8e186"
            ],
            [
             0.8,
             "#7fbc41"
            ],
            [
             0.9,
             "#4d9221"
            ],
            [
             1,
             "#276419"
            ]
           ],
           "sequential": [
            [
             0,
             "#0d0887"
            ],
            [
             0.1111111111111111,
             "#46039f"
            ],
            [
             0.2222222222222222,
             "#7201a8"
            ],
            [
             0.3333333333333333,
             "#9c179e"
            ],
            [
             0.4444444444444444,
             "#bd3786"
            ],
            [
             0.5555555555555556,
             "#d8576b"
            ],
            [
             0.6666666666666666,
             "#ed7953"
            ],
            [
             0.7777777777777778,
             "#fb9f3a"
            ],
            [
             0.8888888888888888,
             "#fdca26"
            ],
            [
             1,
             "#f0f921"
            ]
           ],
           "sequentialminus": [
            [
             0,
             "#0d0887"
            ],
            [
             0.1111111111111111,
             "#46039f"
            ],
            [
             0.2222222222222222,
             "#7201a8"
            ],
            [
             0.3333333333333333,
             "#9c179e"
            ],
            [
             0.4444444444444444,
             "#bd3786"
            ],
            [
             0.5555555555555556,
             "#d8576b"
            ],
            [
             0.6666666666666666,
             "#ed7953"
            ],
            [
             0.7777777777777778,
             "#fb9f3a"
            ],
            [
             0.8888888888888888,
             "#fdca26"
            ],
            [
             1,
             "#f0f921"
            ]
           ]
          },
          "colorway": [
           "#636efa",
           "#EF553B",
           "#00cc96",
           "#ab63fa",
           "#FFA15A",
           "#19d3f3",
           "#FF6692",
           "#B6E880",
           "#FF97FF",
           "#FECB52"
          ],
          "font": {
           "color": "#2a3f5f"
          },
          "geo": {
           "bgcolor": "white",
           "lakecolor": "white",
           "landcolor": "#E5ECF6",
           "showlakes": true,
           "showland": true,
           "subunitcolor": "white"
          },
          "hoverlabel": {
           "align": "left"
          },
          "hovermode": "closest",
          "mapbox": {
           "style": "light"
          },
          "paper_bgcolor": "white",
          "plot_bgcolor": "#E5ECF6",
          "polar": {
           "angularaxis": {
            "gridcolor": "white",
            "linecolor": "white",
            "ticks": ""
           },
           "bgcolor": "#E5ECF6",
           "radialaxis": {
            "gridcolor": "white",
            "linecolor": "white",
            "ticks": ""
           }
          },
          "scene": {
           "xaxis": {
            "backgroundcolor": "#E5ECF6",
            "gridcolor": "white",
            "gridwidth": 2,
            "linecolor": "white",
            "showbackground": true,
            "ticks": "",
            "zerolinecolor": "white"
           },
           "yaxis": {
            "backgroundcolor": "#E5ECF6",
            "gridcolor": "white",
            "gridwidth": 2,
            "linecolor": "white",
            "showbackground": true,
            "ticks": "",
            "zerolinecolor": "white"
           },
           "zaxis": {
            "backgroundcolor": "#E5ECF6",
            "gridcolor": "white",
            "gridwidth": 2,
            "linecolor": "white",
            "showbackground": true,
            "ticks": "",
            "zerolinecolor": "white"
           }
          },
          "shapedefaults": {
           "line": {
            "color": "#2a3f5f"
           }
          },
          "ternary": {
           "aaxis": {
            "gridcolor": "white",
            "linecolor": "white",
            "ticks": ""
           },
           "baxis": {
            "gridcolor": "white",
            "linecolor": "white",
            "ticks": ""
           },
           "bgcolor": "#E5ECF6",
           "caxis": {
            "gridcolor": "white",
            "linecolor": "white",
            "ticks": ""
           }
          },
          "title": {
           "x": 0.05
          },
          "xaxis": {
           "automargin": true,
           "gridcolor": "white",
           "linecolor": "white",
           "ticks": "",
           "title": {
            "standoff": 15
           },
           "zerolinecolor": "white",
           "zerolinewidth": 2
          },
          "yaxis": {
           "automargin": true,
           "gridcolor": "white",
           "linecolor": "white",
           "ticks": "",
           "title": {
            "standoff": 15
           },
           "zerolinecolor": "white",
           "zerolinewidth": 2
          }
         }
        },
        "width": 1500,
        "xaxis": {
         "anchor": "y",
         "domain": [
          0,
          0.16799999999999998
         ]
        },
        "xaxis10": {
         "anchor": "y10",
         "domain": [
          0.832,
          1
         ]
        },
        "xaxis11": {
         "anchor": "y11",
         "domain": [
          0,
          0.16799999999999998
         ]
        },
        "xaxis12": {
         "anchor": "y12",
         "domain": [
          0.208,
          0.376
         ]
        },
        "xaxis13": {
         "anchor": "y13",
         "domain": [
          0.416,
          0.584
         ]
        },
        "xaxis14": {
         "anchor": "y14",
         "domain": [
          0.624,
          0.792
         ]
        },
        "xaxis15": {
         "anchor": "y15",
         "domain": [
          0.832,
          1
         ]
        },
        "xaxis16": {
         "anchor": "y16",
         "domain": [
          0,
          0.16799999999999998
         ]
        },
        "xaxis17": {
         "anchor": "y17",
         "domain": [
          0.208,
          0.376
         ]
        },
        "xaxis18": {
         "anchor": "y18",
         "domain": [
          0.416,
          0.584
         ]
        },
        "xaxis19": {
         "anchor": "y19",
         "domain": [
          0.624,
          0.792
         ]
        },
        "xaxis2": {
         "anchor": "y2",
         "domain": [
          0.208,
          0.376
         ]
        },
        "xaxis20": {
         "anchor": "y20",
         "domain": [
          0.832,
          1
         ]
        },
        "xaxis21": {
         "anchor": "y21",
         "domain": [
          0,
          0.16799999999999998
         ]
        },
        "xaxis22": {
         "anchor": "y22",
         "domain": [
          0.208,
          0.376
         ]
        },
        "xaxis23": {
         "anchor": "y23",
         "domain": [
          0.416,
          0.584
         ]
        },
        "xaxis24": {
         "anchor": "y24",
         "domain": [
          0.624,
          0.792
         ]
        },
        "xaxis25": {
         "anchor": "y25",
         "domain": [
          0.832,
          1
         ]
        },
        "xaxis26": {
         "anchor": "y26",
         "domain": [
          0,
          0.16799999999999998
         ]
        },
        "xaxis27": {
         "anchor": "y27",
         "domain": [
          0.208,
          0.376
         ]
        },
        "xaxis28": {
         "anchor": "y28",
         "domain": [
          0.416,
          0.584
         ]
        },
        "xaxis29": {
         "anchor": "y29",
         "domain": [
          0.624,
          0.792
         ]
        },
        "xaxis3": {
         "anchor": "y3",
         "domain": [
          0.416,
          0.584
         ]
        },
        "xaxis30": {
         "anchor": "y30",
         "domain": [
          0.832,
          1
         ]
        },
        "xaxis31": {
         "anchor": "y31",
         "domain": [
          0,
          0.16799999999999998
         ]
        },
        "xaxis32": {
         "anchor": "y32",
         "domain": [
          0.208,
          0.376
         ]
        },
        "xaxis33": {
         "anchor": "y33",
         "domain": [
          0.416,
          0.584
         ]
        },
        "xaxis34": {
         "anchor": "y34",
         "domain": [
          0.624,
          0.792
         ]
        },
        "xaxis35": {
         "anchor": "y35",
         "domain": [
          0.832,
          1
         ]
        },
        "xaxis36": {
         "anchor": "y36",
         "domain": [
          0,
          0.16799999999999998
         ]
        },
        "xaxis37": {
         "anchor": "y37",
         "domain": [
          0.208,
          0.376
         ]
        },
        "xaxis38": {
         "anchor": "y38",
         "domain": [
          0.416,
          0.584
         ]
        },
        "xaxis39": {
         "anchor": "y39",
         "domain": [
          0.624,
          0.792
         ]
        },
        "xaxis4": {
         "anchor": "y4",
         "domain": [
          0.624,
          0.792
         ]
        },
        "xaxis40": {
         "anchor": "y40",
         "domain": [
          0.832,
          1
         ]
        },
        "xaxis5": {
         "anchor": "y5",
         "domain": [
          0.832,
          1
         ]
        },
        "xaxis6": {
         "anchor": "y6",
         "domain": [
          0,
          0.16799999999999998
         ]
        },
        "xaxis7": {
         "anchor": "y7",
         "domain": [
          0.208,
          0.376
         ]
        },
        "xaxis8": {
         "anchor": "y8",
         "domain": [
          0.416,
          0.584
         ]
        },
        "xaxis9": {
         "anchor": "y9",
         "domain": [
          0.624,
          0.792
         ]
        },
        "yaxis": {
         "anchor": "x",
         "domain": [
          0.9296875,
          1
         ]
        },
        "yaxis10": {
         "anchor": "x10",
         "domain": [
          0.796875,
          0.8671875
         ]
        },
        "yaxis11": {
         "anchor": "x11",
         "domain": [
          0.6640625,
          0.734375
         ]
        },
        "yaxis12": {
         "anchor": "x12",
         "domain": [
          0.6640625,
          0.734375
         ]
        },
        "yaxis13": {
         "anchor": "x13",
         "domain": [
          0.6640625,
          0.734375
         ]
        },
        "yaxis14": {
         "anchor": "x14",
         "domain": [
          0.6640625,
          0.734375
         ]
        },
        "yaxis15": {
         "anchor": "x15",
         "domain": [
          0.6640625,
          0.734375
         ]
        },
        "yaxis16": {
         "anchor": "x16",
         "domain": [
          0.53125,
          0.6015625
         ]
        },
        "yaxis17": {
         "anchor": "x17",
         "domain": [
          0.53125,
          0.6015625
         ]
        },
        "yaxis18": {
         "anchor": "x18",
         "domain": [
          0.53125,
          0.6015625
         ]
        },
        "yaxis19": {
         "anchor": "x19",
         "domain": [
          0.53125,
          0.6015625
         ]
        },
        "yaxis2": {
         "anchor": "x2",
         "domain": [
          0.9296875,
          1
         ]
        },
        "yaxis20": {
         "anchor": "x20",
         "domain": [
          0.53125,
          0.6015625
         ]
        },
        "yaxis21": {
         "anchor": "x21",
         "domain": [
          0.3984375,
          0.46875
         ]
        },
        "yaxis22": {
         "anchor": "x22",
         "domain": [
          0.3984375,
          0.46875
         ]
        },
        "yaxis23": {
         "anchor": "x23",
         "domain": [
          0.3984375,
          0.46875
         ]
        },
        "yaxis24": {
         "anchor": "x24",
         "domain": [
          0.3984375,
          0.46875
         ]
        },
        "yaxis25": {
         "anchor": "x25",
         "domain": [
          0.3984375,
          0.46875
         ]
        },
        "yaxis26": {
         "anchor": "x26",
         "domain": [
          0.265625,
          0.3359375
         ]
        },
        "yaxis27": {
         "anchor": "x27",
         "domain": [
          0.265625,
          0.3359375
         ]
        },
        "yaxis28": {
         "anchor": "x28",
         "domain": [
          0.265625,
          0.3359375
         ]
        },
        "yaxis29": {
         "anchor": "x29",
         "domain": [
          0.265625,
          0.3359375
         ]
        },
        "yaxis3": {
         "anchor": "x3",
         "domain": [
          0.9296875,
          1
         ]
        },
        "yaxis30": {
         "anchor": "x30",
         "domain": [
          0.265625,
          0.3359375
         ]
        },
        "yaxis31": {
         "anchor": "x31",
         "domain": [
          0.1328125,
          0.203125
         ]
        },
        "yaxis32": {
         "anchor": "x32",
         "domain": [
          0.1328125,
          0.203125
         ]
        },
        "yaxis33": {
         "anchor": "x33",
         "domain": [
          0.1328125,
          0.203125
         ]
        },
        "yaxis34": {
         "anchor": "x34",
         "domain": [
          0.1328125,
          0.203125
         ]
        },
        "yaxis35": {
         "anchor": "x35",
         "domain": [
          0.1328125,
          0.203125
         ]
        },
        "yaxis36": {
         "anchor": "x36",
         "domain": [
          0,
          0.0703125
         ]
        },
        "yaxis37": {
         "anchor": "x37",
         "domain": [
          0,
          0.0703125
         ]
        },
        "yaxis38": {
         "anchor": "x38",
         "domain": [
          0,
          0.0703125
         ]
        },
        "yaxis39": {
         "anchor": "x39",
         "domain": [
          0,
          0.0703125
         ]
        },
        "yaxis4": {
         "anchor": "x4",
         "domain": [
          0.9296875,
          1
         ]
        },
        "yaxis40": {
         "anchor": "x40",
         "domain": [
          0,
          0.0703125
         ]
        },
        "yaxis5": {
         "anchor": "x5",
         "domain": [
          0.9296875,
          1
         ]
        },
        "yaxis6": {
         "anchor": "x6",
         "domain": [
          0.796875,
          0.8671875
         ]
        },
        "yaxis7": {
         "anchor": "x7",
         "domain": [
          0.796875,
          0.8671875
         ]
        },
        "yaxis8": {
         "anchor": "x8",
         "domain": [
          0.796875,
          0.8671875
         ]
        },
        "yaxis9": {
         "anchor": "x9",
         "domain": [
          0.796875,
          0.8671875
         ]
        }
       }
      }
     },
     "metadata": {},
     "output_type": "display_data"
    }
   ],
   "source": [
    "tbl.describe_df(df_csv_condensed, \"df_csv_condensed\", top_n_chars_in_columns=25, top_n_chars_in_index=15)"
   ]
  }
 ],
 "metadata": {
  "kernelspec": {
   "display_name": "sport-adverse-events",
   "language": "python",
   "name": "python3"
  },
  "language_info": {
   "codemirror_mode": {
    "name": "ipython",
    "version": 3
   },
   "file_extension": ".py",
   "mimetype": "text/x-python",
   "name": "python",
   "nbconvert_exporter": "python",
   "pygments_lexer": "ipython3",
   "version": "3.12.9"
  }
 },
 "nbformat": 4,
 "nbformat_minor": 2
}
