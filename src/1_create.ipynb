{
 "cells": [
  {
   "cell_type": "markdown",
   "metadata": {},
   "source": [
    "# <a id='toc1_'></a>[create dataset](#toc0_)"
   ]
  },
  {
   "cell_type": "markdown",
   "metadata": {},
   "source": [
    "**Table of contents**<a id='toc0_'></a>    \n",
    "- [create dataset](#toc1_)    \n",
    "  - [init code](#toc1_1_)    \n",
    "  - [load data](#toc1_2_)    \n",
    "    - [option clean csv](#toc1_2_1_)    \n",
    "    - [option dirty csv](#toc1_2_2_)    \n",
    "  - [arrange data](#toc1_3_)    \n",
    "    - [trim column names](#toc1_3_1_)    \n",
    "    - [set date column](#toc1_3_2_)    \n",
    "    - [relabeling columns](#toc1_3_3_)    \n",
    "    - [remove duplicates or invalids](#toc1_3_4_)    \n",
    "    - [parse dates to datetime 🕥](#toc1_3_5_)    \n",
    "  - [alter data](#toc1_4_)    \n",
    "    - [(optional) remove columns w/ no or few values](#toc1_4_1_)    \n",
    "  - [condensed dataset](#toc1_5_)    \n",
    "    - [define single, multi and misc columns](#toc1_5_1_)    \n",
    "    - [create condensed dataset](#toc1_5_2_)    \n",
    "    - [create manual table for mapping](#toc1_5_3_)    \n",
    "    - [apply new column names from mapping table](#toc1_5_4_)    \n",
    "    - [content recoding](#toc1_5_5_)    \n",
    "  - [💾 data for pivot use](#toc1_6_)    \n",
    "\n",
    "<!-- vscode-jupyter-toc-config\n",
    "\tnumbering=false\n",
    "\tanchor=true\n",
    "\tflat=false\n",
    "\tminLevel=1\n",
    "\tmaxLevel=6\n",
    "\t/vscode-jupyter-toc-config -->\n",
    "<!-- THIS CELL WILL BE REPLACED ON TOC UPDATE. DO NOT WRITE YOUR TEXT IN THIS CELL -->"
   ]
  },
  {
   "cell_type": "markdown",
   "metadata": {},
   "source": [
    "## <a id='toc1_1_'></a>[init code](#toc0_)"
   ]
  },
  {
   "cell_type": "code",
   "execution_count": 64,
   "metadata": {},
   "outputs": [
    {
     "name": "stdout",
     "output_type": "stream",
     "text": [
      "🐍 3.12.3 | 📦 pygwalker: 0.4.9.13 | 📦 pandas: 2.2.2 | 📦 numpy: 1.26.4 | 📦 duckdb: 1.0.0 | 📦 pandas-plots: 0.12.19 | 📦 connection_helper: 0.8.13\n"
     ]
    }
   ],
   "source": [
    "\n",
    "import io\n",
    "import os\n",
    "from glob import glob\n",
    "import pandas as pd\n",
    "from pathlib import Path\n",
    "from pandas_plots import tbl, pls, hlp\n",
    "from pandas_plots.hlp import add_bitmask_label\n",
    "import re\n",
    "hlp.show_package_version([\"pygwalker\"])\n",
    "\n",
    "os.environ[\"THEME\"]=\"dark\"\n",
    "\n",
    "\n",
    "dir_data_in=Path(\"../data/in\")\n",
    "dir_data_out=Path(\"../data/out\")\n",
    "\n",
    "# ! only 1 csv file in in/ is allowed\n",
    "file_csv_list=glob(f\"{dir_data_in}/*.csv\")\n",
    "assert len(file_csv_list) == 1, f\"❌ Expected 1 csv file, found {len(file_csv_list)}\"\n",
    "\n",
    "file_csv = file_csv_list[0]\n",
    "\n",
    "ENABLE_UPDATE=True\n",
    "\n",
    "# * grab choice part or eg .1\n",
    "REGEX_CHOICE = r\"( \\(choice=.*?\\)+|\\.\\d$)\"\n",
    "\n",
    "# * grab the code block at the start\n",
    "REGEX_CODE = r\"(^\\[.*?\\])\"\n",
    "\n",
    "# * grab the non-code block\n",
    "REGEX_NONCODE = r\"\\].*\""
   ]
  },
  {
   "cell_type": "markdown",
   "metadata": {},
   "source": [
    "## <a id='toc1_2_'></a>[load data](#toc0_)\n"
   ]
  },
  {
   "cell_type": "markdown",
   "metadata": {},
   "source": [
    "### <a id='toc1_2_1_'></a>[option clean csv](#toc0_)"
   ]
  },
  {
   "cell_type": "code",
   "execution_count": 65,
   "metadata": {},
   "outputs": [],
   "source": [
    "df_csv = pd.read_csv(file_csv, sep=\",\", encoding=\"utf-8-sig\", dtype={\"[01.01] Bewertung - CTCAE-Bewertung\":str})"
   ]
  },
  {
   "cell_type": "markdown",
   "metadata": {},
   "source": [
    "### <a id='toc1_2_2_'></a>[option dirty csv](#toc0_)\n",
    "- ⚠️ strategy to import the csv raw data:\n",
    "  - ❌ do not use default `pd.read_csv()`, its not as error tolerant as excel\n",
    "  - ✅ read csv as `windows-1252` string and cleanse it\n",
    "    - most (not all) lines have heading + trailing quotes, remove\n",
    "    - data have a mixture of \"\" and \", downgrade by 1\n",
    "    - delimiter \",\" also occurs in quotes, change to \";\" only outside of quotes\n",
    "    - now byte stream can be imported"
   ]
  },
  {
   "cell_type": "code",
   "execution_count": 66,
   "metadata": {},
   "outputs": [
    {
     "name": "stdout",
     "output_type": "stream",
     "text": [
      "Couldn't find program: 'echo'\n"
     ]
    }
   ],
   "source": [
    "%%script echo skipping\n",
    "\n",
    "# * replace delimiter *only* outside of quotes\n",
    "def replace_delimiter_outside_quotes(\n",
    "    input: str, delimiter_old: str = \",\", delimiter_new: str = \";\", quotechar: str = '\"'\n",
    "):\n",
    "    outside_quotes = True\n",
    "    output = \"\"\n",
    "    # * loop through input and toggle inside/outside status\n",
    "    for char in input:\n",
    "        if char == quotechar:\n",
    "            outside_quotes = not outside_quotes\n",
    "        elif outside_quotes and char == delimiter_old:\n",
    "            char = delimiter_new\n",
    "        output += char\n",
    "    return output\n",
    "\n",
    "# * downgrades quotes in string to normalize quots: \" -> NA, \"\" -> \"\n",
    "def reduce_quotes_in_string(input: str):\n",
    "    output = \"\"\n",
    "    len_=len(input)\n",
    "    i = 0\n",
    "    while i < len_:\n",
    "        # * check current + next char if within range\n",
    "        if input[i] == '\"' and i+1 < len_ and input[i+1] != '\"':\n",
    "            output += ''\n",
    "            i = i+1\n",
    "        elif input[i] == '\"'and i+1 < len_ and input[i+1] == '\"':\n",
    "            output+= '\"'\n",
    "            i = i+2\n",
    "        else:\n",
    "            output += input[i]\n",
    "            i=i+1\n",
    "    return output\n",
    "\n",
    "# * read csv -> variable\n",
    "with open(file_csv, encoding=\"windows-1252\") as f:\n",
    "    csv=f.read()\n",
    "\n",
    "# * selectively change , into ;\n",
    "csv_lines = csv.splitlines()\n",
    "csv_lines_new = []\n",
    "for line in csv_lines[:]:\n",
    "    # * remove first and last quotes if present\n",
    "    if line[:1] == '\"':\n",
    "        line = line[1:-1]\n",
    "    # * tailor line by line\n",
    "    line=reduce_quotes_in_string(line)\n",
    "    line=replace_delimiter_outside_quotes(line)\n",
    "    # * just now quotes can be removed, not before\n",
    "    line=line.replace('\"', '')\n",
    "    csv_lines_new.append(line)\n",
    "    # print(f'{line.count(\";\")} {line}')\n",
    "\n",
    "# * list -> string fo feed into df constructor\n",
    "csv_string = \"\\n\".join(csv_lines_new).replace('\\t', '')\n",
    "\n",
    "df_csv = pd.read_csv(\n",
    "    io.StringIO(csv_string),\n",
    "    sep=\";\",\n",
    "    encoding=\"windows-1252\",\n",
    ")"
   ]
  },
  {
   "cell_type": "markdown",
   "metadata": {},
   "source": [
    "## <a id='toc1_3_'></a>[arrange data](#toc0_)"
   ]
  },
  {
   "cell_type": "markdown",
   "metadata": {},
   "source": [
    "### <a id='toc1_3_1_'></a>[trim column names](#toc0_)"
   ]
  },
  {
   "cell_type": "code",
   "execution_count": 67,
   "metadata": {},
   "outputs": [],
   "source": [
    "cols_trimmed = [col.strip() for col in df_csv.columns]\n",
    "df_csv.columns = cols_trimmed"
   ]
  },
  {
   "cell_type": "markdown",
   "metadata": {},
   "source": [
    "### <a id='toc1_3_2_'></a>[set date column](#toc0_)"
   ]
  },
  {
   "cell_type": "code",
   "execution_count": 68,
   "metadata": {},
   "outputs": [
    {
     "name": "stdout",
     "output_type": "stream",
     "text": [
      "[02.01] Basics - Datum\n"
     ]
    }
   ],
   "source": [
    "[print(col) for col in df_csv.columns if \"Datum\" in col]\n",
    "col_date = \"[02.01] Basics - Datum\""
   ]
  },
  {
   "cell_type": "markdown",
   "metadata": {},
   "source": [
    "### <a id='toc1_3_3_'></a>[relabeling columns](#toc0_)"
   ]
  },
  {
   "cell_type": "code",
   "execution_count": 69,
   "metadata": {},
   "outputs": [],
   "source": [
    "df_csv.rename(columns={\"[03.05.01] Folgen - Wie oft wurde die lebensnotwendige Intervention wiederholt?\":\"[03.05.02] Folgen - Wie oft wurde die lebensnotwendige Intervention wiederholt?\"}, inplace=True)"
   ]
  },
  {
   "cell_type": "markdown",
   "metadata": {},
   "source": [
    "### <a id='toc1_3_4_'></a>[remove duplicates or invalids](#toc0_)"
   ]
  },
  {
   "cell_type": "code",
   "execution_count": 70,
   "metadata": {},
   "outputs": [],
   "source": [
    "# # * remove known erroruos lines\n",
    "df_csv.drop([0,34,33], inplace=True, axis=0, errors='ignore')\n",
    "# * remove \"löschen\" lines\n",
    "df_csv = df_csv[~(df_csv[col_date] == \"löschen\")]\n",
    "\n",
    "# * remove \"Anmerkung\"\n",
    "df_csv.drop(['[05.09] Rahmenbedingungen - Welchen Trainingszustand hatte der / die Betroffene zum Zeitpunkt als das AE auftrat? (choice=5 Anmerkung)'], axis=1, inplace=True, errors='ignore')"
   ]
  },
  {
   "cell_type": "markdown",
   "metadata": {},
   "source": [
    "### <a id='toc1_3_5_'></a>[parse dates to datetime 🕥](#toc0_)"
   ]
  },
  {
   "cell_type": "code",
   "execution_count": 71,
   "metadata": {},
   "outputs": [],
   "source": [
    "# %%script echo skipping\n",
    "\n",
    "# * manual override of invalid dates\n",
    "df_csv.loc[df_csv[col_date]==\"2023_08_2028\", col_date]=\"2023_08_28\"\n",
    "df_csv.loc[df_csv[col_date]==\"2024_16\", col_date]=\"2024_06\"\n",
    "\n",
    "# * split column into  all possible date patterns, these may not interfere!\n",
    "# * parse date col\n",
    "REG_DATE_YYYY_MM=r\"\\d{4}_\\d{2}$\"\n",
    "REG_DATE_YYYY_MM_DD=r\"\\d{4}_\\d{2}_\\d{2}$\"\n",
    "REG_DATE_DD_MM_YYYY=r\"\\d{2}.\\d{2}.\\d{4}$\"\n",
    "\n",
    "# * get subsets according to regex\n",
    "_df1=df_csv[df_csv[col_date].str.contains(REG_DATE_YYYY_MM, na=False)][col_date]\n",
    "_df2=df_csv[df_csv[col_date].str.contains(REG_DATE_YYYY_MM_DD, na=False)][col_date]\n",
    "_df3=df_csv[df_csv[col_date].str.contains(REG_DATE_DD_MM_YYYY, na=False)][col_date]\n",
    "\n",
    "# * convert each to corresponding datetime\n",
    "_df1=pd.to_datetime(_df1, format=\"%Y_%m\").astype(str)\n",
    "_df2=pd.to_datetime(_df2, format=\"%Y_%m_%d\").astype(str)\n",
    "_df3=pd.to_datetime(_df3, format=\"%d.%m.%Y\").astype(str)\n",
    "\n",
    "# * update in place\n",
    "df_csv.update(_df1)\n",
    "df_csv.update(_df2)\n",
    "df_csv.update(_df3)\n",
    "\n",
    "# * now convert the whole col\n",
    "df_csv[col_date]=pd.to_datetime(df_csv[col_date], format='ISO8601')\n",
    "\n",
    "# * blend timestamp into date column\n",
    "df_csv[col_date].fillna(df_csv[\"Survey Timestamp\"], inplace=True)"
   ]
  },
  {
   "cell_type": "markdown",
   "metadata": {},
   "source": [
    "## <a id='toc1_4_'></a>[alter data](#toc0_)"
   ]
  },
  {
   "cell_type": "markdown",
   "metadata": {},
   "source": [
    "### <a id='toc1_4_1_'></a>[(optional) remove columns w/ no or few values](#toc0_)"
   ]
  },
  {
   "cell_type": "code",
   "execution_count": 72,
   "metadata": {},
   "outputs": [],
   "source": [
    "# import numpy as np\n",
    "# # * remove columns with no value\n",
    "# cols_no_value = [col for col in df_csv.columns if df_csv[col].isna().all()]\n",
    "# print(\"these columns have no values at all:\")\n",
    "\n",
    "# print(np.array(cols_no_value))\n",
    "\n",
    "# # ! remove columns\n",
    "# cols_after_removal = list(set(df_csv.columns) - set(cols_no_value))\n",
    "# df_csv_short = df_csv[list(set(df_csv.columns) - set(cols_no_value))]"
   ]
  },
  {
   "cell_type": "markdown",
   "metadata": {},
   "source": [
    "## <a id='toc1_5_'></a>[condensed dataset](#toc0_)"
   ]
  },
  {
   "cell_type": "code",
   "execution_count": 73,
   "metadata": {},
   "outputs": [],
   "source": [
    "\n",
    "def condense_columns_single_choice(df, strict=False):\n",
    "    \"\"\"\n",
    "    Condenses multiple columns into a single target column, extracting specific values based on\n",
    "    the first occurrence of 'Checked' in each row. \n",
    "\n",
    "    The function processes columns named according to a pattern (e.g., 'choice=<value>') and condenses\n",
    "    them into a single column. If a column contains the value 'Checked', the corresponding value (e.g., \n",
    "    'Schmerzen', 'Muskelkater') is assigned to the new target column. If multiple 'Checked' values are \n",
    "    present, only the leftmost occurrence is used.\n",
    "\n",
    "    Parameters:\n",
    "        df (pandas.DataFrame): The input DataFrame with columns to be processed. The columns should contain\n",
    "                                values such as 'Checked' or 'Unchecked', and be named according to a \n",
    "                                pattern like '[02.02] Basics - Was war das AE?  (choice=<value>)'.\n",
    "        strict: if an error is raised if more than 1 cell is \"Checked\"\n",
    "\n",
    "    Returns:\n",
    "        pandas.DataFrame: A DataFrame with the same columns as input, but with a new target column containing \n",
    "                        the extracted values based on the first occurrence of 'Checked' in each row.\n",
    "                        The new column is named using the pattern found in the column names (e.g., '[02.02]').\n",
    "\n",
    "    Notes:\n",
    "        - If no 'Checked' value is found in a row, the target column is set to pd.NA for that row.\n",
    "        - The new column name is derived from the first part of the first input column (i.e., the substring\n",
    "        within the square brackets).\n",
    "        - Only the first 'Checked' occurrence in each row is considered; any subsequent 'Checked' cells\n",
    "        will be ignored.\n",
    "    \"\"\"\n",
    "\n",
    "    # * Extract target column name using the updated regex pattern (substring in square brackets)\n",
    "    match = re.search(r\"\\[\\d{2}\\.\\d{2}(\\.\\d{2})?\\]\", df.columns[0])\n",
    "    if not match:\n",
    "        raise ValueError(\"No substring in square brackets matching the pattern found in the first column name.\")\n",
    "    target_col_name = match.group(0)\n",
    "\n",
    "    # * Check for multiple \"checked\" cells in one row\n",
    "    columns_to_check = [col for col in df.columns if re.search(r\"\\(choice=.*\\)\", col)]\n",
    "    checked_counts = df[columns_to_check].apply(lambda row: (row.str.lower() == \"checked\").sum(), axis=1)\n",
    "\n",
    "    if strict and (checked_counts > 1).any():\n",
    "        problematic_rows = df.index[checked_counts > 1].tolist()\n",
    "        raise ValueError(f\"Multiple 'checked' values found in rows: {problematic_rows}\")\n",
    "\n",
    "    # * Create the target column with default pd.NA values\n",
    "    df[target_col_name] = pd.NA\n",
    "\n",
    "    # * Process each row and select the first \"checked\" value from left to right\n",
    "    for index, row in df.iterrows():\n",
    "        # * Loop over columns left to right to find the first \"checked\" value\n",
    "        for col in columns_to_check:\n",
    "            if row[col].lower() == \"checked\":\n",
    "                # * Extract the choice label using regex. capture group is \n",
    "                match = re.search(r\"\\(choice=(.*?)\\)\", col)\n",
    "                # match = re.search(r\"\\(choice=\\d+ (.*?)\\)\", col)\n",
    "                if match:\n",
    "                    choice_label = match.group(1)\n",
    "                    # Set the target column with the choice label for this row\n",
    "                    df.at[index, target_col_name] = choice_label\n",
    "                break  # Stop after the first \"checked\" value is found\n",
    "\n",
    "    return df.iloc[:,-1]\n",
    "\n",
    "def condense_columns_multi_choice(\n",
    "    df, \n",
    "    new_col_pattern=r\"^\\[.*?\\]\", \n",
    "    choice_pattern=r\"\\(choice=(.*?)\\)\"\n",
    "):\n",
    "    # Extract the new column name from the first column using the provided regex pattern\n",
    "    first_col = df.columns[0]\n",
    "    new_col_name = re.search(new_col_pattern, first_col).group(0) if re.search(new_col_pattern, first_col) else \"Unnamed\"\n",
    "    \n",
    "    # Extract parts from original column names using the provided choice pattern\n",
    "    extracted_parts = [\n",
    "        re.search(choice_pattern, col).group(1) if re.search(choice_pattern, col) else None\n",
    "        for col in df.columns\n",
    "    ]\n",
    "\n",
    "    # Calculate the new column using a bitmask\n",
    "    def calculate_bitmask(row):\n",
    "        bitmask = 0\n",
    "        for i, col in enumerate(df.columns):\n",
    "            if row[col] == \"Checked\":\n",
    "                bitmask += 2**i\n",
    "        return bitmask\n",
    "\n",
    "    df[new_col_name] = df.apply(calculate_bitmask, axis=1)\n",
    "    \n",
    "    # Example placeholder for a function to add additional labels or transformations\n",
    "    # Replace `add_bitmask_label` with your actual logic if needed\n",
    "    # add_bitmask_label(df, new_col_name, extracted_parts)\n",
    "\n",
    "    add_bitmask_label(df, new_col_name, extracted_parts)\n",
    "    return df.iloc[:,-1]\n"
   ]
  },
  {
   "cell_type": "markdown",
   "metadata": {},
   "source": [
    "### <a id='toc1_5_1_'></a>[define single, multi and misc columns](#toc0_)"
   ]
  },
  {
   "cell_type": "code",
   "execution_count": 83,
   "metadata": {},
   "outputs": [],
   "source": [
    "\n",
    "stubs_single = set((\n",
    "'[03.01.02]',\n",
    "'[03.14.02]', '[03.15.01]',\n",
    "))\n",
    "\n",
    "\n",
    "stubs_multi = set((\n",
    "'[02.02]', '[02.03]', '[02.04]', \n",
    "'[03.03.02]', '[03.03.01]', '[03.06.01]',\n",
    "'[03.07.01]', '[03.08.01]', '[03.11.01]', '[03.12.01]', '[03.14.01]',\n",
    "'[03.17.01]',\n",
    "'[05.07]', '[05.09]',\n",
    "))\n",
    "\n",
    "stubs_misc= set((\n",
    "'Participant ID', \n",
    "'[01.02]','[01.03]', '[03.01]', '[03.02]', '[03.03]',\n",
    "'[03.04]', '[03.05]', '[03.06]', '[03.07]', '[03.08]', '[03.09]', '[03.10]',\n",
    "'[03.11]', '[03.12]', '[03.13]', '[03.15]', '[03.16]', '[03.17]', '[05.01]',\n",
    "'[05.02]', '[05.03]', '[05.04]', '[05.05]', '[05.06]', '[05.08]',\n",
    "'[03.01.01]', '[03.02.01]',\n",
    "'[03.02.02]',\n",
    "'[03.06.02]', '[03.07.02]', '[03.08.02]',\n",
    "'[03.09.01]', '[03.09.02]', '[03.10.01]', '[03.10.02]', '[03.11.02]',\n",
    "'[03.12.02]', '[03.13.01]', '[03.13.02]', \n",
    "'[03.15.02]', '[03.17.02]',\n",
    "\n",
    "'[02.01]', '[01.01]', '[01.02]', '[03.01]',\n",
    "'[03.02]', '[03.03]', '[03.04]', '[03.07]',\n",
    "'[03.08]', '[03.08.02]',\n",
    "'[03.09]', '[03.09.01]', '[03.09.02]', '[03.10]', '[03.11]', '[03.12]',\n",
    "'[03.13]', '[03.13.01]', '[03.13.02]', '[03.17]', '[05.01]', '[05.02]',\n",
    "'[05.03]', '[05.04]', '[05.05]', '[05.06]', '[05.08]',\n",
    "'[03.18]'\n",
    "))\n",
    "\n",
    "if stubs_misc & stubs_multi or stubs_misc & stubs_single or stubs_single & stubs_multi:\n",
    "    raise ValueError(\"stubs must be disjoint\")\n",
    "\n",
    "cols_single = hlp.find_cols(df_csv.columns, stubs_single)\n",
    "cols_multi = hlp.find_cols(df_csv.columns, stubs_multi)\n",
    "cols_misc = hlp.find_cols(df_csv.columns, stubs_misc)\n"
   ]
  },
  {
   "cell_type": "code",
   "execution_count": 84,
   "metadata": {},
   "outputs": [],
   "source": [
    "# df_csv.find_cols(stubs=[\"NAOK\"])"
   ]
  },
  {
   "cell_type": "code",
   "execution_count": 85,
   "metadata": {},
   "outputs": [
    {
     "name": "stdout",
     "output_type": "stream",
     "text": [
      "['[03.14.02] Folgen - Wie lange wurde die Anpassung vorgenommen? (choice=nur für diese Einheit)', '[03.14.02] Folgen - Wie lange wurde die Anpassung vorgenommen? (choice=für die gesamte Therapiephase)', '[03.14.02] Folgen - Wie lange wurde die Anpassung vorgenommen? (choice=ab jetzt für alle bewegungseinheiten mit allen Patient*innen)']\n",
      "['[03.01.02] Folgen - Wie lange dauerten die Schmerzen an? (choice=Schmerzen am gleichen Tag)', '[03.01.02] Folgen - Wie lange dauerten die Schmerzen an? (choice=Schmerzen bis zum Folgetag)', '[03.01.02] Folgen - Wie lange dauerten die Schmerzen an? (choice=Schmerzen, die mindestens 3 Tage anhielten)', '[03.01.02] Folgen - Wie lange dauerten die Schmerzen an? (choice=weiß nicht)']\n",
      "['[03.15.01] Folgen - War die gesamte Handlungsweise bei diesem AE rein pädagogischer Natur? (choice=ja)', '[03.15.01] Folgen - War die gesamte Handlungsweise bei diesem AE rein pädagogischer Natur? (choice=nein)']\n"
     ]
    },
    {
     "data": {
      "application/vnd.microsoft.datawrangler.viewer.v0+json": {
       "columns": [
        {
         "name": "index",
         "rawType": "int64",
         "type": "integer"
        },
        {
         "name": "[03.14.02]",
         "rawType": "object",
         "type": "unknown"
        },
        {
         "name": "[03.01.02]",
         "rawType": "object",
         "type": "unknown"
        },
        {
         "name": "[03.15.01]",
         "rawType": "object",
         "type": "unknown"
        }
       ],
       "conversionMethod": "pd.DataFrame",
       "ref": "09e31647-08e4-4af7-931a-2ccac2da60fa",
       "rows": [
        [
         "1",
         null,
         null,
         null
        ],
        [
         "2",
         "nur für diese Einheit",
         "Schmerzen am gleichen Tag",
         null
        ],
        [
         "3",
         null,
         null,
         null
        ],
        [
         "4",
         null,
         null,
         null
        ],
        [
         "5",
         null,
         "Schmerzen, die mindestens 3 Tage anhielten",
         "ja"
        ],
        [
         "6",
         null,
         null,
         null
        ],
        [
         "7",
         null,
         null,
         null
        ],
        [
         "8",
         null,
         "Schmerzen am gleichen Tag",
         null
        ],
        [
         "9",
         null,
         null,
         null
        ],
        [
         "10",
         null,
         "Schmerzen am gleichen Tag",
         null
        ],
        [
         "11",
         null,
         null,
         null
        ],
        [
         "12",
         "nur für diese Einheit",
         null,
         null
        ],
        [
         "13",
         "nur für diese Einheit",
         null,
         null
        ],
        [
         "14",
         "nur für diese Einheit",
         "Schmerzen, die mindestens 3 Tage anhielten",
         null
        ],
        [
         "15",
         null,
         "Schmerzen am gleichen Tag",
         null
        ],
        [
         "16",
         null,
         null,
         null
        ],
        [
         "17",
         null,
         null,
         null
        ],
        [
         "18",
         "nur für diese Einheit",
         "Schmerzen am gleichen Tag",
         null
        ],
        [
         "19",
         "nur für diese Einheit",
         null,
         null
        ],
        [
         "20",
         null,
         "Schmerzen am gleichen Tag",
         null
        ],
        [
         "21",
         "für die gesamte Therapiephase",
         null,
         null
        ],
        [
         "22",
         null,
         "Schmerzen am gleichen Tag",
         null
        ],
        [
         "23",
         "nur für diese Einheit",
         "Schmerzen am gleichen Tag",
         null
        ],
        [
         "24",
         null,
         null,
         null
        ],
        [
         "25",
         null,
         null,
         null
        ],
        [
         "26",
         "ab jetzt für alle bewegungseinheiten mit allen Patient*innen",
         null,
         null
        ],
        [
         "27",
         null,
         null,
         null
        ],
        [
         "28",
         null,
         null,
         null
        ],
        [
         "29",
         null,
         null,
         null
        ],
        [
         "30",
         null,
         null,
         null
        ],
        [
         "31",
         null,
         null,
         null
        ],
        [
         "32",
         null,
         null,
         null
        ],
        [
         "35",
         null,
         "Schmerzen am gleichen Tag",
         null
        ],
        [
         "36",
         null,
         null,
         null
        ],
        [
         "37",
         null,
         null,
         null
        ],
        [
         "38",
         "ab jetzt für alle bewegungseinheiten mit allen Patient*innen",
         null,
         null
        ],
        [
         "39",
         null,
         null,
         null
        ],
        [
         "40",
         null,
         null,
         null
        ],
        [
         "41",
         null,
         "Schmerzen am gleichen Tag",
         null
        ],
        [
         "42",
         "nur für diese Einheit",
         "Schmerzen am gleichen Tag",
         null
        ],
        [
         "43",
         null,
         null,
         null
        ],
        [
         "44",
         null,
         "Schmerzen am gleichen Tag",
         null
        ],
        [
         "45",
         null,
         null,
         null
        ],
        [
         "46",
         "nur für diese Einheit",
         null,
         null
        ],
        [
         "47",
         null,
         null,
         null
        ],
        [
         "48",
         null,
         null,
         null
        ],
        [
         "49",
         null,
         "Schmerzen, die mindestens 3 Tage anhielten",
         "nein"
        ],
        [
         "50",
         null,
         null,
         null
        ],
        [
         "51",
         null,
         null,
         null
        ],
        [
         "52",
         null,
         "Schmerzen, die mindestens 3 Tage anhielten",
         null
        ]
       ],
       "shape": {
        "columns": 3,
        "rows": 195
       }
      },
      "text/html": [
       "<div>\n",
       "<style scoped>\n",
       "    .dataframe tbody tr th:only-of-type {\n",
       "        vertical-align: middle;\n",
       "    }\n",
       "\n",
       "    .dataframe tbody tr th {\n",
       "        vertical-align: top;\n",
       "    }\n",
       "\n",
       "    .dataframe thead th {\n",
       "        text-align: right;\n",
       "    }\n",
       "</style>\n",
       "<table border=\"1\" class=\"dataframe\">\n",
       "  <thead>\n",
       "    <tr style=\"text-align: right;\">\n",
       "      <th></th>\n",
       "      <th>[03.14.02]</th>\n",
       "      <th>[03.01.02]</th>\n",
       "      <th>[03.15.01]</th>\n",
       "    </tr>\n",
       "  </thead>\n",
       "  <tbody>\n",
       "    <tr>\n",
       "      <th>1</th>\n",
       "      <td>&lt;NA&gt;</td>\n",
       "      <td>&lt;NA&gt;</td>\n",
       "      <td>&lt;NA&gt;</td>\n",
       "    </tr>\n",
       "    <tr>\n",
       "      <th>2</th>\n",
       "      <td>nur für diese Einheit</td>\n",
       "      <td>Schmerzen am gleichen Tag</td>\n",
       "      <td>&lt;NA&gt;</td>\n",
       "    </tr>\n",
       "    <tr>\n",
       "      <th>3</th>\n",
       "      <td>&lt;NA&gt;</td>\n",
       "      <td>&lt;NA&gt;</td>\n",
       "      <td>&lt;NA&gt;</td>\n",
       "    </tr>\n",
       "    <tr>\n",
       "      <th>4</th>\n",
       "      <td>&lt;NA&gt;</td>\n",
       "      <td>&lt;NA&gt;</td>\n",
       "      <td>&lt;NA&gt;</td>\n",
       "    </tr>\n",
       "    <tr>\n",
       "      <th>5</th>\n",
       "      <td>&lt;NA&gt;</td>\n",
       "      <td>Schmerzen, die mindestens 3 Tage anhielten</td>\n",
       "      <td>ja</td>\n",
       "    </tr>\n",
       "    <tr>\n",
       "      <th>...</th>\n",
       "      <td>...</td>\n",
       "      <td>...</td>\n",
       "      <td>...</td>\n",
       "    </tr>\n",
       "    <tr>\n",
       "      <th>193</th>\n",
       "      <td>&lt;NA&gt;</td>\n",
       "      <td>&lt;NA&gt;</td>\n",
       "      <td>&lt;NA&gt;</td>\n",
       "    </tr>\n",
       "    <tr>\n",
       "      <th>194</th>\n",
       "      <td>&lt;NA&gt;</td>\n",
       "      <td>&lt;NA&gt;</td>\n",
       "      <td>&lt;NA&gt;</td>\n",
       "    </tr>\n",
       "    <tr>\n",
       "      <th>195</th>\n",
       "      <td>&lt;NA&gt;</td>\n",
       "      <td>&lt;NA&gt;</td>\n",
       "      <td>&lt;NA&gt;</td>\n",
       "    </tr>\n",
       "    <tr>\n",
       "      <th>196</th>\n",
       "      <td>&lt;NA&gt;</td>\n",
       "      <td>&lt;NA&gt;</td>\n",
       "      <td>&lt;NA&gt;</td>\n",
       "    </tr>\n",
       "    <tr>\n",
       "      <th>197</th>\n",
       "      <td>&lt;NA&gt;</td>\n",
       "      <td>Schmerzen am gleichen Tag</td>\n",
       "      <td>&lt;NA&gt;</td>\n",
       "    </tr>\n",
       "  </tbody>\n",
       "</table>\n",
       "<p>195 rows × 3 columns</p>\n",
       "</div>"
      ],
      "text/plain": [
       "                [03.14.02]                                  [03.01.02]  \\\n",
       "1                     <NA>                                        <NA>   \n",
       "2    nur für diese Einheit                   Schmerzen am gleichen Tag   \n",
       "3                     <NA>                                        <NA>   \n",
       "4                     <NA>                                        <NA>   \n",
       "5                     <NA>  Schmerzen, die mindestens 3 Tage anhielten   \n",
       "..                     ...                                         ...   \n",
       "193                   <NA>                                        <NA>   \n",
       "194                   <NA>                                        <NA>   \n",
       "195                   <NA>                                        <NA>   \n",
       "196                   <NA>                                        <NA>   \n",
       "197                   <NA>                   Schmerzen am gleichen Tag   \n",
       "\n",
       "    [03.15.01]  \n",
       "1         <NA>  \n",
       "2         <NA>  \n",
       "3         <NA>  \n",
       "4         <NA>  \n",
       "5           ja  \n",
       "..         ...  \n",
       "193       <NA>  \n",
       "194       <NA>  \n",
       "195       <NA>  \n",
       "196       <NA>  \n",
       "197       <NA>  \n",
       "\n",
       "[195 rows x 3 columns]"
      ]
     },
     "execution_count": 85,
     "metadata": {},
     "output_type": "execute_result"
    }
   ],
   "source": [
    "df_csv_single = pd.DataFrame()\n",
    "for stub in stubs_single:\n",
    "    cols = [col for col in df_csv.columns if stub in col]\n",
    "    print(cols)\n",
    "\n",
    "    df = pd.DataFrame(df_csv[cols])\n",
    "    ser = condense_columns_single_choice(df)\n",
    "    df_csv_single[stub] = ser\n",
    "\n",
    "df_csv_single"
   ]
  },
  {
   "cell_type": "code",
   "execution_count": 86,
   "metadata": {},
   "outputs": [
    {
     "data": {
      "application/vnd.microsoft.datawrangler.viewer.v0+json": {
       "columns": [
        {
         "name": "index",
         "rawType": "int64",
         "type": "integer"
        },
        {
         "name": "[03.06.01]",
         "rawType": "object",
         "type": "string"
        },
        {
         "name": "[03.03.01]",
         "rawType": "object",
         "type": "string"
        },
        {
         "name": "[03.12.01]",
         "rawType": "object",
         "type": "string"
        },
        {
         "name": "[05.09]",
         "rawType": "object",
         "type": "string"
        },
        {
         "name": "[03.14.01]",
         "rawType": "object",
         "type": "string"
        },
        {
         "name": "[05.07]",
         "rawType": "object",
         "type": "string"
        },
        {
         "name": "[03.11.01]",
         "rawType": "object",
         "type": "string"
        },
        {
         "name": "[03.17.01]",
         "rawType": "object",
         "type": "string"
        },
        {
         "name": "[03.03.02]",
         "rawType": "object",
         "type": "string"
        },
        {
         "name": "[03.07.01]",
         "rawType": "object",
         "type": "string"
        },
        {
         "name": "[03.08.01]",
         "rawType": "object",
         "type": "string"
        },
        {
         "name": "[02.02]",
         "rawType": "object",
         "type": "string"
        },
        {
         "name": "[02.03]",
         "rawType": "object",
         "type": "string"
        },
        {
         "name": "[02.04]",
         "rawType": "object",
         "type": "string"
        }
       ],
       "conversionMethod": "pd.DataFrame",
       "ref": "cc632a0a-3990-4d3b-b4ea-d83ab6ba3590",
       "rows": [
        [
         "1",
         "-",
         "-",
         "-",
         "2 Durchschnittlich",
         "-",
         "Koordination",
         "-",
         "-",
         "-",
         "-",
         "bei dem Betroffenen selbst",
         "Übelkeit/ Erbrechen",
         "Physische Belastung|Med. Therapie",
         "Internistisch"
        ],
        [
         "2",
         "-",
         "-",
         "-",
         "1 Gut",
         "Übungsauswahl|Intensität",
         "Koordination",
         "-",
         "-",
         "-",
         "-",
         "bei dem Betroffenen selbst|im Behandlungsteam",
         "Schmerzen",
         "Koordinationsprobleme",
         "Rücken|Gesäß"
        ],
        [
         "3",
         "-",
         "Medikamentengabe oral",
         "-",
         "3 Mäßig",
         "-",
         "Koordination",
         "-",
         "-",
         "Innerhalb der ersten 24 Stunden",
         "-",
         "bei dem Betroffenen selbst",
         "Kreislaufprobleme",
         "Med. Therapie",
         "Internistisch"
        ]
       ],
       "shape": {
        "columns": 14,
        "rows": 3
       }
      },
      "text/html": [
       "<div>\n",
       "<style scoped>\n",
       "    .dataframe tbody tr th:only-of-type {\n",
       "        vertical-align: middle;\n",
       "    }\n",
       "\n",
       "    .dataframe tbody tr th {\n",
       "        vertical-align: top;\n",
       "    }\n",
       "\n",
       "    .dataframe thead th {\n",
       "        text-align: right;\n",
       "    }\n",
       "</style>\n",
       "<table border=\"1\" class=\"dataframe\">\n",
       "  <thead>\n",
       "    <tr style=\"text-align: right;\">\n",
       "      <th></th>\n",
       "      <th>[03.06.01]</th>\n",
       "      <th>[03.03.01]</th>\n",
       "      <th>[03.12.01]</th>\n",
       "      <th>[05.09]</th>\n",
       "      <th>[03.14.01]</th>\n",
       "      <th>[05.07]</th>\n",
       "      <th>[03.11.01]</th>\n",
       "      <th>[03.17.01]</th>\n",
       "      <th>[03.03.02]</th>\n",
       "      <th>[03.07.01]</th>\n",
       "      <th>[03.08.01]</th>\n",
       "      <th>[02.02]</th>\n",
       "      <th>[02.03]</th>\n",
       "      <th>[02.04]</th>\n",
       "    </tr>\n",
       "  </thead>\n",
       "  <tbody>\n",
       "    <tr>\n",
       "      <th>1</th>\n",
       "      <td>-</td>\n",
       "      <td>-</td>\n",
       "      <td>-</td>\n",
       "      <td>2 Durchschnittlich</td>\n",
       "      <td>-</td>\n",
       "      <td>Koordination</td>\n",
       "      <td>-</td>\n",
       "      <td>-</td>\n",
       "      <td>-</td>\n",
       "      <td>-</td>\n",
       "      <td>bei dem Betroffenen selbst</td>\n",
       "      <td>Übelkeit/ Erbrechen</td>\n",
       "      <td>Physische Belastung|Med. Therapie</td>\n",
       "      <td>Internistisch</td>\n",
       "    </tr>\n",
       "    <tr>\n",
       "      <th>2</th>\n",
       "      <td>-</td>\n",
       "      <td>-</td>\n",
       "      <td>-</td>\n",
       "      <td>1 Gut</td>\n",
       "      <td>Übungsauswahl|Intensität</td>\n",
       "      <td>Koordination</td>\n",
       "      <td>-</td>\n",
       "      <td>-</td>\n",
       "      <td>-</td>\n",
       "      <td>-</td>\n",
       "      <td>bei dem Betroffenen selbst|im Behandlungsteam</td>\n",
       "      <td>Schmerzen</td>\n",
       "      <td>Koordinationsprobleme</td>\n",
       "      <td>Rücken|Gesäß</td>\n",
       "    </tr>\n",
       "    <tr>\n",
       "      <th>3</th>\n",
       "      <td>-</td>\n",
       "      <td>Medikamentengabe oral</td>\n",
       "      <td>-</td>\n",
       "      <td>3 Mäßig</td>\n",
       "      <td>-</td>\n",
       "      <td>Koordination</td>\n",
       "      <td>-</td>\n",
       "      <td>-</td>\n",
       "      <td>Innerhalb der ersten 24 Stunden</td>\n",
       "      <td>-</td>\n",
       "      <td>bei dem Betroffenen selbst</td>\n",
       "      <td>Kreislaufprobleme</td>\n",
       "      <td>Med. Therapie</td>\n",
       "      <td>Internistisch</td>\n",
       "    </tr>\n",
       "  </tbody>\n",
       "</table>\n",
       "</div>"
      ],
      "text/plain": [
       "  [03.06.01]             [03.03.01] [03.12.01]             [05.09]  \\\n",
       "1          -                      -          -  2 Durchschnittlich   \n",
       "2          -                      -          -               1 Gut   \n",
       "3          -  Medikamentengabe oral          -             3 Mäßig   \n",
       "\n",
       "                 [03.14.01]       [05.07] [03.11.01] [03.17.01]  \\\n",
       "1                         -  Koordination          -          -   \n",
       "2  Übungsauswahl|Intensität  Koordination          -          -   \n",
       "3                         -  Koordination          -          -   \n",
       "\n",
       "                        [03.03.02] [03.07.01]  \\\n",
       "1                                -          -   \n",
       "2                                -          -   \n",
       "3  Innerhalb der ersten 24 Stunden          -   \n",
       "\n",
       "                                      [03.08.01]              [02.02]  \\\n",
       "1                     bei dem Betroffenen selbst  Übelkeit/ Erbrechen   \n",
       "2  bei dem Betroffenen selbst|im Behandlungsteam            Schmerzen   \n",
       "3                     bei dem Betroffenen selbst    Kreislaufprobleme   \n",
       "\n",
       "                             [02.03]        [02.04]  \n",
       "1  Physische Belastung|Med. Therapie  Internistisch  \n",
       "2              Koordinationsprobleme   Rücken|Gesäß  \n",
       "3                      Med. Therapie  Internistisch  "
      ]
     },
     "execution_count": 86,
     "metadata": {},
     "output_type": "execute_result"
    }
   ],
   "source": [
    "df_csv_multi = pd.DataFrame()\n",
    "for stub in stubs_multi:\n",
    "    cols = [col for col in df_csv.columns if stub in col]\n",
    "    # print(cols)\n",
    "\n",
    "    df = pd.DataFrame(df_csv[cols])\n",
    "    ser = condense_columns_multi_choice(df)\n",
    "    df_csv_multi[stub] = ser\n",
    "\n",
    "df_csv_multi[:3]"
   ]
  },
  {
   "cell_type": "markdown",
   "metadata": {},
   "source": [
    "### <a id='toc1_5_2_'></a>[create condensed dataset](#toc0_)"
   ]
  },
  {
   "cell_type": "code",
   "execution_count": 87,
   "metadata": {},
   "outputs": [
    {
     "data": {
      "application/vnd.microsoft.datawrangler.viewer.v0+json": {
       "columns": [
        {
         "name": "index",
         "rawType": "int64",
         "type": "integer"
        },
        {
         "name": "[03.02.01] Folgen - Wie zeitnah anch dem AE wurde entschieden einen Krankehausaufenthalt anzustreben oder zu verlängern?",
         "rawType": "object",
         "type": "unknown"
        },
        {
         "name": "[03.17] Folgen - Kam es zu Einschränkungen der ADL?",
         "rawType": "object",
         "type": "unknown"
        },
        {
         "name": "[05.03] Rahmenbedingungen - Wie alt war der/die Betroffene zum Zeitpunkt des AE?",
         "rawType": "object",
         "type": "string"
        },
        {
         "name": "[03.15] Folgen - Wurde aktiv getröstet?",
         "rawType": "object",
         "type": "string"
        },
        {
         "name": "[03.16] Folgen - Kam es zum Tod?",
         "rawType": "object",
         "type": "string"
        },
        {
         "name": "[03.08] Folgen - Traten Angst und Unsicherheit auf?",
         "rawType": "object",
         "type": "string"
        },
        {
         "name": "[03.01] Folgen - Sind Schmerzen aufgetreten?",
         "rawType": "object",
         "type": "string"
        },
        {
         "name": "[03.07] Konsequenzen - Mussten Medikamenten eingenommen werden?",
         "rawType": "object",
         "type": "string"
        },
        {
         "name": "[03.09.02] Folgen - Über welchen Zeitraum erstreckte sich die strukturelle Anpassung?",
         "rawType": "object",
         "type": "unknown"
        },
        {
         "name": "[05.08] Rahmenbedingungen - In welcher Phase der geplanten Sporteinheit trat das AE auf?",
         "rawType": "object",
         "type": "string"
        },
        {
         "name": "[01.01] Bewertung - CTCAE-Bewertung",
         "rawType": "object",
         "type": "string"
        },
        {
         "name": "Participant ID",
         "rawType": "int64",
         "type": "integer"
        },
        {
         "name": "[03.09] Folgen - Kam es zu einer strukturellen Anpassungen?",
         "rawType": "object",
         "type": "string"
        },
        {
         "name": "[03.13.01] Folgen - Wie wurde gestoppt?",
         "rawType": "object",
         "type": "unknown"
        },
        {
         "name": "[05.05] Rahmenbedingungen - Fand das AE im Rahmen einer Sporttestung statt?",
         "rawType": "object",
         "type": "string"
        },
        {
         "name": "[03.17.02] Folgen - Wie lange?",
         "rawType": "object",
         "type": "unknown"
        },
        {
         "name": "[05.01] Rahmenbedingung - In welcher Therapiephase trat das AE auf?",
         "rawType": "object",
         "type": "string"
        },
        {
         "name": "[03.15.02] Folgen - Wie lange wurde getröstet?",
         "rawType": "object",
         "type": "unknown"
        },
        {
         "name": "[03.04] Folgen - Kam es zu einer deutlichen Verzögerung bei der Einhaltung des medizinischen Therapieprotokolls?",
         "rawType": "object",
         "type": "string"
        },
        {
         "name": "[03.18] Folgen - Gibt es weitere relevante Folgen?",
         "rawType": "object",
         "type": "unknown"
        },
        {
         "name": "[03.07.02] Folgen - Wie lange mussten diese Medikamente eingenommen werden?",
         "rawType": "object",
         "type": "unknown"
        },
        {
         "name": "[05.06] Rahmenbedingungen - In welchem Setting ist das AE aufgetreten?",
         "rawType": "object",
         "type": "string"
        },
        {
         "name": "[02.01] Basics - Datum",
         "rawType": "datetime64[ns]",
         "type": "datetime"
        },
        {
         "name": "[03.06.02] Folgen - Über welchen Zeitraum hinweg bestand der erhöhte Pflegebedarf?",
         "rawType": "object",
         "type": "unknown"
        },
        {
         "name": "[03.02.02] Folgen - Wie lange dauerte der (verlängerte) Krankenhausaufenthalt an?",
         "rawType": "object",
         "type": "unknown"
        },
        {
         "name": "[03.11.02] Folgen - Wie lange wurde die PECH-Regel angewendet?",
         "rawType": "object",
         "type": "unknown"
        },
        {
         "name": "[03.10] Folgen - Wurde die Situation von jemanden mit Expertise direkt geprüft?",
         "rawType": "object",
         "type": "string"
        },
        {
         "name": "[01.02] Wann ist das AE erstmals aufgetreten?",
         "rawType": "object",
         "type": "string"
        },
        {
         "name": "[01.03] Bewertung - Glauben Sie, dass das AE mit dem Sport assoziiert ist?",
         "rawType": "object",
         "type": "string"
        },
        {
         "name": "[03.02] Folgen - Kam es zu einem Krankenhausaufenthalt oder einer Verlängerung eines solchen?",
         "rawType": "object",
         "type": "string"
        },
        {
         "name": "[03.03] - Folgen - Kam es zu einer medizinischen Weiterbehandlung?",
         "rawType": "object",
         "type": "string"
        },
        {
         "name": "[03.12] Folgen - Wurde das Kind nach dem AE observiert?",
         "rawType": "object",
         "type": "string"
        },
        {
         "name": "[03.11] Folgen - Wurde die PECH-Regel angewendet?",
         "rawType": "object",
         "type": "string"
        },
        {
         "name": "[05.04] Rahmenbedingungen - Fand das Sportprogramm-Online statt?",
         "rawType": "object",
         "type": "string"
        },
        {
         "name": "[03.08.02] Folgen - Wie lange beeinflusste Angst und Unsicherheit die Situation?",
         "rawType": "object",
         "type": "string"
        },
        {
         "name": "[03.05] Folgen - Kam es zu lebensnotwendigen Interventionen (Beatmung, Herzdruckmassage etc.)?",
         "rawType": "object",
         "type": "string"
        },
        {
         "name": "[03.06] Folgen - Kam es zu einem erhöhten Pflegebedarf?",
         "rawType": "object",
         "type": "string"
        },
        {
         "name": "[03.12.02] Folgen - Wie lange wurde obeserviert?",
         "rawType": "object",
         "type": "unknown"
        },
        {
         "name": "[03.01.01] Folgen - Schmerzskala",
         "rawType": "float64",
         "type": "float"
        },
        {
         "name": "[03.09.01] Folgen - Wie sah die strukturelle Anpassung aus?",
         "rawType": "object",
         "type": "unknown"
        },
        {
         "name": "[05.02] Rahmenbedingungen - In welcher Gruppengröße fand die Sporteinheit, in der das AE auftrat, statt?",
         "rawType": "object",
         "type": "string"
        },
        {
         "name": "[03.10.02] Folgen - Wurde ein OK zum Weitermachen gegeben?",
         "rawType": "object",
         "type": "unknown"
        },
        {
         "name": "[03.13.02] Folgen - Wie lange wurde pausiert?",
         "rawType": "object",
         "type": "unknown"
        },
        {
         "name": "[03.10.01] Folgen - Wer hat geprüft?",
         "rawType": "object",
         "type": "unknown"
        },
        {
         "name": "[03.13] Folgen - Wurde die Bewegungseinheit gestoppt?",
         "rawType": "object",
         "type": "string"
        },
        {
         "name": "[03.14.02]",
         "rawType": "object",
         "type": "unknown"
        },
        {
         "name": "[03.01.02]",
         "rawType": "object",
         "type": "unknown"
        },
        {
         "name": "[03.15.01]",
         "rawType": "object",
         "type": "unknown"
        },
        {
         "name": "[03.06.01]",
         "rawType": "object",
         "type": "string"
        },
        {
         "name": "[03.03.01]",
         "rawType": "object",
         "type": "string"
        },
        {
         "name": "[03.12.01]",
         "rawType": "object",
         "type": "string"
        },
        {
         "name": "[05.09]",
         "rawType": "object",
         "type": "string"
        },
        {
         "name": "[03.14.01]",
         "rawType": "object",
         "type": "string"
        },
        {
         "name": "[05.07]",
         "rawType": "object",
         "type": "string"
        },
        {
         "name": "[03.11.01]",
         "rawType": "object",
         "type": "string"
        },
        {
         "name": "[03.17.01]",
         "rawType": "object",
         "type": "string"
        },
        {
         "name": "[03.03.02]",
         "rawType": "object",
         "type": "string"
        },
        {
         "name": "[03.07.01]",
         "rawType": "object",
         "type": "string"
        },
        {
         "name": "[03.08.01]",
         "rawType": "object",
         "type": "string"
        },
        {
         "name": "[02.02]",
         "rawType": "object",
         "type": "string"
        },
        {
         "name": "[02.03]",
         "rawType": "object",
         "type": "string"
        },
        {
         "name": "[02.04]",
         "rawType": "object",
         "type": "string"
        }
       ],
       "conversionMethod": "pd.DataFrame",
       "ref": "7b64d9d1-3cf6-4006-966d-3841cee8e904",
       "rows": [
        [
         "1",
         null,
         "Nein",
         "10 bis 14 Jahre",
         "Yes",
         "No",
         "Ja",
         "Nein",
         "No",
         null,
         "2. Hälfte",
         "2",
         "3",
         "Nein",
         "Abbruch",
         "No",
         null,
         "Akuttherapie",
         null,
         "No",
         null,
         null,
         "Klinikflur",
         "2022-10-01 00:00:00",
         null,
         null,
         null,
         "Yes",
         "Das AE war vor dem Sport bereits vorhanden und hat sich verstärkt.",
         "No",
         "No",
         "No",
         "Nein",
         "Nein",
         "No",
         "bis zum Ende der Woche",
         "No",
         "No",
         null,
         null,
         null,
         "Einzel",
         "Nein",
         null,
         "Medizin",
         "Yes",
         null,
         null,
         null,
         "-",
         "-",
         "-",
         "2 Durchschnittlich",
         "-",
         "Koordination",
         "-",
         "-",
         "-",
         "-",
         "bei dem Betroffenen selbst",
         "Übelkeit/ Erbrechen",
         "Physische Belastung|Med. Therapie",
         "Internistisch"
        ],
        [
         "2",
         null,
         null,
         "06 bis 9 Jahre",
         "Yes",
         "No",
         "Ja",
         "Ja",
         "No",
         null,
         "1. Hälfte",
         "1",
         "4",
         "Nein",
         "Pause",
         "No",
         null,
         "Akuttherapie",
         null,
         "No",
         null,
         null,
         "Klinikflur",
         "2022-10-01 00:00:00",
         null,
         null,
         null,
         "No",
         "Das AE ist neu aufgetreten.",
         "Yes",
         "No",
         "No",
         "Nein",
         "Nein",
         "No",
         "nur noch am gleichen Tag",
         "No",
         "No",
         null,
         "2.0",
         null,
         "Einzel",
         null,
         "max. 5min",
         null,
         "Yes",
         "nur für diese Einheit",
         "Schmerzen am gleichen Tag",
         null,
         "-",
         "-",
         "-",
         "1 Gut",
         "Übungsauswahl|Intensität",
         "Koordination",
         "-",
         "-",
         "-",
         "-",
         "bei dem Betroffenen selbst|im Behandlungsteam",
         "Schmerzen",
         "Koordinationsprobleme",
         "Rücken|Gesäß"
        ],
        [
         "3",
         null,
         "Nein",
         "10 bis 14 Jahre",
         "No",
         "No",
         "Ja",
         "Nein",
         "weiß nicht",
         null,
         "2. Hälfte",
         "2",
         "5",
         "Nein",
         null,
         "No",
         null,
         "Akuttherapie",
         null,
         "No",
         null,
         null,
         "Pat.-Zimmer",
         "2022-11-01 00:00:00",
         null,
         null,
         null,
         "Yes",
         "Das AE war vor dem Sport bereits vorhanden und hat sich verstärkt.",
         "No",
         "No",
         "Yes",
         "Nein",
         "Nein",
         "No",
         "nur noch am gleichen Tag",
         "No",
         "No",
         null,
         null,
         null,
         "Einzel",
         "Nein",
         null,
         "Pflege",
         "No",
         null,
         null,
         null,
         "-",
         "Medikamentengabe oral",
         "-",
         "3 Mäßig",
         "-",
         "Koordination",
         "-",
         "-",
         "Innerhalb der ersten 24 Stunden",
         "-",
         "bei dem Betroffenen selbst",
         "Kreislaufprobleme",
         "Med. Therapie",
         "Internistisch"
        ]
       ],
       "shape": {
        "columns": 62,
        "rows": 3
       }
      },
      "text/html": [
       "<div>\n",
       "<style scoped>\n",
       "    .dataframe tbody tr th:only-of-type {\n",
       "        vertical-align: middle;\n",
       "    }\n",
       "\n",
       "    .dataframe tbody tr th {\n",
       "        vertical-align: top;\n",
       "    }\n",
       "\n",
       "    .dataframe thead th {\n",
       "        text-align: right;\n",
       "    }\n",
       "</style>\n",
       "<table border=\"1\" class=\"dataframe\">\n",
       "  <thead>\n",
       "    <tr style=\"text-align: right;\">\n",
       "      <th></th>\n",
       "      <th>[03.02.01] Folgen - Wie zeitnah anch dem AE wurde entschieden einen Krankehausaufenthalt anzustreben oder zu verlängern?</th>\n",
       "      <th>[03.17] Folgen - Kam es zu Einschränkungen der ADL?</th>\n",
       "      <th>[05.03] Rahmenbedingungen - Wie alt war der/die Betroffene zum Zeitpunkt des AE?</th>\n",
       "      <th>[03.15] Folgen - Wurde aktiv getröstet?</th>\n",
       "      <th>[03.16] Folgen - Kam es zum Tod?</th>\n",
       "      <th>[03.08] Folgen - Traten Angst und Unsicherheit auf?</th>\n",
       "      <th>[03.01] Folgen - Sind Schmerzen aufgetreten?</th>\n",
       "      <th>[03.07] Konsequenzen - Mussten Medikamenten eingenommen werden?</th>\n",
       "      <th>[03.09.02] Folgen - Über welchen Zeitraum erstreckte sich die strukturelle Anpassung?</th>\n",
       "      <th>[05.08] Rahmenbedingungen - In welcher Phase der geplanten Sporteinheit trat das AE auf?</th>\n",
       "      <th>...</th>\n",
       "      <th>[03.14.01]</th>\n",
       "      <th>[05.07]</th>\n",
       "      <th>[03.11.01]</th>\n",
       "      <th>[03.17.01]</th>\n",
       "      <th>[03.03.02]</th>\n",
       "      <th>[03.07.01]</th>\n",
       "      <th>[03.08.01]</th>\n",
       "      <th>[02.02]</th>\n",
       "      <th>[02.03]</th>\n",
       "      <th>[02.04]</th>\n",
       "    </tr>\n",
       "  </thead>\n",
       "  <tbody>\n",
       "    <tr>\n",
       "      <th>1</th>\n",
       "      <td>NaN</td>\n",
       "      <td>Nein</td>\n",
       "      <td>10 bis 14 Jahre</td>\n",
       "      <td>Yes</td>\n",
       "      <td>No</td>\n",
       "      <td>Ja</td>\n",
       "      <td>Nein</td>\n",
       "      <td>No</td>\n",
       "      <td>NaN</td>\n",
       "      <td>2. Hälfte</td>\n",
       "      <td>...</td>\n",
       "      <td>-</td>\n",
       "      <td>Koordination</td>\n",
       "      <td>-</td>\n",
       "      <td>-</td>\n",
       "      <td>-</td>\n",
       "      <td>-</td>\n",
       "      <td>bei dem Betroffenen selbst</td>\n",
       "      <td>Übelkeit/ Erbrechen</td>\n",
       "      <td>Physische Belastung|Med. Therapie</td>\n",
       "      <td>Internistisch</td>\n",
       "    </tr>\n",
       "    <tr>\n",
       "      <th>2</th>\n",
       "      <td>NaN</td>\n",
       "      <td>NaN</td>\n",
       "      <td>06 bis 9 Jahre</td>\n",
       "      <td>Yes</td>\n",
       "      <td>No</td>\n",
       "      <td>Ja</td>\n",
       "      <td>Ja</td>\n",
       "      <td>No</td>\n",
       "      <td>NaN</td>\n",
       "      <td>1. Hälfte</td>\n",
       "      <td>...</td>\n",
       "      <td>Übungsauswahl|Intensität</td>\n",
       "      <td>Koordination</td>\n",
       "      <td>-</td>\n",
       "      <td>-</td>\n",
       "      <td>-</td>\n",
       "      <td>-</td>\n",
       "      <td>bei dem Betroffenen selbst|im Behandlungsteam</td>\n",
       "      <td>Schmerzen</td>\n",
       "      <td>Koordinationsprobleme</td>\n",
       "      <td>Rücken|Gesäß</td>\n",
       "    </tr>\n",
       "    <tr>\n",
       "      <th>3</th>\n",
       "      <td>NaN</td>\n",
       "      <td>Nein</td>\n",
       "      <td>10 bis 14 Jahre</td>\n",
       "      <td>No</td>\n",
       "      <td>No</td>\n",
       "      <td>Ja</td>\n",
       "      <td>Nein</td>\n",
       "      <td>weiß nicht</td>\n",
       "      <td>NaN</td>\n",
       "      <td>2. Hälfte</td>\n",
       "      <td>...</td>\n",
       "      <td>-</td>\n",
       "      <td>Koordination</td>\n",
       "      <td>-</td>\n",
       "      <td>-</td>\n",
       "      <td>Innerhalb der ersten 24 Stunden</td>\n",
       "      <td>-</td>\n",
       "      <td>bei dem Betroffenen selbst</td>\n",
       "      <td>Kreislaufprobleme</td>\n",
       "      <td>Med. Therapie</td>\n",
       "      <td>Internistisch</td>\n",
       "    </tr>\n",
       "  </tbody>\n",
       "</table>\n",
       "<p>3 rows × 62 columns</p>\n",
       "</div>"
      ],
      "text/plain": [
       "  [03.02.01] Folgen - Wie zeitnah anch dem AE wurde entschieden einen Krankehausaufenthalt anzustreben oder zu verlängern?  \\\n",
       "1                                                NaN                                                                         \n",
       "2                                                NaN                                                                         \n",
       "3                                                NaN                                                                         \n",
       "\n",
       "  [03.17] Folgen - Kam es zu Einschränkungen der ADL?  \\\n",
       "1                                               Nein    \n",
       "2                                                NaN    \n",
       "3                                               Nein    \n",
       "\n",
       "  [05.03] Rahmenbedingungen - Wie alt war der/die Betroffene zum Zeitpunkt des AE?  \\\n",
       "1                                    10 bis 14 Jahre                                 \n",
       "2                                     06 bis 9 Jahre                                 \n",
       "3                                    10 bis 14 Jahre                                 \n",
       "\n",
       "  [03.15] Folgen - Wurde aktiv getröstet? [03.16] Folgen - Kam es zum Tod?  \\\n",
       "1                                     Yes                               No   \n",
       "2                                     Yes                               No   \n",
       "3                                      No                               No   \n",
       "\n",
       "  [03.08] Folgen - Traten Angst und Unsicherheit auf?  \\\n",
       "1                                                 Ja    \n",
       "2                                                 Ja    \n",
       "3                                                 Ja    \n",
       "\n",
       "  [03.01] Folgen - Sind Schmerzen aufgetreten?  \\\n",
       "1                                         Nein   \n",
       "2                                           Ja   \n",
       "3                                         Nein   \n",
       "\n",
       "  [03.07] Konsequenzen - Mussten Medikamenten eingenommen werden?  \\\n",
       "1                                                 No                \n",
       "2                                                 No                \n",
       "3                                         weiß nicht                \n",
       "\n",
       "  [03.09.02] Folgen - Über welchen Zeitraum erstreckte sich die strukturelle Anpassung?  \\\n",
       "1                                                NaN                                      \n",
       "2                                                NaN                                      \n",
       "3                                                NaN                                      \n",
       "\n",
       "  [05.08] Rahmenbedingungen - In welcher Phase der geplanten Sporteinheit trat das AE auf?  \\\n",
       "1                                          2. Hälfte                                         \n",
       "2                                          1. Hälfte                                         \n",
       "3                                          2. Hälfte                                         \n",
       "\n",
       "   ...                [03.14.01]       [05.07] [03.11.01] [03.17.01]  \\\n",
       "1  ...                         -  Koordination          -          -   \n",
       "2  ...  Übungsauswahl|Intensität  Koordination          -          -   \n",
       "3  ...                         -  Koordination          -          -   \n",
       "\n",
       "                        [03.03.02] [03.07.01]  \\\n",
       "1                                -          -   \n",
       "2                                -          -   \n",
       "3  Innerhalb der ersten 24 Stunden          -   \n",
       "\n",
       "                                      [03.08.01]              [02.02]  \\\n",
       "1                     bei dem Betroffenen selbst  Übelkeit/ Erbrechen   \n",
       "2  bei dem Betroffenen selbst|im Behandlungsteam            Schmerzen   \n",
       "3                     bei dem Betroffenen selbst    Kreislaufprobleme   \n",
       "\n",
       "                             [02.03]        [02.04]  \n",
       "1  Physische Belastung|Med. Therapie  Internistisch  \n",
       "2              Koordinationsprobleme   Rücken|Gesäß  \n",
       "3                      Med. Therapie  Internistisch  \n",
       "\n",
       "[3 rows x 62 columns]"
      ]
     },
     "execution_count": 87,
     "metadata": {},
     "output_type": "execute_result"
    }
   ],
   "source": [
    "import re\n",
    "\n",
    "# * save original columns as txt\n",
    "cols_all = sorted(cols_single + cols_multi + cols_misc)\n",
    "pd.DataFrame(cols_all).to_csv(dir_data_out/\"df_csv_condensed_columns.txt\", index=False, sep=\";\", header=False)\n",
    "\n",
    "# * all columns\n",
    "df_csv_condensed = pd.concat(\n",
    "    [\n",
    "        df_csv[cols_misc],\n",
    "        df_csv_single,\n",
    "        df_csv_multi,\n",
    "    ], \n",
    "    axis=1,\n",
    ")\n",
    "df_csv_condensed[:3]"
   ]
  },
  {
   "cell_type": "code",
   "execution_count": 96,
   "metadata": {},
   "outputs": [],
   "source": [
    "if df_csv_condensed.columns.duplicated().any():\n",
    "    raise ValueError(\"duplicated columns\")"
   ]
  },
  {
   "cell_type": "markdown",
   "metadata": {},
   "source": [
    "### <a id='toc1_5_3_'></a>[create manual table for mapping](#toc0_)"
   ]
  },
  {
   "cell_type": "code",
   "execution_count": null,
   "metadata": {},
   "outputs": [
    {
     "data": {
      "application/vnd.microsoft.datawrangler.viewer.v0+json": {
       "columns": [
        {
         "name": "index",
         "rawType": "int64",
         "type": "integer"
        },
        {
         "name": "[03.07.02] Folgen - Wie lange mussten diese Medikamente eingenommen werden?",
         "rawType": "object",
         "type": "unknown"
        }
       ],
       "conversionMethod": "pd.DataFrame",
       "ref": "a7b134bc-21b4-4d35-b77e-fb435c6d44b3",
       "rows": [
        [
         "1",
         null
        ],
        [
         "2",
         null
        ],
        [
         "3",
         null
        ],
        [
         "4",
         null
        ],
        [
         "5",
         "länger als 4 Tage"
        ],
        [
         "6",
         "max. 3 Tage"
        ],
        [
         "7",
         null
        ],
        [
         "8",
         null
        ],
        [
         "9",
         null
        ],
        [
         "10",
         null
        ],
        [
         "11",
         null
        ],
        [
         "12",
         null
        ],
        [
         "13",
         null
        ],
        [
         "14",
         null
        ],
        [
         "15",
         null
        ],
        [
         "16",
         null
        ],
        [
         "17",
         null
        ],
        [
         "18",
         null
        ],
        [
         "19",
         null
        ],
        [
         "20",
         null
        ],
        [
         "21",
         null
        ],
        [
         "22",
         null
        ],
        [
         "23",
         null
        ],
        [
         "24",
         null
        ],
        [
         "25",
         null
        ],
        [
         "26",
         null
        ],
        [
         "27",
         null
        ],
        [
         "28",
         null
        ],
        [
         "29",
         null
        ],
        [
         "30",
         null
        ],
        [
         "31",
         null
        ],
        [
         "32",
         null
        ],
        [
         "35",
         null
        ],
        [
         "36",
         null
        ],
        [
         "37",
         null
        ],
        [
         "38",
         null
        ],
        [
         "39",
         null
        ],
        [
         "40",
         null
        ],
        [
         "41",
         null
        ],
        [
         "42",
         null
        ],
        [
         "43",
         null
        ],
        [
         "44",
         null
        ],
        [
         "45",
         null
        ],
        [
         "46",
         null
        ],
        [
         "47",
         null
        ],
        [
         "48",
         null
        ],
        [
         "49",
         "länger als 4 Tage"
        ],
        [
         "50",
         null
        ],
        [
         "51",
         null
        ],
        [
         "52",
         "max. 3 Tage"
        ]
       ],
       "shape": {
        "columns": 1,
        "rows": 195
       }
      },
      "text/html": [
       "<div>\n",
       "<style scoped>\n",
       "    .dataframe tbody tr th:only-of-type {\n",
       "        vertical-align: middle;\n",
       "    }\n",
       "\n",
       "    .dataframe tbody tr th {\n",
       "        vertical-align: top;\n",
       "    }\n",
       "\n",
       "    .dataframe thead th {\n",
       "        text-align: right;\n",
       "    }\n",
       "</style>\n",
       "<table border=\"1\" class=\"dataframe\">\n",
       "  <thead>\n",
       "    <tr style=\"text-align: right;\">\n",
       "      <th></th>\n",
       "      <th>[03.07.02] Folgen - Wie lange mussten diese Medikamente eingenommen werden?</th>\n",
       "    </tr>\n",
       "  </thead>\n",
       "  <tbody>\n",
       "    <tr>\n",
       "      <th>1</th>\n",
       "      <td>NaN</td>\n",
       "    </tr>\n",
       "    <tr>\n",
       "      <th>2</th>\n",
       "      <td>NaN</td>\n",
       "    </tr>\n",
       "    <tr>\n",
       "      <th>3</th>\n",
       "      <td>NaN</td>\n",
       "    </tr>\n",
       "    <tr>\n",
       "      <th>4</th>\n",
       "      <td>NaN</td>\n",
       "    </tr>\n",
       "    <tr>\n",
       "      <th>5</th>\n",
       "      <td>länger als 4 Tage</td>\n",
       "    </tr>\n",
       "    <tr>\n",
       "      <th>...</th>\n",
       "      <td>...</td>\n",
       "    </tr>\n",
       "    <tr>\n",
       "      <th>193</th>\n",
       "      <td>NaN</td>\n",
       "    </tr>\n",
       "    <tr>\n",
       "      <th>194</th>\n",
       "      <td>NaN</td>\n",
       "    </tr>\n",
       "    <tr>\n",
       "      <th>195</th>\n",
       "      <td>NaN</td>\n",
       "    </tr>\n",
       "    <tr>\n",
       "      <th>196</th>\n",
       "      <td>NaN</td>\n",
       "    </tr>\n",
       "    <tr>\n",
       "      <th>197</th>\n",
       "      <td>NaN</td>\n",
       "    </tr>\n",
       "  </tbody>\n",
       "</table>\n",
       "<p>195 rows × 1 columns</p>\n",
       "</div>"
      ],
      "text/plain": [
       "    [03.07.02] Folgen - Wie lange mussten diese Medikamente eingenommen werden?\n",
       "1                                                  NaN                         \n",
       "2                                                  NaN                         \n",
       "3                                                  NaN                         \n",
       "4                                                  NaN                         \n",
       "5                                    länger als 4 Tage                         \n",
       "..                                                 ...                         \n",
       "193                                                NaN                         \n",
       "194                                                NaN                         \n",
       "195                                                NaN                         \n",
       "196                                                NaN                         \n",
       "197                                                NaN                         \n",
       "\n",
       "[195 rows x 1 columns]"
      ]
     },
     "execution_count": 88,
     "metadata": {},
     "output_type": "execute_result"
    }
   ],
   "source": [
    "# lol = df_csv_condensed.columns[df_csv_condensed.columns.duplicated()]\n",
    "lol = df_csv_condensed.find_cols([\"[03.07.02]\"])\n",
    "df_csv_condensed[lol]"
   ]
  },
  {
   "cell_type": "code",
   "execution_count": 89,
   "metadata": {},
   "outputs": [],
   "source": [
    "import re\n",
    "\n",
    "if ENABLE_UPDATE and False:\n",
    "\n",
    "    # * have all columns but remove choices from column names, isolate code\n",
    "    df_csv_cols = (\n",
    "        pd.DataFrame(df_csv.columns, columns=[\"col\"])\n",
    "        .assign(\n",
    "            col_code=lambda x: x[\"col\"].str.extract(REGEX_CODE),\n",
    "            col_clean=lambda x: x[\"col\"].str.replace(REGEX_CHOICE, \"\", regex=True),\n",
    "        )\n",
    "    )\n",
    "    display(df_csv_cols[:3])\n",
    "\n",
    "    # * group and set up foe manual renaming\n",
    "    df_csv_cols_condensed = (df_csv_cols\n",
    "        .assign(cnt=1)\n",
    "        .groupby([\"col_clean\",\"col_code\"], as_index=False, dropna=False)[\"cnt\"].sum()\n",
    "    )\n",
    "    display(df_csv_cols_condensed[:3])\n",
    "\n",
    "\n",
    "    df_csv_cols_condensed.assign(col_new=lambda x: x[\"col_code\"]).to_excel(dir_data_out/\"df_csv_cols.xlsx\", index=False)\n",
    "    # df_csv_cols_condensed.assign(col_new=lambda x: x[\"col_code\"]).to_excel(dir_data_out/\"df_csv_cols.ods\", index=False, engine=\"odf\")\n"
   ]
  },
  {
   "cell_type": "markdown",
   "metadata": {},
   "source": [
    "### <a id='toc1_5_4_'></a>[apply new column names from mapping table](#toc0_)"
   ]
  },
  {
   "cell_type": "code",
   "execution_count": 90,
   "metadata": {},
   "outputs": [
    {
     "data": {
      "application/vnd.microsoft.datawrangler.viewer.v0+json": {
       "columns": [
        {
         "name": "index",
         "rawType": "int64",
         "type": "integer"
        },
        {
         "name": "[03.02.01] Krankenhaus_Intensität",
         "rawType": "object",
         "type": "unknown"
        },
        {
         "name": "[03.17] ADL_Einschränkungen",
         "rawType": "object",
         "type": "unknown"
        },
        {
         "name": "[05.03] Alter",
         "rawType": "object",
         "type": "string"
        },
        {
         "name": "[03.15] Trost_Folge",
         "rawType": "object",
         "type": "string"
        },
        {
         "name": "[03.16] Tod_Folge",
         "rawType": "object",
         "type": "string"
        },
        {
         "name": "[03.08] Angst_Folge",
         "rawType": "object",
         "type": "string"
        },
        {
         "name": "[03.01] Schmerzen_Folge",
         "rawType": "object",
         "type": "string"
        },
        {
         "name": "[03.07] Medikamente_Folge",
         "rawType": "object",
         "type": "string"
        },
        {
         "name": "[03.09.02] Strukturanpassung_Dauer",
         "rawType": "object",
         "type": "unknown"
        },
        {
         "name": "[05.08] Hälfte",
         "rawType": "object",
         "type": "string"
        },
        {
         "name": "[01.01] CTCAE",
         "rawType": "object",
         "type": "string"
        },
        {
         "name": "Participant ID",
         "rawType": "int64",
         "type": "integer"
        },
        {
         "name": "[03.09] Strukturanpassung_Folge",
         "rawType": "object",
         "type": "string"
        },
        {
         "name": "[03.13.01] Ende_vs_Pause",
         "rawType": "object",
         "type": "unknown"
        },
        {
         "name": "[05.05] Testung",
         "rawType": "object",
         "type": "string"
        },
        {
         "name": "[03.17.02] ADL_Dauer",
         "rawType": "object",
         "type": "unknown"
        },
        {
         "name": "[05.01] Therapiephase",
         "rawType": "object",
         "type": "string"
        },
        {
         "name": "[03.15.02] Trost_Dauer",
         "rawType": "object",
         "type": "unknown"
        },
        {
         "name": "[03.04] Therapieprotokoll_Folge",
         "rawType": "object",
         "type": "string"
        },
        {
         "name": "[03.18] Freitext_Folgen",
         "rawType": "object",
         "type": "unknown"
        },
        {
         "name": "[03.07.02] Medikamente_Intensität",
         "rawType": "object",
         "type": "unknown"
        },
        {
         "name": "[05.06] Setting",
         "rawType": "object",
         "type": "string"
        },
        {
         "name": "[02.01] Datum_Aufnahme",
         "rawType": "datetime64[ns]",
         "type": "datetime"
        },
        {
         "name": "[03.06.02] Pflege_Dauer",
         "rawType": "object",
         "type": "unknown"
        },
        {
         "name": "[03.02.02] Krankenhaus_Dauer",
         "rawType": "object",
         "type": "unknown"
        },
        {
         "name": "[03.11.02] PECH_Folge",
         "rawType": "object",
         "type": "unknown"
        },
        {
         "name": "[03.10] Freigabe_Folge",
         "rawType": "object",
         "type": "string"
        },
        {
         "name": "[01.02] Datum_AE",
         "rawType": "object",
         "type": "string"
        },
        {
         "name": "[01.03] Sportassoziation",
         "rawType": "object",
         "type": "string"
        },
        {
         "name": "[03.02] Krankenhaus_Folge",
         "rawType": "object",
         "type": "string"
        },
        {
         "name": "[03.03] Med_Weiterbehandlung_Folge",
         "rawType": "object",
         "type": "string"
        },
        {
         "name": "[03.12] Observierung_Folge",
         "rawType": "object",
         "type": "string"
        },
        {
         "name": "[03.11] PECH_Folge",
         "rawType": "object",
         "type": "string"
        },
        {
         "name": "[05.04] Online",
         "rawType": "object",
         "type": "string"
        },
        {
         "name": "[03.08.02] Angst_Dauer",
         "rawType": "object",
         "type": "string"
        },
        {
         "name": "[03.05] Lebensnotwendige_Intenvention_Folge",
         "rawType": "object",
         "type": "string"
        },
        {
         "name": "[03.06] Pflege_Folge",
         "rawType": "object",
         "type": "string"
        },
        {
         "name": "[03.12.02] Observierung_Dauer",
         "rawType": "object",
         "type": "unknown"
        },
        {
         "name": "[03.01.01] Schmerzen_Intensität",
         "rawType": "float64",
         "type": "float"
        },
        {
         "name": "[03.09.01] Strukturanpassung_Intensität",
         "rawType": "object",
         "type": "unknown"
        },
        {
         "name": "[05.02] Gruppengröße",
         "rawType": "object",
         "type": "string"
        },
        {
         "name": "[03.10.02] Freigabe_Wer",
         "rawType": "object",
         "type": "unknown"
        },
        {
         "name": "[03.13.02] Pause_Intensität",
         "rawType": "object",
         "type": "unknown"
        },
        {
         "name": "[03.10.01] Freigabe_OK",
         "rawType": "object",
         "type": "unknown"
        },
        {
         "name": "[03.13] Stoppung_Folge",
         "rawType": "object",
         "type": "string"
        },
        {
         "name": "[03.14.02] Anpassung_Dauer",
         "rawType": "object",
         "type": "unknown"
        },
        {
         "name": "[03.01.02] Schmerzen_Dauer",
         "rawType": "object",
         "type": "unknown"
        },
        {
         "name": "[03.15.01] Trost_Intensität",
         "rawType": "object",
         "type": "unknown"
        },
        {
         "name": "[03.06.01] Pflege_Intensität",
         "rawType": "object",
         "type": "string"
        },
        {
         "name": "[03.03.01] Med_Weiterbehandlung_Intensität",
         "rawType": "object",
         "type": "string"
        },
        {
         "name": "[03.12.01] Observierung_Intensität",
         "rawType": "object",
         "type": "string"
        },
        {
         "name": "[05.09] Trainingszustand",
         "rawType": "object",
         "type": "string"
        },
        {
         "name": "[03.14.01] Anpassung_Intensität",
         "rawType": "object",
         "type": "string"
        },
        {
         "name": "[05.07] Motorik",
         "rawType": "object",
         "type": "string"
        },
        {
         "name": "[03.11.01] PECH_Intensität",
         "rawType": "object",
         "type": "string"
        },
        {
         "name": "[03.17.01] ADL_Intensität",
         "rawType": "object",
         "type": "string"
        },
        {
         "name": "[03.03.02] Med_Weiterbehandlung_Dauer",
         "rawType": "object",
         "type": "string"
        },
        {
         "name": "[03.07.01] Medikamente_Dauer",
         "rawType": "object",
         "type": "string"
        },
        {
         "name": "[03.08.01] Angst_Intensität",
         "rawType": "object",
         "type": "string"
        },
        {
         "name": "[02.02] Art",
         "rawType": "object",
         "type": "string"
        },
        {
         "name": "[02.03] Auslöser",
         "rawType": "object",
         "type": "string"
        },
        {
         "name": "[02.04] Körperteil",
         "rawType": "object",
         "type": "string"
        }
       ],
       "conversionMethod": "pd.DataFrame",
       "ref": "670389d3-16c8-48b2-985c-60aeea6febb8",
       "rows": [
        [
         "1",
         null,
         "Nein",
         "10 bis 14 Jahre",
         "Yes",
         "No",
         "Ja",
         "Nein",
         "No",
         null,
         "2. Hälfte",
         "2",
         "3",
         "Nein",
         "Abbruch",
         "No",
         null,
         "Akuttherapie",
         null,
         "No",
         null,
         null,
         "Klinikflur",
         "2022-10-01 00:00:00",
         null,
         null,
         null,
         "Yes",
         "Das AE war vor dem Sport bereits vorhanden und hat sich verstärkt.",
         "No",
         "No",
         "No",
         "Nein",
         "Nein",
         "No",
         "bis zum Ende der Woche",
         "No",
         "No",
         null,
         null,
         null,
         "Einzel",
         "Nein",
         null,
         "Medizin",
         "Yes",
         null,
         null,
         null,
         "-",
         "-",
         "-",
         "2 Durchschnittlich",
         "-",
         "Koordination",
         "-",
         "-",
         "-",
         "-",
         "bei dem Betroffenen selbst",
         "Übelkeit/ Erbrechen",
         "Physische Belastung|Med. Therapie",
         "Internistisch"
        ],
        [
         "2",
         null,
         null,
         "06 bis 9 Jahre",
         "Yes",
         "No",
         "Ja",
         "Ja",
         "No",
         null,
         "1. Hälfte",
         "1",
         "4",
         "Nein",
         "Pause",
         "No",
         null,
         "Akuttherapie",
         null,
         "No",
         null,
         null,
         "Klinikflur",
         "2022-10-01 00:00:00",
         null,
         null,
         null,
         "No",
         "Das AE ist neu aufgetreten.",
         "Yes",
         "No",
         "No",
         "Nein",
         "Nein",
         "No",
         "nur noch am gleichen Tag",
         "No",
         "No",
         null,
         "2.0",
         null,
         "Einzel",
         null,
         "max. 5min",
         null,
         "Yes",
         "nur für diese Einheit",
         "Schmerzen am gleichen Tag",
         null,
         "-",
         "-",
         "-",
         "1 Gut",
         "Übungsauswahl|Intensität",
         "Koordination",
         "-",
         "-",
         "-",
         "-",
         "bei dem Betroffenen selbst|im Behandlungsteam",
         "Schmerzen",
         "Koordinationsprobleme",
         "Rücken|Gesäß"
        ],
        [
         "3",
         null,
         "Nein",
         "10 bis 14 Jahre",
         "No",
         "No",
         "Ja",
         "Nein",
         "weiß nicht",
         null,
         "2. Hälfte",
         "2",
         "5",
         "Nein",
         null,
         "No",
         null,
         "Akuttherapie",
         null,
         "No",
         null,
         null,
         "Pat.-Zimmer",
         "2022-11-01 00:00:00",
         null,
         null,
         null,
         "Yes",
         "Das AE war vor dem Sport bereits vorhanden und hat sich verstärkt.",
         "No",
         "No",
         "Yes",
         "Nein",
         "Nein",
         "No",
         "nur noch am gleichen Tag",
         "No",
         "No",
         null,
         null,
         null,
         "Einzel",
         "Nein",
         null,
         "Pflege",
         "No",
         null,
         null,
         null,
         "-",
         "Medikamentengabe oral",
         "-",
         "3 Mäßig",
         "-",
         "Koordination",
         "-",
         "-",
         "Innerhalb der ersten 24 Stunden",
         "-",
         "bei dem Betroffenen selbst",
         "Kreislaufprobleme",
         "Med. Therapie",
         "Internistisch"
        ]
       ],
       "shape": {
        "columns": 62,
        "rows": 3
       }
      },
      "text/html": [
       "<div>\n",
       "<style scoped>\n",
       "    .dataframe tbody tr th:only-of-type {\n",
       "        vertical-align: middle;\n",
       "    }\n",
       "\n",
       "    .dataframe tbody tr th {\n",
       "        vertical-align: top;\n",
       "    }\n",
       "\n",
       "    .dataframe thead th {\n",
       "        text-align: right;\n",
       "    }\n",
       "</style>\n",
       "<table border=\"1\" class=\"dataframe\">\n",
       "  <thead>\n",
       "    <tr style=\"text-align: right;\">\n",
       "      <th></th>\n",
       "      <th>[03.02.01] Krankenhaus_Intensität</th>\n",
       "      <th>[03.17] ADL_Einschränkungen</th>\n",
       "      <th>[05.03] Alter</th>\n",
       "      <th>[03.15] Trost_Folge</th>\n",
       "      <th>[03.16] Tod_Folge</th>\n",
       "      <th>[03.08] Angst_Folge</th>\n",
       "      <th>[03.01] Schmerzen_Folge</th>\n",
       "      <th>[03.07] Medikamente_Folge</th>\n",
       "      <th>[03.09.02] Strukturanpassung_Dauer</th>\n",
       "      <th>[05.08] Hälfte</th>\n",
       "      <th>...</th>\n",
       "      <th>[03.14.01] Anpassung_Intensität</th>\n",
       "      <th>[05.07] Motorik</th>\n",
       "      <th>[03.11.01] PECH_Intensität</th>\n",
       "      <th>[03.17.01] ADL_Intensität</th>\n",
       "      <th>[03.03.02] Med_Weiterbehandlung_Dauer</th>\n",
       "      <th>[03.07.01] Medikamente_Dauer</th>\n",
       "      <th>[03.08.01] Angst_Intensität</th>\n",
       "      <th>[02.02] Art</th>\n",
       "      <th>[02.03] Auslöser</th>\n",
       "      <th>[02.04] Körperteil</th>\n",
       "    </tr>\n",
       "  </thead>\n",
       "  <tbody>\n",
       "    <tr>\n",
       "      <th>1</th>\n",
       "      <td>NaN</td>\n",
       "      <td>Nein</td>\n",
       "      <td>10 bis 14 Jahre</td>\n",
       "      <td>Yes</td>\n",
       "      <td>No</td>\n",
       "      <td>Ja</td>\n",
       "      <td>Nein</td>\n",
       "      <td>No</td>\n",
       "      <td>NaN</td>\n",
       "      <td>2. Hälfte</td>\n",
       "      <td>...</td>\n",
       "      <td>-</td>\n",
       "      <td>Koordination</td>\n",
       "      <td>-</td>\n",
       "      <td>-</td>\n",
       "      <td>-</td>\n",
       "      <td>-</td>\n",
       "      <td>bei dem Betroffenen selbst</td>\n",
       "      <td>Übelkeit/ Erbrechen</td>\n",
       "      <td>Physische Belastung|Med. Therapie</td>\n",
       "      <td>Internistisch</td>\n",
       "    </tr>\n",
       "    <tr>\n",
       "      <th>2</th>\n",
       "      <td>NaN</td>\n",
       "      <td>NaN</td>\n",
       "      <td>06 bis 9 Jahre</td>\n",
       "      <td>Yes</td>\n",
       "      <td>No</td>\n",
       "      <td>Ja</td>\n",
       "      <td>Ja</td>\n",
       "      <td>No</td>\n",
       "      <td>NaN</td>\n",
       "      <td>1. Hälfte</td>\n",
       "      <td>...</td>\n",
       "      <td>Übungsauswahl|Intensität</td>\n",
       "      <td>Koordination</td>\n",
       "      <td>-</td>\n",
       "      <td>-</td>\n",
       "      <td>-</td>\n",
       "      <td>-</td>\n",
       "      <td>bei dem Betroffenen selbst|im Behandlungsteam</td>\n",
       "      <td>Schmerzen</td>\n",
       "      <td>Koordinationsprobleme</td>\n",
       "      <td>Rücken|Gesäß</td>\n",
       "    </tr>\n",
       "    <tr>\n",
       "      <th>3</th>\n",
       "      <td>NaN</td>\n",
       "      <td>Nein</td>\n",
       "      <td>10 bis 14 Jahre</td>\n",
       "      <td>No</td>\n",
       "      <td>No</td>\n",
       "      <td>Ja</td>\n",
       "      <td>Nein</td>\n",
       "      <td>weiß nicht</td>\n",
       "      <td>NaN</td>\n",
       "      <td>2. Hälfte</td>\n",
       "      <td>...</td>\n",
       "      <td>-</td>\n",
       "      <td>Koordination</td>\n",
       "      <td>-</td>\n",
       "      <td>-</td>\n",
       "      <td>Innerhalb der ersten 24 Stunden</td>\n",
       "      <td>-</td>\n",
       "      <td>bei dem Betroffenen selbst</td>\n",
       "      <td>Kreislaufprobleme</td>\n",
       "      <td>Med. Therapie</td>\n",
       "      <td>Internistisch</td>\n",
       "    </tr>\n",
       "  </tbody>\n",
       "</table>\n",
       "<p>3 rows × 62 columns</p>\n",
       "</div>"
      ],
      "text/plain": [
       "  [03.02.01] Krankenhaus_Intensität [03.17] ADL_Einschränkungen  \\\n",
       "1                               NaN                        Nein   \n",
       "2                               NaN                         NaN   \n",
       "3                               NaN                        Nein   \n",
       "\n",
       "     [05.03] Alter [03.15] Trost_Folge [03.16] Tod_Folge [03.08] Angst_Folge  \\\n",
       "1  10 bis 14 Jahre                 Yes                No                  Ja   \n",
       "2   06 bis 9 Jahre                 Yes                No                  Ja   \n",
       "3  10 bis 14 Jahre                  No                No                  Ja   \n",
       "\n",
       "  [03.01] Schmerzen_Folge [03.07] Medikamente_Folge  \\\n",
       "1                    Nein                        No   \n",
       "2                      Ja                        No   \n",
       "3                    Nein                weiß nicht   \n",
       "\n",
       "  [03.09.02] Strukturanpassung_Dauer [05.08] Hälfte  ...  \\\n",
       "1                                NaN      2. Hälfte  ...   \n",
       "2                                NaN      1. Hälfte  ...   \n",
       "3                                NaN      2. Hälfte  ...   \n",
       "\n",
       "  [03.14.01] Anpassung_Intensität  [05.07] Motorik [03.11.01] PECH_Intensität  \\\n",
       "1                               -     Koordination                          -   \n",
       "2        Übungsauswahl|Intensität     Koordination                          -   \n",
       "3                               -     Koordination                          -   \n",
       "\n",
       "  [03.17.01] ADL_Intensität [03.03.02] Med_Weiterbehandlung_Dauer  \\\n",
       "1                         -                                     -   \n",
       "2                         -                                     -   \n",
       "3                         -       Innerhalb der ersten 24 Stunden   \n",
       "\n",
       "  [03.07.01] Medikamente_Dauer                    [03.08.01] Angst_Intensität  \\\n",
       "1                            -                     bei dem Betroffenen selbst   \n",
       "2                            -  bei dem Betroffenen selbst|im Behandlungsteam   \n",
       "3                            -                     bei dem Betroffenen selbst   \n",
       "\n",
       "           [02.02] Art                   [02.03] Auslöser [02.04] Körperteil  \n",
       "1  Übelkeit/ Erbrechen  Physische Belastung|Med. Therapie      Internistisch  \n",
       "2            Schmerzen              Koordinationsprobleme       Rücken|Gesäß  \n",
       "3    Kreislaufprobleme                      Med. Therapie      Internistisch  \n",
       "\n",
       "[3 rows x 62 columns]"
      ]
     },
     "execution_count": 90,
     "metadata": {},
     "output_type": "execute_result"
    }
   ],
   "source": [
    "# # * import column mapping\n",
    "df_csv_cols_import = (pd\n",
    "        .read_excel(dir_data_in/\"df_csv_cols.xlsx\")\n",
    "        # * remove leading and trailing spaces\n",
    "        .applymap(lambda x: x.strip() if isinstance(x, str) else x)\n",
    ")\n",
    "# * coalesce columns - most right column has priority\n",
    "df_csv_cols_import[\"col_final\"] = df_csv_cols_import[[\"col_new\", \"col_code\", \"col_clean\"]].backfill(axis=1).iloc[:,0]\n",
    "\n",
    "# * create dict for mapping\n",
    "# * column names in target df can be full label or code only, so 2 rounds are needed\n",
    "def create_col_map(df, join_col: str):\n",
    "    # * use concat to join two series\n",
    "    return (pd.concat(\n",
    "        [\n",
    "            df_csv_condensed.columns.to_series(),\n",
    "            # * only use rows with not NA values\n",
    "            df_csv_cols_import[df_csv_cols_import[join_col].notna()].set_index(join_col)[\"col_final\"],\n",
    "        ],\n",
    "        axis=1, join=\"inner\"\n",
    "        )\n",
    "        [\"col_final\"]\n",
    "        .to_dict()\n",
    "    )\n",
    "\n",
    "col_map1 = create_col_map(df_csv_cols_import, \"col_clean\")\n",
    "col_map2 = create_col_map(df_csv_cols_import, \"col_code\")\n",
    "\n",
    "# ! relabel column names in 2 rounds\n",
    "df_csv_condensed.rename(columns=col_map1, inplace=True)\n",
    "df_csv_condensed.rename(columns=col_map2, inplace=True)\n",
    "\n",
    "# ! or strip column names to code only\n",
    "# cols = df_csv_condensed.columns\n",
    "# df_csv_condensed.columns = [re.sub(REGEX_NONCODE, \"]\", col) for col in cols]\n",
    "\n",
    "df_csv_condensed[:3]"
   ]
  },
  {
   "cell_type": "markdown",
   "metadata": {},
   "source": [
    "### <a id='toc1_5_5_'></a>[content recoding](#toc0_)"
   ]
  },
  {
   "cell_type": "code",
   "execution_count": 91,
   "metadata": {},
   "outputs": [],
   "source": [
    "STR_NA = pd.NA\n",
    "STR_U = \"U\"\n",
    "\n",
    "items = [\n",
    "    (\"[02.04]\",\"-\",STR_NA), \n",
    "    (\"[03.02]\",\"weiß nicht\",STR_U),\n",
    "    (\"[03.03]\",\"weiß nicht\",STR_U),\n",
    "    (\"[03.12]\",\"Weiß nicht\",STR_U),\n",
    "    (\"[03.14.01]\",\"-\",STR_NA),\n",
    "    (\"[03.17]\",\"Weiß nicht\",STR_U),\n",
    "    (\"[05.03]\",\"Weiß nicht\",STR_U),\n",
    "    (\"[05.07]\",\"-\",STR_NA),\n",
    "    (\"[05.09]\",\"-\",STR_NA),\n",
    "    (\"[05.09]\",\"Weiß nicht\",STR_U),\n",
    "    (\"[03.08.01]\",\"-\",STR_NA),\n",
    "]\n",
    "for item in items:\n",
    "    _col = df_csv_condensed.find_cols([item[0]])[0]\n",
    "    # _col = df_csv_condensed.find_cols([\"[02.04]\"])[0]\n",
    "    df_csv_condensed.loc[df_csv_condensed[_col]==item[1],_col] = item[2]\n",
    "    # print(df_csv_condensed[_col].value_counts(dropna=False))\n",
    "\n",
    "# * remove digits in [05.09]. inplace wont work, whyever\n",
    "df_csv_condensed[df_csv_condensed.find_cols([\"[05.09]\"])] = df_csv_condensed[df_csv_condensed.find_cols([\"[05.09]\"])].replace(r\"\\d{1} \",\"\", regex=True, inplace=False)"
   ]
  },
  {
   "cell_type": "markdown",
   "metadata": {},
   "source": [
    "## <a id='toc1_6_'></a>[💾 data for pivot use](#toc0_)"
   ]
  },
  {
   "cell_type": "code",
   "execution_count": 92,
   "metadata": {},
   "outputs": [],
   "source": [
    "if ENABLE_UPDATE:\n",
    "    # # * only show cols w/ >1 value\n",
    "    df_csv_short = df_csv.loc[:, df_csv.apply(pd.Series.nunique) > 1]\n",
    "\n",
    "    df_csv.to_csv(Path(dir_data_out/\"df_csv.csv\"),sep=\";\", index=False, encoding=\"utf-8-sig\")\n",
    "    df_csv_short.to_csv(Path(dir_data_out/\"df_csv_short.csv\"),sep=\";\", index=False, encoding=\"utf-8-sig\")\n",
    "    df_csv_condensed.sort_index(axis=1).to_csv(Path(dir_data_out/\"df_csv_condensed.csv\"),sep=\";\", index=False, encoding=\"utf-8-sig\")"
   ]
  },
  {
   "cell_type": "code",
   "execution_count": 93,
   "metadata": {},
   "outputs": [],
   "source": [
    "# for col in df_csv.columns.to_list()[8]:\n",
    "#     x = col\n",
    "#     x1=re.search(pattern=r\"^\\[\\d{2}\\.\\d{2}(\\.\\d{2})?\\]\", string=x).group()\n",
    "#     x3 = re.search(pattern=r\"( \\(choice=.*?\\)+|\\.\\d$)\", string=x).group()\n",
    "#     x4 = re.search(pattern=r\"\\(choice=(.*?)\\)\", string=x).group(1)\n",
    "#     x5 = re.search(pattern=r\"\\](.*?)\\(choice=\", string=x).group(1)\n",
    "#     print(f\"{x} | {x1} | {x4} | {x5}\")"
   ]
  }
 ],
 "metadata": {
  "kernelspec": {
   "display_name": "py3_12",
   "language": "python",
   "name": "python3"
  },
  "language_info": {
   "codemirror_mode": {
    "name": "ipython",
    "version": 3
   },
   "file_extension": ".py",
   "mimetype": "text/x-python",
   "name": "python",
   "nbconvert_exporter": "python",
   "pygments_lexer": "ipython3",
   "version": "3.12.3"
  }
 },
 "nbformat": 4,
 "nbformat_minor": 2
}
