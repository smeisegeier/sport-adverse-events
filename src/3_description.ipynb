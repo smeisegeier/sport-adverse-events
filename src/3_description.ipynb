{
 "cells": [
  {
   "cell_type": "markdown",
   "id": "00975014",
   "metadata": {},
   "source": [
    "# descriptive analysis"
   ]
  },
  {
   "cell_type": "code",
   "execution_count": 1,
   "id": "796818a7",
   "metadata": {},
   "outputs": [
    {
     "name": "stdout",
     "output_type": "stream",
     "text": [
      "🐍 3.12.9 | 📦 pygwalker: 0.4.9.15 | 📦 pandas: 2.3.1 | 📦 numpy: 1.26.4 | 📦 duckdb: 1.3.2 | 📦 pandas-plots: 0.15.13 | 📦 connection-helper: 0.12.1\n"
     ]
    }
   ],
   "source": [
    "import os\n",
    "import pandas as pd\n",
    "from pathlib import Path\n",
    "from pandas_plots import tbl, pls, hlp\n",
    "import duckdb as ddb\n",
    "\n",
    "hlp.show_package_version([\"pygwalker\"])\n",
    "\n",
    "os.environ[\"THEME\"]=\"light\"\n",
    "\n",
    "dir_data_in=Path(\"../data/in\")\n",
    "dir_data_out=Path(\"../data/out\")\n",
    "\n",
    "con = ddb.connect()"
   ]
  },
  {
   "cell_type": "markdown",
   "id": "0d6c799f",
   "metadata": {},
   "source": [
    "## import data"
   ]
  },
  {
   "cell_type": "code",
   "execution_count": 2,
   "id": "844fa528",
   "metadata": {},
   "outputs": [],
   "source": [
    "# # * get condensed dataset\n",
    "df_csv_condensed = (\n",
    "    pd.read_csv(\n",
    "        dir_data_out / \"df_csv_condensed.csv\",\n",
    "        sep=\";\",\n",
    "        encoding=\"utf-8-sig\",\n",
    "        index_col=None,\n",
    "    )\n",
    ")\n",
    "\n",
    "# * CTCAE should be a string with integer values and MUST have a real <NA> as missing\n",
    "df_csv_condensed[\"[01.01] CTCAE\"] = (df_csv_condensed[\"[01.01] CTCAE\"]\n",
    "        .astype(\"Int64\")\n",
    "        .astype(str)\n",
    "        .replace(\"<NA>\", pd.NA)\n",
    ")"
   ]
  },
  {
   "cell_type": "markdown",
   "id": "67e33c70",
   "metadata": {},
   "source": [
    "## tables"
   ]
  },
  {
   "cell_type": "code",
   "execution_count": 57,
   "id": "97aa730e",
   "metadata": {},
   "outputs": [
    {
     "name": "stdout",
     "output_type": "stream",
     "text": [
      "['[01.01] CTCAE', '[01.02] Date', '[01.03] Exercise-related', '[02.02] Type', '[02.03] Trigger']\n"
     ]
    }
   ],
   "source": [
    "# # * list of codes for descriptive tables\n",
    "stubs = (\n",
    "        \"[01.01]\",\n",
    "        \"[01.02]\",\n",
    "        \"[01.03]\",\n",
    "        \"[02.02]\",\n",
    "        \"[02.03]\",\n",
    "        \"[02.04]\",\n",
    "        \"[03.02]\",\n",
    "        \"[03.03]\",\n",
    "        \"[03.04]\",\n",
    "        \"[03.06]\",\n",
    "        \"[03.07]\",\n",
    "        \"[03.08]\",\n",
    "        \"[03.08.01]\",\n",
    "        \"[03.08.02]\",\n",
    "        \"[03.09]\",\n",
    "        \"[03.10]\",\n",
    "        \"[03.10.01]\",\n",
    "        \"[03.11]\",\n",
    "        \"[03.11.02]\",\n",
    "        \"[03.12]\",\n",
    "        \"[03.13]\",\n",
    "        \"[03.13.01]\",\n",
    "        \"[03.13.02]\",\n",
    "        \"[03.14]\",\n",
    "        \"[03.14.01]\",\n",
    "        \"[03.14.02]\",\n",
    "        \"[03.15]\",\n",
    "        \"[03.17]\",\n",
    "        \"[05.01]\",\n",
    "        \"[05.02]\",\n",
    "        \"[05.03]\",\n",
    "        \"[05.04]\",\n",
    "        \"[05.05]\",\n",
    "        \"[05.06]\",\n",
    "        \"[05.07]\",\n",
    "        \"[05.08]\",\n",
    "        \"[05.09]\",\n",
    "        )\n",
    "\n",
    "# * get full olumn names off of codes\n",
    "cols = hlp.find_cols(all_cols=df_csv_condensed.columns, stubs=stubs)\n",
    "\n",
    "# cols = df_csv_condensed.columns\n",
    "print(cols[:5])"
   ]
  },
  {
   "cell_type": "code",
   "execution_count": 59,
   "id": "c1f061f9",
   "metadata": {},
   "outputs": [],
   "source": [
    "# # ! remove rows with missing CTCAE\n",
    "df_csv_condensed_cleansed = df_csv_condensed[df_csv_condensed['[01.01] CTCAE'].notna()]"
   ]
  },
  {
   "cell_type": "code",
   "execution_count": 9,
   "id": "e3924b4f",
   "metadata": {},
   "outputs": [],
   "source": [
    "# # * loop over all selected columns\n",
    "def print_survey(df_in: pd.DataFrame) -> None:\n",
    "    for col in cols[:]:\n",
    "        # * skip CTCAE and columns that are not str / object\n",
    "        if col != \"[01.01] CTCAE\" and df_in[col].dtype.kind in (\"O\"):\n",
    "\n",
    "            # * copy dataframe\n",
    "            df = df_in.copy()\n",
    "\n",
    "            # * combine each col with CTCAE, remove missings\n",
    "            df = df[[col, \"[01.01] CTCAE\"]].dropna()\n",
    "            \n",
    "            # * debug: print column\n",
    "            # print(col)\n",
    "\n",
    "            # * remove blanks\n",
    "            df.iloc[:,0]= df.iloc[:,0].str.strip()\n",
    "\n",
    "            # * split to create arrays in cells, then explode to have atomic values\n",
    "            df[col] = df[col].str.split(\"|\")\n",
    "            df = df.explode(col)\n",
    "\n",
    "            # * to pivot\n",
    "            table =(\n",
    "                tbl.pivot_df(\n",
    "                    df=df.sort_values(df.columns[-1], ascending=False),\n",
    "                    dropna=False,\n",
    "                    data_bar_axis=\"x\",\n",
    "                    col1_width=400,\n",
    "                )\n",
    "                # .format(lambda x: f\"{x}\")\n",
    "            )\n",
    "            display(table)\n"
   ]
  },
  {
   "cell_type": "code",
   "execution_count": 10,
   "id": "694b9718",
   "metadata": {},
   "outputs": [
    {
     "data": {
      "text/html": [
       "<style type=\"text/css\">\n",
       "#T_b2a50 th:first-child {\n",
       "  min-width: 400px !important;\n",
       "  max-width: 400px !important;\n",
       "  white-space: nowrap;\n",
       "  overflow: hidden;\n",
       "}\n",
       "#T_b2a50  td:first-child {\n",
       "  min-width: 400px !important;\n",
       "  max-width: 400px !important;\n",
       "  white-space: nowrap;\n",
       "  overflow: hidden;\n",
       "}\n",
       "#T_b2a50_row0_col0 {\n",
       "  width: 10em;\n",
       "  background: linear-gradient(90deg, lightblue 22.8%, transparent 22.8%);\n",
       "  font-family: Courier;\n",
       "}\n",
       "#T_b2a50_row0_col1 {\n",
       "  width: 10em;\n",
       "  background: linear-gradient(90deg, lightblue 15.4%, transparent 15.4%);\n",
       "  font-family: Courier;\n",
       "}\n",
       "#T_b2a50_row0_col2 {\n",
       "  width: 10em;\n",
       "  background: linear-gradient(90deg, lightblue 33.3%, transparent 33.3%);\n",
       "  font-family: Courier;\n",
       "}\n",
       "#T_b2a50_row0_col3 {\n",
       "  width: 10em;\n",
       "  font-family: Courier;\n",
       "}\n",
       "#T_b2a50_row0_col4 {\n",
       "  width: 10em;\n",
       "  background: linear-gradient(90deg, lightblue 21.2%, transparent 21.2%);\n",
       "  font-family: Courier;\n",
       "}\n",
       "#T_b2a50_row1_col0 {\n",
       "  width: 10em;\n",
       "  background: linear-gradient(90deg, lightblue 77.2%, transparent 77.2%);\n",
       "  font-family: Courier;\n",
       "}\n",
       "#T_b2a50_row1_col1 {\n",
       "  width: 10em;\n",
       "  background: linear-gradient(90deg, lightblue 84.6%, transparent 84.6%);\n",
       "  font-family: Courier;\n",
       "}\n",
       "#T_b2a50_row1_col2 {\n",
       "  width: 10em;\n",
       "  background: linear-gradient(90deg, lightblue 66.7%, transparent 66.7%);\n",
       "  font-family: Courier;\n",
       "}\n",
       "#T_b2a50_row1_col3, #T_b2a50_row2_col0, #T_b2a50_row2_col1, #T_b2a50_row2_col2, #T_b2a50_row2_col3, #T_b2a50_row2_col4 {\n",
       "  width: 10em;\n",
       "  background: linear-gradient(90deg, lightblue 100.0%, transparent 100.0%);\n",
       "  font-family: Courier;\n",
       "}\n",
       "#T_b2a50_row1_col4 {\n",
       "  width: 10em;\n",
       "  background: linear-gradient(90deg, lightblue 78.8%, transparent 78.8%);\n",
       "  font-family: Courier;\n",
       "}\n",
       "</style>\n",
       "<table id=\"T_b2a50\">\n",
       "  <thead>\n",
       "    <tr>\n",
       "      <th class=\"index_name level0\" >[01.01] CTCAE</th>\n",
       "      <th id=\"T_b2a50_level0_col0\" class=\"col_heading level0 col0\" >1</th>\n",
       "      <th id=\"T_b2a50_level0_col1\" class=\"col_heading level0 col1\" >2</th>\n",
       "      <th id=\"T_b2a50_level0_col2\" class=\"col_heading level0 col2\" >3</th>\n",
       "      <th id=\"T_b2a50_level0_col3\" class=\"col_heading level0 col3\" >4</th>\n",
       "      <th id=\"T_b2a50_level0_col4\" class=\"col_heading level0 col4\" >Total</th>\n",
       "    </tr>\n",
       "    <tr>\n",
       "      <th class=\"index_name level0\" >[01.02] Date</th>\n",
       "      <th class=\"blank col0\" >&nbsp;</th>\n",
       "      <th class=\"blank col1\" >&nbsp;</th>\n",
       "      <th class=\"blank col2\" >&nbsp;</th>\n",
       "      <th class=\"blank col3\" >&nbsp;</th>\n",
       "      <th class=\"blank col4\" >&nbsp;</th>\n",
       "    </tr>\n",
       "  </thead>\n",
       "  <tbody>\n",
       "    <tr>\n",
       "      <th id=\"T_b2a50_level0_row0\" class=\"row_heading level0 row0\" >Already present</th>\n",
       "      <td id=\"T_b2a50_row0_col0\" class=\"data row0 col0\" >42 <span style=\"color: grey\">(17.5%) </span></td>\n",
       "      <td id=\"T_b2a50_row0_col1\" class=\"data row0 col1\" >8 <span style=\"color: grey\">(3.3%) </span></td>\n",
       "      <td id=\"T_b2a50_row0_col2\" class=\"data row0 col2\" >1 <span style=\"color: grey\">(0.4%) </span></td>\n",
       "      <td id=\"T_b2a50_row0_col3\" class=\"data row0 col3\" ><span style=\"color: grey\">0 </span></td>\n",
       "      <td id=\"T_b2a50_row0_col4\" class=\"data row0 col4\" >51 <span style=\"color: grey\">(21.2%) </span></td>\n",
       "    </tr>\n",
       "    <tr>\n",
       "      <th id=\"T_b2a50_level0_row1\" class=\"row_heading level0 row1\" >First occurrence</th>\n",
       "      <td id=\"T_b2a50_row1_col0\" class=\"data row1 col0\" >142 <span style=\"color: grey\">(59.2%) </span></td>\n",
       "      <td id=\"T_b2a50_row1_col1\" class=\"data row1 col1\" >44 <span style=\"color: grey\">(18.3%) </span></td>\n",
       "      <td id=\"T_b2a50_row1_col2\" class=\"data row1 col2\" >2 <span style=\"color: grey\">(0.8%) </span></td>\n",
       "      <td id=\"T_b2a50_row1_col3\" class=\"data row1 col3\" >1 <span style=\"color: grey\">(0.4%) </span></td>\n",
       "      <td id=\"T_b2a50_row1_col4\" class=\"data row1 col4\" >189 <span style=\"color: grey\">(78.8%) </span></td>\n",
       "    </tr>\n",
       "    <tr>\n",
       "      <th id=\"T_b2a50_level0_row2\" class=\"row_heading level0 row2\" >Total</th>\n",
       "      <td id=\"T_b2a50_row2_col0\" class=\"data row2 col0\" >184 <span style=\"color: grey\">(76.7%) </span></td>\n",
       "      <td id=\"T_b2a50_row2_col1\" class=\"data row2 col1\" >52 <span style=\"color: grey\">(21.7%) </span></td>\n",
       "      <td id=\"T_b2a50_row2_col2\" class=\"data row2 col2\" >3 <span style=\"color: grey\">(1.2%) </span></td>\n",
       "      <td id=\"T_b2a50_row2_col3\" class=\"data row2 col3\" >1 <span style=\"color: grey\">(0.4%) </span></td>\n",
       "      <td id=\"T_b2a50_row2_col4\" class=\"data row2 col4\" >240 <span style=\"color: grey\">(100.0%) </span></td>\n",
       "    </tr>\n",
       "  </tbody>\n",
       "</table>\n"
      ],
      "text/plain": [
       "<pandas.io.formats.style.Styler at 0x1762f59d0>"
      ]
     },
     "metadata": {},
     "output_type": "display_data"
    },
    {
     "data": {
      "text/html": [
       "<style type=\"text/css\">\n",
       "#T_d50c0 th:first-child {\n",
       "  min-width: 400px !important;\n",
       "  max-width: 400px !important;\n",
       "  white-space: nowrap;\n",
       "  overflow: hidden;\n",
       "}\n",
       "#T_d50c0  td:first-child {\n",
       "  min-width: 400px !important;\n",
       "  max-width: 400px !important;\n",
       "  white-space: nowrap;\n",
       "  overflow: hidden;\n",
       "}\n",
       "#T_d50c0_row0_col0 {\n",
       "  width: 10em;\n",
       "  background: linear-gradient(90deg, lightblue 12.0%, transparent 12.0%);\n",
       "  font-family: Courier;\n",
       "}\n",
       "#T_d50c0_row0_col1 {\n",
       "  width: 10em;\n",
       "  background: linear-gradient(90deg, lightblue 13.5%, transparent 13.5%);\n",
       "  font-family: Courier;\n",
       "}\n",
       "#T_d50c0_row0_col2 {\n",
       "  width: 10em;\n",
       "  background: linear-gradient(90deg, lightblue 33.3%, transparent 33.3%);\n",
       "  font-family: Courier;\n",
       "}\n",
       "#T_d50c0_row0_col3 {\n",
       "  width: 10em;\n",
       "  font-family: Courier;\n",
       "}\n",
       "#T_d50c0_row0_col4 {\n",
       "  width: 10em;\n",
       "  background: linear-gradient(90deg, lightblue 12.6%, transparent 12.6%);\n",
       "  font-family: Courier;\n",
       "}\n",
       "#T_d50c0_row1_col0 {\n",
       "  width: 10em;\n",
       "  background: linear-gradient(90deg, lightblue 88.0%, transparent 88.0%);\n",
       "  font-family: Courier;\n",
       "}\n",
       "#T_d50c0_row1_col1 {\n",
       "  width: 10em;\n",
       "  background: linear-gradient(90deg, lightblue 86.5%, transparent 86.5%);\n",
       "  font-family: Courier;\n",
       "}\n",
       "#T_d50c0_row1_col2 {\n",
       "  width: 10em;\n",
       "  background: linear-gradient(90deg, lightblue 66.7%, transparent 66.7%);\n",
       "  font-family: Courier;\n",
       "}\n",
       "#T_d50c0_row1_col3, #T_d50c0_row2_col0, #T_d50c0_row2_col1, #T_d50c0_row2_col2, #T_d50c0_row2_col3, #T_d50c0_row2_col4 {\n",
       "  width: 10em;\n",
       "  background: linear-gradient(90deg, lightblue 100.0%, transparent 100.0%);\n",
       "  font-family: Courier;\n",
       "}\n",
       "#T_d50c0_row1_col4 {\n",
       "  width: 10em;\n",
       "  background: linear-gradient(90deg, lightblue 87.4%, transparent 87.4%);\n",
       "  font-family: Courier;\n",
       "}\n",
       "</style>\n",
       "<table id=\"T_d50c0\">\n",
       "  <thead>\n",
       "    <tr>\n",
       "      <th class=\"index_name level0\" >[01.01] CTCAE</th>\n",
       "      <th id=\"T_d50c0_level0_col0\" class=\"col_heading level0 col0\" >1</th>\n",
       "      <th id=\"T_d50c0_level0_col1\" class=\"col_heading level0 col1\" >2</th>\n",
       "      <th id=\"T_d50c0_level0_col2\" class=\"col_heading level0 col2\" >3</th>\n",
       "      <th id=\"T_d50c0_level0_col3\" class=\"col_heading level0 col3\" >4</th>\n",
       "      <th id=\"T_d50c0_level0_col4\" class=\"col_heading level0 col4\" >Total</th>\n",
       "    </tr>\n",
       "    <tr>\n",
       "      <th class=\"index_name level0\" >[01.03] Exercise-related</th>\n",
       "      <th class=\"blank col0\" >&nbsp;</th>\n",
       "      <th class=\"blank col1\" >&nbsp;</th>\n",
       "      <th class=\"blank col2\" >&nbsp;</th>\n",
       "      <th class=\"blank col3\" >&nbsp;</th>\n",
       "      <th class=\"blank col4\" >&nbsp;</th>\n",
       "    </tr>\n",
       "  </thead>\n",
       "  <tbody>\n",
       "    <tr>\n",
       "      <th id=\"T_d50c0_level0_row0\" class=\"row_heading level0 row0\" >No</th>\n",
       "      <td id=\"T_d50c0_row0_col0\" class=\"data row0 col0\" >22 <span style=\"color: grey\">(9.2%) </span></td>\n",
       "      <td id=\"T_d50c0_row0_col1\" class=\"data row0 col1\" >7 <span style=\"color: grey\">(2.9%) </span></td>\n",
       "      <td id=\"T_d50c0_row0_col2\" class=\"data row0 col2\" >1 <span style=\"color: grey\">(0.4%) </span></td>\n",
       "      <td id=\"T_d50c0_row0_col3\" class=\"data row0 col3\" ><span style=\"color: grey\">0 </span></td>\n",
       "      <td id=\"T_d50c0_row0_col4\" class=\"data row0 col4\" >30 <span style=\"color: grey\">(12.6%) </span></td>\n",
       "    </tr>\n",
       "    <tr>\n",
       "      <th id=\"T_d50c0_level0_row1\" class=\"row_heading level0 row1\" >Yes</th>\n",
       "      <td id=\"T_d50c0_row1_col0\" class=\"data row1 col0\" >161 <span style=\"color: grey\">(67.4%) </span></td>\n",
       "      <td id=\"T_d50c0_row1_col1\" class=\"data row1 col1\" >45 <span style=\"color: grey\">(18.8%) </span></td>\n",
       "      <td id=\"T_d50c0_row1_col2\" class=\"data row1 col2\" >2 <span style=\"color: grey\">(0.8%) </span></td>\n",
       "      <td id=\"T_d50c0_row1_col3\" class=\"data row1 col3\" >1 <span style=\"color: grey\">(0.4%) </span></td>\n",
       "      <td id=\"T_d50c0_row1_col4\" class=\"data row1 col4\" >209 <span style=\"color: grey\">(87.4%) </span></td>\n",
       "    </tr>\n",
       "    <tr>\n",
       "      <th id=\"T_d50c0_level0_row2\" class=\"row_heading level0 row2\" >Total</th>\n",
       "      <td id=\"T_d50c0_row2_col0\" class=\"data row2 col0\" >183 <span style=\"color: grey\">(76.6%) </span></td>\n",
       "      <td id=\"T_d50c0_row2_col1\" class=\"data row2 col1\" >52 <span style=\"color: grey\">(21.8%) </span></td>\n",
       "      <td id=\"T_d50c0_row2_col2\" class=\"data row2 col2\" >3 <span style=\"color: grey\">(1.3%) </span></td>\n",
       "      <td id=\"T_d50c0_row2_col3\" class=\"data row2 col3\" >1 <span style=\"color: grey\">(0.4%) </span></td>\n",
       "      <td id=\"T_d50c0_row2_col4\" class=\"data row2 col4\" >239 <span style=\"color: grey\">(100.0%) </span></td>\n",
       "    </tr>\n",
       "  </tbody>\n",
       "</table>\n"
      ],
      "text/plain": [
       "<pandas.io.formats.style.Styler at 0x1762f5e50>"
      ]
     },
     "metadata": {},
     "output_type": "display_data"
    },
    {
     "data": {
      "text/html": [
       "<style type=\"text/css\">\n",
       "#T_1c842 th:first-child {\n",
       "  min-width: 400px !important;\n",
       "  max-width: 400px !important;\n",
       "  white-space: nowrap;\n",
       "  overflow: hidden;\n",
       "}\n",
       "#T_1c842  td:first-child {\n",
       "  min-width: 400px !important;\n",
       "  max-width: 400px !important;\n",
       "  white-space: nowrap;\n",
       "  overflow: hidden;\n",
       "}\n",
       "#T_1c842_row0_col0, #T_1c842_row0_col1, #T_1c842_row0_col3, #T_1c842_row1_col2, #T_1c842_row1_col3, #T_1c842_row2_col1, #T_1c842_row2_col2, #T_1c842_row2_col3, #T_1c842_row3_col1, #T_1c842_row3_col2, #T_1c842_row3_col3, #T_1c842_row4_col2, #T_1c842_row4_col3, #T_1c842_row5_col1, #T_1c842_row5_col2, #T_1c842_row5_col3, #T_1c842_row6_col2, #T_1c842_row6_col3, #T_1c842_row7_col2, #T_1c842_row7_col3, #T_1c842_row9_col2, #T_1c842_row9_col3, #T_1c842_row10_col1, #T_1c842_row10_col2, #T_1c842_row10_col3, #T_1c842_row11_col1, #T_1c842_row11_col2, #T_1c842_row11_col3, #T_1c842_row12_col2, #T_1c842_row12_col3, #T_1c842_row13_col2, #T_1c842_row14_col2, #T_1c842_row14_col3 {\n",
       "  width: 10em;\n",
       "  font-family: Courier;\n",
       "}\n",
       "#T_1c842_row0_col2, #T_1c842_row8_col2, #T_1c842_row8_col3, #T_1c842_row13_col3 {\n",
       "  width: 10em;\n",
       "  background: linear-gradient(90deg, lightblue 50.0%, transparent 50.0%);\n",
       "  font-family: Courier;\n",
       "}\n",
       "#T_1c842_row0_col4, #T_1c842_row3_col4 {\n",
       "  width: 10em;\n",
       "  background: linear-gradient(90deg, lightblue 0.7%, transparent 0.7%);\n",
       "  font-family: Courier;\n",
       "}\n",
       "#T_1c842_row1_col0 {\n",
       "  width: 10em;\n",
       "  background: linear-gradient(90deg, lightblue 16.4%, transparent 16.4%);\n",
       "  font-family: Courier;\n",
       "}\n",
       "#T_1c842_row1_col1, #T_1c842_row6_col1, #T_1c842_row11_col0 {\n",
       "  width: 10em;\n",
       "  background: linear-gradient(90deg, lightblue 2.7%, transparent 2.7%);\n",
       "  font-family: Courier;\n",
       "}\n",
       "#T_1c842_row1_col4 {\n",
       "  width: 10em;\n",
       "  background: linear-gradient(90deg, lightblue 12.7%, transparent 12.7%);\n",
       "  font-family: Courier;\n",
       "}\n",
       "#T_1c842_row2_col0, #T_1c842_row6_col0 {\n",
       "  width: 10em;\n",
       "  background: linear-gradient(90deg, lightblue 2.2%, transparent 2.2%);\n",
       "  font-family: Courier;\n",
       "}\n",
       "#T_1c842_row2_col4, #T_1c842_row4_col4 {\n",
       "  width: 10em;\n",
       "  background: linear-gradient(90deg, lightblue 1.6%, transparent 1.6%);\n",
       "  font-family: Courier;\n",
       "}\n",
       "#T_1c842_row3_col0, #T_1c842_row7_col0 {\n",
       "  width: 10em;\n",
       "  background: linear-gradient(90deg, lightblue 0.9%, transparent 0.9%);\n",
       "  font-family: Courier;\n",
       "}\n",
       "#T_1c842_row4_col0, #T_1c842_row10_col0 {\n",
       "  width: 10em;\n",
       "  background: linear-gradient(90deg, lightblue 1.8%, transparent 1.8%);\n",
       "  font-family: Courier;\n",
       "}\n",
       "#T_1c842_row4_col1, #T_1c842_row5_col0, #T_1c842_row7_col1, #T_1c842_row9_col1, #T_1c842_row10_col4 {\n",
       "  width: 10em;\n",
       "  background: linear-gradient(90deg, lightblue 1.3%, transparent 1.3%);\n",
       "  font-family: Courier;\n",
       "}\n",
       "#T_1c842_row5_col4, #T_1c842_row7_col4 {\n",
       "  width: 10em;\n",
       "  background: linear-gradient(90deg, lightblue 1.0%, transparent 1.0%);\n",
       "  font-family: Courier;\n",
       "}\n",
       "#T_1c842_row6_col4 {\n",
       "  width: 10em;\n",
       "  background: linear-gradient(90deg, lightblue 2.3%, transparent 2.3%);\n",
       "  font-family: Courier;\n",
       "}\n",
       "#T_1c842_row8_col0 {\n",
       "  width: 10em;\n",
       "  background: linear-gradient(90deg, lightblue 39.1%, transparent 39.1%);\n",
       "  font-family: Courier;\n",
       "}\n",
       "#T_1c842_row8_col1 {\n",
       "  width: 10em;\n",
       "  background: linear-gradient(90deg, lightblue 50.7%, transparent 50.7%);\n",
       "  font-family: Courier;\n",
       "}\n",
       "#T_1c842_row8_col4 {\n",
       "  width: 10em;\n",
       "  background: linear-gradient(90deg, lightblue 42.2%, transparent 42.2%);\n",
       "  font-family: Courier;\n",
       "}\n",
       "#T_1c842_row9_col0 {\n",
       "  width: 10em;\n",
       "  background: linear-gradient(90deg, lightblue 4.4%, transparent 4.4%);\n",
       "  font-family: Courier;\n",
       "}\n",
       "#T_1c842_row9_col4, #T_1c842_row12_col0 {\n",
       "  width: 10em;\n",
       "  background: linear-gradient(90deg, lightblue 3.6%, transparent 3.6%);\n",
       "  font-family: Courier;\n",
       "}\n",
       "#T_1c842_row11_col4 {\n",
       "  width: 10em;\n",
       "  background: linear-gradient(90deg, lightblue 2.0%, transparent 2.0%);\n",
       "  font-family: Courier;\n",
       "}\n",
       "#T_1c842_row12_col1 {\n",
       "  width: 10em;\n",
       "  background: linear-gradient(90deg, lightblue 12.0%, transparent 12.0%);\n",
       "  font-family: Courier;\n",
       "}\n",
       "#T_1c842_row12_col4 {\n",
       "  width: 10em;\n",
       "  background: linear-gradient(90deg, lightblue 5.6%, transparent 5.6%);\n",
       "  font-family: Courier;\n",
       "}\n",
       "#T_1c842_row13_col0 {\n",
       "  width: 10em;\n",
       "  background: linear-gradient(90deg, lightblue 3.1%, transparent 3.1%);\n",
       "  font-family: Courier;\n",
       "}\n",
       "#T_1c842_row13_col1 {\n",
       "  width: 10em;\n",
       "  background: linear-gradient(90deg, lightblue 22.7%, transparent 22.7%);\n",
       "  font-family: Courier;\n",
       "}\n",
       "#T_1c842_row13_col4 {\n",
       "  width: 10em;\n",
       "  background: linear-gradient(90deg, lightblue 8.2%, transparent 8.2%);\n",
       "  font-family: Courier;\n",
       "}\n",
       "#T_1c842_row14_col0 {\n",
       "  width: 10em;\n",
       "  background: linear-gradient(90deg, lightblue 19.6%, transparent 19.6%);\n",
       "  font-family: Courier;\n",
       "}\n",
       "#T_1c842_row14_col1 {\n",
       "  width: 10em;\n",
       "  background: linear-gradient(90deg, lightblue 5.3%, transparent 5.3%);\n",
       "  font-family: Courier;\n",
       "}\n",
       "#T_1c842_row14_col4 {\n",
       "  width: 10em;\n",
       "  background: linear-gradient(90deg, lightblue 15.7%, transparent 15.7%);\n",
       "  font-family: Courier;\n",
       "}\n",
       "#T_1c842_row15_col0, #T_1c842_row15_col1, #T_1c842_row15_col2, #T_1c842_row15_col3, #T_1c842_row15_col4 {\n",
       "  width: 10em;\n",
       "  background: linear-gradient(90deg, lightblue 100.0%, transparent 100.0%);\n",
       "  font-family: Courier;\n",
       "}\n",
       "</style>\n",
       "<table id=\"T_1c842\">\n",
       "  <thead>\n",
       "    <tr>\n",
       "      <th class=\"index_name level0\" >[01.01] CTCAE</th>\n",
       "      <th id=\"T_1c842_level0_col0\" class=\"col_heading level0 col0\" >1</th>\n",
       "      <th id=\"T_1c842_level0_col1\" class=\"col_heading level0 col1\" >2</th>\n",
       "      <th id=\"T_1c842_level0_col2\" class=\"col_heading level0 col2\" >3</th>\n",
       "      <th id=\"T_1c842_level0_col3\" class=\"col_heading level0 col3\" >4</th>\n",
       "      <th id=\"T_1c842_level0_col4\" class=\"col_heading level0 col4\" >Total</th>\n",
       "    </tr>\n",
       "    <tr>\n",
       "      <th class=\"index_name level0\" >[02.02] Type</th>\n",
       "      <th class=\"blank col0\" >&nbsp;</th>\n",
       "      <th class=\"blank col1\" >&nbsp;</th>\n",
       "      <th class=\"blank col2\" >&nbsp;</th>\n",
       "      <th class=\"blank col3\" >&nbsp;</th>\n",
       "      <th class=\"blank col4\" >&nbsp;</th>\n",
       "    </tr>\n",
       "  </thead>\n",
       "  <tbody>\n",
       "    <tr>\n",
       "      <th id=\"T_1c842_level0_row0\" class=\"row_heading level0 row0\" >Bone injuries</th>\n",
       "      <td id=\"T_1c842_row0_col0\" class=\"data row0 col0\" ><span style=\"color: grey\">0 </span></td>\n",
       "      <td id=\"T_1c842_row0_col1\" class=\"data row0 col1\" ><span style=\"color: grey\">0 </span></td>\n",
       "      <td id=\"T_1c842_row0_col2\" class=\"data row0 col2\" >2 <span style=\"color: grey\">(0.7%) </span></td>\n",
       "      <td id=\"T_1c842_row0_col3\" class=\"data row0 col3\" ><span style=\"color: grey\">0 </span></td>\n",
       "      <td id=\"T_1c842_row0_col4\" class=\"data row0 col4\" >2 <span style=\"color: grey\">(0.7%) </span></td>\n",
       "    </tr>\n",
       "    <tr>\n",
       "      <th id=\"T_1c842_level0_row1\" class=\"row_heading level0 row1\" >Circulatory problems</th>\n",
       "      <td id=\"T_1c842_row1_col0\" class=\"data row1 col0\" >37 <span style=\"color: grey\">(12.1%) </span></td>\n",
       "      <td id=\"T_1c842_row1_col1\" class=\"data row1 col1\" >2 <span style=\"color: grey\">(0.7%) </span></td>\n",
       "      <td id=\"T_1c842_row1_col2\" class=\"data row1 col2\" ><span style=\"color: grey\">0 </span></td>\n",
       "      <td id=\"T_1c842_row1_col3\" class=\"data row1 col3\" ><span style=\"color: grey\">0 </span></td>\n",
       "      <td id=\"T_1c842_row1_col4\" class=\"data row1 col4\" >39 <span style=\"color: grey\">(12.7%) </span></td>\n",
       "    </tr>\n",
       "    <tr>\n",
       "      <th id=\"T_1c842_level0_row2\" class=\"row_heading level0 row2\" >Coughing fit</th>\n",
       "      <td id=\"T_1c842_row2_col0\" class=\"data row2 col0\" >5 <span style=\"color: grey\">(1.6%) </span></td>\n",
       "      <td id=\"T_1c842_row2_col1\" class=\"data row2 col1\" ><span style=\"color: grey\">0 </span></td>\n",
       "      <td id=\"T_1c842_row2_col2\" class=\"data row2 col2\" ><span style=\"color: grey\">0 </span></td>\n",
       "      <td id=\"T_1c842_row2_col3\" class=\"data row2 col3\" ><span style=\"color: grey\">0 </span></td>\n",
       "      <td id=\"T_1c842_row2_col4\" class=\"data row2 col4\" >5 <span style=\"color: grey\">(1.6%) </span></td>\n",
       "    </tr>\n",
       "    <tr>\n",
       "      <th id=\"T_1c842_level0_row3\" class=\"row_heading level0 row3\" >Enuresis</th>\n",
       "      <td id=\"T_1c842_row3_col0\" class=\"data row3 col0\" >2 <span style=\"color: grey\">(0.7%) </span></td>\n",
       "      <td id=\"T_1c842_row3_col1\" class=\"data row3 col1\" ><span style=\"color: grey\">0 </span></td>\n",
       "      <td id=\"T_1c842_row3_col2\" class=\"data row3 col2\" ><span style=\"color: grey\">0 </span></td>\n",
       "      <td id=\"T_1c842_row3_col3\" class=\"data row3 col3\" ><span style=\"color: grey\">0 </span></td>\n",
       "      <td id=\"T_1c842_row3_col4\" class=\"data row3 col4\" >2 <span style=\"color: grey\">(0.7%) </span></td>\n",
       "    </tr>\n",
       "    <tr>\n",
       "      <th id=\"T_1c842_level0_row4\" class=\"row_heading level0 row4\" >Itching</th>\n",
       "      <td id=\"T_1c842_row4_col0\" class=\"data row4 col0\" >4 <span style=\"color: grey\">(1.3%) </span></td>\n",
       "      <td id=\"T_1c842_row4_col1\" class=\"data row4 col1\" >1 <span style=\"color: grey\">(0.3%) </span></td>\n",
       "      <td id=\"T_1c842_row4_col2\" class=\"data row4 col2\" ><span style=\"color: grey\">0 </span></td>\n",
       "      <td id=\"T_1c842_row4_col3\" class=\"data row4 col3\" ><span style=\"color: grey\">0 </span></td>\n",
       "      <td id=\"T_1c842_row4_col4\" class=\"data row4 col4\" >5 <span style=\"color: grey\">(1.6%) </span></td>\n",
       "    </tr>\n",
       "    <tr>\n",
       "      <th id=\"T_1c842_level0_row5\" class=\"row_heading level0 row5\" >Muscle cramps</th>\n",
       "      <td id=\"T_1c842_row5_col0\" class=\"data row5 col0\" >3 <span style=\"color: grey\">(1.0%) </span></td>\n",
       "      <td id=\"T_1c842_row5_col1\" class=\"data row5 col1\" ><span style=\"color: grey\">0 </span></td>\n",
       "      <td id=\"T_1c842_row5_col2\" class=\"data row5 col2\" ><span style=\"color: grey\">0 </span></td>\n",
       "      <td id=\"T_1c842_row5_col3\" class=\"data row5 col3\" ><span style=\"color: grey\">0 </span></td>\n",
       "      <td id=\"T_1c842_row5_col4\" class=\"data row5 col4\" >3 <span style=\"color: grey\">(1.0%) </span></td>\n",
       "    </tr>\n",
       "    <tr>\n",
       "      <th id=\"T_1c842_level0_row6\" class=\"row_heading level0 row6\" >Muscle soreness</th>\n",
       "      <td id=\"T_1c842_row6_col0\" class=\"data row6 col0\" >5 <span style=\"color: grey\">(1.6%) </span></td>\n",
       "      <td id=\"T_1c842_row6_col1\" class=\"data row6 col1\" >2 <span style=\"color: grey\">(0.7%) </span></td>\n",
       "      <td id=\"T_1c842_row6_col2\" class=\"data row6 col2\" ><span style=\"color: grey\">0 </span></td>\n",
       "      <td id=\"T_1c842_row6_col3\" class=\"data row6 col3\" ><span style=\"color: grey\">0 </span></td>\n",
       "      <td id=\"T_1c842_row6_col4\" class=\"data row6 col4\" >7 <span style=\"color: grey\">(2.3%) </span></td>\n",
       "    </tr>\n",
       "    <tr>\n",
       "      <th id=\"T_1c842_level0_row7\" class=\"row_heading level0 row7\" >Nosebleed</th>\n",
       "      <td id=\"T_1c842_row7_col0\" class=\"data row7 col0\" >2 <span style=\"color: grey\">(0.7%) </span></td>\n",
       "      <td id=\"T_1c842_row7_col1\" class=\"data row7 col1\" >1 <span style=\"color: grey\">(0.3%) </span></td>\n",
       "      <td id=\"T_1c842_row7_col2\" class=\"data row7 col2\" ><span style=\"color: grey\">0 </span></td>\n",
       "      <td id=\"T_1c842_row7_col3\" class=\"data row7 col3\" ><span style=\"color: grey\">0 </span></td>\n",
       "      <td id=\"T_1c842_row7_col4\" class=\"data row7 col4\" >3 <span style=\"color: grey\">(1.0%) </span></td>\n",
       "    </tr>\n",
       "    <tr>\n",
       "      <th id=\"T_1c842_level0_row8\" class=\"row_heading level0 row8\" >Pain</th>\n",
       "      <td id=\"T_1c842_row8_col0\" class=\"data row8 col0\" >88 <span style=\"color: grey\">(28.8%) </span></td>\n",
       "      <td id=\"T_1c842_row8_col1\" class=\"data row8 col1\" >38 <span style=\"color: grey\">(12.4%) </span></td>\n",
       "      <td id=\"T_1c842_row8_col2\" class=\"data row8 col2\" >2 <span style=\"color: grey\">(0.7%) </span></td>\n",
       "      <td id=\"T_1c842_row8_col3\" class=\"data row8 col3\" >1 <span style=\"color: grey\">(0.3%) </span></td>\n",
       "      <td id=\"T_1c842_row8_col4\" class=\"data row8 col4\" >129 <span style=\"color: grey\">(42.2%) </span></td>\n",
       "    </tr>\n",
       "    <tr>\n",
       "      <th id=\"T_1c842_level0_row9\" class=\"row_heading level0 row9\" >Psychological stress reaction</th>\n",
       "      <td id=\"T_1c842_row9_col0\" class=\"data row9 col0\" >10 <span style=\"color: grey\">(3.3%) </span></td>\n",
       "      <td id=\"T_1c842_row9_col1\" class=\"data row9 col1\" >1 <span style=\"color: grey\">(0.3%) </span></td>\n",
       "      <td id=\"T_1c842_row9_col2\" class=\"data row9 col2\" ><span style=\"color: grey\">0 </span></td>\n",
       "      <td id=\"T_1c842_row9_col3\" class=\"data row9 col3\" ><span style=\"color: grey\">0 </span></td>\n",
       "      <td id=\"T_1c842_row9_col4\" class=\"data row9 col4\" >11 <span style=\"color: grey\">(3.6%) </span></td>\n",
       "    </tr>\n",
       "    <tr>\n",
       "      <th id=\"T_1c842_level0_row10\" class=\"row_heading level0 row10\" >Schmerzhafter Spontaneous painful bowel movement</th>\n",
       "      <td id=\"T_1c842_row10_col0\" class=\"data row10 col0\" >4 <span style=\"color: grey\">(1.3%) </span></td>\n",
       "      <td id=\"T_1c842_row10_col1\" class=\"data row10 col1\" ><span style=\"color: grey\">0 </span></td>\n",
       "      <td id=\"T_1c842_row10_col2\" class=\"data row10 col2\" ><span style=\"color: grey\">0 </span></td>\n",
       "      <td id=\"T_1c842_row10_col3\" class=\"data row10 col3\" ><span style=\"color: grey\">0 </span></td>\n",
       "      <td id=\"T_1c842_row10_col4\" class=\"data row10 col4\" >4 <span style=\"color: grey\">(1.3%) </span></td>\n",
       "    </tr>\n",
       "    <tr>\n",
       "      <th id=\"T_1c842_level0_row11\" class=\"row_heading level0 row11\" >Severe exhaustion</th>\n",
       "      <td id=\"T_1c842_row11_col0\" class=\"data row11 col0\" >6 <span style=\"color: grey\">(2.0%) </span></td>\n",
       "      <td id=\"T_1c842_row11_col1\" class=\"data row11 col1\" ><span style=\"color: grey\">0 </span></td>\n",
       "      <td id=\"T_1c842_row11_col2\" class=\"data row11 col2\" ><span style=\"color: grey\">0 </span></td>\n",
       "      <td id=\"T_1c842_row11_col3\" class=\"data row11 col3\" ><span style=\"color: grey\">0 </span></td>\n",
       "      <td id=\"T_1c842_row11_col4\" class=\"data row11 col4\" >6 <span style=\"color: grey\">(2.0%) </span></td>\n",
       "    </tr>\n",
       "    <tr>\n",
       "      <th id=\"T_1c842_level0_row12\" class=\"row_heading level0 row12\" >Superficial injuries</th>\n",
       "      <td id=\"T_1c842_row12_col0\" class=\"data row12 col0\" >8 <span style=\"color: grey\">(2.6%) </span></td>\n",
       "      <td id=\"T_1c842_row12_col1\" class=\"data row12 col1\" >9 <span style=\"color: grey\">(2.9%) </span></td>\n",
       "      <td id=\"T_1c842_row12_col2\" class=\"data row12 col2\" ><span style=\"color: grey\">0 </span></td>\n",
       "      <td id=\"T_1c842_row12_col3\" class=\"data row12 col3\" ><span style=\"color: grey\">0 </span></td>\n",
       "      <td id=\"T_1c842_row12_col4\" class=\"data row12 col4\" >17 <span style=\"color: grey\">(5.6%) </span></td>\n",
       "    </tr>\n",
       "    <tr>\n",
       "      <th id=\"T_1c842_level0_row13\" class=\"row_heading level0 row13\" >Weichteil-/Gewebeverletzung</th>\n",
       "      <td id=\"T_1c842_row13_col0\" class=\"data row13 col0\" >7 <span style=\"color: grey\">(2.3%) </span></td>\n",
       "      <td id=\"T_1c842_row13_col1\" class=\"data row13 col1\" >17 <span style=\"color: grey\">(5.6%) </span></td>\n",
       "      <td id=\"T_1c842_row13_col2\" class=\"data row13 col2\" ><span style=\"color: grey\">0 </span></td>\n",
       "      <td id=\"T_1c842_row13_col3\" class=\"data row13 col3\" >1 <span style=\"color: grey\">(0.3%) </span></td>\n",
       "      <td id=\"T_1c842_row13_col4\" class=\"data row13 col4\" >25 <span style=\"color: grey\">(8.2%) </span></td>\n",
       "    </tr>\n",
       "    <tr>\n",
       "      <th id=\"T_1c842_level0_row14\" class=\"row_heading level0 row14\" >Übelkeit / Erbrechen</th>\n",
       "      <td id=\"T_1c842_row14_col0\" class=\"data row14 col0\" >44 <span style=\"color: grey\">(14.4%) </span></td>\n",
       "      <td id=\"T_1c842_row14_col1\" class=\"data row14 col1\" >4 <span style=\"color: grey\">(1.3%) </span></td>\n",
       "      <td id=\"T_1c842_row14_col2\" class=\"data row14 col2\" ><span style=\"color: grey\">0 </span></td>\n",
       "      <td id=\"T_1c842_row14_col3\" class=\"data row14 col3\" ><span style=\"color: grey\">0 </span></td>\n",
       "      <td id=\"T_1c842_row14_col4\" class=\"data row14 col4\" >48 <span style=\"color: grey\">(15.7%) </span></td>\n",
       "    </tr>\n",
       "    <tr>\n",
       "      <th id=\"T_1c842_level0_row15\" class=\"row_heading level0 row15\" >Total</th>\n",
       "      <td id=\"T_1c842_row15_col0\" class=\"data row15 col0\" >225 <span style=\"color: grey\">(73.5%) </span></td>\n",
       "      <td id=\"T_1c842_row15_col1\" class=\"data row15 col1\" >75 <span style=\"color: grey\">(24.5%) </span></td>\n",
       "      <td id=\"T_1c842_row15_col2\" class=\"data row15 col2\" >4 <span style=\"color: grey\">(1.3%) </span></td>\n",
       "      <td id=\"T_1c842_row15_col3\" class=\"data row15 col3\" >2 <span style=\"color: grey\">(0.7%) </span></td>\n",
       "      <td id=\"T_1c842_row15_col4\" class=\"data row15 col4\" >306 <span style=\"color: grey\">(100.0%) </span></td>\n",
       "    </tr>\n",
       "  </tbody>\n",
       "</table>\n"
      ],
      "text/plain": [
       "<pandas.io.formats.style.Styler at 0x1762f70b0>"
      ]
     },
     "metadata": {},
     "output_type": "display_data"
    },
    {
     "data": {
      "text/html": [
       "<style type=\"text/css\">\n",
       "#T_a9058 th:first-child {\n",
       "  min-width: 400px !important;\n",
       "  max-width: 400px !important;\n",
       "  white-space: nowrap;\n",
       "  overflow: hidden;\n",
       "}\n",
       "#T_a9058  td:first-child {\n",
       "  min-width: 400px !important;\n",
       "  max-width: 400px !important;\n",
       "  white-space: nowrap;\n",
       "  overflow: hidden;\n",
       "}\n",
       "#T_a9058_row0_col0 {\n",
       "  width: 10em;\n",
       "  background: linear-gradient(90deg, lightblue 6.6%, transparent 6.6%);\n",
       "  font-family: Courier;\n",
       "}\n",
       "#T_a9058_row0_col1 {\n",
       "  width: 10em;\n",
       "  background: linear-gradient(90deg, lightblue 13.5%, transparent 13.5%);\n",
       "  font-family: Courier;\n",
       "}\n",
       "#T_a9058_row0_col2, #T_a9058_row7_col2 {\n",
       "  width: 10em;\n",
       "  background: linear-gradient(90deg, lightblue 25.0%, transparent 25.0%);\n",
       "  font-family: Courier;\n",
       "}\n",
       "#T_a9058_row0_col3, #T_a9058_row5_col2, #T_a9058_row7_col3 {\n",
       "  width: 10em;\n",
       "  background: linear-gradient(90deg, lightblue 50.0%, transparent 50.0%);\n",
       "  font-family: Courier;\n",
       "}\n",
       "#T_a9058_row0_col4 {\n",
       "  width: 10em;\n",
       "  background: linear-gradient(90deg, lightblue 8.3%, transparent 8.3%);\n",
       "  font-family: Courier;\n",
       "}\n",
       "#T_a9058_row1_col0, #T_a9058_row1_col4 {\n",
       "  width: 10em;\n",
       "  background: linear-gradient(90deg, lightblue 2.6%, transparent 2.6%);\n",
       "  font-family: Courier;\n",
       "}\n",
       "#T_a9058_row1_col1 {\n",
       "  width: 10em;\n",
       "  background: linear-gradient(90deg, lightblue 2.7%, transparent 2.7%);\n",
       "  font-family: Courier;\n",
       "}\n",
       "#T_a9058_row1_col2, #T_a9058_row1_col3, #T_a9058_row2_col2, #T_a9058_row2_col3, #T_a9058_row3_col2, #T_a9058_row3_col3, #T_a9058_row4_col1, #T_a9058_row4_col2, #T_a9058_row4_col3, #T_a9058_row5_col3, #T_a9058_row6_col2, #T_a9058_row6_col3 {\n",
       "  width: 10em;\n",
       "  font-family: Courier;\n",
       "}\n",
       "#T_a9058_row2_col0 {\n",
       "  width: 10em;\n",
       "  background: linear-gradient(90deg, lightblue 3.0%, transparent 3.0%);\n",
       "  font-family: Courier;\n",
       "}\n",
       "#T_a9058_row2_col1 {\n",
       "  width: 10em;\n",
       "  background: linear-gradient(90deg, lightblue 5.4%, transparent 5.4%);\n",
       "  font-family: Courier;\n",
       "}\n",
       "#T_a9058_row2_col4 {\n",
       "  width: 10em;\n",
       "  background: linear-gradient(90deg, lightblue 3.4%, transparent 3.4%);\n",
       "  font-family: Courier;\n",
       "}\n",
       "#T_a9058_row3_col0 {\n",
       "  width: 10em;\n",
       "  background: linear-gradient(90deg, lightblue 30.5%, transparent 30.5%);\n",
       "  font-family: Courier;\n",
       "}\n",
       "#T_a9058_row3_col1 {\n",
       "  width: 10em;\n",
       "  background: linear-gradient(90deg, lightblue 14.9%, transparent 14.9%);\n",
       "  font-family: Courier;\n",
       "}\n",
       "#T_a9058_row3_col4 {\n",
       "  width: 10em;\n",
       "  background: linear-gradient(90deg, lightblue 27.0%, transparent 27.0%);\n",
       "  font-family: Courier;\n",
       "}\n",
       "#T_a9058_row4_col0 {\n",
       "  width: 10em;\n",
       "  background: linear-gradient(90deg, lightblue 0.7%, transparent 0.7%);\n",
       "  font-family: Courier;\n",
       "}\n",
       "#T_a9058_row4_col4 {\n",
       "  width: 10em;\n",
       "  background: linear-gradient(90deg, lightblue 0.5%, transparent 0.5%);\n",
       "  font-family: Courier;\n",
       "}\n",
       "#T_a9058_row5_col0 {\n",
       "  width: 10em;\n",
       "  background: linear-gradient(90deg, lightblue 41.6%, transparent 41.6%);\n",
       "  font-family: Courier;\n",
       "}\n",
       "#T_a9058_row5_col1 {\n",
       "  width: 10em;\n",
       "  background: linear-gradient(90deg, lightblue 28.4%, transparent 28.4%);\n",
       "  font-family: Courier;\n",
       "}\n",
       "#T_a9058_row5_col4 {\n",
       "  width: 10em;\n",
       "  background: linear-gradient(90deg, lightblue 39.0%, transparent 39.0%);\n",
       "  font-family: Courier;\n",
       "}\n",
       "#T_a9058_row6_col0 {\n",
       "  width: 10em;\n",
       "  background: linear-gradient(90deg, lightblue 5.2%, transparent 5.2%);\n",
       "  font-family: Courier;\n",
       "}\n",
       "#T_a9058_row6_col1 {\n",
       "  width: 10em;\n",
       "  background: linear-gradient(90deg, lightblue 4.1%, transparent 4.1%);\n",
       "  font-family: Courier;\n",
       "}\n",
       "#T_a9058_row6_col4 {\n",
       "  width: 10em;\n",
       "  background: linear-gradient(90deg, lightblue 4.9%, transparent 4.9%);\n",
       "  font-family: Courier;\n",
       "}\n",
       "#T_a9058_row7_col0 {\n",
       "  width: 10em;\n",
       "  background: linear-gradient(90deg, lightblue 9.8%, transparent 9.8%);\n",
       "  font-family: Courier;\n",
       "}\n",
       "#T_a9058_row7_col1 {\n",
       "  width: 10em;\n",
       "  background: linear-gradient(90deg, lightblue 31.1%, transparent 31.1%);\n",
       "  font-family: Courier;\n",
       "}\n",
       "#T_a9058_row7_col4 {\n",
       "  width: 10em;\n",
       "  background: linear-gradient(90deg, lightblue 14.3%, transparent 14.3%);\n",
       "  font-family: Courier;\n",
       "}\n",
       "#T_a9058_row8_col0, #T_a9058_row8_col1, #T_a9058_row8_col2, #T_a9058_row8_col3, #T_a9058_row8_col4 {\n",
       "  width: 10em;\n",
       "  background: linear-gradient(90deg, lightblue 100.0%, transparent 100.0%);\n",
       "  font-family: Courier;\n",
       "}\n",
       "</style>\n",
       "<table id=\"T_a9058\">\n",
       "  <thead>\n",
       "    <tr>\n",
       "      <th class=\"index_name level0\" >[01.01] CTCAE</th>\n",
       "      <th id=\"T_a9058_level0_col0\" class=\"col_heading level0 col0\" >1</th>\n",
       "      <th id=\"T_a9058_level0_col1\" class=\"col_heading level0 col1\" >2</th>\n",
       "      <th id=\"T_a9058_level0_col2\" class=\"col_heading level0 col2\" >3</th>\n",
       "      <th id=\"T_a9058_level0_col3\" class=\"col_heading level0 col3\" >4</th>\n",
       "      <th id=\"T_a9058_level0_col4\" class=\"col_heading level0 col4\" >Total</th>\n",
       "    </tr>\n",
       "    <tr>\n",
       "      <th class=\"index_name level0\" >[02.03] Trigger</th>\n",
       "      <th class=\"blank col0\" >&nbsp;</th>\n",
       "      <th class=\"blank col1\" >&nbsp;</th>\n",
       "      <th class=\"blank col2\" >&nbsp;</th>\n",
       "      <th class=\"blank col3\" >&nbsp;</th>\n",
       "      <th class=\"blank col4\" >&nbsp;</th>\n",
       "    </tr>\n",
       "  </thead>\n",
       "  <tbody>\n",
       "    <tr>\n",
       "      <th id=\"T_a9058_level0_row0\" class=\"row_heading level0 row0\" >Coordination problems</th>\n",
       "      <td id=\"T_a9058_row0_col0\" class=\"data row0 col0\" >20 <span style=\"color: grey\">(5.2%) </span></td>\n",
       "      <td id=\"T_a9058_row0_col1\" class=\"data row0 col1\" >10 <span style=\"color: grey\">(2.6%) </span></td>\n",
       "      <td id=\"T_a9058_row0_col2\" class=\"data row0 col2\" >1 <span style=\"color: grey\">(0.3%) </span></td>\n",
       "      <td id=\"T_a9058_row0_col3\" class=\"data row0 col3\" >1 <span style=\"color: grey\">(0.3%) </span></td>\n",
       "      <td id=\"T_a9058_row0_col4\" class=\"data row0 col4\" >32 <span style=\"color: grey\">(8.3%) </span></td>\n",
       "    </tr>\n",
       "    <tr>\n",
       "      <th id=\"T_a9058_level0_row1\" class=\"row_heading level0 row1\" >Environmental conditions</th>\n",
       "      <td id=\"T_a9058_row1_col0\" class=\"data row1 col0\" >8 <span style=\"color: grey\">(2.1%) </span></td>\n",
       "      <td id=\"T_a9058_row1_col1\" class=\"data row1 col1\" >2 <span style=\"color: grey\">(0.5%) </span></td>\n",
       "      <td id=\"T_a9058_row1_col2\" class=\"data row1 col2\" ><span style=\"color: grey\">0 </span></td>\n",
       "      <td id=\"T_a9058_row1_col3\" class=\"data row1 col3\" ><span style=\"color: grey\">0 </span></td>\n",
       "      <td id=\"T_a9058_row1_col4\" class=\"data row1 col4\" >10 <span style=\"color: grey\">(2.6%) </span></td>\n",
       "    </tr>\n",
       "    <tr>\n",
       "      <th id=\"T_a9058_level0_row2\" class=\"row_heading level0 row2\" >Kollision</th>\n",
       "      <td id=\"T_a9058_row2_col0\" class=\"data row2 col0\" >9 <span style=\"color: grey\">(2.3%) </span></td>\n",
       "      <td id=\"T_a9058_row2_col1\" class=\"data row2 col1\" >4 <span style=\"color: grey\">(1.0%) </span></td>\n",
       "      <td id=\"T_a9058_row2_col2\" class=\"data row2 col2\" ><span style=\"color: grey\">0 </span></td>\n",
       "      <td id=\"T_a9058_row2_col3\" class=\"data row2 col3\" ><span style=\"color: grey\">0 </span></td>\n",
       "      <td id=\"T_a9058_row2_col4\" class=\"data row2 col4\" >13 <span style=\"color: grey\">(3.4%) </span></td>\n",
       "    </tr>\n",
       "    <tr>\n",
       "      <th id=\"T_a9058_level0_row3\" class=\"row_heading level0 row3\" >Medical therapy</th>\n",
       "      <td id=\"T_a9058_row3_col0\" class=\"data row3 col0\" >93 <span style=\"color: grey\">(24.2%) </span></td>\n",
       "      <td id=\"T_a9058_row3_col1\" class=\"data row3 col1\" >11 <span style=\"color: grey\">(2.9%) </span></td>\n",
       "      <td id=\"T_a9058_row3_col2\" class=\"data row3 col2\" ><span style=\"color: grey\">0 </span></td>\n",
       "      <td id=\"T_a9058_row3_col3\" class=\"data row3 col3\" ><span style=\"color: grey\">0 </span></td>\n",
       "      <td id=\"T_a9058_row3_col4\" class=\"data row3 col4\" >104 <span style=\"color: grey\">(27.0%) </span></td>\n",
       "    </tr>\n",
       "    <tr>\n",
       "      <th id=\"T_a9058_level0_row4\" class=\"row_heading level0 row4\" >Other</th>\n",
       "      <td id=\"T_a9058_row4_col0\" class=\"data row4 col0\" >2 <span style=\"color: grey\">(0.5%) </span></td>\n",
       "      <td id=\"T_a9058_row4_col1\" class=\"data row4 col1\" ><span style=\"color: grey\">0 </span></td>\n",
       "      <td id=\"T_a9058_row4_col2\" class=\"data row4 col2\" ><span style=\"color: grey\">0 </span></td>\n",
       "      <td id=\"T_a9058_row4_col3\" class=\"data row4 col3\" ><span style=\"color: grey\">0 </span></td>\n",
       "      <td id=\"T_a9058_row4_col4\" class=\"data row4 col4\" >2 <span style=\"color: grey\">(0.5%) </span></td>\n",
       "    </tr>\n",
       "    <tr>\n",
       "      <th id=\"T_a9058_level0_row5\" class=\"row_heading level0 row5\" >Physical strain</th>\n",
       "      <td id=\"T_a9058_row5_col0\" class=\"data row5 col0\" >127 <span style=\"color: grey\">(33.0%) </span></td>\n",
       "      <td id=\"T_a9058_row5_col1\" class=\"data row5 col1\" >21 <span style=\"color: grey\">(5.5%) </span></td>\n",
       "      <td id=\"T_a9058_row5_col2\" class=\"data row5 col2\" >2 <span style=\"color: grey\">(0.5%) </span></td>\n",
       "      <td id=\"T_a9058_row5_col3\" class=\"data row5 col3\" ><span style=\"color: grey\">0 </span></td>\n",
       "      <td id=\"T_a9058_row5_col4\" class=\"data row5 col4\" >150 <span style=\"color: grey\">(39.0%) </span></td>\n",
       "    </tr>\n",
       "    <tr>\n",
       "      <th id=\"T_a9058_level0_row6\" class=\"row_heading level0 row6\" >Psychological strain</th>\n",
       "      <td id=\"T_a9058_row6_col0\" class=\"data row6 col0\" >16 <span style=\"color: grey\">(4.2%) </span></td>\n",
       "      <td id=\"T_a9058_row6_col1\" class=\"data row6 col1\" >3 <span style=\"color: grey\">(0.8%) </span></td>\n",
       "      <td id=\"T_a9058_row6_col2\" class=\"data row6 col2\" ><span style=\"color: grey\">0 </span></td>\n",
       "      <td id=\"T_a9058_row6_col3\" class=\"data row6 col3\" ><span style=\"color: grey\">0 </span></td>\n",
       "      <td id=\"T_a9058_row6_col4\" class=\"data row6 col4\" >19 <span style=\"color: grey\">(4.9%) </span></td>\n",
       "    </tr>\n",
       "    <tr>\n",
       "      <th id=\"T_a9058_level0_row7\" class=\"row_heading level0 row7\" >Sturzereignis</th>\n",
       "      <td id=\"T_a9058_row7_col0\" class=\"data row7 col0\" >30 <span style=\"color: grey\">(7.8%) </span></td>\n",
       "      <td id=\"T_a9058_row7_col1\" class=\"data row7 col1\" >23 <span style=\"color: grey\">(6.0%) </span></td>\n",
       "      <td id=\"T_a9058_row7_col2\" class=\"data row7 col2\" >1 <span style=\"color: grey\">(0.3%) </span></td>\n",
       "      <td id=\"T_a9058_row7_col3\" class=\"data row7 col3\" >1 <span style=\"color: grey\">(0.3%) </span></td>\n",
       "      <td id=\"T_a9058_row7_col4\" class=\"data row7 col4\" >55 <span style=\"color: grey\">(14.3%) </span></td>\n",
       "    </tr>\n",
       "    <tr>\n",
       "      <th id=\"T_a9058_level0_row8\" class=\"row_heading level0 row8\" >Total</th>\n",
       "      <td id=\"T_a9058_row8_col0\" class=\"data row8 col0\" >305 <span style=\"color: grey\">(79.2%) </span></td>\n",
       "      <td id=\"T_a9058_row8_col1\" class=\"data row8 col1\" >74 <span style=\"color: grey\">(19.2%) </span></td>\n",
       "      <td id=\"T_a9058_row8_col2\" class=\"data row8 col2\" >4 <span style=\"color: grey\">(1.0%) </span></td>\n",
       "      <td id=\"T_a9058_row8_col3\" class=\"data row8 col3\" >2 <span style=\"color: grey\">(0.5%) </span></td>\n",
       "      <td id=\"T_a9058_row8_col4\" class=\"data row8 col4\" >385 <span style=\"color: grey\">(100.0%) </span></td>\n",
       "    </tr>\n",
       "  </tbody>\n",
       "</table>\n"
      ],
      "text/plain": [
       "<pandas.io.formats.style.Styler at 0x1762e4fe0>"
      ]
     },
     "metadata": {},
     "output_type": "display_data"
    },
    {
     "data": {
      "text/html": [
       "<style type=\"text/css\">\n",
       "#T_1959e th:first-child {\n",
       "  min-width: 400px !important;\n",
       "  max-width: 400px !important;\n",
       "  white-space: nowrap;\n",
       "  overflow: hidden;\n",
       "}\n",
       "#T_1959e  td:first-child {\n",
       "  min-width: 400px !important;\n",
       "  max-width: 400px !important;\n",
       "  white-space: nowrap;\n",
       "  overflow: hidden;\n",
       "}\n",
       "#T_1959e_row0_col0 {\n",
       "  width: 10em;\n",
       "  background: linear-gradient(90deg, lightblue 6.2%, transparent 6.2%);\n",
       "  font-family: Courier;\n",
       "}\n",
       "#T_1959e_row0_col1 {\n",
       "  width: 10em;\n",
       "  background: linear-gradient(90deg, lightblue 8.8%, transparent 8.8%);\n",
       "  font-family: Courier;\n",
       "}\n",
       "#T_1959e_row0_col2, #T_1959e_row0_col3, #T_1959e_row1_col2, #T_1959e_row1_col3, #T_1959e_row2_col2, #T_1959e_row2_col3, #T_1959e_row3_col2, #T_1959e_row3_col3, #T_1959e_row4_col1, #T_1959e_row4_col2, #T_1959e_row4_col3, #T_1959e_row5_col3, #T_1959e_row6_col0, #T_1959e_row6_col1, #T_1959e_row6_col2, #T_1959e_row7_col2, #T_1959e_row7_col3, #T_1959e_row8_col2, #T_1959e_row8_col3, #T_1959e_row9_col1, #T_1959e_row9_col2, #T_1959e_row9_col3, #T_1959e_row10_col0, #T_1959e_row10_col2, #T_1959e_row10_col3, #T_1959e_row11_col3, #T_1959e_row12_col2, #T_1959e_row12_col3 {\n",
       "  width: 10em;\n",
       "  font-family: Courier;\n",
       "}\n",
       "#T_1959e_row0_col4 {\n",
       "  width: 10em;\n",
       "  background: linear-gradient(90deg, lightblue 6.7%, transparent 6.7%);\n",
       "  font-family: Courier;\n",
       "}\n",
       "#T_1959e_row1_col0, #T_1959e_row2_col0 {\n",
       "  width: 10em;\n",
       "  background: linear-gradient(90deg, lightblue 4.7%, transparent 4.7%);\n",
       "  font-family: Courier;\n",
       "}\n",
       "#T_1959e_row1_col1 {\n",
       "  width: 10em;\n",
       "  background: linear-gradient(90deg, lightblue 7.0%, transparent 7.0%);\n",
       "  font-family: Courier;\n",
       "}\n",
       "#T_1959e_row1_col4 {\n",
       "  width: 10em;\n",
       "  background: linear-gradient(90deg, lightblue 5.1%, transparent 5.1%);\n",
       "  font-family: Courier;\n",
       "}\n",
       "#T_1959e_row2_col1, #T_1959e_row5_col1 {\n",
       "  width: 10em;\n",
       "  background: linear-gradient(90deg, lightblue 3.5%, transparent 3.5%);\n",
       "  font-family: Courier;\n",
       "}\n",
       "#T_1959e_row2_col4 {\n",
       "  width: 10em;\n",
       "  background: linear-gradient(90deg, lightblue 4.3%, transparent 4.3%);\n",
       "  font-family: Courier;\n",
       "}\n",
       "#T_1959e_row3_col0 {\n",
       "  width: 10em;\n",
       "  background: linear-gradient(90deg, lightblue 2.1%, transparent 2.1%);\n",
       "  font-family: Courier;\n",
       "}\n",
       "#T_1959e_row3_col1, #T_1959e_row10_col1 {\n",
       "  width: 10em;\n",
       "  background: linear-gradient(90deg, lightblue 1.8%, transparent 1.8%);\n",
       "  font-family: Courier;\n",
       "}\n",
       "#T_1959e_row3_col4, #T_1959e_row9_col4 {\n",
       "  width: 10em;\n",
       "  background: linear-gradient(90deg, lightblue 2.0%, transparent 2.0%);\n",
       "  font-family: Courier;\n",
       "}\n",
       "#T_1959e_row4_col0 {\n",
       "  width: 10em;\n",
       "  background: linear-gradient(90deg, lightblue 1.6%, transparent 1.6%);\n",
       "  font-family: Courier;\n",
       "}\n",
       "#T_1959e_row4_col4 {\n",
       "  width: 10em;\n",
       "  background: linear-gradient(90deg, lightblue 1.2%, transparent 1.2%);\n",
       "  font-family: Courier;\n",
       "}\n",
       "#T_1959e_row5_col0 {\n",
       "  width: 10em;\n",
       "  background: linear-gradient(90deg, lightblue 3.1%, transparent 3.1%);\n",
       "  font-family: Courier;\n",
       "}\n",
       "#T_1959e_row5_col2 {\n",
       "  width: 10em;\n",
       "  background: linear-gradient(90deg, lightblue 33.3%, transparent 33.3%);\n",
       "  font-family: Courier;\n",
       "}\n",
       "#T_1959e_row5_col4, #T_1959e_row12_col0 {\n",
       "  width: 10em;\n",
       "  background: linear-gradient(90deg, lightblue 3.6%, transparent 3.6%);\n",
       "  font-family: Courier;\n",
       "}\n",
       "#T_1959e_row6_col3, #T_1959e_row13_col0, #T_1959e_row13_col1, #T_1959e_row13_col2, #T_1959e_row13_col3, #T_1959e_row13_col4 {\n",
       "  width: 10em;\n",
       "  background: linear-gradient(90deg, lightblue 100.0%, transparent 100.0%);\n",
       "  font-family: Courier;\n",
       "}\n",
       "#T_1959e_row6_col4, #T_1959e_row10_col4 {\n",
       "  width: 10em;\n",
       "  background: linear-gradient(90deg, lightblue 0.4%, transparent 0.4%);\n",
       "  font-family: Courier;\n",
       "}\n",
       "#T_1959e_row7_col0 {\n",
       "  width: 10em;\n",
       "  background: linear-gradient(90deg, lightblue 6.8%, transparent 6.8%);\n",
       "  font-family: Courier;\n",
       "}\n",
       "#T_1959e_row7_col1 {\n",
       "  width: 10em;\n",
       "  background: linear-gradient(90deg, lightblue 28.1%, transparent 28.1%);\n",
       "  font-family: Courier;\n",
       "}\n",
       "#T_1959e_row7_col4 {\n",
       "  width: 10em;\n",
       "  background: linear-gradient(90deg, lightblue 11.5%, transparent 11.5%);\n",
       "  font-family: Courier;\n",
       "}\n",
       "#T_1959e_row8_col0 {\n",
       "  width: 10em;\n",
       "  background: linear-gradient(90deg, lightblue 44.8%, transparent 44.8%);\n",
       "  font-family: Courier;\n",
       "}\n",
       "#T_1959e_row8_col1 {\n",
       "  width: 10em;\n",
       "  background: linear-gradient(90deg, lightblue 10.5%, transparent 10.5%);\n",
       "  font-family: Courier;\n",
       "}\n",
       "#T_1959e_row8_col4 {\n",
       "  width: 10em;\n",
       "  background: linear-gradient(90deg, lightblue 36.4%, transparent 36.4%);\n",
       "  font-family: Courier;\n",
       "}\n",
       "#T_1959e_row9_col0 {\n",
       "  width: 10em;\n",
       "  background: linear-gradient(90deg, lightblue 2.6%, transparent 2.6%);\n",
       "  font-family: Courier;\n",
       "}\n",
       "#T_1959e_row11_col0 {\n",
       "  width: 10em;\n",
       "  background: linear-gradient(90deg, lightblue 19.8%, transparent 19.8%);\n",
       "  font-family: Courier;\n",
       "}\n",
       "#T_1959e_row11_col1 {\n",
       "  width: 10em;\n",
       "  background: linear-gradient(90deg, lightblue 22.8%, transparent 22.8%);\n",
       "  font-family: Courier;\n",
       "}\n",
       "#T_1959e_row11_col2 {\n",
       "  width: 10em;\n",
       "  background: linear-gradient(90deg, lightblue 66.7%, transparent 66.7%);\n",
       "  font-family: Courier;\n",
       "}\n",
       "#T_1959e_row11_col4 {\n",
       "  width: 10em;\n",
       "  background: linear-gradient(90deg, lightblue 20.9%, transparent 20.9%);\n",
       "  font-family: Courier;\n",
       "}\n",
       "#T_1959e_row12_col1 {\n",
       "  width: 10em;\n",
       "  background: linear-gradient(90deg, lightblue 12.3%, transparent 12.3%);\n",
       "  font-family: Courier;\n",
       "}\n",
       "#T_1959e_row12_col4 {\n",
       "  width: 10em;\n",
       "  background: linear-gradient(90deg, lightblue 5.5%, transparent 5.5%);\n",
       "  font-family: Courier;\n",
       "}\n",
       "</style>\n",
       "<table id=\"T_1959e\">\n",
       "  <thead>\n",
       "    <tr>\n",
       "      <th class=\"index_name level0\" >[01.01] CTCAE</th>\n",
       "      <th id=\"T_1959e_level0_col0\" class=\"col_heading level0 col0\" >1</th>\n",
       "      <th id=\"T_1959e_level0_col1\" class=\"col_heading level0 col1\" >2</th>\n",
       "      <th id=\"T_1959e_level0_col2\" class=\"col_heading level0 col2\" >3</th>\n",
       "      <th id=\"T_1959e_level0_col3\" class=\"col_heading level0 col3\" >4</th>\n",
       "      <th id=\"T_1959e_level0_col4\" class=\"col_heading level0 col4\" >Total</th>\n",
       "    </tr>\n",
       "    <tr>\n",
       "      <th class=\"index_name level0\" >[02.04] Affected body parts</th>\n",
       "      <th class=\"blank col0\" >&nbsp;</th>\n",
       "      <th class=\"blank col1\" >&nbsp;</th>\n",
       "      <th class=\"blank col2\" >&nbsp;</th>\n",
       "      <th class=\"blank col3\" >&nbsp;</th>\n",
       "      <th class=\"blank col4\" >&nbsp;</th>\n",
       "    </tr>\n",
       "  </thead>\n",
       "  <tbody>\n",
       "    <tr>\n",
       "      <th id=\"T_1959e_level0_row0\" class=\"row_heading level0 row0\" >Abdomen</th>\n",
       "      <td id=\"T_1959e_row0_col0\" class=\"data row0 col0\" >12 <span style=\"color: grey\">(4.7%) </span></td>\n",
       "      <td id=\"T_1959e_row0_col1\" class=\"data row0 col1\" >5 <span style=\"color: grey\">(2.0%) </span></td>\n",
       "      <td id=\"T_1959e_row0_col2\" class=\"data row0 col2\" ><span style=\"color: grey\">0 </span></td>\n",
       "      <td id=\"T_1959e_row0_col3\" class=\"data row0 col3\" ><span style=\"color: grey\">0 </span></td>\n",
       "      <td id=\"T_1959e_row0_col4\" class=\"data row0 col4\" >17 <span style=\"color: grey\">(6.7%) </span></td>\n",
       "    </tr>\n",
       "    <tr>\n",
       "      <th id=\"T_1959e_level0_row1\" class=\"row_heading level0 row1\" >Back</th>\n",
       "      <td id=\"T_1959e_row1_col0\" class=\"data row1 col0\" >9 <span style=\"color: grey\">(3.6%) </span></td>\n",
       "      <td id=\"T_1959e_row1_col1\" class=\"data row1 col1\" >4 <span style=\"color: grey\">(1.6%) </span></td>\n",
       "      <td id=\"T_1959e_row1_col2\" class=\"data row1 col2\" ><span style=\"color: grey\">0 </span></td>\n",
       "      <td id=\"T_1959e_row1_col3\" class=\"data row1 col3\" ><span style=\"color: grey\">0 </span></td>\n",
       "      <td id=\"T_1959e_row1_col4\" class=\"data row1 col4\" >13 <span style=\"color: grey\">(5.1%) </span></td>\n",
       "    </tr>\n",
       "    <tr>\n",
       "      <th id=\"T_1959e_level0_row2\" class=\"row_heading level0 row2\" >Buttocks</th>\n",
       "      <td id=\"T_1959e_row2_col0\" class=\"data row2 col0\" >9 <span style=\"color: grey\">(3.6%) </span></td>\n",
       "      <td id=\"T_1959e_row2_col1\" class=\"data row2 col1\" >2 <span style=\"color: grey\">(0.8%) </span></td>\n",
       "      <td id=\"T_1959e_row2_col2\" class=\"data row2 col2\" ><span style=\"color: grey\">0 </span></td>\n",
       "      <td id=\"T_1959e_row2_col3\" class=\"data row2 col3\" ><span style=\"color: grey\">0 </span></td>\n",
       "      <td id=\"T_1959e_row2_col4\" class=\"data row2 col4\" >11 <span style=\"color: grey\">(4.3%) </span></td>\n",
       "    </tr>\n",
       "    <tr>\n",
       "      <th id=\"T_1959e_level0_row3\" class=\"row_heading level0 row3\" >Chest</th>\n",
       "      <td id=\"T_1959e_row3_col0\" class=\"data row3 col0\" >4 <span style=\"color: grey\">(1.6%) </span></td>\n",
       "      <td id=\"T_1959e_row3_col1\" class=\"data row3 col1\" >1 <span style=\"color: grey\">(0.4%) </span></td>\n",
       "      <td id=\"T_1959e_row3_col2\" class=\"data row3 col2\" ><span style=\"color: grey\">0 </span></td>\n",
       "      <td id=\"T_1959e_row3_col3\" class=\"data row3 col3\" ><span style=\"color: grey\">0 </span></td>\n",
       "      <td id=\"T_1959e_row3_col4\" class=\"data row3 col4\" >5 <span style=\"color: grey\">(2.0%) </span></td>\n",
       "    </tr>\n",
       "    <tr>\n",
       "      <th id=\"T_1959e_level0_row4\" class=\"row_heading level0 row4\" >Coccyx</th>\n",
       "      <td id=\"T_1959e_row4_col0\" class=\"data row4 col0\" >3 <span style=\"color: grey\">(1.2%) </span></td>\n",
       "      <td id=\"T_1959e_row4_col1\" class=\"data row4 col1\" ><span style=\"color: grey\">0 </span></td>\n",
       "      <td id=\"T_1959e_row4_col2\" class=\"data row4 col2\" ><span style=\"color: grey\">0 </span></td>\n",
       "      <td id=\"T_1959e_row4_col3\" class=\"data row4 col3\" ><span style=\"color: grey\">0 </span></td>\n",
       "      <td id=\"T_1959e_row4_col4\" class=\"data row4 col4\" >3 <span style=\"color: grey\">(1.2%) </span></td>\n",
       "    </tr>\n",
       "    <tr>\n",
       "      <th id=\"T_1959e_level0_row5\" class=\"row_heading level0 row5\" >Full body</th>\n",
       "      <td id=\"T_1959e_row5_col0\" class=\"data row5 col0\" >6 <span style=\"color: grey\">(2.4%) </span></td>\n",
       "      <td id=\"T_1959e_row5_col1\" class=\"data row5 col1\" >2 <span style=\"color: grey\">(0.8%) </span></td>\n",
       "      <td id=\"T_1959e_row5_col2\" class=\"data row5 col2\" >1 <span style=\"color: grey\">(0.4%) </span></td>\n",
       "      <td id=\"T_1959e_row5_col3\" class=\"data row5 col3\" ><span style=\"color: grey\">0 </span></td>\n",
       "      <td id=\"T_1959e_row5_col4\" class=\"data row5 col4\" >9 <span style=\"color: grey\">(3.6%) </span></td>\n",
       "    </tr>\n",
       "    <tr>\n",
       "      <th id=\"T_1959e_level0_row6\" class=\"row_heading level0 row6\" >Hals</th>\n",
       "      <td id=\"T_1959e_row6_col0\" class=\"data row6 col0\" ><span style=\"color: grey\">0 </span></td>\n",
       "      <td id=\"T_1959e_row6_col1\" class=\"data row6 col1\" ><span style=\"color: grey\">0 </span></td>\n",
       "      <td id=\"T_1959e_row6_col2\" class=\"data row6 col2\" ><span style=\"color: grey\">0 </span></td>\n",
       "      <td id=\"T_1959e_row6_col3\" class=\"data row6 col3\" >1 <span style=\"color: grey\">(0.4%) </span></td>\n",
       "      <td id=\"T_1959e_row6_col4\" class=\"data row6 col4\" >1 <span style=\"color: grey\">(0.4%) </span></td>\n",
       "    </tr>\n",
       "    <tr>\n",
       "      <th id=\"T_1959e_level0_row7\" class=\"row_heading level0 row7\" >Head</th>\n",
       "      <td id=\"T_1959e_row7_col0\" class=\"data row7 col0\" >13 <span style=\"color: grey\">(5.1%) </span></td>\n",
       "      <td id=\"T_1959e_row7_col1\" class=\"data row7 col1\" >16 <span style=\"color: grey\">(6.3%) </span></td>\n",
       "      <td id=\"T_1959e_row7_col2\" class=\"data row7 col2\" ><span style=\"color: grey\">0 </span></td>\n",
       "      <td id=\"T_1959e_row7_col3\" class=\"data row7 col3\" ><span style=\"color: grey\">0 </span></td>\n",
       "      <td id=\"T_1959e_row7_col4\" class=\"data row7 col4\" >29 <span style=\"color: grey\">(11.5%) </span></td>\n",
       "    </tr>\n",
       "    <tr>\n",
       "      <th id=\"T_1959e_level0_row8\" class=\"row_heading level0 row8\" >Innere Medizin</th>\n",
       "      <td id=\"T_1959e_row8_col0\" class=\"data row8 col0\" >86 <span style=\"color: grey\">(34.0%) </span></td>\n",
       "      <td id=\"T_1959e_row8_col1\" class=\"data row8 col1\" >6 <span style=\"color: grey\">(2.4%) </span></td>\n",
       "      <td id=\"T_1959e_row8_col2\" class=\"data row8 col2\" ><span style=\"color: grey\">0 </span></td>\n",
       "      <td id=\"T_1959e_row8_col3\" class=\"data row8 col3\" ><span style=\"color: grey\">0 </span></td>\n",
       "      <td id=\"T_1959e_row8_col4\" class=\"data row8 col4\" >92 <span style=\"color: grey\">(36.4%) </span></td>\n",
       "    </tr>\n",
       "    <tr>\n",
       "      <th id=\"T_1959e_level0_row9\" class=\"row_heading level0 row9\" >Intestine</th>\n",
       "      <td id=\"T_1959e_row9_col0\" class=\"data row9 col0\" >5 <span style=\"color: grey\">(2.0%) </span></td>\n",
       "      <td id=\"T_1959e_row9_col1\" class=\"data row9 col1\" ><span style=\"color: grey\">0 </span></td>\n",
       "      <td id=\"T_1959e_row9_col2\" class=\"data row9 col2\" ><span style=\"color: grey\">0 </span></td>\n",
       "      <td id=\"T_1959e_row9_col3\" class=\"data row9 col3\" ><span style=\"color: grey\">0 </span></td>\n",
       "      <td id=\"T_1959e_row9_col4\" class=\"data row9 col4\" >5 <span style=\"color: grey\">(2.0%) </span></td>\n",
       "    </tr>\n",
       "    <tr>\n",
       "      <th id=\"T_1959e_level0_row10\" class=\"row_heading level0 row10\" >Intimate area</th>\n",
       "      <td id=\"T_1959e_row10_col0\" class=\"data row10 col0\" ><span style=\"color: grey\">0 </span></td>\n",
       "      <td id=\"T_1959e_row10_col1\" class=\"data row10 col1\" >1 <span style=\"color: grey\">(0.4%) </span></td>\n",
       "      <td id=\"T_1959e_row10_col2\" class=\"data row10 col2\" ><span style=\"color: grey\">0 </span></td>\n",
       "      <td id=\"T_1959e_row10_col3\" class=\"data row10 col3\" ><span style=\"color: grey\">0 </span></td>\n",
       "      <td id=\"T_1959e_row10_col4\" class=\"data row10 col4\" >1 <span style=\"color: grey\">(0.4%) </span></td>\n",
       "    </tr>\n",
       "    <tr>\n",
       "      <th id=\"T_1959e_level0_row11\" class=\"row_heading level0 row11\" >Lower extremities</th>\n",
       "      <td id=\"T_1959e_row11_col0\" class=\"data row11 col0\" >38 <span style=\"color: grey\">(15.0%) </span></td>\n",
       "      <td id=\"T_1959e_row11_col1\" class=\"data row11 col1\" >13 <span style=\"color: grey\">(5.1%) </span></td>\n",
       "      <td id=\"T_1959e_row11_col2\" class=\"data row11 col2\" >2 <span style=\"color: grey\">(0.8%) </span></td>\n",
       "      <td id=\"T_1959e_row11_col3\" class=\"data row11 col3\" ><span style=\"color: grey\">0 </span></td>\n",
       "      <td id=\"T_1959e_row11_col4\" class=\"data row11 col4\" >53 <span style=\"color: grey\">(20.9%) </span></td>\n",
       "    </tr>\n",
       "    <tr>\n",
       "      <th id=\"T_1959e_level0_row12\" class=\"row_heading level0 row12\" >Upper extremities</th>\n",
       "      <td id=\"T_1959e_row12_col0\" class=\"data row12 col0\" >7 <span style=\"color: grey\">(2.8%) </span></td>\n",
       "      <td id=\"T_1959e_row12_col1\" class=\"data row12 col1\" >7 <span style=\"color: grey\">(2.8%) </span></td>\n",
       "      <td id=\"T_1959e_row12_col2\" class=\"data row12 col2\" ><span style=\"color: grey\">0 </span></td>\n",
       "      <td id=\"T_1959e_row12_col3\" class=\"data row12 col3\" ><span style=\"color: grey\">0 </span></td>\n",
       "      <td id=\"T_1959e_row12_col4\" class=\"data row12 col4\" >14 <span style=\"color: grey\">(5.5%) </span></td>\n",
       "    </tr>\n",
       "    <tr>\n",
       "      <th id=\"T_1959e_level0_row13\" class=\"row_heading level0 row13\" >Total</th>\n",
       "      <td id=\"T_1959e_row13_col0\" class=\"data row13 col0\" >192 <span style=\"color: grey\">(75.9%) </span></td>\n",
       "      <td id=\"T_1959e_row13_col1\" class=\"data row13 col1\" >57 <span style=\"color: grey\">(22.5%) </span></td>\n",
       "      <td id=\"T_1959e_row13_col2\" class=\"data row13 col2\" >3 <span style=\"color: grey\">(1.2%) </span></td>\n",
       "      <td id=\"T_1959e_row13_col3\" class=\"data row13 col3\" >1 <span style=\"color: grey\">(0.4%) </span></td>\n",
       "      <td id=\"T_1959e_row13_col4\" class=\"data row13 col4\" >253 <span style=\"color: grey\">(100.0%) </span></td>\n",
       "    </tr>\n",
       "  </tbody>\n",
       "</table>\n"
      ],
      "text/plain": [
       "<pandas.io.formats.style.Styler at 0x1762f76b0>"
      ]
     },
     "metadata": {},
     "output_type": "display_data"
    },
    {
     "data": {
      "text/html": [
       "<style type=\"text/css\">\n",
       "#T_93a25 th:first-child {\n",
       "  min-width: 400px !important;\n",
       "  max-width: 400px !important;\n",
       "  white-space: nowrap;\n",
       "  overflow: hidden;\n",
       "}\n",
       "#T_93a25  td:first-child {\n",
       "  min-width: 400px !important;\n",
       "  max-width: 400px !important;\n",
       "  white-space: nowrap;\n",
       "  overflow: hidden;\n",
       "}\n",
       "#T_93a25_row0_col0 {\n",
       "  width: 10em;\n",
       "  background: linear-gradient(90deg, lightblue 99.5%, transparent 99.5%);\n",
       "  font-family: Courier;\n",
       "}\n",
       "#T_93a25_row0_col1, #T_93a25_row2_col3, #T_93a25_row3_col0, #T_93a25_row3_col1, #T_93a25_row3_col2, #T_93a25_row3_col3, #T_93a25_row3_col4 {\n",
       "  width: 10em;\n",
       "  background: linear-gradient(90deg, lightblue 100.0%, transparent 100.0%);\n",
       "  font-family: Courier;\n",
       "}\n",
       "#T_93a25_row0_col2, #T_93a25_row1_col2, #T_93a25_row2_col2 {\n",
       "  width: 10em;\n",
       "  background: linear-gradient(90deg, lightblue 33.3%, transparent 33.3%);\n",
       "  font-family: Courier;\n",
       "}\n",
       "#T_93a25_row0_col3, #T_93a25_row1_col0, #T_93a25_row1_col1, #T_93a25_row1_col3, #T_93a25_row2_col1 {\n",
       "  width: 10em;\n",
       "  font-family: Courier;\n",
       "}\n",
       "#T_93a25_row0_col4 {\n",
       "  width: 10em;\n",
       "  background: linear-gradient(90deg, lightblue 98.3%, transparent 98.3%);\n",
       "  font-family: Courier;\n",
       "}\n",
       "#T_93a25_row1_col4 {\n",
       "  width: 10em;\n",
       "  background: linear-gradient(90deg, lightblue 0.4%, transparent 0.4%);\n",
       "  font-family: Courier;\n",
       "}\n",
       "#T_93a25_row2_col0 {\n",
       "  width: 10em;\n",
       "  background: linear-gradient(90deg, lightblue 0.5%, transparent 0.5%);\n",
       "  font-family: Courier;\n",
       "}\n",
       "#T_93a25_row2_col4 {\n",
       "  width: 10em;\n",
       "  background: linear-gradient(90deg, lightblue 1.2%, transparent 1.2%);\n",
       "  font-family: Courier;\n",
       "}\n",
       "</style>\n",
       "<table id=\"T_93a25\">\n",
       "  <thead>\n",
       "    <tr>\n",
       "      <th class=\"index_name level0\" >[01.01] CTCAE</th>\n",
       "      <th id=\"T_93a25_level0_col0\" class=\"col_heading level0 col0\" >1</th>\n",
       "      <th id=\"T_93a25_level0_col1\" class=\"col_heading level0 col1\" >2</th>\n",
       "      <th id=\"T_93a25_level0_col2\" class=\"col_heading level0 col2\" >3</th>\n",
       "      <th id=\"T_93a25_level0_col3\" class=\"col_heading level0 col3\" >4</th>\n",
       "      <th id=\"T_93a25_level0_col4\" class=\"col_heading level0 col4\" >Total</th>\n",
       "    </tr>\n",
       "    <tr>\n",
       "      <th class=\"index_name level0\" >[03.02] With hospitalization</th>\n",
       "      <th class=\"blank col0\" >&nbsp;</th>\n",
       "      <th class=\"blank col1\" >&nbsp;</th>\n",
       "      <th class=\"blank col2\" >&nbsp;</th>\n",
       "      <th class=\"blank col3\" >&nbsp;</th>\n",
       "      <th class=\"blank col4\" >&nbsp;</th>\n",
       "    </tr>\n",
       "  </thead>\n",
       "  <tbody>\n",
       "    <tr>\n",
       "      <th id=\"T_93a25_level0_row0\" class=\"row_heading level0 row0\" >No</th>\n",
       "      <td id=\"T_93a25_row0_col0\" class=\"data row0 col0\" >183 <span style=\"color: grey\">(76.2%) </span></td>\n",
       "      <td id=\"T_93a25_row0_col1\" class=\"data row0 col1\" >52 <span style=\"color: grey\">(21.7%) </span></td>\n",
       "      <td id=\"T_93a25_row0_col2\" class=\"data row0 col2\" >1 <span style=\"color: grey\">(0.4%) </span></td>\n",
       "      <td id=\"T_93a25_row0_col3\" class=\"data row0 col3\" ><span style=\"color: grey\">0 </span></td>\n",
       "      <td id=\"T_93a25_row0_col4\" class=\"data row0 col4\" >236 <span style=\"color: grey\">(98.3%) </span></td>\n",
       "    </tr>\n",
       "    <tr>\n",
       "      <th id=\"T_93a25_level0_row1\" class=\"row_heading level0 row1\" >Weiß nicht</th>\n",
       "      <td id=\"T_93a25_row1_col0\" class=\"data row1 col0\" ><span style=\"color: grey\">0 </span></td>\n",
       "      <td id=\"T_93a25_row1_col1\" class=\"data row1 col1\" ><span style=\"color: grey\">0 </span></td>\n",
       "      <td id=\"T_93a25_row1_col2\" class=\"data row1 col2\" >1 <span style=\"color: grey\">(0.4%) </span></td>\n",
       "      <td id=\"T_93a25_row1_col3\" class=\"data row1 col3\" ><span style=\"color: grey\">0 </span></td>\n",
       "      <td id=\"T_93a25_row1_col4\" class=\"data row1 col4\" >1 <span style=\"color: grey\">(0.4%) </span></td>\n",
       "    </tr>\n",
       "    <tr>\n",
       "      <th id=\"T_93a25_level0_row2\" class=\"row_heading level0 row2\" >Yes</th>\n",
       "      <td id=\"T_93a25_row2_col0\" class=\"data row2 col0\" >1 <span style=\"color: grey\">(0.4%) </span></td>\n",
       "      <td id=\"T_93a25_row2_col1\" class=\"data row2 col1\" ><span style=\"color: grey\">0 </span></td>\n",
       "      <td id=\"T_93a25_row2_col2\" class=\"data row2 col2\" >1 <span style=\"color: grey\">(0.4%) </span></td>\n",
       "      <td id=\"T_93a25_row2_col3\" class=\"data row2 col3\" >1 <span style=\"color: grey\">(0.4%) </span></td>\n",
       "      <td id=\"T_93a25_row2_col4\" class=\"data row2 col4\" >3 <span style=\"color: grey\">(1.2%) </span></td>\n",
       "    </tr>\n",
       "    <tr>\n",
       "      <th id=\"T_93a25_level0_row3\" class=\"row_heading level0 row3\" >Total</th>\n",
       "      <td id=\"T_93a25_row3_col0\" class=\"data row3 col0\" >184 <span style=\"color: grey\">(76.7%) </span></td>\n",
       "      <td id=\"T_93a25_row3_col1\" class=\"data row3 col1\" >52 <span style=\"color: grey\">(21.7%) </span></td>\n",
       "      <td id=\"T_93a25_row3_col2\" class=\"data row3 col2\" >3 <span style=\"color: grey\">(1.2%) </span></td>\n",
       "      <td id=\"T_93a25_row3_col3\" class=\"data row3 col3\" >1 <span style=\"color: grey\">(0.4%) </span></td>\n",
       "      <td id=\"T_93a25_row3_col4\" class=\"data row3 col4\" >240 <span style=\"color: grey\">(100.0%) </span></td>\n",
       "    </tr>\n",
       "  </tbody>\n",
       "</table>\n"
      ],
      "text/plain": [
       "<pandas.io.formats.style.Styler at 0x1762c6a50>"
      ]
     },
     "metadata": {},
     "output_type": "display_data"
    },
    {
     "data": {
      "text/html": [
       "<style type=\"text/css\">\n",
       "#T_2c877 th:first-child {\n",
       "  min-width: 400px !important;\n",
       "  max-width: 400px !important;\n",
       "  white-space: nowrap;\n",
       "  overflow: hidden;\n",
       "}\n",
       "#T_2c877  td:first-child {\n",
       "  min-width: 400px !important;\n",
       "  max-width: 400px !important;\n",
       "  white-space: nowrap;\n",
       "  overflow: hidden;\n",
       "}\n",
       "#T_2c877_row0_col0 {\n",
       "  width: 10em;\n",
       "  background: linear-gradient(90deg, lightblue 92.9%, transparent 92.9%);\n",
       "  font-family: Courier;\n",
       "}\n",
       "#T_2c877_row0_col1 {\n",
       "  width: 10em;\n",
       "  background: linear-gradient(90deg, lightblue 19.2%, transparent 19.2%);\n",
       "  font-family: Courier;\n",
       "}\n",
       "#T_2c877_row0_col2, #T_2c877_row0_col3, #T_2c877_row1_col1, #T_2c877_row1_col2, #T_2c877_row1_col3 {\n",
       "  width: 10em;\n",
       "  font-family: Courier;\n",
       "}\n",
       "#T_2c877_row0_col4 {\n",
       "  width: 10em;\n",
       "  background: linear-gradient(90deg, lightblue 75.4%, transparent 75.4%);\n",
       "  font-family: Courier;\n",
       "}\n",
       "#T_2c877_row1_col0 {\n",
       "  width: 10em;\n",
       "  background: linear-gradient(90deg, lightblue 2.2%, transparent 2.2%);\n",
       "  font-family: Courier;\n",
       "}\n",
       "#T_2c877_row1_col4 {\n",
       "  width: 10em;\n",
       "  background: linear-gradient(90deg, lightblue 1.7%, transparent 1.7%);\n",
       "  font-family: Courier;\n",
       "}\n",
       "#T_2c877_row2_col0 {\n",
       "  width: 10em;\n",
       "  background: linear-gradient(90deg, lightblue 4.9%, transparent 4.9%);\n",
       "  font-family: Courier;\n",
       "}\n",
       "#T_2c877_row2_col1 {\n",
       "  width: 10em;\n",
       "  background: linear-gradient(90deg, lightblue 80.8%, transparent 80.8%);\n",
       "  font-family: Courier;\n",
       "}\n",
       "#T_2c877_row2_col2, #T_2c877_row2_col3, #T_2c877_row3_col0, #T_2c877_row3_col1, #T_2c877_row3_col2, #T_2c877_row3_col3, #T_2c877_row3_col4 {\n",
       "  width: 10em;\n",
       "  background: linear-gradient(90deg, lightblue 100.0%, transparent 100.0%);\n",
       "  font-family: Courier;\n",
       "}\n",
       "#T_2c877_row2_col4 {\n",
       "  width: 10em;\n",
       "  background: linear-gradient(90deg, lightblue 22.9%, transparent 22.9%);\n",
       "  font-family: Courier;\n",
       "}\n",
       "</style>\n",
       "<table id=\"T_2c877\">\n",
       "  <thead>\n",
       "    <tr>\n",
       "      <th class=\"index_name level0\" >[01.01] CTCAE</th>\n",
       "      <th id=\"T_2c877_level0_col0\" class=\"col_heading level0 col0\" >1</th>\n",
       "      <th id=\"T_2c877_level0_col1\" class=\"col_heading level0 col1\" >2</th>\n",
       "      <th id=\"T_2c877_level0_col2\" class=\"col_heading level0 col2\" >3</th>\n",
       "      <th id=\"T_2c877_level0_col3\" class=\"col_heading level0 col3\" >4</th>\n",
       "      <th id=\"T_2c877_level0_col4\" class=\"col_heading level0 col4\" >Total</th>\n",
       "    </tr>\n",
       "    <tr>\n",
       "      <th class=\"index_name level0\" >[03.03] Medical follow-up treatment</th>\n",
       "      <th class=\"blank col0\" >&nbsp;</th>\n",
       "      <th class=\"blank col1\" >&nbsp;</th>\n",
       "      <th class=\"blank col2\" >&nbsp;</th>\n",
       "      <th class=\"blank col3\" >&nbsp;</th>\n",
       "      <th class=\"blank col4\" >&nbsp;</th>\n",
       "    </tr>\n",
       "  </thead>\n",
       "  <tbody>\n",
       "    <tr>\n",
       "      <th id=\"T_2c877_level0_row0\" class=\"row_heading level0 row0\" >No</th>\n",
       "      <td id=\"T_2c877_row0_col0\" class=\"data row0 col0\" >171 <span style=\"color: grey\">(71.2%) </span></td>\n",
       "      <td id=\"T_2c877_row0_col1\" class=\"data row0 col1\" >10 <span style=\"color: grey\">(4.2%) </span></td>\n",
       "      <td id=\"T_2c877_row0_col2\" class=\"data row0 col2\" ><span style=\"color: grey\">0 </span></td>\n",
       "      <td id=\"T_2c877_row0_col3\" class=\"data row0 col3\" ><span style=\"color: grey\">0 </span></td>\n",
       "      <td id=\"T_2c877_row0_col4\" class=\"data row0 col4\" >181 <span style=\"color: grey\">(75.4%) </span></td>\n",
       "    </tr>\n",
       "    <tr>\n",
       "      <th id=\"T_2c877_level0_row1\" class=\"row_heading level0 row1\" >Weiß nicht</th>\n",
       "      <td id=\"T_2c877_row1_col0\" class=\"data row1 col0\" >4 <span style=\"color: grey\">(1.7%) </span></td>\n",
       "      <td id=\"T_2c877_row1_col1\" class=\"data row1 col1\" ><span style=\"color: grey\">0 </span></td>\n",
       "      <td id=\"T_2c877_row1_col2\" class=\"data row1 col2\" ><span style=\"color: grey\">0 </span></td>\n",
       "      <td id=\"T_2c877_row1_col3\" class=\"data row1 col3\" ><span style=\"color: grey\">0 </span></td>\n",
       "      <td id=\"T_2c877_row1_col4\" class=\"data row1 col4\" >4 <span style=\"color: grey\">(1.7%) </span></td>\n",
       "    </tr>\n",
       "    <tr>\n",
       "      <th id=\"T_2c877_level0_row2\" class=\"row_heading level0 row2\" >Yes</th>\n",
       "      <td id=\"T_2c877_row2_col0\" class=\"data row2 col0\" >9 <span style=\"color: grey\">(3.8%) </span></td>\n",
       "      <td id=\"T_2c877_row2_col1\" class=\"data row2 col1\" >42 <span style=\"color: grey\">(17.5%) </span></td>\n",
       "      <td id=\"T_2c877_row2_col2\" class=\"data row2 col2\" >3 <span style=\"color: grey\">(1.2%) </span></td>\n",
       "      <td id=\"T_2c877_row2_col3\" class=\"data row2 col3\" >1 <span style=\"color: grey\">(0.4%) </span></td>\n",
       "      <td id=\"T_2c877_row2_col4\" class=\"data row2 col4\" >55 <span style=\"color: grey\">(22.9%) </span></td>\n",
       "    </tr>\n",
       "    <tr>\n",
       "      <th id=\"T_2c877_level0_row3\" class=\"row_heading level0 row3\" >Total</th>\n",
       "      <td id=\"T_2c877_row3_col0\" class=\"data row3 col0\" >184 <span style=\"color: grey\">(76.7%) </span></td>\n",
       "      <td id=\"T_2c877_row3_col1\" class=\"data row3 col1\" >52 <span style=\"color: grey\">(21.7%) </span></td>\n",
       "      <td id=\"T_2c877_row3_col2\" class=\"data row3 col2\" >3 <span style=\"color: grey\">(1.2%) </span></td>\n",
       "      <td id=\"T_2c877_row3_col3\" class=\"data row3 col3\" >1 <span style=\"color: grey\">(0.4%) </span></td>\n",
       "      <td id=\"T_2c877_row3_col4\" class=\"data row3 col4\" >240 <span style=\"color: grey\">(100.0%) </span></td>\n",
       "    </tr>\n",
       "  </tbody>\n",
       "</table>\n"
      ],
      "text/plain": [
       "<pandas.io.formats.style.Styler at 0x1762f4ec0>"
      ]
     },
     "metadata": {},
     "output_type": "display_data"
    },
    {
     "data": {
      "text/html": [
       "<style type=\"text/css\">\n",
       "#T_0ec7f th:first-child {\n",
       "  min-width: 400px !important;\n",
       "  max-width: 400px !important;\n",
       "  white-space: nowrap;\n",
       "  overflow: hidden;\n",
       "}\n",
       "#T_0ec7f  td:first-child {\n",
       "  min-width: 400px !important;\n",
       "  max-width: 400px !important;\n",
       "  white-space: nowrap;\n",
       "  overflow: hidden;\n",
       "}\n",
       "#T_0ec7f_row0_col0, #T_0ec7f_row0_col1, #T_0ec7f_row0_col2, #T_0ec7f_row0_col3, #T_0ec7f_row0_col4, #T_0ec7f_row1_col0, #T_0ec7f_row1_col1, #T_0ec7f_row1_col2, #T_0ec7f_row1_col3, #T_0ec7f_row1_col4 {\n",
       "  width: 10em;\n",
       "  background: linear-gradient(90deg, lightblue 100.0%, transparent 100.0%);\n",
       "  font-family: Courier;\n",
       "}\n",
       "</style>\n",
       "<table id=\"T_0ec7f\">\n",
       "  <thead>\n",
       "    <tr>\n",
       "      <th class=\"index_name level0\" >[01.01] CTCAE</th>\n",
       "      <th id=\"T_0ec7f_level0_col0\" class=\"col_heading level0 col0\" >1</th>\n",
       "      <th id=\"T_0ec7f_level0_col1\" class=\"col_heading level0 col1\" >2</th>\n",
       "      <th id=\"T_0ec7f_level0_col2\" class=\"col_heading level0 col2\" >3</th>\n",
       "      <th id=\"T_0ec7f_level0_col3\" class=\"col_heading level0 col3\" >4</th>\n",
       "      <th id=\"T_0ec7f_level0_col4\" class=\"col_heading level0 col4\" >Total</th>\n",
       "    </tr>\n",
       "    <tr>\n",
       "      <th class=\"index_name level0\" >[03.04] With delayed therapy protocol</th>\n",
       "      <th class=\"blank col0\" >&nbsp;</th>\n",
       "      <th class=\"blank col1\" >&nbsp;</th>\n",
       "      <th class=\"blank col2\" >&nbsp;</th>\n",
       "      <th class=\"blank col3\" >&nbsp;</th>\n",
       "      <th class=\"blank col4\" >&nbsp;</th>\n",
       "    </tr>\n",
       "  </thead>\n",
       "  <tbody>\n",
       "    <tr>\n",
       "      <th id=\"T_0ec7f_level0_row0\" class=\"row_heading level0 row0\" >No</th>\n",
       "      <td id=\"T_0ec7f_row0_col0\" class=\"data row0 col0\" >183 <span style=\"color: grey\">(76.6%) </span></td>\n",
       "      <td id=\"T_0ec7f_row0_col1\" class=\"data row0 col1\" >52 <span style=\"color: grey\">(21.8%) </span></td>\n",
       "      <td id=\"T_0ec7f_row0_col2\" class=\"data row0 col2\" >3 <span style=\"color: grey\">(1.3%) </span></td>\n",
       "      <td id=\"T_0ec7f_row0_col3\" class=\"data row0 col3\" >1 <span style=\"color: grey\">(0.4%) </span></td>\n",
       "      <td id=\"T_0ec7f_row0_col4\" class=\"data row0 col4\" >239 <span style=\"color: grey\">(100.0%) </span></td>\n",
       "    </tr>\n",
       "    <tr>\n",
       "      <th id=\"T_0ec7f_level0_row1\" class=\"row_heading level0 row1\" >Total</th>\n",
       "      <td id=\"T_0ec7f_row1_col0\" class=\"data row1 col0\" >183 <span style=\"color: grey\">(76.6%) </span></td>\n",
       "      <td id=\"T_0ec7f_row1_col1\" class=\"data row1 col1\" >52 <span style=\"color: grey\">(21.8%) </span></td>\n",
       "      <td id=\"T_0ec7f_row1_col2\" class=\"data row1 col2\" >3 <span style=\"color: grey\">(1.3%) </span></td>\n",
       "      <td id=\"T_0ec7f_row1_col3\" class=\"data row1 col3\" >1 <span style=\"color: grey\">(0.4%) </span></td>\n",
       "      <td id=\"T_0ec7f_row1_col4\" class=\"data row1 col4\" >239 <span style=\"color: grey\">(100.0%) </span></td>\n",
       "    </tr>\n",
       "  </tbody>\n",
       "</table>\n"
      ],
      "text/plain": [
       "<pandas.io.formats.style.Styler at 0x1762f6630>"
      ]
     },
     "metadata": {},
     "output_type": "display_data"
    },
    {
     "data": {
      "text/html": [
       "<style type=\"text/css\">\n",
       "#T_845c6 th:first-child {\n",
       "  min-width: 400px !important;\n",
       "  max-width: 400px !important;\n",
       "  white-space: nowrap;\n",
       "  overflow: hidden;\n",
       "}\n",
       "#T_845c6  td:first-child {\n",
       "  min-width: 400px !important;\n",
       "  max-width: 400px !important;\n",
       "  white-space: nowrap;\n",
       "  overflow: hidden;\n",
       "}\n",
       "#T_845c6_row0_col0 {\n",
       "  width: 10em;\n",
       "  background: linear-gradient(90deg, lightblue 99.5%, transparent 99.5%);\n",
       "  font-family: Courier;\n",
       "}\n",
       "#T_845c6_row0_col1, #T_845c6_row0_col3, #T_845c6_row1_col2, #T_845c6_row2_col0, #T_845c6_row2_col1, #T_845c6_row2_col2, #T_845c6_row2_col3, #T_845c6_row2_col4 {\n",
       "  width: 10em;\n",
       "  background: linear-gradient(90deg, lightblue 100.0%, transparent 100.0%);\n",
       "  font-family: Courier;\n",
       "}\n",
       "#T_845c6_row0_col2, #T_845c6_row1_col1, #T_845c6_row1_col3 {\n",
       "  width: 10em;\n",
       "  font-family: Courier;\n",
       "}\n",
       "#T_845c6_row0_col4 {\n",
       "  width: 10em;\n",
       "  background: linear-gradient(90deg, lightblue 98.3%, transparent 98.3%);\n",
       "  font-family: Courier;\n",
       "}\n",
       "#T_845c6_row1_col0 {\n",
       "  width: 10em;\n",
       "  background: linear-gradient(90deg, lightblue 0.5%, transparent 0.5%);\n",
       "  font-family: Courier;\n",
       "}\n",
       "#T_845c6_row1_col4 {\n",
       "  width: 10em;\n",
       "  background: linear-gradient(90deg, lightblue 1.7%, transparent 1.7%);\n",
       "  font-family: Courier;\n",
       "}\n",
       "</style>\n",
       "<table id=\"T_845c6\">\n",
       "  <thead>\n",
       "    <tr>\n",
       "      <th class=\"index_name level0\" >[01.01] CTCAE</th>\n",
       "      <th id=\"T_845c6_level0_col0\" class=\"col_heading level0 col0\" >1</th>\n",
       "      <th id=\"T_845c6_level0_col1\" class=\"col_heading level0 col1\" >2</th>\n",
       "      <th id=\"T_845c6_level0_col2\" class=\"col_heading level0 col2\" >3</th>\n",
       "      <th id=\"T_845c6_level0_col3\" class=\"col_heading level0 col3\" >4</th>\n",
       "      <th id=\"T_845c6_level0_col4\" class=\"col_heading level0 col4\" >Total</th>\n",
       "    </tr>\n",
       "    <tr>\n",
       "      <th class=\"index_name level0\" >[03.06] Increased care needs</th>\n",
       "      <th class=\"blank col0\" >&nbsp;</th>\n",
       "      <th class=\"blank col1\" >&nbsp;</th>\n",
       "      <th class=\"blank col2\" >&nbsp;</th>\n",
       "      <th class=\"blank col3\" >&nbsp;</th>\n",
       "      <th class=\"blank col4\" >&nbsp;</th>\n",
       "    </tr>\n",
       "  </thead>\n",
       "  <tbody>\n",
       "    <tr>\n",
       "      <th id=\"T_845c6_level0_row0\" class=\"row_heading level0 row0\" >No</th>\n",
       "      <td id=\"T_845c6_row0_col0\" class=\"data row0 col0\" >183 <span style=\"color: grey\">(76.2%) </span></td>\n",
       "      <td id=\"T_845c6_row0_col1\" class=\"data row0 col1\" >52 <span style=\"color: grey\">(21.7%) </span></td>\n",
       "      <td id=\"T_845c6_row0_col2\" class=\"data row0 col2\" ><span style=\"color: grey\">0 </span></td>\n",
       "      <td id=\"T_845c6_row0_col3\" class=\"data row0 col3\" >1 <span style=\"color: grey\">(0.4%) </span></td>\n",
       "      <td id=\"T_845c6_row0_col4\" class=\"data row0 col4\" >236 <span style=\"color: grey\">(98.3%) </span></td>\n",
       "    </tr>\n",
       "    <tr>\n",
       "      <th id=\"T_845c6_level0_row1\" class=\"row_heading level0 row1\" >Yes</th>\n",
       "      <td id=\"T_845c6_row1_col0\" class=\"data row1 col0\" >1 <span style=\"color: grey\">(0.4%) </span></td>\n",
       "      <td id=\"T_845c6_row1_col1\" class=\"data row1 col1\" ><span style=\"color: grey\">0 </span></td>\n",
       "      <td id=\"T_845c6_row1_col2\" class=\"data row1 col2\" >3 <span style=\"color: grey\">(1.2%) </span></td>\n",
       "      <td id=\"T_845c6_row1_col3\" class=\"data row1 col3\" ><span style=\"color: grey\">0 </span></td>\n",
       "      <td id=\"T_845c6_row1_col4\" class=\"data row1 col4\" >4 <span style=\"color: grey\">(1.7%) </span></td>\n",
       "    </tr>\n",
       "    <tr>\n",
       "      <th id=\"T_845c6_level0_row2\" class=\"row_heading level0 row2\" >Total</th>\n",
       "      <td id=\"T_845c6_row2_col0\" class=\"data row2 col0\" >184 <span style=\"color: grey\">(76.7%) </span></td>\n",
       "      <td id=\"T_845c6_row2_col1\" class=\"data row2 col1\" >52 <span style=\"color: grey\">(21.7%) </span></td>\n",
       "      <td id=\"T_845c6_row2_col2\" class=\"data row2 col2\" >3 <span style=\"color: grey\">(1.2%) </span></td>\n",
       "      <td id=\"T_845c6_row2_col3\" class=\"data row2 col3\" >1 <span style=\"color: grey\">(0.4%) </span></td>\n",
       "      <td id=\"T_845c6_row2_col4\" class=\"data row2 col4\" >240 <span style=\"color: grey\">(100.0%) </span></td>\n",
       "    </tr>\n",
       "  </tbody>\n",
       "</table>\n"
      ],
      "text/plain": [
       "<pandas.io.formats.style.Styler at 0x1762f6570>"
      ]
     },
     "metadata": {},
     "output_type": "display_data"
    },
    {
     "data": {
      "text/html": [
       "<style type=\"text/css\">\n",
       "#T_e9ac9 th:first-child {\n",
       "  min-width: 400px !important;\n",
       "  max-width: 400px !important;\n",
       "  white-space: nowrap;\n",
       "  overflow: hidden;\n",
       "}\n",
       "#T_e9ac9  td:first-child {\n",
       "  min-width: 400px !important;\n",
       "  max-width: 400px !important;\n",
       "  white-space: nowrap;\n",
       "  overflow: hidden;\n",
       "}\n",
       "#T_e9ac9_row0_col0 {\n",
       "  width: 10em;\n",
       "  background: linear-gradient(90deg, lightblue 86.3%, transparent 86.3%);\n",
       "  font-family: Courier;\n",
       "}\n",
       "#T_e9ac9_row0_col1 {\n",
       "  width: 10em;\n",
       "  background: linear-gradient(90deg, lightblue 68.1%, transparent 68.1%);\n",
       "  font-family: Courier;\n",
       "}\n",
       "#T_e9ac9_row0_col2, #T_e9ac9_row0_col3, #T_e9ac9_row1_col2, #T_e9ac9_row1_col3, #T_e9ac9_row2_col0 {\n",
       "  width: 10em;\n",
       "  font-family: Courier;\n",
       "}\n",
       "#T_e9ac9_row0_col4 {\n",
       "  width: 10em;\n",
       "  background: linear-gradient(90deg, lightblue 81.2%, transparent 81.2%);\n",
       "  font-family: Courier;\n",
       "}\n",
       "#T_e9ac9_row1_col0 {\n",
       "  width: 10em;\n",
       "  background: linear-gradient(90deg, lightblue 13.7%, transparent 13.7%);\n",
       "  font-family: Courier;\n",
       "}\n",
       "#T_e9ac9_row1_col1 {\n",
       "  width: 10em;\n",
       "  background: linear-gradient(90deg, lightblue 25.5%, transparent 25.5%);\n",
       "  font-family: Courier;\n",
       "}\n",
       "#T_e9ac9_row1_col4 {\n",
       "  width: 10em;\n",
       "  background: linear-gradient(90deg, lightblue 15.8%, transparent 15.8%);\n",
       "  font-family: Courier;\n",
       "}\n",
       "#T_e9ac9_row2_col1 {\n",
       "  width: 10em;\n",
       "  background: linear-gradient(90deg, lightblue 6.4%, transparent 6.4%);\n",
       "  font-family: Courier;\n",
       "}\n",
       "#T_e9ac9_row2_col2, #T_e9ac9_row2_col3, #T_e9ac9_row3_col0, #T_e9ac9_row3_col1, #T_e9ac9_row3_col2, #T_e9ac9_row3_col3, #T_e9ac9_row3_col4 {\n",
       "  width: 10em;\n",
       "  background: linear-gradient(90deg, lightblue 100.0%, transparent 100.0%);\n",
       "  font-family: Courier;\n",
       "}\n",
       "#T_e9ac9_row2_col4 {\n",
       "  width: 10em;\n",
       "  background: linear-gradient(90deg, lightblue 3.0%, transparent 3.0%);\n",
       "  font-family: Courier;\n",
       "}\n",
       "</style>\n",
       "<table id=\"T_e9ac9\">\n",
       "  <thead>\n",
       "    <tr>\n",
       "      <th class=\"index_name level0\" >[01.01] CTCAE</th>\n",
       "      <th id=\"T_e9ac9_level0_col0\" class=\"col_heading level0 col0\" >1</th>\n",
       "      <th id=\"T_e9ac9_level0_col1\" class=\"col_heading level0 col1\" >2</th>\n",
       "      <th id=\"T_e9ac9_level0_col2\" class=\"col_heading level0 col2\" >3</th>\n",
       "      <th id=\"T_e9ac9_level0_col3\" class=\"col_heading level0 col3\" >4</th>\n",
       "      <th id=\"T_e9ac9_level0_col4\" class=\"col_heading level0 col4\" >Total</th>\n",
       "    </tr>\n",
       "    <tr>\n",
       "      <th class=\"index_name level0\" >[03.07] With medication administration</th>\n",
       "      <th class=\"blank col0\" >&nbsp;</th>\n",
       "      <th class=\"blank col1\" >&nbsp;</th>\n",
       "      <th class=\"blank col2\" >&nbsp;</th>\n",
       "      <th class=\"blank col3\" >&nbsp;</th>\n",
       "      <th class=\"blank col4\" >&nbsp;</th>\n",
       "    </tr>\n",
       "  </thead>\n",
       "  <tbody>\n",
       "    <tr>\n",
       "      <th id=\"T_e9ac9_level0_row0\" class=\"row_heading level0 row0\" >No</th>\n",
       "      <td id=\"T_e9ac9_row0_col0\" class=\"data row0 col0\" >158 <span style=\"color: grey\">(67.5%) </span></td>\n",
       "      <td id=\"T_e9ac9_row0_col1\" class=\"data row0 col1\" >32 <span style=\"color: grey\">(13.7%) </span></td>\n",
       "      <td id=\"T_e9ac9_row0_col2\" class=\"data row0 col2\" ><span style=\"color: grey\">0 </span></td>\n",
       "      <td id=\"T_e9ac9_row0_col3\" class=\"data row0 col3\" ><span style=\"color: grey\">0 </span></td>\n",
       "      <td id=\"T_e9ac9_row0_col4\" class=\"data row0 col4\" >190 <span style=\"color: grey\">(81.2%) </span></td>\n",
       "    </tr>\n",
       "    <tr>\n",
       "      <th id=\"T_e9ac9_level0_row1\" class=\"row_heading level0 row1\" >Weiß nicht</th>\n",
       "      <td id=\"T_e9ac9_row1_col0\" class=\"data row1 col0\" >25 <span style=\"color: grey\">(10.7%) </span></td>\n",
       "      <td id=\"T_e9ac9_row1_col1\" class=\"data row1 col1\" >12 <span style=\"color: grey\">(5.1%) </span></td>\n",
       "      <td id=\"T_e9ac9_row1_col2\" class=\"data row1 col2\" ><span style=\"color: grey\">0 </span></td>\n",
       "      <td id=\"T_e9ac9_row1_col3\" class=\"data row1 col3\" ><span style=\"color: grey\">0 </span></td>\n",
       "      <td id=\"T_e9ac9_row1_col4\" class=\"data row1 col4\" >37 <span style=\"color: grey\">(15.8%) </span></td>\n",
       "    </tr>\n",
       "    <tr>\n",
       "      <th id=\"T_e9ac9_level0_row2\" class=\"row_heading level0 row2\" >Yes</th>\n",
       "      <td id=\"T_e9ac9_row2_col0\" class=\"data row2 col0\" ><span style=\"color: grey\">0 </span></td>\n",
       "      <td id=\"T_e9ac9_row2_col1\" class=\"data row2 col1\" >3 <span style=\"color: grey\">(1.3%) </span></td>\n",
       "      <td id=\"T_e9ac9_row2_col2\" class=\"data row2 col2\" >3 <span style=\"color: grey\">(1.3%) </span></td>\n",
       "      <td id=\"T_e9ac9_row2_col3\" class=\"data row2 col3\" >1 <span style=\"color: grey\">(0.4%) </span></td>\n",
       "      <td id=\"T_e9ac9_row2_col4\" class=\"data row2 col4\" >7 <span style=\"color: grey\">(3.0%) </span></td>\n",
       "    </tr>\n",
       "    <tr>\n",
       "      <th id=\"T_e9ac9_level0_row3\" class=\"row_heading level0 row3\" >Total</th>\n",
       "      <td id=\"T_e9ac9_row3_col0\" class=\"data row3 col0\" >183 <span style=\"color: grey\">(78.2%) </span></td>\n",
       "      <td id=\"T_e9ac9_row3_col1\" class=\"data row3 col1\" >47 <span style=\"color: grey\">(20.1%) </span></td>\n",
       "      <td id=\"T_e9ac9_row3_col2\" class=\"data row3 col2\" >3 <span style=\"color: grey\">(1.3%) </span></td>\n",
       "      <td id=\"T_e9ac9_row3_col3\" class=\"data row3 col3\" >1 <span style=\"color: grey\">(0.4%) </span></td>\n",
       "      <td id=\"T_e9ac9_row3_col4\" class=\"data row3 col4\" >234 <span style=\"color: grey\">(100.0%) </span></td>\n",
       "    </tr>\n",
       "  </tbody>\n",
       "</table>\n"
      ],
      "text/plain": [
       "<pandas.io.formats.style.Styler at 0x1762f4170>"
      ]
     },
     "metadata": {},
     "output_type": "display_data"
    },
    {
     "data": {
      "text/html": [
       "<style type=\"text/css\">\n",
       "#T_77db3 th:first-child {\n",
       "  min-width: 400px !important;\n",
       "  max-width: 400px !important;\n",
       "  white-space: nowrap;\n",
       "  overflow: hidden;\n",
       "}\n",
       "#T_77db3  td:first-child {\n",
       "  min-width: 400px !important;\n",
       "  max-width: 400px !important;\n",
       "  white-space: nowrap;\n",
       "  overflow: hidden;\n",
       "}\n",
       "#T_77db3_row0_col0 {\n",
       "  width: 10em;\n",
       "  background: linear-gradient(90deg, lightblue 27.3%, transparent 27.3%);\n",
       "  font-family: Courier;\n",
       "}\n",
       "#T_77db3_row0_col1 {\n",
       "  width: 10em;\n",
       "  background: linear-gradient(90deg, lightblue 48.1%, transparent 48.1%);\n",
       "  font-family: Courier;\n",
       "}\n",
       "#T_77db3_row0_col2, #T_77db3_row0_col3, #T_77db3_row2_col0, #T_77db3_row2_col1, #T_77db3_row2_col2, #T_77db3_row2_col3, #T_77db3_row2_col4 {\n",
       "  width: 10em;\n",
       "  background: linear-gradient(90deg, lightblue 100.0%, transparent 100.0%);\n",
       "  font-family: Courier;\n",
       "}\n",
       "#T_77db3_row0_col4 {\n",
       "  width: 10em;\n",
       "  background: linear-gradient(90deg, lightblue 32.8%, transparent 32.8%);\n",
       "  font-family: Courier;\n",
       "}\n",
       "#T_77db3_row1_col0 {\n",
       "  width: 10em;\n",
       "  background: linear-gradient(90deg, lightblue 72.7%, transparent 72.7%);\n",
       "  font-family: Courier;\n",
       "}\n",
       "#T_77db3_row1_col1 {\n",
       "  width: 10em;\n",
       "  background: linear-gradient(90deg, lightblue 51.9%, transparent 51.9%);\n",
       "  font-family: Courier;\n",
       "}\n",
       "#T_77db3_row1_col2, #T_77db3_row1_col3 {\n",
       "  width: 10em;\n",
       "  font-family: Courier;\n",
       "}\n",
       "#T_77db3_row1_col4 {\n",
       "  width: 10em;\n",
       "  background: linear-gradient(90deg, lightblue 67.2%, transparent 67.2%);\n",
       "  font-family: Courier;\n",
       "}\n",
       "</style>\n",
       "<table id=\"T_77db3\">\n",
       "  <thead>\n",
       "    <tr>\n",
       "      <th class=\"index_name level0\" >[01.01] CTCAE</th>\n",
       "      <th id=\"T_77db3_level0_col0\" class=\"col_heading level0 col0\" >1</th>\n",
       "      <th id=\"T_77db3_level0_col1\" class=\"col_heading level0 col1\" >2</th>\n",
       "      <th id=\"T_77db3_level0_col2\" class=\"col_heading level0 col2\" >3</th>\n",
       "      <th id=\"T_77db3_level0_col3\" class=\"col_heading level0 col3\" >4</th>\n",
       "      <th id=\"T_77db3_level0_col4\" class=\"col_heading level0 col4\" >Total</th>\n",
       "    </tr>\n",
       "    <tr>\n",
       "      <th class=\"index_name level0\" >[03.08] Occurrence of fear and uncertainty</th>\n",
       "      <th class=\"blank col0\" >&nbsp;</th>\n",
       "      <th class=\"blank col1\" >&nbsp;</th>\n",
       "      <th class=\"blank col2\" >&nbsp;</th>\n",
       "      <th class=\"blank col3\" >&nbsp;</th>\n",
       "      <th class=\"blank col4\" >&nbsp;</th>\n",
       "    </tr>\n",
       "  </thead>\n",
       "  <tbody>\n",
       "    <tr>\n",
       "      <th id=\"T_77db3_level0_row0\" class=\"row_heading level0 row0\" >Ja</th>\n",
       "      <td id=\"T_77db3_row0_col0\" class=\"data row0 col0\" >50 <span style=\"color: grey\">(21.0%) </span></td>\n",
       "      <td id=\"T_77db3_row0_col1\" class=\"data row0 col1\" >25 <span style=\"color: grey\">(10.5%) </span></td>\n",
       "      <td id=\"T_77db3_row0_col2\" class=\"data row0 col2\" >2 <span style=\"color: grey\">(0.8%) </span></td>\n",
       "      <td id=\"T_77db3_row0_col3\" class=\"data row0 col3\" >1 <span style=\"color: grey\">(0.4%) </span></td>\n",
       "      <td id=\"T_77db3_row0_col4\" class=\"data row0 col4\" >78 <span style=\"color: grey\">(32.8%) </span></td>\n",
       "    </tr>\n",
       "    <tr>\n",
       "      <th id=\"T_77db3_level0_row1\" class=\"row_heading level0 row1\" >Nein</th>\n",
       "      <td id=\"T_77db3_row1_col0\" class=\"data row1 col0\" >133 <span style=\"color: grey\">(55.9%) </span></td>\n",
       "      <td id=\"T_77db3_row1_col1\" class=\"data row1 col1\" >27 <span style=\"color: grey\">(11.3%) </span></td>\n",
       "      <td id=\"T_77db3_row1_col2\" class=\"data row1 col2\" ><span style=\"color: grey\">0 </span></td>\n",
       "      <td id=\"T_77db3_row1_col3\" class=\"data row1 col3\" ><span style=\"color: grey\">0 </span></td>\n",
       "      <td id=\"T_77db3_row1_col4\" class=\"data row1 col4\" >160 <span style=\"color: grey\">(67.2%) </span></td>\n",
       "    </tr>\n",
       "    <tr>\n",
       "      <th id=\"T_77db3_level0_row2\" class=\"row_heading level0 row2\" >Total</th>\n",
       "      <td id=\"T_77db3_row2_col0\" class=\"data row2 col0\" >183 <span style=\"color: grey\">(76.9%) </span></td>\n",
       "      <td id=\"T_77db3_row2_col1\" class=\"data row2 col1\" >52 <span style=\"color: grey\">(21.8%) </span></td>\n",
       "      <td id=\"T_77db3_row2_col2\" class=\"data row2 col2\" >2 <span style=\"color: grey\">(0.8%) </span></td>\n",
       "      <td id=\"T_77db3_row2_col3\" class=\"data row2 col3\" >1 <span style=\"color: grey\">(0.4%) </span></td>\n",
       "      <td id=\"T_77db3_row2_col4\" class=\"data row2 col4\" >238 <span style=\"color: grey\">(100.0%) </span></td>\n",
       "    </tr>\n",
       "  </tbody>\n",
       "</table>\n"
      ],
      "text/plain": [
       "<pandas.io.formats.style.Styler at 0x1762f6210>"
      ]
     },
     "metadata": {},
     "output_type": "display_data"
    },
    {
     "data": {
      "text/html": [
       "<style type=\"text/css\">\n",
       "#T_d9281 th:first-child {\n",
       "  min-width: 400px !important;\n",
       "  max-width: 400px !important;\n",
       "  white-space: nowrap;\n",
       "  overflow: hidden;\n",
       "}\n",
       "#T_d9281  td:first-child {\n",
       "  min-width: 400px !important;\n",
       "  max-width: 400px !important;\n",
       "  white-space: nowrap;\n",
       "  overflow: hidden;\n",
       "}\n",
       "#T_d9281_row0_col0, #T_d9281_row3_col0 {\n",
       "  width: 10em;\n",
       "  background: linear-gradient(90deg, lightblue 12.3%, transparent 12.3%);\n",
       "  font-family: Courier;\n",
       "}\n",
       "#T_d9281_row0_col1 {\n",
       "  width: 10em;\n",
       "  background: linear-gradient(90deg, lightblue 5.4%, transparent 5.4%);\n",
       "  font-family: Courier;\n",
       "}\n",
       "#T_d9281_row0_col2, #T_d9281_row1_col2 {\n",
       "  width: 10em;\n",
       "  background: linear-gradient(90deg, lightblue 33.3%, transparent 33.3%);\n",
       "  font-family: Courier;\n",
       "}\n",
       "#T_d9281_row0_col3, #T_d9281_row1_col3, #T_d9281_row2_col3, #T_d9281_row3_col3 {\n",
       "  width: 10em;\n",
       "  background: linear-gradient(90deg, lightblue 25.0%, transparent 25.0%);\n",
       "  font-family: Courier;\n",
       "}\n",
       "#T_d9281_row0_col4 {\n",
       "  width: 10em;\n",
       "  background: linear-gradient(90deg, lightblue 11.7%, transparent 11.7%);\n",
       "  font-family: Courier;\n",
       "}\n",
       "#T_d9281_row1_col0 {\n",
       "  width: 10em;\n",
       "  background: linear-gradient(90deg, lightblue 63.0%, transparent 63.0%);\n",
       "  font-family: Courier;\n",
       "}\n",
       "#T_d9281_row1_col1 {\n",
       "  width: 10em;\n",
       "  background: linear-gradient(90deg, lightblue 59.5%, transparent 59.5%);\n",
       "  font-family: Courier;\n",
       "}\n",
       "#T_d9281_row1_col4 {\n",
       "  width: 10em;\n",
       "  background: linear-gradient(90deg, lightblue 59.2%, transparent 59.2%);\n",
       "  font-family: Courier;\n",
       "}\n",
       "#T_d9281_row2_col0 {\n",
       "  width: 10em;\n",
       "  background: linear-gradient(90deg, lightblue 5.5%, transparent 5.5%);\n",
       "  font-family: Courier;\n",
       "}\n",
       "#T_d9281_row2_col1 {\n",
       "  width: 10em;\n",
       "  background: linear-gradient(90deg, lightblue 10.8%, transparent 10.8%);\n",
       "  font-family: Courier;\n",
       "}\n",
       "#T_d9281_row2_col2, #T_d9281_row3_col2 {\n",
       "  width: 10em;\n",
       "  background: linear-gradient(90deg, lightblue 16.7%, transparent 16.7%);\n",
       "  font-family: Courier;\n",
       "}\n",
       "#T_d9281_row2_col4 {\n",
       "  width: 10em;\n",
       "  background: linear-gradient(90deg, lightblue 8.3%, transparent 8.3%);\n",
       "  font-family: Courier;\n",
       "}\n",
       "#T_d9281_row3_col1 {\n",
       "  width: 10em;\n",
       "  background: linear-gradient(90deg, lightblue 16.2%, transparent 16.2%);\n",
       "  font-family: Courier;\n",
       "}\n",
       "#T_d9281_row3_col4 {\n",
       "  width: 10em;\n",
       "  background: linear-gradient(90deg, lightblue 14.2%, transparent 14.2%);\n",
       "  font-family: Courier;\n",
       "}\n",
       "#T_d9281_row4_col0 {\n",
       "  width: 10em;\n",
       "  background: linear-gradient(90deg, lightblue 6.8%, transparent 6.8%);\n",
       "  font-family: Courier;\n",
       "}\n",
       "#T_d9281_row4_col1 {\n",
       "  width: 10em;\n",
       "  background: linear-gradient(90deg, lightblue 8.1%, transparent 8.1%);\n",
       "  font-family: Courier;\n",
       "}\n",
       "#T_d9281_row4_col2, #T_d9281_row4_col3 {\n",
       "  width: 10em;\n",
       "  font-family: Courier;\n",
       "}\n",
       "#T_d9281_row4_col4 {\n",
       "  width: 10em;\n",
       "  background: linear-gradient(90deg, lightblue 6.7%, transparent 6.7%);\n",
       "  font-family: Courier;\n",
       "}\n",
       "#T_d9281_row5_col0, #T_d9281_row5_col1, #T_d9281_row5_col2, #T_d9281_row5_col3, #T_d9281_row5_col4 {\n",
       "  width: 10em;\n",
       "  background: linear-gradient(90deg, lightblue 100.0%, transparent 100.0%);\n",
       "  font-family: Courier;\n",
       "}\n",
       "</style>\n",
       "<table id=\"T_d9281\">\n",
       "  <thead>\n",
       "    <tr>\n",
       "      <th class=\"index_name level0\" >[01.01] CTCAE</th>\n",
       "      <th id=\"T_d9281_level0_col0\" class=\"col_heading level0 col0\" >1</th>\n",
       "      <th id=\"T_d9281_level0_col1\" class=\"col_heading level0 col1\" >2</th>\n",
       "      <th id=\"T_d9281_level0_col2\" class=\"col_heading level0 col2\" >3</th>\n",
       "      <th id=\"T_d9281_level0_col3\" class=\"col_heading level0 col3\" >4</th>\n",
       "      <th id=\"T_d9281_level0_col4\" class=\"col_heading level0 col4\" >Total</th>\n",
       "    </tr>\n",
       "    <tr>\n",
       "      <th class=\"index_name level0\" >[03.08.01] Affected person</th>\n",
       "      <th class=\"blank col0\" >&nbsp;</th>\n",
       "      <th class=\"blank col1\" >&nbsp;</th>\n",
       "      <th class=\"blank col2\" >&nbsp;</th>\n",
       "      <th class=\"blank col3\" >&nbsp;</th>\n",
       "      <th class=\"blank col4\" >&nbsp;</th>\n",
       "    </tr>\n",
       "  </thead>\n",
       "  <tbody>\n",
       "    <tr>\n",
       "      <th id=\"T_d9281_level0_row0\" class=\"row_heading level0 row0\" >BeIn the treatment team</th>\n",
       "      <td id=\"T_d9281_row0_col0\" class=\"data row0 col0\" >9 <span style=\"color: grey\">(7.5%) </span></td>\n",
       "      <td id=\"T_d9281_row0_col1\" class=\"data row0 col1\" >2 <span style=\"color: grey\">(1.7%) </span></td>\n",
       "      <td id=\"T_d9281_row0_col2\" class=\"data row0 col2\" >2 <span style=\"color: grey\">(1.7%) </span></td>\n",
       "      <td id=\"T_d9281_row0_col3\" class=\"data row0 col3\" >1 <span style=\"color: grey\">(0.8%) </span></td>\n",
       "      <td id=\"T_d9281_row0_col4\" class=\"data row0 col4\" >14 <span style=\"color: grey\">(11.7%) </span></td>\n",
       "    </tr>\n",
       "    <tr>\n",
       "      <th id=\"T_d9281_level0_row1\" class=\"row_heading level0 row1\" >For affected individuals</th>\n",
       "      <td id=\"T_d9281_row1_col0\" class=\"data row1 col0\" >46 <span style=\"color: grey\">(38.3%) </span></td>\n",
       "      <td id=\"T_d9281_row1_col1\" class=\"data row1 col1\" >22 <span style=\"color: grey\">(18.3%) </span></td>\n",
       "      <td id=\"T_d9281_row1_col2\" class=\"data row1 col2\" >2 <span style=\"color: grey\">(1.7%) </span></td>\n",
       "      <td id=\"T_d9281_row1_col3\" class=\"data row1 col3\" >1 <span style=\"color: grey\">(0.8%) </span></td>\n",
       "      <td id=\"T_d9281_row1_col4\" class=\"data row1 col4\" >71 <span style=\"color: grey\">(59.2%) </span></td>\n",
       "    </tr>\n",
       "    <tr>\n",
       "      <th id=\"T_d9281_level0_row2\" class=\"row_heading level0 row2\" >For parents des Betroffenen</th>\n",
       "      <td id=\"T_d9281_row2_col0\" class=\"data row2 col0\" >4 <span style=\"color: grey\">(3.3%) </span></td>\n",
       "      <td id=\"T_d9281_row2_col1\" class=\"data row2 col1\" >4 <span style=\"color: grey\">(3.3%) </span></td>\n",
       "      <td id=\"T_d9281_row2_col2\" class=\"data row2 col2\" >1 <span style=\"color: grey\">(0.8%) </span></td>\n",
       "      <td id=\"T_d9281_row2_col3\" class=\"data row2 col3\" >1 <span style=\"color: grey\">(0.8%) </span></td>\n",
       "      <td id=\"T_d9281_row2_col4\" class=\"data row2 col4\" >10 <span style=\"color: grey\">(8.3%) </span></td>\n",
       "    </tr>\n",
       "    <tr>\n",
       "      <th id=\"T_d9281_level0_row3\" class=\"row_heading level0 row3\" >For the excercise experts</th>\n",
       "      <td id=\"T_d9281_row3_col0\" class=\"data row3 col0\" >9 <span style=\"color: grey\">(7.5%) </span></td>\n",
       "      <td id=\"T_d9281_row3_col1\" class=\"data row3 col1\" >6 <span style=\"color: grey\">(5.0%) </span></td>\n",
       "      <td id=\"T_d9281_row3_col2\" class=\"data row3 col2\" >1 <span style=\"color: grey\">(0.8%) </span></td>\n",
       "      <td id=\"T_d9281_row3_col3\" class=\"data row3 col3\" >1 <span style=\"color: grey\">(0.8%) </span></td>\n",
       "      <td id=\"T_d9281_row3_col4\" class=\"data row3 col4\" >17 <span style=\"color: grey\">(14.2%) </span></td>\n",
       "    </tr>\n",
       "    <tr>\n",
       "      <th id=\"T_d9281_level0_row4\" class=\"row_heading level0 row4\" >Mit der Ablehnung weiterer sporttherapheutischer Angebote</th>\n",
       "      <td id=\"T_d9281_row4_col0\" class=\"data row4 col0\" >5 <span style=\"color: grey\">(4.2%) </span></td>\n",
       "      <td id=\"T_d9281_row4_col1\" class=\"data row4 col1\" >3 <span style=\"color: grey\">(2.5%) </span></td>\n",
       "      <td id=\"T_d9281_row4_col2\" class=\"data row4 col2\" ><span style=\"color: grey\">0 </span></td>\n",
       "      <td id=\"T_d9281_row4_col3\" class=\"data row4 col3\" ><span style=\"color: grey\">0 </span></td>\n",
       "      <td id=\"T_d9281_row4_col4\" class=\"data row4 col4\" >8 <span style=\"color: grey\">(6.7%) </span></td>\n",
       "    </tr>\n",
       "    <tr>\n",
       "      <th id=\"T_d9281_level0_row5\" class=\"row_heading level0 row5\" >Total</th>\n",
       "      <td id=\"T_d9281_row5_col0\" class=\"data row5 col0\" >73 <span style=\"color: grey\">(60.8%) </span></td>\n",
       "      <td id=\"T_d9281_row5_col1\" class=\"data row5 col1\" >37 <span style=\"color: grey\">(30.8%) </span></td>\n",
       "      <td id=\"T_d9281_row5_col2\" class=\"data row5 col2\" >6 <span style=\"color: grey\">(5.0%) </span></td>\n",
       "      <td id=\"T_d9281_row5_col3\" class=\"data row5 col3\" >4 <span style=\"color: grey\">(3.3%) </span></td>\n",
       "      <td id=\"T_d9281_row5_col4\" class=\"data row5 col4\" >120 <span style=\"color: grey\">(100.0%) </span></td>\n",
       "    </tr>\n",
       "  </tbody>\n",
       "</table>\n"
      ],
      "text/plain": [
       "<pandas.io.formats.style.Styler at 0x1762f6840>"
      ]
     },
     "metadata": {},
     "output_type": "display_data"
    },
    {
     "data": {
      "text/html": [
       "<style type=\"text/css\">\n",
       "#T_ddbfb th:first-child {\n",
       "  min-width: 400px !important;\n",
       "  max-width: 400px !important;\n",
       "  white-space: nowrap;\n",
       "  overflow: hidden;\n",
       "}\n",
       "#T_ddbfb  td:first-child {\n",
       "  min-width: 400px !important;\n",
       "  max-width: 400px !important;\n",
       "  white-space: nowrap;\n",
       "  overflow: hidden;\n",
       "}\n",
       "#T_ddbfb_row0_col0 {\n",
       "  width: 10em;\n",
       "  background: linear-gradient(90deg, lightblue 5.4%, transparent 5.4%);\n",
       "  font-family: Courier;\n",
       "}\n",
       "#T_ddbfb_row0_col1 {\n",
       "  width: 10em;\n",
       "  background: linear-gradient(90deg, lightblue 11.8%, transparent 11.8%);\n",
       "  font-family: Courier;\n",
       "}\n",
       "#T_ddbfb_row0_col2 {\n",
       "  width: 10em;\n",
       "  background: linear-gradient(90deg, lightblue 33.3%, transparent 33.3%);\n",
       "  font-family: Courier;\n",
       "}\n",
       "#T_ddbfb_row0_col3, #T_ddbfb_row1_col3, #T_ddbfb_row2_col0, #T_ddbfb_row2_col1, #T_ddbfb_row2_col2 {\n",
       "  width: 10em;\n",
       "  font-family: Courier;\n",
       "}\n",
       "#T_ddbfb_row0_col4 {\n",
       "  width: 10em;\n",
       "  background: linear-gradient(90deg, lightblue 7.1%, transparent 7.1%);\n",
       "  font-family: Courier;\n",
       "}\n",
       "#T_ddbfb_row1_col0 {\n",
       "  width: 10em;\n",
       "  background: linear-gradient(90deg, lightblue 94.6%, transparent 94.6%);\n",
       "  font-family: Courier;\n",
       "}\n",
       "#T_ddbfb_row1_col1 {\n",
       "  width: 10em;\n",
       "  background: linear-gradient(90deg, lightblue 88.2%, transparent 88.2%);\n",
       "  font-family: Courier;\n",
       "}\n",
       "#T_ddbfb_row1_col2 {\n",
       "  width: 10em;\n",
       "  background: linear-gradient(90deg, lightblue 66.7%, transparent 66.7%);\n",
       "  font-family: Courier;\n",
       "}\n",
       "#T_ddbfb_row1_col4 {\n",
       "  width: 10em;\n",
       "  background: linear-gradient(90deg, lightblue 92.5%, transparent 92.5%);\n",
       "  font-family: Courier;\n",
       "}\n",
       "#T_ddbfb_row2_col3, #T_ddbfb_row3_col0, #T_ddbfb_row3_col1, #T_ddbfb_row3_col2, #T_ddbfb_row3_col3, #T_ddbfb_row3_col4 {\n",
       "  width: 10em;\n",
       "  background: linear-gradient(90deg, lightblue 100.0%, transparent 100.0%);\n",
       "  font-family: Courier;\n",
       "}\n",
       "#T_ddbfb_row2_col4 {\n",
       "  width: 10em;\n",
       "  background: linear-gradient(90deg, lightblue 0.4%, transparent 0.4%);\n",
       "  font-family: Courier;\n",
       "}\n",
       "</style>\n",
       "<table id=\"T_ddbfb\">\n",
       "  <thead>\n",
       "    <tr>\n",
       "      <th class=\"index_name level0\" >[01.01] CTCAE</th>\n",
       "      <th id=\"T_ddbfb_level0_col0\" class=\"col_heading level0 col0\" >1</th>\n",
       "      <th id=\"T_ddbfb_level0_col1\" class=\"col_heading level0 col1\" >2</th>\n",
       "      <th id=\"T_ddbfb_level0_col2\" class=\"col_heading level0 col2\" >3</th>\n",
       "      <th id=\"T_ddbfb_level0_col3\" class=\"col_heading level0 col3\" >4</th>\n",
       "      <th id=\"T_ddbfb_level0_col4\" class=\"col_heading level0 col4\" >Total</th>\n",
       "    </tr>\n",
       "    <tr>\n",
       "      <th class=\"index_name level0\" >[03.09] Structural adjustment</th>\n",
       "      <th class=\"blank col0\" >&nbsp;</th>\n",
       "      <th class=\"blank col1\" >&nbsp;</th>\n",
       "      <th class=\"blank col2\" >&nbsp;</th>\n",
       "      <th class=\"blank col3\" >&nbsp;</th>\n",
       "      <th class=\"blank col4\" >&nbsp;</th>\n",
       "    </tr>\n",
       "  </thead>\n",
       "  <tbody>\n",
       "    <tr>\n",
       "      <th id=\"T_ddbfb_level0_row0\" class=\"row_heading level0 row0\" >Ja</th>\n",
       "      <td id=\"T_ddbfb_row0_col0\" class=\"data row0 col0\" >10 <span style=\"color: grey\">(4.2%) </span></td>\n",
       "      <td id=\"T_ddbfb_row0_col1\" class=\"data row0 col1\" >6 <span style=\"color: grey\">(2.5%) </span></td>\n",
       "      <td id=\"T_ddbfb_row0_col2\" class=\"data row0 col2\" >1 <span style=\"color: grey\">(0.4%) </span></td>\n",
       "      <td id=\"T_ddbfb_row0_col3\" class=\"data row0 col3\" ><span style=\"color: grey\">0 </span></td>\n",
       "      <td id=\"T_ddbfb_row0_col4\" class=\"data row0 col4\" >17 <span style=\"color: grey\">(7.1%) </span></td>\n",
       "    </tr>\n",
       "    <tr>\n",
       "      <th id=\"T_ddbfb_level0_row1\" class=\"row_heading level0 row1\" >Nein</th>\n",
       "      <td id=\"T_ddbfb_row1_col0\" class=\"data row1 col0\" >174 <span style=\"color: grey\">(72.8%) </span></td>\n",
       "      <td id=\"T_ddbfb_row1_col1\" class=\"data row1 col1\" >45 <span style=\"color: grey\">(18.8%) </span></td>\n",
       "      <td id=\"T_ddbfb_row1_col2\" class=\"data row1 col2\" >2 <span style=\"color: grey\">(0.8%) </span></td>\n",
       "      <td id=\"T_ddbfb_row1_col3\" class=\"data row1 col3\" ><span style=\"color: grey\">0 </span></td>\n",
       "      <td id=\"T_ddbfb_row1_col4\" class=\"data row1 col4\" >221 <span style=\"color: grey\">(92.5%) </span></td>\n",
       "    </tr>\n",
       "    <tr>\n",
       "      <th id=\"T_ddbfb_level0_row2\" class=\"row_heading level0 row2\" >Weiß nicht</th>\n",
       "      <td id=\"T_ddbfb_row2_col0\" class=\"data row2 col0\" ><span style=\"color: grey\">0 </span></td>\n",
       "      <td id=\"T_ddbfb_row2_col1\" class=\"data row2 col1\" ><span style=\"color: grey\">0 </span></td>\n",
       "      <td id=\"T_ddbfb_row2_col2\" class=\"data row2 col2\" ><span style=\"color: grey\">0 </span></td>\n",
       "      <td id=\"T_ddbfb_row2_col3\" class=\"data row2 col3\" >1 <span style=\"color: grey\">(0.4%) </span></td>\n",
       "      <td id=\"T_ddbfb_row2_col4\" class=\"data row2 col4\" >1 <span style=\"color: grey\">(0.4%) </span></td>\n",
       "    </tr>\n",
       "    <tr>\n",
       "      <th id=\"T_ddbfb_level0_row3\" class=\"row_heading level0 row3\" >Total</th>\n",
       "      <td id=\"T_ddbfb_row3_col0\" class=\"data row3 col0\" >184 <span style=\"color: grey\">(77.0%) </span></td>\n",
       "      <td id=\"T_ddbfb_row3_col1\" class=\"data row3 col1\" >51 <span style=\"color: grey\">(21.3%) </span></td>\n",
       "      <td id=\"T_ddbfb_row3_col2\" class=\"data row3 col2\" >3 <span style=\"color: grey\">(1.3%) </span></td>\n",
       "      <td id=\"T_ddbfb_row3_col3\" class=\"data row3 col3\" >1 <span style=\"color: grey\">(0.4%) </span></td>\n",
       "      <td id=\"T_ddbfb_row3_col4\" class=\"data row3 col4\" >239 <span style=\"color: grey\">(100.0%) </span></td>\n",
       "    </tr>\n",
       "  </tbody>\n",
       "</table>\n"
      ],
      "text/plain": [
       "<pandas.io.formats.style.Styler at 0x1762f6cc0>"
      ]
     },
     "metadata": {},
     "output_type": "display_data"
    },
    {
     "data": {
      "text/html": [
       "<style type=\"text/css\">\n",
       "#T_b2eba th:first-child {\n",
       "  min-width: 400px !important;\n",
       "  max-width: 400px !important;\n",
       "  white-space: nowrap;\n",
       "  overflow: hidden;\n",
       "}\n",
       "#T_b2eba  td:first-child {\n",
       "  min-width: 400px !important;\n",
       "  max-width: 400px !important;\n",
       "  white-space: nowrap;\n",
       "  overflow: hidden;\n",
       "}\n",
       "#T_b2eba_row0_col0 {\n",
       "  width: 10em;\n",
       "  background: linear-gradient(90deg, lightblue 80.4%, transparent 80.4%);\n",
       "  font-family: Courier;\n",
       "}\n",
       "#T_b2eba_row0_col1 {\n",
       "  width: 10em;\n",
       "  background: linear-gradient(90deg, lightblue 43.4%, transparent 43.4%);\n",
       "  font-family: Courier;\n",
       "}\n",
       "#T_b2eba_row0_col2, #T_b2eba_row0_col3, #T_b2eba_row1_col1, #T_b2eba_row1_col2, #T_b2eba_row1_col3, #T_b2eba_row3_col2, #T_b2eba_row3_col3, #T_b2eba_row4_col2, #T_b2eba_row4_col3, #T_b2eba_row5_col2, #T_b2eba_row5_col3 {\n",
       "  width: 10em;\n",
       "  font-family: Courier;\n",
       "}\n",
       "#T_b2eba_row0_col4 {\n",
       "  width: 10em;\n",
       "  background: linear-gradient(90deg, lightblue 71.0%, transparent 71.0%);\n",
       "  font-family: Courier;\n",
       "}\n",
       "#T_b2eba_row1_col0, #T_b2eba_row5_col0 {\n",
       "  width: 10em;\n",
       "  background: linear-gradient(90deg, lightblue 1.6%, transparent 1.6%);\n",
       "  font-family: Courier;\n",
       "}\n",
       "#T_b2eba_row1_col4, #T_b2eba_row4_col4 {\n",
       "  width: 10em;\n",
       "  background: linear-gradient(90deg, lightblue 1.2%, transparent 1.2%);\n",
       "  font-family: Courier;\n",
       "}\n",
       "#T_b2eba_row2_col0 {\n",
       "  width: 10em;\n",
       "  background: linear-gradient(90deg, lightblue 6.5%, transparent 6.5%);\n",
       "  font-family: Courier;\n",
       "}\n",
       "#T_b2eba_row2_col1 {\n",
       "  width: 10em;\n",
       "  background: linear-gradient(90deg, lightblue 37.7%, transparent 37.7%);\n",
       "  font-family: Courier;\n",
       "}\n",
       "#T_b2eba_row2_col2, #T_b2eba_row2_col3, #T_b2eba_row6_col0, #T_b2eba_row6_col1, #T_b2eba_row6_col2, #T_b2eba_row6_col3, #T_b2eba_row6_col4 {\n",
       "  width: 10em;\n",
       "  background: linear-gradient(90deg, lightblue 100.0%, transparent 100.0%);\n",
       "  font-family: Courier;\n",
       "}\n",
       "#T_b2eba_row2_col4 {\n",
       "  width: 10em;\n",
       "  background: linear-gradient(90deg, lightblue 14.9%, transparent 14.9%);\n",
       "  font-family: Courier;\n",
       "}\n",
       "#T_b2eba_row3_col0 {\n",
       "  width: 10em;\n",
       "  background: linear-gradient(90deg, lightblue 9.2%, transparent 9.2%);\n",
       "  font-family: Courier;\n",
       "}\n",
       "#T_b2eba_row3_col1 {\n",
       "  width: 10em;\n",
       "  background: linear-gradient(90deg, lightblue 13.2%, transparent 13.2%);\n",
       "  font-family: Courier;\n",
       "}\n",
       "#T_b2eba_row3_col4 {\n",
       "  width: 10em;\n",
       "  background: linear-gradient(90deg, lightblue 10.0%, transparent 10.0%);\n",
       "  font-family: Courier;\n",
       "}\n",
       "#T_b2eba_row4_col0 {\n",
       "  width: 10em;\n",
       "  background: linear-gradient(90deg, lightblue 0.5%, transparent 0.5%);\n",
       "  font-family: Courier;\n",
       "}\n",
       "#T_b2eba_row4_col1 {\n",
       "  width: 10em;\n",
       "  background: linear-gradient(90deg, lightblue 3.8%, transparent 3.8%);\n",
       "  font-family: Courier;\n",
       "}\n",
       "#T_b2eba_row5_col1 {\n",
       "  width: 10em;\n",
       "  background: linear-gradient(90deg, lightblue 1.9%, transparent 1.9%);\n",
       "  font-family: Courier;\n",
       "}\n",
       "#T_b2eba_row5_col4 {\n",
       "  width: 10em;\n",
       "  background: linear-gradient(90deg, lightblue 1.7%, transparent 1.7%);\n",
       "  font-family: Courier;\n",
       "}\n",
       "</style>\n",
       "<table id=\"T_b2eba\">\n",
       "  <thead>\n",
       "    <tr>\n",
       "      <th class=\"index_name level0\" >[01.01] CTCAE</th>\n",
       "      <th id=\"T_b2eba_level0_col0\" class=\"col_heading level0 col0\" >1</th>\n",
       "      <th id=\"T_b2eba_level0_col1\" class=\"col_heading level0 col1\" >2</th>\n",
       "      <th id=\"T_b2eba_level0_col2\" class=\"col_heading level0 col2\" >3</th>\n",
       "      <th id=\"T_b2eba_level0_col3\" class=\"col_heading level0 col3\" >4</th>\n",
       "      <th id=\"T_b2eba_level0_col4\" class=\"col_heading level0 col4\" >Total</th>\n",
       "    </tr>\n",
       "    <tr>\n",
       "      <th class=\"index_name level0\" >[03.10.01] Approver</th>\n",
       "      <th class=\"blank col0\" >&nbsp;</th>\n",
       "      <th class=\"blank col1\" >&nbsp;</th>\n",
       "      <th class=\"blank col2\" >&nbsp;</th>\n",
       "      <th class=\"blank col3\" >&nbsp;</th>\n",
       "      <th class=\"blank col4\" >&nbsp;</th>\n",
       "    </tr>\n",
       "  </thead>\n",
       "  <tbody>\n",
       "    <tr>\n",
       "      <th id=\"T_b2eba_level0_row0\" class=\"row_heading level0 row0\" >-</th>\n",
       "      <td id=\"T_b2eba_row0_col0\" class=\"data row0 col0\" >148 <span style=\"color: grey\">(61.4%) </span></td>\n",
       "      <td id=\"T_b2eba_row0_col1\" class=\"data row0 col1\" >23 <span style=\"color: grey\">(9.5%) </span></td>\n",
       "      <td id=\"T_b2eba_row0_col2\" class=\"data row0 col2\" ><span style=\"color: grey\">0 </span></td>\n",
       "      <td id=\"T_b2eba_row0_col3\" class=\"data row0 col3\" ><span style=\"color: grey\">0 </span></td>\n",
       "      <td id=\"T_b2eba_row0_col4\" class=\"data row0 col4\" >171 <span style=\"color: grey\">(71.0%) </span></td>\n",
       "    </tr>\n",
       "    <tr>\n",
       "      <th id=\"T_b2eba_level0_row1\" class=\"row_heading level0 row1\" >Eltern</th>\n",
       "      <td id=\"T_b2eba_row1_col0\" class=\"data row1 col0\" >3 <span style=\"color: grey\">(1.2%) </span></td>\n",
       "      <td id=\"T_b2eba_row1_col1\" class=\"data row1 col1\" ><span style=\"color: grey\">0 </span></td>\n",
       "      <td id=\"T_b2eba_row1_col2\" class=\"data row1 col2\" ><span style=\"color: grey\">0 </span></td>\n",
       "      <td id=\"T_b2eba_row1_col3\" class=\"data row1 col3\" ><span style=\"color: grey\">0 </span></td>\n",
       "      <td id=\"T_b2eba_row1_col4\" class=\"data row1 col4\" >3 <span style=\"color: grey\">(1.2%) </span></td>\n",
       "    </tr>\n",
       "    <tr>\n",
       "      <th id=\"T_b2eba_level0_row2\" class=\"row_heading level0 row2\" >Medizin</th>\n",
       "      <td id=\"T_b2eba_row2_col0\" class=\"data row2 col0\" >12 <span style=\"color: grey\">(5.0%) </span></td>\n",
       "      <td id=\"T_b2eba_row2_col1\" class=\"data row2 col1\" >20 <span style=\"color: grey\">(8.3%) </span></td>\n",
       "      <td id=\"T_b2eba_row2_col2\" class=\"data row2 col2\" >3 <span style=\"color: grey\">(1.2%) </span></td>\n",
       "      <td id=\"T_b2eba_row2_col3\" class=\"data row2 col3\" >1 <span style=\"color: grey\">(0.4%) </span></td>\n",
       "      <td id=\"T_b2eba_row2_col4\" class=\"data row2 col4\" >36 <span style=\"color: grey\">(14.9%) </span></td>\n",
       "    </tr>\n",
       "    <tr>\n",
       "      <th id=\"T_b2eba_level0_row3\" class=\"row_heading level0 row3\" >Pflege</th>\n",
       "      <td id=\"T_b2eba_row3_col0\" class=\"data row3 col0\" >17 <span style=\"color: grey\">(7.1%) </span></td>\n",
       "      <td id=\"T_b2eba_row3_col1\" class=\"data row3 col1\" >7 <span style=\"color: grey\">(2.9%) </span></td>\n",
       "      <td id=\"T_b2eba_row3_col2\" class=\"data row3 col2\" ><span style=\"color: grey\">0 </span></td>\n",
       "      <td id=\"T_b2eba_row3_col3\" class=\"data row3 col3\" ><span style=\"color: grey\">0 </span></td>\n",
       "      <td id=\"T_b2eba_row3_col4\" class=\"data row3 col4\" >24 <span style=\"color: grey\">(10.0%) </span></td>\n",
       "    </tr>\n",
       "    <tr>\n",
       "      <th id=\"T_b2eba_level0_row4\" class=\"row_heading level0 row4\" >Physiotherapie</th>\n",
       "      <td id=\"T_b2eba_row4_col0\" class=\"data row4 col0\" >1 <span style=\"color: grey\">(0.4%) </span></td>\n",
       "      <td id=\"T_b2eba_row4_col1\" class=\"data row4 col1\" >2 <span style=\"color: grey\">(0.8%) </span></td>\n",
       "      <td id=\"T_b2eba_row4_col2\" class=\"data row4 col2\" ><span style=\"color: grey\">0 </span></td>\n",
       "      <td id=\"T_b2eba_row4_col3\" class=\"data row4 col3\" ><span style=\"color: grey\">0 </span></td>\n",
       "      <td id=\"T_b2eba_row4_col4\" class=\"data row4 col4\" >3 <span style=\"color: grey\">(1.2%) </span></td>\n",
       "    </tr>\n",
       "    <tr>\n",
       "      <th id=\"T_b2eba_level0_row5\" class=\"row_heading level0 row5\" >Psychosozialer Dienst</th>\n",
       "      <td id=\"T_b2eba_row5_col0\" class=\"data row5 col0\" >3 <span style=\"color: grey\">(1.2%) </span></td>\n",
       "      <td id=\"T_b2eba_row5_col1\" class=\"data row5 col1\" >1 <span style=\"color: grey\">(0.4%) </span></td>\n",
       "      <td id=\"T_b2eba_row5_col2\" class=\"data row5 col2\" ><span style=\"color: grey\">0 </span></td>\n",
       "      <td id=\"T_b2eba_row5_col3\" class=\"data row5 col3\" ><span style=\"color: grey\">0 </span></td>\n",
       "      <td id=\"T_b2eba_row5_col4\" class=\"data row5 col4\" >4 <span style=\"color: grey\">(1.7%) </span></td>\n",
       "    </tr>\n",
       "    <tr>\n",
       "      <th id=\"T_b2eba_level0_row6\" class=\"row_heading level0 row6\" >Total</th>\n",
       "      <td id=\"T_b2eba_row6_col0\" class=\"data row6 col0\" >184 <span style=\"color: grey\">(76.3%) </span></td>\n",
       "      <td id=\"T_b2eba_row6_col1\" class=\"data row6 col1\" >53 <span style=\"color: grey\">(22.0%) </span></td>\n",
       "      <td id=\"T_b2eba_row6_col2\" class=\"data row6 col2\" >3 <span style=\"color: grey\">(1.2%) </span></td>\n",
       "      <td id=\"T_b2eba_row6_col3\" class=\"data row6 col3\" >1 <span style=\"color: grey\">(0.4%) </span></td>\n",
       "      <td id=\"T_b2eba_row6_col4\" class=\"data row6 col4\" >241 <span style=\"color: grey\">(100.0%) </span></td>\n",
       "    </tr>\n",
       "  </tbody>\n",
       "</table>\n"
      ],
      "text/plain": [
       "<pandas.io.formats.style.Styler at 0x1762f4170>"
      ]
     },
     "metadata": {},
     "output_type": "display_data"
    },
    {
     "data": {
      "text/html": [
       "<style type=\"text/css\">\n",
       "#T_aec02 th:first-child {\n",
       "  min-width: 400px !important;\n",
       "  max-width: 400px !important;\n",
       "  white-space: nowrap;\n",
       "  overflow: hidden;\n",
       "}\n",
       "#T_aec02  td:first-child {\n",
       "  min-width: 400px !important;\n",
       "  max-width: 400px !important;\n",
       "  white-space: nowrap;\n",
       "  overflow: hidden;\n",
       "}\n",
       "#T_aec02_row0_col0 {\n",
       "  width: 10em;\n",
       "  background: linear-gradient(90deg, lightblue 1.1%, transparent 1.1%);\n",
       "  font-family: Courier;\n",
       "}\n",
       "#T_aec02_row0_col1 {\n",
       "  width: 10em;\n",
       "  background: linear-gradient(90deg, lightblue 34.6%, transparent 34.6%);\n",
       "  font-family: Courier;\n",
       "}\n",
       "#T_aec02_row0_col2 {\n",
       "  width: 10em;\n",
       "  background: linear-gradient(90deg, lightblue 66.7%, transparent 66.7%);\n",
       "  font-family: Courier;\n",
       "}\n",
       "#T_aec02_row0_col3 {\n",
       "  width: 10em;\n",
       "  font-family: Courier;\n",
       "}\n",
       "#T_aec02_row0_col4 {\n",
       "  width: 10em;\n",
       "  background: linear-gradient(90deg, lightblue 9.2%, transparent 9.2%);\n",
       "  font-family: Courier;\n",
       "}\n",
       "#T_aec02_row1_col0 {\n",
       "  width: 10em;\n",
       "  background: linear-gradient(90deg, lightblue 98.9%, transparent 98.9%);\n",
       "  font-family: Courier;\n",
       "}\n",
       "#T_aec02_row1_col1 {\n",
       "  width: 10em;\n",
       "  background: linear-gradient(90deg, lightblue 65.4%, transparent 65.4%);\n",
       "  font-family: Courier;\n",
       "}\n",
       "#T_aec02_row1_col2 {\n",
       "  width: 10em;\n",
       "  background: linear-gradient(90deg, lightblue 33.3%, transparent 33.3%);\n",
       "  font-family: Courier;\n",
       "}\n",
       "#T_aec02_row1_col3, #T_aec02_row2_col0, #T_aec02_row2_col1, #T_aec02_row2_col2, #T_aec02_row2_col3, #T_aec02_row2_col4 {\n",
       "  width: 10em;\n",
       "  background: linear-gradient(90deg, lightblue 100.0%, transparent 100.0%);\n",
       "  font-family: Courier;\n",
       "}\n",
       "#T_aec02_row1_col4 {\n",
       "  width: 10em;\n",
       "  background: linear-gradient(90deg, lightblue 90.8%, transparent 90.8%);\n",
       "  font-family: Courier;\n",
       "}\n",
       "</style>\n",
       "<table id=\"T_aec02\">\n",
       "  <thead>\n",
       "    <tr>\n",
       "      <th class=\"index_name level0\" >[01.01] CTCAE</th>\n",
       "      <th id=\"T_aec02_level0_col0\" class=\"col_heading level0 col0\" >1</th>\n",
       "      <th id=\"T_aec02_level0_col1\" class=\"col_heading level0 col1\" >2</th>\n",
       "      <th id=\"T_aec02_level0_col2\" class=\"col_heading level0 col2\" >3</th>\n",
       "      <th id=\"T_aec02_level0_col3\" class=\"col_heading level0 col3\" >4</th>\n",
       "      <th id=\"T_aec02_level0_col4\" class=\"col_heading level0 col4\" >Total</th>\n",
       "    </tr>\n",
       "    <tr>\n",
       "      <th class=\"index_name level0\" >[03.11] Application RICE rule (Rest, Ice, Compression, Elevation)</th>\n",
       "      <th class=\"blank col0\" >&nbsp;</th>\n",
       "      <th class=\"blank col1\" >&nbsp;</th>\n",
       "      <th class=\"blank col2\" >&nbsp;</th>\n",
       "      <th class=\"blank col3\" >&nbsp;</th>\n",
       "      <th class=\"blank col4\" >&nbsp;</th>\n",
       "    </tr>\n",
       "  </thead>\n",
       "  <tbody>\n",
       "    <tr>\n",
       "      <th id=\"T_aec02_level0_row0\" class=\"row_heading level0 row0\" >Ja</th>\n",
       "      <td id=\"T_aec02_row0_col0\" class=\"data row0 col0\" >2 <span style=\"color: grey\">(0.8%) </span></td>\n",
       "      <td id=\"T_aec02_row0_col1\" class=\"data row0 col1\" >18 <span style=\"color: grey\">(7.5%) </span></td>\n",
       "      <td id=\"T_aec02_row0_col2\" class=\"data row0 col2\" >2 <span style=\"color: grey\">(0.8%) </span></td>\n",
       "      <td id=\"T_aec02_row0_col3\" class=\"data row0 col3\" ><span style=\"color: grey\">0 </span></td>\n",
       "      <td id=\"T_aec02_row0_col4\" class=\"data row0 col4\" >22 <span style=\"color: grey\">(9.2%) </span></td>\n",
       "    </tr>\n",
       "    <tr>\n",
       "      <th id=\"T_aec02_level0_row1\" class=\"row_heading level0 row1\" >Nein</th>\n",
       "      <td id=\"T_aec02_row1_col0\" class=\"data row1 col0\" >181 <span style=\"color: grey\">(75.7%) </span></td>\n",
       "      <td id=\"T_aec02_row1_col1\" class=\"data row1 col1\" >34 <span style=\"color: grey\">(14.2%) </span></td>\n",
       "      <td id=\"T_aec02_row1_col2\" class=\"data row1 col2\" >1 <span style=\"color: grey\">(0.4%) </span></td>\n",
       "      <td id=\"T_aec02_row1_col3\" class=\"data row1 col3\" >1 <span style=\"color: grey\">(0.4%) </span></td>\n",
       "      <td id=\"T_aec02_row1_col4\" class=\"data row1 col4\" >217 <span style=\"color: grey\">(90.8%) </span></td>\n",
       "    </tr>\n",
       "    <tr>\n",
       "      <th id=\"T_aec02_level0_row2\" class=\"row_heading level0 row2\" >Total</th>\n",
       "      <td id=\"T_aec02_row2_col0\" class=\"data row2 col0\" >183 <span style=\"color: grey\">(76.6%) </span></td>\n",
       "      <td id=\"T_aec02_row2_col1\" class=\"data row2 col1\" >52 <span style=\"color: grey\">(21.8%) </span></td>\n",
       "      <td id=\"T_aec02_row2_col2\" class=\"data row2 col2\" >3 <span style=\"color: grey\">(1.3%) </span></td>\n",
       "      <td id=\"T_aec02_row2_col3\" class=\"data row2 col3\" >1 <span style=\"color: grey\">(0.4%) </span></td>\n",
       "      <td id=\"T_aec02_row2_col4\" class=\"data row2 col4\" >239 <span style=\"color: grey\">(100.0%) </span></td>\n",
       "    </tr>\n",
       "  </tbody>\n",
       "</table>\n"
      ],
      "text/plain": [
       "<pandas.io.formats.style.Styler at 0x1762c5e50>"
      ]
     },
     "metadata": {},
     "output_type": "display_data"
    },
    {
     "data": {
      "text/html": [
       "<style type=\"text/css\">\n",
       "#T_aa77c th:first-child {\n",
       "  min-width: 400px !important;\n",
       "  max-width: 400px !important;\n",
       "  white-space: nowrap;\n",
       "  overflow: hidden;\n",
       "}\n",
       "#T_aa77c  td:first-child {\n",
       "  min-width: 400px !important;\n",
       "  max-width: 400px !important;\n",
       "  white-space: nowrap;\n",
       "  overflow: hidden;\n",
       "}\n",
       "#T_aa77c_row0_col0 {\n",
       "  width: 10em;\n",
       "  background: linear-gradient(90deg, lightblue 1.6%, transparent 1.6%);\n",
       "  font-family: Courier;\n",
       "}\n",
       "#T_aa77c_row0_col1 {\n",
       "  width: 10em;\n",
       "  background: linear-gradient(90deg, lightblue 3.8%, transparent 3.8%);\n",
       "  font-family: Courier;\n",
       "}\n",
       "#T_aa77c_row0_col2 {\n",
       "  width: 10em;\n",
       "  background: linear-gradient(90deg, lightblue 33.3%, transparent 33.3%);\n",
       "  font-family: Courier;\n",
       "}\n",
       "#T_aa77c_row0_col3, #T_aa77c_row2_col1, #T_aa77c_row2_col2, #T_aa77c_row2_col3 {\n",
       "  width: 10em;\n",
       "  font-family: Courier;\n",
       "}\n",
       "#T_aa77c_row0_col4 {\n",
       "  width: 10em;\n",
       "  background: linear-gradient(90deg, lightblue 2.5%, transparent 2.5%);\n",
       "  font-family: Courier;\n",
       "}\n",
       "#T_aa77c_row1_col0 {\n",
       "  width: 10em;\n",
       "  background: linear-gradient(90deg, lightblue 97.8%, transparent 97.8%);\n",
       "  font-family: Courier;\n",
       "}\n",
       "#T_aa77c_row1_col1 {\n",
       "  width: 10em;\n",
       "  background: linear-gradient(90deg, lightblue 96.2%, transparent 96.2%);\n",
       "  font-family: Courier;\n",
       "}\n",
       "#T_aa77c_row1_col2 {\n",
       "  width: 10em;\n",
       "  background: linear-gradient(90deg, lightblue 66.7%, transparent 66.7%);\n",
       "  font-family: Courier;\n",
       "}\n",
       "#T_aa77c_row1_col3, #T_aa77c_row3_col0, #T_aa77c_row3_col1, #T_aa77c_row3_col2, #T_aa77c_row3_col3, #T_aa77c_row3_col4 {\n",
       "  width: 10em;\n",
       "  background: linear-gradient(90deg, lightblue 100.0%, transparent 100.0%);\n",
       "  font-family: Courier;\n",
       "}\n",
       "#T_aa77c_row1_col4 {\n",
       "  width: 10em;\n",
       "  background: linear-gradient(90deg, lightblue 97.1%, transparent 97.1%);\n",
       "  font-family: Courier;\n",
       "}\n",
       "#T_aa77c_row2_col0 {\n",
       "  width: 10em;\n",
       "  background: linear-gradient(90deg, lightblue 0.5%, transparent 0.5%);\n",
       "  font-family: Courier;\n",
       "}\n",
       "#T_aa77c_row2_col4 {\n",
       "  width: 10em;\n",
       "  background: linear-gradient(90deg, lightblue 0.4%, transparent 0.4%);\n",
       "  font-family: Courier;\n",
       "}\n",
       "</style>\n",
       "<table id=\"T_aa77c\">\n",
       "  <thead>\n",
       "    <tr>\n",
       "      <th class=\"index_name level0\" >[01.01] CTCAE</th>\n",
       "      <th id=\"T_aa77c_level0_col0\" class=\"col_heading level0 col0\" >1</th>\n",
       "      <th id=\"T_aa77c_level0_col1\" class=\"col_heading level0 col1\" >2</th>\n",
       "      <th id=\"T_aa77c_level0_col2\" class=\"col_heading level0 col2\" >3</th>\n",
       "      <th id=\"T_aa77c_level0_col3\" class=\"col_heading level0 col3\" >4</th>\n",
       "      <th id=\"T_aa77c_level0_col4\" class=\"col_heading level0 col4\" >Total</th>\n",
       "    </tr>\n",
       "    <tr>\n",
       "      <th class=\"index_name level0\" >[03.12] With observation</th>\n",
       "      <th class=\"blank col0\" >&nbsp;</th>\n",
       "      <th class=\"blank col1\" >&nbsp;</th>\n",
       "      <th class=\"blank col2\" >&nbsp;</th>\n",
       "      <th class=\"blank col3\" >&nbsp;</th>\n",
       "      <th class=\"blank col4\" >&nbsp;</th>\n",
       "    </tr>\n",
       "  </thead>\n",
       "  <tbody>\n",
       "    <tr>\n",
       "      <th id=\"T_aa77c_level0_row0\" class=\"row_heading level0 row0\" >Ja</th>\n",
       "      <td id=\"T_aa77c_row0_col0\" class=\"data row0 col0\" >3 <span style=\"color: grey\">(1.2%) </span></td>\n",
       "      <td id=\"T_aa77c_row0_col1\" class=\"data row0 col1\" >2 <span style=\"color: grey\">(0.8%) </span></td>\n",
       "      <td id=\"T_aa77c_row0_col2\" class=\"data row0 col2\" >1 <span style=\"color: grey\">(0.4%) </span></td>\n",
       "      <td id=\"T_aa77c_row0_col3\" class=\"data row0 col3\" ><span style=\"color: grey\">0 </span></td>\n",
       "      <td id=\"T_aa77c_row0_col4\" class=\"data row0 col4\" >6 <span style=\"color: grey\">(2.5%) </span></td>\n",
       "    </tr>\n",
       "    <tr>\n",
       "      <th id=\"T_aa77c_level0_row1\" class=\"row_heading level0 row1\" >Nein</th>\n",
       "      <td id=\"T_aa77c_row1_col0\" class=\"data row1 col0\" >180 <span style=\"color: grey\">(75.0%) </span></td>\n",
       "      <td id=\"T_aa77c_row1_col1\" class=\"data row1 col1\" >50 <span style=\"color: grey\">(20.8%) </span></td>\n",
       "      <td id=\"T_aa77c_row1_col2\" class=\"data row1 col2\" >2 <span style=\"color: grey\">(0.8%) </span></td>\n",
       "      <td id=\"T_aa77c_row1_col3\" class=\"data row1 col3\" >1 <span style=\"color: grey\">(0.4%) </span></td>\n",
       "      <td id=\"T_aa77c_row1_col4\" class=\"data row1 col4\" >233 <span style=\"color: grey\">(97.1%) </span></td>\n",
       "    </tr>\n",
       "    <tr>\n",
       "      <th id=\"T_aa77c_level0_row2\" class=\"row_heading level0 row2\" >U</th>\n",
       "      <td id=\"T_aa77c_row2_col0\" class=\"data row2 col0\" >1 <span style=\"color: grey\">(0.4%) </span></td>\n",
       "      <td id=\"T_aa77c_row2_col1\" class=\"data row2 col1\" ><span style=\"color: grey\">0 </span></td>\n",
       "      <td id=\"T_aa77c_row2_col2\" class=\"data row2 col2\" ><span style=\"color: grey\">0 </span></td>\n",
       "      <td id=\"T_aa77c_row2_col3\" class=\"data row2 col3\" ><span style=\"color: grey\">0 </span></td>\n",
       "      <td id=\"T_aa77c_row2_col4\" class=\"data row2 col4\" >1 <span style=\"color: grey\">(0.4%) </span></td>\n",
       "    </tr>\n",
       "    <tr>\n",
       "      <th id=\"T_aa77c_level0_row3\" class=\"row_heading level0 row3\" >Total</th>\n",
       "      <td id=\"T_aa77c_row3_col0\" class=\"data row3 col0\" >184 <span style=\"color: grey\">(76.7%) </span></td>\n",
       "      <td id=\"T_aa77c_row3_col1\" class=\"data row3 col1\" >52 <span style=\"color: grey\">(21.7%) </span></td>\n",
       "      <td id=\"T_aa77c_row3_col2\" class=\"data row3 col2\" >3 <span style=\"color: grey\">(1.2%) </span></td>\n",
       "      <td id=\"T_aa77c_row3_col3\" class=\"data row3 col3\" >1 <span style=\"color: grey\">(0.4%) </span></td>\n",
       "      <td id=\"T_aa77c_row3_col4\" class=\"data row3 col4\" >240 <span style=\"color: grey\">(100.0%) </span></td>\n",
       "    </tr>\n",
       "  </tbody>\n",
       "</table>\n"
      ],
      "text/plain": [
       "<pandas.io.formats.style.Styler at 0x176b03a70>"
      ]
     },
     "metadata": {},
     "output_type": "display_data"
    },
    {
     "data": {
      "text/html": [
       "<style type=\"text/css\">\n",
       "#T_16c93 th:first-child {\n",
       "  min-width: 400px !important;\n",
       "  max-width: 400px !important;\n",
       "  white-space: nowrap;\n",
       "  overflow: hidden;\n",
       "}\n",
       "#T_16c93  td:first-child {\n",
       "  min-width: 400px !important;\n",
       "  max-width: 400px !important;\n",
       "  white-space: nowrap;\n",
       "  overflow: hidden;\n",
       "}\n",
       "#T_16c93_row0_col0 {\n",
       "  width: 10em;\n",
       "  background: linear-gradient(90deg, lightblue 8.7%, transparent 8.7%);\n",
       "  font-family: Courier;\n",
       "}\n",
       "#T_16c93_row0_col1 {\n",
       "  width: 10em;\n",
       "  background: linear-gradient(90deg, lightblue 13.5%, transparent 13.5%);\n",
       "  font-family: Courier;\n",
       "}\n",
       "#T_16c93_row0_col2, #T_16c93_row1_col3 {\n",
       "  width: 10em;\n",
       "  font-family: Courier;\n",
       "}\n",
       "#T_16c93_row0_col3, #T_16c93_row1_col2, #T_16c93_row2_col0, #T_16c93_row2_col1, #T_16c93_row2_col2, #T_16c93_row2_col3, #T_16c93_row2_col4 {\n",
       "  width: 10em;\n",
       "  background: linear-gradient(90deg, lightblue 100.0%, transparent 100.0%);\n",
       "  font-family: Courier;\n",
       "}\n",
       "#T_16c93_row0_col4 {\n",
       "  width: 10em;\n",
       "  background: linear-gradient(90deg, lightblue 10.0%, transparent 10.0%);\n",
       "  font-family: Courier;\n",
       "}\n",
       "#T_16c93_row1_col0 {\n",
       "  width: 10em;\n",
       "  background: linear-gradient(90deg, lightblue 91.3%, transparent 91.3%);\n",
       "  font-family: Courier;\n",
       "}\n",
       "#T_16c93_row1_col1 {\n",
       "  width: 10em;\n",
       "  background: linear-gradient(90deg, lightblue 86.5%, transparent 86.5%);\n",
       "  font-family: Courier;\n",
       "}\n",
       "#T_16c93_row1_col4 {\n",
       "  width: 10em;\n",
       "  background: linear-gradient(90deg, lightblue 90.0%, transparent 90.0%);\n",
       "  font-family: Courier;\n",
       "}\n",
       "</style>\n",
       "<table id=\"T_16c93\">\n",
       "  <thead>\n",
       "    <tr>\n",
       "      <th class=\"index_name level0\" >[01.01] CTCAE</th>\n",
       "      <th id=\"T_16c93_level0_col0\" class=\"col_heading level0 col0\" >1</th>\n",
       "      <th id=\"T_16c93_level0_col1\" class=\"col_heading level0 col1\" >2</th>\n",
       "      <th id=\"T_16c93_level0_col2\" class=\"col_heading level0 col2\" >3</th>\n",
       "      <th id=\"T_16c93_level0_col3\" class=\"col_heading level0 col3\" >4</th>\n",
       "      <th id=\"T_16c93_level0_col4\" class=\"col_heading level0 col4\" >Total</th>\n",
       "    </tr>\n",
       "    <tr>\n",
       "      <th class=\"index_name level0\" >[03.13] Stop</th>\n",
       "      <th class=\"blank col0\" >&nbsp;</th>\n",
       "      <th class=\"blank col1\" >&nbsp;</th>\n",
       "      <th class=\"blank col2\" >&nbsp;</th>\n",
       "      <th class=\"blank col3\" >&nbsp;</th>\n",
       "      <th class=\"blank col4\" >&nbsp;</th>\n",
       "    </tr>\n",
       "  </thead>\n",
       "  <tbody>\n",
       "    <tr>\n",
       "      <th id=\"T_16c93_level0_row0\" class=\"row_heading level0 row0\" >No</th>\n",
       "      <td id=\"T_16c93_row0_col0\" class=\"data row0 col0\" >16 <span style=\"color: grey\">(6.7%) </span></td>\n",
       "      <td id=\"T_16c93_row0_col1\" class=\"data row0 col1\" >7 <span style=\"color: grey\">(2.9%) </span></td>\n",
       "      <td id=\"T_16c93_row0_col2\" class=\"data row0 col2\" ><span style=\"color: grey\">0 </span></td>\n",
       "      <td id=\"T_16c93_row0_col3\" class=\"data row0 col3\" >1 <span style=\"color: grey\">(0.4%) </span></td>\n",
       "      <td id=\"T_16c93_row0_col4\" class=\"data row0 col4\" >24 <span style=\"color: grey\">(10.0%) </span></td>\n",
       "    </tr>\n",
       "    <tr>\n",
       "      <th id=\"T_16c93_level0_row1\" class=\"row_heading level0 row1\" >Yes</th>\n",
       "      <td id=\"T_16c93_row1_col0\" class=\"data row1 col0\" >168 <span style=\"color: grey\">(70.0%) </span></td>\n",
       "      <td id=\"T_16c93_row1_col1\" class=\"data row1 col1\" >45 <span style=\"color: grey\">(18.8%) </span></td>\n",
       "      <td id=\"T_16c93_row1_col2\" class=\"data row1 col2\" >3 <span style=\"color: grey\">(1.2%) </span></td>\n",
       "      <td id=\"T_16c93_row1_col3\" class=\"data row1 col3\" ><span style=\"color: grey\">0 </span></td>\n",
       "      <td id=\"T_16c93_row1_col4\" class=\"data row1 col4\" >216 <span style=\"color: grey\">(90.0%) </span></td>\n",
       "    </tr>\n",
       "    <tr>\n",
       "      <th id=\"T_16c93_level0_row2\" class=\"row_heading level0 row2\" >Total</th>\n",
       "      <td id=\"T_16c93_row2_col0\" class=\"data row2 col0\" >184 <span style=\"color: grey\">(76.7%) </span></td>\n",
       "      <td id=\"T_16c93_row2_col1\" class=\"data row2 col1\" >52 <span style=\"color: grey\">(21.7%) </span></td>\n",
       "      <td id=\"T_16c93_row2_col2\" class=\"data row2 col2\" >3 <span style=\"color: grey\">(1.2%) </span></td>\n",
       "      <td id=\"T_16c93_row2_col3\" class=\"data row2 col3\" >1 <span style=\"color: grey\">(0.4%) </span></td>\n",
       "      <td id=\"T_16c93_row2_col4\" class=\"data row2 col4\" >240 <span style=\"color: grey\">(100.0%) </span></td>\n",
       "    </tr>\n",
       "  </tbody>\n",
       "</table>\n"
      ],
      "text/plain": [
       "<pandas.io.formats.style.Styler at 0x176b02330>"
      ]
     },
     "metadata": {},
     "output_type": "display_data"
    },
    {
     "data": {
      "text/html": [
       "<style type=\"text/css\">\n",
       "#T_f931e th:first-child {\n",
       "  min-width: 400px !important;\n",
       "  max-width: 400px !important;\n",
       "  white-space: nowrap;\n",
       "  overflow: hidden;\n",
       "}\n",
       "#T_f931e  td:first-child {\n",
       "  min-width: 400px !important;\n",
       "  max-width: 400px !important;\n",
       "  white-space: nowrap;\n",
       "  overflow: hidden;\n",
       "}\n",
       "#T_f931e_row0_col0 {\n",
       "  width: 10em;\n",
       "  background: linear-gradient(90deg, lightblue 41.7%, transparent 41.7%);\n",
       "  font-family: Courier;\n",
       "}\n",
       "#T_f931e_row0_col1 {\n",
       "  width: 10em;\n",
       "  background: linear-gradient(90deg, lightblue 40.0%, transparent 40.0%);\n",
       "  font-family: Courier;\n",
       "}\n",
       "#T_f931e_row0_col2 {\n",
       "  width: 10em;\n",
       "  background: linear-gradient(90deg, lightblue 33.3%, transparent 33.3%);\n",
       "  font-family: Courier;\n",
       "}\n",
       "#T_f931e_row0_col3 {\n",
       "  width: 10em;\n",
       "  background: linear-gradient(90deg, lightblue 41.2%, transparent 41.2%);\n",
       "  font-family: Courier;\n",
       "}\n",
       "#T_f931e_row1_col0, #T_f931e_row1_col3 {\n",
       "  width: 10em;\n",
       "  background: linear-gradient(90deg, lightblue 58.3%, transparent 58.3%);\n",
       "  font-family: Courier;\n",
       "}\n",
       "#T_f931e_row1_col1 {\n",
       "  width: 10em;\n",
       "  background: linear-gradient(90deg, lightblue 57.8%, transparent 57.8%);\n",
       "  font-family: Courier;\n",
       "}\n",
       "#T_f931e_row1_col2 {\n",
       "  width: 10em;\n",
       "  background: linear-gradient(90deg, lightblue 66.7%, transparent 66.7%);\n",
       "  font-family: Courier;\n",
       "}\n",
       "#T_f931e_row2_col0, #T_f931e_row2_col2 {\n",
       "  width: 10em;\n",
       "  font-family: Courier;\n",
       "}\n",
       "#T_f931e_row2_col1 {\n",
       "  width: 10em;\n",
       "  background: linear-gradient(90deg, lightblue 2.2%, transparent 2.2%);\n",
       "  font-family: Courier;\n",
       "}\n",
       "#T_f931e_row2_col3 {\n",
       "  width: 10em;\n",
       "  background: linear-gradient(90deg, lightblue 0.5%, transparent 0.5%);\n",
       "  font-family: Courier;\n",
       "}\n",
       "#T_f931e_row3_col0, #T_f931e_row3_col1, #T_f931e_row3_col2, #T_f931e_row3_col3 {\n",
       "  width: 10em;\n",
       "  background: linear-gradient(90deg, lightblue 100.0%, transparent 100.0%);\n",
       "  font-family: Courier;\n",
       "}\n",
       "</style>\n",
       "<table id=\"T_f931e\">\n",
       "  <thead>\n",
       "    <tr>\n",
       "      <th class=\"index_name level0\" >[01.01] CTCAE</th>\n",
       "      <th id=\"T_f931e_level0_col0\" class=\"col_heading level0 col0\" >1</th>\n",
       "      <th id=\"T_f931e_level0_col1\" class=\"col_heading level0 col1\" >2</th>\n",
       "      <th id=\"T_f931e_level0_col2\" class=\"col_heading level0 col2\" >3</th>\n",
       "      <th id=\"T_f931e_level0_col3\" class=\"col_heading level0 col3\" >Total</th>\n",
       "    </tr>\n",
       "    <tr>\n",
       "      <th class=\"index_name level0\" >[03.13.01] Stop or Break</th>\n",
       "      <th class=\"blank col0\" >&nbsp;</th>\n",
       "      <th class=\"blank col1\" >&nbsp;</th>\n",
       "      <th class=\"blank col2\" >&nbsp;</th>\n",
       "      <th class=\"blank col3\" >&nbsp;</th>\n",
       "    </tr>\n",
       "  </thead>\n",
       "  <tbody>\n",
       "    <tr>\n",
       "      <th id=\"T_f931e_level0_row0\" class=\"row_heading level0 row0\" >Break</th>\n",
       "      <td id=\"T_f931e_row0_col0\" class=\"data row0 col0\" >70 <span style=\"color: grey\">(32.4%) </span></td>\n",
       "      <td id=\"T_f931e_row0_col1\" class=\"data row0 col1\" >18 <span style=\"color: grey\">(8.3%) </span></td>\n",
       "      <td id=\"T_f931e_row0_col2\" class=\"data row0 col2\" >1 <span style=\"color: grey\">(0.5%) </span></td>\n",
       "      <td id=\"T_f931e_row0_col3\" class=\"data row0 col3\" >89 <span style=\"color: grey\">(41.2%) </span></td>\n",
       "    </tr>\n",
       "    <tr>\n",
       "      <th id=\"T_f931e_level0_row1\" class=\"row_heading level0 row1\" >Cessation</th>\n",
       "      <td id=\"T_f931e_row1_col0\" class=\"data row1 col0\" >98 <span style=\"color: grey\">(45.4%) </span></td>\n",
       "      <td id=\"T_f931e_row1_col1\" class=\"data row1 col1\" >26 <span style=\"color: grey\">(12.0%) </span></td>\n",
       "      <td id=\"T_f931e_row1_col2\" class=\"data row1 col2\" >2 <span style=\"color: grey\">(0.9%) </span></td>\n",
       "      <td id=\"T_f931e_row1_col3\" class=\"data row1 col3\" >126 <span style=\"color: grey\">(58.3%) </span></td>\n",
       "    </tr>\n",
       "    <tr>\n",
       "      <th id=\"T_f931e_level0_row2\" class=\"row_heading level0 row2\" >Einheit war sowieso vorbei</th>\n",
       "      <td id=\"T_f931e_row2_col0\" class=\"data row2 col0\" ><span style=\"color: grey\">0 </span></td>\n",
       "      <td id=\"T_f931e_row2_col1\" class=\"data row2 col1\" >1 <span style=\"color: grey\">(0.5%) </span></td>\n",
       "      <td id=\"T_f931e_row2_col2\" class=\"data row2 col2\" ><span style=\"color: grey\">0 </span></td>\n",
       "      <td id=\"T_f931e_row2_col3\" class=\"data row2 col3\" >1 <span style=\"color: grey\">(0.5%) </span></td>\n",
       "    </tr>\n",
       "    <tr>\n",
       "      <th id=\"T_f931e_level0_row3\" class=\"row_heading level0 row3\" >Total</th>\n",
       "      <td id=\"T_f931e_row3_col0\" class=\"data row3 col0\" >168 <span style=\"color: grey\">(77.8%) </span></td>\n",
       "      <td id=\"T_f931e_row3_col1\" class=\"data row3 col1\" >45 <span style=\"color: grey\">(20.8%) </span></td>\n",
       "      <td id=\"T_f931e_row3_col2\" class=\"data row3 col2\" >3 <span style=\"color: grey\">(1.4%) </span></td>\n",
       "      <td id=\"T_f931e_row3_col3\" class=\"data row3 col3\" >216 <span style=\"color: grey\">(100.0%) </span></td>\n",
       "    </tr>\n",
       "  </tbody>\n",
       "</table>\n"
      ],
      "text/plain": [
       "<pandas.io.formats.style.Styler at 0x176b02720>"
      ]
     },
     "metadata": {},
     "output_type": "display_data"
    },
    {
     "data": {
      "text/html": [
       "<style type=\"text/css\">\n",
       "#T_29c4e th:first-child {\n",
       "  min-width: 400px !important;\n",
       "  max-width: 400px !important;\n",
       "  white-space: nowrap;\n",
       "  overflow: hidden;\n",
       "}\n",
       "#T_29c4e  td:first-child {\n",
       "  min-width: 400px !important;\n",
       "  max-width: 400px !important;\n",
       "  white-space: nowrap;\n",
       "  overflow: hidden;\n",
       "}\n",
       "#T_29c4e_row0_col0, #T_29c4e_row0_col1, #T_29c4e_row0_col2, #T_29c4e_row0_col3, #T_29c4e_row0_col4, #T_29c4e_row1_col0, #T_29c4e_row1_col1, #T_29c4e_row1_col2, #T_29c4e_row1_col3, #T_29c4e_row1_col4 {\n",
       "  width: 10em;\n",
       "  background: linear-gradient(90deg, lightblue 100.0%, transparent 100.0%);\n",
       "  font-family: Courier;\n",
       "}\n",
       "</style>\n",
       "<table id=\"T_29c4e\">\n",
       "  <thead>\n",
       "    <tr>\n",
       "      <th class=\"index_name level0\" >[01.01] CTCAE</th>\n",
       "      <th id=\"T_29c4e_level0_col0\" class=\"col_heading level0 col0\" >1</th>\n",
       "      <th id=\"T_29c4e_level0_col1\" class=\"col_heading level0 col1\" >2</th>\n",
       "      <th id=\"T_29c4e_level0_col2\" class=\"col_heading level0 col2\" >3</th>\n",
       "      <th id=\"T_29c4e_level0_col3\" class=\"col_heading level0 col3\" >4</th>\n",
       "      <th id=\"T_29c4e_level0_col4\" class=\"col_heading level0 col4\" >Total</th>\n",
       "    </tr>\n",
       "    <tr>\n",
       "      <th class=\"index_name level0\" >[03.14] Adaptations</th>\n",
       "      <th class=\"blank col0\" >&nbsp;</th>\n",
       "      <th class=\"blank col1\" >&nbsp;</th>\n",
       "      <th class=\"blank col2\" >&nbsp;</th>\n",
       "      <th class=\"blank col3\" >&nbsp;</th>\n",
       "      <th class=\"blank col4\" >&nbsp;</th>\n",
       "    </tr>\n",
       "  </thead>\n",
       "  <tbody>\n",
       "    <tr>\n",
       "      <th id=\"T_29c4e_level0_row0\" class=\"row_heading level0 row0\" >-</th>\n",
       "      <td id=\"T_29c4e_row0_col0\" class=\"data row0 col0\" >184 <span style=\"color: grey\">(76.7%) </span></td>\n",
       "      <td id=\"T_29c4e_row0_col1\" class=\"data row0 col1\" >52 <span style=\"color: grey\">(21.7%) </span></td>\n",
       "      <td id=\"T_29c4e_row0_col2\" class=\"data row0 col2\" >3 <span style=\"color: grey\">(1.2%) </span></td>\n",
       "      <td id=\"T_29c4e_row0_col3\" class=\"data row0 col3\" >1 <span style=\"color: grey\">(0.4%) </span></td>\n",
       "      <td id=\"T_29c4e_row0_col4\" class=\"data row0 col4\" >240 <span style=\"color: grey\">(100.0%) </span></td>\n",
       "    </tr>\n",
       "    <tr>\n",
       "      <th id=\"T_29c4e_level0_row1\" class=\"row_heading level0 row1\" >Total</th>\n",
       "      <td id=\"T_29c4e_row1_col0\" class=\"data row1 col0\" >184 <span style=\"color: grey\">(76.7%) </span></td>\n",
       "      <td id=\"T_29c4e_row1_col1\" class=\"data row1 col1\" >52 <span style=\"color: grey\">(21.7%) </span></td>\n",
       "      <td id=\"T_29c4e_row1_col2\" class=\"data row1 col2\" >3 <span style=\"color: grey\">(1.2%) </span></td>\n",
       "      <td id=\"T_29c4e_row1_col3\" class=\"data row1 col3\" >1 <span style=\"color: grey\">(0.4%) </span></td>\n",
       "      <td id=\"T_29c4e_row1_col4\" class=\"data row1 col4\" >240 <span style=\"color: grey\">(100.0%) </span></td>\n",
       "    </tr>\n",
       "  </tbody>\n",
       "</table>\n"
      ],
      "text/plain": [
       "<pandas.io.formats.style.Styler at 0x176b03d70>"
      ]
     },
     "metadata": {},
     "output_type": "display_data"
    },
    {
     "data": {
      "text/html": [
       "<style type=\"text/css\">\n",
       "#T_d969c th:first-child {\n",
       "  min-width: 400px !important;\n",
       "  max-width: 400px !important;\n",
       "  white-space: nowrap;\n",
       "  overflow: hidden;\n",
       "}\n",
       "#T_d969c  td:first-child {\n",
       "  min-width: 400px !important;\n",
       "  max-width: 400px !important;\n",
       "  white-space: nowrap;\n",
       "  overflow: hidden;\n",
       "}\n",
       "#T_d969c_row0_col0 {\n",
       "  width: 10em;\n",
       "  background: linear-gradient(90deg, lightblue 7.0%, transparent 7.0%);\n",
       "  font-family: Courier;\n",
       "}\n",
       "#T_d969c_row0_col1, #T_d969c_row3_col1, #T_d969c_row6_col1 {\n",
       "  width: 10em;\n",
       "  background: linear-gradient(90deg, lightblue 12.5%, transparent 12.5%);\n",
       "  font-family: Courier;\n",
       "}\n",
       "#T_d969c_row0_col2, #T_d969c_row1_col2 {\n",
       "  width: 10em;\n",
       "  background: linear-gradient(90deg, lightblue 7.6%, transparent 7.6%);\n",
       "  font-family: Courier;\n",
       "}\n",
       "#T_d969c_row1_col0 {\n",
       "  width: 10em;\n",
       "  background: linear-gradient(90deg, lightblue 5.6%, transparent 5.6%);\n",
       "  font-family: Courier;\n",
       "}\n",
       "#T_d969c_row1_col1 {\n",
       "  width: 10em;\n",
       "  background: linear-gradient(90deg, lightblue 25.0%, transparent 25.0%);\n",
       "  font-family: Courier;\n",
       "}\n",
       "#T_d969c_row2_col0 {\n",
       "  width: 10em;\n",
       "  background: linear-gradient(90deg, lightblue 47.9%, transparent 47.9%);\n",
       "  font-family: Courier;\n",
       "}\n",
       "#T_d969c_row2_col1 {\n",
       "  width: 10em;\n",
       "  background: linear-gradient(90deg, lightblue 37.5%, transparent 37.5%);\n",
       "  font-family: Courier;\n",
       "}\n",
       "#T_d969c_row2_col2 {\n",
       "  width: 10em;\n",
       "  background: linear-gradient(90deg, lightblue 46.8%, transparent 46.8%);\n",
       "  font-family: Courier;\n",
       "}\n",
       "#T_d969c_row3_col0 {\n",
       "  width: 10em;\n",
       "  background: linear-gradient(90deg, lightblue 33.8%, transparent 33.8%);\n",
       "  font-family: Courier;\n",
       "}\n",
       "#T_d969c_row3_col2 {\n",
       "  width: 10em;\n",
       "  background: linear-gradient(90deg, lightblue 31.6%, transparent 31.6%);\n",
       "  font-family: Courier;\n",
       "}\n",
       "#T_d969c_row4_col0 {\n",
       "  width: 10em;\n",
       "  background: linear-gradient(90deg, lightblue 1.4%, transparent 1.4%);\n",
       "  font-family: Courier;\n",
       "}\n",
       "#T_d969c_row4_col1, #T_d969c_row5_col1, #T_d969c_row6_col0 {\n",
       "  width: 10em;\n",
       "  font-family: Courier;\n",
       "}\n",
       "#T_d969c_row4_col2, #T_d969c_row6_col2 {\n",
       "  width: 10em;\n",
       "  background: linear-gradient(90deg, lightblue 1.3%, transparent 1.3%);\n",
       "  font-family: Courier;\n",
       "}\n",
       "#T_d969c_row5_col0 {\n",
       "  width: 10em;\n",
       "  background: linear-gradient(90deg, lightblue 4.2%, transparent 4.2%);\n",
       "  font-family: Courier;\n",
       "}\n",
       "#T_d969c_row5_col2 {\n",
       "  width: 10em;\n",
       "  background: linear-gradient(90deg, lightblue 3.8%, transparent 3.8%);\n",
       "  font-family: Courier;\n",
       "}\n",
       "#T_d969c_row7_col0, #T_d969c_row7_col1, #T_d969c_row7_col2 {\n",
       "  width: 10em;\n",
       "  background: linear-gradient(90deg, lightblue 100.0%, transparent 100.0%);\n",
       "  font-family: Courier;\n",
       "}\n",
       "</style>\n",
       "<table id=\"T_d969c\">\n",
       "  <thead>\n",
       "    <tr>\n",
       "      <th class=\"index_name level0\" >[01.01] CTCAE</th>\n",
       "      <th id=\"T_d969c_level0_col0\" class=\"col_heading level0 col0\" >1</th>\n",
       "      <th id=\"T_d969c_level0_col1\" class=\"col_heading level0 col1\" >2</th>\n",
       "      <th id=\"T_d969c_level0_col2\" class=\"col_heading level0 col2\" >Total</th>\n",
       "    </tr>\n",
       "    <tr>\n",
       "      <th class=\"index_name level0\" >[03.14.01] Adaptations intensity</th>\n",
       "      <th class=\"blank col0\" >&nbsp;</th>\n",
       "      <th class=\"blank col1\" >&nbsp;</th>\n",
       "      <th class=\"blank col2\" >&nbsp;</th>\n",
       "    </tr>\n",
       "  </thead>\n",
       "  <tbody>\n",
       "    <tr>\n",
       "      <th id=\"T_d969c_level0_row0\" class=\"row_heading level0 row0\" >Communication strategy</th>\n",
       "      <td id=\"T_d969c_row0_col0\" class=\"data row0 col0\" >5 <span style=\"color: grey\">(6.3%) </span></td>\n",
       "      <td id=\"T_d969c_row0_col1\" class=\"data row0 col1\" >1 <span style=\"color: grey\">(1.3%) </span></td>\n",
       "      <td id=\"T_d969c_row0_col2\" class=\"data row0 col2\" >6 <span style=\"color: grey\">(7.6%) </span></td>\n",
       "    </tr>\n",
       "    <tr>\n",
       "      <th id=\"T_d969c_level0_row1\" class=\"row_heading level0 row1\" >Equipment</th>\n",
       "      <td id=\"T_d969c_row1_col0\" class=\"data row1 col0\" >4 <span style=\"color: grey\">(5.1%) </span></td>\n",
       "      <td id=\"T_d969c_row1_col1\" class=\"data row1 col1\" >2 <span style=\"color: grey\">(2.5%) </span></td>\n",
       "      <td id=\"T_d969c_row1_col2\" class=\"data row1 col2\" >6 <span style=\"color: grey\">(7.6%) </span></td>\n",
       "    </tr>\n",
       "    <tr>\n",
       "      <th id=\"T_d969c_level0_row2\" class=\"row_heading level0 row2\" >Exercise selection</th>\n",
       "      <td id=\"T_d969c_row2_col0\" class=\"data row2 col0\" >34 <span style=\"color: grey\">(43.0%) </span></td>\n",
       "      <td id=\"T_d969c_row2_col1\" class=\"data row2 col1\" >3 <span style=\"color: grey\">(3.8%) </span></td>\n",
       "      <td id=\"T_d969c_row2_col2\" class=\"data row2 col2\" >37 <span style=\"color: grey\">(46.8%) </span></td>\n",
       "    </tr>\n",
       "    <tr>\n",
       "      <th id=\"T_d969c_level0_row3\" class=\"row_heading level0 row3\" >Intensity</th>\n",
       "      <td id=\"T_d969c_row3_col0\" class=\"data row3 col0\" >24 <span style=\"color: grey\">(30.4%) </span></td>\n",
       "      <td id=\"T_d969c_row3_col1\" class=\"data row3 col1\" >1 <span style=\"color: grey\">(1.3%) </span></td>\n",
       "      <td id=\"T_d969c_row3_col2\" class=\"data row3 col2\" >25 <span style=\"color: grey\">(31.6%) </span></td>\n",
       "    </tr>\n",
       "    <tr>\n",
       "      <th id=\"T_d969c_level0_row4\" class=\"row_heading level0 row4\" >Motivationsstrategie</th>\n",
       "      <td id=\"T_d969c_row4_col0\" class=\"data row4 col0\" >1 <span style=\"color: grey\">(1.3%) </span></td>\n",
       "      <td id=\"T_d969c_row4_col1\" class=\"data row4 col1\" ><span style=\"color: grey\">0 </span></td>\n",
       "      <td id=\"T_d969c_row4_col2\" class=\"data row4 col2\" >1 <span style=\"color: grey\">(1.3%) </span></td>\n",
       "    </tr>\n",
       "    <tr>\n",
       "      <th id=\"T_d969c_level0_row5\" class=\"row_heading level0 row5\" >Setting</th>\n",
       "      <td id=\"T_d969c_row5_col0\" class=\"data row5 col0\" >3 <span style=\"color: grey\">(3.8%) </span></td>\n",
       "      <td id=\"T_d969c_row5_col1\" class=\"data row5 col1\" ><span style=\"color: grey\">0 </span></td>\n",
       "      <td id=\"T_d969c_row5_col2\" class=\"data row5 col2\" >3 <span style=\"color: grey\">(3.8%) </span></td>\n",
       "    </tr>\n",
       "    <tr>\n",
       "      <th id=\"T_d969c_level0_row6\" class=\"row_heading level0 row6\" >Weiteres</th>\n",
       "      <td id=\"T_d969c_row6_col0\" class=\"data row6 col0\" ><span style=\"color: grey\">0 </span></td>\n",
       "      <td id=\"T_d969c_row6_col1\" class=\"data row6 col1\" >1 <span style=\"color: grey\">(1.3%) </span></td>\n",
       "      <td id=\"T_d969c_row6_col2\" class=\"data row6 col2\" >1 <span style=\"color: grey\">(1.3%) </span></td>\n",
       "    </tr>\n",
       "    <tr>\n",
       "      <th id=\"T_d969c_level0_row7\" class=\"row_heading level0 row7\" >Total</th>\n",
       "      <td id=\"T_d969c_row7_col0\" class=\"data row7 col0\" >71 <span style=\"color: grey\">(89.9%) </span></td>\n",
       "      <td id=\"T_d969c_row7_col1\" class=\"data row7 col1\" >8 <span style=\"color: grey\">(10.1%) </span></td>\n",
       "      <td id=\"T_d969c_row7_col2\" class=\"data row7 col2\" >79 <span style=\"color: grey\">(100.0%) </span></td>\n",
       "    </tr>\n",
       "  </tbody>\n",
       "</table>\n"
      ],
      "text/plain": [
       "<pandas.io.formats.style.Styler at 0x176b03dd0>"
      ]
     },
     "metadata": {},
     "output_type": "display_data"
    },
    {
     "data": {
      "text/html": [
       "<style type=\"text/css\">\n",
       "#T_49363 th:first-child {\n",
       "  min-width: 400px !important;\n",
       "  max-width: 400px !important;\n",
       "  white-space: nowrap;\n",
       "  overflow: hidden;\n",
       "}\n",
       "#T_49363  td:first-child {\n",
       "  min-width: 400px !important;\n",
       "  max-width: 400px !important;\n",
       "  white-space: nowrap;\n",
       "  overflow: hidden;\n",
       "}\n",
       "#T_49363_row0_col0 {\n",
       "  width: 10em;\n",
       "  background: linear-gradient(90deg, lightblue 13.0%, transparent 13.0%);\n",
       "  font-family: Courier;\n",
       "}\n",
       "#T_49363_row0_col1, #T_49363_row2_col0 {\n",
       "  width: 10em;\n",
       "  font-family: Courier;\n",
       "}\n",
       "#T_49363_row0_col2 {\n",
       "  width: 10em;\n",
       "  background: linear-gradient(90deg, lightblue 11.5%, transparent 11.5%);\n",
       "  font-family: Courier;\n",
       "}\n",
       "#T_49363_row1_col0 {\n",
       "  width: 10em;\n",
       "  background: linear-gradient(90deg, lightblue 17.4%, transparent 17.4%);\n",
       "  font-family: Courier;\n",
       "}\n",
       "#T_49363_row1_col1, #T_49363_row2_col1 {\n",
       "  width: 10em;\n",
       "  background: linear-gradient(90deg, lightblue 16.7%, transparent 16.7%);\n",
       "  font-family: Courier;\n",
       "}\n",
       "#T_49363_row1_col2 {\n",
       "  width: 10em;\n",
       "  background: linear-gradient(90deg, lightblue 17.3%, transparent 17.3%);\n",
       "  font-family: Courier;\n",
       "}\n",
       "#T_49363_row2_col2 {\n",
       "  width: 10em;\n",
       "  background: linear-gradient(90deg, lightblue 1.9%, transparent 1.9%);\n",
       "  font-family: Courier;\n",
       "}\n",
       "#T_49363_row3_col0 {\n",
       "  width: 10em;\n",
       "  background: linear-gradient(90deg, lightblue 69.6%, transparent 69.6%);\n",
       "  font-family: Courier;\n",
       "}\n",
       "#T_49363_row3_col1 {\n",
       "  width: 10em;\n",
       "  background: linear-gradient(90deg, lightblue 66.7%, transparent 66.7%);\n",
       "  font-family: Courier;\n",
       "}\n",
       "#T_49363_row3_col2 {\n",
       "  width: 10em;\n",
       "  background: linear-gradient(90deg, lightblue 69.2%, transparent 69.2%);\n",
       "  font-family: Courier;\n",
       "}\n",
       "#T_49363_row4_col0, #T_49363_row4_col1, #T_49363_row4_col2 {\n",
       "  width: 10em;\n",
       "  background: linear-gradient(90deg, lightblue 100.0%, transparent 100.0%);\n",
       "  font-family: Courier;\n",
       "}\n",
       "</style>\n",
       "<table id=\"T_49363\">\n",
       "  <thead>\n",
       "    <tr>\n",
       "      <th class=\"index_name level0\" >[01.01] CTCAE</th>\n",
       "      <th id=\"T_49363_level0_col0\" class=\"col_heading level0 col0\" >1</th>\n",
       "      <th id=\"T_49363_level0_col1\" class=\"col_heading level0 col1\" >2</th>\n",
       "      <th id=\"T_49363_level0_col2\" class=\"col_heading level0 col2\" >Total</th>\n",
       "    </tr>\n",
       "    <tr>\n",
       "      <th class=\"index_name level0\" >[03.14.02] Adaptations duration</th>\n",
       "      <th class=\"blank col0\" >&nbsp;</th>\n",
       "      <th class=\"blank col1\" >&nbsp;</th>\n",
       "      <th class=\"blank col2\" >&nbsp;</th>\n",
       "    </tr>\n",
       "  </thead>\n",
       "  <tbody>\n",
       "    <tr>\n",
       "      <th id=\"T_49363_level0_row0\" class=\"row_heading level0 row0\" >Ab jetzt für alle Bewegungseinheiten mit allen Patient*innen</th>\n",
       "      <td id=\"T_49363_row0_col0\" class=\"data row0 col0\" >6 <span style=\"color: grey\">(11.5%) </span></td>\n",
       "      <td id=\"T_49363_row0_col1\" class=\"data row0 col1\" ><span style=\"color: grey\">0 </span></td>\n",
       "      <td id=\"T_49363_row0_col2\" class=\"data row0 col2\" >6 <span style=\"color: grey\">(11.5%) </span></td>\n",
       "    </tr>\n",
       "    <tr>\n",
       "      <th id=\"T_49363_level0_row1\" class=\"row_heading level0 row1\" >Für die gesamte Therapiephase</th>\n",
       "      <td id=\"T_49363_row1_col0\" class=\"data row1 col0\" >8 <span style=\"color: grey\">(15.4%) </span></td>\n",
       "      <td id=\"T_49363_row1_col1\" class=\"data row1 col1\" >1 <span style=\"color: grey\">(1.9%) </span></td>\n",
       "      <td id=\"T_49363_row1_col2\" class=\"data row1 col2\" >9 <span style=\"color: grey\">(17.3%) </span></td>\n",
       "    </tr>\n",
       "    <tr>\n",
       "      <th id=\"T_49363_level0_row2\" class=\"row_heading level0 row2\" >Für die nächsten Einheiten (da das AE rückwirkend auftrat</th>\n",
       "      <td id=\"T_49363_row2_col0\" class=\"data row2 col0\" ><span style=\"color: grey\">0 </span></td>\n",
       "      <td id=\"T_49363_row2_col1\" class=\"data row2 col1\" >1 <span style=\"color: grey\">(1.9%) </span></td>\n",
       "      <td id=\"T_49363_row2_col2\" class=\"data row2 col2\" >1 <span style=\"color: grey\">(1.9%) </span></td>\n",
       "    </tr>\n",
       "    <tr>\n",
       "      <th id=\"T_49363_level0_row3\" class=\"row_heading level0 row3\" >Nur für diese Einheit</th>\n",
       "      <td id=\"T_49363_row3_col0\" class=\"data row3 col0\" >32 <span style=\"color: grey\">(61.5%) </span></td>\n",
       "      <td id=\"T_49363_row3_col1\" class=\"data row3 col1\" >4 <span style=\"color: grey\">(7.7%) </span></td>\n",
       "      <td id=\"T_49363_row3_col2\" class=\"data row3 col2\" >36 <span style=\"color: grey\">(69.2%) </span></td>\n",
       "    </tr>\n",
       "    <tr>\n",
       "      <th id=\"T_49363_level0_row4\" class=\"row_heading level0 row4\" >Total</th>\n",
       "      <td id=\"T_49363_row4_col0\" class=\"data row4 col0\" >46 <span style=\"color: grey\">(88.5%) </span></td>\n",
       "      <td id=\"T_49363_row4_col1\" class=\"data row4 col1\" >6 <span style=\"color: grey\">(11.5%) </span></td>\n",
       "      <td id=\"T_49363_row4_col2\" class=\"data row4 col2\" >52 <span style=\"color: grey\">(100.0%) </span></td>\n",
       "    </tr>\n",
       "  </tbody>\n",
       "</table>\n"
      ],
      "text/plain": [
       "<pandas.io.formats.style.Styler at 0x176b023f0>"
      ]
     },
     "metadata": {},
     "output_type": "display_data"
    },
    {
     "data": {
      "text/html": [
       "<style type=\"text/css\">\n",
       "#T_303c4 th:first-child {\n",
       "  min-width: 400px !important;\n",
       "  max-width: 400px !important;\n",
       "  white-space: nowrap;\n",
       "  overflow: hidden;\n",
       "}\n",
       "#T_303c4  td:first-child {\n",
       "  min-width: 400px !important;\n",
       "  max-width: 400px !important;\n",
       "  white-space: nowrap;\n",
       "  overflow: hidden;\n",
       "}\n",
       "#T_303c4_row0_col0 {\n",
       "  width: 10em;\n",
       "  background: linear-gradient(90deg, lightblue 90.2%, transparent 90.2%);\n",
       "  font-family: Courier;\n",
       "}\n",
       "#T_303c4_row0_col1 {\n",
       "  width: 10em;\n",
       "  background: linear-gradient(90deg, lightblue 65.4%, transparent 65.4%);\n",
       "  font-family: Courier;\n",
       "}\n",
       "#T_303c4_row0_col2 {\n",
       "  width: 10em;\n",
       "  background: linear-gradient(90deg, lightblue 33.3%, transparent 33.3%);\n",
       "  font-family: Courier;\n",
       "}\n",
       "#T_303c4_row0_col3, #T_303c4_row2_col2, #T_303c4_row2_col3, #T_303c4_row3_col1, #T_303c4_row3_col2, #T_303c4_row3_col3 {\n",
       "  width: 10em;\n",
       "  font-family: Courier;\n",
       "}\n",
       "#T_303c4_row0_col4 {\n",
       "  width: 10em;\n",
       "  background: linear-gradient(90deg, lightblue 83.8%, transparent 83.8%);\n",
       "  font-family: Courier;\n",
       "}\n",
       "#T_303c4_row1_col0 {\n",
       "  width: 10em;\n",
       "  background: linear-gradient(90deg, lightblue 6.0%, transparent 6.0%);\n",
       "  font-family: Courier;\n",
       "}\n",
       "#T_303c4_row1_col1 {\n",
       "  width: 10em;\n",
       "  background: linear-gradient(90deg, lightblue 30.8%, transparent 30.8%);\n",
       "  font-family: Courier;\n",
       "}\n",
       "#T_303c4_row1_col2 {\n",
       "  width: 10em;\n",
       "  background: linear-gradient(90deg, lightblue 66.7%, transparent 66.7%);\n",
       "  font-family: Courier;\n",
       "}\n",
       "#T_303c4_row1_col3, #T_303c4_row4_col0, #T_303c4_row4_col1, #T_303c4_row4_col2, #T_303c4_row4_col3, #T_303c4_row4_col4 {\n",
       "  width: 10em;\n",
       "  background: linear-gradient(90deg, lightblue 100.0%, transparent 100.0%);\n",
       "  font-family: Courier;\n",
       "}\n",
       "#T_303c4_row1_col4 {\n",
       "  width: 10em;\n",
       "  background: linear-gradient(90deg, lightblue 12.5%, transparent 12.5%);\n",
       "  font-family: Courier;\n",
       "}\n",
       "#T_303c4_row2_col0, #T_303c4_row2_col4 {\n",
       "  width: 10em;\n",
       "  background: linear-gradient(90deg, lightblue 3.3%, transparent 3.3%);\n",
       "  font-family: Courier;\n",
       "}\n",
       "#T_303c4_row2_col1 {\n",
       "  width: 10em;\n",
       "  background: linear-gradient(90deg, lightblue 3.8%, transparent 3.8%);\n",
       "  font-family: Courier;\n",
       "}\n",
       "#T_303c4_row3_col0 {\n",
       "  width: 10em;\n",
       "  background: linear-gradient(90deg, lightblue 0.5%, transparent 0.5%);\n",
       "  font-family: Courier;\n",
       "}\n",
       "#T_303c4_row3_col4 {\n",
       "  width: 10em;\n",
       "  background: linear-gradient(90deg, lightblue 0.4%, transparent 0.4%);\n",
       "  font-family: Courier;\n",
       "}\n",
       "</style>\n",
       "<table id=\"T_303c4\">\n",
       "  <thead>\n",
       "    <tr>\n",
       "      <th class=\"index_name level0\" >[01.01] CTCAE</th>\n",
       "      <th id=\"T_303c4_level0_col0\" class=\"col_heading level0 col0\" >1</th>\n",
       "      <th id=\"T_303c4_level0_col1\" class=\"col_heading level0 col1\" >2</th>\n",
       "      <th id=\"T_303c4_level0_col2\" class=\"col_heading level0 col2\" >3</th>\n",
       "      <th id=\"T_303c4_level0_col3\" class=\"col_heading level0 col3\" >4</th>\n",
       "      <th id=\"T_303c4_level0_col4\" class=\"col_heading level0 col4\" >Total</th>\n",
       "    </tr>\n",
       "    <tr>\n",
       "      <th class=\"index_name level0\" >[05.01] Therapy phase</th>\n",
       "      <th class=\"blank col0\" >&nbsp;</th>\n",
       "      <th class=\"blank col1\" >&nbsp;</th>\n",
       "      <th class=\"blank col2\" >&nbsp;</th>\n",
       "      <th class=\"blank col3\" >&nbsp;</th>\n",
       "      <th class=\"blank col4\" >&nbsp;</th>\n",
       "    </tr>\n",
       "  </thead>\n",
       "  <tbody>\n",
       "    <tr>\n",
       "      <th id=\"T_303c4_level0_row0\" class=\"row_heading level0 row0\" >Acute therapy</th>\n",
       "      <td id=\"T_303c4_row0_col0\" class=\"data row0 col0\" >166 <span style=\"color: grey\">(69.2%) </span></td>\n",
       "      <td id=\"T_303c4_row0_col1\" class=\"data row0 col1\" >34 <span style=\"color: grey\">(14.2%) </span></td>\n",
       "      <td id=\"T_303c4_row0_col2\" class=\"data row0 col2\" >1 <span style=\"color: grey\">(0.4%) </span></td>\n",
       "      <td id=\"T_303c4_row0_col3\" class=\"data row0 col3\" ><span style=\"color: grey\">0 </span></td>\n",
       "      <td id=\"T_303c4_row0_col4\" class=\"data row0 col4\" >201 <span style=\"color: grey\">(83.8%) </span></td>\n",
       "    </tr>\n",
       "    <tr>\n",
       "      <th id=\"T_303c4_level0_row1\" class=\"row_heading level0 row1\" >Aftercare</th>\n",
       "      <td id=\"T_303c4_row1_col0\" class=\"data row1 col0\" >11 <span style=\"color: grey\">(4.6%) </span></td>\n",
       "      <td id=\"T_303c4_row1_col1\" class=\"data row1 col1\" >16 <span style=\"color: grey\">(6.7%) </span></td>\n",
       "      <td id=\"T_303c4_row1_col2\" class=\"data row1 col2\" >2 <span style=\"color: grey\">(0.8%) </span></td>\n",
       "      <td id=\"T_303c4_row1_col3\" class=\"data row1 col3\" >1 <span style=\"color: grey\">(0.4%) </span></td>\n",
       "      <td id=\"T_303c4_row1_col4\" class=\"data row1 col4\" >30 <span style=\"color: grey\">(12.5%) </span></td>\n",
       "    </tr>\n",
       "    <tr>\n",
       "      <th id=\"T_303c4_level0_row2\" class=\"row_heading level0 row2\" >Long-term therapy</th>\n",
       "      <td id=\"T_303c4_row2_col0\" class=\"data row2 col0\" >6 <span style=\"color: grey\">(2.5%) </span></td>\n",
       "      <td id=\"T_303c4_row2_col1\" class=\"data row2 col1\" >2 <span style=\"color: grey\">(0.8%) </span></td>\n",
       "      <td id=\"T_303c4_row2_col2\" class=\"data row2 col2\" ><span style=\"color: grey\">0 </span></td>\n",
       "      <td id=\"T_303c4_row2_col3\" class=\"data row2 col3\" ><span style=\"color: grey\">0 </span></td>\n",
       "      <td id=\"T_303c4_row2_col4\" class=\"data row2 col4\" >8 <span style=\"color: grey\">(3.3%) </span></td>\n",
       "    </tr>\n",
       "    <tr>\n",
       "      <th id=\"T_303c4_level0_row3\" class=\"row_heading level0 row3\" >Weiß nicht</th>\n",
       "      <td id=\"T_303c4_row3_col0\" class=\"data row3 col0\" >1 <span style=\"color: grey\">(0.4%) </span></td>\n",
       "      <td id=\"T_303c4_row3_col1\" class=\"data row3 col1\" ><span style=\"color: grey\">0 </span></td>\n",
       "      <td id=\"T_303c4_row3_col2\" class=\"data row3 col2\" ><span style=\"color: grey\">0 </span></td>\n",
       "      <td id=\"T_303c4_row3_col3\" class=\"data row3 col3\" ><span style=\"color: grey\">0 </span></td>\n",
       "      <td id=\"T_303c4_row3_col4\" class=\"data row3 col4\" >1 <span style=\"color: grey\">(0.4%) </span></td>\n",
       "    </tr>\n",
       "    <tr>\n",
       "      <th id=\"T_303c4_level0_row4\" class=\"row_heading level0 row4\" >Total</th>\n",
       "      <td id=\"T_303c4_row4_col0\" class=\"data row4 col0\" >184 <span style=\"color: grey\">(76.7%) </span></td>\n",
       "      <td id=\"T_303c4_row4_col1\" class=\"data row4 col1\" >52 <span style=\"color: grey\">(21.7%) </span></td>\n",
       "      <td id=\"T_303c4_row4_col2\" class=\"data row4 col2\" >3 <span style=\"color: grey\">(1.2%) </span></td>\n",
       "      <td id=\"T_303c4_row4_col3\" class=\"data row4 col3\" >1 <span style=\"color: grey\">(0.4%) </span></td>\n",
       "      <td id=\"T_303c4_row4_col4\" class=\"data row4 col4\" >240 <span style=\"color: grey\">(100.0%) </span></td>\n",
       "    </tr>\n",
       "  </tbody>\n",
       "</table>\n"
      ],
      "text/plain": [
       "<pandas.io.formats.style.Styler at 0x176b02270>"
      ]
     },
     "metadata": {},
     "output_type": "display_data"
    },
    {
     "data": {
      "text/html": [
       "<style type=\"text/css\">\n",
       "#T_5f70f th:first-child {\n",
       "  min-width: 400px !important;\n",
       "  max-width: 400px !important;\n",
       "  white-space: nowrap;\n",
       "  overflow: hidden;\n",
       "}\n",
       "#T_5f70f  td:first-child {\n",
       "  min-width: 400px !important;\n",
       "  max-width: 400px !important;\n",
       "  white-space: nowrap;\n",
       "  overflow: hidden;\n",
       "}\n",
       "#T_5f70f_row0_col0 {\n",
       "  width: 10em;\n",
       "  background: linear-gradient(90deg, lightblue 2.2%, transparent 2.2%);\n",
       "  font-family: Courier;\n",
       "}\n",
       "#T_5f70f_row0_col1, #T_5f70f_row1_col4 {\n",
       "  width: 10em;\n",
       "  background: linear-gradient(90deg, lightblue 3.8%, transparent 3.8%);\n",
       "  font-family: Courier;\n",
       "}\n",
       "#T_5f70f_row0_col2, #T_5f70f_row0_col3, #T_5f70f_row1_col3, #T_5f70f_row2_col0, #T_5f70f_row2_col2, #T_5f70f_row2_col3 {\n",
       "  width: 10em;\n",
       "  font-family: Courier;\n",
       "}\n",
       "#T_5f70f_row0_col4, #T_5f70f_row2_col4 {\n",
       "  width: 10em;\n",
       "  background: linear-gradient(90deg, lightblue 2.5%, transparent 2.5%);\n",
       "  font-family: Courier;\n",
       "}\n",
       "#T_5f70f_row1_col0 {\n",
       "  width: 10em;\n",
       "  background: linear-gradient(90deg, lightblue 1.1%, transparent 1.1%);\n",
       "  font-family: Courier;\n",
       "}\n",
       "#T_5f70f_row1_col1, #T_5f70f_row2_col1 {\n",
       "  width: 10em;\n",
       "  background: linear-gradient(90deg, lightblue 11.5%, transparent 11.5%);\n",
       "  font-family: Courier;\n",
       "}\n",
       "#T_5f70f_row1_col2 {\n",
       "  width: 10em;\n",
       "  background: linear-gradient(90deg, lightblue 33.3%, transparent 33.3%);\n",
       "  font-family: Courier;\n",
       "}\n",
       "#T_5f70f_row3_col0 {\n",
       "  width: 10em;\n",
       "  background: linear-gradient(90deg, lightblue 96.7%, transparent 96.7%);\n",
       "  font-family: Courier;\n",
       "}\n",
       "#T_5f70f_row3_col1 {\n",
       "  width: 10em;\n",
       "  background: linear-gradient(90deg, lightblue 73.1%, transparent 73.1%);\n",
       "  font-family: Courier;\n",
       "}\n",
       "#T_5f70f_row3_col2 {\n",
       "  width: 10em;\n",
       "  background: linear-gradient(90deg, lightblue 66.7%, transparent 66.7%);\n",
       "  font-family: Courier;\n",
       "}\n",
       "#T_5f70f_row3_col3, #T_5f70f_row4_col0, #T_5f70f_row4_col1, #T_5f70f_row4_col2, #T_5f70f_row4_col3, #T_5f70f_row4_col4 {\n",
       "  width: 10em;\n",
       "  background: linear-gradient(90deg, lightblue 100.0%, transparent 100.0%);\n",
       "  font-family: Courier;\n",
       "}\n",
       "#T_5f70f_row3_col4 {\n",
       "  width: 10em;\n",
       "  background: linear-gradient(90deg, lightblue 91.1%, transparent 91.1%);\n",
       "  font-family: Courier;\n",
       "}\n",
       "</style>\n",
       "<table id=\"T_5f70f\">\n",
       "  <thead>\n",
       "    <tr>\n",
       "      <th class=\"index_name level0\" >[01.01] CTCAE</th>\n",
       "      <th id=\"T_5f70f_level0_col0\" class=\"col_heading level0 col0\" >1</th>\n",
       "      <th id=\"T_5f70f_level0_col1\" class=\"col_heading level0 col1\" >2</th>\n",
       "      <th id=\"T_5f70f_level0_col2\" class=\"col_heading level0 col2\" >3</th>\n",
       "      <th id=\"T_5f70f_level0_col3\" class=\"col_heading level0 col3\" >4</th>\n",
       "      <th id=\"T_5f70f_level0_col4\" class=\"col_heading level0 col4\" >Total</th>\n",
       "    </tr>\n",
       "    <tr>\n",
       "      <th class=\"index_name level0\" >[05.02] Group size</th>\n",
       "      <th class=\"blank col0\" >&nbsp;</th>\n",
       "      <th class=\"blank col1\" >&nbsp;</th>\n",
       "      <th class=\"blank col2\" >&nbsp;</th>\n",
       "      <th class=\"blank col3\" >&nbsp;</th>\n",
       "      <th class=\"blank col4\" >&nbsp;</th>\n",
       "    </tr>\n",
       "  </thead>\n",
       "  <tbody>\n",
       "    <tr>\n",
       "      <th id=\"T_5f70f_level0_row0\" class=\"row_heading level0 row0\" >Group 2-5</th>\n",
       "      <td id=\"T_5f70f_row0_col0\" class=\"data row0 col0\" >4 <span style=\"color: grey\">(1.7%) </span></td>\n",
       "      <td id=\"T_5f70f_row0_col1\" class=\"data row0 col1\" >2 <span style=\"color: grey\">(0.8%) </span></td>\n",
       "      <td id=\"T_5f70f_row0_col2\" class=\"data row0 col2\" ><span style=\"color: grey\">0 </span></td>\n",
       "      <td id=\"T_5f70f_row0_col3\" class=\"data row0 col3\" ><span style=\"color: grey\">0 </span></td>\n",
       "      <td id=\"T_5f70f_row0_col4\" class=\"data row0 col4\" >6 <span style=\"color: grey\">(2.5%) </span></td>\n",
       "    </tr>\n",
       "    <tr>\n",
       "      <th id=\"T_5f70f_level0_row1\" class=\"row_heading level0 row1\" >Group 5 to 10</th>\n",
       "      <td id=\"T_5f70f_row1_col0\" class=\"data row1 col0\" >2 <span style=\"color: grey\">(0.8%) </span></td>\n",
       "      <td id=\"T_5f70f_row1_col1\" class=\"data row1 col1\" >6 <span style=\"color: grey\">(2.5%) </span></td>\n",
       "      <td id=\"T_5f70f_row1_col2\" class=\"data row1 col2\" >1 <span style=\"color: grey\">(0.4%) </span></td>\n",
       "      <td id=\"T_5f70f_row1_col3\" class=\"data row1 col3\" ><span style=\"color: grey\">0 </span></td>\n",
       "      <td id=\"T_5f70f_row1_col4\" class=\"data row1 col4\" >9 <span style=\"color: grey\">(3.8%) </span></td>\n",
       "    </tr>\n",
       "    <tr>\n",
       "      <th id=\"T_5f70f_level0_row2\" class=\"row_heading level0 row2\" >Group over 10</th>\n",
       "      <td id=\"T_5f70f_row2_col0\" class=\"data row2 col0\" ><span style=\"color: grey\">0 </span></td>\n",
       "      <td id=\"T_5f70f_row2_col1\" class=\"data row2 col1\" >6 <span style=\"color: grey\">(2.5%) </span></td>\n",
       "      <td id=\"T_5f70f_row2_col2\" class=\"data row2 col2\" ><span style=\"color: grey\">0 </span></td>\n",
       "      <td id=\"T_5f70f_row2_col3\" class=\"data row2 col3\" ><span style=\"color: grey\">0 </span></td>\n",
       "      <td id=\"T_5f70f_row2_col4\" class=\"data row2 col4\" >6 <span style=\"color: grey\">(2.5%) </span></td>\n",
       "    </tr>\n",
       "    <tr>\n",
       "      <th id=\"T_5f70f_level0_row3\" class=\"row_heading level0 row3\" >Individual</th>\n",
       "      <td id=\"T_5f70f_row3_col0\" class=\"data row3 col0\" >174 <span style=\"color: grey\">(73.7%) </span></td>\n",
       "      <td id=\"T_5f70f_row3_col1\" class=\"data row3 col1\" >38 <span style=\"color: grey\">(16.1%) </span></td>\n",
       "      <td id=\"T_5f70f_row3_col2\" class=\"data row3 col2\" >2 <span style=\"color: grey\">(0.8%) </span></td>\n",
       "      <td id=\"T_5f70f_row3_col3\" class=\"data row3 col3\" >1 <span style=\"color: grey\">(0.4%) </span></td>\n",
       "      <td id=\"T_5f70f_row3_col4\" class=\"data row3 col4\" >215 <span style=\"color: grey\">(91.1%) </span></td>\n",
       "    </tr>\n",
       "    <tr>\n",
       "      <th id=\"T_5f70f_level0_row4\" class=\"row_heading level0 row4\" >Total</th>\n",
       "      <td id=\"T_5f70f_row4_col0\" class=\"data row4 col0\" >180 <span style=\"color: grey\">(76.3%) </span></td>\n",
       "      <td id=\"T_5f70f_row4_col1\" class=\"data row4 col1\" >52 <span style=\"color: grey\">(22.0%) </span></td>\n",
       "      <td id=\"T_5f70f_row4_col2\" class=\"data row4 col2\" >3 <span style=\"color: grey\">(1.3%) </span></td>\n",
       "      <td id=\"T_5f70f_row4_col3\" class=\"data row4 col3\" >1 <span style=\"color: grey\">(0.4%) </span></td>\n",
       "      <td id=\"T_5f70f_row4_col4\" class=\"data row4 col4\" >236 <span style=\"color: grey\">(100.0%) </span></td>\n",
       "    </tr>\n",
       "  </tbody>\n",
       "</table>\n"
      ],
      "text/plain": [
       "<pandas.io.formats.style.Styler at 0x176b012e0>"
      ]
     },
     "metadata": {},
     "output_type": "display_data"
    },
    {
     "data": {
      "text/html": [
       "<style type=\"text/css\">\n",
       "#T_1ecc2 th:first-child {\n",
       "  min-width: 400px !important;\n",
       "  max-width: 400px !important;\n",
       "  white-space: nowrap;\n",
       "  overflow: hidden;\n",
       "}\n",
       "#T_1ecc2  td:first-child {\n",
       "  min-width: 400px !important;\n",
       "  max-width: 400px !important;\n",
       "  white-space: nowrap;\n",
       "  overflow: hidden;\n",
       "}\n",
       "#T_1ecc2_row0_col0 {\n",
       "  width: 10em;\n",
       "  background: linear-gradient(90deg, lightblue 11.5%, transparent 11.5%);\n",
       "  font-family: Courier;\n",
       "}\n",
       "#T_1ecc2_row0_col1 {\n",
       "  width: 10em;\n",
       "  background: linear-gradient(90deg, lightblue 27.9%, transparent 27.9%);\n",
       "  font-family: Courier;\n",
       "}\n",
       "#T_1ecc2_row0_col2, #T_1ecc2_row0_col3, #T_1ecc2_row1_col2, #T_1ecc2_row1_col3, #T_1ecc2_row2_col2, #T_1ecc2_row2_col3, #T_1ecc2_row3_col3 {\n",
       "  width: 10em;\n",
       "  font-family: Courier;\n",
       "}\n",
       "#T_1ecc2_row0_col4 {\n",
       "  width: 10em;\n",
       "  background: linear-gradient(90deg, lightblue 14.9%, transparent 14.9%);\n",
       "  font-family: Courier;\n",
       "}\n",
       "#T_1ecc2_row1_col0 {\n",
       "  width: 10em;\n",
       "  background: linear-gradient(90deg, lightblue 37.8%, transparent 37.8%);\n",
       "  font-family: Courier;\n",
       "}\n",
       "#T_1ecc2_row1_col1, #T_1ecc2_row2_col1 {\n",
       "  width: 10em;\n",
       "  background: linear-gradient(90deg, lightblue 25.6%, transparent 25.6%);\n",
       "  font-family: Courier;\n",
       "}\n",
       "#T_1ecc2_row1_col4 {\n",
       "  width: 10em;\n",
       "  background: linear-gradient(90deg, lightblue 34.4%, transparent 34.4%);\n",
       "  font-family: Courier;\n",
       "}\n",
       "#T_1ecc2_row2_col0 {\n",
       "  width: 10em;\n",
       "  background: linear-gradient(90deg, lightblue 31.1%, transparent 31.1%);\n",
       "  font-family: Courier;\n",
       "}\n",
       "#T_1ecc2_row2_col4 {\n",
       "  width: 10em;\n",
       "  background: linear-gradient(90deg, lightblue 29.2%, transparent 29.2%);\n",
       "  font-family: Courier;\n",
       "}\n",
       "#T_1ecc2_row3_col0 {\n",
       "  width: 10em;\n",
       "  background: linear-gradient(90deg, lightblue 16.9%, transparent 16.9%);\n",
       "  font-family: Courier;\n",
       "}\n",
       "#T_1ecc2_row3_col1 {\n",
       "  width: 10em;\n",
       "  background: linear-gradient(90deg, lightblue 14.0%, transparent 14.0%);\n",
       "  font-family: Courier;\n",
       "}\n",
       "#T_1ecc2_row3_col2 {\n",
       "  width: 10em;\n",
       "  background: linear-gradient(90deg, lightblue 33.3%, transparent 33.3%);\n",
       "  font-family: Courier;\n",
       "}\n",
       "#T_1ecc2_row3_col4 {\n",
       "  width: 10em;\n",
       "  background: linear-gradient(90deg, lightblue 16.4%, transparent 16.4%);\n",
       "  font-family: Courier;\n",
       "}\n",
       "#T_1ecc2_row4_col0 {\n",
       "  width: 10em;\n",
       "  background: linear-gradient(90deg, lightblue 2.7%, transparent 2.7%);\n",
       "  font-family: Courier;\n",
       "}\n",
       "#T_1ecc2_row4_col1 {\n",
       "  width: 10em;\n",
       "  background: linear-gradient(90deg, lightblue 7.0%, transparent 7.0%);\n",
       "  font-family: Courier;\n",
       "}\n",
       "#T_1ecc2_row4_col2 {\n",
       "  width: 10em;\n",
       "  background: linear-gradient(90deg, lightblue 66.7%, transparent 66.7%);\n",
       "  font-family: Courier;\n",
       "}\n",
       "#T_1ecc2_row4_col3, #T_1ecc2_row5_col0, #T_1ecc2_row5_col1, #T_1ecc2_row5_col2, #T_1ecc2_row5_col3, #T_1ecc2_row5_col4 {\n",
       "  width: 10em;\n",
       "  background: linear-gradient(90deg, lightblue 100.0%, transparent 100.0%);\n",
       "  font-family: Courier;\n",
       "}\n",
       "#T_1ecc2_row4_col4 {\n",
       "  width: 10em;\n",
       "  background: linear-gradient(90deg, lightblue 5.1%, transparent 5.1%);\n",
       "  font-family: Courier;\n",
       "}\n",
       "</style>\n",
       "<table id=\"T_1ecc2\">\n",
       "  <thead>\n",
       "    <tr>\n",
       "      <th class=\"index_name level0\" >[01.01] CTCAE</th>\n",
       "      <th id=\"T_1ecc2_level0_col0\" class=\"col_heading level0 col0\" >1</th>\n",
       "      <th id=\"T_1ecc2_level0_col1\" class=\"col_heading level0 col1\" >2</th>\n",
       "      <th id=\"T_1ecc2_level0_col2\" class=\"col_heading level0 col2\" >3</th>\n",
       "      <th id=\"T_1ecc2_level0_col3\" class=\"col_heading level0 col3\" >4</th>\n",
       "      <th id=\"T_1ecc2_level0_col4\" class=\"col_heading level0 col4\" >Total</th>\n",
       "    </tr>\n",
       "    <tr>\n",
       "      <th class=\"index_name level0\" >[05.03] Age</th>\n",
       "      <th class=\"blank col0\" >&nbsp;</th>\n",
       "      <th class=\"blank col1\" >&nbsp;</th>\n",
       "      <th class=\"blank col2\" >&nbsp;</th>\n",
       "      <th class=\"blank col3\" >&nbsp;</th>\n",
       "      <th class=\"blank col4\" >&nbsp;</th>\n",
       "    </tr>\n",
       "  </thead>\n",
       "  <tbody>\n",
       "    <tr>\n",
       "      <th id=\"T_1ecc2_level0_row0\" class=\"row_heading level0 row0\" >02 to 05 years</th>\n",
       "      <td id=\"T_1ecc2_row0_col0\" class=\"data row0 col0\" >17 <span style=\"color: grey\">(8.7%) </span></td>\n",
       "      <td id=\"T_1ecc2_row0_col1\" class=\"data row0 col1\" >12 <span style=\"color: grey\">(6.2%) </span></td>\n",
       "      <td id=\"T_1ecc2_row0_col2\" class=\"data row0 col2\" ><span style=\"color: grey\">0 </span></td>\n",
       "      <td id=\"T_1ecc2_row0_col3\" class=\"data row0 col3\" ><span style=\"color: grey\">0 </span></td>\n",
       "      <td id=\"T_1ecc2_row0_col4\" class=\"data row0 col4\" >29 <span style=\"color: grey\">(14.9%) </span></td>\n",
       "    </tr>\n",
       "    <tr>\n",
       "      <th id=\"T_1ecc2_level0_row1\" class=\"row_heading level0 row1\" >06 to 09 years</th>\n",
       "      <td id=\"T_1ecc2_row1_col0\" class=\"data row1 col0\" >56 <span style=\"color: grey\">(28.7%) </span></td>\n",
       "      <td id=\"T_1ecc2_row1_col1\" class=\"data row1 col1\" >11 <span style=\"color: grey\">(5.6%) </span></td>\n",
       "      <td id=\"T_1ecc2_row1_col2\" class=\"data row1 col2\" ><span style=\"color: grey\">0 </span></td>\n",
       "      <td id=\"T_1ecc2_row1_col3\" class=\"data row1 col3\" ><span style=\"color: grey\">0 </span></td>\n",
       "      <td id=\"T_1ecc2_row1_col4\" class=\"data row1 col4\" >67 <span style=\"color: grey\">(34.4%) </span></td>\n",
       "    </tr>\n",
       "    <tr>\n",
       "      <th id=\"T_1ecc2_level0_row2\" class=\"row_heading level0 row2\" >10 to 14 years</th>\n",
       "      <td id=\"T_1ecc2_row2_col0\" class=\"data row2 col0\" >46 <span style=\"color: grey\">(23.6%) </span></td>\n",
       "      <td id=\"T_1ecc2_row2_col1\" class=\"data row2 col1\" >11 <span style=\"color: grey\">(5.6%) </span></td>\n",
       "      <td id=\"T_1ecc2_row2_col2\" class=\"data row2 col2\" ><span style=\"color: grey\">0 </span></td>\n",
       "      <td id=\"T_1ecc2_row2_col3\" class=\"data row2 col3\" ><span style=\"color: grey\">0 </span></td>\n",
       "      <td id=\"T_1ecc2_row2_col4\" class=\"data row2 col4\" >57 <span style=\"color: grey\">(29.2%) </span></td>\n",
       "    </tr>\n",
       "    <tr>\n",
       "      <th id=\"T_1ecc2_level0_row3\" class=\"row_heading level0 row3\" >15 to 18 years</th>\n",
       "      <td id=\"T_1ecc2_row3_col0\" class=\"data row3 col0\" >25 <span style=\"color: grey\">(12.8%) </span></td>\n",
       "      <td id=\"T_1ecc2_row3_col1\" class=\"data row3 col1\" >6 <span style=\"color: grey\">(3.1%) </span></td>\n",
       "      <td id=\"T_1ecc2_row3_col2\" class=\"data row3 col2\" >1 <span style=\"color: grey\">(0.5%) </span></td>\n",
       "      <td id=\"T_1ecc2_row3_col3\" class=\"data row3 col3\" ><span style=\"color: grey\">0 </span></td>\n",
       "      <td id=\"T_1ecc2_row3_col4\" class=\"data row3 col4\" >32 <span style=\"color: grey\">(16.4%) </span></td>\n",
       "    </tr>\n",
       "    <tr>\n",
       "      <th id=\"T_1ecc2_level0_row4\" class=\"row_heading level0 row4\" >18+ years</th>\n",
       "      <td id=\"T_1ecc2_row4_col0\" class=\"data row4 col0\" >4 <span style=\"color: grey\">(2.1%) </span></td>\n",
       "      <td id=\"T_1ecc2_row4_col1\" class=\"data row4 col1\" >3 <span style=\"color: grey\">(1.5%) </span></td>\n",
       "      <td id=\"T_1ecc2_row4_col2\" class=\"data row4 col2\" >2 <span style=\"color: grey\">(1.0%) </span></td>\n",
       "      <td id=\"T_1ecc2_row4_col3\" class=\"data row4 col3\" >1 <span style=\"color: grey\">(0.5%) </span></td>\n",
       "      <td id=\"T_1ecc2_row4_col4\" class=\"data row4 col4\" >10 <span style=\"color: grey\">(5.1%) </span></td>\n",
       "    </tr>\n",
       "    <tr>\n",
       "      <th id=\"T_1ecc2_level0_row5\" class=\"row_heading level0 row5\" >Total</th>\n",
       "      <td id=\"T_1ecc2_row5_col0\" class=\"data row5 col0\" >148 <span style=\"color: grey\">(75.9%) </span></td>\n",
       "      <td id=\"T_1ecc2_row5_col1\" class=\"data row5 col1\" >43 <span style=\"color: grey\">(22.1%) </span></td>\n",
       "      <td id=\"T_1ecc2_row5_col2\" class=\"data row5 col2\" >3 <span style=\"color: grey\">(1.5%) </span></td>\n",
       "      <td id=\"T_1ecc2_row5_col3\" class=\"data row5 col3\" >1 <span style=\"color: grey\">(0.5%) </span></td>\n",
       "      <td id=\"T_1ecc2_row5_col4\" class=\"data row5 col4\" >195 <span style=\"color: grey\">(100.0%) </span></td>\n",
       "    </tr>\n",
       "  </tbody>\n",
       "</table>\n"
      ],
      "text/plain": [
       "<pandas.io.formats.style.Styler at 0x176b02480>"
      ]
     },
     "metadata": {},
     "output_type": "display_data"
    },
    {
     "data": {
      "text/html": [
       "<style type=\"text/css\">\n",
       "#T_005c6 th:first-child {\n",
       "  min-width: 400px !important;\n",
       "  max-width: 400px !important;\n",
       "  white-space: nowrap;\n",
       "  overflow: hidden;\n",
       "}\n",
       "#T_005c6  td:first-child {\n",
       "  min-width: 400px !important;\n",
       "  max-width: 400px !important;\n",
       "  white-space: nowrap;\n",
       "  overflow: hidden;\n",
       "}\n",
       "#T_005c6_row0_col0, #T_005c6_row0_col4 {\n",
       "  width: 10em;\n",
       "  background: linear-gradient(90deg, lightblue 96.7%, transparent 96.7%);\n",
       "  font-family: Courier;\n",
       "}\n",
       "#T_005c6_row0_col1 {\n",
       "  width: 10em;\n",
       "  background: linear-gradient(90deg, lightblue 96.2%, transparent 96.2%);\n",
       "  font-family: Courier;\n",
       "}\n",
       "#T_005c6_row0_col2, #T_005c6_row0_col3, #T_005c6_row2_col0, #T_005c6_row2_col1, #T_005c6_row2_col2, #T_005c6_row2_col3, #T_005c6_row2_col4 {\n",
       "  width: 10em;\n",
       "  background: linear-gradient(90deg, lightblue 100.0%, transparent 100.0%);\n",
       "  font-family: Courier;\n",
       "}\n",
       "#T_005c6_row1_col0, #T_005c6_row1_col4 {\n",
       "  width: 10em;\n",
       "  background: linear-gradient(90deg, lightblue 3.3%, transparent 3.3%);\n",
       "  font-family: Courier;\n",
       "}\n",
       "#T_005c6_row1_col1 {\n",
       "  width: 10em;\n",
       "  background: linear-gradient(90deg, lightblue 3.8%, transparent 3.8%);\n",
       "  font-family: Courier;\n",
       "}\n",
       "#T_005c6_row1_col2, #T_005c6_row1_col3 {\n",
       "  width: 10em;\n",
       "  font-family: Courier;\n",
       "}\n",
       "</style>\n",
       "<table id=\"T_005c6\">\n",
       "  <thead>\n",
       "    <tr>\n",
       "      <th class=\"index_name level0\" >[01.01] CTCAE</th>\n",
       "      <th id=\"T_005c6_level0_col0\" class=\"col_heading level0 col0\" >1</th>\n",
       "      <th id=\"T_005c6_level0_col1\" class=\"col_heading level0 col1\" >2</th>\n",
       "      <th id=\"T_005c6_level0_col2\" class=\"col_heading level0 col2\" >3</th>\n",
       "      <th id=\"T_005c6_level0_col3\" class=\"col_heading level0 col3\" >4</th>\n",
       "      <th id=\"T_005c6_level0_col4\" class=\"col_heading level0 col4\" >Total</th>\n",
       "    </tr>\n",
       "    <tr>\n",
       "      <th class=\"index_name level0\" >[05.04] Online</th>\n",
       "      <th class=\"blank col0\" >&nbsp;</th>\n",
       "      <th class=\"blank col1\" >&nbsp;</th>\n",
       "      <th class=\"blank col2\" >&nbsp;</th>\n",
       "      <th class=\"blank col3\" >&nbsp;</th>\n",
       "      <th class=\"blank col4\" >&nbsp;</th>\n",
       "    </tr>\n",
       "  </thead>\n",
       "  <tbody>\n",
       "    <tr>\n",
       "      <th id=\"T_005c6_level0_row0\" class=\"row_heading level0 row0\" >No</th>\n",
       "      <td id=\"T_005c6_row0_col0\" class=\"data row0 col0\" >177 <span style=\"color: grey\">(74.1%) </span></td>\n",
       "      <td id=\"T_005c6_row0_col1\" class=\"data row0 col1\" >50 <span style=\"color: grey\">(20.9%) </span></td>\n",
       "      <td id=\"T_005c6_row0_col2\" class=\"data row0 col2\" >3 <span style=\"color: grey\">(1.3%) </span></td>\n",
       "      <td id=\"T_005c6_row0_col3\" class=\"data row0 col3\" >1 <span style=\"color: grey\">(0.4%) </span></td>\n",
       "      <td id=\"T_005c6_row0_col4\" class=\"data row0 col4\" >231 <span style=\"color: grey\">(96.7%) </span></td>\n",
       "    </tr>\n",
       "    <tr>\n",
       "      <th id=\"T_005c6_level0_row1\" class=\"row_heading level0 row1\" >Yes</th>\n",
       "      <td id=\"T_005c6_row1_col0\" class=\"data row1 col0\" >6 <span style=\"color: grey\">(2.5%) </span></td>\n",
       "      <td id=\"T_005c6_row1_col1\" class=\"data row1 col1\" >2 <span style=\"color: grey\">(0.8%) </span></td>\n",
       "      <td id=\"T_005c6_row1_col2\" class=\"data row1 col2\" ><span style=\"color: grey\">0 </span></td>\n",
       "      <td id=\"T_005c6_row1_col3\" class=\"data row1 col3\" ><span style=\"color: grey\">0 </span></td>\n",
       "      <td id=\"T_005c6_row1_col4\" class=\"data row1 col4\" >8 <span style=\"color: grey\">(3.3%) </span></td>\n",
       "    </tr>\n",
       "    <tr>\n",
       "      <th id=\"T_005c6_level0_row2\" class=\"row_heading level0 row2\" >Total</th>\n",
       "      <td id=\"T_005c6_row2_col0\" class=\"data row2 col0\" >183 <span style=\"color: grey\">(76.6%) </span></td>\n",
       "      <td id=\"T_005c6_row2_col1\" class=\"data row2 col1\" >52 <span style=\"color: grey\">(21.8%) </span></td>\n",
       "      <td id=\"T_005c6_row2_col2\" class=\"data row2 col2\" >3 <span style=\"color: grey\">(1.3%) </span></td>\n",
       "      <td id=\"T_005c6_row2_col3\" class=\"data row2 col3\" >1 <span style=\"color: grey\">(0.4%) </span></td>\n",
       "      <td id=\"T_005c6_row2_col4\" class=\"data row2 col4\" >239 <span style=\"color: grey\">(100.0%) </span></td>\n",
       "    </tr>\n",
       "  </tbody>\n",
       "</table>\n"
      ],
      "text/plain": [
       "<pandas.io.formats.style.Styler at 0x176b02660>"
      ]
     },
     "metadata": {},
     "output_type": "display_data"
    },
    {
     "data": {
      "text/html": [
       "<style type=\"text/css\">\n",
       "#T_ac949 th:first-child {\n",
       "  min-width: 400px !important;\n",
       "  max-width: 400px !important;\n",
       "  white-space: nowrap;\n",
       "  overflow: hidden;\n",
       "}\n",
       "#T_ac949  td:first-child {\n",
       "  min-width: 400px !important;\n",
       "  max-width: 400px !important;\n",
       "  white-space: nowrap;\n",
       "  overflow: hidden;\n",
       "}\n",
       "#T_ac949_row0_col0 {\n",
       "  width: 10em;\n",
       "  background: linear-gradient(90deg, lightblue 97.3%, transparent 97.3%);\n",
       "  font-family: Courier;\n",
       "}\n",
       "#T_ac949_row0_col1, #T_ac949_row0_col2, #T_ac949_row0_col3, #T_ac949_row2_col0, #T_ac949_row2_col1, #T_ac949_row2_col2, #T_ac949_row2_col3, #T_ac949_row2_col4 {\n",
       "  width: 10em;\n",
       "  background: linear-gradient(90deg, lightblue 100.0%, transparent 100.0%);\n",
       "  font-family: Courier;\n",
       "}\n",
       "#T_ac949_row0_col4 {\n",
       "  width: 10em;\n",
       "  background: linear-gradient(90deg, lightblue 97.9%, transparent 97.9%);\n",
       "  font-family: Courier;\n",
       "}\n",
       "#T_ac949_row1_col0 {\n",
       "  width: 10em;\n",
       "  background: linear-gradient(90deg, lightblue 2.7%, transparent 2.7%);\n",
       "  font-family: Courier;\n",
       "}\n",
       "#T_ac949_row1_col1, #T_ac949_row1_col2, #T_ac949_row1_col3 {\n",
       "  width: 10em;\n",
       "  font-family: Courier;\n",
       "}\n",
       "#T_ac949_row1_col4 {\n",
       "  width: 10em;\n",
       "  background: linear-gradient(90deg, lightblue 2.1%, transparent 2.1%);\n",
       "  font-family: Courier;\n",
       "}\n",
       "</style>\n",
       "<table id=\"T_ac949\">\n",
       "  <thead>\n",
       "    <tr>\n",
       "      <th class=\"index_name level0\" >[01.01] CTCAE</th>\n",
       "      <th id=\"T_ac949_level0_col0\" class=\"col_heading level0 col0\" >1</th>\n",
       "      <th id=\"T_ac949_level0_col1\" class=\"col_heading level0 col1\" >2</th>\n",
       "      <th id=\"T_ac949_level0_col2\" class=\"col_heading level0 col2\" >3</th>\n",
       "      <th id=\"T_ac949_level0_col3\" class=\"col_heading level0 col3\" >4</th>\n",
       "      <th id=\"T_ac949_level0_col4\" class=\"col_heading level0 col4\" >Total</th>\n",
       "    </tr>\n",
       "    <tr>\n",
       "      <th class=\"index_name level0\" >[05.05] As part of testing</th>\n",
       "      <th class=\"blank col0\" >&nbsp;</th>\n",
       "      <th class=\"blank col1\" >&nbsp;</th>\n",
       "      <th class=\"blank col2\" >&nbsp;</th>\n",
       "      <th class=\"blank col3\" >&nbsp;</th>\n",
       "      <th class=\"blank col4\" >&nbsp;</th>\n",
       "    </tr>\n",
       "  </thead>\n",
       "  <tbody>\n",
       "    <tr>\n",
       "      <th id=\"T_ac949_level0_row0\" class=\"row_heading level0 row0\" >No</th>\n",
       "      <td id=\"T_ac949_row0_col0\" class=\"data row0 col0\" >179 <span style=\"color: grey\">(74.9%) </span></td>\n",
       "      <td id=\"T_ac949_row0_col1\" class=\"data row0 col1\" >51 <span style=\"color: grey\">(21.3%) </span></td>\n",
       "      <td id=\"T_ac949_row0_col2\" class=\"data row0 col2\" >3 <span style=\"color: grey\">(1.3%) </span></td>\n",
       "      <td id=\"T_ac949_row0_col3\" class=\"data row0 col3\" >1 <span style=\"color: grey\">(0.4%) </span></td>\n",
       "      <td id=\"T_ac949_row0_col4\" class=\"data row0 col4\" >234 <span style=\"color: grey\">(97.9%) </span></td>\n",
       "    </tr>\n",
       "    <tr>\n",
       "      <th id=\"T_ac949_level0_row1\" class=\"row_heading level0 row1\" >Yes</th>\n",
       "      <td id=\"T_ac949_row1_col0\" class=\"data row1 col0\" >5 <span style=\"color: grey\">(2.1%) </span></td>\n",
       "      <td id=\"T_ac949_row1_col1\" class=\"data row1 col1\" ><span style=\"color: grey\">0 </span></td>\n",
       "      <td id=\"T_ac949_row1_col2\" class=\"data row1 col2\" ><span style=\"color: grey\">0 </span></td>\n",
       "      <td id=\"T_ac949_row1_col3\" class=\"data row1 col3\" ><span style=\"color: grey\">0 </span></td>\n",
       "      <td id=\"T_ac949_row1_col4\" class=\"data row1 col4\" >5 <span style=\"color: grey\">(2.1%) </span></td>\n",
       "    </tr>\n",
       "    <tr>\n",
       "      <th id=\"T_ac949_level0_row2\" class=\"row_heading level0 row2\" >Total</th>\n",
       "      <td id=\"T_ac949_row2_col0\" class=\"data row2 col0\" >184 <span style=\"color: grey\">(77.0%) </span></td>\n",
       "      <td id=\"T_ac949_row2_col1\" class=\"data row2 col1\" >51 <span style=\"color: grey\">(21.3%) </span></td>\n",
       "      <td id=\"T_ac949_row2_col2\" class=\"data row2 col2\" >3 <span style=\"color: grey\">(1.3%) </span></td>\n",
       "      <td id=\"T_ac949_row2_col3\" class=\"data row2 col3\" >1 <span style=\"color: grey\">(0.4%) </span></td>\n",
       "      <td id=\"T_ac949_row2_col4\" class=\"data row2 col4\" >239 <span style=\"color: grey\">(100.0%) </span></td>\n",
       "    </tr>\n",
       "  </tbody>\n",
       "</table>\n"
      ],
      "text/plain": [
       "<pandas.io.formats.style.Styler at 0x1762f4500>"
      ]
     },
     "metadata": {},
     "output_type": "display_data"
    },
    {
     "data": {
      "text/html": [
       "<style type=\"text/css\">\n",
       "#T_879a9 th:first-child {\n",
       "  min-width: 400px !important;\n",
       "  max-width: 400px !important;\n",
       "  white-space: nowrap;\n",
       "  overflow: hidden;\n",
       "}\n",
       "#T_879a9  td:first-child {\n",
       "  min-width: 400px !important;\n",
       "  max-width: 400px !important;\n",
       "  white-space: nowrap;\n",
       "  overflow: hidden;\n",
       "}\n",
       "#T_879a9_row0_col0 {\n",
       "  width: 10em;\n",
       "  background: linear-gradient(90deg, lightblue 2.9%, transparent 2.9%);\n",
       "  font-family: Courier;\n",
       "}\n",
       "#T_879a9_row0_col1 {\n",
       "  width: 10em;\n",
       "  background: linear-gradient(90deg, lightblue 4.0%, transparent 4.0%);\n",
       "  font-family: Courier;\n",
       "}\n",
       "#T_879a9_row0_col2, #T_879a9_row0_col3, #T_879a9_row1_col3, #T_879a9_row2_col2, #T_879a9_row2_col3, #T_879a9_row4_col2, #T_879a9_row4_col3, #T_879a9_row5_col1, #T_879a9_row5_col2, #T_879a9_row5_col3 {\n",
       "  width: 10em;\n",
       "  font-family: Courier;\n",
       "}\n",
       "#T_879a9_row0_col4 {\n",
       "  width: 10em;\n",
       "  background: linear-gradient(90deg, lightblue 3.1%, transparent 3.1%);\n",
       "  font-family: Courier;\n",
       "}\n",
       "#T_879a9_row1_col0 {\n",
       "  width: 10em;\n",
       "  background: linear-gradient(90deg, lightblue 37.6%, transparent 37.6%);\n",
       "  font-family: Courier;\n",
       "}\n",
       "#T_879a9_row1_col1 {\n",
       "  width: 10em;\n",
       "  background: linear-gradient(90deg, lightblue 48.0%, transparent 48.0%);\n",
       "  font-family: Courier;\n",
       "}\n",
       "#T_879a9_row1_col2 {\n",
       "  width: 10em;\n",
       "  background: linear-gradient(90deg, lightblue 66.7%, transparent 66.7%);\n",
       "  font-family: Courier;\n",
       "}\n",
       "#T_879a9_row1_col4 {\n",
       "  width: 10em;\n",
       "  background: linear-gradient(90deg, lightblue 40.2%, transparent 40.2%);\n",
       "  font-family: Courier;\n",
       "}\n",
       "#T_879a9_row2_col0 {\n",
       "  width: 10em;\n",
       "  background: linear-gradient(90deg, lightblue 25.3%, transparent 25.3%);\n",
       "  font-family: Courier;\n",
       "}\n",
       "#T_879a9_row2_col1, #T_879a9_row4_col1 {\n",
       "  width: 10em;\n",
       "  background: linear-gradient(90deg, lightblue 18.0%, transparent 18.0%);\n",
       "  font-family: Courier;\n",
       "}\n",
       "#T_879a9_row2_col4 {\n",
       "  width: 10em;\n",
       "  background: linear-gradient(90deg, lightblue 23.2%, transparent 23.2%);\n",
       "  font-family: Courier;\n",
       "}\n",
       "#T_879a9_row3_col0 {\n",
       "  width: 10em;\n",
       "  background: linear-gradient(90deg, lightblue 4.1%, transparent 4.1%);\n",
       "  font-family: Courier;\n",
       "}\n",
       "#T_879a9_row3_col1 {\n",
       "  width: 10em;\n",
       "  background: linear-gradient(90deg, lightblue 12.0%, transparent 12.0%);\n",
       "  font-family: Courier;\n",
       "}\n",
       "#T_879a9_row3_col2 {\n",
       "  width: 10em;\n",
       "  background: linear-gradient(90deg, lightblue 33.3%, transparent 33.3%);\n",
       "  font-family: Courier;\n",
       "}\n",
       "#T_879a9_row3_col3, #T_879a9_row6_col0, #T_879a9_row6_col1, #T_879a9_row6_col2, #T_879a9_row6_col3, #T_879a9_row6_col4 {\n",
       "  width: 10em;\n",
       "  background: linear-gradient(90deg, lightblue 100.0%, transparent 100.0%);\n",
       "  font-family: Courier;\n",
       "}\n",
       "#T_879a9_row3_col4 {\n",
       "  width: 10em;\n",
       "  background: linear-gradient(90deg, lightblue 6.7%, transparent 6.7%);\n",
       "  font-family: Courier;\n",
       "}\n",
       "#T_879a9_row4_col0 {\n",
       "  width: 10em;\n",
       "  background: linear-gradient(90deg, lightblue 29.4%, transparent 29.4%);\n",
       "  font-family: Courier;\n",
       "}\n",
       "#T_879a9_row4_col4 {\n",
       "  width: 10em;\n",
       "  background: linear-gradient(90deg, lightblue 26.3%, transparent 26.3%);\n",
       "  font-family: Courier;\n",
       "}\n",
       "#T_879a9_row5_col0 {\n",
       "  width: 10em;\n",
       "  background: linear-gradient(90deg, lightblue 0.6%, transparent 0.6%);\n",
       "  font-family: Courier;\n",
       "}\n",
       "#T_879a9_row5_col4 {\n",
       "  width: 10em;\n",
       "  background: linear-gradient(90deg, lightblue 0.4%, transparent 0.4%);\n",
       "  font-family: Courier;\n",
       "}\n",
       "</style>\n",
       "<table id=\"T_879a9\">\n",
       "  <thead>\n",
       "    <tr>\n",
       "      <th class=\"index_name level0\" >[01.01] CTCAE</th>\n",
       "      <th id=\"T_879a9_level0_col0\" class=\"col_heading level0 col0\" >1</th>\n",
       "      <th id=\"T_879a9_level0_col1\" class=\"col_heading level0 col1\" >2</th>\n",
       "      <th id=\"T_879a9_level0_col2\" class=\"col_heading level0 col2\" >3</th>\n",
       "      <th id=\"T_879a9_level0_col3\" class=\"col_heading level0 col3\" >4</th>\n",
       "      <th id=\"T_879a9_level0_col4\" class=\"col_heading level0 col4\" >Total</th>\n",
       "    </tr>\n",
       "    <tr>\n",
       "      <th class=\"index_name level0\" >[05.06] Setting</th>\n",
       "      <th class=\"blank col0\" >&nbsp;</th>\n",
       "      <th class=\"blank col1\" >&nbsp;</th>\n",
       "      <th class=\"blank col2\" >&nbsp;</th>\n",
       "      <th class=\"blank col3\" >&nbsp;</th>\n",
       "      <th class=\"blank col4\" >&nbsp;</th>\n",
       "    </tr>\n",
       "  </thead>\n",
       "  <tbody>\n",
       "    <tr>\n",
       "      <th id=\"T_879a9_level0_row0\" class=\"row_heading level0 row0\" >At home (via telemedicine)</th>\n",
       "      <td id=\"T_879a9_row0_col0\" class=\"data row0 col0\" >5 <span style=\"color: grey\">(2.2%) </span></td>\n",
       "      <td id=\"T_879a9_row0_col1\" class=\"data row0 col1\" >2 <span style=\"color: grey\">(0.9%) </span></td>\n",
       "      <td id=\"T_879a9_row0_col2\" class=\"data row0 col2\" ><span style=\"color: grey\">0 </span></td>\n",
       "      <td id=\"T_879a9_row0_col3\" class=\"data row0 col3\" ><span style=\"color: grey\">0 </span></td>\n",
       "      <td id=\"T_879a9_row0_col4\" class=\"data row0 col4\" >7 <span style=\"color: grey\">(3.1%) </span></td>\n",
       "    </tr>\n",
       "    <tr>\n",
       "      <th id=\"T_879a9_level0_row1\" class=\"row_heading level0 row1\" >Gym</th>\n",
       "      <td id=\"T_879a9_row1_col0\" class=\"data row1 col0\" >64 <span style=\"color: grey\">(28.6%) </span></td>\n",
       "      <td id=\"T_879a9_row1_col1\" class=\"data row1 col1\" >24 <span style=\"color: grey\">(10.7%) </span></td>\n",
       "      <td id=\"T_879a9_row1_col2\" class=\"data row1 col2\" >2 <span style=\"color: grey\">(0.9%) </span></td>\n",
       "      <td id=\"T_879a9_row1_col3\" class=\"data row1 col3\" ><span style=\"color: grey\">0 </span></td>\n",
       "      <td id=\"T_879a9_row1_col4\" class=\"data row1 col4\" >90 <span style=\"color: grey\">(40.2%) </span></td>\n",
       "    </tr>\n",
       "    <tr>\n",
       "      <th id=\"T_879a9_level0_row2\" class=\"row_heading level0 row2\" >Hospital corridor</th>\n",
       "      <td id=\"T_879a9_row2_col0\" class=\"data row2 col0\" >43 <span style=\"color: grey\">(19.2%) </span></td>\n",
       "      <td id=\"T_879a9_row2_col1\" class=\"data row2 col1\" >9 <span style=\"color: grey\">(4.0%) </span></td>\n",
       "      <td id=\"T_879a9_row2_col2\" class=\"data row2 col2\" ><span style=\"color: grey\">0 </span></td>\n",
       "      <td id=\"T_879a9_row2_col3\" class=\"data row2 col3\" ><span style=\"color: grey\">0 </span></td>\n",
       "      <td id=\"T_879a9_row2_col4\" class=\"data row2 col4\" >52 <span style=\"color: grey\">(23.2%) </span></td>\n",
       "    </tr>\n",
       "    <tr>\n",
       "      <th id=\"T_879a9_level0_row3\" class=\"row_heading level0 row3\" >Outside</th>\n",
       "      <td id=\"T_879a9_row3_col0\" class=\"data row3 col0\" >7 <span style=\"color: grey\">(3.1%) </span></td>\n",
       "      <td id=\"T_879a9_row3_col1\" class=\"data row3 col1\" >6 <span style=\"color: grey\">(2.7%) </span></td>\n",
       "      <td id=\"T_879a9_row3_col2\" class=\"data row3 col2\" >1 <span style=\"color: grey\">(0.4%) </span></td>\n",
       "      <td id=\"T_879a9_row3_col3\" class=\"data row3 col3\" >1 <span style=\"color: grey\">(0.4%) </span></td>\n",
       "      <td id=\"T_879a9_row3_col4\" class=\"data row3 col4\" >15 <span style=\"color: grey\">(6.7%) </span></td>\n",
       "    </tr>\n",
       "    <tr>\n",
       "      <th id=\"T_879a9_level0_row4\" class=\"row_heading level0 row4\" >Patients room</th>\n",
       "      <td id=\"T_879a9_row4_col0\" class=\"data row4 col0\" >50 <span style=\"color: grey\">(22.3%) </span></td>\n",
       "      <td id=\"T_879a9_row4_col1\" class=\"data row4 col1\" >9 <span style=\"color: grey\">(4.0%) </span></td>\n",
       "      <td id=\"T_879a9_row4_col2\" class=\"data row4 col2\" ><span style=\"color: grey\">0 </span></td>\n",
       "      <td id=\"T_879a9_row4_col3\" class=\"data row4 col3\" ><span style=\"color: grey\">0 </span></td>\n",
       "      <td id=\"T_879a9_row4_col4\" class=\"data row4 col4\" >59 <span style=\"color: grey\">(26.3%) </span></td>\n",
       "    </tr>\n",
       "    <tr>\n",
       "      <th id=\"T_879a9_level0_row5\" class=\"row_heading level0 row5\" >Weiteres</th>\n",
       "      <td id=\"T_879a9_row5_col0\" class=\"data row5 col0\" >1 <span style=\"color: grey\">(0.4%) </span></td>\n",
       "      <td id=\"T_879a9_row5_col1\" class=\"data row5 col1\" ><span style=\"color: grey\">0 </span></td>\n",
       "      <td id=\"T_879a9_row5_col2\" class=\"data row5 col2\" ><span style=\"color: grey\">0 </span></td>\n",
       "      <td id=\"T_879a9_row5_col3\" class=\"data row5 col3\" ><span style=\"color: grey\">0 </span></td>\n",
       "      <td id=\"T_879a9_row5_col4\" class=\"data row5 col4\" >1 <span style=\"color: grey\">(0.4%) </span></td>\n",
       "    </tr>\n",
       "    <tr>\n",
       "      <th id=\"T_879a9_level0_row6\" class=\"row_heading level0 row6\" >Total</th>\n",
       "      <td id=\"T_879a9_row6_col0\" class=\"data row6 col0\" >170 <span style=\"color: grey\">(75.9%) </span></td>\n",
       "      <td id=\"T_879a9_row6_col1\" class=\"data row6 col1\" >50 <span style=\"color: grey\">(22.3%) </span></td>\n",
       "      <td id=\"T_879a9_row6_col2\" class=\"data row6 col2\" >3 <span style=\"color: grey\">(1.3%) </span></td>\n",
       "      <td id=\"T_879a9_row6_col3\" class=\"data row6 col3\" >1 <span style=\"color: grey\">(0.4%) </span></td>\n",
       "      <td id=\"T_879a9_row6_col4\" class=\"data row6 col4\" >224 <span style=\"color: grey\">(100.0%) </span></td>\n",
       "    </tr>\n",
       "  </tbody>\n",
       "</table>\n"
      ],
      "text/plain": [
       "<pandas.io.formats.style.Styler at 0x1762f4770>"
      ]
     },
     "metadata": {},
     "output_type": "display_data"
    },
    {
     "data": {
      "text/html": [
       "<style type=\"text/css\">\n",
       "#T_41573 th:first-child {\n",
       "  min-width: 400px !important;\n",
       "  max-width: 400px !important;\n",
       "  white-space: nowrap;\n",
       "  overflow: hidden;\n",
       "}\n",
       "#T_41573  td:first-child {\n",
       "  min-width: 400px !important;\n",
       "  max-width: 400px !important;\n",
       "  white-space: nowrap;\n",
       "  overflow: hidden;\n",
       "}\n",
       "#T_41573_row0_col0 {\n",
       "  width: 10em;\n",
       "  background: linear-gradient(90deg, lightblue 36.6%, transparent 36.6%);\n",
       "  font-family: Courier;\n",
       "}\n",
       "#T_41573_row0_col1 {\n",
       "  width: 10em;\n",
       "  background: linear-gradient(90deg, lightblue 35.3%, transparent 35.3%);\n",
       "  font-family: Courier;\n",
       "}\n",
       "#T_41573_row0_col2 {\n",
       "  width: 10em;\n",
       "  background: linear-gradient(90deg, lightblue 75.0%, transparent 75.0%);\n",
       "  font-family: Courier;\n",
       "}\n",
       "#T_41573_row0_col3, #T_41573_row7_col0, #T_41573_row7_col1, #T_41573_row7_col2, #T_41573_row7_col3, #T_41573_row7_col4 {\n",
       "  width: 10em;\n",
       "  background: linear-gradient(90deg, lightblue 100.0%, transparent 100.0%);\n",
       "  font-family: Courier;\n",
       "}\n",
       "#T_41573_row0_col4 {\n",
       "  width: 10em;\n",
       "  background: linear-gradient(90deg, lightblue 37.0%, transparent 37.0%);\n",
       "  font-family: Courier;\n",
       "}\n",
       "#T_41573_row1_col0 {\n",
       "  width: 10em;\n",
       "  background: linear-gradient(90deg, lightblue 21.8%, transparent 21.8%);\n",
       "  font-family: Courier;\n",
       "}\n",
       "#T_41573_row1_col1, #T_41573_row6_col1 {\n",
       "  width: 10em;\n",
       "  background: linear-gradient(90deg, lightblue 20.6%, transparent 20.6%);\n",
       "  font-family: Courier;\n",
       "}\n",
       "#T_41573_row1_col2, #T_41573_row1_col3, #T_41573_row2_col2, #T_41573_row2_col3, #T_41573_row3_col2, #T_41573_row3_col3, #T_41573_row4_col1, #T_41573_row4_col2, #T_41573_row4_col3, #T_41573_row5_col2, #T_41573_row5_col3, #T_41573_row6_col3 {\n",
       "  width: 10em;\n",
       "  font-family: Courier;\n",
       "}\n",
       "#T_41573_row1_col4 {\n",
       "  width: 10em;\n",
       "  background: linear-gradient(90deg, lightblue 21.2%, transparent 21.2%);\n",
       "  font-family: Courier;\n",
       "}\n",
       "#T_41573_row2_col0 {\n",
       "  width: 10em;\n",
       "  background: linear-gradient(90deg, lightblue 9.7%, transparent 9.7%);\n",
       "  font-family: Courier;\n",
       "}\n",
       "#T_41573_row2_col1 {\n",
       "  width: 10em;\n",
       "  background: linear-gradient(90deg, lightblue 4.4%, transparent 4.4%);\n",
       "  font-family: Courier;\n",
       "}\n",
       "#T_41573_row2_col4 {\n",
       "  width: 10em;\n",
       "  background: linear-gradient(90deg, lightblue 8.4%, transparent 8.4%);\n",
       "  font-family: Courier;\n",
       "}\n",
       "#T_41573_row3_col0, #T_41573_row3_col1 {\n",
       "  width: 10em;\n",
       "  background: linear-gradient(90deg, lightblue 11.8%, transparent 11.8%);\n",
       "  font-family: Courier;\n",
       "}\n",
       "#T_41573_row3_col4 {\n",
       "  width: 10em;\n",
       "  background: linear-gradient(90deg, lightblue 11.6%, transparent 11.6%);\n",
       "  font-family: Courier;\n",
       "}\n",
       "#T_41573_row4_col0 {\n",
       "  width: 10em;\n",
       "  background: linear-gradient(90deg, lightblue 1.7%, transparent 1.7%);\n",
       "  font-family: Courier;\n",
       "}\n",
       "#T_41573_row4_col4 {\n",
       "  width: 10em;\n",
       "  background: linear-gradient(90deg, lightblue 1.3%, transparent 1.3%);\n",
       "  font-family: Courier;\n",
       "}\n",
       "#T_41573_row5_col0 {\n",
       "  width: 10em;\n",
       "  background: linear-gradient(90deg, lightblue 2.5%, transparent 2.5%);\n",
       "  font-family: Courier;\n",
       "}\n",
       "#T_41573_row5_col1 {\n",
       "  width: 10em;\n",
       "  background: linear-gradient(90deg, lightblue 7.4%, transparent 7.4%);\n",
       "  font-family: Courier;\n",
       "}\n",
       "#T_41573_row5_col4 {\n",
       "  width: 10em;\n",
       "  background: linear-gradient(90deg, lightblue 3.5%, transparent 3.5%);\n",
       "  font-family: Courier;\n",
       "}\n",
       "#T_41573_row6_col0 {\n",
       "  width: 10em;\n",
       "  background: linear-gradient(90deg, lightblue 16.0%, transparent 16.0%);\n",
       "  font-family: Courier;\n",
       "}\n",
       "#T_41573_row6_col2 {\n",
       "  width: 10em;\n",
       "  background: linear-gradient(90deg, lightblue 25.0%, transparent 25.0%);\n",
       "  font-family: Courier;\n",
       "}\n",
       "#T_41573_row6_col4 {\n",
       "  width: 10em;\n",
       "  background: linear-gradient(90deg, lightblue 17.0%, transparent 17.0%);\n",
       "  font-family: Courier;\n",
       "}\n",
       "</style>\n",
       "<table id=\"T_41573\">\n",
       "  <thead>\n",
       "    <tr>\n",
       "      <th class=\"index_name level0\" >[01.01] CTCAE</th>\n",
       "      <th id=\"T_41573_level0_col0\" class=\"col_heading level0 col0\" >1</th>\n",
       "      <th id=\"T_41573_level0_col1\" class=\"col_heading level0 col1\" >2</th>\n",
       "      <th id=\"T_41573_level0_col2\" class=\"col_heading level0 col2\" >3</th>\n",
       "      <th id=\"T_41573_level0_col3\" class=\"col_heading level0 col3\" >4</th>\n",
       "      <th id=\"T_41573_level0_col4\" class=\"col_heading level0 col4\" >Total</th>\n",
       "    </tr>\n",
       "    <tr>\n",
       "      <th class=\"index_name level0\" >[05.07] Main motor skill</th>\n",
       "      <th class=\"blank col0\" >&nbsp;</th>\n",
       "      <th class=\"blank col1\" >&nbsp;</th>\n",
       "      <th class=\"blank col2\" >&nbsp;</th>\n",
       "      <th class=\"blank col3\" >&nbsp;</th>\n",
       "      <th class=\"blank col4\" >&nbsp;</th>\n",
       "    </tr>\n",
       "  </thead>\n",
       "  <tbody>\n",
       "    <tr>\n",
       "      <th id=\"T_41573_level0_row0\" class=\"row_heading level0 row0\" >Coordination</th>\n",
       "      <td id=\"T_41573_row0_col0\" class=\"data row0 col0\" >87 <span style=\"color: grey\">(28.0%) </span></td>\n",
       "      <td id=\"T_41573_row0_col1\" class=\"data row0 col1\" >24 <span style=\"color: grey\">(7.7%) </span></td>\n",
       "      <td id=\"T_41573_row0_col2\" class=\"data row0 col2\" >3 <span style=\"color: grey\">(1.0%) </span></td>\n",
       "      <td id=\"T_41573_row0_col3\" class=\"data row0 col3\" >1 <span style=\"color: grey\">(0.3%) </span></td>\n",
       "      <td id=\"T_41573_row0_col4\" class=\"data row0 col4\" >115 <span style=\"color: grey\">(37.0%) </span></td>\n",
       "    </tr>\n",
       "    <tr>\n",
       "      <th id=\"T_41573_level0_row1\" class=\"row_heading level0 row1\" >Endurance</th>\n",
       "      <td id=\"T_41573_row1_col0\" class=\"data row1 col0\" >52 <span style=\"color: grey\">(16.7%) </span></td>\n",
       "      <td id=\"T_41573_row1_col1\" class=\"data row1 col1\" >14 <span style=\"color: grey\">(4.5%) </span></td>\n",
       "      <td id=\"T_41573_row1_col2\" class=\"data row1 col2\" ><span style=\"color: grey\">0 </span></td>\n",
       "      <td id=\"T_41573_row1_col3\" class=\"data row1 col3\" ><span style=\"color: grey\">0 </span></td>\n",
       "      <td id=\"T_41573_row1_col4\" class=\"data row1 col4\" >66 <span style=\"color: grey\">(21.2%) </span></td>\n",
       "    </tr>\n",
       "    <tr>\n",
       "      <th id=\"T_41573_level0_row2\" class=\"row_heading level0 row2\" >Flexibility</th>\n",
       "      <td id=\"T_41573_row2_col0\" class=\"data row2 col0\" >23 <span style=\"color: grey\">(7.4%) </span></td>\n",
       "      <td id=\"T_41573_row2_col1\" class=\"data row2 col1\" >3 <span style=\"color: grey\">(1.0%) </span></td>\n",
       "      <td id=\"T_41573_row2_col2\" class=\"data row2 col2\" ><span style=\"color: grey\">0 </span></td>\n",
       "      <td id=\"T_41573_row2_col3\" class=\"data row2 col3\" ><span style=\"color: grey\">0 </span></td>\n",
       "      <td id=\"T_41573_row2_col4\" class=\"data row2 col4\" >26 <span style=\"color: grey\">(8.4%) </span></td>\n",
       "    </tr>\n",
       "    <tr>\n",
       "      <th id=\"T_41573_level0_row3\" class=\"row_heading level0 row3\" >Full body</th>\n",
       "      <td id=\"T_41573_row3_col0\" class=\"data row3 col0\" >28 <span style=\"color: grey\">(9.0%) </span></td>\n",
       "      <td id=\"T_41573_row3_col1\" class=\"data row3 col1\" >8 <span style=\"color: grey\">(2.6%) </span></td>\n",
       "      <td id=\"T_41573_row3_col2\" class=\"data row3 col2\" ><span style=\"color: grey\">0 </span></td>\n",
       "      <td id=\"T_41573_row3_col3\" class=\"data row3 col3\" ><span style=\"color: grey\">0 </span></td>\n",
       "      <td id=\"T_41573_row3_col4\" class=\"data row3 col4\" >36 <span style=\"color: grey\">(11.6%) </span></td>\n",
       "    </tr>\n",
       "    <tr>\n",
       "      <th id=\"T_41573_level0_row4\" class=\"row_heading level0 row4\" >Relaxation</th>\n",
       "      <td id=\"T_41573_row4_col0\" class=\"data row4 col0\" >4 <span style=\"color: grey\">(1.3%) </span></td>\n",
       "      <td id=\"T_41573_row4_col1\" class=\"data row4 col1\" ><span style=\"color: grey\">0 </span></td>\n",
       "      <td id=\"T_41573_row4_col2\" class=\"data row4 col2\" ><span style=\"color: grey\">0 </span></td>\n",
       "      <td id=\"T_41573_row4_col3\" class=\"data row4 col3\" ><span style=\"color: grey\">0 </span></td>\n",
       "      <td id=\"T_41573_row4_col4\" class=\"data row4 col4\" >4 <span style=\"color: grey\">(1.3%) </span></td>\n",
       "    </tr>\n",
       "    <tr>\n",
       "      <th id=\"T_41573_level0_row5\" class=\"row_heading level0 row5\" >Speed</th>\n",
       "      <td id=\"T_41573_row5_col0\" class=\"data row5 col0\" >6 <span style=\"color: grey\">(1.9%) </span></td>\n",
       "      <td id=\"T_41573_row5_col1\" class=\"data row5 col1\" >5 <span style=\"color: grey\">(1.6%) </span></td>\n",
       "      <td id=\"T_41573_row5_col2\" class=\"data row5 col2\" ><span style=\"color: grey\">0 </span></td>\n",
       "      <td id=\"T_41573_row5_col3\" class=\"data row5 col3\" ><span style=\"color: grey\">0 </span></td>\n",
       "      <td id=\"T_41573_row5_col4\" class=\"data row5 col4\" >11 <span style=\"color: grey\">(3.5%) </span></td>\n",
       "    </tr>\n",
       "    <tr>\n",
       "      <th id=\"T_41573_level0_row6\" class=\"row_heading level0 row6\" >Strength</th>\n",
       "      <td id=\"T_41573_row6_col0\" class=\"data row6 col0\" >38 <span style=\"color: grey\">(12.2%) </span></td>\n",
       "      <td id=\"T_41573_row6_col1\" class=\"data row6 col1\" >14 <span style=\"color: grey\">(4.5%) </span></td>\n",
       "      <td id=\"T_41573_row6_col2\" class=\"data row6 col2\" >1 <span style=\"color: grey\">(0.3%) </span></td>\n",
       "      <td id=\"T_41573_row6_col3\" class=\"data row6 col3\" ><span style=\"color: grey\">0 </span></td>\n",
       "      <td id=\"T_41573_row6_col4\" class=\"data row6 col4\" >53 <span style=\"color: grey\">(17.0%) </span></td>\n",
       "    </tr>\n",
       "    <tr>\n",
       "      <th id=\"T_41573_level0_row7\" class=\"row_heading level0 row7\" >Total</th>\n",
       "      <td id=\"T_41573_row7_col0\" class=\"data row7 col0\" >238 <span style=\"color: grey\">(76.5%) </span></td>\n",
       "      <td id=\"T_41573_row7_col1\" class=\"data row7 col1\" >68 <span style=\"color: grey\">(21.9%) </span></td>\n",
       "      <td id=\"T_41573_row7_col2\" class=\"data row7 col2\" >4 <span style=\"color: grey\">(1.3%) </span></td>\n",
       "      <td id=\"T_41573_row7_col3\" class=\"data row7 col3\" >1 <span style=\"color: grey\">(0.3%) </span></td>\n",
       "      <td id=\"T_41573_row7_col4\" class=\"data row7 col4\" >311 <span style=\"color: grey\">(100.0%) </span></td>\n",
       "    </tr>\n",
       "  </tbody>\n",
       "</table>\n"
      ],
      "text/plain": [
       "<pandas.io.formats.style.Styler at 0x1762f7a10>"
      ]
     },
     "metadata": {},
     "output_type": "display_data"
    },
    {
     "data": {
      "text/html": [
       "<style type=\"text/css\">\n",
       "#T_18b3b th:first-child {\n",
       "  min-width: 400px !important;\n",
       "  max-width: 400px !important;\n",
       "  white-space: nowrap;\n",
       "  overflow: hidden;\n",
       "}\n",
       "#T_18b3b  td:first-child {\n",
       "  min-width: 400px !important;\n",
       "  max-width: 400px !important;\n",
       "  white-space: nowrap;\n",
       "  overflow: hidden;\n",
       "}\n",
       "#T_18b3b_row0_col0 {\n",
       "  width: 10em;\n",
       "  background: linear-gradient(90deg, lightblue 47.3%, transparent 47.3%);\n",
       "  font-family: Courier;\n",
       "}\n",
       "#T_18b3b_row0_col1 {\n",
       "  width: 10em;\n",
       "  background: linear-gradient(90deg, lightblue 16.7%, transparent 16.7%);\n",
       "  font-family: Courier;\n",
       "}\n",
       "#T_18b3b_row0_col2 {\n",
       "  width: 10em;\n",
       "  background: linear-gradient(90deg, lightblue 66.7%, transparent 66.7%);\n",
       "  font-family: Courier;\n",
       "}\n",
       "#T_18b3b_row0_col3, #T_18b3b_row2_col0, #T_18b3b_row2_col2, #T_18b3b_row2_col3 {\n",
       "  width: 10em;\n",
       "  font-family: Courier;\n",
       "}\n",
       "#T_18b3b_row0_col4 {\n",
       "  width: 10em;\n",
       "  background: linear-gradient(90deg, lightblue 40.6%, transparent 40.6%);\n",
       "  font-family: Courier;\n",
       "}\n",
       "#T_18b3b_row1_col0 {\n",
       "  width: 10em;\n",
       "  background: linear-gradient(90deg, lightblue 52.7%, transparent 52.7%);\n",
       "  font-family: Courier;\n",
       "}\n",
       "#T_18b3b_row1_col1 {\n",
       "  width: 10em;\n",
       "  background: linear-gradient(90deg, lightblue 81.0%, transparent 81.0%);\n",
       "  font-family: Courier;\n",
       "}\n",
       "#T_18b3b_row1_col2 {\n",
       "  width: 10em;\n",
       "  background: linear-gradient(90deg, lightblue 33.3%, transparent 33.3%);\n",
       "  font-family: Courier;\n",
       "}\n",
       "#T_18b3b_row1_col3, #T_18b3b_row3_col0, #T_18b3b_row3_col1, #T_18b3b_row3_col2, #T_18b3b_row3_col3, #T_18b3b_row3_col4 {\n",
       "  width: 10em;\n",
       "  background: linear-gradient(90deg, lightblue 100.0%, transparent 100.0%);\n",
       "  font-family: Courier;\n",
       "}\n",
       "#T_18b3b_row1_col4 {\n",
       "  width: 10em;\n",
       "  background: linear-gradient(90deg, lightblue 58.9%, transparent 58.9%);\n",
       "  font-family: Courier;\n",
       "}\n",
       "#T_18b3b_row2_col1 {\n",
       "  width: 10em;\n",
       "  background: linear-gradient(90deg, lightblue 2.4%, transparent 2.4%);\n",
       "  font-family: Courier;\n",
       "}\n",
       "#T_18b3b_row2_col4 {\n",
       "  width: 10em;\n",
       "  background: linear-gradient(90deg, lightblue 0.5%, transparent 0.5%);\n",
       "  font-family: Courier;\n",
       "}\n",
       "</style>\n",
       "<table id=\"T_18b3b\">\n",
       "  <thead>\n",
       "    <tr>\n",
       "      <th class=\"index_name level0\" >[01.01] CTCAE</th>\n",
       "      <th id=\"T_18b3b_level0_col0\" class=\"col_heading level0 col0\" >1</th>\n",
       "      <th id=\"T_18b3b_level0_col1\" class=\"col_heading level0 col1\" >2</th>\n",
       "      <th id=\"T_18b3b_level0_col2\" class=\"col_heading level0 col2\" >3</th>\n",
       "      <th id=\"T_18b3b_level0_col3\" class=\"col_heading level0 col3\" >4</th>\n",
       "      <th id=\"T_18b3b_level0_col4\" class=\"col_heading level0 col4\" >Total</th>\n",
       "    </tr>\n",
       "    <tr>\n",
       "      <th class=\"index_name level0\" >[05.08] Time point</th>\n",
       "      <th class=\"blank col0\" >&nbsp;</th>\n",
       "      <th class=\"blank col1\" >&nbsp;</th>\n",
       "      <th class=\"blank col2\" >&nbsp;</th>\n",
       "      <th class=\"blank col3\" >&nbsp;</th>\n",
       "      <th class=\"blank col4\" >&nbsp;</th>\n",
       "    </tr>\n",
       "  </thead>\n",
       "  <tbody>\n",
       "    <tr>\n",
       "      <th id=\"T_18b3b_level0_row0\" class=\"row_heading level0 row0\" >1. Time point</th>\n",
       "      <td id=\"T_18b3b_row0_col0\" class=\"data row0 col0\" >69 <span style=\"color: grey\">(35.9%) </span></td>\n",
       "      <td id=\"T_18b3b_row0_col1\" class=\"data row0 col1\" >7 <span style=\"color: grey\">(3.6%) </span></td>\n",
       "      <td id=\"T_18b3b_row0_col2\" class=\"data row0 col2\" >2 <span style=\"color: grey\">(1.0%) </span></td>\n",
       "      <td id=\"T_18b3b_row0_col3\" class=\"data row0 col3\" ><span style=\"color: grey\">0 </span></td>\n",
       "      <td id=\"T_18b3b_row0_col4\" class=\"data row0 col4\" >78 <span style=\"color: grey\">(40.6%) </span></td>\n",
       "    </tr>\n",
       "    <tr>\n",
       "      <th id=\"T_18b3b_level0_row1\" class=\"row_heading level0 row1\" >2. Time point</th>\n",
       "      <td id=\"T_18b3b_row1_col0\" class=\"data row1 col0\" >77 <span style=\"color: grey\">(40.1%) </span></td>\n",
       "      <td id=\"T_18b3b_row1_col1\" class=\"data row1 col1\" >34 <span style=\"color: grey\">(17.7%) </span></td>\n",
       "      <td id=\"T_18b3b_row1_col2\" class=\"data row1 col2\" >1 <span style=\"color: grey\">(0.5%) </span></td>\n",
       "      <td id=\"T_18b3b_row1_col3\" class=\"data row1 col3\" >1 <span style=\"color: grey\">(0.5%) </span></td>\n",
       "      <td id=\"T_18b3b_row1_col4\" class=\"data row1 col4\" >113 <span style=\"color: grey\">(58.9%) </span></td>\n",
       "    </tr>\n",
       "    <tr>\n",
       "      <th id=\"T_18b3b_level0_row2\" class=\"row_heading level0 row2\" >Nach Abschluß der Therapie</th>\n",
       "      <td id=\"T_18b3b_row2_col0\" class=\"data row2 col0\" ><span style=\"color: grey\">0 </span></td>\n",
       "      <td id=\"T_18b3b_row2_col1\" class=\"data row2 col1\" >1 <span style=\"color: grey\">(0.5%) </span></td>\n",
       "      <td id=\"T_18b3b_row2_col2\" class=\"data row2 col2\" ><span style=\"color: grey\">0 </span></td>\n",
       "      <td id=\"T_18b3b_row2_col3\" class=\"data row2 col3\" ><span style=\"color: grey\">0 </span></td>\n",
       "      <td id=\"T_18b3b_row2_col4\" class=\"data row2 col4\" >1 <span style=\"color: grey\">(0.5%) </span></td>\n",
       "    </tr>\n",
       "    <tr>\n",
       "      <th id=\"T_18b3b_level0_row3\" class=\"row_heading level0 row3\" >Total</th>\n",
       "      <td id=\"T_18b3b_row3_col0\" class=\"data row3 col0\" >146 <span style=\"color: grey\">(76.0%) </span></td>\n",
       "      <td id=\"T_18b3b_row3_col1\" class=\"data row3 col1\" >42 <span style=\"color: grey\">(21.9%) </span></td>\n",
       "      <td id=\"T_18b3b_row3_col2\" class=\"data row3 col2\" >3 <span style=\"color: grey\">(1.6%) </span></td>\n",
       "      <td id=\"T_18b3b_row3_col3\" class=\"data row3 col3\" >1 <span style=\"color: grey\">(0.5%) </span></td>\n",
       "      <td id=\"T_18b3b_row3_col4\" class=\"data row3 col4\" >192 <span style=\"color: grey\">(100.0%) </span></td>\n",
       "    </tr>\n",
       "  </tbody>\n",
       "</table>\n"
      ],
      "text/plain": [
       "<pandas.io.formats.style.Styler at 0x176b025a0>"
      ]
     },
     "metadata": {},
     "output_type": "display_data"
    },
    {
     "data": {
      "text/html": [
       "<style type=\"text/css\">\n",
       "#T_3629f th:first-child {\n",
       "  min-width: 400px !important;\n",
       "  max-width: 400px !important;\n",
       "  white-space: nowrap;\n",
       "  overflow: hidden;\n",
       "}\n",
       "#T_3629f  td:first-child {\n",
       "  min-width: 400px !important;\n",
       "  max-width: 400px !important;\n",
       "  white-space: nowrap;\n",
       "  overflow: hidden;\n",
       "}\n",
       "#T_3629f_row0_col0 {\n",
       "  width: 10em;\n",
       "  background: linear-gradient(90deg, lightblue 27.6%, transparent 27.6%);\n",
       "  font-family: Courier;\n",
       "}\n",
       "#T_3629f_row0_col1 {\n",
       "  width: 10em;\n",
       "  background: linear-gradient(90deg, lightblue 30.8%, transparent 30.8%);\n",
       "  font-family: Courier;\n",
       "}\n",
       "#T_3629f_row0_col2, #T_3629f_row1_col2, #T_3629f_row1_col3, #T_3629f_row2_col3, #T_3629f_row3_col1, #T_3629f_row3_col2, #T_3629f_row3_col3 {\n",
       "  width: 10em;\n",
       "  font-family: Courier;\n",
       "}\n",
       "#T_3629f_row0_col3, #T_3629f_row2_col2, #T_3629f_row4_col0, #T_3629f_row4_col1, #T_3629f_row4_col2, #T_3629f_row4_col3, #T_3629f_row4_col4 {\n",
       "  width: 10em;\n",
       "  background: linear-gradient(90deg, lightblue 100.0%, transparent 100.0%);\n",
       "  font-family: Courier;\n",
       "}\n",
       "#T_3629f_row0_col4 {\n",
       "  width: 10em;\n",
       "  background: linear-gradient(90deg, lightblue 28.2%, transparent 28.2%);\n",
       "  font-family: Courier;\n",
       "}\n",
       "#T_3629f_row1_col0 {\n",
       "  width: 10em;\n",
       "  background: linear-gradient(90deg, lightblue 15.9%, transparent 15.9%);\n",
       "  font-family: Courier;\n",
       "}\n",
       "#T_3629f_row1_col1, #T_3629f_row1_col4 {\n",
       "  width: 10em;\n",
       "  background: linear-gradient(90deg, lightblue 15.4%, transparent 15.4%);\n",
       "  font-family: Courier;\n",
       "}\n",
       "#T_3629f_row2_col0 {\n",
       "  width: 10em;\n",
       "  background: linear-gradient(90deg, lightblue 54.5%, transparent 54.5%);\n",
       "  font-family: Courier;\n",
       "}\n",
       "#T_3629f_row2_col1 {\n",
       "  width: 10em;\n",
       "  background: linear-gradient(90deg, lightblue 53.8%, transparent 53.8%);\n",
       "  font-family: Courier;\n",
       "}\n",
       "#T_3629f_row2_col4 {\n",
       "  width: 10em;\n",
       "  background: linear-gradient(90deg, lightblue 54.8%, transparent 54.8%);\n",
       "  font-family: Courier;\n",
       "}\n",
       "#T_3629f_row3_col0 {\n",
       "  width: 10em;\n",
       "  background: linear-gradient(90deg, lightblue 2.1%, transparent 2.1%);\n",
       "  font-family: Courier;\n",
       "}\n",
       "#T_3629f_row3_col4 {\n",
       "  width: 10em;\n",
       "  background: linear-gradient(90deg, lightblue 1.6%, transparent 1.6%);\n",
       "  font-family: Courier;\n",
       "}\n",
       "</style>\n",
       "<table id=\"T_3629f\">\n",
       "  <thead>\n",
       "    <tr>\n",
       "      <th class=\"index_name level0\" >[01.01] CTCAE</th>\n",
       "      <th id=\"T_3629f_level0_col0\" class=\"col_heading level0 col0\" >1</th>\n",
       "      <th id=\"T_3629f_level0_col1\" class=\"col_heading level0 col1\" >2</th>\n",
       "      <th id=\"T_3629f_level0_col2\" class=\"col_heading level0 col2\" >3</th>\n",
       "      <th id=\"T_3629f_level0_col3\" class=\"col_heading level0 col3\" >4</th>\n",
       "      <th id=\"T_3629f_level0_col4\" class=\"col_heading level0 col4\" >Total</th>\n",
       "    </tr>\n",
       "    <tr>\n",
       "      <th class=\"index_name level0\" >[05.09] Training condition</th>\n",
       "      <th class=\"blank col0\" >&nbsp;</th>\n",
       "      <th class=\"blank col1\" >&nbsp;</th>\n",
       "      <th class=\"blank col2\" >&nbsp;</th>\n",
       "      <th class=\"blank col3\" >&nbsp;</th>\n",
       "      <th class=\"blank col4\" >&nbsp;</th>\n",
       "    </tr>\n",
       "  </thead>\n",
       "  <tbody>\n",
       "    <tr>\n",
       "      <th id=\"T_3629f_level0_row0\" class=\"row_heading level0 row0\" >Average</th>\n",
       "      <td id=\"T_3629f_row0_col0\" class=\"data row0 col0\" >40 <span style=\"color: grey\">(21.3%) </span></td>\n",
       "      <td id=\"T_3629f_row0_col1\" class=\"data row0 col1\" >12 <span style=\"color: grey\">(6.4%) </span></td>\n",
       "      <td id=\"T_3629f_row0_col2\" class=\"data row0 col2\" ><span style=\"color: grey\">0 </span></td>\n",
       "      <td id=\"T_3629f_row0_col3\" class=\"data row0 col3\" >1 <span style=\"color: grey\">(0.5%) </span></td>\n",
       "      <td id=\"T_3629f_row0_col4\" class=\"data row0 col4\" >53 <span style=\"color: grey\">(28.2%) </span></td>\n",
       "    </tr>\n",
       "    <tr>\n",
       "      <th id=\"T_3629f_level0_row1\" class=\"row_heading level0 row1\" >Good</th>\n",
       "      <td id=\"T_3629f_row1_col0\" class=\"data row1 col0\" >23 <span style=\"color: grey\">(12.2%) </span></td>\n",
       "      <td id=\"T_3629f_row1_col1\" class=\"data row1 col1\" >6 <span style=\"color: grey\">(3.2%) </span></td>\n",
       "      <td id=\"T_3629f_row1_col2\" class=\"data row1 col2\" ><span style=\"color: grey\">0 </span></td>\n",
       "      <td id=\"T_3629f_row1_col3\" class=\"data row1 col3\" ><span style=\"color: grey\">0 </span></td>\n",
       "      <td id=\"T_3629f_row1_col4\" class=\"data row1 col4\" >29 <span style=\"color: grey\">(15.4%) </span></td>\n",
       "    </tr>\n",
       "    <tr>\n",
       "      <th id=\"T_3629f_level0_row2\" class=\"row_heading level0 row2\" >Moderate</th>\n",
       "      <td id=\"T_3629f_row2_col0\" class=\"data row2 col0\" >79 <span style=\"color: grey\">(42.0%) </span></td>\n",
       "      <td id=\"T_3629f_row2_col1\" class=\"data row2 col1\" >21 <span style=\"color: grey\">(11.2%) </span></td>\n",
       "      <td id=\"T_3629f_row2_col2\" class=\"data row2 col2\" >3 <span style=\"color: grey\">(1.6%) </span></td>\n",
       "      <td id=\"T_3629f_row2_col3\" class=\"data row2 col3\" ><span style=\"color: grey\">0 </span></td>\n",
       "      <td id=\"T_3629f_row2_col4\" class=\"data row2 col4\" >103 <span style=\"color: grey\">(54.8%) </span></td>\n",
       "    </tr>\n",
       "    <tr>\n",
       "      <th id=\"T_3629f_level0_row3\" class=\"row_heading level0 row3\" >Weiß nicht</th>\n",
       "      <td id=\"T_3629f_row3_col0\" class=\"data row3 col0\" >3 <span style=\"color: grey\">(1.6%) </span></td>\n",
       "      <td id=\"T_3629f_row3_col1\" class=\"data row3 col1\" ><span style=\"color: grey\">0 </span></td>\n",
       "      <td id=\"T_3629f_row3_col2\" class=\"data row3 col2\" ><span style=\"color: grey\">0 </span></td>\n",
       "      <td id=\"T_3629f_row3_col3\" class=\"data row3 col3\" ><span style=\"color: grey\">0 </span></td>\n",
       "      <td id=\"T_3629f_row3_col4\" class=\"data row3 col4\" >3 <span style=\"color: grey\">(1.6%) </span></td>\n",
       "    </tr>\n",
       "    <tr>\n",
       "      <th id=\"T_3629f_level0_row4\" class=\"row_heading level0 row4\" >Total</th>\n",
       "      <td id=\"T_3629f_row4_col0\" class=\"data row4 col0\" >145 <span style=\"color: grey\">(77.1%) </span></td>\n",
       "      <td id=\"T_3629f_row4_col1\" class=\"data row4 col1\" >39 <span style=\"color: grey\">(20.7%) </span></td>\n",
       "      <td id=\"T_3629f_row4_col2\" class=\"data row4 col2\" >3 <span style=\"color: grey\">(1.6%) </span></td>\n",
       "      <td id=\"T_3629f_row4_col3\" class=\"data row4 col3\" >1 <span style=\"color: grey\">(0.5%) </span></td>\n",
       "      <td id=\"T_3629f_row4_col4\" class=\"data row4 col4\" >188 <span style=\"color: grey\">(100.0%) </span></td>\n",
       "    </tr>\n",
       "  </tbody>\n",
       "</table>\n"
      ],
      "text/plain": [
       "<pandas.io.formats.style.Styler at 0x176b037a0>"
      ]
     },
     "metadata": {},
     "output_type": "display_data"
    }
   ],
   "source": [
    "print_survey(df_csv_condensed_cleansed)"
   ]
  },
  {
   "cell_type": "markdown",
   "id": "790b2872",
   "metadata": {},
   "source": [
    "## pie charts"
   ]
  },
  {
   "cell_type": "code",
   "execution_count": 36,
   "id": "984b4e97",
   "metadata": {},
   "outputs": [],
   "source": [
    "import plotly.express as px\n",
    "\n",
    "def print_pie(ser:pd.Series, caption:str=\"pie chart\")-> None:\n",
    "    cnt = ser.value_counts()\n",
    "\n",
    "    # Create the pie chart using the counts and their corresponding labels.\n",
    "    fig = px.pie(\n",
    "        values=cnt.values,\n",
    "        names=cnt.index,\n",
    "        title=caption,\n",
    "        width=800,\n",
    "        height=500,\n",
    "    )\n",
    "    fig.show()"
   ]
  },
  {
   "cell_type": "code",
   "execution_count": null,
   "id": "9a22d4f8",
   "metadata": {},
   "outputs": [
    {
     "name": "stdout",
     "output_type": "stream",
     "text": [
      "[05.03] Age\n"
     ]
    },
    {
     "data": {
      "application/vnd.plotly.v1+json": {
       "config": {
        "plotlyServerURL": "https://plot.ly"
       },
       "data": [
        {
         "domain": {
          "x": [
           0,
           1
          ],
          "y": [
           0,
           1
          ]
         },
         "hovertemplate": "label=%{label}<br>value=%{value}<extra></extra>",
         "labels": [
          "06 to 09 years",
          "10 to 14 years",
          "15 to 18 years",
          "02 to 05 years",
          "18+ years"
         ],
         "legendgroup": "",
         "name": "",
         "showlegend": true,
         "type": "pie",
         "values": {
          "bdata": "QzkgHQo=",
          "dtype": "i1"
         }
        }
       ],
       "layout": {
        "height": 500,
        "legend": {
         "tracegroupgap": 0
        },
        "template": {
         "data": {
          "bar": [
           {
            "error_x": {
             "color": "#2a3f5f"
            },
            "error_y": {
             "color": "#2a3f5f"
            },
            "marker": {
             "line": {
              "color": "#E5ECF6",
              "width": 0.5
             },
             "pattern": {
              "fillmode": "overlay",
              "size": 10,
              "solidity": 0.2
             }
            },
            "type": "bar"
           }
          ],
          "barpolar": [
           {
            "marker": {
             "line": {
              "color": "#E5ECF6",
              "width": 0.5
             },
             "pattern": {
              "fillmode": "overlay",
              "size": 10,
              "solidity": 0.2
             }
            },
            "type": "barpolar"
           }
          ],
          "carpet": [
           {
            "aaxis": {
             "endlinecolor": "#2a3f5f",
             "gridcolor": "white",
             "linecolor": "white",
             "minorgridcolor": "white",
             "startlinecolor": "#2a3f5f"
            },
            "baxis": {
             "endlinecolor": "#2a3f5f",
             "gridcolor": "white",
             "linecolor": "white",
             "minorgridcolor": "white",
             "startlinecolor": "#2a3f5f"
            },
            "type": "carpet"
           }
          ],
          "choropleth": [
           {
            "colorbar": {
             "outlinewidth": 0,
             "ticks": ""
            },
            "type": "choropleth"
           }
          ],
          "contour": [
           {
            "colorbar": {
             "outlinewidth": 0,
             "ticks": ""
            },
            "colorscale": [
             [
              0,
              "#0d0887"
             ],
             [
              0.1111111111111111,
              "#46039f"
             ],
             [
              0.2222222222222222,
              "#7201a8"
             ],
             [
              0.3333333333333333,
              "#9c179e"
             ],
             [
              0.4444444444444444,
              "#bd3786"
             ],
             [
              0.5555555555555556,
              "#d8576b"
             ],
             [
              0.6666666666666666,
              "#ed7953"
             ],
             [
              0.7777777777777778,
              "#fb9f3a"
             ],
             [
              0.8888888888888888,
              "#fdca26"
             ],
             [
              1,
              "#f0f921"
             ]
            ],
            "type": "contour"
           }
          ],
          "contourcarpet": [
           {
            "colorbar": {
             "outlinewidth": 0,
             "ticks": ""
            },
            "type": "contourcarpet"
           }
          ],
          "heatmap": [
           {
            "colorbar": {
             "outlinewidth": 0,
             "ticks": ""
            },
            "colorscale": [
             [
              0,
              "#0d0887"
             ],
             [
              0.1111111111111111,
              "#46039f"
             ],
             [
              0.2222222222222222,
              "#7201a8"
             ],
             [
              0.3333333333333333,
              "#9c179e"
             ],
             [
              0.4444444444444444,
              "#bd3786"
             ],
             [
              0.5555555555555556,
              "#d8576b"
             ],
             [
              0.6666666666666666,
              "#ed7953"
             ],
             [
              0.7777777777777778,
              "#fb9f3a"
             ],
             [
              0.8888888888888888,
              "#fdca26"
             ],
             [
              1,
              "#f0f921"
             ]
            ],
            "type": "heatmap"
           }
          ],
          "histogram": [
           {
            "marker": {
             "pattern": {
              "fillmode": "overlay",
              "size": 10,
              "solidity": 0.2
             }
            },
            "type": "histogram"
           }
          ],
          "histogram2d": [
           {
            "colorbar": {
             "outlinewidth": 0,
             "ticks": ""
            },
            "colorscale": [
             [
              0,
              "#0d0887"
             ],
             [
              0.1111111111111111,
              "#46039f"
             ],
             [
              0.2222222222222222,
              "#7201a8"
             ],
             [
              0.3333333333333333,
              "#9c179e"
             ],
             [
              0.4444444444444444,
              "#bd3786"
             ],
             [
              0.5555555555555556,
              "#d8576b"
             ],
             [
              0.6666666666666666,
              "#ed7953"
             ],
             [
              0.7777777777777778,
              "#fb9f3a"
             ],
             [
              0.8888888888888888,
              "#fdca26"
             ],
             [
              1,
              "#f0f921"
             ]
            ],
            "type": "histogram2d"
           }
          ],
          "histogram2dcontour": [
           {
            "colorbar": {
             "outlinewidth": 0,
             "ticks": ""
            },
            "colorscale": [
             [
              0,
              "#0d0887"
             ],
             [
              0.1111111111111111,
              "#46039f"
             ],
             [
              0.2222222222222222,
              "#7201a8"
             ],
             [
              0.3333333333333333,
              "#9c179e"
             ],
             [
              0.4444444444444444,
              "#bd3786"
             ],
             [
              0.5555555555555556,
              "#d8576b"
             ],
             [
              0.6666666666666666,
              "#ed7953"
             ],
             [
              0.7777777777777778,
              "#fb9f3a"
             ],
             [
              0.8888888888888888,
              "#fdca26"
             ],
             [
              1,
              "#f0f921"
             ]
            ],
            "type": "histogram2dcontour"
           }
          ],
          "mesh3d": [
           {
            "colorbar": {
             "outlinewidth": 0,
             "ticks": ""
            },
            "type": "mesh3d"
           }
          ],
          "parcoords": [
           {
            "line": {
             "colorbar": {
              "outlinewidth": 0,
              "ticks": ""
             }
            },
            "type": "parcoords"
           }
          ],
          "pie": [
           {
            "automargin": true,
            "type": "pie"
           }
          ],
          "scatter": [
           {
            "fillpattern": {
             "fillmode": "overlay",
             "size": 10,
             "solidity": 0.2
            },
            "type": "scatter"
           }
          ],
          "scatter3d": [
           {
            "line": {
             "colorbar": {
              "outlinewidth": 0,
              "ticks": ""
             }
            },
            "marker": {
             "colorbar": {
              "outlinewidth": 0,
              "ticks": ""
             }
            },
            "type": "scatter3d"
           }
          ],
          "scattercarpet": [
           {
            "marker": {
             "colorbar": {
              "outlinewidth": 0,
              "ticks": ""
             }
            },
            "type": "scattercarpet"
           }
          ],
          "scattergeo": [
           {
            "marker": {
             "colorbar": {
              "outlinewidth": 0,
              "ticks": ""
             }
            },
            "type": "scattergeo"
           }
          ],
          "scattergl": [
           {
            "marker": {
             "colorbar": {
              "outlinewidth": 0,
              "ticks": ""
             }
            },
            "type": "scattergl"
           }
          ],
          "scattermap": [
           {
            "marker": {
             "colorbar": {
              "outlinewidth": 0,
              "ticks": ""
             }
            },
            "type": "scattermap"
           }
          ],
          "scattermapbox": [
           {
            "marker": {
             "colorbar": {
              "outlinewidth": 0,
              "ticks": ""
             }
            },
            "type": "scattermapbox"
           }
          ],
          "scatterpolar": [
           {
            "marker": {
             "colorbar": {
              "outlinewidth": 0,
              "ticks": ""
             }
            },
            "type": "scatterpolar"
           }
          ],
          "scatterpolargl": [
           {
            "marker": {
             "colorbar": {
              "outlinewidth": 0,
              "ticks": ""
             }
            },
            "type": "scatterpolargl"
           }
          ],
          "scatterternary": [
           {
            "marker": {
             "colorbar": {
              "outlinewidth": 0,
              "ticks": ""
             }
            },
            "type": "scatterternary"
           }
          ],
          "surface": [
           {
            "colorbar": {
             "outlinewidth": 0,
             "ticks": ""
            },
            "colorscale": [
             [
              0,
              "#0d0887"
             ],
             [
              0.1111111111111111,
              "#46039f"
             ],
             [
              0.2222222222222222,
              "#7201a8"
             ],
             [
              0.3333333333333333,
              "#9c179e"
             ],
             [
              0.4444444444444444,
              "#bd3786"
             ],
             [
              0.5555555555555556,
              "#d8576b"
             ],
             [
              0.6666666666666666,
              "#ed7953"
             ],
             [
              0.7777777777777778,
              "#fb9f3a"
             ],
             [
              0.8888888888888888,
              "#fdca26"
             ],
             [
              1,
              "#f0f921"
             ]
            ],
            "type": "surface"
           }
          ],
          "table": [
           {
            "cells": {
             "fill": {
              "color": "#EBF0F8"
             },
             "line": {
              "color": "white"
             }
            },
            "header": {
             "fill": {
              "color": "#C8D4E3"
             },
             "line": {
              "color": "white"
             }
            },
            "type": "table"
           }
          ]
         },
         "layout": {
          "annotationdefaults": {
           "arrowcolor": "#2a3f5f",
           "arrowhead": 0,
           "arrowwidth": 1
          },
          "autotypenumbers": "strict",
          "coloraxis": {
           "colorbar": {
            "outlinewidth": 0,
            "ticks": ""
           }
          },
          "colorscale": {
           "diverging": [
            [
             0,
             "#8e0152"
            ],
            [
             0.1,
             "#c51b7d"
            ],
            [
             0.2,
             "#de77ae"
            ],
            [
             0.3,
             "#f1b6da"
            ],
            [
             0.4,
             "#fde0ef"
            ],
            [
             0.5,
             "#f7f7f7"
            ],
            [
             0.6,
             "#e6f5d0"
            ],
            [
             0.7,
             "#b8e186"
            ],
            [
             0.8,
             "#7fbc41"
            ],
            [
             0.9,
             "#4d9221"
            ],
            [
             1,
             "#276419"
            ]
           ],
           "sequential": [
            [
             0,
             "#0d0887"
            ],
            [
             0.1111111111111111,
             "#46039f"
            ],
            [
             0.2222222222222222,
             "#7201a8"
            ],
            [
             0.3333333333333333,
             "#9c179e"
            ],
            [
             0.4444444444444444,
             "#bd3786"
            ],
            [
             0.5555555555555556,
             "#d8576b"
            ],
            [
             0.6666666666666666,
             "#ed7953"
            ],
            [
             0.7777777777777778,
             "#fb9f3a"
            ],
            [
             0.8888888888888888,
             "#fdca26"
            ],
            [
             1,
             "#f0f921"
            ]
           ],
           "sequentialminus": [
            [
             0,
             "#0d0887"
            ],
            [
             0.1111111111111111,
             "#46039f"
            ],
            [
             0.2222222222222222,
             "#7201a8"
            ],
            [
             0.3333333333333333,
             "#9c179e"
            ],
            [
             0.4444444444444444,
             "#bd3786"
            ],
            [
             0.5555555555555556,
             "#d8576b"
            ],
            [
             0.6666666666666666,
             "#ed7953"
            ],
            [
             0.7777777777777778,
             "#fb9f3a"
            ],
            [
             0.8888888888888888,
             "#fdca26"
            ],
            [
             1,
             "#f0f921"
            ]
           ]
          },
          "colorway": [
           "#636efa",
           "#EF553B",
           "#00cc96",
           "#ab63fa",
           "#FFA15A",
           "#19d3f3",
           "#FF6692",
           "#B6E880",
           "#FF97FF",
           "#FECB52"
          ],
          "font": {
           "color": "#2a3f5f"
          },
          "geo": {
           "bgcolor": "white",
           "lakecolor": "white",
           "landcolor": "#E5ECF6",
           "showlakes": true,
           "showland": true,
           "subunitcolor": "white"
          },
          "hoverlabel": {
           "align": "left"
          },
          "hovermode": "closest",
          "mapbox": {
           "style": "light"
          },
          "paper_bgcolor": "white",
          "plot_bgcolor": "#E5ECF6",
          "polar": {
           "angularaxis": {
            "gridcolor": "white",
            "linecolor": "white",
            "ticks": ""
           },
           "bgcolor": "#E5ECF6",
           "radialaxis": {
            "gridcolor": "white",
            "linecolor": "white",
            "ticks": ""
           }
          },
          "scene": {
           "xaxis": {
            "backgroundcolor": "#E5ECF6",
            "gridcolor": "white",
            "gridwidth": 2,
            "linecolor": "white",
            "showbackground": true,
            "ticks": "",
            "zerolinecolor": "white"
           },
           "yaxis": {
            "backgroundcolor": "#E5ECF6",
            "gridcolor": "white",
            "gridwidth": 2,
            "linecolor": "white",
            "showbackground": true,
            "ticks": "",
            "zerolinecolor": "white"
           },
           "zaxis": {
            "backgroundcolor": "#E5ECF6",
            "gridcolor": "white",
            "gridwidth": 2,
            "linecolor": "white",
            "showbackground": true,
            "ticks": "",
            "zerolinecolor": "white"
           }
          },
          "shapedefaults": {
           "line": {
            "color": "#2a3f5f"
           }
          },
          "ternary": {
           "aaxis": {
            "gridcolor": "white",
            "linecolor": "white",
            "ticks": ""
           },
           "baxis": {
            "gridcolor": "white",
            "linecolor": "white",
            "ticks": ""
           },
           "bgcolor": "#E5ECF6",
           "caxis": {
            "gridcolor": "white",
            "linecolor": "white",
            "ticks": ""
           }
          },
          "title": {
           "x": 0.05
          },
          "xaxis": {
           "automargin": true,
           "gridcolor": "white",
           "linecolor": "white",
           "ticks": "",
           "title": {
            "standoff": 15
           },
           "zerolinecolor": "white",
           "zerolinewidth": 2
          },
          "yaxis": {
           "automargin": true,
           "gridcolor": "white",
           "linecolor": "white",
           "ticks": "",
           "title": {
            "standoff": 15
           },
           "zerolinecolor": "white",
           "zerolinewidth": 2
          }
         }
        },
        "title": {
         "text": "[05.03] Age, n = 240"
        },
        "width": 800
       }
      }
     },
     "metadata": {},
     "output_type": "display_data"
    },
    {
     "name": "stdout",
     "output_type": "stream",
     "text": [
      "[05.01] Therapy phase\n"
     ]
    },
    {
     "data": {
      "application/vnd.plotly.v1+json": {
       "config": {
        "plotlyServerURL": "https://plot.ly"
       },
       "data": [
        {
         "domain": {
          "x": [
           0,
           1
          ],
          "y": [
           0,
           1
          ]
         },
         "hovertemplate": "label=%{label}<br>value=%{value}<extra></extra>",
         "labels": [
          "Acute therapy",
          "Aftercare",
          "Long-term therapy",
          "Weiß nicht"
         ],
         "legendgroup": "",
         "name": "",
         "showlegend": true,
         "type": "pie",
         "values": {
          "bdata": "yQAeAAgAAQA=",
          "dtype": "i2"
         }
        }
       ],
       "layout": {
        "height": 500,
        "legend": {
         "tracegroupgap": 0
        },
        "template": {
         "data": {
          "bar": [
           {
            "error_x": {
             "color": "#2a3f5f"
            },
            "error_y": {
             "color": "#2a3f5f"
            },
            "marker": {
             "line": {
              "color": "#E5ECF6",
              "width": 0.5
             },
             "pattern": {
              "fillmode": "overlay",
              "size": 10,
              "solidity": 0.2
             }
            },
            "type": "bar"
           }
          ],
          "barpolar": [
           {
            "marker": {
             "line": {
              "color": "#E5ECF6",
              "width": 0.5
             },
             "pattern": {
              "fillmode": "overlay",
              "size": 10,
              "solidity": 0.2
             }
            },
            "type": "barpolar"
           }
          ],
          "carpet": [
           {
            "aaxis": {
             "endlinecolor": "#2a3f5f",
             "gridcolor": "white",
             "linecolor": "white",
             "minorgridcolor": "white",
             "startlinecolor": "#2a3f5f"
            },
            "baxis": {
             "endlinecolor": "#2a3f5f",
             "gridcolor": "white",
             "linecolor": "white",
             "minorgridcolor": "white",
             "startlinecolor": "#2a3f5f"
            },
            "type": "carpet"
           }
          ],
          "choropleth": [
           {
            "colorbar": {
             "outlinewidth": 0,
             "ticks": ""
            },
            "type": "choropleth"
           }
          ],
          "contour": [
           {
            "colorbar": {
             "outlinewidth": 0,
             "ticks": ""
            },
            "colorscale": [
             [
              0,
              "#0d0887"
             ],
             [
              0.1111111111111111,
              "#46039f"
             ],
             [
              0.2222222222222222,
              "#7201a8"
             ],
             [
              0.3333333333333333,
              "#9c179e"
             ],
             [
              0.4444444444444444,
              "#bd3786"
             ],
             [
              0.5555555555555556,
              "#d8576b"
             ],
             [
              0.6666666666666666,
              "#ed7953"
             ],
             [
              0.7777777777777778,
              "#fb9f3a"
             ],
             [
              0.8888888888888888,
              "#fdca26"
             ],
             [
              1,
              "#f0f921"
             ]
            ],
            "type": "contour"
           }
          ],
          "contourcarpet": [
           {
            "colorbar": {
             "outlinewidth": 0,
             "ticks": ""
            },
            "type": "contourcarpet"
           }
          ],
          "heatmap": [
           {
            "colorbar": {
             "outlinewidth": 0,
             "ticks": ""
            },
            "colorscale": [
             [
              0,
              "#0d0887"
             ],
             [
              0.1111111111111111,
              "#46039f"
             ],
             [
              0.2222222222222222,
              "#7201a8"
             ],
             [
              0.3333333333333333,
              "#9c179e"
             ],
             [
              0.4444444444444444,
              "#bd3786"
             ],
             [
              0.5555555555555556,
              "#d8576b"
             ],
             [
              0.6666666666666666,
              "#ed7953"
             ],
             [
              0.7777777777777778,
              "#fb9f3a"
             ],
             [
              0.8888888888888888,
              "#fdca26"
             ],
             [
              1,
              "#f0f921"
             ]
            ],
            "type": "heatmap"
           }
          ],
          "histogram": [
           {
            "marker": {
             "pattern": {
              "fillmode": "overlay",
              "size": 10,
              "solidity": 0.2
             }
            },
            "type": "histogram"
           }
          ],
          "histogram2d": [
           {
            "colorbar": {
             "outlinewidth": 0,
             "ticks": ""
            },
            "colorscale": [
             [
              0,
              "#0d0887"
             ],
             [
              0.1111111111111111,
              "#46039f"
             ],
             [
              0.2222222222222222,
              "#7201a8"
             ],
             [
              0.3333333333333333,
              "#9c179e"
             ],
             [
              0.4444444444444444,
              "#bd3786"
             ],
             [
              0.5555555555555556,
              "#d8576b"
             ],
             [
              0.6666666666666666,
              "#ed7953"
             ],
             [
              0.7777777777777778,
              "#fb9f3a"
             ],
             [
              0.8888888888888888,
              "#fdca26"
             ],
             [
              1,
              "#f0f921"
             ]
            ],
            "type": "histogram2d"
           }
          ],
          "histogram2dcontour": [
           {
            "colorbar": {
             "outlinewidth": 0,
             "ticks": ""
            },
            "colorscale": [
             [
              0,
              "#0d0887"
             ],
             [
              0.1111111111111111,
              "#46039f"
             ],
             [
              0.2222222222222222,
              "#7201a8"
             ],
             [
              0.3333333333333333,
              "#9c179e"
             ],
             [
              0.4444444444444444,
              "#bd3786"
             ],
             [
              0.5555555555555556,
              "#d8576b"
             ],
             [
              0.6666666666666666,
              "#ed7953"
             ],
             [
              0.7777777777777778,
              "#fb9f3a"
             ],
             [
              0.8888888888888888,
              "#fdca26"
             ],
             [
              1,
              "#f0f921"
             ]
            ],
            "type": "histogram2dcontour"
           }
          ],
          "mesh3d": [
           {
            "colorbar": {
             "outlinewidth": 0,
             "ticks": ""
            },
            "type": "mesh3d"
           }
          ],
          "parcoords": [
           {
            "line": {
             "colorbar": {
              "outlinewidth": 0,
              "ticks": ""
             }
            },
            "type": "parcoords"
           }
          ],
          "pie": [
           {
            "automargin": true,
            "type": "pie"
           }
          ],
          "scatter": [
           {
            "fillpattern": {
             "fillmode": "overlay",
             "size": 10,
             "solidity": 0.2
            },
            "type": "scatter"
           }
          ],
          "scatter3d": [
           {
            "line": {
             "colorbar": {
              "outlinewidth": 0,
              "ticks": ""
             }
            },
            "marker": {
             "colorbar": {
              "outlinewidth": 0,
              "ticks": ""
             }
            },
            "type": "scatter3d"
           }
          ],
          "scattercarpet": [
           {
            "marker": {
             "colorbar": {
              "outlinewidth": 0,
              "ticks": ""
             }
            },
            "type": "scattercarpet"
           }
          ],
          "scattergeo": [
           {
            "marker": {
             "colorbar": {
              "outlinewidth": 0,
              "ticks": ""
             }
            },
            "type": "scattergeo"
           }
          ],
          "scattergl": [
           {
            "marker": {
             "colorbar": {
              "outlinewidth": 0,
              "ticks": ""
             }
            },
            "type": "scattergl"
           }
          ],
          "scattermap": [
           {
            "marker": {
             "colorbar": {
              "outlinewidth": 0,
              "ticks": ""
             }
            },
            "type": "scattermap"
           }
          ],
          "scattermapbox": [
           {
            "marker": {
             "colorbar": {
              "outlinewidth": 0,
              "ticks": ""
             }
            },
            "type": "scattermapbox"
           }
          ],
          "scatterpolar": [
           {
            "marker": {
             "colorbar": {
              "outlinewidth": 0,
              "ticks": ""
             }
            },
            "type": "scatterpolar"
           }
          ],
          "scatterpolargl": [
           {
            "marker": {
             "colorbar": {
              "outlinewidth": 0,
              "ticks": ""
             }
            },
            "type": "scatterpolargl"
           }
          ],
          "scatterternary": [
           {
            "marker": {
             "colorbar": {
              "outlinewidth": 0,
              "ticks": ""
             }
            },
            "type": "scatterternary"
           }
          ],
          "surface": [
           {
            "colorbar": {
             "outlinewidth": 0,
             "ticks": ""
            },
            "colorscale": [
             [
              0,
              "#0d0887"
             ],
             [
              0.1111111111111111,
              "#46039f"
             ],
             [
              0.2222222222222222,
              "#7201a8"
             ],
             [
              0.3333333333333333,
              "#9c179e"
             ],
             [
              0.4444444444444444,
              "#bd3786"
             ],
             [
              0.5555555555555556,
              "#d8576b"
             ],
             [
              0.6666666666666666,
              "#ed7953"
             ],
             [
              0.7777777777777778,
              "#fb9f3a"
             ],
             [
              0.8888888888888888,
              "#fdca26"
             ],
             [
              1,
              "#f0f921"
             ]
            ],
            "type": "surface"
           }
          ],
          "table": [
           {
            "cells": {
             "fill": {
              "color": "#EBF0F8"
             },
             "line": {
              "color": "white"
             }
            },
            "header": {
             "fill": {
              "color": "#C8D4E3"
             },
             "line": {
              "color": "white"
             }
            },
            "type": "table"
           }
          ]
         },
         "layout": {
          "annotationdefaults": {
           "arrowcolor": "#2a3f5f",
           "arrowhead": 0,
           "arrowwidth": 1
          },
          "autotypenumbers": "strict",
          "coloraxis": {
           "colorbar": {
            "outlinewidth": 0,
            "ticks": ""
           }
          },
          "colorscale": {
           "diverging": [
            [
             0,
             "#8e0152"
            ],
            [
             0.1,
             "#c51b7d"
            ],
            [
             0.2,
             "#de77ae"
            ],
            [
             0.3,
             "#f1b6da"
            ],
            [
             0.4,
             "#fde0ef"
            ],
            [
             0.5,
             "#f7f7f7"
            ],
            [
             0.6,
             "#e6f5d0"
            ],
            [
             0.7,
             "#b8e186"
            ],
            [
             0.8,
             "#7fbc41"
            ],
            [
             0.9,
             "#4d9221"
            ],
            [
             1,
             "#276419"
            ]
           ],
           "sequential": [
            [
             0,
             "#0d0887"
            ],
            [
             0.1111111111111111,
             "#46039f"
            ],
            [
             0.2222222222222222,
             "#7201a8"
            ],
            [
             0.3333333333333333,
             "#9c179e"
            ],
            [
             0.4444444444444444,
             "#bd3786"
            ],
            [
             0.5555555555555556,
             "#d8576b"
            ],
            [
             0.6666666666666666,
             "#ed7953"
            ],
            [
             0.7777777777777778,
             "#fb9f3a"
            ],
            [
             0.8888888888888888,
             "#fdca26"
            ],
            [
             1,
             "#f0f921"
            ]
           ],
           "sequentialminus": [
            [
             0,
             "#0d0887"
            ],
            [
             0.1111111111111111,
             "#46039f"
            ],
            [
             0.2222222222222222,
             "#7201a8"
            ],
            [
             0.3333333333333333,
             "#9c179e"
            ],
            [
             0.4444444444444444,
             "#bd3786"
            ],
            [
             0.5555555555555556,
             "#d8576b"
            ],
            [
             0.6666666666666666,
             "#ed7953"
            ],
            [
             0.7777777777777778,
             "#fb9f3a"
            ],
            [
             0.8888888888888888,
             "#fdca26"
            ],
            [
             1,
             "#f0f921"
            ]
           ]
          },
          "colorway": [
           "#636efa",
           "#EF553B",
           "#00cc96",
           "#ab63fa",
           "#FFA15A",
           "#19d3f3",
           "#FF6692",
           "#B6E880",
           "#FF97FF",
           "#FECB52"
          ],
          "font": {
           "color": "#2a3f5f"
          },
          "geo": {
           "bgcolor": "white",
           "lakecolor": "white",
           "landcolor": "#E5ECF6",
           "showlakes": true,
           "showland": true,
           "subunitcolor": "white"
          },
          "hoverlabel": {
           "align": "left"
          },
          "hovermode": "closest",
          "mapbox": {
           "style": "light"
          },
          "paper_bgcolor": "white",
          "plot_bgcolor": "#E5ECF6",
          "polar": {
           "angularaxis": {
            "gridcolor": "white",
            "linecolor": "white",
            "ticks": ""
           },
           "bgcolor": "#E5ECF6",
           "radialaxis": {
            "gridcolor": "white",
            "linecolor": "white",
            "ticks": ""
           }
          },
          "scene": {
           "xaxis": {
            "backgroundcolor": "#E5ECF6",
            "gridcolor": "white",
            "gridwidth": 2,
            "linecolor": "white",
            "showbackground": true,
            "ticks": "",
            "zerolinecolor": "white"
           },
           "yaxis": {
            "backgroundcolor": "#E5ECF6",
            "gridcolor": "white",
            "gridwidth": 2,
            "linecolor": "white",
            "showbackground": true,
            "ticks": "",
            "zerolinecolor": "white"
           },
           "zaxis": {
            "backgroundcolor": "#E5ECF6",
            "gridcolor": "white",
            "gridwidth": 2,
            "linecolor": "white",
            "showbackground": true,
            "ticks": "",
            "zerolinecolor": "white"
           }
          },
          "shapedefaults": {
           "line": {
            "color": "#2a3f5f"
           }
          },
          "ternary": {
           "aaxis": {
            "gridcolor": "white",
            "linecolor": "white",
            "ticks": ""
           },
           "baxis": {
            "gridcolor": "white",
            "linecolor": "white",
            "ticks": ""
           },
           "bgcolor": "#E5ECF6",
           "caxis": {
            "gridcolor": "white",
            "linecolor": "white",
            "ticks": ""
           }
          },
          "title": {
           "x": 0.05
          },
          "xaxis": {
           "automargin": true,
           "gridcolor": "white",
           "linecolor": "white",
           "ticks": "",
           "title": {
            "standoff": 15
           },
           "zerolinecolor": "white",
           "zerolinewidth": 2
          },
          "yaxis": {
           "automargin": true,
           "gridcolor": "white",
           "linecolor": "white",
           "ticks": "",
           "title": {
            "standoff": 15
           },
           "zerolinecolor": "white",
           "zerolinewidth": 2
          }
         }
        },
        "title": {
         "text": "[05.01] Therapy phase, n = 240"
        },
        "width": 800
       }
      }
     },
     "metadata": {},
     "output_type": "display_data"
    },
    {
     "name": "stdout",
     "output_type": "stream",
     "text": [
      "[05.09] Training condition\n"
     ]
    },
    {
     "data": {
      "application/vnd.plotly.v1+json": {
       "config": {
        "plotlyServerURL": "https://plot.ly"
       },
       "data": [
        {
         "domain": {
          "x": [
           0,
           1
          ],
          "y": [
           0,
           1
          ]
         },
         "hovertemplate": "label=%{label}<br>value=%{value}<extra></extra>",
         "labels": [
          "Moderate",
          "Average",
          "Good",
          "Weiß nicht"
         ],
         "legendgroup": "",
         "name": "",
         "showlegend": true,
         "type": "pie",
         "values": {
          "bdata": "ZzUdAw==",
          "dtype": "i1"
         }
        }
       ],
       "layout": {
        "height": 500,
        "legend": {
         "tracegroupgap": 0
        },
        "template": {
         "data": {
          "bar": [
           {
            "error_x": {
             "color": "#2a3f5f"
            },
            "error_y": {
             "color": "#2a3f5f"
            },
            "marker": {
             "line": {
              "color": "#E5ECF6",
              "width": 0.5
             },
             "pattern": {
              "fillmode": "overlay",
              "size": 10,
              "solidity": 0.2
             }
            },
            "type": "bar"
           }
          ],
          "barpolar": [
           {
            "marker": {
             "line": {
              "color": "#E5ECF6",
              "width": 0.5
             },
             "pattern": {
              "fillmode": "overlay",
              "size": 10,
              "solidity": 0.2
             }
            },
            "type": "barpolar"
           }
          ],
          "carpet": [
           {
            "aaxis": {
             "endlinecolor": "#2a3f5f",
             "gridcolor": "white",
             "linecolor": "white",
             "minorgridcolor": "white",
             "startlinecolor": "#2a3f5f"
            },
            "baxis": {
             "endlinecolor": "#2a3f5f",
             "gridcolor": "white",
             "linecolor": "white",
             "minorgridcolor": "white",
             "startlinecolor": "#2a3f5f"
            },
            "type": "carpet"
           }
          ],
          "choropleth": [
           {
            "colorbar": {
             "outlinewidth": 0,
             "ticks": ""
            },
            "type": "choropleth"
           }
          ],
          "contour": [
           {
            "colorbar": {
             "outlinewidth": 0,
             "ticks": ""
            },
            "colorscale": [
             [
              0,
              "#0d0887"
             ],
             [
              0.1111111111111111,
              "#46039f"
             ],
             [
              0.2222222222222222,
              "#7201a8"
             ],
             [
              0.3333333333333333,
              "#9c179e"
             ],
             [
              0.4444444444444444,
              "#bd3786"
             ],
             [
              0.5555555555555556,
              "#d8576b"
             ],
             [
              0.6666666666666666,
              "#ed7953"
             ],
             [
              0.7777777777777778,
              "#fb9f3a"
             ],
             [
              0.8888888888888888,
              "#fdca26"
             ],
             [
              1,
              "#f0f921"
             ]
            ],
            "type": "contour"
           }
          ],
          "contourcarpet": [
           {
            "colorbar": {
             "outlinewidth": 0,
             "ticks": ""
            },
            "type": "contourcarpet"
           }
          ],
          "heatmap": [
           {
            "colorbar": {
             "outlinewidth": 0,
             "ticks": ""
            },
            "colorscale": [
             [
              0,
              "#0d0887"
             ],
             [
              0.1111111111111111,
              "#46039f"
             ],
             [
              0.2222222222222222,
              "#7201a8"
             ],
             [
              0.3333333333333333,
              "#9c179e"
             ],
             [
              0.4444444444444444,
              "#bd3786"
             ],
             [
              0.5555555555555556,
              "#d8576b"
             ],
             [
              0.6666666666666666,
              "#ed7953"
             ],
             [
              0.7777777777777778,
              "#fb9f3a"
             ],
             [
              0.8888888888888888,
              "#fdca26"
             ],
             [
              1,
              "#f0f921"
             ]
            ],
            "type": "heatmap"
           }
          ],
          "histogram": [
           {
            "marker": {
             "pattern": {
              "fillmode": "overlay",
              "size": 10,
              "solidity": 0.2
             }
            },
            "type": "histogram"
           }
          ],
          "histogram2d": [
           {
            "colorbar": {
             "outlinewidth": 0,
             "ticks": ""
            },
            "colorscale": [
             [
              0,
              "#0d0887"
             ],
             [
              0.1111111111111111,
              "#46039f"
             ],
             [
              0.2222222222222222,
              "#7201a8"
             ],
             [
              0.3333333333333333,
              "#9c179e"
             ],
             [
              0.4444444444444444,
              "#bd3786"
             ],
             [
              0.5555555555555556,
              "#d8576b"
             ],
             [
              0.6666666666666666,
              "#ed7953"
             ],
             [
              0.7777777777777778,
              "#fb9f3a"
             ],
             [
              0.8888888888888888,
              "#fdca26"
             ],
             [
              1,
              "#f0f921"
             ]
            ],
            "type": "histogram2d"
           }
          ],
          "histogram2dcontour": [
           {
            "colorbar": {
             "outlinewidth": 0,
             "ticks": ""
            },
            "colorscale": [
             [
              0,
              "#0d0887"
             ],
             [
              0.1111111111111111,
              "#46039f"
             ],
             [
              0.2222222222222222,
              "#7201a8"
             ],
             [
              0.3333333333333333,
              "#9c179e"
             ],
             [
              0.4444444444444444,
              "#bd3786"
             ],
             [
              0.5555555555555556,
              "#d8576b"
             ],
             [
              0.6666666666666666,
              "#ed7953"
             ],
             [
              0.7777777777777778,
              "#fb9f3a"
             ],
             [
              0.8888888888888888,
              "#fdca26"
             ],
             [
              1,
              "#f0f921"
             ]
            ],
            "type": "histogram2dcontour"
           }
          ],
          "mesh3d": [
           {
            "colorbar": {
             "outlinewidth": 0,
             "ticks": ""
            },
            "type": "mesh3d"
           }
          ],
          "parcoords": [
           {
            "line": {
             "colorbar": {
              "outlinewidth": 0,
              "ticks": ""
             }
            },
            "type": "parcoords"
           }
          ],
          "pie": [
           {
            "automargin": true,
            "type": "pie"
           }
          ],
          "scatter": [
           {
            "fillpattern": {
             "fillmode": "overlay",
             "size": 10,
             "solidity": 0.2
            },
            "type": "scatter"
           }
          ],
          "scatter3d": [
           {
            "line": {
             "colorbar": {
              "outlinewidth": 0,
              "ticks": ""
             }
            },
            "marker": {
             "colorbar": {
              "outlinewidth": 0,
              "ticks": ""
             }
            },
            "type": "scatter3d"
           }
          ],
          "scattercarpet": [
           {
            "marker": {
             "colorbar": {
              "outlinewidth": 0,
              "ticks": ""
             }
            },
            "type": "scattercarpet"
           }
          ],
          "scattergeo": [
           {
            "marker": {
             "colorbar": {
              "outlinewidth": 0,
              "ticks": ""
             }
            },
            "type": "scattergeo"
           }
          ],
          "scattergl": [
           {
            "marker": {
             "colorbar": {
              "outlinewidth": 0,
              "ticks": ""
             }
            },
            "type": "scattergl"
           }
          ],
          "scattermap": [
           {
            "marker": {
             "colorbar": {
              "outlinewidth": 0,
              "ticks": ""
             }
            },
            "type": "scattermap"
           }
          ],
          "scattermapbox": [
           {
            "marker": {
             "colorbar": {
              "outlinewidth": 0,
              "ticks": ""
             }
            },
            "type": "scattermapbox"
           }
          ],
          "scatterpolar": [
           {
            "marker": {
             "colorbar": {
              "outlinewidth": 0,
              "ticks": ""
             }
            },
            "type": "scatterpolar"
           }
          ],
          "scatterpolargl": [
           {
            "marker": {
             "colorbar": {
              "outlinewidth": 0,
              "ticks": ""
             }
            },
            "type": "scatterpolargl"
           }
          ],
          "scatterternary": [
           {
            "marker": {
             "colorbar": {
              "outlinewidth": 0,
              "ticks": ""
             }
            },
            "type": "scatterternary"
           }
          ],
          "surface": [
           {
            "colorbar": {
             "outlinewidth": 0,
             "ticks": ""
            },
            "colorscale": [
             [
              0,
              "#0d0887"
             ],
             [
              0.1111111111111111,
              "#46039f"
             ],
             [
              0.2222222222222222,
              "#7201a8"
             ],
             [
              0.3333333333333333,
              "#9c179e"
             ],
             [
              0.4444444444444444,
              "#bd3786"
             ],
             [
              0.5555555555555556,
              "#d8576b"
             ],
             [
              0.6666666666666666,
              "#ed7953"
             ],
             [
              0.7777777777777778,
              "#fb9f3a"
             ],
             [
              0.8888888888888888,
              "#fdca26"
             ],
             [
              1,
              "#f0f921"
             ]
            ],
            "type": "surface"
           }
          ],
          "table": [
           {
            "cells": {
             "fill": {
              "color": "#EBF0F8"
             },
             "line": {
              "color": "white"
             }
            },
            "header": {
             "fill": {
              "color": "#C8D4E3"
             },
             "line": {
              "color": "white"
             }
            },
            "type": "table"
           }
          ]
         },
         "layout": {
          "annotationdefaults": {
           "arrowcolor": "#2a3f5f",
           "arrowhead": 0,
           "arrowwidth": 1
          },
          "autotypenumbers": "strict",
          "coloraxis": {
           "colorbar": {
            "outlinewidth": 0,
            "ticks": ""
           }
          },
          "colorscale": {
           "diverging": [
            [
             0,
             "#8e0152"
            ],
            [
             0.1,
             "#c51b7d"
            ],
            [
             0.2,
             "#de77ae"
            ],
            [
             0.3,
             "#f1b6da"
            ],
            [
             0.4,
             "#fde0ef"
            ],
            [
             0.5,
             "#f7f7f7"
            ],
            [
             0.6,
             "#e6f5d0"
            ],
            [
             0.7,
             "#b8e186"
            ],
            [
             0.8,
             "#7fbc41"
            ],
            [
             0.9,
             "#4d9221"
            ],
            [
             1,
             "#276419"
            ]
           ],
           "sequential": [
            [
             0,
             "#0d0887"
            ],
            [
             0.1111111111111111,
             "#46039f"
            ],
            [
             0.2222222222222222,
             "#7201a8"
            ],
            [
             0.3333333333333333,
             "#9c179e"
            ],
            [
             0.4444444444444444,
             "#bd3786"
            ],
            [
             0.5555555555555556,
             "#d8576b"
            ],
            [
             0.6666666666666666,
             "#ed7953"
            ],
            [
             0.7777777777777778,
             "#fb9f3a"
            ],
            [
             0.8888888888888888,
             "#fdca26"
            ],
            [
             1,
             "#f0f921"
            ]
           ],
           "sequentialminus": [
            [
             0,
             "#0d0887"
            ],
            [
             0.1111111111111111,
             "#46039f"
            ],
            [
             0.2222222222222222,
             "#7201a8"
            ],
            [
             0.3333333333333333,
             "#9c179e"
            ],
            [
             0.4444444444444444,
             "#bd3786"
            ],
            [
             0.5555555555555556,
             "#d8576b"
            ],
            [
             0.6666666666666666,
             "#ed7953"
            ],
            [
             0.7777777777777778,
             "#fb9f3a"
            ],
            [
             0.8888888888888888,
             "#fdca26"
            ],
            [
             1,
             "#f0f921"
            ]
           ]
          },
          "colorway": [
           "#636efa",
           "#EF553B",
           "#00cc96",
           "#ab63fa",
           "#FFA15A",
           "#19d3f3",
           "#FF6692",
           "#B6E880",
           "#FF97FF",
           "#FECB52"
          ],
          "font": {
           "color": "#2a3f5f"
          },
          "geo": {
           "bgcolor": "white",
           "lakecolor": "white",
           "landcolor": "#E5ECF6",
           "showlakes": true,
           "showland": true,
           "subunitcolor": "white"
          },
          "hoverlabel": {
           "align": "left"
          },
          "hovermode": "closest",
          "mapbox": {
           "style": "light"
          },
          "paper_bgcolor": "white",
          "plot_bgcolor": "#E5ECF6",
          "polar": {
           "angularaxis": {
            "gridcolor": "white",
            "linecolor": "white",
            "ticks": ""
           },
           "bgcolor": "#E5ECF6",
           "radialaxis": {
            "gridcolor": "white",
            "linecolor": "white",
            "ticks": ""
           }
          },
          "scene": {
           "xaxis": {
            "backgroundcolor": "#E5ECF6",
            "gridcolor": "white",
            "gridwidth": 2,
            "linecolor": "white",
            "showbackground": true,
            "ticks": "",
            "zerolinecolor": "white"
           },
           "yaxis": {
            "backgroundcolor": "#E5ECF6",
            "gridcolor": "white",
            "gridwidth": 2,
            "linecolor": "white",
            "showbackground": true,
            "ticks": "",
            "zerolinecolor": "white"
           },
           "zaxis": {
            "backgroundcolor": "#E5ECF6",
            "gridcolor": "white",
            "gridwidth": 2,
            "linecolor": "white",
            "showbackground": true,
            "ticks": "",
            "zerolinecolor": "white"
           }
          },
          "shapedefaults": {
           "line": {
            "color": "#2a3f5f"
           }
          },
          "ternary": {
           "aaxis": {
            "gridcolor": "white",
            "linecolor": "white",
            "ticks": ""
           },
           "baxis": {
            "gridcolor": "white",
            "linecolor": "white",
            "ticks": ""
           },
           "bgcolor": "#E5ECF6",
           "caxis": {
            "gridcolor": "white",
            "linecolor": "white",
            "ticks": ""
           }
          },
          "title": {
           "x": 0.05
          },
          "xaxis": {
           "automargin": true,
           "gridcolor": "white",
           "linecolor": "white",
           "ticks": "",
           "title": {
            "standoff": 15
           },
           "zerolinecolor": "white",
           "zerolinewidth": 2
          },
          "yaxis": {
           "automargin": true,
           "gridcolor": "white",
           "linecolor": "white",
           "ticks": "",
           "title": {
            "standoff": 15
           },
           "zerolinecolor": "white",
           "zerolinewidth": 2
          }
         }
        },
        "title": {
         "text": "[05.09] Training condition, n = 242"
        },
        "width": 800
       }
      }
     },
     "metadata": {},
     "output_type": "display_data"
    },
    {
     "name": "stdout",
     "output_type": "stream",
     "text": [
      "[02.02] Type\n"
     ]
    },
    {
     "data": {
      "application/vnd.plotly.v1+json": {
       "config": {
        "plotlyServerURL": "https://plot.ly"
       },
       "data": [
        {
         "domain": {
          "x": [
           0,
           1
          ],
          "y": [
           0,
           1
          ]
         },
         "hovertemplate": "label=%{label}<br>value=%{value}<extra></extra>",
         "labels": [
          "Pain",
          "Übelkeit / Erbrechen",
          "Circulatory problems",
          "Weichteil-/Gewebeverletzung",
          "Superficial injuries",
          "Psychological stress reaction",
          "Muscle soreness",
          "Severe exhaustion",
          "Itching",
          "Coughing fit",
          "Schmerzhafter Spontaneous painful bowel movement",
          "Nosebleed",
          "Muscle cramps",
          "Bone injuries",
          "Enuresis"
         ],
         "legendgroup": "",
         "name": "",
         "showlegend": true,
         "type": "pie",
         "values": {
          "bdata": "gQAwACcAGQARAAsABwAGAAUABQAEAAMAAwACAAIA",
          "dtype": "i2"
         }
        }
       ],
       "layout": {
        "height": 500,
        "legend": {
         "tracegroupgap": 0
        },
        "template": {
         "data": {
          "bar": [
           {
            "error_x": {
             "color": "#2a3f5f"
            },
            "error_y": {
             "color": "#2a3f5f"
            },
            "marker": {
             "line": {
              "color": "#E5ECF6",
              "width": 0.5
             },
             "pattern": {
              "fillmode": "overlay",
              "size": 10,
              "solidity": 0.2
             }
            },
            "type": "bar"
           }
          ],
          "barpolar": [
           {
            "marker": {
             "line": {
              "color": "#E5ECF6",
              "width": 0.5
             },
             "pattern": {
              "fillmode": "overlay",
              "size": 10,
              "solidity": 0.2
             }
            },
            "type": "barpolar"
           }
          ],
          "carpet": [
           {
            "aaxis": {
             "endlinecolor": "#2a3f5f",
             "gridcolor": "white",
             "linecolor": "white",
             "minorgridcolor": "white",
             "startlinecolor": "#2a3f5f"
            },
            "baxis": {
             "endlinecolor": "#2a3f5f",
             "gridcolor": "white",
             "linecolor": "white",
             "minorgridcolor": "white",
             "startlinecolor": "#2a3f5f"
            },
            "type": "carpet"
           }
          ],
          "choropleth": [
           {
            "colorbar": {
             "outlinewidth": 0,
             "ticks": ""
            },
            "type": "choropleth"
           }
          ],
          "contour": [
           {
            "colorbar": {
             "outlinewidth": 0,
             "ticks": ""
            },
            "colorscale": [
             [
              0,
              "#0d0887"
             ],
             [
              0.1111111111111111,
              "#46039f"
             ],
             [
              0.2222222222222222,
              "#7201a8"
             ],
             [
              0.3333333333333333,
              "#9c179e"
             ],
             [
              0.4444444444444444,
              "#bd3786"
             ],
             [
              0.5555555555555556,
              "#d8576b"
             ],
             [
              0.6666666666666666,
              "#ed7953"
             ],
             [
              0.7777777777777778,
              "#fb9f3a"
             ],
             [
              0.8888888888888888,
              "#fdca26"
             ],
             [
              1,
              "#f0f921"
             ]
            ],
            "type": "contour"
           }
          ],
          "contourcarpet": [
           {
            "colorbar": {
             "outlinewidth": 0,
             "ticks": ""
            },
            "type": "contourcarpet"
           }
          ],
          "heatmap": [
           {
            "colorbar": {
             "outlinewidth": 0,
             "ticks": ""
            },
            "colorscale": [
             [
              0,
              "#0d0887"
             ],
             [
              0.1111111111111111,
              "#46039f"
             ],
             [
              0.2222222222222222,
              "#7201a8"
             ],
             [
              0.3333333333333333,
              "#9c179e"
             ],
             [
              0.4444444444444444,
              "#bd3786"
             ],
             [
              0.5555555555555556,
              "#d8576b"
             ],
             [
              0.6666666666666666,
              "#ed7953"
             ],
             [
              0.7777777777777778,
              "#fb9f3a"
             ],
             [
              0.8888888888888888,
              "#fdca26"
             ],
             [
              1,
              "#f0f921"
             ]
            ],
            "type": "heatmap"
           }
          ],
          "histogram": [
           {
            "marker": {
             "pattern": {
              "fillmode": "overlay",
              "size": 10,
              "solidity": 0.2
             }
            },
            "type": "histogram"
           }
          ],
          "histogram2d": [
           {
            "colorbar": {
             "outlinewidth": 0,
             "ticks": ""
            },
            "colorscale": [
             [
              0,
              "#0d0887"
             ],
             [
              0.1111111111111111,
              "#46039f"
             ],
             [
              0.2222222222222222,
              "#7201a8"
             ],
             [
              0.3333333333333333,
              "#9c179e"
             ],
             [
              0.4444444444444444,
              "#bd3786"
             ],
             [
              0.5555555555555556,
              "#d8576b"
             ],
             [
              0.6666666666666666,
              "#ed7953"
             ],
             [
              0.7777777777777778,
              "#fb9f3a"
             ],
             [
              0.8888888888888888,
              "#fdca26"
             ],
             [
              1,
              "#f0f921"
             ]
            ],
            "type": "histogram2d"
           }
          ],
          "histogram2dcontour": [
           {
            "colorbar": {
             "outlinewidth": 0,
             "ticks": ""
            },
            "colorscale": [
             [
              0,
              "#0d0887"
             ],
             [
              0.1111111111111111,
              "#46039f"
             ],
             [
              0.2222222222222222,
              "#7201a8"
             ],
             [
              0.3333333333333333,
              "#9c179e"
             ],
             [
              0.4444444444444444,
              "#bd3786"
             ],
             [
              0.5555555555555556,
              "#d8576b"
             ],
             [
              0.6666666666666666,
              "#ed7953"
             ],
             [
              0.7777777777777778,
              "#fb9f3a"
             ],
             [
              0.8888888888888888,
              "#fdca26"
             ],
             [
              1,
              "#f0f921"
             ]
            ],
            "type": "histogram2dcontour"
           }
          ],
          "mesh3d": [
           {
            "colorbar": {
             "outlinewidth": 0,
             "ticks": ""
            },
            "type": "mesh3d"
           }
          ],
          "parcoords": [
           {
            "line": {
             "colorbar": {
              "outlinewidth": 0,
              "ticks": ""
             }
            },
            "type": "parcoords"
           }
          ],
          "pie": [
           {
            "automargin": true,
            "type": "pie"
           }
          ],
          "scatter": [
           {
            "fillpattern": {
             "fillmode": "overlay",
             "size": 10,
             "solidity": 0.2
            },
            "type": "scatter"
           }
          ],
          "scatter3d": [
           {
            "line": {
             "colorbar": {
              "outlinewidth": 0,
              "ticks": ""
             }
            },
            "marker": {
             "colorbar": {
              "outlinewidth": 0,
              "ticks": ""
             }
            },
            "type": "scatter3d"
           }
          ],
          "scattercarpet": [
           {
            "marker": {
             "colorbar": {
              "outlinewidth": 0,
              "ticks": ""
             }
            },
            "type": "scattercarpet"
           }
          ],
          "scattergeo": [
           {
            "marker": {
             "colorbar": {
              "outlinewidth": 0,
              "ticks": ""
             }
            },
            "type": "scattergeo"
           }
          ],
          "scattergl": [
           {
            "marker": {
             "colorbar": {
              "outlinewidth": 0,
              "ticks": ""
             }
            },
            "type": "scattergl"
           }
          ],
          "scattermap": [
           {
            "marker": {
             "colorbar": {
              "outlinewidth": 0,
              "ticks": ""
             }
            },
            "type": "scattermap"
           }
          ],
          "scattermapbox": [
           {
            "marker": {
             "colorbar": {
              "outlinewidth": 0,
              "ticks": ""
             }
            },
            "type": "scattermapbox"
           }
          ],
          "scatterpolar": [
           {
            "marker": {
             "colorbar": {
              "outlinewidth": 0,
              "ticks": ""
             }
            },
            "type": "scatterpolar"
           }
          ],
          "scatterpolargl": [
           {
            "marker": {
             "colorbar": {
              "outlinewidth": 0,
              "ticks": ""
             }
            },
            "type": "scatterpolargl"
           }
          ],
          "scatterternary": [
           {
            "marker": {
             "colorbar": {
              "outlinewidth": 0,
              "ticks": ""
             }
            },
            "type": "scatterternary"
           }
          ],
          "surface": [
           {
            "colorbar": {
             "outlinewidth": 0,
             "ticks": ""
            },
            "colorscale": [
             [
              0,
              "#0d0887"
             ],
             [
              0.1111111111111111,
              "#46039f"
             ],
             [
              0.2222222222222222,
              "#7201a8"
             ],
             [
              0.3333333333333333,
              "#9c179e"
             ],
             [
              0.4444444444444444,
              "#bd3786"
             ],
             [
              0.5555555555555556,
              "#d8576b"
             ],
             [
              0.6666666666666666,
              "#ed7953"
             ],
             [
              0.7777777777777778,
              "#fb9f3a"
             ],
             [
              0.8888888888888888,
              "#fdca26"
             ],
             [
              1,
              "#f0f921"
             ]
            ],
            "type": "surface"
           }
          ],
          "table": [
           {
            "cells": {
             "fill": {
              "color": "#EBF0F8"
             },
             "line": {
              "color": "white"
             }
            },
            "header": {
             "fill": {
              "color": "#C8D4E3"
             },
             "line": {
              "color": "white"
             }
            },
            "type": "table"
           }
          ]
         },
         "layout": {
          "annotationdefaults": {
           "arrowcolor": "#2a3f5f",
           "arrowhead": 0,
           "arrowwidth": 1
          },
          "autotypenumbers": "strict",
          "coloraxis": {
           "colorbar": {
            "outlinewidth": 0,
            "ticks": ""
           }
          },
          "colorscale": {
           "diverging": [
            [
             0,
             "#8e0152"
            ],
            [
             0.1,
             "#c51b7d"
            ],
            [
             0.2,
             "#de77ae"
            ],
            [
             0.3,
             "#f1b6da"
            ],
            [
             0.4,
             "#fde0ef"
            ],
            [
             0.5,
             "#f7f7f7"
            ],
            [
             0.6,
             "#e6f5d0"
            ],
            [
             0.7,
             "#b8e186"
            ],
            [
             0.8,
             "#7fbc41"
            ],
            [
             0.9,
             "#4d9221"
            ],
            [
             1,
             "#276419"
            ]
           ],
           "sequential": [
            [
             0,
             "#0d0887"
            ],
            [
             0.1111111111111111,
             "#46039f"
            ],
            [
             0.2222222222222222,
             "#7201a8"
            ],
            [
             0.3333333333333333,
             "#9c179e"
            ],
            [
             0.4444444444444444,
             "#bd3786"
            ],
            [
             0.5555555555555556,
             "#d8576b"
            ],
            [
             0.6666666666666666,
             "#ed7953"
            ],
            [
             0.7777777777777778,
             "#fb9f3a"
            ],
            [
             0.8888888888888888,
             "#fdca26"
            ],
            [
             1,
             "#f0f921"
            ]
           ],
           "sequentialminus": [
            [
             0,
             "#0d0887"
            ],
            [
             0.1111111111111111,
             "#46039f"
            ],
            [
             0.2222222222222222,
             "#7201a8"
            ],
            [
             0.3333333333333333,
             "#9c179e"
            ],
            [
             0.4444444444444444,
             "#bd3786"
            ],
            [
             0.5555555555555556,
             "#d8576b"
            ],
            [
             0.6666666666666666,
             "#ed7953"
            ],
            [
             0.7777777777777778,
             "#fb9f3a"
            ],
            [
             0.8888888888888888,
             "#fdca26"
            ],
            [
             1,
             "#f0f921"
            ]
           ]
          },
          "colorway": [
           "#636efa",
           "#EF553B",
           "#00cc96",
           "#ab63fa",
           "#FFA15A",
           "#19d3f3",
           "#FF6692",
           "#B6E880",
           "#FF97FF",
           "#FECB52"
          ],
          "font": {
           "color": "#2a3f5f"
          },
          "geo": {
           "bgcolor": "white",
           "lakecolor": "white",
           "landcolor": "#E5ECF6",
           "showlakes": true,
           "showland": true,
           "subunitcolor": "white"
          },
          "hoverlabel": {
           "align": "left"
          },
          "hovermode": "closest",
          "mapbox": {
           "style": "light"
          },
          "paper_bgcolor": "white",
          "plot_bgcolor": "#E5ECF6",
          "polar": {
           "angularaxis": {
            "gridcolor": "white",
            "linecolor": "white",
            "ticks": ""
           },
           "bgcolor": "#E5ECF6",
           "radialaxis": {
            "gridcolor": "white",
            "linecolor": "white",
            "ticks": ""
           }
          },
          "scene": {
           "xaxis": {
            "backgroundcolor": "#E5ECF6",
            "gridcolor": "white",
            "gridwidth": 2,
            "linecolor": "white",
            "showbackground": true,
            "ticks": "",
            "zerolinecolor": "white"
           },
           "yaxis": {
            "backgroundcolor": "#E5ECF6",
            "gridcolor": "white",
            "gridwidth": 2,
            "linecolor": "white",
            "showbackground": true,
            "ticks": "",
            "zerolinecolor": "white"
           },
           "zaxis": {
            "backgroundcolor": "#E5ECF6",
            "gridcolor": "white",
            "gridwidth": 2,
            "linecolor": "white",
            "showbackground": true,
            "ticks": "",
            "zerolinecolor": "white"
           }
          },
          "shapedefaults": {
           "line": {
            "color": "#2a3f5f"
           }
          },
          "ternary": {
           "aaxis": {
            "gridcolor": "white",
            "linecolor": "white",
            "ticks": ""
           },
           "baxis": {
            "gridcolor": "white",
            "linecolor": "white",
            "ticks": ""
           },
           "bgcolor": "#E5ECF6",
           "caxis": {
            "gridcolor": "white",
            "linecolor": "white",
            "ticks": ""
           }
          },
          "title": {
           "x": 0.05
          },
          "xaxis": {
           "automargin": true,
           "gridcolor": "white",
           "linecolor": "white",
           "ticks": "",
           "title": {
            "standoff": 15
           },
           "zerolinecolor": "white",
           "zerolinewidth": 2
          },
          "yaxis": {
           "automargin": true,
           "gridcolor": "white",
           "linecolor": "white",
           "ticks": "",
           "title": {
            "standoff": 15
           },
           "zerolinecolor": "white",
           "zerolinewidth": 2
          }
         }
        },
        "title": {
         "text": "[02.02] Type, n = 306"
        },
        "width": 800
       }
      }
     },
     "metadata": {},
     "output_type": "display_data"
    },
    {
     "name": "stdout",
     "output_type": "stream",
     "text": [
      "[02.03] Trigger\n"
     ]
    },
    {
     "data": {
      "application/vnd.plotly.v1+json": {
       "config": {
        "plotlyServerURL": "https://plot.ly"
       },
       "data": [
        {
         "domain": {
          "x": [
           0,
           1
          ],
          "y": [
           0,
           1
          ]
         },
         "hovertemplate": "label=%{label}<br>value=%{value}<extra></extra>",
         "labels": [
          "Physical strain",
          "Medical therapy",
          "Sturzereignis",
          "Coordination problems",
          "Psychological strain",
          "Kollision",
          "Environmental conditions",
          "Other"
         ],
         "legendgroup": "",
         "name": "",
         "showlegend": true,
         "type": "pie",
         "values": {
          "bdata": "lgBoADcAIAATAA0ACgACAA==",
          "dtype": "i2"
         }
        }
       ],
       "layout": {
        "height": 500,
        "legend": {
         "tracegroupgap": 0
        },
        "template": {
         "data": {
          "bar": [
           {
            "error_x": {
             "color": "#2a3f5f"
            },
            "error_y": {
             "color": "#2a3f5f"
            },
            "marker": {
             "line": {
              "color": "#E5ECF6",
              "width": 0.5
             },
             "pattern": {
              "fillmode": "overlay",
              "size": 10,
              "solidity": 0.2
             }
            },
            "type": "bar"
           }
          ],
          "barpolar": [
           {
            "marker": {
             "line": {
              "color": "#E5ECF6",
              "width": 0.5
             },
             "pattern": {
              "fillmode": "overlay",
              "size": 10,
              "solidity": 0.2
             }
            },
            "type": "barpolar"
           }
          ],
          "carpet": [
           {
            "aaxis": {
             "endlinecolor": "#2a3f5f",
             "gridcolor": "white",
             "linecolor": "white",
             "minorgridcolor": "white",
             "startlinecolor": "#2a3f5f"
            },
            "baxis": {
             "endlinecolor": "#2a3f5f",
             "gridcolor": "white",
             "linecolor": "white",
             "minorgridcolor": "white",
             "startlinecolor": "#2a3f5f"
            },
            "type": "carpet"
           }
          ],
          "choropleth": [
           {
            "colorbar": {
             "outlinewidth": 0,
             "ticks": ""
            },
            "type": "choropleth"
           }
          ],
          "contour": [
           {
            "colorbar": {
             "outlinewidth": 0,
             "ticks": ""
            },
            "colorscale": [
             [
              0,
              "#0d0887"
             ],
             [
              0.1111111111111111,
              "#46039f"
             ],
             [
              0.2222222222222222,
              "#7201a8"
             ],
             [
              0.3333333333333333,
              "#9c179e"
             ],
             [
              0.4444444444444444,
              "#bd3786"
             ],
             [
              0.5555555555555556,
              "#d8576b"
             ],
             [
              0.6666666666666666,
              "#ed7953"
             ],
             [
              0.7777777777777778,
              "#fb9f3a"
             ],
             [
              0.8888888888888888,
              "#fdca26"
             ],
             [
              1,
              "#f0f921"
             ]
            ],
            "type": "contour"
           }
          ],
          "contourcarpet": [
           {
            "colorbar": {
             "outlinewidth": 0,
             "ticks": ""
            },
            "type": "contourcarpet"
           }
          ],
          "heatmap": [
           {
            "colorbar": {
             "outlinewidth": 0,
             "ticks": ""
            },
            "colorscale": [
             [
              0,
              "#0d0887"
             ],
             [
              0.1111111111111111,
              "#46039f"
             ],
             [
              0.2222222222222222,
              "#7201a8"
             ],
             [
              0.3333333333333333,
              "#9c179e"
             ],
             [
              0.4444444444444444,
              "#bd3786"
             ],
             [
              0.5555555555555556,
              "#d8576b"
             ],
             [
              0.6666666666666666,
              "#ed7953"
             ],
             [
              0.7777777777777778,
              "#fb9f3a"
             ],
             [
              0.8888888888888888,
              "#fdca26"
             ],
             [
              1,
              "#f0f921"
             ]
            ],
            "type": "heatmap"
           }
          ],
          "histogram": [
           {
            "marker": {
             "pattern": {
              "fillmode": "overlay",
              "size": 10,
              "solidity": 0.2
             }
            },
            "type": "histogram"
           }
          ],
          "histogram2d": [
           {
            "colorbar": {
             "outlinewidth": 0,
             "ticks": ""
            },
            "colorscale": [
             [
              0,
              "#0d0887"
             ],
             [
              0.1111111111111111,
              "#46039f"
             ],
             [
              0.2222222222222222,
              "#7201a8"
             ],
             [
              0.3333333333333333,
              "#9c179e"
             ],
             [
              0.4444444444444444,
              "#bd3786"
             ],
             [
              0.5555555555555556,
              "#d8576b"
             ],
             [
              0.6666666666666666,
              "#ed7953"
             ],
             [
              0.7777777777777778,
              "#fb9f3a"
             ],
             [
              0.8888888888888888,
              "#fdca26"
             ],
             [
              1,
              "#f0f921"
             ]
            ],
            "type": "histogram2d"
           }
          ],
          "histogram2dcontour": [
           {
            "colorbar": {
             "outlinewidth": 0,
             "ticks": ""
            },
            "colorscale": [
             [
              0,
              "#0d0887"
             ],
             [
              0.1111111111111111,
              "#46039f"
             ],
             [
              0.2222222222222222,
              "#7201a8"
             ],
             [
              0.3333333333333333,
              "#9c179e"
             ],
             [
              0.4444444444444444,
              "#bd3786"
             ],
             [
              0.5555555555555556,
              "#d8576b"
             ],
             [
              0.6666666666666666,
              "#ed7953"
             ],
             [
              0.7777777777777778,
              "#fb9f3a"
             ],
             [
              0.8888888888888888,
              "#fdca26"
             ],
             [
              1,
              "#f0f921"
             ]
            ],
            "type": "histogram2dcontour"
           }
          ],
          "mesh3d": [
           {
            "colorbar": {
             "outlinewidth": 0,
             "ticks": ""
            },
            "type": "mesh3d"
           }
          ],
          "parcoords": [
           {
            "line": {
             "colorbar": {
              "outlinewidth": 0,
              "ticks": ""
             }
            },
            "type": "parcoords"
           }
          ],
          "pie": [
           {
            "automargin": true,
            "type": "pie"
           }
          ],
          "scatter": [
           {
            "fillpattern": {
             "fillmode": "overlay",
             "size": 10,
             "solidity": 0.2
            },
            "type": "scatter"
           }
          ],
          "scatter3d": [
           {
            "line": {
             "colorbar": {
              "outlinewidth": 0,
              "ticks": ""
             }
            },
            "marker": {
             "colorbar": {
              "outlinewidth": 0,
              "ticks": ""
             }
            },
            "type": "scatter3d"
           }
          ],
          "scattercarpet": [
           {
            "marker": {
             "colorbar": {
              "outlinewidth": 0,
              "ticks": ""
             }
            },
            "type": "scattercarpet"
           }
          ],
          "scattergeo": [
           {
            "marker": {
             "colorbar": {
              "outlinewidth": 0,
              "ticks": ""
             }
            },
            "type": "scattergeo"
           }
          ],
          "scattergl": [
           {
            "marker": {
             "colorbar": {
              "outlinewidth": 0,
              "ticks": ""
             }
            },
            "type": "scattergl"
           }
          ],
          "scattermap": [
           {
            "marker": {
             "colorbar": {
              "outlinewidth": 0,
              "ticks": ""
             }
            },
            "type": "scattermap"
           }
          ],
          "scattermapbox": [
           {
            "marker": {
             "colorbar": {
              "outlinewidth": 0,
              "ticks": ""
             }
            },
            "type": "scattermapbox"
           }
          ],
          "scatterpolar": [
           {
            "marker": {
             "colorbar": {
              "outlinewidth": 0,
              "ticks": ""
             }
            },
            "type": "scatterpolar"
           }
          ],
          "scatterpolargl": [
           {
            "marker": {
             "colorbar": {
              "outlinewidth": 0,
              "ticks": ""
             }
            },
            "type": "scatterpolargl"
           }
          ],
          "scatterternary": [
           {
            "marker": {
             "colorbar": {
              "outlinewidth": 0,
              "ticks": ""
             }
            },
            "type": "scatterternary"
           }
          ],
          "surface": [
           {
            "colorbar": {
             "outlinewidth": 0,
             "ticks": ""
            },
            "colorscale": [
             [
              0,
              "#0d0887"
             ],
             [
              0.1111111111111111,
              "#46039f"
             ],
             [
              0.2222222222222222,
              "#7201a8"
             ],
             [
              0.3333333333333333,
              "#9c179e"
             ],
             [
              0.4444444444444444,
              "#bd3786"
             ],
             [
              0.5555555555555556,
              "#d8576b"
             ],
             [
              0.6666666666666666,
              "#ed7953"
             ],
             [
              0.7777777777777778,
              "#fb9f3a"
             ],
             [
              0.8888888888888888,
              "#fdca26"
             ],
             [
              1,
              "#f0f921"
             ]
            ],
            "type": "surface"
           }
          ],
          "table": [
           {
            "cells": {
             "fill": {
              "color": "#EBF0F8"
             },
             "line": {
              "color": "white"
             }
            },
            "header": {
             "fill": {
              "color": "#C8D4E3"
             },
             "line": {
              "color": "white"
             }
            },
            "type": "table"
           }
          ]
         },
         "layout": {
          "annotationdefaults": {
           "arrowcolor": "#2a3f5f",
           "arrowhead": 0,
           "arrowwidth": 1
          },
          "autotypenumbers": "strict",
          "coloraxis": {
           "colorbar": {
            "outlinewidth": 0,
            "ticks": ""
           }
          },
          "colorscale": {
           "diverging": [
            [
             0,
             "#8e0152"
            ],
            [
             0.1,
             "#c51b7d"
            ],
            [
             0.2,
             "#de77ae"
            ],
            [
             0.3,
             "#f1b6da"
            ],
            [
             0.4,
             "#fde0ef"
            ],
            [
             0.5,
             "#f7f7f7"
            ],
            [
             0.6,
             "#e6f5d0"
            ],
            [
             0.7,
             "#b8e186"
            ],
            [
             0.8,
             "#7fbc41"
            ],
            [
             0.9,
             "#4d9221"
            ],
            [
             1,
             "#276419"
            ]
           ],
           "sequential": [
            [
             0,
             "#0d0887"
            ],
            [
             0.1111111111111111,
             "#46039f"
            ],
            [
             0.2222222222222222,
             "#7201a8"
            ],
            [
             0.3333333333333333,
             "#9c179e"
            ],
            [
             0.4444444444444444,
             "#bd3786"
            ],
            [
             0.5555555555555556,
             "#d8576b"
            ],
            [
             0.6666666666666666,
             "#ed7953"
            ],
            [
             0.7777777777777778,
             "#fb9f3a"
            ],
            [
             0.8888888888888888,
             "#fdca26"
            ],
            [
             1,
             "#f0f921"
            ]
           ],
           "sequentialminus": [
            [
             0,
             "#0d0887"
            ],
            [
             0.1111111111111111,
             "#46039f"
            ],
            [
             0.2222222222222222,
             "#7201a8"
            ],
            [
             0.3333333333333333,
             "#9c179e"
            ],
            [
             0.4444444444444444,
             "#bd3786"
            ],
            [
             0.5555555555555556,
             "#d8576b"
            ],
            [
             0.6666666666666666,
             "#ed7953"
            ],
            [
             0.7777777777777778,
             "#fb9f3a"
            ],
            [
             0.8888888888888888,
             "#fdca26"
            ],
            [
             1,
             "#f0f921"
            ]
           ]
          },
          "colorway": [
           "#636efa",
           "#EF553B",
           "#00cc96",
           "#ab63fa",
           "#FFA15A",
           "#19d3f3",
           "#FF6692",
           "#B6E880",
           "#FF97FF",
           "#FECB52"
          ],
          "font": {
           "color": "#2a3f5f"
          },
          "geo": {
           "bgcolor": "white",
           "lakecolor": "white",
           "landcolor": "#E5ECF6",
           "showlakes": true,
           "showland": true,
           "subunitcolor": "white"
          },
          "hoverlabel": {
           "align": "left"
          },
          "hovermode": "closest",
          "mapbox": {
           "style": "light"
          },
          "paper_bgcolor": "white",
          "plot_bgcolor": "#E5ECF6",
          "polar": {
           "angularaxis": {
            "gridcolor": "white",
            "linecolor": "white",
            "ticks": ""
           },
           "bgcolor": "#E5ECF6",
           "radialaxis": {
            "gridcolor": "white",
            "linecolor": "white",
            "ticks": ""
           }
          },
          "scene": {
           "xaxis": {
            "backgroundcolor": "#E5ECF6",
            "gridcolor": "white",
            "gridwidth": 2,
            "linecolor": "white",
            "showbackground": true,
            "ticks": "",
            "zerolinecolor": "white"
           },
           "yaxis": {
            "backgroundcolor": "#E5ECF6",
            "gridcolor": "white",
            "gridwidth": 2,
            "linecolor": "white",
            "showbackground": true,
            "ticks": "",
            "zerolinecolor": "white"
           },
           "zaxis": {
            "backgroundcolor": "#E5ECF6",
            "gridcolor": "white",
            "gridwidth": 2,
            "linecolor": "white",
            "showbackground": true,
            "ticks": "",
            "zerolinecolor": "white"
           }
          },
          "shapedefaults": {
           "line": {
            "color": "#2a3f5f"
           }
          },
          "ternary": {
           "aaxis": {
            "gridcolor": "white",
            "linecolor": "white",
            "ticks": ""
           },
           "baxis": {
            "gridcolor": "white",
            "linecolor": "white",
            "ticks": ""
           },
           "bgcolor": "#E5ECF6",
           "caxis": {
            "gridcolor": "white",
            "linecolor": "white",
            "ticks": ""
           }
          },
          "title": {
           "x": 0.05
          },
          "xaxis": {
           "automargin": true,
           "gridcolor": "white",
           "linecolor": "white",
           "ticks": "",
           "title": {
            "standoff": 15
           },
           "zerolinecolor": "white",
           "zerolinewidth": 2
          },
          "yaxis": {
           "automargin": true,
           "gridcolor": "white",
           "linecolor": "white",
           "ticks": "",
           "title": {
            "standoff": 15
           },
           "zerolinecolor": "white",
           "zerolinewidth": 2
          }
         }
        },
        "title": {
         "text": "[02.03] Trigger, n = 385"
        },
        "width": 800
       }
      }
     },
     "metadata": {},
     "output_type": "display_data"
    },
    {
     "name": "stdout",
     "output_type": "stream",
     "text": [
      "[02.04] Affected body parts\n"
     ]
    },
    {
     "data": {
      "application/vnd.plotly.v1+json": {
       "config": {
        "plotlyServerURL": "https://plot.ly"
       },
       "data": [
        {
         "domain": {
          "x": [
           0,
           1
          ],
          "y": [
           0,
           1
          ]
         },
         "hovertemplate": "label=%{label}<br>value=%{value}<extra></extra>",
         "labels": [
          "Innere Medizin",
          "Lower extremities",
          "Head",
          "Abdomen",
          "Upper extremities",
          "Back",
          "Buttocks",
          "Full body",
          "Chest",
          "Intestine",
          "Coccyx",
          "Intimate area",
          "Hals"
         ],
         "legendgroup": "",
         "name": "",
         "showlegend": true,
         "type": "pie",
         "values": {
          "bdata": "XDUdEQ4NCwkFBQMBAQ==",
          "dtype": "i1"
         }
        }
       ],
       "layout": {
        "height": 500,
        "legend": {
         "tracegroupgap": 0
        },
        "template": {
         "data": {
          "bar": [
           {
            "error_x": {
             "color": "#2a3f5f"
            },
            "error_y": {
             "color": "#2a3f5f"
            },
            "marker": {
             "line": {
              "color": "#E5ECF6",
              "width": 0.5
             },
             "pattern": {
              "fillmode": "overlay",
              "size": 10,
              "solidity": 0.2
             }
            },
            "type": "bar"
           }
          ],
          "barpolar": [
           {
            "marker": {
             "line": {
              "color": "#E5ECF6",
              "width": 0.5
             },
             "pattern": {
              "fillmode": "overlay",
              "size": 10,
              "solidity": 0.2
             }
            },
            "type": "barpolar"
           }
          ],
          "carpet": [
           {
            "aaxis": {
             "endlinecolor": "#2a3f5f",
             "gridcolor": "white",
             "linecolor": "white",
             "minorgridcolor": "white",
             "startlinecolor": "#2a3f5f"
            },
            "baxis": {
             "endlinecolor": "#2a3f5f",
             "gridcolor": "white",
             "linecolor": "white",
             "minorgridcolor": "white",
             "startlinecolor": "#2a3f5f"
            },
            "type": "carpet"
           }
          ],
          "choropleth": [
           {
            "colorbar": {
             "outlinewidth": 0,
             "ticks": ""
            },
            "type": "choropleth"
           }
          ],
          "contour": [
           {
            "colorbar": {
             "outlinewidth": 0,
             "ticks": ""
            },
            "colorscale": [
             [
              0,
              "#0d0887"
             ],
             [
              0.1111111111111111,
              "#46039f"
             ],
             [
              0.2222222222222222,
              "#7201a8"
             ],
             [
              0.3333333333333333,
              "#9c179e"
             ],
             [
              0.4444444444444444,
              "#bd3786"
             ],
             [
              0.5555555555555556,
              "#d8576b"
             ],
             [
              0.6666666666666666,
              "#ed7953"
             ],
             [
              0.7777777777777778,
              "#fb9f3a"
             ],
             [
              0.8888888888888888,
              "#fdca26"
             ],
             [
              1,
              "#f0f921"
             ]
            ],
            "type": "contour"
           }
          ],
          "contourcarpet": [
           {
            "colorbar": {
             "outlinewidth": 0,
             "ticks": ""
            },
            "type": "contourcarpet"
           }
          ],
          "heatmap": [
           {
            "colorbar": {
             "outlinewidth": 0,
             "ticks": ""
            },
            "colorscale": [
             [
              0,
              "#0d0887"
             ],
             [
              0.1111111111111111,
              "#46039f"
             ],
             [
              0.2222222222222222,
              "#7201a8"
             ],
             [
              0.3333333333333333,
              "#9c179e"
             ],
             [
              0.4444444444444444,
              "#bd3786"
             ],
             [
              0.5555555555555556,
              "#d8576b"
             ],
             [
              0.6666666666666666,
              "#ed7953"
             ],
             [
              0.7777777777777778,
              "#fb9f3a"
             ],
             [
              0.8888888888888888,
              "#fdca26"
             ],
             [
              1,
              "#f0f921"
             ]
            ],
            "type": "heatmap"
           }
          ],
          "histogram": [
           {
            "marker": {
             "pattern": {
              "fillmode": "overlay",
              "size": 10,
              "solidity": 0.2
             }
            },
            "type": "histogram"
           }
          ],
          "histogram2d": [
           {
            "colorbar": {
             "outlinewidth": 0,
             "ticks": ""
            },
            "colorscale": [
             [
              0,
              "#0d0887"
             ],
             [
              0.1111111111111111,
              "#46039f"
             ],
             [
              0.2222222222222222,
              "#7201a8"
             ],
             [
              0.3333333333333333,
              "#9c179e"
             ],
             [
              0.4444444444444444,
              "#bd3786"
             ],
             [
              0.5555555555555556,
              "#d8576b"
             ],
             [
              0.6666666666666666,
              "#ed7953"
             ],
             [
              0.7777777777777778,
              "#fb9f3a"
             ],
             [
              0.8888888888888888,
              "#fdca26"
             ],
             [
              1,
              "#f0f921"
             ]
            ],
            "type": "histogram2d"
           }
          ],
          "histogram2dcontour": [
           {
            "colorbar": {
             "outlinewidth": 0,
             "ticks": ""
            },
            "colorscale": [
             [
              0,
              "#0d0887"
             ],
             [
              0.1111111111111111,
              "#46039f"
             ],
             [
              0.2222222222222222,
              "#7201a8"
             ],
             [
              0.3333333333333333,
              "#9c179e"
             ],
             [
              0.4444444444444444,
              "#bd3786"
             ],
             [
              0.5555555555555556,
              "#d8576b"
             ],
             [
              0.6666666666666666,
              "#ed7953"
             ],
             [
              0.7777777777777778,
              "#fb9f3a"
             ],
             [
              0.8888888888888888,
              "#fdca26"
             ],
             [
              1,
              "#f0f921"
             ]
            ],
            "type": "histogram2dcontour"
           }
          ],
          "mesh3d": [
           {
            "colorbar": {
             "outlinewidth": 0,
             "ticks": ""
            },
            "type": "mesh3d"
           }
          ],
          "parcoords": [
           {
            "line": {
             "colorbar": {
              "outlinewidth": 0,
              "ticks": ""
             }
            },
            "type": "parcoords"
           }
          ],
          "pie": [
           {
            "automargin": true,
            "type": "pie"
           }
          ],
          "scatter": [
           {
            "fillpattern": {
             "fillmode": "overlay",
             "size": 10,
             "solidity": 0.2
            },
            "type": "scatter"
           }
          ],
          "scatter3d": [
           {
            "line": {
             "colorbar": {
              "outlinewidth": 0,
              "ticks": ""
             }
            },
            "marker": {
             "colorbar": {
              "outlinewidth": 0,
              "ticks": ""
             }
            },
            "type": "scatter3d"
           }
          ],
          "scattercarpet": [
           {
            "marker": {
             "colorbar": {
              "outlinewidth": 0,
              "ticks": ""
             }
            },
            "type": "scattercarpet"
           }
          ],
          "scattergeo": [
           {
            "marker": {
             "colorbar": {
              "outlinewidth": 0,
              "ticks": ""
             }
            },
            "type": "scattergeo"
           }
          ],
          "scattergl": [
           {
            "marker": {
             "colorbar": {
              "outlinewidth": 0,
              "ticks": ""
             }
            },
            "type": "scattergl"
           }
          ],
          "scattermap": [
           {
            "marker": {
             "colorbar": {
              "outlinewidth": 0,
              "ticks": ""
             }
            },
            "type": "scattermap"
           }
          ],
          "scattermapbox": [
           {
            "marker": {
             "colorbar": {
              "outlinewidth": 0,
              "ticks": ""
             }
            },
            "type": "scattermapbox"
           }
          ],
          "scatterpolar": [
           {
            "marker": {
             "colorbar": {
              "outlinewidth": 0,
              "ticks": ""
             }
            },
            "type": "scatterpolar"
           }
          ],
          "scatterpolargl": [
           {
            "marker": {
             "colorbar": {
              "outlinewidth": 0,
              "ticks": ""
             }
            },
            "type": "scatterpolargl"
           }
          ],
          "scatterternary": [
           {
            "marker": {
             "colorbar": {
              "outlinewidth": 0,
              "ticks": ""
             }
            },
            "type": "scatterternary"
           }
          ],
          "surface": [
           {
            "colorbar": {
             "outlinewidth": 0,
             "ticks": ""
            },
            "colorscale": [
             [
              0,
              "#0d0887"
             ],
             [
              0.1111111111111111,
              "#46039f"
             ],
             [
              0.2222222222222222,
              "#7201a8"
             ],
             [
              0.3333333333333333,
              "#9c179e"
             ],
             [
              0.4444444444444444,
              "#bd3786"
             ],
             [
              0.5555555555555556,
              "#d8576b"
             ],
             [
              0.6666666666666666,
              "#ed7953"
             ],
             [
              0.7777777777777778,
              "#fb9f3a"
             ],
             [
              0.8888888888888888,
              "#fdca26"
             ],
             [
              1,
              "#f0f921"
             ]
            ],
            "type": "surface"
           }
          ],
          "table": [
           {
            "cells": {
             "fill": {
              "color": "#EBF0F8"
             },
             "line": {
              "color": "white"
             }
            },
            "header": {
             "fill": {
              "color": "#C8D4E3"
             },
             "line": {
              "color": "white"
             }
            },
            "type": "table"
           }
          ]
         },
         "layout": {
          "annotationdefaults": {
           "arrowcolor": "#2a3f5f",
           "arrowhead": 0,
           "arrowwidth": 1
          },
          "autotypenumbers": "strict",
          "coloraxis": {
           "colorbar": {
            "outlinewidth": 0,
            "ticks": ""
           }
          },
          "colorscale": {
           "diverging": [
            [
             0,
             "#8e0152"
            ],
            [
             0.1,
             "#c51b7d"
            ],
            [
             0.2,
             "#de77ae"
            ],
            [
             0.3,
             "#f1b6da"
            ],
            [
             0.4,
             "#fde0ef"
            ],
            [
             0.5,
             "#f7f7f7"
            ],
            [
             0.6,
             "#e6f5d0"
            ],
            [
             0.7,
             "#b8e186"
            ],
            [
             0.8,
             "#7fbc41"
            ],
            [
             0.9,
             "#4d9221"
            ],
            [
             1,
             "#276419"
            ]
           ],
           "sequential": [
            [
             0,
             "#0d0887"
            ],
            [
             0.1111111111111111,
             "#46039f"
            ],
            [
             0.2222222222222222,
             "#7201a8"
            ],
            [
             0.3333333333333333,
             "#9c179e"
            ],
            [
             0.4444444444444444,
             "#bd3786"
            ],
            [
             0.5555555555555556,
             "#d8576b"
            ],
            [
             0.6666666666666666,
             "#ed7953"
            ],
            [
             0.7777777777777778,
             "#fb9f3a"
            ],
            [
             0.8888888888888888,
             "#fdca26"
            ],
            [
             1,
             "#f0f921"
            ]
           ],
           "sequentialminus": [
            [
             0,
             "#0d0887"
            ],
            [
             0.1111111111111111,
             "#46039f"
            ],
            [
             0.2222222222222222,
             "#7201a8"
            ],
            [
             0.3333333333333333,
             "#9c179e"
            ],
            [
             0.4444444444444444,
             "#bd3786"
            ],
            [
             0.5555555555555556,
             "#d8576b"
            ],
            [
             0.6666666666666666,
             "#ed7953"
            ],
            [
             0.7777777777777778,
             "#fb9f3a"
            ],
            [
             0.8888888888888888,
             "#fdca26"
            ],
            [
             1,
             "#f0f921"
            ]
           ]
          },
          "colorway": [
           "#636efa",
           "#EF553B",
           "#00cc96",
           "#ab63fa",
           "#FFA15A",
           "#19d3f3",
           "#FF6692",
           "#B6E880",
           "#FF97FF",
           "#FECB52"
          ],
          "font": {
           "color": "#2a3f5f"
          },
          "geo": {
           "bgcolor": "white",
           "lakecolor": "white",
           "landcolor": "#E5ECF6",
           "showlakes": true,
           "showland": true,
           "subunitcolor": "white"
          },
          "hoverlabel": {
           "align": "left"
          },
          "hovermode": "closest",
          "mapbox": {
           "style": "light"
          },
          "paper_bgcolor": "white",
          "plot_bgcolor": "#E5ECF6",
          "polar": {
           "angularaxis": {
            "gridcolor": "white",
            "linecolor": "white",
            "ticks": ""
           },
           "bgcolor": "#E5ECF6",
           "radialaxis": {
            "gridcolor": "white",
            "linecolor": "white",
            "ticks": ""
           }
          },
          "scene": {
           "xaxis": {
            "backgroundcolor": "#E5ECF6",
            "gridcolor": "white",
            "gridwidth": 2,
            "linecolor": "white",
            "showbackground": true,
            "ticks": "",
            "zerolinecolor": "white"
           },
           "yaxis": {
            "backgroundcolor": "#E5ECF6",
            "gridcolor": "white",
            "gridwidth": 2,
            "linecolor": "white",
            "showbackground": true,
            "ticks": "",
            "zerolinecolor": "white"
           },
           "zaxis": {
            "backgroundcolor": "#E5ECF6",
            "gridcolor": "white",
            "gridwidth": 2,
            "linecolor": "white",
            "showbackground": true,
            "ticks": "",
            "zerolinecolor": "white"
           }
          },
          "shapedefaults": {
           "line": {
            "color": "#2a3f5f"
           }
          },
          "ternary": {
           "aaxis": {
            "gridcolor": "white",
            "linecolor": "white",
            "ticks": ""
           },
           "baxis": {
            "gridcolor": "white",
            "linecolor": "white",
            "ticks": ""
           },
           "bgcolor": "#E5ECF6",
           "caxis": {
            "gridcolor": "white",
            "linecolor": "white",
            "ticks": ""
           }
          },
          "title": {
           "x": 0.05
          },
          "xaxis": {
           "automargin": true,
           "gridcolor": "white",
           "linecolor": "white",
           "ticks": "",
           "title": {
            "standoff": 15
           },
           "zerolinecolor": "white",
           "zerolinewidth": 2
          },
          "yaxis": {
           "automargin": true,
           "gridcolor": "white",
           "linecolor": "white",
           "ticks": "",
           "title": {
            "standoff": 15
           },
           "zerolinecolor": "white",
           "zerolinewidth": 2
          }
         }
        },
        "title": {
         "text": "[02.04] Affected body parts, n = 254"
        },
        "width": 800
       }
      }
     },
     "metadata": {},
     "output_type": "display_data"
    },
    {
     "name": "stdout",
     "output_type": "stream",
     "text": [
      "[05.07] Main motor skill\n"
     ]
    },
    {
     "data": {
      "application/vnd.plotly.v1+json": {
       "config": {
        "plotlyServerURL": "https://plot.ly"
       },
       "data": [
        {
         "domain": {
          "x": [
           0,
           1
          ],
          "y": [
           0,
           1
          ]
         },
         "hovertemplate": "label=%{label}<br>value=%{value}<extra></extra>",
         "labels": [
          "Coordination",
          "Endurance",
          "Strength",
          "Full body",
          "Flexibility",
          "Speed",
          "Relaxation"
         ],
         "legendgroup": "",
         "name": "",
         "showlegend": true,
         "type": "pie",
         "values": {
          "bdata": "c0I1JBoLBA==",
          "dtype": "i1"
         }
        }
       ],
       "layout": {
        "height": 500,
        "legend": {
         "tracegroupgap": 0
        },
        "template": {
         "data": {
          "bar": [
           {
            "error_x": {
             "color": "#2a3f5f"
            },
            "error_y": {
             "color": "#2a3f5f"
            },
            "marker": {
             "line": {
              "color": "#E5ECF6",
              "width": 0.5
             },
             "pattern": {
              "fillmode": "overlay",
              "size": 10,
              "solidity": 0.2
             }
            },
            "type": "bar"
           }
          ],
          "barpolar": [
           {
            "marker": {
             "line": {
              "color": "#E5ECF6",
              "width": 0.5
             },
             "pattern": {
              "fillmode": "overlay",
              "size": 10,
              "solidity": 0.2
             }
            },
            "type": "barpolar"
           }
          ],
          "carpet": [
           {
            "aaxis": {
             "endlinecolor": "#2a3f5f",
             "gridcolor": "white",
             "linecolor": "white",
             "minorgridcolor": "white",
             "startlinecolor": "#2a3f5f"
            },
            "baxis": {
             "endlinecolor": "#2a3f5f",
             "gridcolor": "white",
             "linecolor": "white",
             "minorgridcolor": "white",
             "startlinecolor": "#2a3f5f"
            },
            "type": "carpet"
           }
          ],
          "choropleth": [
           {
            "colorbar": {
             "outlinewidth": 0,
             "ticks": ""
            },
            "type": "choropleth"
           }
          ],
          "contour": [
           {
            "colorbar": {
             "outlinewidth": 0,
             "ticks": ""
            },
            "colorscale": [
             [
              0,
              "#0d0887"
             ],
             [
              0.1111111111111111,
              "#46039f"
             ],
             [
              0.2222222222222222,
              "#7201a8"
             ],
             [
              0.3333333333333333,
              "#9c179e"
             ],
             [
              0.4444444444444444,
              "#bd3786"
             ],
             [
              0.5555555555555556,
              "#d8576b"
             ],
             [
              0.6666666666666666,
              "#ed7953"
             ],
             [
              0.7777777777777778,
              "#fb9f3a"
             ],
             [
              0.8888888888888888,
              "#fdca26"
             ],
             [
              1,
              "#f0f921"
             ]
            ],
            "type": "contour"
           }
          ],
          "contourcarpet": [
           {
            "colorbar": {
             "outlinewidth": 0,
             "ticks": ""
            },
            "type": "contourcarpet"
           }
          ],
          "heatmap": [
           {
            "colorbar": {
             "outlinewidth": 0,
             "ticks": ""
            },
            "colorscale": [
             [
              0,
              "#0d0887"
             ],
             [
              0.1111111111111111,
              "#46039f"
             ],
             [
              0.2222222222222222,
              "#7201a8"
             ],
             [
              0.3333333333333333,
              "#9c179e"
             ],
             [
              0.4444444444444444,
              "#bd3786"
             ],
             [
              0.5555555555555556,
              "#d8576b"
             ],
             [
              0.6666666666666666,
              "#ed7953"
             ],
             [
              0.7777777777777778,
              "#fb9f3a"
             ],
             [
              0.8888888888888888,
              "#fdca26"
             ],
             [
              1,
              "#f0f921"
             ]
            ],
            "type": "heatmap"
           }
          ],
          "histogram": [
           {
            "marker": {
             "pattern": {
              "fillmode": "overlay",
              "size": 10,
              "solidity": 0.2
             }
            },
            "type": "histogram"
           }
          ],
          "histogram2d": [
           {
            "colorbar": {
             "outlinewidth": 0,
             "ticks": ""
            },
            "colorscale": [
             [
              0,
              "#0d0887"
             ],
             [
              0.1111111111111111,
              "#46039f"
             ],
             [
              0.2222222222222222,
              "#7201a8"
             ],
             [
              0.3333333333333333,
              "#9c179e"
             ],
             [
              0.4444444444444444,
              "#bd3786"
             ],
             [
              0.5555555555555556,
              "#d8576b"
             ],
             [
              0.6666666666666666,
              "#ed7953"
             ],
             [
              0.7777777777777778,
              "#fb9f3a"
             ],
             [
              0.8888888888888888,
              "#fdca26"
             ],
             [
              1,
              "#f0f921"
             ]
            ],
            "type": "histogram2d"
           }
          ],
          "histogram2dcontour": [
           {
            "colorbar": {
             "outlinewidth": 0,
             "ticks": ""
            },
            "colorscale": [
             [
              0,
              "#0d0887"
             ],
             [
              0.1111111111111111,
              "#46039f"
             ],
             [
              0.2222222222222222,
              "#7201a8"
             ],
             [
              0.3333333333333333,
              "#9c179e"
             ],
             [
              0.4444444444444444,
              "#bd3786"
             ],
             [
              0.5555555555555556,
              "#d8576b"
             ],
             [
              0.6666666666666666,
              "#ed7953"
             ],
             [
              0.7777777777777778,
              "#fb9f3a"
             ],
             [
              0.8888888888888888,
              "#fdca26"
             ],
             [
              1,
              "#f0f921"
             ]
            ],
            "type": "histogram2dcontour"
           }
          ],
          "mesh3d": [
           {
            "colorbar": {
             "outlinewidth": 0,
             "ticks": ""
            },
            "type": "mesh3d"
           }
          ],
          "parcoords": [
           {
            "line": {
             "colorbar": {
              "outlinewidth": 0,
              "ticks": ""
             }
            },
            "type": "parcoords"
           }
          ],
          "pie": [
           {
            "automargin": true,
            "type": "pie"
           }
          ],
          "scatter": [
           {
            "fillpattern": {
             "fillmode": "overlay",
             "size": 10,
             "solidity": 0.2
            },
            "type": "scatter"
           }
          ],
          "scatter3d": [
           {
            "line": {
             "colorbar": {
              "outlinewidth": 0,
              "ticks": ""
             }
            },
            "marker": {
             "colorbar": {
              "outlinewidth": 0,
              "ticks": ""
             }
            },
            "type": "scatter3d"
           }
          ],
          "scattercarpet": [
           {
            "marker": {
             "colorbar": {
              "outlinewidth": 0,
              "ticks": ""
             }
            },
            "type": "scattercarpet"
           }
          ],
          "scattergeo": [
           {
            "marker": {
             "colorbar": {
              "outlinewidth": 0,
              "ticks": ""
             }
            },
            "type": "scattergeo"
           }
          ],
          "scattergl": [
           {
            "marker": {
             "colorbar": {
              "outlinewidth": 0,
              "ticks": ""
             }
            },
            "type": "scattergl"
           }
          ],
          "scattermap": [
           {
            "marker": {
             "colorbar": {
              "outlinewidth": 0,
              "ticks": ""
             }
            },
            "type": "scattermap"
           }
          ],
          "scattermapbox": [
           {
            "marker": {
             "colorbar": {
              "outlinewidth": 0,
              "ticks": ""
             }
            },
            "type": "scattermapbox"
           }
          ],
          "scatterpolar": [
           {
            "marker": {
             "colorbar": {
              "outlinewidth": 0,
              "ticks": ""
             }
            },
            "type": "scatterpolar"
           }
          ],
          "scatterpolargl": [
           {
            "marker": {
             "colorbar": {
              "outlinewidth": 0,
              "ticks": ""
             }
            },
            "type": "scatterpolargl"
           }
          ],
          "scatterternary": [
           {
            "marker": {
             "colorbar": {
              "outlinewidth": 0,
              "ticks": ""
             }
            },
            "type": "scatterternary"
           }
          ],
          "surface": [
           {
            "colorbar": {
             "outlinewidth": 0,
             "ticks": ""
            },
            "colorscale": [
             [
              0,
              "#0d0887"
             ],
             [
              0.1111111111111111,
              "#46039f"
             ],
             [
              0.2222222222222222,
              "#7201a8"
             ],
             [
              0.3333333333333333,
              "#9c179e"
             ],
             [
              0.4444444444444444,
              "#bd3786"
             ],
             [
              0.5555555555555556,
              "#d8576b"
             ],
             [
              0.6666666666666666,
              "#ed7953"
             ],
             [
              0.7777777777777778,
              "#fb9f3a"
             ],
             [
              0.8888888888888888,
              "#fdca26"
             ],
             [
              1,
              "#f0f921"
             ]
            ],
            "type": "surface"
           }
          ],
          "table": [
           {
            "cells": {
             "fill": {
              "color": "#EBF0F8"
             },
             "line": {
              "color": "white"
             }
            },
            "header": {
             "fill": {
              "color": "#C8D4E3"
             },
             "line": {
              "color": "white"
             }
            },
            "type": "table"
           }
          ]
         },
         "layout": {
          "annotationdefaults": {
           "arrowcolor": "#2a3f5f",
           "arrowhead": 0,
           "arrowwidth": 1
          },
          "autotypenumbers": "strict",
          "coloraxis": {
           "colorbar": {
            "outlinewidth": 0,
            "ticks": ""
           }
          },
          "colorscale": {
           "diverging": [
            [
             0,
             "#8e0152"
            ],
            [
             0.1,
             "#c51b7d"
            ],
            [
             0.2,
             "#de77ae"
            ],
            [
             0.3,
             "#f1b6da"
            ],
            [
             0.4,
             "#fde0ef"
            ],
            [
             0.5,
             "#f7f7f7"
            ],
            [
             0.6,
             "#e6f5d0"
            ],
            [
             0.7,
             "#b8e186"
            ],
            [
             0.8,
             "#7fbc41"
            ],
            [
             0.9,
             "#4d9221"
            ],
            [
             1,
             "#276419"
            ]
           ],
           "sequential": [
            [
             0,
             "#0d0887"
            ],
            [
             0.1111111111111111,
             "#46039f"
            ],
            [
             0.2222222222222222,
             "#7201a8"
            ],
            [
             0.3333333333333333,
             "#9c179e"
            ],
            [
             0.4444444444444444,
             "#bd3786"
            ],
            [
             0.5555555555555556,
             "#d8576b"
            ],
            [
             0.6666666666666666,
             "#ed7953"
            ],
            [
             0.7777777777777778,
             "#fb9f3a"
            ],
            [
             0.8888888888888888,
             "#fdca26"
            ],
            [
             1,
             "#f0f921"
            ]
           ],
           "sequentialminus": [
            [
             0,
             "#0d0887"
            ],
            [
             0.1111111111111111,
             "#46039f"
            ],
            [
             0.2222222222222222,
             "#7201a8"
            ],
            [
             0.3333333333333333,
             "#9c179e"
            ],
            [
             0.4444444444444444,
             "#bd3786"
            ],
            [
             0.5555555555555556,
             "#d8576b"
            ],
            [
             0.6666666666666666,
             "#ed7953"
            ],
            [
             0.7777777777777778,
             "#fb9f3a"
            ],
            [
             0.8888888888888888,
             "#fdca26"
            ],
            [
             1,
             "#f0f921"
            ]
           ]
          },
          "colorway": [
           "#636efa",
           "#EF553B",
           "#00cc96",
           "#ab63fa",
           "#FFA15A",
           "#19d3f3",
           "#FF6692",
           "#B6E880",
           "#FF97FF",
           "#FECB52"
          ],
          "font": {
           "color": "#2a3f5f"
          },
          "geo": {
           "bgcolor": "white",
           "lakecolor": "white",
           "landcolor": "#E5ECF6",
           "showlakes": true,
           "showland": true,
           "subunitcolor": "white"
          },
          "hoverlabel": {
           "align": "left"
          },
          "hovermode": "closest",
          "mapbox": {
           "style": "light"
          },
          "paper_bgcolor": "white",
          "plot_bgcolor": "#E5ECF6",
          "polar": {
           "angularaxis": {
            "gridcolor": "white",
            "linecolor": "white",
            "ticks": ""
           },
           "bgcolor": "#E5ECF6",
           "radialaxis": {
            "gridcolor": "white",
            "linecolor": "white",
            "ticks": ""
           }
          },
          "scene": {
           "xaxis": {
            "backgroundcolor": "#E5ECF6",
            "gridcolor": "white",
            "gridwidth": 2,
            "linecolor": "white",
            "showbackground": true,
            "ticks": "",
            "zerolinecolor": "white"
           },
           "yaxis": {
            "backgroundcolor": "#E5ECF6",
            "gridcolor": "white",
            "gridwidth": 2,
            "linecolor": "white",
            "showbackground": true,
            "ticks": "",
            "zerolinecolor": "white"
           },
           "zaxis": {
            "backgroundcolor": "#E5ECF6",
            "gridcolor": "white",
            "gridwidth": 2,
            "linecolor": "white",
            "showbackground": true,
            "ticks": "",
            "zerolinecolor": "white"
           }
          },
          "shapedefaults": {
           "line": {
            "color": "#2a3f5f"
           }
          },
          "ternary": {
           "aaxis": {
            "gridcolor": "white",
            "linecolor": "white",
            "ticks": ""
           },
           "baxis": {
            "gridcolor": "white",
            "linecolor": "white",
            "ticks": ""
           },
           "bgcolor": "#E5ECF6",
           "caxis": {
            "gridcolor": "white",
            "linecolor": "white",
            "ticks": ""
           }
          },
          "title": {
           "x": 0.05
          },
          "xaxis": {
           "automargin": true,
           "gridcolor": "white",
           "linecolor": "white",
           "ticks": "",
           "title": {
            "standoff": 15
           },
           "zerolinecolor": "white",
           "zerolinewidth": 2
          },
          "yaxis": {
           "automargin": true,
           "gridcolor": "white",
           "linecolor": "white",
           "ticks": "",
           "title": {
            "standoff": 15
           },
           "zerolinecolor": "white",
           "zerolinewidth": 2
          }
         }
        },
        "title": {
         "text": "[05.07] Main motor skill, n = 324"
        },
        "width": 800
       }
      }
     },
     "metadata": {},
     "output_type": "display_data"
    },
    {
     "name": "stdout",
     "output_type": "stream",
     "text": [
      "[05.06] Setting\n"
     ]
    },
    {
     "data": {
      "application/vnd.plotly.v1+json": {
       "config": {
        "plotlyServerURL": "https://plot.ly"
       },
       "data": [
        {
         "domain": {
          "x": [
           0,
           1
          ],
          "y": [
           0,
           1
          ]
         },
         "hovertemplate": "label=%{label}<br>value=%{value}<extra></extra>",
         "labels": [
          "Gym",
          "Patients room",
          "Hospital corridor",
          "Outside",
          "At home (via telemedicine)",
          "Weiteres"
         ],
         "legendgroup": "",
         "name": "",
         "showlegend": true,
         "type": "pie",
         "values": {
          "bdata": "Wjs0DwcB",
          "dtype": "i1"
         }
        }
       ],
       "layout": {
        "height": 500,
        "legend": {
         "tracegroupgap": 0
        },
        "template": {
         "data": {
          "bar": [
           {
            "error_x": {
             "color": "#2a3f5f"
            },
            "error_y": {
             "color": "#2a3f5f"
            },
            "marker": {
             "line": {
              "color": "#E5ECF6",
              "width": 0.5
             },
             "pattern": {
              "fillmode": "overlay",
              "size": 10,
              "solidity": 0.2
             }
            },
            "type": "bar"
           }
          ],
          "barpolar": [
           {
            "marker": {
             "line": {
              "color": "#E5ECF6",
              "width": 0.5
             },
             "pattern": {
              "fillmode": "overlay",
              "size": 10,
              "solidity": 0.2
             }
            },
            "type": "barpolar"
           }
          ],
          "carpet": [
           {
            "aaxis": {
             "endlinecolor": "#2a3f5f",
             "gridcolor": "white",
             "linecolor": "white",
             "minorgridcolor": "white",
             "startlinecolor": "#2a3f5f"
            },
            "baxis": {
             "endlinecolor": "#2a3f5f",
             "gridcolor": "white",
             "linecolor": "white",
             "minorgridcolor": "white",
             "startlinecolor": "#2a3f5f"
            },
            "type": "carpet"
           }
          ],
          "choropleth": [
           {
            "colorbar": {
             "outlinewidth": 0,
             "ticks": ""
            },
            "type": "choropleth"
           }
          ],
          "contour": [
           {
            "colorbar": {
             "outlinewidth": 0,
             "ticks": ""
            },
            "colorscale": [
             [
              0,
              "#0d0887"
             ],
             [
              0.1111111111111111,
              "#46039f"
             ],
             [
              0.2222222222222222,
              "#7201a8"
             ],
             [
              0.3333333333333333,
              "#9c179e"
             ],
             [
              0.4444444444444444,
              "#bd3786"
             ],
             [
              0.5555555555555556,
              "#d8576b"
             ],
             [
              0.6666666666666666,
              "#ed7953"
             ],
             [
              0.7777777777777778,
              "#fb9f3a"
             ],
             [
              0.8888888888888888,
              "#fdca26"
             ],
             [
              1,
              "#f0f921"
             ]
            ],
            "type": "contour"
           }
          ],
          "contourcarpet": [
           {
            "colorbar": {
             "outlinewidth": 0,
             "ticks": ""
            },
            "type": "contourcarpet"
           }
          ],
          "heatmap": [
           {
            "colorbar": {
             "outlinewidth": 0,
             "ticks": ""
            },
            "colorscale": [
             [
              0,
              "#0d0887"
             ],
             [
              0.1111111111111111,
              "#46039f"
             ],
             [
              0.2222222222222222,
              "#7201a8"
             ],
             [
              0.3333333333333333,
              "#9c179e"
             ],
             [
              0.4444444444444444,
              "#bd3786"
             ],
             [
              0.5555555555555556,
              "#d8576b"
             ],
             [
              0.6666666666666666,
              "#ed7953"
             ],
             [
              0.7777777777777778,
              "#fb9f3a"
             ],
             [
              0.8888888888888888,
              "#fdca26"
             ],
             [
              1,
              "#f0f921"
             ]
            ],
            "type": "heatmap"
           }
          ],
          "histogram": [
           {
            "marker": {
             "pattern": {
              "fillmode": "overlay",
              "size": 10,
              "solidity": 0.2
             }
            },
            "type": "histogram"
           }
          ],
          "histogram2d": [
           {
            "colorbar": {
             "outlinewidth": 0,
             "ticks": ""
            },
            "colorscale": [
             [
              0,
              "#0d0887"
             ],
             [
              0.1111111111111111,
              "#46039f"
             ],
             [
              0.2222222222222222,
              "#7201a8"
             ],
             [
              0.3333333333333333,
              "#9c179e"
             ],
             [
              0.4444444444444444,
              "#bd3786"
             ],
             [
              0.5555555555555556,
              "#d8576b"
             ],
             [
              0.6666666666666666,
              "#ed7953"
             ],
             [
              0.7777777777777778,
              "#fb9f3a"
             ],
             [
              0.8888888888888888,
              "#fdca26"
             ],
             [
              1,
              "#f0f921"
             ]
            ],
            "type": "histogram2d"
           }
          ],
          "histogram2dcontour": [
           {
            "colorbar": {
             "outlinewidth": 0,
             "ticks": ""
            },
            "colorscale": [
             [
              0,
              "#0d0887"
             ],
             [
              0.1111111111111111,
              "#46039f"
             ],
             [
              0.2222222222222222,
              "#7201a8"
             ],
             [
              0.3333333333333333,
              "#9c179e"
             ],
             [
              0.4444444444444444,
              "#bd3786"
             ],
             [
              0.5555555555555556,
              "#d8576b"
             ],
             [
              0.6666666666666666,
              "#ed7953"
             ],
             [
              0.7777777777777778,
              "#fb9f3a"
             ],
             [
              0.8888888888888888,
              "#fdca26"
             ],
             [
              1,
              "#f0f921"
             ]
            ],
            "type": "histogram2dcontour"
           }
          ],
          "mesh3d": [
           {
            "colorbar": {
             "outlinewidth": 0,
             "ticks": ""
            },
            "type": "mesh3d"
           }
          ],
          "parcoords": [
           {
            "line": {
             "colorbar": {
              "outlinewidth": 0,
              "ticks": ""
             }
            },
            "type": "parcoords"
           }
          ],
          "pie": [
           {
            "automargin": true,
            "type": "pie"
           }
          ],
          "scatter": [
           {
            "fillpattern": {
             "fillmode": "overlay",
             "size": 10,
             "solidity": 0.2
            },
            "type": "scatter"
           }
          ],
          "scatter3d": [
           {
            "line": {
             "colorbar": {
              "outlinewidth": 0,
              "ticks": ""
             }
            },
            "marker": {
             "colorbar": {
              "outlinewidth": 0,
              "ticks": ""
             }
            },
            "type": "scatter3d"
           }
          ],
          "scattercarpet": [
           {
            "marker": {
             "colorbar": {
              "outlinewidth": 0,
              "ticks": ""
             }
            },
            "type": "scattercarpet"
           }
          ],
          "scattergeo": [
           {
            "marker": {
             "colorbar": {
              "outlinewidth": 0,
              "ticks": ""
             }
            },
            "type": "scattergeo"
           }
          ],
          "scattergl": [
           {
            "marker": {
             "colorbar": {
              "outlinewidth": 0,
              "ticks": ""
             }
            },
            "type": "scattergl"
           }
          ],
          "scattermap": [
           {
            "marker": {
             "colorbar": {
              "outlinewidth": 0,
              "ticks": ""
             }
            },
            "type": "scattermap"
           }
          ],
          "scattermapbox": [
           {
            "marker": {
             "colorbar": {
              "outlinewidth": 0,
              "ticks": ""
             }
            },
            "type": "scattermapbox"
           }
          ],
          "scatterpolar": [
           {
            "marker": {
             "colorbar": {
              "outlinewidth": 0,
              "ticks": ""
             }
            },
            "type": "scatterpolar"
           }
          ],
          "scatterpolargl": [
           {
            "marker": {
             "colorbar": {
              "outlinewidth": 0,
              "ticks": ""
             }
            },
            "type": "scatterpolargl"
           }
          ],
          "scatterternary": [
           {
            "marker": {
             "colorbar": {
              "outlinewidth": 0,
              "ticks": ""
             }
            },
            "type": "scatterternary"
           }
          ],
          "surface": [
           {
            "colorbar": {
             "outlinewidth": 0,
             "ticks": ""
            },
            "colorscale": [
             [
              0,
              "#0d0887"
             ],
             [
              0.1111111111111111,
              "#46039f"
             ],
             [
              0.2222222222222222,
              "#7201a8"
             ],
             [
              0.3333333333333333,
              "#9c179e"
             ],
             [
              0.4444444444444444,
              "#bd3786"
             ],
             [
              0.5555555555555556,
              "#d8576b"
             ],
             [
              0.6666666666666666,
              "#ed7953"
             ],
             [
              0.7777777777777778,
              "#fb9f3a"
             ],
             [
              0.8888888888888888,
              "#fdca26"
             ],
             [
              1,
              "#f0f921"
             ]
            ],
            "type": "surface"
           }
          ],
          "table": [
           {
            "cells": {
             "fill": {
              "color": "#EBF0F8"
             },
             "line": {
              "color": "white"
             }
            },
            "header": {
             "fill": {
              "color": "#C8D4E3"
             },
             "line": {
              "color": "white"
             }
            },
            "type": "table"
           }
          ]
         },
         "layout": {
          "annotationdefaults": {
           "arrowcolor": "#2a3f5f",
           "arrowhead": 0,
           "arrowwidth": 1
          },
          "autotypenumbers": "strict",
          "coloraxis": {
           "colorbar": {
            "outlinewidth": 0,
            "ticks": ""
           }
          },
          "colorscale": {
           "diverging": [
            [
             0,
             "#8e0152"
            ],
            [
             0.1,
             "#c51b7d"
            ],
            [
             0.2,
             "#de77ae"
            ],
            [
             0.3,
             "#f1b6da"
            ],
            [
             0.4,
             "#fde0ef"
            ],
            [
             0.5,
             "#f7f7f7"
            ],
            [
             0.6,
             "#e6f5d0"
            ],
            [
             0.7,
             "#b8e186"
            ],
            [
             0.8,
             "#7fbc41"
            ],
            [
             0.9,
             "#4d9221"
            ],
            [
             1,
             "#276419"
            ]
           ],
           "sequential": [
            [
             0,
             "#0d0887"
            ],
            [
             0.1111111111111111,
             "#46039f"
            ],
            [
             0.2222222222222222,
             "#7201a8"
            ],
            [
             0.3333333333333333,
             "#9c179e"
            ],
            [
             0.4444444444444444,
             "#bd3786"
            ],
            [
             0.5555555555555556,
             "#d8576b"
            ],
            [
             0.6666666666666666,
             "#ed7953"
            ],
            [
             0.7777777777777778,
             "#fb9f3a"
            ],
            [
             0.8888888888888888,
             "#fdca26"
            ],
            [
             1,
             "#f0f921"
            ]
           ],
           "sequentialminus": [
            [
             0,
             "#0d0887"
            ],
            [
             0.1111111111111111,
             "#46039f"
            ],
            [
             0.2222222222222222,
             "#7201a8"
            ],
            [
             0.3333333333333333,
             "#9c179e"
            ],
            [
             0.4444444444444444,
             "#bd3786"
            ],
            [
             0.5555555555555556,
             "#d8576b"
            ],
            [
             0.6666666666666666,
             "#ed7953"
            ],
            [
             0.7777777777777778,
             "#fb9f3a"
            ],
            [
             0.8888888888888888,
             "#fdca26"
            ],
            [
             1,
             "#f0f921"
            ]
           ]
          },
          "colorway": [
           "#636efa",
           "#EF553B",
           "#00cc96",
           "#ab63fa",
           "#FFA15A",
           "#19d3f3",
           "#FF6692",
           "#B6E880",
           "#FF97FF",
           "#FECB52"
          ],
          "font": {
           "color": "#2a3f5f"
          },
          "geo": {
           "bgcolor": "white",
           "lakecolor": "white",
           "landcolor": "#E5ECF6",
           "showlakes": true,
           "showland": true,
           "subunitcolor": "white"
          },
          "hoverlabel": {
           "align": "left"
          },
          "hovermode": "closest",
          "mapbox": {
           "style": "light"
          },
          "paper_bgcolor": "white",
          "plot_bgcolor": "#E5ECF6",
          "polar": {
           "angularaxis": {
            "gridcolor": "white",
            "linecolor": "white",
            "ticks": ""
           },
           "bgcolor": "#E5ECF6",
           "radialaxis": {
            "gridcolor": "white",
            "linecolor": "white",
            "ticks": ""
           }
          },
          "scene": {
           "xaxis": {
            "backgroundcolor": "#E5ECF6",
            "gridcolor": "white",
            "gridwidth": 2,
            "linecolor": "white",
            "showbackground": true,
            "ticks": "",
            "zerolinecolor": "white"
           },
           "yaxis": {
            "backgroundcolor": "#E5ECF6",
            "gridcolor": "white",
            "gridwidth": 2,
            "linecolor": "white",
            "showbackground": true,
            "ticks": "",
            "zerolinecolor": "white"
           },
           "zaxis": {
            "backgroundcolor": "#E5ECF6",
            "gridcolor": "white",
            "gridwidth": 2,
            "linecolor": "white",
            "showbackground": true,
            "ticks": "",
            "zerolinecolor": "white"
           }
          },
          "shapedefaults": {
           "line": {
            "color": "#2a3f5f"
           }
          },
          "ternary": {
           "aaxis": {
            "gridcolor": "white",
            "linecolor": "white",
            "ticks": ""
           },
           "baxis": {
            "gridcolor": "white",
            "linecolor": "white",
            "ticks": ""
           },
           "bgcolor": "#E5ECF6",
           "caxis": {
            "gridcolor": "white",
            "linecolor": "white",
            "ticks": ""
           }
          },
          "title": {
           "x": 0.05
          },
          "xaxis": {
           "automargin": true,
           "gridcolor": "white",
           "linecolor": "white",
           "ticks": "",
           "title": {
            "standoff": 15
           },
           "zerolinecolor": "white",
           "zerolinewidth": 2
          },
          "yaxis": {
           "automargin": true,
           "gridcolor": "white",
           "linecolor": "white",
           "ticks": "",
           "title": {
            "standoff": 15
           },
           "zerolinecolor": "white",
           "zerolinewidth": 2
          }
         }
        },
        "title": {
         "text": "[05.06] Setting, n = 240"
        },
        "width": 800
       }
      }
     },
     "metadata": {},
     "output_type": "display_data"
    },
    {
     "name": "stdout",
     "output_type": "stream",
     "text": [
      "[05.02] Group size\n"
     ]
    },
    {
     "data": {
      "application/vnd.plotly.v1+json": {
       "config": {
        "plotlyServerURL": "https://plot.ly"
       },
       "data": [
        {
         "domain": {
          "x": [
           0,
           1
          ],
          "y": [
           0,
           1
          ]
         },
         "hovertemplate": "label=%{label}<br>value=%{value}<extra></extra>",
         "labels": [
          "Individual",
          "Group 5 to 10",
          "Group 2-5",
          "Group over 10"
         ],
         "legendgroup": "",
         "name": "",
         "showlegend": true,
         "type": "pie",
         "values": {
          "bdata": "1wAJAAYABgA=",
          "dtype": "i2"
         }
        }
       ],
       "layout": {
        "height": 500,
        "legend": {
         "tracegroupgap": 0
        },
        "template": {
         "data": {
          "bar": [
           {
            "error_x": {
             "color": "#2a3f5f"
            },
            "error_y": {
             "color": "#2a3f5f"
            },
            "marker": {
             "line": {
              "color": "#E5ECF6",
              "width": 0.5
             },
             "pattern": {
              "fillmode": "overlay",
              "size": 10,
              "solidity": 0.2
             }
            },
            "type": "bar"
           }
          ],
          "barpolar": [
           {
            "marker": {
             "line": {
              "color": "#E5ECF6",
              "width": 0.5
             },
             "pattern": {
              "fillmode": "overlay",
              "size": 10,
              "solidity": 0.2
             }
            },
            "type": "barpolar"
           }
          ],
          "carpet": [
           {
            "aaxis": {
             "endlinecolor": "#2a3f5f",
             "gridcolor": "white",
             "linecolor": "white",
             "minorgridcolor": "white",
             "startlinecolor": "#2a3f5f"
            },
            "baxis": {
             "endlinecolor": "#2a3f5f",
             "gridcolor": "white",
             "linecolor": "white",
             "minorgridcolor": "white",
             "startlinecolor": "#2a3f5f"
            },
            "type": "carpet"
           }
          ],
          "choropleth": [
           {
            "colorbar": {
             "outlinewidth": 0,
             "ticks": ""
            },
            "type": "choropleth"
           }
          ],
          "contour": [
           {
            "colorbar": {
             "outlinewidth": 0,
             "ticks": ""
            },
            "colorscale": [
             [
              0,
              "#0d0887"
             ],
             [
              0.1111111111111111,
              "#46039f"
             ],
             [
              0.2222222222222222,
              "#7201a8"
             ],
             [
              0.3333333333333333,
              "#9c179e"
             ],
             [
              0.4444444444444444,
              "#bd3786"
             ],
             [
              0.5555555555555556,
              "#d8576b"
             ],
             [
              0.6666666666666666,
              "#ed7953"
             ],
             [
              0.7777777777777778,
              "#fb9f3a"
             ],
             [
              0.8888888888888888,
              "#fdca26"
             ],
             [
              1,
              "#f0f921"
             ]
            ],
            "type": "contour"
           }
          ],
          "contourcarpet": [
           {
            "colorbar": {
             "outlinewidth": 0,
             "ticks": ""
            },
            "type": "contourcarpet"
           }
          ],
          "heatmap": [
           {
            "colorbar": {
             "outlinewidth": 0,
             "ticks": ""
            },
            "colorscale": [
             [
              0,
              "#0d0887"
             ],
             [
              0.1111111111111111,
              "#46039f"
             ],
             [
              0.2222222222222222,
              "#7201a8"
             ],
             [
              0.3333333333333333,
              "#9c179e"
             ],
             [
              0.4444444444444444,
              "#bd3786"
             ],
             [
              0.5555555555555556,
              "#d8576b"
             ],
             [
              0.6666666666666666,
              "#ed7953"
             ],
             [
              0.7777777777777778,
              "#fb9f3a"
             ],
             [
              0.8888888888888888,
              "#fdca26"
             ],
             [
              1,
              "#f0f921"
             ]
            ],
            "type": "heatmap"
           }
          ],
          "histogram": [
           {
            "marker": {
             "pattern": {
              "fillmode": "overlay",
              "size": 10,
              "solidity": 0.2
             }
            },
            "type": "histogram"
           }
          ],
          "histogram2d": [
           {
            "colorbar": {
             "outlinewidth": 0,
             "ticks": ""
            },
            "colorscale": [
             [
              0,
              "#0d0887"
             ],
             [
              0.1111111111111111,
              "#46039f"
             ],
             [
              0.2222222222222222,
              "#7201a8"
             ],
             [
              0.3333333333333333,
              "#9c179e"
             ],
             [
              0.4444444444444444,
              "#bd3786"
             ],
             [
              0.5555555555555556,
              "#d8576b"
             ],
             [
              0.6666666666666666,
              "#ed7953"
             ],
             [
              0.7777777777777778,
              "#fb9f3a"
             ],
             [
              0.8888888888888888,
              "#fdca26"
             ],
             [
              1,
              "#f0f921"
             ]
            ],
            "type": "histogram2d"
           }
          ],
          "histogram2dcontour": [
           {
            "colorbar": {
             "outlinewidth": 0,
             "ticks": ""
            },
            "colorscale": [
             [
              0,
              "#0d0887"
             ],
             [
              0.1111111111111111,
              "#46039f"
             ],
             [
              0.2222222222222222,
              "#7201a8"
             ],
             [
              0.3333333333333333,
              "#9c179e"
             ],
             [
              0.4444444444444444,
              "#bd3786"
             ],
             [
              0.5555555555555556,
              "#d8576b"
             ],
             [
              0.6666666666666666,
              "#ed7953"
             ],
             [
              0.7777777777777778,
              "#fb9f3a"
             ],
             [
              0.8888888888888888,
              "#fdca26"
             ],
             [
              1,
              "#f0f921"
             ]
            ],
            "type": "histogram2dcontour"
           }
          ],
          "mesh3d": [
           {
            "colorbar": {
             "outlinewidth": 0,
             "ticks": ""
            },
            "type": "mesh3d"
           }
          ],
          "parcoords": [
           {
            "line": {
             "colorbar": {
              "outlinewidth": 0,
              "ticks": ""
             }
            },
            "type": "parcoords"
           }
          ],
          "pie": [
           {
            "automargin": true,
            "type": "pie"
           }
          ],
          "scatter": [
           {
            "fillpattern": {
             "fillmode": "overlay",
             "size": 10,
             "solidity": 0.2
            },
            "type": "scatter"
           }
          ],
          "scatter3d": [
           {
            "line": {
             "colorbar": {
              "outlinewidth": 0,
              "ticks": ""
             }
            },
            "marker": {
             "colorbar": {
              "outlinewidth": 0,
              "ticks": ""
             }
            },
            "type": "scatter3d"
           }
          ],
          "scattercarpet": [
           {
            "marker": {
             "colorbar": {
              "outlinewidth": 0,
              "ticks": ""
             }
            },
            "type": "scattercarpet"
           }
          ],
          "scattergeo": [
           {
            "marker": {
             "colorbar": {
              "outlinewidth": 0,
              "ticks": ""
             }
            },
            "type": "scattergeo"
           }
          ],
          "scattergl": [
           {
            "marker": {
             "colorbar": {
              "outlinewidth": 0,
              "ticks": ""
             }
            },
            "type": "scattergl"
           }
          ],
          "scattermap": [
           {
            "marker": {
             "colorbar": {
              "outlinewidth": 0,
              "ticks": ""
             }
            },
            "type": "scattermap"
           }
          ],
          "scattermapbox": [
           {
            "marker": {
             "colorbar": {
              "outlinewidth": 0,
              "ticks": ""
             }
            },
            "type": "scattermapbox"
           }
          ],
          "scatterpolar": [
           {
            "marker": {
             "colorbar": {
              "outlinewidth": 0,
              "ticks": ""
             }
            },
            "type": "scatterpolar"
           }
          ],
          "scatterpolargl": [
           {
            "marker": {
             "colorbar": {
              "outlinewidth": 0,
              "ticks": ""
             }
            },
            "type": "scatterpolargl"
           }
          ],
          "scatterternary": [
           {
            "marker": {
             "colorbar": {
              "outlinewidth": 0,
              "ticks": ""
             }
            },
            "type": "scatterternary"
           }
          ],
          "surface": [
           {
            "colorbar": {
             "outlinewidth": 0,
             "ticks": ""
            },
            "colorscale": [
             [
              0,
              "#0d0887"
             ],
             [
              0.1111111111111111,
              "#46039f"
             ],
             [
              0.2222222222222222,
              "#7201a8"
             ],
             [
              0.3333333333333333,
              "#9c179e"
             ],
             [
              0.4444444444444444,
              "#bd3786"
             ],
             [
              0.5555555555555556,
              "#d8576b"
             ],
             [
              0.6666666666666666,
              "#ed7953"
             ],
             [
              0.7777777777777778,
              "#fb9f3a"
             ],
             [
              0.8888888888888888,
              "#fdca26"
             ],
             [
              1,
              "#f0f921"
             ]
            ],
            "type": "surface"
           }
          ],
          "table": [
           {
            "cells": {
             "fill": {
              "color": "#EBF0F8"
             },
             "line": {
              "color": "white"
             }
            },
            "header": {
             "fill": {
              "color": "#C8D4E3"
             },
             "line": {
              "color": "white"
             }
            },
            "type": "table"
           }
          ]
         },
         "layout": {
          "annotationdefaults": {
           "arrowcolor": "#2a3f5f",
           "arrowhead": 0,
           "arrowwidth": 1
          },
          "autotypenumbers": "strict",
          "coloraxis": {
           "colorbar": {
            "outlinewidth": 0,
            "ticks": ""
           }
          },
          "colorscale": {
           "diverging": [
            [
             0,
             "#8e0152"
            ],
            [
             0.1,
             "#c51b7d"
            ],
            [
             0.2,
             "#de77ae"
            ],
            [
             0.3,
             "#f1b6da"
            ],
            [
             0.4,
             "#fde0ef"
            ],
            [
             0.5,
             "#f7f7f7"
            ],
            [
             0.6,
             "#e6f5d0"
            ],
            [
             0.7,
             "#b8e186"
            ],
            [
             0.8,
             "#7fbc41"
            ],
            [
             0.9,
             "#4d9221"
            ],
            [
             1,
             "#276419"
            ]
           ],
           "sequential": [
            [
             0,
             "#0d0887"
            ],
            [
             0.1111111111111111,
             "#46039f"
            ],
            [
             0.2222222222222222,
             "#7201a8"
            ],
            [
             0.3333333333333333,
             "#9c179e"
            ],
            [
             0.4444444444444444,
             "#bd3786"
            ],
            [
             0.5555555555555556,
             "#d8576b"
            ],
            [
             0.6666666666666666,
             "#ed7953"
            ],
            [
             0.7777777777777778,
             "#fb9f3a"
            ],
            [
             0.8888888888888888,
             "#fdca26"
            ],
            [
             1,
             "#f0f921"
            ]
           ],
           "sequentialminus": [
            [
             0,
             "#0d0887"
            ],
            [
             0.1111111111111111,
             "#46039f"
            ],
            [
             0.2222222222222222,
             "#7201a8"
            ],
            [
             0.3333333333333333,
             "#9c179e"
            ],
            [
             0.4444444444444444,
             "#bd3786"
            ],
            [
             0.5555555555555556,
             "#d8576b"
            ],
            [
             0.6666666666666666,
             "#ed7953"
            ],
            [
             0.7777777777777778,
             "#fb9f3a"
            ],
            [
             0.8888888888888888,
             "#fdca26"
            ],
            [
             1,
             "#f0f921"
            ]
           ]
          },
          "colorway": [
           "#636efa",
           "#EF553B",
           "#00cc96",
           "#ab63fa",
           "#FFA15A",
           "#19d3f3",
           "#FF6692",
           "#B6E880",
           "#FF97FF",
           "#FECB52"
          ],
          "font": {
           "color": "#2a3f5f"
          },
          "geo": {
           "bgcolor": "white",
           "lakecolor": "white",
           "landcolor": "#E5ECF6",
           "showlakes": true,
           "showland": true,
           "subunitcolor": "white"
          },
          "hoverlabel": {
           "align": "left"
          },
          "hovermode": "closest",
          "mapbox": {
           "style": "light"
          },
          "paper_bgcolor": "white",
          "plot_bgcolor": "#E5ECF6",
          "polar": {
           "angularaxis": {
            "gridcolor": "white",
            "linecolor": "white",
            "ticks": ""
           },
           "bgcolor": "#E5ECF6",
           "radialaxis": {
            "gridcolor": "white",
            "linecolor": "white",
            "ticks": ""
           }
          },
          "scene": {
           "xaxis": {
            "backgroundcolor": "#E5ECF6",
            "gridcolor": "white",
            "gridwidth": 2,
            "linecolor": "white",
            "showbackground": true,
            "ticks": "",
            "zerolinecolor": "white"
           },
           "yaxis": {
            "backgroundcolor": "#E5ECF6",
            "gridcolor": "white",
            "gridwidth": 2,
            "linecolor": "white",
            "showbackground": true,
            "ticks": "",
            "zerolinecolor": "white"
           },
           "zaxis": {
            "backgroundcolor": "#E5ECF6",
            "gridcolor": "white",
            "gridwidth": 2,
            "linecolor": "white",
            "showbackground": true,
            "ticks": "",
            "zerolinecolor": "white"
           }
          },
          "shapedefaults": {
           "line": {
            "color": "#2a3f5f"
           }
          },
          "ternary": {
           "aaxis": {
            "gridcolor": "white",
            "linecolor": "white",
            "ticks": ""
           },
           "baxis": {
            "gridcolor": "white",
            "linecolor": "white",
            "ticks": ""
           },
           "bgcolor": "#E5ECF6",
           "caxis": {
            "gridcolor": "white",
            "linecolor": "white",
            "ticks": ""
           }
          },
          "title": {
           "x": 0.05
          },
          "xaxis": {
           "automargin": true,
           "gridcolor": "white",
           "linecolor": "white",
           "ticks": "",
           "title": {
            "standoff": 15
           },
           "zerolinecolor": "white",
           "zerolinewidth": 2
          },
          "yaxis": {
           "automargin": true,
           "gridcolor": "white",
           "linecolor": "white",
           "ticks": "",
           "title": {
            "standoff": 15
           },
           "zerolinecolor": "white",
           "zerolinewidth": 2
          }
         }
        },
        "title": {
         "text": "[05.02] Group size, n = 240"
        },
        "width": 800
       }
      }
     },
     "metadata": {},
     "output_type": "display_data"
    }
   ],
   "source": [
    "stubs = [\"Age\", \"Therapy\", \"Training\", \"Type\", \"Trigger\",\"Affected\", \"motor\", \"Setting\", \"Group\"]\n",
    "\n",
    "for stub in stubs[:]:\n",
    "    df_pie = df_csv_condensed_cleansed.copy()\n",
    "    col = df_pie.find_cols([stub])[0]\n",
    "    print(col)\n",
    "\n",
    "    # * split to create arrays in cells, then explode to have atomic values\n",
    "    df_pie[col] = df_pie[col].str.split(\"|\")\n",
    "    df_pie = df_pie.explode(col)\n",
    "    n = len(df_pie[col])\n",
    "    # display(df_pie)\n",
    "\n",
    "    print_pie(df_pie[col], caption=f\"{col}, n = {n:_}\")\n"
   ]
  }
 ],
 "metadata": {
  "kernelspec": {
   "display_name": "sport-adverse-events",
   "language": "python",
   "name": "python3"
  },
  "language_info": {
   "codemirror_mode": {
    "name": "ipython",
    "version": 3
   },
   "file_extension": ".py",
   "mimetype": "text/x-python",
   "name": "python",
   "nbconvert_exporter": "python",
   "pygments_lexer": "ipython3",
   "version": "3.12.9"
  }
 },
 "nbformat": 4,
 "nbformat_minor": 5
}
