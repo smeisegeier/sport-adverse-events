{
 "cells": [
  {
   "cell_type": "markdown",
   "id": "00975014",
   "metadata": {},
   "source": [
    "# <a id='toc1_'></a>[descriptive analysis](#toc0_)"
   ]
  },
  {
   "cell_type": "markdown",
   "id": "2e0f6e3c",
   "metadata": {},
   "source": [
    "**Table of contents**<a id='toc0_'></a>    \n",
    "- [descriptive analysis](#toc1_)    \n",
    "  - [import data](#toc1_1_)    \n",
    "  - [tables](#toc1_2_)    \n",
    "  - [pie charts](#toc1_3_)    \n",
    "\n",
    "<!-- vscode-jupyter-toc-config\n",
    "\tnumbering=false\n",
    "\tanchor=true\n",
    "\tflat=false\n",
    "\tminLevel=1\n",
    "\tmaxLevel=6\n",
    "\t/vscode-jupyter-toc-config -->\n",
    "<!-- THIS CELL WILL BE REPLACED ON TOC UPDATE. DO NOT WRITE YOUR TEXT IN THIS CELL -->"
   ]
  },
  {
   "cell_type": "code",
   "execution_count": 12,
   "id": "796818a7",
   "metadata": {},
   "outputs": [
    {
     "name": "stdout",
     "output_type": "stream",
     "text": [
      "🐍 3.12.9 | 📦 pygwalker: 0.4.9.15 | 📦 pandas: 2.3.1 | 📦 numpy: 1.26.4 | 📦 duckdb: 1.3.2 | 📦 pandas-plots: 0.15.13 | 📦 connection-helper: 0.12.1\n"
     ]
    }
   ],
   "source": [
    "import os\n",
    "import pandas as pd\n",
    "from pathlib import Path\n",
    "from pandas_plots import tbl, pls, hlp\n",
    "import duckdb as ddb\n",
    "\n",
    "hlp.show_package_version([\"pygwalker\"])\n",
    "\n",
    "os.environ[\"THEME\"]=\"light\"\n",
    "\n",
    "dir_data_in=Path(\"../data/in\")\n",
    "dir_data_out=Path(\"../data/out\")\n",
    "\n",
    "con = ddb.connect()"
   ]
  },
  {
   "cell_type": "markdown",
   "id": "0d6c799f",
   "metadata": {},
   "source": [
    "## <a id='toc1_1_'></a>[import data](#toc0_)"
   ]
  },
  {
   "cell_type": "code",
   "execution_count": 13,
   "id": "844fa528",
   "metadata": {},
   "outputs": [],
   "source": [
    "# # * get condensed dataset\n",
    "df_csv_condensed = (\n",
    "    pd.read_csv(\n",
    "        dir_data_out / \"df_csv_condensed.csv\",\n",
    "        sep=\";\",\n",
    "        encoding=\"utf-8-sig\",\n",
    "        index_col=None,\n",
    "    )\n",
    ")\n",
    "\n",
    "# * CTCAE should be a string with integer values and MUST have a real <NA> as missing\n",
    "df_csv_condensed[\"[01.01] CTCAE\"] = (df_csv_condensed[\"[01.01] CTCAE\"]\n",
    "        .astype(\"Int64\")\n",
    "        .astype(str)\n",
    "        .replace(\"<NA>\", pd.NA)\n",
    ")"
   ]
  },
  {
   "cell_type": "code",
   "execution_count": 19,
   "id": "924cf2c0",
   "metadata": {},
   "outputs": [],
   "source": [
    "ids = (pd.read_csv(\"../data/codebooks/id.csv\", sep=\";\")\n",
    "    .iloc[:,0]\n",
    "    .to_list()\n",
    ")"
   ]
  },
  {
   "cell_type": "code",
   "execution_count": 22,
   "id": "adfe0e7e",
   "metadata": {},
   "outputs": [],
   "source": [
    "df_csv_condensed_178 = df_csv_condensed[df_csv_condensed[\"[00.00] ParticipantID\"].isin(ids)]\n",
    "\n",
    "df_csv_condensed = df_csv_condensed_178"
   ]
  },
  {
   "cell_type": "markdown",
   "id": "67e33c70",
   "metadata": {},
   "source": [
    "## <a id='toc1_2_'></a>[tables](#toc0_)"
   ]
  },
  {
   "cell_type": "code",
   "execution_count": 23,
   "id": "97aa730e",
   "metadata": {},
   "outputs": [
    {
     "name": "stdout",
     "output_type": "stream",
     "text": [
      "['[01.01] CTCAE', '[01.02] Date', '[01.03] Exercise-related', '[02.02] Type', '[02.03] Trigger']\n"
     ]
    }
   ],
   "source": [
    "# # * list of codes for descriptive tables\n",
    "stubs = (\n",
    "        \"[01.01]\",\n",
    "        \"[01.02]\",\n",
    "        \"[01.03]\",\n",
    "        \"[02.02]\",\n",
    "        \"[02.03]\",\n",
    "        \"[02.04]\",\n",
    "        \"[03.02]\",\n",
    "        \"[03.03]\",\n",
    "        \"[03.04]\",\n",
    "        \"[03.06]\",\n",
    "        \"[03.07]\",\n",
    "        \"[03.08]\",\n",
    "        \"[03.08.01]\",\n",
    "        \"[03.08.02]\",\n",
    "        \"[03.09]\",\n",
    "        \"[03.10]\",\n",
    "        \"[03.10.01]\",\n",
    "        \"[03.11]\",\n",
    "        \"[03.11.02]\",\n",
    "        \"[03.12]\",\n",
    "        \"[03.13]\",\n",
    "        \"[03.13.01]\",\n",
    "        \"[03.13.02]\",\n",
    "        \"[03.14]\",\n",
    "        \"[03.14.01]\",\n",
    "        \"[03.14.02]\",\n",
    "        \"[03.15]\",\n",
    "        \"[03.17]\",\n",
    "        \"[05.01]\",\n",
    "        \"[05.02]\",\n",
    "        \"[05.03]\",\n",
    "        \"[05.04]\",\n",
    "        \"[05.05]\",\n",
    "        \"[05.06]\",\n",
    "        \"[05.07]\",\n",
    "        \"[05.08]\",\n",
    "        \"[05.09]\",\n",
    "        )\n",
    "\n",
    "# * get full olumn names off of codes\n",
    "cols = hlp.find_cols(all_cols=df_csv_condensed.columns, stubs=stubs)\n",
    "\n",
    "# cols = df_csv_condensed.columns\n",
    "print(cols[:5])"
   ]
  },
  {
   "cell_type": "code",
   "execution_count": 25,
   "id": "c1f061f9",
   "metadata": {},
   "outputs": [],
   "source": [
    "# # ! remove rows with missing CTCAE\n",
    "df_csv_condensed_cleansed = df_csv_condensed[df_csv_condensed['[01.01] CTCAE'].notna()]"
   ]
  },
  {
   "cell_type": "code",
   "execution_count": 26,
   "id": "e3924b4f",
   "metadata": {},
   "outputs": [],
   "source": [
    "# # * loop over all selected columns\n",
    "def print_survey(df_in: pd.DataFrame) -> None:\n",
    "    for col in cols[:]:\n",
    "        # * skip CTCAE and columns that are not str / object\n",
    "        if col != \"[01.01] CTCAE\" and df_in[col].dtype.kind in (\"O\"):\n",
    "\n",
    "            # * copy dataframe\n",
    "            df = df_in.copy()\n",
    "\n",
    "            # * combine each col with CTCAE, remove missings\n",
    "            df = df[[col, \"[01.01] CTCAE\"]].dropna()\n",
    "            \n",
    "            # * debug: print column\n",
    "            # print(col)\n",
    "\n",
    "            # * remove blanks\n",
    "            df.iloc[:,0]= df.iloc[:,0].str.strip()\n",
    "\n",
    "            # * split to create arrays in cells, then explode to have atomic values\n",
    "            df[col] = df[col].str.split(\"|\")\n",
    "            df = df.explode(col)\n",
    "\n",
    "            # * to pivot\n",
    "            table =(\n",
    "                tbl.pivot_df(\n",
    "                    df=df.sort_values(df.columns[-1], ascending=False),\n",
    "                    dropna=False,\n",
    "                    data_bar_axis=\"x\",\n",
    "                    col1_width=400,\n",
    "                )\n",
    "                # .format(lambda x: f\"{x}\")\n",
    "            )\n",
    "            display(table)\n"
   ]
  },
  {
   "cell_type": "code",
   "execution_count": 27,
   "id": "694b9718",
   "metadata": {},
   "outputs": [
    {
     "data": {
      "text/html": [
       "<style type=\"text/css\">\n",
       "#T_6965e th:first-child {\n",
       "  min-width: 400px !important;\n",
       "  max-width: 400px !important;\n",
       "  white-space: nowrap;\n",
       "  overflow: hidden;\n",
       "}\n",
       "#T_6965e  td:first-child {\n",
       "  min-width: 400px !important;\n",
       "  max-width: 400px !important;\n",
       "  white-space: nowrap;\n",
       "  overflow: hidden;\n",
       "}\n",
       "#T_6965e_row0_col0 {\n",
       "  width: 10em;\n",
       "  background: linear-gradient(90deg, lightblue 17.3%, transparent 17.3%);\n",
       "  font-family: Courier;\n",
       "}\n",
       "#T_6965e_row0_col1 {\n",
       "  width: 10em;\n",
       "  background: linear-gradient(90deg, lightblue 19.0%, transparent 19.0%);\n",
       "  font-family: Courier;\n",
       "}\n",
       "#T_6965e_row0_col2 {\n",
       "  width: 10em;\n",
       "  background: linear-gradient(90deg, lightblue 33.3%, transparent 33.3%);\n",
       "  font-family: Courier;\n",
       "}\n",
       "#T_6965e_row0_col3 {\n",
       "  width: 10em;\n",
       "  background: linear-gradient(90deg, lightblue 18.0%, transparent 18.0%);\n",
       "  font-family: Courier;\n",
       "}\n",
       "#T_6965e_row1_col0 {\n",
       "  width: 10em;\n",
       "  background: linear-gradient(90deg, lightblue 82.7%, transparent 82.7%);\n",
       "  font-family: Courier;\n",
       "}\n",
       "#T_6965e_row1_col1 {\n",
       "  width: 10em;\n",
       "  background: linear-gradient(90deg, lightblue 81.0%, transparent 81.0%);\n",
       "  font-family: Courier;\n",
       "}\n",
       "#T_6965e_row1_col2 {\n",
       "  width: 10em;\n",
       "  background: linear-gradient(90deg, lightblue 66.7%, transparent 66.7%);\n",
       "  font-family: Courier;\n",
       "}\n",
       "#T_6965e_row1_col3 {\n",
       "  width: 10em;\n",
       "  background: linear-gradient(90deg, lightblue 82.0%, transparent 82.0%);\n",
       "  font-family: Courier;\n",
       "}\n",
       "#T_6965e_row2_col0, #T_6965e_row2_col1, #T_6965e_row2_col2, #T_6965e_row2_col3 {\n",
       "  width: 10em;\n",
       "  background: linear-gradient(90deg, lightblue 100.0%, transparent 100.0%);\n",
       "  font-family: Courier;\n",
       "}\n",
       "</style>\n",
       "<table id=\"T_6965e\">\n",
       "  <thead>\n",
       "    <tr>\n",
       "      <th class=\"index_name level0\" >[01.01] CTCAE</th>\n",
       "      <th id=\"T_6965e_level0_col0\" class=\"col_heading level0 col0\" >1</th>\n",
       "      <th id=\"T_6965e_level0_col1\" class=\"col_heading level0 col1\" >2</th>\n",
       "      <th id=\"T_6965e_level0_col2\" class=\"col_heading level0 col2\" >3</th>\n",
       "      <th id=\"T_6965e_level0_col3\" class=\"col_heading level0 col3\" >Total</th>\n",
       "    </tr>\n",
       "    <tr>\n",
       "      <th class=\"index_name level0\" >[01.02] Date</th>\n",
       "      <th class=\"blank col0\" >&nbsp;</th>\n",
       "      <th class=\"blank col1\" >&nbsp;</th>\n",
       "      <th class=\"blank col2\" >&nbsp;</th>\n",
       "      <th class=\"blank col3\" >&nbsp;</th>\n",
       "    </tr>\n",
       "  </thead>\n",
       "  <tbody>\n",
       "    <tr>\n",
       "      <th id=\"T_6965e_level0_row0\" class=\"row_heading level0 row0\" >Already present</th>\n",
       "      <td id=\"T_6965e_row0_col0\" class=\"data row0 col0\" >23 <span style=\"color: grey\">(12.9%) </span></td>\n",
       "      <td id=\"T_6965e_row0_col1\" class=\"data row0 col1\" >8 <span style=\"color: grey\">(4.5%) </span></td>\n",
       "      <td id=\"T_6965e_row0_col2\" class=\"data row0 col2\" >1 <span style=\"color: grey\">(0.6%) </span></td>\n",
       "      <td id=\"T_6965e_row0_col3\" class=\"data row0 col3\" >32 <span style=\"color: grey\">(18.0%) </span></td>\n",
       "    </tr>\n",
       "    <tr>\n",
       "      <th id=\"T_6965e_level0_row1\" class=\"row_heading level0 row1\" >First occurrence</th>\n",
       "      <td id=\"T_6965e_row1_col0\" class=\"data row1 col0\" >110 <span style=\"color: grey\">(61.8%) </span></td>\n",
       "      <td id=\"T_6965e_row1_col1\" class=\"data row1 col1\" >34 <span style=\"color: grey\">(19.1%) </span></td>\n",
       "      <td id=\"T_6965e_row1_col2\" class=\"data row1 col2\" >2 <span style=\"color: grey\">(1.1%) </span></td>\n",
       "      <td id=\"T_6965e_row1_col3\" class=\"data row1 col3\" >146 <span style=\"color: grey\">(82.0%) </span></td>\n",
       "    </tr>\n",
       "    <tr>\n",
       "      <th id=\"T_6965e_level0_row2\" class=\"row_heading level0 row2\" >Total</th>\n",
       "      <td id=\"T_6965e_row2_col0\" class=\"data row2 col0\" >133 <span style=\"color: grey\">(74.7%) </span></td>\n",
       "      <td id=\"T_6965e_row2_col1\" class=\"data row2 col1\" >42 <span style=\"color: grey\">(23.6%) </span></td>\n",
       "      <td id=\"T_6965e_row2_col2\" class=\"data row2 col2\" >3 <span style=\"color: grey\">(1.7%) </span></td>\n",
       "      <td id=\"T_6965e_row2_col3\" class=\"data row2 col3\" >178 <span style=\"color: grey\">(100.0%) </span></td>\n",
       "    </tr>\n",
       "  </tbody>\n",
       "</table>\n"
      ],
      "text/plain": [
       "<pandas.io.formats.style.Styler at 0x30bfce2a0>"
      ]
     },
     "metadata": {},
     "output_type": "display_data"
    },
    {
     "data": {
      "text/html": [
       "<style type=\"text/css\">\n",
       "#T_b7ffb th:first-child {\n",
       "  min-width: 400px !important;\n",
       "  max-width: 400px !important;\n",
       "  white-space: nowrap;\n",
       "  overflow: hidden;\n",
       "}\n",
       "#T_b7ffb  td:first-child {\n",
       "  min-width: 400px !important;\n",
       "  max-width: 400px !important;\n",
       "  white-space: nowrap;\n",
       "  overflow: hidden;\n",
       "}\n",
       "#T_b7ffb_row0_col0 {\n",
       "  width: 10em;\n",
       "  background: linear-gradient(90deg, lightblue 14.4%, transparent 14.4%);\n",
       "  font-family: Courier;\n",
       "}\n",
       "#T_b7ffb_row0_col1 {\n",
       "  width: 10em;\n",
       "  background: linear-gradient(90deg, lightblue 16.7%, transparent 16.7%);\n",
       "  font-family: Courier;\n",
       "}\n",
       "#T_b7ffb_row0_col2 {\n",
       "  width: 10em;\n",
       "  background: linear-gradient(90deg, lightblue 33.3%, transparent 33.3%);\n",
       "  font-family: Courier;\n",
       "}\n",
       "#T_b7ffb_row0_col3 {\n",
       "  width: 10em;\n",
       "  background: linear-gradient(90deg, lightblue 15.3%, transparent 15.3%);\n",
       "  font-family: Courier;\n",
       "}\n",
       "#T_b7ffb_row1_col0 {\n",
       "  width: 10em;\n",
       "  background: linear-gradient(90deg, lightblue 85.6%, transparent 85.6%);\n",
       "  font-family: Courier;\n",
       "}\n",
       "#T_b7ffb_row1_col1 {\n",
       "  width: 10em;\n",
       "  background: linear-gradient(90deg, lightblue 83.3%, transparent 83.3%);\n",
       "  font-family: Courier;\n",
       "}\n",
       "#T_b7ffb_row1_col2 {\n",
       "  width: 10em;\n",
       "  background: linear-gradient(90deg, lightblue 66.7%, transparent 66.7%);\n",
       "  font-family: Courier;\n",
       "}\n",
       "#T_b7ffb_row1_col3 {\n",
       "  width: 10em;\n",
       "  background: linear-gradient(90deg, lightblue 84.7%, transparent 84.7%);\n",
       "  font-family: Courier;\n",
       "}\n",
       "#T_b7ffb_row2_col0, #T_b7ffb_row2_col1, #T_b7ffb_row2_col2, #T_b7ffb_row2_col3 {\n",
       "  width: 10em;\n",
       "  background: linear-gradient(90deg, lightblue 100.0%, transparent 100.0%);\n",
       "  font-family: Courier;\n",
       "}\n",
       "</style>\n",
       "<table id=\"T_b7ffb\">\n",
       "  <thead>\n",
       "    <tr>\n",
       "      <th class=\"index_name level0\" >[01.01] CTCAE</th>\n",
       "      <th id=\"T_b7ffb_level0_col0\" class=\"col_heading level0 col0\" >1</th>\n",
       "      <th id=\"T_b7ffb_level0_col1\" class=\"col_heading level0 col1\" >2</th>\n",
       "      <th id=\"T_b7ffb_level0_col2\" class=\"col_heading level0 col2\" >3</th>\n",
       "      <th id=\"T_b7ffb_level0_col3\" class=\"col_heading level0 col3\" >Total</th>\n",
       "    </tr>\n",
       "    <tr>\n",
       "      <th class=\"index_name level0\" >[01.03] Exercise-related</th>\n",
       "      <th class=\"blank col0\" >&nbsp;</th>\n",
       "      <th class=\"blank col1\" >&nbsp;</th>\n",
       "      <th class=\"blank col2\" >&nbsp;</th>\n",
       "      <th class=\"blank col3\" >&nbsp;</th>\n",
       "    </tr>\n",
       "  </thead>\n",
       "  <tbody>\n",
       "    <tr>\n",
       "      <th id=\"T_b7ffb_level0_row0\" class=\"row_heading level0 row0\" >No</th>\n",
       "      <td id=\"T_b7ffb_row0_col0\" class=\"data row0 col0\" >19 <span style=\"color: grey\">(10.7%) </span></td>\n",
       "      <td id=\"T_b7ffb_row0_col1\" class=\"data row0 col1\" >7 <span style=\"color: grey\">(4.0%) </span></td>\n",
       "      <td id=\"T_b7ffb_row0_col2\" class=\"data row0 col2\" >1 <span style=\"color: grey\">(0.6%) </span></td>\n",
       "      <td id=\"T_b7ffb_row0_col3\" class=\"data row0 col3\" >27 <span style=\"color: grey\">(15.3%) </span></td>\n",
       "    </tr>\n",
       "    <tr>\n",
       "      <th id=\"T_b7ffb_level0_row1\" class=\"row_heading level0 row1\" >Yes</th>\n",
       "      <td id=\"T_b7ffb_row1_col0\" class=\"data row1 col0\" >113 <span style=\"color: grey\">(63.8%) </span></td>\n",
       "      <td id=\"T_b7ffb_row1_col1\" class=\"data row1 col1\" >35 <span style=\"color: grey\">(19.8%) </span></td>\n",
       "      <td id=\"T_b7ffb_row1_col2\" class=\"data row1 col2\" >2 <span style=\"color: grey\">(1.1%) </span></td>\n",
       "      <td id=\"T_b7ffb_row1_col3\" class=\"data row1 col3\" >150 <span style=\"color: grey\">(84.7%) </span></td>\n",
       "    </tr>\n",
       "    <tr>\n",
       "      <th id=\"T_b7ffb_level0_row2\" class=\"row_heading level0 row2\" >Total</th>\n",
       "      <td id=\"T_b7ffb_row2_col0\" class=\"data row2 col0\" >132 <span style=\"color: grey\">(74.6%) </span></td>\n",
       "      <td id=\"T_b7ffb_row2_col1\" class=\"data row2 col1\" >42 <span style=\"color: grey\">(23.7%) </span></td>\n",
       "      <td id=\"T_b7ffb_row2_col2\" class=\"data row2 col2\" >3 <span style=\"color: grey\">(1.7%) </span></td>\n",
       "      <td id=\"T_b7ffb_row2_col3\" class=\"data row2 col3\" >177 <span style=\"color: grey\">(100.0%) </span></td>\n",
       "    </tr>\n",
       "  </tbody>\n",
       "</table>\n"
      ],
      "text/plain": [
       "<pandas.io.formats.style.Styler at 0x30d320e30>"
      ]
     },
     "metadata": {},
     "output_type": "display_data"
    },
    {
     "data": {
      "text/html": [
       "<style type=\"text/css\">\n",
       "#T_adc52 th:first-child {\n",
       "  min-width: 400px !important;\n",
       "  max-width: 400px !important;\n",
       "  white-space: nowrap;\n",
       "  overflow: hidden;\n",
       "}\n",
       "#T_adc52  td:first-child {\n",
       "  min-width: 400px !important;\n",
       "  max-width: 400px !important;\n",
       "  white-space: nowrap;\n",
       "  overflow: hidden;\n",
       "}\n",
       "#T_adc52_row0_col0, #T_adc52_row0_col1, #T_adc52_row1_col2, #T_adc52_row2_col1, #T_adc52_row2_col2, #T_adc52_row3_col1, #T_adc52_row3_col2, #T_adc52_row4_col2, #T_adc52_row5_col1, #T_adc52_row5_col2, #T_adc52_row6_col2, #T_adc52_row7_col2, #T_adc52_row9_col2, #T_adc52_row10_col1, #T_adc52_row10_col2, #T_adc52_row11_col1, #T_adc52_row11_col2, #T_adc52_row12_col2, #T_adc52_row13_col2, #T_adc52_row14_col2 {\n",
       "  width: 10em;\n",
       "  font-family: Courier;\n",
       "}\n",
       "#T_adc52_row0_col2, #T_adc52_row8_col2 {\n",
       "  width: 10em;\n",
       "  background: linear-gradient(90deg, lightblue 50.0%, transparent 50.0%);\n",
       "  font-family: Courier;\n",
       "}\n",
       "#T_adc52_row0_col3, #T_adc52_row3_col3, #T_adc52_row7_col3, #T_adc52_row10_col3 {\n",
       "  width: 10em;\n",
       "  background: linear-gradient(90deg, lightblue 0.9%, transparent 0.9%);\n",
       "  font-family: Courier;\n",
       "}\n",
       "#T_adc52_row1_col0 {\n",
       "  width: 10em;\n",
       "  background: linear-gradient(90deg, lightblue 17.3%, transparent 17.3%);\n",
       "  font-family: Courier;\n",
       "}\n",
       "#T_adc52_row1_col1, #T_adc52_row6_col1 {\n",
       "  width: 10em;\n",
       "  background: linear-gradient(90deg, lightblue 3.2%, transparent 3.2%);\n",
       "  font-family: Courier;\n",
       "}\n",
       "#T_adc52_row1_col3 {\n",
       "  width: 10em;\n",
       "  background: linear-gradient(90deg, lightblue 13.2%, transparent 13.2%);\n",
       "  font-family: Courier;\n",
       "}\n",
       "#T_adc52_row2_col0, #T_adc52_row6_col0, #T_adc52_row11_col0 {\n",
       "  width: 10em;\n",
       "  background: linear-gradient(90deg, lightblue 2.5%, transparent 2.5%);\n",
       "  font-family: Courier;\n",
       "}\n",
       "#T_adc52_row2_col3, #T_adc52_row4_col3, #T_adc52_row11_col3 {\n",
       "  width: 10em;\n",
       "  background: linear-gradient(90deg, lightblue 1.8%, transparent 1.8%);\n",
       "  font-family: Courier;\n",
       "}\n",
       "#T_adc52_row3_col0, #T_adc52_row10_col0 {\n",
       "  width: 10em;\n",
       "  background: linear-gradient(90deg, lightblue 1.2%, transparent 1.2%);\n",
       "  font-family: Courier;\n",
       "}\n",
       "#T_adc52_row4_col0 {\n",
       "  width: 10em;\n",
       "  background: linear-gradient(90deg, lightblue 1.9%, transparent 1.9%);\n",
       "  font-family: Courier;\n",
       "}\n",
       "#T_adc52_row4_col1, #T_adc52_row7_col1, #T_adc52_row9_col1 {\n",
       "  width: 10em;\n",
       "  background: linear-gradient(90deg, lightblue 1.6%, transparent 1.6%);\n",
       "  font-family: Courier;\n",
       "}\n",
       "#T_adc52_row5_col0, #T_adc52_row7_col0 {\n",
       "  width: 10em;\n",
       "  background: linear-gradient(90deg, lightblue 0.6%, transparent 0.6%);\n",
       "  font-family: Courier;\n",
       "}\n",
       "#T_adc52_row5_col3 {\n",
       "  width: 10em;\n",
       "  background: linear-gradient(90deg, lightblue 0.4%, transparent 0.4%);\n",
       "  font-family: Courier;\n",
       "}\n",
       "#T_adc52_row6_col3 {\n",
       "  width: 10em;\n",
       "  background: linear-gradient(90deg, lightblue 2.6%, transparent 2.6%);\n",
       "  font-family: Courier;\n",
       "}\n",
       "#T_adc52_row8_col0 {\n",
       "  width: 10em;\n",
       "  background: linear-gradient(90deg, lightblue 38.3%, transparent 38.3%);\n",
       "  font-family: Courier;\n",
       "}\n",
       "#T_adc52_row8_col1 {\n",
       "  width: 10em;\n",
       "  background: linear-gradient(90deg, lightblue 48.4%, transparent 48.4%);\n",
       "  font-family: Courier;\n",
       "}\n",
       "#T_adc52_row8_col3 {\n",
       "  width: 10em;\n",
       "  background: linear-gradient(90deg, lightblue 41.2%, transparent 41.2%);\n",
       "  font-family: Courier;\n",
       "}\n",
       "#T_adc52_row9_col0 {\n",
       "  width: 10em;\n",
       "  background: linear-gradient(90deg, lightblue 3.7%, transparent 3.7%);\n",
       "  font-family: Courier;\n",
       "}\n",
       "#T_adc52_row9_col3 {\n",
       "  width: 10em;\n",
       "  background: linear-gradient(90deg, lightblue 3.1%, transparent 3.1%);\n",
       "  font-family: Courier;\n",
       "}\n",
       "#T_adc52_row12_col0, #T_adc52_row13_col0 {\n",
       "  width: 10em;\n",
       "  background: linear-gradient(90deg, lightblue 4.3%, transparent 4.3%);\n",
       "  font-family: Courier;\n",
       "}\n",
       "#T_adc52_row12_col1 {\n",
       "  width: 10em;\n",
       "  background: linear-gradient(90deg, lightblue 12.9%, transparent 12.9%);\n",
       "  font-family: Courier;\n",
       "}\n",
       "#T_adc52_row12_col3 {\n",
       "  width: 10em;\n",
       "  background: linear-gradient(90deg, lightblue 6.6%, transparent 6.6%);\n",
       "  font-family: Courier;\n",
       "}\n",
       "#T_adc52_row13_col1 {\n",
       "  width: 10em;\n",
       "  background: linear-gradient(90deg, lightblue 21.0%, transparent 21.0%);\n",
       "  font-family: Courier;\n",
       "}\n",
       "#T_adc52_row13_col3 {\n",
       "  width: 10em;\n",
       "  background: linear-gradient(90deg, lightblue 8.8%, transparent 8.8%);\n",
       "  font-family: Courier;\n",
       "}\n",
       "#T_adc52_row14_col0 {\n",
       "  width: 10em;\n",
       "  background: linear-gradient(90deg, lightblue 19.1%, transparent 19.1%);\n",
       "  font-family: Courier;\n",
       "}\n",
       "#T_adc52_row14_col1 {\n",
       "  width: 10em;\n",
       "  background: linear-gradient(90deg, lightblue 6.5%, transparent 6.5%);\n",
       "  font-family: Courier;\n",
       "}\n",
       "#T_adc52_row14_col3 {\n",
       "  width: 10em;\n",
       "  background: linear-gradient(90deg, lightblue 15.4%, transparent 15.4%);\n",
       "  font-family: Courier;\n",
       "}\n",
       "#T_adc52_row15_col0, #T_adc52_row15_col1, #T_adc52_row15_col2, #T_adc52_row15_col3 {\n",
       "  width: 10em;\n",
       "  background: linear-gradient(90deg, lightblue 100.0%, transparent 100.0%);\n",
       "  font-family: Courier;\n",
       "}\n",
       "</style>\n",
       "<table id=\"T_adc52\">\n",
       "  <thead>\n",
       "    <tr>\n",
       "      <th class=\"index_name level0\" >[01.01] CTCAE</th>\n",
       "      <th id=\"T_adc52_level0_col0\" class=\"col_heading level0 col0\" >1</th>\n",
       "      <th id=\"T_adc52_level0_col1\" class=\"col_heading level0 col1\" >2</th>\n",
       "      <th id=\"T_adc52_level0_col2\" class=\"col_heading level0 col2\" >3</th>\n",
       "      <th id=\"T_adc52_level0_col3\" class=\"col_heading level0 col3\" >Total</th>\n",
       "    </tr>\n",
       "    <tr>\n",
       "      <th class=\"index_name level0\" >[02.02] Type</th>\n",
       "      <th class=\"blank col0\" >&nbsp;</th>\n",
       "      <th class=\"blank col1\" >&nbsp;</th>\n",
       "      <th class=\"blank col2\" >&nbsp;</th>\n",
       "      <th class=\"blank col3\" >&nbsp;</th>\n",
       "    </tr>\n",
       "  </thead>\n",
       "  <tbody>\n",
       "    <tr>\n",
       "      <th id=\"T_adc52_level0_row0\" class=\"row_heading level0 row0\" >Bone injuries</th>\n",
       "      <td id=\"T_adc52_row0_col0\" class=\"data row0 col0\" ><span style=\"color: grey\">0 </span></td>\n",
       "      <td id=\"T_adc52_row0_col1\" class=\"data row0 col1\" ><span style=\"color: grey\">0 </span></td>\n",
       "      <td id=\"T_adc52_row0_col2\" class=\"data row0 col2\" >2 <span style=\"color: grey\">(0.9%) </span></td>\n",
       "      <td id=\"T_adc52_row0_col3\" class=\"data row0 col3\" >2 <span style=\"color: grey\">(0.9%) </span></td>\n",
       "    </tr>\n",
       "    <tr>\n",
       "      <th id=\"T_adc52_level0_row1\" class=\"row_heading level0 row1\" >Circulatory problems</th>\n",
       "      <td id=\"T_adc52_row1_col0\" class=\"data row1 col0\" >28 <span style=\"color: grey\">(12.3%) </span></td>\n",
       "      <td id=\"T_adc52_row1_col1\" class=\"data row1 col1\" >2 <span style=\"color: grey\">(0.9%) </span></td>\n",
       "      <td id=\"T_adc52_row1_col2\" class=\"data row1 col2\" ><span style=\"color: grey\">0 </span></td>\n",
       "      <td id=\"T_adc52_row1_col3\" class=\"data row1 col3\" >30 <span style=\"color: grey\">(13.2%) </span></td>\n",
       "    </tr>\n",
       "    <tr>\n",
       "      <th id=\"T_adc52_level0_row2\" class=\"row_heading level0 row2\" >Coughing fit</th>\n",
       "      <td id=\"T_adc52_row2_col0\" class=\"data row2 col0\" >4 <span style=\"color: grey\">(1.8%) </span></td>\n",
       "      <td id=\"T_adc52_row2_col1\" class=\"data row2 col1\" ><span style=\"color: grey\">0 </span></td>\n",
       "      <td id=\"T_adc52_row2_col2\" class=\"data row2 col2\" ><span style=\"color: grey\">0 </span></td>\n",
       "      <td id=\"T_adc52_row2_col3\" class=\"data row2 col3\" >4 <span style=\"color: grey\">(1.8%) </span></td>\n",
       "    </tr>\n",
       "    <tr>\n",
       "      <th id=\"T_adc52_level0_row3\" class=\"row_heading level0 row3\" >Enuresis</th>\n",
       "      <td id=\"T_adc52_row3_col0\" class=\"data row3 col0\" >2 <span style=\"color: grey\">(0.9%) </span></td>\n",
       "      <td id=\"T_adc52_row3_col1\" class=\"data row3 col1\" ><span style=\"color: grey\">0 </span></td>\n",
       "      <td id=\"T_adc52_row3_col2\" class=\"data row3 col2\" ><span style=\"color: grey\">0 </span></td>\n",
       "      <td id=\"T_adc52_row3_col3\" class=\"data row3 col3\" >2 <span style=\"color: grey\">(0.9%) </span></td>\n",
       "    </tr>\n",
       "    <tr>\n",
       "      <th id=\"T_adc52_level0_row4\" class=\"row_heading level0 row4\" >Itching</th>\n",
       "      <td id=\"T_adc52_row4_col0\" class=\"data row4 col0\" >3 <span style=\"color: grey\">(1.3%) </span></td>\n",
       "      <td id=\"T_adc52_row4_col1\" class=\"data row4 col1\" >1 <span style=\"color: grey\">(0.4%) </span></td>\n",
       "      <td id=\"T_adc52_row4_col2\" class=\"data row4 col2\" ><span style=\"color: grey\">0 </span></td>\n",
       "      <td id=\"T_adc52_row4_col3\" class=\"data row4 col3\" >4 <span style=\"color: grey\">(1.8%) </span></td>\n",
       "    </tr>\n",
       "    <tr>\n",
       "      <th id=\"T_adc52_level0_row5\" class=\"row_heading level0 row5\" >Muscle cramps</th>\n",
       "      <td id=\"T_adc52_row5_col0\" class=\"data row5 col0\" >1 <span style=\"color: grey\">(0.4%) </span></td>\n",
       "      <td id=\"T_adc52_row5_col1\" class=\"data row5 col1\" ><span style=\"color: grey\">0 </span></td>\n",
       "      <td id=\"T_adc52_row5_col2\" class=\"data row5 col2\" ><span style=\"color: grey\">0 </span></td>\n",
       "      <td id=\"T_adc52_row5_col3\" class=\"data row5 col3\" >1 <span style=\"color: grey\">(0.4%) </span></td>\n",
       "    </tr>\n",
       "    <tr>\n",
       "      <th id=\"T_adc52_level0_row6\" class=\"row_heading level0 row6\" >Muscle soreness</th>\n",
       "      <td id=\"T_adc52_row6_col0\" class=\"data row6 col0\" >4 <span style=\"color: grey\">(1.8%) </span></td>\n",
       "      <td id=\"T_adc52_row6_col1\" class=\"data row6 col1\" >2 <span style=\"color: grey\">(0.9%) </span></td>\n",
       "      <td id=\"T_adc52_row6_col2\" class=\"data row6 col2\" ><span style=\"color: grey\">0 </span></td>\n",
       "      <td id=\"T_adc52_row6_col3\" class=\"data row6 col3\" >6 <span style=\"color: grey\">(2.6%) </span></td>\n",
       "    </tr>\n",
       "    <tr>\n",
       "      <th id=\"T_adc52_level0_row7\" class=\"row_heading level0 row7\" >Nosebleed</th>\n",
       "      <td id=\"T_adc52_row7_col0\" class=\"data row7 col0\" >1 <span style=\"color: grey\">(0.4%) </span></td>\n",
       "      <td id=\"T_adc52_row7_col1\" class=\"data row7 col1\" >1 <span style=\"color: grey\">(0.4%) </span></td>\n",
       "      <td id=\"T_adc52_row7_col2\" class=\"data row7 col2\" ><span style=\"color: grey\">0 </span></td>\n",
       "      <td id=\"T_adc52_row7_col3\" class=\"data row7 col3\" >2 <span style=\"color: grey\">(0.9%) </span></td>\n",
       "    </tr>\n",
       "    <tr>\n",
       "      <th id=\"T_adc52_level0_row8\" class=\"row_heading level0 row8\" >Pain</th>\n",
       "      <td id=\"T_adc52_row8_col0\" class=\"data row8 col0\" >62 <span style=\"color: grey\">(27.2%) </span></td>\n",
       "      <td id=\"T_adc52_row8_col1\" class=\"data row8 col1\" >30 <span style=\"color: grey\">(13.2%) </span></td>\n",
       "      <td id=\"T_adc52_row8_col2\" class=\"data row8 col2\" >2 <span style=\"color: grey\">(0.9%) </span></td>\n",
       "      <td id=\"T_adc52_row8_col3\" class=\"data row8 col3\" >94 <span style=\"color: grey\">(41.2%) </span></td>\n",
       "    </tr>\n",
       "    <tr>\n",
       "      <th id=\"T_adc52_level0_row9\" class=\"row_heading level0 row9\" >Psychological stress reaction</th>\n",
       "      <td id=\"T_adc52_row9_col0\" class=\"data row9 col0\" >6 <span style=\"color: grey\">(2.6%) </span></td>\n",
       "      <td id=\"T_adc52_row9_col1\" class=\"data row9 col1\" >1 <span style=\"color: grey\">(0.4%) </span></td>\n",
       "      <td id=\"T_adc52_row9_col2\" class=\"data row9 col2\" ><span style=\"color: grey\">0 </span></td>\n",
       "      <td id=\"T_adc52_row9_col3\" class=\"data row9 col3\" >7 <span style=\"color: grey\">(3.1%) </span></td>\n",
       "    </tr>\n",
       "    <tr>\n",
       "      <th id=\"T_adc52_level0_row10\" class=\"row_heading level0 row10\" >Schmerzhafter Spontaneous painful bowel movement</th>\n",
       "      <td id=\"T_adc52_row10_col0\" class=\"data row10 col0\" >2 <span style=\"color: grey\">(0.9%) </span></td>\n",
       "      <td id=\"T_adc52_row10_col1\" class=\"data row10 col1\" ><span style=\"color: grey\">0 </span></td>\n",
       "      <td id=\"T_adc52_row10_col2\" class=\"data row10 col2\" ><span style=\"color: grey\">0 </span></td>\n",
       "      <td id=\"T_adc52_row10_col3\" class=\"data row10 col3\" >2 <span style=\"color: grey\">(0.9%) </span></td>\n",
       "    </tr>\n",
       "    <tr>\n",
       "      <th id=\"T_adc52_level0_row11\" class=\"row_heading level0 row11\" >Severe exhaustion</th>\n",
       "      <td id=\"T_adc52_row11_col0\" class=\"data row11 col0\" >4 <span style=\"color: grey\">(1.8%) </span></td>\n",
       "      <td id=\"T_adc52_row11_col1\" class=\"data row11 col1\" ><span style=\"color: grey\">0 </span></td>\n",
       "      <td id=\"T_adc52_row11_col2\" class=\"data row11 col2\" ><span style=\"color: grey\">0 </span></td>\n",
       "      <td id=\"T_adc52_row11_col3\" class=\"data row11 col3\" >4 <span style=\"color: grey\">(1.8%) </span></td>\n",
       "    </tr>\n",
       "    <tr>\n",
       "      <th id=\"T_adc52_level0_row12\" class=\"row_heading level0 row12\" >Superficial injuries</th>\n",
       "      <td id=\"T_adc52_row12_col0\" class=\"data row12 col0\" >7 <span style=\"color: grey\">(3.1%) </span></td>\n",
       "      <td id=\"T_adc52_row12_col1\" class=\"data row12 col1\" >8 <span style=\"color: grey\">(3.5%) </span></td>\n",
       "      <td id=\"T_adc52_row12_col2\" class=\"data row12 col2\" ><span style=\"color: grey\">0 </span></td>\n",
       "      <td id=\"T_adc52_row12_col3\" class=\"data row12 col3\" >15 <span style=\"color: grey\">(6.6%) </span></td>\n",
       "    </tr>\n",
       "    <tr>\n",
       "      <th id=\"T_adc52_level0_row13\" class=\"row_heading level0 row13\" >Weichteil-/Gewebeverletzung</th>\n",
       "      <td id=\"T_adc52_row13_col0\" class=\"data row13 col0\" >7 <span style=\"color: grey\">(3.1%) </span></td>\n",
       "      <td id=\"T_adc52_row13_col1\" class=\"data row13 col1\" >13 <span style=\"color: grey\">(5.7%) </span></td>\n",
       "      <td id=\"T_adc52_row13_col2\" class=\"data row13 col2\" ><span style=\"color: grey\">0 </span></td>\n",
       "      <td id=\"T_adc52_row13_col3\" class=\"data row13 col3\" >20 <span style=\"color: grey\">(8.8%) </span></td>\n",
       "    </tr>\n",
       "    <tr>\n",
       "      <th id=\"T_adc52_level0_row14\" class=\"row_heading level0 row14\" >Übelkeit / Erbrechen</th>\n",
       "      <td id=\"T_adc52_row14_col0\" class=\"data row14 col0\" >31 <span style=\"color: grey\">(13.6%) </span></td>\n",
       "      <td id=\"T_adc52_row14_col1\" class=\"data row14 col1\" >4 <span style=\"color: grey\">(1.8%) </span></td>\n",
       "      <td id=\"T_adc52_row14_col2\" class=\"data row14 col2\" ><span style=\"color: grey\">0 </span></td>\n",
       "      <td id=\"T_adc52_row14_col3\" class=\"data row14 col3\" >35 <span style=\"color: grey\">(15.4%) </span></td>\n",
       "    </tr>\n",
       "    <tr>\n",
       "      <th id=\"T_adc52_level0_row15\" class=\"row_heading level0 row15\" >Total</th>\n",
       "      <td id=\"T_adc52_row15_col0\" class=\"data row15 col0\" >162 <span style=\"color: grey\">(71.1%) </span></td>\n",
       "      <td id=\"T_adc52_row15_col1\" class=\"data row15 col1\" >62 <span style=\"color: grey\">(27.2%) </span></td>\n",
       "      <td id=\"T_adc52_row15_col2\" class=\"data row15 col2\" >4 <span style=\"color: grey\">(1.8%) </span></td>\n",
       "      <td id=\"T_adc52_row15_col3\" class=\"data row15 col3\" >228 <span style=\"color: grey\">(100.0%) </span></td>\n",
       "    </tr>\n",
       "  </tbody>\n",
       "</table>\n"
      ],
      "text/plain": [
       "<pandas.io.formats.style.Styler at 0x30d1dfce0>"
      ]
     },
     "metadata": {},
     "output_type": "display_data"
    },
    {
     "data": {
      "text/html": [
       "<style type=\"text/css\">\n",
       "#T_dc3d2 th:first-child {\n",
       "  min-width: 400px !important;\n",
       "  max-width: 400px !important;\n",
       "  white-space: nowrap;\n",
       "  overflow: hidden;\n",
       "}\n",
       "#T_dc3d2  td:first-child {\n",
       "  min-width: 400px !important;\n",
       "  max-width: 400px !important;\n",
       "  white-space: nowrap;\n",
       "  overflow: hidden;\n",
       "}\n",
       "#T_dc3d2_row0_col0 {\n",
       "  width: 10em;\n",
       "  background: linear-gradient(90deg, lightblue 6.4%, transparent 6.4%);\n",
       "  font-family: Courier;\n",
       "}\n",
       "#T_dc3d2_row0_col1 {\n",
       "  width: 10em;\n",
       "  background: linear-gradient(90deg, lightblue 13.3%, transparent 13.3%);\n",
       "  font-family: Courier;\n",
       "}\n",
       "#T_dc3d2_row0_col2, #T_dc3d2_row7_col2 {\n",
       "  width: 10em;\n",
       "  background: linear-gradient(90deg, lightblue 25.0%, transparent 25.0%);\n",
       "  font-family: Courier;\n",
       "}\n",
       "#T_dc3d2_row0_col3 {\n",
       "  width: 10em;\n",
       "  background: linear-gradient(90deg, lightblue 8.1%, transparent 8.1%);\n",
       "  font-family: Courier;\n",
       "}\n",
       "#T_dc3d2_row1_col0 {\n",
       "  width: 10em;\n",
       "  background: linear-gradient(90deg, lightblue 2.3%, transparent 2.3%);\n",
       "  font-family: Courier;\n",
       "}\n",
       "#T_dc3d2_row1_col1 {\n",
       "  width: 10em;\n",
       "  background: linear-gradient(90deg, lightblue 1.7%, transparent 1.7%);\n",
       "  font-family: Courier;\n",
       "}\n",
       "#T_dc3d2_row1_col2, #T_dc3d2_row2_col2, #T_dc3d2_row3_col2, #T_dc3d2_row4_col1, #T_dc3d2_row4_col2, #T_dc3d2_row6_col2 {\n",
       "  width: 10em;\n",
       "  font-family: Courier;\n",
       "}\n",
       "#T_dc3d2_row1_col3 {\n",
       "  width: 10em;\n",
       "  background: linear-gradient(90deg, lightblue 2.1%, transparent 2.1%);\n",
       "  font-family: Courier;\n",
       "}\n",
       "#T_dc3d2_row2_col0, #T_dc3d2_row2_col3 {\n",
       "  width: 10em;\n",
       "  background: linear-gradient(90deg, lightblue 3.2%, transparent 3.2%);\n",
       "  font-family: Courier;\n",
       "}\n",
       "#T_dc3d2_row2_col1, #T_dc3d2_row6_col1 {\n",
       "  width: 10em;\n",
       "  background: linear-gradient(90deg, lightblue 3.3%, transparent 3.3%);\n",
       "  font-family: Courier;\n",
       "}\n",
       "#T_dc3d2_row3_col0 {\n",
       "  width: 10em;\n",
       "  background: linear-gradient(90deg, lightblue 30.5%, transparent 30.5%);\n",
       "  font-family: Courier;\n",
       "}\n",
       "#T_dc3d2_row3_col1 {\n",
       "  width: 10em;\n",
       "  background: linear-gradient(90deg, lightblue 18.3%, transparent 18.3%);\n",
       "  font-family: Courier;\n",
       "}\n",
       "#T_dc3d2_row3_col3 {\n",
       "  width: 10em;\n",
       "  background: linear-gradient(90deg, lightblue 27.5%, transparent 27.5%);\n",
       "  font-family: Courier;\n",
       "}\n",
       "#T_dc3d2_row4_col0 {\n",
       "  width: 10em;\n",
       "  background: linear-gradient(90deg, lightblue 0.5%, transparent 0.5%);\n",
       "  font-family: Courier;\n",
       "}\n",
       "#T_dc3d2_row4_col3 {\n",
       "  width: 10em;\n",
       "  background: linear-gradient(90deg, lightblue 0.4%, transparent 0.4%);\n",
       "  font-family: Courier;\n",
       "}\n",
       "#T_dc3d2_row5_col0 {\n",
       "  width: 10em;\n",
       "  background: linear-gradient(90deg, lightblue 42.7%, transparent 42.7%);\n",
       "  font-family: Courier;\n",
       "}\n",
       "#T_dc3d2_row5_col1 {\n",
       "  width: 10em;\n",
       "  background: linear-gradient(90deg, lightblue 28.3%, transparent 28.3%);\n",
       "  font-family: Courier;\n",
       "}\n",
       "#T_dc3d2_row5_col2 {\n",
       "  width: 10em;\n",
       "  background: linear-gradient(90deg, lightblue 50.0%, transparent 50.0%);\n",
       "  font-family: Courier;\n",
       "}\n",
       "#T_dc3d2_row5_col3 {\n",
       "  width: 10em;\n",
       "  background: linear-gradient(90deg, lightblue 39.8%, transparent 39.8%);\n",
       "  font-family: Courier;\n",
       "}\n",
       "#T_dc3d2_row6_col0 {\n",
       "  width: 10em;\n",
       "  background: linear-gradient(90deg, lightblue 5.0%, transparent 5.0%);\n",
       "  font-family: Courier;\n",
       "}\n",
       "#T_dc3d2_row6_col3 {\n",
       "  width: 10em;\n",
       "  background: linear-gradient(90deg, lightblue 4.6%, transparent 4.6%);\n",
       "  font-family: Courier;\n",
       "}\n",
       "#T_dc3d2_row7_col0 {\n",
       "  width: 10em;\n",
       "  background: linear-gradient(90deg, lightblue 9.5%, transparent 9.5%);\n",
       "  font-family: Courier;\n",
       "}\n",
       "#T_dc3d2_row7_col1 {\n",
       "  width: 10em;\n",
       "  background: linear-gradient(90deg, lightblue 31.7%, transparent 31.7%);\n",
       "  font-family: Courier;\n",
       "}\n",
       "#T_dc3d2_row7_col3 {\n",
       "  width: 10em;\n",
       "  background: linear-gradient(90deg, lightblue 14.4%, transparent 14.4%);\n",
       "  font-family: Courier;\n",
       "}\n",
       "#T_dc3d2_row8_col0, #T_dc3d2_row8_col1, #T_dc3d2_row8_col2, #T_dc3d2_row8_col3 {\n",
       "  width: 10em;\n",
       "  background: linear-gradient(90deg, lightblue 100.0%, transparent 100.0%);\n",
       "  font-family: Courier;\n",
       "}\n",
       "</style>\n",
       "<table id=\"T_dc3d2\">\n",
       "  <thead>\n",
       "    <tr>\n",
       "      <th class=\"index_name level0\" >[01.01] CTCAE</th>\n",
       "      <th id=\"T_dc3d2_level0_col0\" class=\"col_heading level0 col0\" >1</th>\n",
       "      <th id=\"T_dc3d2_level0_col1\" class=\"col_heading level0 col1\" >2</th>\n",
       "      <th id=\"T_dc3d2_level0_col2\" class=\"col_heading level0 col2\" >3</th>\n",
       "      <th id=\"T_dc3d2_level0_col3\" class=\"col_heading level0 col3\" >Total</th>\n",
       "    </tr>\n",
       "    <tr>\n",
       "      <th class=\"index_name level0\" >[02.03] Trigger</th>\n",
       "      <th class=\"blank col0\" >&nbsp;</th>\n",
       "      <th class=\"blank col1\" >&nbsp;</th>\n",
       "      <th class=\"blank col2\" >&nbsp;</th>\n",
       "      <th class=\"blank col3\" >&nbsp;</th>\n",
       "    </tr>\n",
       "  </thead>\n",
       "  <tbody>\n",
       "    <tr>\n",
       "      <th id=\"T_dc3d2_level0_row0\" class=\"row_heading level0 row0\" >Coordination problems</th>\n",
       "      <td id=\"T_dc3d2_row0_col0\" class=\"data row0 col0\" >14 <span style=\"color: grey\">(4.9%) </span></td>\n",
       "      <td id=\"T_dc3d2_row0_col1\" class=\"data row0 col1\" >8 <span style=\"color: grey\">(2.8%) </span></td>\n",
       "      <td id=\"T_dc3d2_row0_col2\" class=\"data row0 col2\" >1 <span style=\"color: grey\">(0.4%) </span></td>\n",
       "      <td id=\"T_dc3d2_row0_col3\" class=\"data row0 col3\" >23 <span style=\"color: grey\">(8.1%) </span></td>\n",
       "    </tr>\n",
       "    <tr>\n",
       "      <th id=\"T_dc3d2_level0_row1\" class=\"row_heading level0 row1\" >Environmental conditions</th>\n",
       "      <td id=\"T_dc3d2_row1_col0\" class=\"data row1 col0\" >5 <span style=\"color: grey\">(1.8%) </span></td>\n",
       "      <td id=\"T_dc3d2_row1_col1\" class=\"data row1 col1\" >1 <span style=\"color: grey\">(0.4%) </span></td>\n",
       "      <td id=\"T_dc3d2_row1_col2\" class=\"data row1 col2\" ><span style=\"color: grey\">0 </span></td>\n",
       "      <td id=\"T_dc3d2_row1_col3\" class=\"data row1 col3\" >6 <span style=\"color: grey\">(2.1%) </span></td>\n",
       "    </tr>\n",
       "    <tr>\n",
       "      <th id=\"T_dc3d2_level0_row2\" class=\"row_heading level0 row2\" >Kollision</th>\n",
       "      <td id=\"T_dc3d2_row2_col0\" class=\"data row2 col0\" >7 <span style=\"color: grey\">(2.5%) </span></td>\n",
       "      <td id=\"T_dc3d2_row2_col1\" class=\"data row2 col1\" >2 <span style=\"color: grey\">(0.7%) </span></td>\n",
       "      <td id=\"T_dc3d2_row2_col2\" class=\"data row2 col2\" ><span style=\"color: grey\">0 </span></td>\n",
       "      <td id=\"T_dc3d2_row2_col3\" class=\"data row2 col3\" >9 <span style=\"color: grey\">(3.2%) </span></td>\n",
       "    </tr>\n",
       "    <tr>\n",
       "      <th id=\"T_dc3d2_level0_row3\" class=\"row_heading level0 row3\" >Medical therapy</th>\n",
       "      <td id=\"T_dc3d2_row3_col0\" class=\"data row3 col0\" >67 <span style=\"color: grey\">(23.6%) </span></td>\n",
       "      <td id=\"T_dc3d2_row3_col1\" class=\"data row3 col1\" >11 <span style=\"color: grey\">(3.9%) </span></td>\n",
       "      <td id=\"T_dc3d2_row3_col2\" class=\"data row3 col2\" ><span style=\"color: grey\">0 </span></td>\n",
       "      <td id=\"T_dc3d2_row3_col3\" class=\"data row3 col3\" >78 <span style=\"color: grey\">(27.5%) </span></td>\n",
       "    </tr>\n",
       "    <tr>\n",
       "      <th id=\"T_dc3d2_level0_row4\" class=\"row_heading level0 row4\" >Other</th>\n",
       "      <td id=\"T_dc3d2_row4_col0\" class=\"data row4 col0\" >1 <span style=\"color: grey\">(0.4%) </span></td>\n",
       "      <td id=\"T_dc3d2_row4_col1\" class=\"data row4 col1\" ><span style=\"color: grey\">0 </span></td>\n",
       "      <td id=\"T_dc3d2_row4_col2\" class=\"data row4 col2\" ><span style=\"color: grey\">0 </span></td>\n",
       "      <td id=\"T_dc3d2_row4_col3\" class=\"data row4 col3\" >1 <span style=\"color: grey\">(0.4%) </span></td>\n",
       "    </tr>\n",
       "    <tr>\n",
       "      <th id=\"T_dc3d2_level0_row5\" class=\"row_heading level0 row5\" >Physical strain</th>\n",
       "      <td id=\"T_dc3d2_row5_col0\" class=\"data row5 col0\" >94 <span style=\"color: grey\">(33.1%) </span></td>\n",
       "      <td id=\"T_dc3d2_row5_col1\" class=\"data row5 col1\" >17 <span style=\"color: grey\">(6.0%) </span></td>\n",
       "      <td id=\"T_dc3d2_row5_col2\" class=\"data row5 col2\" >2 <span style=\"color: grey\">(0.7%) </span></td>\n",
       "      <td id=\"T_dc3d2_row5_col3\" class=\"data row5 col3\" >113 <span style=\"color: grey\">(39.8%) </span></td>\n",
       "    </tr>\n",
       "    <tr>\n",
       "      <th id=\"T_dc3d2_level0_row6\" class=\"row_heading level0 row6\" >Psychological strain</th>\n",
       "      <td id=\"T_dc3d2_row6_col0\" class=\"data row6 col0\" >11 <span style=\"color: grey\">(3.9%) </span></td>\n",
       "      <td id=\"T_dc3d2_row6_col1\" class=\"data row6 col1\" >2 <span style=\"color: grey\">(0.7%) </span></td>\n",
       "      <td id=\"T_dc3d2_row6_col2\" class=\"data row6 col2\" ><span style=\"color: grey\">0 </span></td>\n",
       "      <td id=\"T_dc3d2_row6_col3\" class=\"data row6 col3\" >13 <span style=\"color: grey\">(4.6%) </span></td>\n",
       "    </tr>\n",
       "    <tr>\n",
       "      <th id=\"T_dc3d2_level0_row7\" class=\"row_heading level0 row7\" >Sturzereignis</th>\n",
       "      <td id=\"T_dc3d2_row7_col0\" class=\"data row7 col0\" >21 <span style=\"color: grey\">(7.4%) </span></td>\n",
       "      <td id=\"T_dc3d2_row7_col1\" class=\"data row7 col1\" >19 <span style=\"color: grey\">(6.7%) </span></td>\n",
       "      <td id=\"T_dc3d2_row7_col2\" class=\"data row7 col2\" >1 <span style=\"color: grey\">(0.4%) </span></td>\n",
       "      <td id=\"T_dc3d2_row7_col3\" class=\"data row7 col3\" >41 <span style=\"color: grey\">(14.4%) </span></td>\n",
       "    </tr>\n",
       "    <tr>\n",
       "      <th id=\"T_dc3d2_level0_row8\" class=\"row_heading level0 row8\" >Total</th>\n",
       "      <td id=\"T_dc3d2_row8_col0\" class=\"data row8 col0\" >220 <span style=\"color: grey\">(77.5%) </span></td>\n",
       "      <td id=\"T_dc3d2_row8_col1\" class=\"data row8 col1\" >60 <span style=\"color: grey\">(21.1%) </span></td>\n",
       "      <td id=\"T_dc3d2_row8_col2\" class=\"data row8 col2\" >4 <span style=\"color: grey\">(1.4%) </span></td>\n",
       "      <td id=\"T_dc3d2_row8_col3\" class=\"data row8 col3\" >284 <span style=\"color: grey\">(100.0%) </span></td>\n",
       "    </tr>\n",
       "  </tbody>\n",
       "</table>\n"
      ],
      "text/plain": [
       "<pandas.io.formats.style.Styler at 0x1045ff620>"
      ]
     },
     "metadata": {},
     "output_type": "display_data"
    },
    {
     "data": {
      "text/html": [
       "<style type=\"text/css\">\n",
       "#T_58df7 th:first-child {\n",
       "  min-width: 400px !important;\n",
       "  max-width: 400px !important;\n",
       "  white-space: nowrap;\n",
       "  overflow: hidden;\n",
       "}\n",
       "#T_58df7  td:first-child {\n",
       "  min-width: 400px !important;\n",
       "  max-width: 400px !important;\n",
       "  white-space: nowrap;\n",
       "  overflow: hidden;\n",
       "}\n",
       "#T_58df7_row0_col0, #T_58df7_row1_col0 {\n",
       "  width: 10em;\n",
       "  background: linear-gradient(90deg, lightblue 5.1%, transparent 5.1%);\n",
       "  font-family: Courier;\n",
       "}\n",
       "#T_58df7_row0_col1 {\n",
       "  width: 10em;\n",
       "  background: linear-gradient(90deg, lightblue 8.7%, transparent 8.7%);\n",
       "  font-family: Courier;\n",
       "}\n",
       "#T_58df7_row0_col2, #T_58df7_row1_col2, #T_58df7_row2_col2, #T_58df7_row3_col2, #T_58df7_row4_col1, #T_58df7_row4_col2, #T_58df7_row6_col2, #T_58df7_row7_col2, #T_58df7_row8_col1, #T_58df7_row8_col2, #T_58df7_row9_col0, #T_58df7_row9_col2, #T_58df7_row11_col2 {\n",
       "  width: 10em;\n",
       "  font-family: Courier;\n",
       "}\n",
       "#T_58df7_row0_col3, #T_58df7_row11_col3 {\n",
       "  width: 10em;\n",
       "  background: linear-gradient(90deg, lightblue 5.9%, transparent 5.9%);\n",
       "  font-family: Courier;\n",
       "}\n",
       "#T_58df7_row1_col1 {\n",
       "  width: 10em;\n",
       "  background: linear-gradient(90deg, lightblue 6.5%, transparent 6.5%);\n",
       "  font-family: Courier;\n",
       "}\n",
       "#T_58df7_row1_col3 {\n",
       "  width: 10em;\n",
       "  background: linear-gradient(90deg, lightblue 5.4%, transparent 5.4%);\n",
       "  font-family: Courier;\n",
       "}\n",
       "#T_58df7_row2_col0, #T_58df7_row11_col0 {\n",
       "  width: 10em;\n",
       "  background: linear-gradient(90deg, lightblue 3.6%, transparent 3.6%);\n",
       "  font-family: Courier;\n",
       "}\n",
       "#T_58df7_row2_col1, #T_58df7_row5_col1 {\n",
       "  width: 10em;\n",
       "  background: linear-gradient(90deg, lightblue 4.3%, transparent 4.3%);\n",
       "  font-family: Courier;\n",
       "}\n",
       "#T_58df7_row2_col3 {\n",
       "  width: 10em;\n",
       "  background: linear-gradient(90deg, lightblue 3.8%, transparent 3.8%);\n",
       "  font-family: Courier;\n",
       "}\n",
       "#T_58df7_row3_col0 {\n",
       "  width: 10em;\n",
       "  background: linear-gradient(90deg, lightblue 2.9%, transparent 2.9%);\n",
       "  font-family: Courier;\n",
       "}\n",
       "#T_58df7_row3_col1, #T_58df7_row9_col1 {\n",
       "  width: 10em;\n",
       "  background: linear-gradient(90deg, lightblue 2.2%, transparent 2.2%);\n",
       "  font-family: Courier;\n",
       "}\n",
       "#T_58df7_row3_col3 {\n",
       "  width: 10em;\n",
       "  background: linear-gradient(90deg, lightblue 2.7%, transparent 2.7%);\n",
       "  font-family: Courier;\n",
       "}\n",
       "#T_58df7_row4_col0, #T_58df7_row8_col0 {\n",
       "  width: 10em;\n",
       "  background: linear-gradient(90deg, lightblue 1.5%, transparent 1.5%);\n",
       "  font-family: Courier;\n",
       "}\n",
       "#T_58df7_row4_col3, #T_58df7_row8_col3 {\n",
       "  width: 10em;\n",
       "  background: linear-gradient(90deg, lightblue 1.1%, transparent 1.1%);\n",
       "  font-family: Courier;\n",
       "}\n",
       "#T_58df7_row5_col0 {\n",
       "  width: 10em;\n",
       "  background: linear-gradient(90deg, lightblue 4.4%, transparent 4.4%);\n",
       "  font-family: Courier;\n",
       "}\n",
       "#T_58df7_row5_col2 {\n",
       "  width: 10em;\n",
       "  background: linear-gradient(90deg, lightblue 33.3%, transparent 33.3%);\n",
       "  font-family: Courier;\n",
       "}\n",
       "#T_58df7_row5_col3 {\n",
       "  width: 10em;\n",
       "  background: linear-gradient(90deg, lightblue 4.8%, transparent 4.8%);\n",
       "  font-family: Courier;\n",
       "}\n",
       "#T_58df7_row6_col0 {\n",
       "  width: 10em;\n",
       "  background: linear-gradient(90deg, lightblue 7.3%, transparent 7.3%);\n",
       "  font-family: Courier;\n",
       "}\n",
       "#T_58df7_row6_col1 {\n",
       "  width: 10em;\n",
       "  background: linear-gradient(90deg, lightblue 21.7%, transparent 21.7%);\n",
       "  font-family: Courier;\n",
       "}\n",
       "#T_58df7_row6_col3 {\n",
       "  width: 10em;\n",
       "  background: linear-gradient(90deg, lightblue 10.8%, transparent 10.8%);\n",
       "  font-family: Courier;\n",
       "}\n",
       "#T_58df7_row7_col0 {\n",
       "  width: 10em;\n",
       "  background: linear-gradient(90deg, lightblue 43.1%, transparent 43.1%);\n",
       "  font-family: Courier;\n",
       "}\n",
       "#T_58df7_row7_col1, #T_58df7_row11_col1 {\n",
       "  width: 10em;\n",
       "  background: linear-gradient(90deg, lightblue 13.0%, transparent 13.0%);\n",
       "  font-family: Courier;\n",
       "}\n",
       "#T_58df7_row7_col3 {\n",
       "  width: 10em;\n",
       "  background: linear-gradient(90deg, lightblue 34.9%, transparent 34.9%);\n",
       "  font-family: Courier;\n",
       "}\n",
       "#T_58df7_row9_col3 {\n",
       "  width: 10em;\n",
       "  background: linear-gradient(90deg, lightblue 0.5%, transparent 0.5%);\n",
       "  font-family: Courier;\n",
       "}\n",
       "#T_58df7_row10_col0 {\n",
       "  width: 10em;\n",
       "  background: linear-gradient(90deg, lightblue 21.9%, transparent 21.9%);\n",
       "  font-family: Courier;\n",
       "}\n",
       "#T_58df7_row10_col1 {\n",
       "  width: 10em;\n",
       "  background: linear-gradient(90deg, lightblue 23.9%, transparent 23.9%);\n",
       "  font-family: Courier;\n",
       "}\n",
       "#T_58df7_row10_col2 {\n",
       "  width: 10em;\n",
       "  background: linear-gradient(90deg, lightblue 66.7%, transparent 66.7%);\n",
       "  font-family: Courier;\n",
       "}\n",
       "#T_58df7_row10_col3 {\n",
       "  width: 10em;\n",
       "  background: linear-gradient(90deg, lightblue 23.1%, transparent 23.1%);\n",
       "  font-family: Courier;\n",
       "}\n",
       "#T_58df7_row12_col0, #T_58df7_row12_col1, #T_58df7_row12_col2, #T_58df7_row12_col3 {\n",
       "  width: 10em;\n",
       "  background: linear-gradient(90deg, lightblue 100.0%, transparent 100.0%);\n",
       "  font-family: Courier;\n",
       "}\n",
       "</style>\n",
       "<table id=\"T_58df7\">\n",
       "  <thead>\n",
       "    <tr>\n",
       "      <th class=\"index_name level0\" >[01.01] CTCAE</th>\n",
       "      <th id=\"T_58df7_level0_col0\" class=\"col_heading level0 col0\" >1</th>\n",
       "      <th id=\"T_58df7_level0_col1\" class=\"col_heading level0 col1\" >2</th>\n",
       "      <th id=\"T_58df7_level0_col2\" class=\"col_heading level0 col2\" >3</th>\n",
       "      <th id=\"T_58df7_level0_col3\" class=\"col_heading level0 col3\" >Total</th>\n",
       "    </tr>\n",
       "    <tr>\n",
       "      <th class=\"index_name level0\" >[02.04] Affected body parts</th>\n",
       "      <th class=\"blank col0\" >&nbsp;</th>\n",
       "      <th class=\"blank col1\" >&nbsp;</th>\n",
       "      <th class=\"blank col2\" >&nbsp;</th>\n",
       "      <th class=\"blank col3\" >&nbsp;</th>\n",
       "    </tr>\n",
       "  </thead>\n",
       "  <tbody>\n",
       "    <tr>\n",
       "      <th id=\"T_58df7_level0_row0\" class=\"row_heading level0 row0\" >Abdomen</th>\n",
       "      <td id=\"T_58df7_row0_col0\" class=\"data row0 col0\" >7 <span style=\"color: grey\">(3.8%) </span></td>\n",
       "      <td id=\"T_58df7_row0_col1\" class=\"data row0 col1\" >4 <span style=\"color: grey\">(2.2%) </span></td>\n",
       "      <td id=\"T_58df7_row0_col2\" class=\"data row0 col2\" ><span style=\"color: grey\">0 </span></td>\n",
       "      <td id=\"T_58df7_row0_col3\" class=\"data row0 col3\" >11 <span style=\"color: grey\">(5.9%) </span></td>\n",
       "    </tr>\n",
       "    <tr>\n",
       "      <th id=\"T_58df7_level0_row1\" class=\"row_heading level0 row1\" >Back</th>\n",
       "      <td id=\"T_58df7_row1_col0\" class=\"data row1 col0\" >7 <span style=\"color: grey\">(3.8%) </span></td>\n",
       "      <td id=\"T_58df7_row1_col1\" class=\"data row1 col1\" >3 <span style=\"color: grey\">(1.6%) </span></td>\n",
       "      <td id=\"T_58df7_row1_col2\" class=\"data row1 col2\" ><span style=\"color: grey\">0 </span></td>\n",
       "      <td id=\"T_58df7_row1_col3\" class=\"data row1 col3\" >10 <span style=\"color: grey\">(5.4%) </span></td>\n",
       "    </tr>\n",
       "    <tr>\n",
       "      <th id=\"T_58df7_level0_row2\" class=\"row_heading level0 row2\" >Buttocks</th>\n",
       "      <td id=\"T_58df7_row2_col0\" class=\"data row2 col0\" >5 <span style=\"color: grey\">(2.7%) </span></td>\n",
       "      <td id=\"T_58df7_row2_col1\" class=\"data row2 col1\" >2 <span style=\"color: grey\">(1.1%) </span></td>\n",
       "      <td id=\"T_58df7_row2_col2\" class=\"data row2 col2\" ><span style=\"color: grey\">0 </span></td>\n",
       "      <td id=\"T_58df7_row2_col3\" class=\"data row2 col3\" >7 <span style=\"color: grey\">(3.8%) </span></td>\n",
       "    </tr>\n",
       "    <tr>\n",
       "      <th id=\"T_58df7_level0_row3\" class=\"row_heading level0 row3\" >Chest</th>\n",
       "      <td id=\"T_58df7_row3_col0\" class=\"data row3 col0\" >4 <span style=\"color: grey\">(2.2%) </span></td>\n",
       "      <td id=\"T_58df7_row3_col1\" class=\"data row3 col1\" >1 <span style=\"color: grey\">(0.5%) </span></td>\n",
       "      <td id=\"T_58df7_row3_col2\" class=\"data row3 col2\" ><span style=\"color: grey\">0 </span></td>\n",
       "      <td id=\"T_58df7_row3_col3\" class=\"data row3 col3\" >5 <span style=\"color: grey\">(2.7%) </span></td>\n",
       "    </tr>\n",
       "    <tr>\n",
       "      <th id=\"T_58df7_level0_row4\" class=\"row_heading level0 row4\" >Coccyx</th>\n",
       "      <td id=\"T_58df7_row4_col0\" class=\"data row4 col0\" >2 <span style=\"color: grey\">(1.1%) </span></td>\n",
       "      <td id=\"T_58df7_row4_col1\" class=\"data row4 col1\" ><span style=\"color: grey\">0 </span></td>\n",
       "      <td id=\"T_58df7_row4_col2\" class=\"data row4 col2\" ><span style=\"color: grey\">0 </span></td>\n",
       "      <td id=\"T_58df7_row4_col3\" class=\"data row4 col3\" >2 <span style=\"color: grey\">(1.1%) </span></td>\n",
       "    </tr>\n",
       "    <tr>\n",
       "      <th id=\"T_58df7_level0_row5\" class=\"row_heading level0 row5\" >Full body</th>\n",
       "      <td id=\"T_58df7_row5_col0\" class=\"data row5 col0\" >6 <span style=\"color: grey\">(3.2%) </span></td>\n",
       "      <td id=\"T_58df7_row5_col1\" class=\"data row5 col1\" >2 <span style=\"color: grey\">(1.1%) </span></td>\n",
       "      <td id=\"T_58df7_row5_col2\" class=\"data row5 col2\" >1 <span style=\"color: grey\">(0.5%) </span></td>\n",
       "      <td id=\"T_58df7_row5_col3\" class=\"data row5 col3\" >9 <span style=\"color: grey\">(4.8%) </span></td>\n",
       "    </tr>\n",
       "    <tr>\n",
       "      <th id=\"T_58df7_level0_row6\" class=\"row_heading level0 row6\" >Head</th>\n",
       "      <td id=\"T_58df7_row6_col0\" class=\"data row6 col0\" >10 <span style=\"color: grey\">(5.4%) </span></td>\n",
       "      <td id=\"T_58df7_row6_col1\" class=\"data row6 col1\" >10 <span style=\"color: grey\">(5.4%) </span></td>\n",
       "      <td id=\"T_58df7_row6_col2\" class=\"data row6 col2\" ><span style=\"color: grey\">0 </span></td>\n",
       "      <td id=\"T_58df7_row6_col3\" class=\"data row6 col3\" >20 <span style=\"color: grey\">(10.8%) </span></td>\n",
       "    </tr>\n",
       "    <tr>\n",
       "      <th id=\"T_58df7_level0_row7\" class=\"row_heading level0 row7\" >Innere Medizin</th>\n",
       "      <td id=\"T_58df7_row7_col0\" class=\"data row7 col0\" >59 <span style=\"color: grey\">(31.7%) </span></td>\n",
       "      <td id=\"T_58df7_row7_col1\" class=\"data row7 col1\" >6 <span style=\"color: grey\">(3.2%) </span></td>\n",
       "      <td id=\"T_58df7_row7_col2\" class=\"data row7 col2\" ><span style=\"color: grey\">0 </span></td>\n",
       "      <td id=\"T_58df7_row7_col3\" class=\"data row7 col3\" >65 <span style=\"color: grey\">(34.9%) </span></td>\n",
       "    </tr>\n",
       "    <tr>\n",
       "      <th id=\"T_58df7_level0_row8\" class=\"row_heading level0 row8\" >Intestine</th>\n",
       "      <td id=\"T_58df7_row8_col0\" class=\"data row8 col0\" >2 <span style=\"color: grey\">(1.1%) </span></td>\n",
       "      <td id=\"T_58df7_row8_col1\" class=\"data row8 col1\" ><span style=\"color: grey\">0 </span></td>\n",
       "      <td id=\"T_58df7_row8_col2\" class=\"data row8 col2\" ><span style=\"color: grey\">0 </span></td>\n",
       "      <td id=\"T_58df7_row8_col3\" class=\"data row8 col3\" >2 <span style=\"color: grey\">(1.1%) </span></td>\n",
       "    </tr>\n",
       "    <tr>\n",
       "      <th id=\"T_58df7_level0_row9\" class=\"row_heading level0 row9\" >Intimate area</th>\n",
       "      <td id=\"T_58df7_row9_col0\" class=\"data row9 col0\" ><span style=\"color: grey\">0 </span></td>\n",
       "      <td id=\"T_58df7_row9_col1\" class=\"data row9 col1\" >1 <span style=\"color: grey\">(0.5%) </span></td>\n",
       "      <td id=\"T_58df7_row9_col2\" class=\"data row9 col2\" ><span style=\"color: grey\">0 </span></td>\n",
       "      <td id=\"T_58df7_row9_col3\" class=\"data row9 col3\" >1 <span style=\"color: grey\">(0.5%) </span></td>\n",
       "    </tr>\n",
       "    <tr>\n",
       "      <th id=\"T_58df7_level0_row10\" class=\"row_heading level0 row10\" >Lower extremities</th>\n",
       "      <td id=\"T_58df7_row10_col0\" class=\"data row10 col0\" >30 <span style=\"color: grey\">(16.1%) </span></td>\n",
       "      <td id=\"T_58df7_row10_col1\" class=\"data row10 col1\" >11 <span style=\"color: grey\">(5.9%) </span></td>\n",
       "      <td id=\"T_58df7_row10_col2\" class=\"data row10 col2\" >2 <span style=\"color: grey\">(1.1%) </span></td>\n",
       "      <td id=\"T_58df7_row10_col3\" class=\"data row10 col3\" >43 <span style=\"color: grey\">(23.1%) </span></td>\n",
       "    </tr>\n",
       "    <tr>\n",
       "      <th id=\"T_58df7_level0_row11\" class=\"row_heading level0 row11\" >Upper extremities</th>\n",
       "      <td id=\"T_58df7_row11_col0\" class=\"data row11 col0\" >5 <span style=\"color: grey\">(2.7%) </span></td>\n",
       "      <td id=\"T_58df7_row11_col1\" class=\"data row11 col1\" >6 <span style=\"color: grey\">(3.2%) </span></td>\n",
       "      <td id=\"T_58df7_row11_col2\" class=\"data row11 col2\" ><span style=\"color: grey\">0 </span></td>\n",
       "      <td id=\"T_58df7_row11_col3\" class=\"data row11 col3\" >11 <span style=\"color: grey\">(5.9%) </span></td>\n",
       "    </tr>\n",
       "    <tr>\n",
       "      <th id=\"T_58df7_level0_row12\" class=\"row_heading level0 row12\" >Total</th>\n",
       "      <td id=\"T_58df7_row12_col0\" class=\"data row12 col0\" >137 <span style=\"color: grey\">(73.7%) </span></td>\n",
       "      <td id=\"T_58df7_row12_col1\" class=\"data row12 col1\" >46 <span style=\"color: grey\">(24.7%) </span></td>\n",
       "      <td id=\"T_58df7_row12_col2\" class=\"data row12 col2\" >3 <span style=\"color: grey\">(1.6%) </span></td>\n",
       "      <td id=\"T_58df7_row12_col3\" class=\"data row12 col3\" >186 <span style=\"color: grey\">(100.0%) </span></td>\n",
       "    </tr>\n",
       "  </tbody>\n",
       "</table>\n"
      ],
      "text/plain": [
       "<pandas.io.formats.style.Styler at 0x1045fe0c0>"
      ]
     },
     "metadata": {},
     "output_type": "display_data"
    },
    {
     "data": {
      "text/html": [
       "<style type=\"text/css\">\n",
       "#T_7ed04 th:first-child {\n",
       "  min-width: 400px !important;\n",
       "  max-width: 400px !important;\n",
       "  white-space: nowrap;\n",
       "  overflow: hidden;\n",
       "}\n",
       "#T_7ed04  td:first-child {\n",
       "  min-width: 400px !important;\n",
       "  max-width: 400px !important;\n",
       "  white-space: nowrap;\n",
       "  overflow: hidden;\n",
       "}\n",
       "#T_7ed04_row0_col0 {\n",
       "  width: 10em;\n",
       "  background: linear-gradient(90deg, lightblue 99.2%, transparent 99.2%);\n",
       "  font-family: Courier;\n",
       "}\n",
       "#T_7ed04_row0_col1, #T_7ed04_row3_col0, #T_7ed04_row3_col1, #T_7ed04_row3_col2, #T_7ed04_row3_col3 {\n",
       "  width: 10em;\n",
       "  background: linear-gradient(90deg, lightblue 100.0%, transparent 100.0%);\n",
       "  font-family: Courier;\n",
       "}\n",
       "#T_7ed04_row0_col2, #T_7ed04_row1_col2, #T_7ed04_row2_col2 {\n",
       "  width: 10em;\n",
       "  background: linear-gradient(90deg, lightblue 33.3%, transparent 33.3%);\n",
       "  font-family: Courier;\n",
       "}\n",
       "#T_7ed04_row0_col3 {\n",
       "  width: 10em;\n",
       "  background: linear-gradient(90deg, lightblue 98.3%, transparent 98.3%);\n",
       "  font-family: Courier;\n",
       "}\n",
       "#T_7ed04_row1_col0, #T_7ed04_row1_col1, #T_7ed04_row2_col1 {\n",
       "  width: 10em;\n",
       "  font-family: Courier;\n",
       "}\n",
       "#T_7ed04_row1_col3 {\n",
       "  width: 10em;\n",
       "  background: linear-gradient(90deg, lightblue 0.6%, transparent 0.6%);\n",
       "  font-family: Courier;\n",
       "}\n",
       "#T_7ed04_row2_col0 {\n",
       "  width: 10em;\n",
       "  background: linear-gradient(90deg, lightblue 0.8%, transparent 0.8%);\n",
       "  font-family: Courier;\n",
       "}\n",
       "#T_7ed04_row2_col3 {\n",
       "  width: 10em;\n",
       "  background: linear-gradient(90deg, lightblue 1.1%, transparent 1.1%);\n",
       "  font-family: Courier;\n",
       "}\n",
       "</style>\n",
       "<table id=\"T_7ed04\">\n",
       "  <thead>\n",
       "    <tr>\n",
       "      <th class=\"index_name level0\" >[01.01] CTCAE</th>\n",
       "      <th id=\"T_7ed04_level0_col0\" class=\"col_heading level0 col0\" >1</th>\n",
       "      <th id=\"T_7ed04_level0_col1\" class=\"col_heading level0 col1\" >2</th>\n",
       "      <th id=\"T_7ed04_level0_col2\" class=\"col_heading level0 col2\" >3</th>\n",
       "      <th id=\"T_7ed04_level0_col3\" class=\"col_heading level0 col3\" >Total</th>\n",
       "    </tr>\n",
       "    <tr>\n",
       "      <th class=\"index_name level0\" >[03.02] With hospitalization</th>\n",
       "      <th class=\"blank col0\" >&nbsp;</th>\n",
       "      <th class=\"blank col1\" >&nbsp;</th>\n",
       "      <th class=\"blank col2\" >&nbsp;</th>\n",
       "      <th class=\"blank col3\" >&nbsp;</th>\n",
       "    </tr>\n",
       "  </thead>\n",
       "  <tbody>\n",
       "    <tr>\n",
       "      <th id=\"T_7ed04_level0_row0\" class=\"row_heading level0 row0\" >No</th>\n",
       "      <td id=\"T_7ed04_row0_col0\" class=\"data row0 col0\" >132 <span style=\"color: grey\">(74.2%) </span></td>\n",
       "      <td id=\"T_7ed04_row0_col1\" class=\"data row0 col1\" >42 <span style=\"color: grey\">(23.6%) </span></td>\n",
       "      <td id=\"T_7ed04_row0_col2\" class=\"data row0 col2\" >1 <span style=\"color: grey\">(0.6%) </span></td>\n",
       "      <td id=\"T_7ed04_row0_col3\" class=\"data row0 col3\" >175 <span style=\"color: grey\">(98.3%) </span></td>\n",
       "    </tr>\n",
       "    <tr>\n",
       "      <th id=\"T_7ed04_level0_row1\" class=\"row_heading level0 row1\" >Weiß nicht</th>\n",
       "      <td id=\"T_7ed04_row1_col0\" class=\"data row1 col0\" ><span style=\"color: grey\">0 </span></td>\n",
       "      <td id=\"T_7ed04_row1_col1\" class=\"data row1 col1\" ><span style=\"color: grey\">0 </span></td>\n",
       "      <td id=\"T_7ed04_row1_col2\" class=\"data row1 col2\" >1 <span style=\"color: grey\">(0.6%) </span></td>\n",
       "      <td id=\"T_7ed04_row1_col3\" class=\"data row1 col3\" >1 <span style=\"color: grey\">(0.6%) </span></td>\n",
       "    </tr>\n",
       "    <tr>\n",
       "      <th id=\"T_7ed04_level0_row2\" class=\"row_heading level0 row2\" >Yes</th>\n",
       "      <td id=\"T_7ed04_row2_col0\" class=\"data row2 col0\" >1 <span style=\"color: grey\">(0.6%) </span></td>\n",
       "      <td id=\"T_7ed04_row2_col1\" class=\"data row2 col1\" ><span style=\"color: grey\">0 </span></td>\n",
       "      <td id=\"T_7ed04_row2_col2\" class=\"data row2 col2\" >1 <span style=\"color: grey\">(0.6%) </span></td>\n",
       "      <td id=\"T_7ed04_row2_col3\" class=\"data row2 col3\" >2 <span style=\"color: grey\">(1.1%) </span></td>\n",
       "    </tr>\n",
       "    <tr>\n",
       "      <th id=\"T_7ed04_level0_row3\" class=\"row_heading level0 row3\" >Total</th>\n",
       "      <td id=\"T_7ed04_row3_col0\" class=\"data row3 col0\" >133 <span style=\"color: grey\">(74.7%) </span></td>\n",
       "      <td id=\"T_7ed04_row3_col1\" class=\"data row3 col1\" >42 <span style=\"color: grey\">(23.6%) </span></td>\n",
       "      <td id=\"T_7ed04_row3_col2\" class=\"data row3 col2\" >3 <span style=\"color: grey\">(1.7%) </span></td>\n",
       "      <td id=\"T_7ed04_row3_col3\" class=\"data row3 col3\" >178 <span style=\"color: grey\">(100.0%) </span></td>\n",
       "    </tr>\n",
       "  </tbody>\n",
       "</table>\n"
      ],
      "text/plain": [
       "<pandas.io.formats.style.Styler at 0x30d324740>"
      ]
     },
     "metadata": {},
     "output_type": "display_data"
    },
    {
     "data": {
      "text/html": [
       "<style type=\"text/css\">\n",
       "#T_e42d7 th:first-child {\n",
       "  min-width: 400px !important;\n",
       "  max-width: 400px !important;\n",
       "  white-space: nowrap;\n",
       "  overflow: hidden;\n",
       "}\n",
       "#T_e42d7  td:first-child {\n",
       "  min-width: 400px !important;\n",
       "  max-width: 400px !important;\n",
       "  white-space: nowrap;\n",
       "  overflow: hidden;\n",
       "}\n",
       "#T_e42d7_row0_col0 {\n",
       "  width: 10em;\n",
       "  background: linear-gradient(90deg, lightblue 91.0%, transparent 91.0%);\n",
       "  font-family: Courier;\n",
       "}\n",
       "#T_e42d7_row0_col1 {\n",
       "  width: 10em;\n",
       "  background: linear-gradient(90deg, lightblue 19.0%, transparent 19.0%);\n",
       "  font-family: Courier;\n",
       "}\n",
       "#T_e42d7_row0_col2, #T_e42d7_row1_col1, #T_e42d7_row1_col2 {\n",
       "  width: 10em;\n",
       "  font-family: Courier;\n",
       "}\n",
       "#T_e42d7_row0_col3 {\n",
       "  width: 10em;\n",
       "  background: linear-gradient(90deg, lightblue 72.5%, transparent 72.5%);\n",
       "  font-family: Courier;\n",
       "}\n",
       "#T_e42d7_row1_col0 {\n",
       "  width: 10em;\n",
       "  background: linear-gradient(90deg, lightblue 2.3%, transparent 2.3%);\n",
       "  font-family: Courier;\n",
       "}\n",
       "#T_e42d7_row1_col3 {\n",
       "  width: 10em;\n",
       "  background: linear-gradient(90deg, lightblue 1.7%, transparent 1.7%);\n",
       "  font-family: Courier;\n",
       "}\n",
       "#T_e42d7_row2_col0 {\n",
       "  width: 10em;\n",
       "  background: linear-gradient(90deg, lightblue 6.8%, transparent 6.8%);\n",
       "  font-family: Courier;\n",
       "}\n",
       "#T_e42d7_row2_col1 {\n",
       "  width: 10em;\n",
       "  background: linear-gradient(90deg, lightblue 81.0%, transparent 81.0%);\n",
       "  font-family: Courier;\n",
       "}\n",
       "#T_e42d7_row2_col2, #T_e42d7_row3_col0, #T_e42d7_row3_col1, #T_e42d7_row3_col2, #T_e42d7_row3_col3 {\n",
       "  width: 10em;\n",
       "  background: linear-gradient(90deg, lightblue 100.0%, transparent 100.0%);\n",
       "  font-family: Courier;\n",
       "}\n",
       "#T_e42d7_row2_col3 {\n",
       "  width: 10em;\n",
       "  background: linear-gradient(90deg, lightblue 25.8%, transparent 25.8%);\n",
       "  font-family: Courier;\n",
       "}\n",
       "</style>\n",
       "<table id=\"T_e42d7\">\n",
       "  <thead>\n",
       "    <tr>\n",
       "      <th class=\"index_name level0\" >[01.01] CTCAE</th>\n",
       "      <th id=\"T_e42d7_level0_col0\" class=\"col_heading level0 col0\" >1</th>\n",
       "      <th id=\"T_e42d7_level0_col1\" class=\"col_heading level0 col1\" >2</th>\n",
       "      <th id=\"T_e42d7_level0_col2\" class=\"col_heading level0 col2\" >3</th>\n",
       "      <th id=\"T_e42d7_level0_col3\" class=\"col_heading level0 col3\" >Total</th>\n",
       "    </tr>\n",
       "    <tr>\n",
       "      <th class=\"index_name level0\" >[03.03] Medical follow-up treatment</th>\n",
       "      <th class=\"blank col0\" >&nbsp;</th>\n",
       "      <th class=\"blank col1\" >&nbsp;</th>\n",
       "      <th class=\"blank col2\" >&nbsp;</th>\n",
       "      <th class=\"blank col3\" >&nbsp;</th>\n",
       "    </tr>\n",
       "  </thead>\n",
       "  <tbody>\n",
       "    <tr>\n",
       "      <th id=\"T_e42d7_level0_row0\" class=\"row_heading level0 row0\" >No</th>\n",
       "      <td id=\"T_e42d7_row0_col0\" class=\"data row0 col0\" >121 <span style=\"color: grey\">(68.0%) </span></td>\n",
       "      <td id=\"T_e42d7_row0_col1\" class=\"data row0 col1\" >8 <span style=\"color: grey\">(4.5%) </span></td>\n",
       "      <td id=\"T_e42d7_row0_col2\" class=\"data row0 col2\" ><span style=\"color: grey\">0 </span></td>\n",
       "      <td id=\"T_e42d7_row0_col3\" class=\"data row0 col3\" >129 <span style=\"color: grey\">(72.5%) </span></td>\n",
       "    </tr>\n",
       "    <tr>\n",
       "      <th id=\"T_e42d7_level0_row1\" class=\"row_heading level0 row1\" >Weiß nicht</th>\n",
       "      <td id=\"T_e42d7_row1_col0\" class=\"data row1 col0\" >3 <span style=\"color: grey\">(1.7%) </span></td>\n",
       "      <td id=\"T_e42d7_row1_col1\" class=\"data row1 col1\" ><span style=\"color: grey\">0 </span></td>\n",
       "      <td id=\"T_e42d7_row1_col2\" class=\"data row1 col2\" ><span style=\"color: grey\">0 </span></td>\n",
       "      <td id=\"T_e42d7_row1_col3\" class=\"data row1 col3\" >3 <span style=\"color: grey\">(1.7%) </span></td>\n",
       "    </tr>\n",
       "    <tr>\n",
       "      <th id=\"T_e42d7_level0_row2\" class=\"row_heading level0 row2\" >Yes</th>\n",
       "      <td id=\"T_e42d7_row2_col0\" class=\"data row2 col0\" >9 <span style=\"color: grey\">(5.1%) </span></td>\n",
       "      <td id=\"T_e42d7_row2_col1\" class=\"data row2 col1\" >34 <span style=\"color: grey\">(19.1%) </span></td>\n",
       "      <td id=\"T_e42d7_row2_col2\" class=\"data row2 col2\" >3 <span style=\"color: grey\">(1.7%) </span></td>\n",
       "      <td id=\"T_e42d7_row2_col3\" class=\"data row2 col3\" >46 <span style=\"color: grey\">(25.8%) </span></td>\n",
       "    </tr>\n",
       "    <tr>\n",
       "      <th id=\"T_e42d7_level0_row3\" class=\"row_heading level0 row3\" >Total</th>\n",
       "      <td id=\"T_e42d7_row3_col0\" class=\"data row3 col0\" >133 <span style=\"color: grey\">(74.7%) </span></td>\n",
       "      <td id=\"T_e42d7_row3_col1\" class=\"data row3 col1\" >42 <span style=\"color: grey\">(23.6%) </span></td>\n",
       "      <td id=\"T_e42d7_row3_col2\" class=\"data row3 col2\" >3 <span style=\"color: grey\">(1.7%) </span></td>\n",
       "      <td id=\"T_e42d7_row3_col3\" class=\"data row3 col3\" >178 <span style=\"color: grey\">(100.0%) </span></td>\n",
       "    </tr>\n",
       "  </tbody>\n",
       "</table>\n"
      ],
      "text/plain": [
       "<pandas.io.formats.style.Styler at 0x30d327f80>"
      ]
     },
     "metadata": {},
     "output_type": "display_data"
    },
    {
     "data": {
      "text/html": [
       "<style type=\"text/css\">\n",
       "#T_26971 th:first-child {\n",
       "  min-width: 400px !important;\n",
       "  max-width: 400px !important;\n",
       "  white-space: nowrap;\n",
       "  overflow: hidden;\n",
       "}\n",
       "#T_26971  td:first-child {\n",
       "  min-width: 400px !important;\n",
       "  max-width: 400px !important;\n",
       "  white-space: nowrap;\n",
       "  overflow: hidden;\n",
       "}\n",
       "#T_26971_row0_col0, #T_26971_row0_col1, #T_26971_row0_col2, #T_26971_row0_col3, #T_26971_row1_col0, #T_26971_row1_col1, #T_26971_row1_col2, #T_26971_row1_col3 {\n",
       "  width: 10em;\n",
       "  background: linear-gradient(90deg, lightblue 100.0%, transparent 100.0%);\n",
       "  font-family: Courier;\n",
       "}\n",
       "</style>\n",
       "<table id=\"T_26971\">\n",
       "  <thead>\n",
       "    <tr>\n",
       "      <th class=\"index_name level0\" >[01.01] CTCAE</th>\n",
       "      <th id=\"T_26971_level0_col0\" class=\"col_heading level0 col0\" >1</th>\n",
       "      <th id=\"T_26971_level0_col1\" class=\"col_heading level0 col1\" >2</th>\n",
       "      <th id=\"T_26971_level0_col2\" class=\"col_heading level0 col2\" >3</th>\n",
       "      <th id=\"T_26971_level0_col3\" class=\"col_heading level0 col3\" >Total</th>\n",
       "    </tr>\n",
       "    <tr>\n",
       "      <th class=\"index_name level0\" >[03.04] With delayed therapy protocol</th>\n",
       "      <th class=\"blank col0\" >&nbsp;</th>\n",
       "      <th class=\"blank col1\" >&nbsp;</th>\n",
       "      <th class=\"blank col2\" >&nbsp;</th>\n",
       "      <th class=\"blank col3\" >&nbsp;</th>\n",
       "    </tr>\n",
       "  </thead>\n",
       "  <tbody>\n",
       "    <tr>\n",
       "      <th id=\"T_26971_level0_row0\" class=\"row_heading level0 row0\" >No</th>\n",
       "      <td id=\"T_26971_row0_col0\" class=\"data row0 col0\" >133 <span style=\"color: grey\">(74.7%) </span></td>\n",
       "      <td id=\"T_26971_row0_col1\" class=\"data row0 col1\" >42 <span style=\"color: grey\">(23.6%) </span></td>\n",
       "      <td id=\"T_26971_row0_col2\" class=\"data row0 col2\" >3 <span style=\"color: grey\">(1.7%) </span></td>\n",
       "      <td id=\"T_26971_row0_col3\" class=\"data row0 col3\" >178 <span style=\"color: grey\">(100.0%) </span></td>\n",
       "    </tr>\n",
       "    <tr>\n",
       "      <th id=\"T_26971_level0_row1\" class=\"row_heading level0 row1\" >Total</th>\n",
       "      <td id=\"T_26971_row1_col0\" class=\"data row1 col0\" >133 <span style=\"color: grey\">(74.7%) </span></td>\n",
       "      <td id=\"T_26971_row1_col1\" class=\"data row1 col1\" >42 <span style=\"color: grey\">(23.6%) </span></td>\n",
       "      <td id=\"T_26971_row1_col2\" class=\"data row1 col2\" >3 <span style=\"color: grey\">(1.7%) </span></td>\n",
       "      <td id=\"T_26971_row1_col3\" class=\"data row1 col3\" >178 <span style=\"color: grey\">(100.0%) </span></td>\n",
       "    </tr>\n",
       "  </tbody>\n",
       "</table>\n"
      ],
      "text/plain": [
       "<pandas.io.formats.style.Styler at 0x1045ff890>"
      ]
     },
     "metadata": {},
     "output_type": "display_data"
    },
    {
     "data": {
      "text/html": [
       "<style type=\"text/css\">\n",
       "#T_4e95c th:first-child {\n",
       "  min-width: 400px !important;\n",
       "  max-width: 400px !important;\n",
       "  white-space: nowrap;\n",
       "  overflow: hidden;\n",
       "}\n",
       "#T_4e95c  td:first-child {\n",
       "  min-width: 400px !important;\n",
       "  max-width: 400px !important;\n",
       "  white-space: nowrap;\n",
       "  overflow: hidden;\n",
       "}\n",
       "#T_4e95c_row0_col0 {\n",
       "  width: 10em;\n",
       "  background: linear-gradient(90deg, lightblue 99.2%, transparent 99.2%);\n",
       "  font-family: Courier;\n",
       "}\n",
       "#T_4e95c_row0_col1, #T_4e95c_row1_col2, #T_4e95c_row2_col0, #T_4e95c_row2_col1, #T_4e95c_row2_col2, #T_4e95c_row2_col3 {\n",
       "  width: 10em;\n",
       "  background: linear-gradient(90deg, lightblue 100.0%, transparent 100.0%);\n",
       "  font-family: Courier;\n",
       "}\n",
       "#T_4e95c_row0_col2, #T_4e95c_row1_col1 {\n",
       "  width: 10em;\n",
       "  font-family: Courier;\n",
       "}\n",
       "#T_4e95c_row0_col3 {\n",
       "  width: 10em;\n",
       "  background: linear-gradient(90deg, lightblue 97.8%, transparent 97.8%);\n",
       "  font-family: Courier;\n",
       "}\n",
       "#T_4e95c_row1_col0 {\n",
       "  width: 10em;\n",
       "  background: linear-gradient(90deg, lightblue 0.8%, transparent 0.8%);\n",
       "  font-family: Courier;\n",
       "}\n",
       "#T_4e95c_row1_col3 {\n",
       "  width: 10em;\n",
       "  background: linear-gradient(90deg, lightblue 2.2%, transparent 2.2%);\n",
       "  font-family: Courier;\n",
       "}\n",
       "</style>\n",
       "<table id=\"T_4e95c\">\n",
       "  <thead>\n",
       "    <tr>\n",
       "      <th class=\"index_name level0\" >[01.01] CTCAE</th>\n",
       "      <th id=\"T_4e95c_level0_col0\" class=\"col_heading level0 col0\" >1</th>\n",
       "      <th id=\"T_4e95c_level0_col1\" class=\"col_heading level0 col1\" >2</th>\n",
       "      <th id=\"T_4e95c_level0_col2\" class=\"col_heading level0 col2\" >3</th>\n",
       "      <th id=\"T_4e95c_level0_col3\" class=\"col_heading level0 col3\" >Total</th>\n",
       "    </tr>\n",
       "    <tr>\n",
       "      <th class=\"index_name level0\" >[03.06] Increased care needs</th>\n",
       "      <th class=\"blank col0\" >&nbsp;</th>\n",
       "      <th class=\"blank col1\" >&nbsp;</th>\n",
       "      <th class=\"blank col2\" >&nbsp;</th>\n",
       "      <th class=\"blank col3\" >&nbsp;</th>\n",
       "    </tr>\n",
       "  </thead>\n",
       "  <tbody>\n",
       "    <tr>\n",
       "      <th id=\"T_4e95c_level0_row0\" class=\"row_heading level0 row0\" >No</th>\n",
       "      <td id=\"T_4e95c_row0_col0\" class=\"data row0 col0\" >132 <span style=\"color: grey\">(74.2%) </span></td>\n",
       "      <td id=\"T_4e95c_row0_col1\" class=\"data row0 col1\" >42 <span style=\"color: grey\">(23.6%) </span></td>\n",
       "      <td id=\"T_4e95c_row0_col2\" class=\"data row0 col2\" ><span style=\"color: grey\">0 </span></td>\n",
       "      <td id=\"T_4e95c_row0_col3\" class=\"data row0 col3\" >174 <span style=\"color: grey\">(97.8%) </span></td>\n",
       "    </tr>\n",
       "    <tr>\n",
       "      <th id=\"T_4e95c_level0_row1\" class=\"row_heading level0 row1\" >Yes</th>\n",
       "      <td id=\"T_4e95c_row1_col0\" class=\"data row1 col0\" >1 <span style=\"color: grey\">(0.6%) </span></td>\n",
       "      <td id=\"T_4e95c_row1_col1\" class=\"data row1 col1\" ><span style=\"color: grey\">0 </span></td>\n",
       "      <td id=\"T_4e95c_row1_col2\" class=\"data row1 col2\" >3 <span style=\"color: grey\">(1.7%) </span></td>\n",
       "      <td id=\"T_4e95c_row1_col3\" class=\"data row1 col3\" >4 <span style=\"color: grey\">(2.2%) </span></td>\n",
       "    </tr>\n",
       "    <tr>\n",
       "      <th id=\"T_4e95c_level0_row2\" class=\"row_heading level0 row2\" >Total</th>\n",
       "      <td id=\"T_4e95c_row2_col0\" class=\"data row2 col0\" >133 <span style=\"color: grey\">(74.7%) </span></td>\n",
       "      <td id=\"T_4e95c_row2_col1\" class=\"data row2 col1\" >42 <span style=\"color: grey\">(23.6%) </span></td>\n",
       "      <td id=\"T_4e95c_row2_col2\" class=\"data row2 col2\" >3 <span style=\"color: grey\">(1.7%) </span></td>\n",
       "      <td id=\"T_4e95c_row2_col3\" class=\"data row2 col3\" >178 <span style=\"color: grey\">(100.0%) </span></td>\n",
       "    </tr>\n",
       "  </tbody>\n",
       "</table>\n"
      ],
      "text/plain": [
       "<pandas.io.formats.style.Styler at 0x30d325460>"
      ]
     },
     "metadata": {},
     "output_type": "display_data"
    },
    {
     "data": {
      "text/html": [
       "<style type=\"text/css\">\n",
       "#T_ae7fb th:first-child {\n",
       "  min-width: 400px !important;\n",
       "  max-width: 400px !important;\n",
       "  white-space: nowrap;\n",
       "  overflow: hidden;\n",
       "}\n",
       "#T_ae7fb  td:first-child {\n",
       "  min-width: 400px !important;\n",
       "  max-width: 400px !important;\n",
       "  white-space: nowrap;\n",
       "  overflow: hidden;\n",
       "}\n",
       "#T_ae7fb_row0_col0 {\n",
       "  width: 10em;\n",
       "  background: linear-gradient(90deg, lightblue 84.1%, transparent 84.1%);\n",
       "  font-family: Courier;\n",
       "}\n",
       "#T_ae7fb_row0_col1 {\n",
       "  width: 10em;\n",
       "  background: linear-gradient(90deg, lightblue 63.2%, transparent 63.2%);\n",
       "  font-family: Courier;\n",
       "}\n",
       "#T_ae7fb_row0_col2, #T_ae7fb_row1_col2, #T_ae7fb_row2_col0 {\n",
       "  width: 10em;\n",
       "  font-family: Courier;\n",
       "}\n",
       "#T_ae7fb_row0_col3 {\n",
       "  width: 10em;\n",
       "  background: linear-gradient(90deg, lightblue 78.0%, transparent 78.0%);\n",
       "  font-family: Courier;\n",
       "}\n",
       "#T_ae7fb_row1_col0 {\n",
       "  width: 10em;\n",
       "  background: linear-gradient(90deg, lightblue 15.9%, transparent 15.9%);\n",
       "  font-family: Courier;\n",
       "}\n",
       "#T_ae7fb_row1_col1 {\n",
       "  width: 10em;\n",
       "  background: linear-gradient(90deg, lightblue 31.6%, transparent 31.6%);\n",
       "  font-family: Courier;\n",
       "}\n",
       "#T_ae7fb_row1_col3 {\n",
       "  width: 10em;\n",
       "  background: linear-gradient(90deg, lightblue 19.1%, transparent 19.1%);\n",
       "  font-family: Courier;\n",
       "}\n",
       "#T_ae7fb_row2_col1 {\n",
       "  width: 10em;\n",
       "  background: linear-gradient(90deg, lightblue 5.3%, transparent 5.3%);\n",
       "  font-family: Courier;\n",
       "}\n",
       "#T_ae7fb_row2_col2, #T_ae7fb_row3_col0, #T_ae7fb_row3_col1, #T_ae7fb_row3_col2, #T_ae7fb_row3_col3 {\n",
       "  width: 10em;\n",
       "  background: linear-gradient(90deg, lightblue 100.0%, transparent 100.0%);\n",
       "  font-family: Courier;\n",
       "}\n",
       "#T_ae7fb_row2_col3 {\n",
       "  width: 10em;\n",
       "  background: linear-gradient(90deg, lightblue 2.9%, transparent 2.9%);\n",
       "  font-family: Courier;\n",
       "}\n",
       "</style>\n",
       "<table id=\"T_ae7fb\">\n",
       "  <thead>\n",
       "    <tr>\n",
       "      <th class=\"index_name level0\" >[01.01] CTCAE</th>\n",
       "      <th id=\"T_ae7fb_level0_col0\" class=\"col_heading level0 col0\" >1</th>\n",
       "      <th id=\"T_ae7fb_level0_col1\" class=\"col_heading level0 col1\" >2</th>\n",
       "      <th id=\"T_ae7fb_level0_col2\" class=\"col_heading level0 col2\" >3</th>\n",
       "      <th id=\"T_ae7fb_level0_col3\" class=\"col_heading level0 col3\" >Total</th>\n",
       "    </tr>\n",
       "    <tr>\n",
       "      <th class=\"index_name level0\" >[03.07] With medication administration</th>\n",
       "      <th class=\"blank col0\" >&nbsp;</th>\n",
       "      <th class=\"blank col1\" >&nbsp;</th>\n",
       "      <th class=\"blank col2\" >&nbsp;</th>\n",
       "      <th class=\"blank col3\" >&nbsp;</th>\n",
       "    </tr>\n",
       "  </thead>\n",
       "  <tbody>\n",
       "    <tr>\n",
       "      <th id=\"T_ae7fb_level0_row0\" class=\"row_heading level0 row0\" >No</th>\n",
       "      <td id=\"T_ae7fb_row0_col0\" class=\"data row0 col0\" >111 <span style=\"color: grey\">(64.2%) </span></td>\n",
       "      <td id=\"T_ae7fb_row0_col1\" class=\"data row0 col1\" >24 <span style=\"color: grey\">(13.9%) </span></td>\n",
       "      <td id=\"T_ae7fb_row0_col2\" class=\"data row0 col2\" ><span style=\"color: grey\">0 </span></td>\n",
       "      <td id=\"T_ae7fb_row0_col3\" class=\"data row0 col3\" >135 <span style=\"color: grey\">(78.0%) </span></td>\n",
       "    </tr>\n",
       "    <tr>\n",
       "      <th id=\"T_ae7fb_level0_row1\" class=\"row_heading level0 row1\" >Weiß nicht</th>\n",
       "      <td id=\"T_ae7fb_row1_col0\" class=\"data row1 col0\" >21 <span style=\"color: grey\">(12.1%) </span></td>\n",
       "      <td id=\"T_ae7fb_row1_col1\" class=\"data row1 col1\" >12 <span style=\"color: grey\">(6.9%) </span></td>\n",
       "      <td id=\"T_ae7fb_row1_col2\" class=\"data row1 col2\" ><span style=\"color: grey\">0 </span></td>\n",
       "      <td id=\"T_ae7fb_row1_col3\" class=\"data row1 col3\" >33 <span style=\"color: grey\">(19.1%) </span></td>\n",
       "    </tr>\n",
       "    <tr>\n",
       "      <th id=\"T_ae7fb_level0_row2\" class=\"row_heading level0 row2\" >Yes</th>\n",
       "      <td id=\"T_ae7fb_row2_col0\" class=\"data row2 col0\" ><span style=\"color: grey\">0 </span></td>\n",
       "      <td id=\"T_ae7fb_row2_col1\" class=\"data row2 col1\" >2 <span style=\"color: grey\">(1.2%) </span></td>\n",
       "      <td id=\"T_ae7fb_row2_col2\" class=\"data row2 col2\" >3 <span style=\"color: grey\">(1.7%) </span></td>\n",
       "      <td id=\"T_ae7fb_row2_col3\" class=\"data row2 col3\" >5 <span style=\"color: grey\">(2.9%) </span></td>\n",
       "    </tr>\n",
       "    <tr>\n",
       "      <th id=\"T_ae7fb_level0_row3\" class=\"row_heading level0 row3\" >Total</th>\n",
       "      <td id=\"T_ae7fb_row3_col0\" class=\"data row3 col0\" >132 <span style=\"color: grey\">(76.3%) </span></td>\n",
       "      <td id=\"T_ae7fb_row3_col1\" class=\"data row3 col1\" >38 <span style=\"color: grey\">(22.0%) </span></td>\n",
       "      <td id=\"T_ae7fb_row3_col2\" class=\"data row3 col2\" >3 <span style=\"color: grey\">(1.7%) </span></td>\n",
       "      <td id=\"T_ae7fb_row3_col3\" class=\"data row3 col3\" >173 <span style=\"color: grey\">(100.0%) </span></td>\n",
       "    </tr>\n",
       "  </tbody>\n",
       "</table>\n"
      ],
      "text/plain": [
       "<pandas.io.formats.style.Styler at 0x1045ff470>"
      ]
     },
     "metadata": {},
     "output_type": "display_data"
    },
    {
     "data": {
      "text/html": [
       "<style type=\"text/css\">\n",
       "#T_615a6 th:first-child {\n",
       "  min-width: 400px !important;\n",
       "  max-width: 400px !important;\n",
       "  white-space: nowrap;\n",
       "  overflow: hidden;\n",
       "}\n",
       "#T_615a6  td:first-child {\n",
       "  min-width: 400px !important;\n",
       "  max-width: 400px !important;\n",
       "  white-space: nowrap;\n",
       "  overflow: hidden;\n",
       "}\n",
       "#T_615a6_row0_col0 {\n",
       "  width: 10em;\n",
       "  background: linear-gradient(90deg, lightblue 25.0%, transparent 25.0%);\n",
       "  font-family: Courier;\n",
       "}\n",
       "#T_615a6_row0_col1, #T_615a6_row1_col1 {\n",
       "  width: 10em;\n",
       "  background: linear-gradient(90deg, lightblue 50.0%, transparent 50.0%);\n",
       "  font-family: Courier;\n",
       "}\n",
       "#T_615a6_row0_col2, #T_615a6_row2_col0, #T_615a6_row2_col1, #T_615a6_row2_col2, #T_615a6_row2_col3 {\n",
       "  width: 10em;\n",
       "  background: linear-gradient(90deg, lightblue 100.0%, transparent 100.0%);\n",
       "  font-family: Courier;\n",
       "}\n",
       "#T_615a6_row0_col3 {\n",
       "  width: 10em;\n",
       "  background: linear-gradient(90deg, lightblue 31.8%, transparent 31.8%);\n",
       "  font-family: Courier;\n",
       "}\n",
       "#T_615a6_row1_col0 {\n",
       "  width: 10em;\n",
       "  background: linear-gradient(90deg, lightblue 75.0%, transparent 75.0%);\n",
       "  font-family: Courier;\n",
       "}\n",
       "#T_615a6_row1_col2 {\n",
       "  width: 10em;\n",
       "  font-family: Courier;\n",
       "}\n",
       "#T_615a6_row1_col3 {\n",
       "  width: 10em;\n",
       "  background: linear-gradient(90deg, lightblue 68.2%, transparent 68.2%);\n",
       "  font-family: Courier;\n",
       "}\n",
       "</style>\n",
       "<table id=\"T_615a6\">\n",
       "  <thead>\n",
       "    <tr>\n",
       "      <th class=\"index_name level0\" >[01.01] CTCAE</th>\n",
       "      <th id=\"T_615a6_level0_col0\" class=\"col_heading level0 col0\" >1</th>\n",
       "      <th id=\"T_615a6_level0_col1\" class=\"col_heading level0 col1\" >2</th>\n",
       "      <th id=\"T_615a6_level0_col2\" class=\"col_heading level0 col2\" >3</th>\n",
       "      <th id=\"T_615a6_level0_col3\" class=\"col_heading level0 col3\" >Total</th>\n",
       "    </tr>\n",
       "    <tr>\n",
       "      <th class=\"index_name level0\" >[03.08] Occurrence of fear and uncertainty</th>\n",
       "      <th class=\"blank col0\" >&nbsp;</th>\n",
       "      <th class=\"blank col1\" >&nbsp;</th>\n",
       "      <th class=\"blank col2\" >&nbsp;</th>\n",
       "      <th class=\"blank col3\" >&nbsp;</th>\n",
       "    </tr>\n",
       "  </thead>\n",
       "  <tbody>\n",
       "    <tr>\n",
       "      <th id=\"T_615a6_level0_row0\" class=\"row_heading level0 row0\" >Ja</th>\n",
       "      <td id=\"T_615a6_row0_col0\" class=\"data row0 col0\" >33 <span style=\"color: grey\">(18.8%) </span></td>\n",
       "      <td id=\"T_615a6_row0_col1\" class=\"data row0 col1\" >21 <span style=\"color: grey\">(11.9%) </span></td>\n",
       "      <td id=\"T_615a6_row0_col2\" class=\"data row0 col2\" >2 <span style=\"color: grey\">(1.1%) </span></td>\n",
       "      <td id=\"T_615a6_row0_col3\" class=\"data row0 col3\" >56 <span style=\"color: grey\">(31.8%) </span></td>\n",
       "    </tr>\n",
       "    <tr>\n",
       "      <th id=\"T_615a6_level0_row1\" class=\"row_heading level0 row1\" >Nein</th>\n",
       "      <td id=\"T_615a6_row1_col0\" class=\"data row1 col0\" >99 <span style=\"color: grey\">(56.2%) </span></td>\n",
       "      <td id=\"T_615a6_row1_col1\" class=\"data row1 col1\" >21 <span style=\"color: grey\">(11.9%) </span></td>\n",
       "      <td id=\"T_615a6_row1_col2\" class=\"data row1 col2\" ><span style=\"color: grey\">0 </span></td>\n",
       "      <td id=\"T_615a6_row1_col3\" class=\"data row1 col3\" >120 <span style=\"color: grey\">(68.2%) </span></td>\n",
       "    </tr>\n",
       "    <tr>\n",
       "      <th id=\"T_615a6_level0_row2\" class=\"row_heading level0 row2\" >Total</th>\n",
       "      <td id=\"T_615a6_row2_col0\" class=\"data row2 col0\" >132 <span style=\"color: grey\">(75.0%) </span></td>\n",
       "      <td id=\"T_615a6_row2_col1\" class=\"data row2 col1\" >42 <span style=\"color: grey\">(23.9%) </span></td>\n",
       "      <td id=\"T_615a6_row2_col2\" class=\"data row2 col2\" >2 <span style=\"color: grey\">(1.1%) </span></td>\n",
       "      <td id=\"T_615a6_row2_col3\" class=\"data row2 col3\" >176 <span style=\"color: grey\">(100.0%) </span></td>\n",
       "    </tr>\n",
       "  </tbody>\n",
       "</table>\n"
      ],
      "text/plain": [
       "<pandas.io.formats.style.Styler at 0x30d32b500>"
      ]
     },
     "metadata": {},
     "output_type": "display_data"
    },
    {
     "data": {
      "text/html": [
       "<style type=\"text/css\">\n",
       "#T_b4aa6 th:first-child {\n",
       "  min-width: 400px !important;\n",
       "  max-width: 400px !important;\n",
       "  white-space: nowrap;\n",
       "  overflow: hidden;\n",
       "}\n",
       "#T_b4aa6  td:first-child {\n",
       "  min-width: 400px !important;\n",
       "  max-width: 400px !important;\n",
       "  white-space: nowrap;\n",
       "  overflow: hidden;\n",
       "}\n",
       "#T_b4aa6_row0_col0 {\n",
       "  width: 10em;\n",
       "  background: linear-gradient(90deg, lightblue 17.3%, transparent 17.3%);\n",
       "  font-family: Courier;\n",
       "}\n",
       "#T_b4aa6_row0_col1 {\n",
       "  width: 10em;\n",
       "  background: linear-gradient(90deg, lightblue 3.3%, transparent 3.3%);\n",
       "  font-family: Courier;\n",
       "}\n",
       "#T_b4aa6_row0_col2, #T_b4aa6_row1_col2 {\n",
       "  width: 10em;\n",
       "  background: linear-gradient(90deg, lightblue 33.3%, transparent 33.3%);\n",
       "  font-family: Courier;\n",
       "}\n",
       "#T_b4aa6_row0_col3 {\n",
       "  width: 10em;\n",
       "  background: linear-gradient(90deg, lightblue 13.6%, transparent 13.6%);\n",
       "  font-family: Courier;\n",
       "}\n",
       "#T_b4aa6_row1_col0 {\n",
       "  width: 10em;\n",
       "  background: linear-gradient(90deg, lightblue 63.5%, transparent 63.5%);\n",
       "  font-family: Courier;\n",
       "}\n",
       "#T_b4aa6_row1_col1 {\n",
       "  width: 10em;\n",
       "  background: linear-gradient(90deg, lightblue 63.3%, transparent 63.3%);\n",
       "  font-family: Courier;\n",
       "}\n",
       "#T_b4aa6_row1_col3 {\n",
       "  width: 10em;\n",
       "  background: linear-gradient(90deg, lightblue 61.4%, transparent 61.4%);\n",
       "  font-family: Courier;\n",
       "}\n",
       "#T_b4aa6_row2_col0 {\n",
       "  width: 10em;\n",
       "  background: linear-gradient(90deg, lightblue 3.8%, transparent 3.8%);\n",
       "  font-family: Courier;\n",
       "}\n",
       "#T_b4aa6_row2_col1, #T_b4aa6_row4_col1 {\n",
       "  width: 10em;\n",
       "  background: linear-gradient(90deg, lightblue 10.0%, transparent 10.0%);\n",
       "  font-family: Courier;\n",
       "}\n",
       "#T_b4aa6_row2_col2, #T_b4aa6_row3_col2 {\n",
       "  width: 10em;\n",
       "  background: linear-gradient(90deg, lightblue 16.7%, transparent 16.7%);\n",
       "  font-family: Courier;\n",
       "}\n",
       "#T_b4aa6_row2_col3 {\n",
       "  width: 10em;\n",
       "  background: linear-gradient(90deg, lightblue 6.8%, transparent 6.8%);\n",
       "  font-family: Courier;\n",
       "}\n",
       "#T_b4aa6_row3_col0 {\n",
       "  width: 10em;\n",
       "  background: linear-gradient(90deg, lightblue 5.8%, transparent 5.8%);\n",
       "  font-family: Courier;\n",
       "}\n",
       "#T_b4aa6_row3_col1 {\n",
       "  width: 10em;\n",
       "  background: linear-gradient(90deg, lightblue 13.3%, transparent 13.3%);\n",
       "  font-family: Courier;\n",
       "}\n",
       "#T_b4aa6_row3_col3, #T_b4aa6_row4_col3 {\n",
       "  width: 10em;\n",
       "  background: linear-gradient(90deg, lightblue 9.1%, transparent 9.1%);\n",
       "  font-family: Courier;\n",
       "}\n",
       "#T_b4aa6_row4_col0 {\n",
       "  width: 10em;\n",
       "  background: linear-gradient(90deg, lightblue 9.6%, transparent 9.6%);\n",
       "  font-family: Courier;\n",
       "}\n",
       "#T_b4aa6_row4_col2 {\n",
       "  width: 10em;\n",
       "  font-family: Courier;\n",
       "}\n",
       "#T_b4aa6_row5_col0, #T_b4aa6_row5_col1, #T_b4aa6_row5_col2, #T_b4aa6_row5_col3 {\n",
       "  width: 10em;\n",
       "  background: linear-gradient(90deg, lightblue 100.0%, transparent 100.0%);\n",
       "  font-family: Courier;\n",
       "}\n",
       "</style>\n",
       "<table id=\"T_b4aa6\">\n",
       "  <thead>\n",
       "    <tr>\n",
       "      <th class=\"index_name level0\" >[01.01] CTCAE</th>\n",
       "      <th id=\"T_b4aa6_level0_col0\" class=\"col_heading level0 col0\" >1</th>\n",
       "      <th id=\"T_b4aa6_level0_col1\" class=\"col_heading level0 col1\" >2</th>\n",
       "      <th id=\"T_b4aa6_level0_col2\" class=\"col_heading level0 col2\" >3</th>\n",
       "      <th id=\"T_b4aa6_level0_col3\" class=\"col_heading level0 col3\" >Total</th>\n",
       "    </tr>\n",
       "    <tr>\n",
       "      <th class=\"index_name level0\" >[03.08.01] Affected person</th>\n",
       "      <th class=\"blank col0\" >&nbsp;</th>\n",
       "      <th class=\"blank col1\" >&nbsp;</th>\n",
       "      <th class=\"blank col2\" >&nbsp;</th>\n",
       "      <th class=\"blank col3\" >&nbsp;</th>\n",
       "    </tr>\n",
       "  </thead>\n",
       "  <tbody>\n",
       "    <tr>\n",
       "      <th id=\"T_b4aa6_level0_row0\" class=\"row_heading level0 row0\" >BeIn the treatment team</th>\n",
       "      <td id=\"T_b4aa6_row0_col0\" class=\"data row0 col0\" >9 <span style=\"color: grey\">(10.2%) </span></td>\n",
       "      <td id=\"T_b4aa6_row0_col1\" class=\"data row0 col1\" >1 <span style=\"color: grey\">(1.1%) </span></td>\n",
       "      <td id=\"T_b4aa6_row0_col2\" class=\"data row0 col2\" >2 <span style=\"color: grey\">(2.3%) </span></td>\n",
       "      <td id=\"T_b4aa6_row0_col3\" class=\"data row0 col3\" >12 <span style=\"color: grey\">(13.6%) </span></td>\n",
       "    </tr>\n",
       "    <tr>\n",
       "      <th id=\"T_b4aa6_level0_row1\" class=\"row_heading level0 row1\" >For affected individuals</th>\n",
       "      <td id=\"T_b4aa6_row1_col0\" class=\"data row1 col0\" >33 <span style=\"color: grey\">(37.5%) </span></td>\n",
       "      <td id=\"T_b4aa6_row1_col1\" class=\"data row1 col1\" >19 <span style=\"color: grey\">(21.6%) </span></td>\n",
       "      <td id=\"T_b4aa6_row1_col2\" class=\"data row1 col2\" >2 <span style=\"color: grey\">(2.3%) </span></td>\n",
       "      <td id=\"T_b4aa6_row1_col3\" class=\"data row1 col3\" >54 <span style=\"color: grey\">(61.4%) </span></td>\n",
       "    </tr>\n",
       "    <tr>\n",
       "      <th id=\"T_b4aa6_level0_row2\" class=\"row_heading level0 row2\" >For parents des Betroffenen</th>\n",
       "      <td id=\"T_b4aa6_row2_col0\" class=\"data row2 col0\" >2 <span style=\"color: grey\">(2.3%) </span></td>\n",
       "      <td id=\"T_b4aa6_row2_col1\" class=\"data row2 col1\" >3 <span style=\"color: grey\">(3.4%) </span></td>\n",
       "      <td id=\"T_b4aa6_row2_col2\" class=\"data row2 col2\" >1 <span style=\"color: grey\">(1.1%) </span></td>\n",
       "      <td id=\"T_b4aa6_row2_col3\" class=\"data row2 col3\" >6 <span style=\"color: grey\">(6.8%) </span></td>\n",
       "    </tr>\n",
       "    <tr>\n",
       "      <th id=\"T_b4aa6_level0_row3\" class=\"row_heading level0 row3\" >For the excercise experts</th>\n",
       "      <td id=\"T_b4aa6_row3_col0\" class=\"data row3 col0\" >3 <span style=\"color: grey\">(3.4%) </span></td>\n",
       "      <td id=\"T_b4aa6_row3_col1\" class=\"data row3 col1\" >4 <span style=\"color: grey\">(4.5%) </span></td>\n",
       "      <td id=\"T_b4aa6_row3_col2\" class=\"data row3 col2\" >1 <span style=\"color: grey\">(1.1%) </span></td>\n",
       "      <td id=\"T_b4aa6_row3_col3\" class=\"data row3 col3\" >8 <span style=\"color: grey\">(9.1%) </span></td>\n",
       "    </tr>\n",
       "    <tr>\n",
       "      <th id=\"T_b4aa6_level0_row4\" class=\"row_heading level0 row4\" >Mit der Ablehnung weiterer sporttherapheutischer Angebote</th>\n",
       "      <td id=\"T_b4aa6_row4_col0\" class=\"data row4 col0\" >5 <span style=\"color: grey\">(5.7%) </span></td>\n",
       "      <td id=\"T_b4aa6_row4_col1\" class=\"data row4 col1\" >3 <span style=\"color: grey\">(3.4%) </span></td>\n",
       "      <td id=\"T_b4aa6_row4_col2\" class=\"data row4 col2\" ><span style=\"color: grey\">0 </span></td>\n",
       "      <td id=\"T_b4aa6_row4_col3\" class=\"data row4 col3\" >8 <span style=\"color: grey\">(9.1%) </span></td>\n",
       "    </tr>\n",
       "    <tr>\n",
       "      <th id=\"T_b4aa6_level0_row5\" class=\"row_heading level0 row5\" >Total</th>\n",
       "      <td id=\"T_b4aa6_row5_col0\" class=\"data row5 col0\" >52 <span style=\"color: grey\">(59.1%) </span></td>\n",
       "      <td id=\"T_b4aa6_row5_col1\" class=\"data row5 col1\" >30 <span style=\"color: grey\">(34.1%) </span></td>\n",
       "      <td id=\"T_b4aa6_row5_col2\" class=\"data row5 col2\" >6 <span style=\"color: grey\">(6.8%) </span></td>\n",
       "      <td id=\"T_b4aa6_row5_col3\" class=\"data row5 col3\" >88 <span style=\"color: grey\">(100.0%) </span></td>\n",
       "    </tr>\n",
       "  </tbody>\n",
       "</table>\n"
      ],
      "text/plain": [
       "<pandas.io.formats.style.Styler at 0x30d3286e0>"
      ]
     },
     "metadata": {},
     "output_type": "display_data"
    },
    {
     "data": {
      "text/html": [
       "<style type=\"text/css\">\n",
       "#T_0fb16 th:first-child {\n",
       "  min-width: 400px !important;\n",
       "  max-width: 400px !important;\n",
       "  white-space: nowrap;\n",
       "  overflow: hidden;\n",
       "}\n",
       "#T_0fb16  td:first-child {\n",
       "  min-width: 400px !important;\n",
       "  max-width: 400px !important;\n",
       "  white-space: nowrap;\n",
       "  overflow: hidden;\n",
       "}\n",
       "#T_0fb16_row0_col0 {\n",
       "  width: 10em;\n",
       "  background: linear-gradient(90deg, lightblue 3.8%, transparent 3.8%);\n",
       "  font-family: Courier;\n",
       "}\n",
       "#T_0fb16_row0_col1 {\n",
       "  width: 10em;\n",
       "  background: linear-gradient(90deg, lightblue 9.8%, transparent 9.8%);\n",
       "  font-family: Courier;\n",
       "}\n",
       "#T_0fb16_row0_col2 {\n",
       "  width: 10em;\n",
       "  background: linear-gradient(90deg, lightblue 33.3%, transparent 33.3%);\n",
       "  font-family: Courier;\n",
       "}\n",
       "#T_0fb16_row0_col3 {\n",
       "  width: 10em;\n",
       "  background: linear-gradient(90deg, lightblue 5.6%, transparent 5.6%);\n",
       "  font-family: Courier;\n",
       "}\n",
       "#T_0fb16_row1_col0 {\n",
       "  width: 10em;\n",
       "  background: linear-gradient(90deg, lightblue 96.2%, transparent 96.2%);\n",
       "  font-family: Courier;\n",
       "}\n",
       "#T_0fb16_row1_col1 {\n",
       "  width: 10em;\n",
       "  background: linear-gradient(90deg, lightblue 90.2%, transparent 90.2%);\n",
       "  font-family: Courier;\n",
       "}\n",
       "#T_0fb16_row1_col2 {\n",
       "  width: 10em;\n",
       "  background: linear-gradient(90deg, lightblue 66.7%, transparent 66.7%);\n",
       "  font-family: Courier;\n",
       "}\n",
       "#T_0fb16_row1_col3 {\n",
       "  width: 10em;\n",
       "  background: linear-gradient(90deg, lightblue 94.4%, transparent 94.4%);\n",
       "  font-family: Courier;\n",
       "}\n",
       "#T_0fb16_row2_col0, #T_0fb16_row2_col1, #T_0fb16_row2_col2, #T_0fb16_row2_col3 {\n",
       "  width: 10em;\n",
       "  background: linear-gradient(90deg, lightblue 100.0%, transparent 100.0%);\n",
       "  font-family: Courier;\n",
       "}\n",
       "</style>\n",
       "<table id=\"T_0fb16\">\n",
       "  <thead>\n",
       "    <tr>\n",
       "      <th class=\"index_name level0\" >[01.01] CTCAE</th>\n",
       "      <th id=\"T_0fb16_level0_col0\" class=\"col_heading level0 col0\" >1</th>\n",
       "      <th id=\"T_0fb16_level0_col1\" class=\"col_heading level0 col1\" >2</th>\n",
       "      <th id=\"T_0fb16_level0_col2\" class=\"col_heading level0 col2\" >3</th>\n",
       "      <th id=\"T_0fb16_level0_col3\" class=\"col_heading level0 col3\" >Total</th>\n",
       "    </tr>\n",
       "    <tr>\n",
       "      <th class=\"index_name level0\" >[03.09] Structural adjustment</th>\n",
       "      <th class=\"blank col0\" >&nbsp;</th>\n",
       "      <th class=\"blank col1\" >&nbsp;</th>\n",
       "      <th class=\"blank col2\" >&nbsp;</th>\n",
       "      <th class=\"blank col3\" >&nbsp;</th>\n",
       "    </tr>\n",
       "  </thead>\n",
       "  <tbody>\n",
       "    <tr>\n",
       "      <th id=\"T_0fb16_level0_row0\" class=\"row_heading level0 row0\" >Ja</th>\n",
       "      <td id=\"T_0fb16_row0_col0\" class=\"data row0 col0\" >5 <span style=\"color: grey\">(2.8%) </span></td>\n",
       "      <td id=\"T_0fb16_row0_col1\" class=\"data row0 col1\" >4 <span style=\"color: grey\">(2.3%) </span></td>\n",
       "      <td id=\"T_0fb16_row0_col2\" class=\"data row0 col2\" >1 <span style=\"color: grey\">(0.6%) </span></td>\n",
       "      <td id=\"T_0fb16_row0_col3\" class=\"data row0 col3\" >10 <span style=\"color: grey\">(5.6%) </span></td>\n",
       "    </tr>\n",
       "    <tr>\n",
       "      <th id=\"T_0fb16_level0_row1\" class=\"row_heading level0 row1\" >Nein</th>\n",
       "      <td id=\"T_0fb16_row1_col0\" class=\"data row1 col0\" >128 <span style=\"color: grey\">(72.3%) </span></td>\n",
       "      <td id=\"T_0fb16_row1_col1\" class=\"data row1 col1\" >37 <span style=\"color: grey\">(20.9%) </span></td>\n",
       "      <td id=\"T_0fb16_row1_col2\" class=\"data row1 col2\" >2 <span style=\"color: grey\">(1.1%) </span></td>\n",
       "      <td id=\"T_0fb16_row1_col3\" class=\"data row1 col3\" >167 <span style=\"color: grey\">(94.4%) </span></td>\n",
       "    </tr>\n",
       "    <tr>\n",
       "      <th id=\"T_0fb16_level0_row2\" class=\"row_heading level0 row2\" >Total</th>\n",
       "      <td id=\"T_0fb16_row2_col0\" class=\"data row2 col0\" >133 <span style=\"color: grey\">(75.1%) </span></td>\n",
       "      <td id=\"T_0fb16_row2_col1\" class=\"data row2 col1\" >41 <span style=\"color: grey\">(23.2%) </span></td>\n",
       "      <td id=\"T_0fb16_row2_col2\" class=\"data row2 col2\" >3 <span style=\"color: grey\">(1.7%) </span></td>\n",
       "      <td id=\"T_0fb16_row2_col3\" class=\"data row2 col3\" >177 <span style=\"color: grey\">(100.0%) </span></td>\n",
       "    </tr>\n",
       "  </tbody>\n",
       "</table>\n"
      ],
      "text/plain": [
       "<pandas.io.formats.style.Styler at 0x30d3280e0>"
      ]
     },
     "metadata": {},
     "output_type": "display_data"
    },
    {
     "data": {
      "text/html": [
       "<style type=\"text/css\">\n",
       "#T_40530 th:first-child {\n",
       "  min-width: 400px !important;\n",
       "  max-width: 400px !important;\n",
       "  white-space: nowrap;\n",
       "  overflow: hidden;\n",
       "}\n",
       "#T_40530  td:first-child {\n",
       "  min-width: 400px !important;\n",
       "  max-width: 400px !important;\n",
       "  white-space: nowrap;\n",
       "  overflow: hidden;\n",
       "}\n",
       "#T_40530_row0_col0 {\n",
       "  width: 10em;\n",
       "  background: linear-gradient(90deg, lightblue 78.2%, transparent 78.2%);\n",
       "  font-family: Courier;\n",
       "}\n",
       "#T_40530_row0_col1 {\n",
       "  width: 10em;\n",
       "  background: linear-gradient(90deg, lightblue 45.2%, transparent 45.2%);\n",
       "  font-family: Courier;\n",
       "}\n",
       "#T_40530_row0_col2, #T_40530_row1_col1, #T_40530_row1_col2, #T_40530_row3_col2, #T_40530_row4_col2, #T_40530_row5_col1, #T_40530_row5_col2 {\n",
       "  width: 10em;\n",
       "  font-family: Courier;\n",
       "}\n",
       "#T_40530_row0_col3 {\n",
       "  width: 10em;\n",
       "  background: linear-gradient(90deg, lightblue 69.1%, transparent 69.1%);\n",
       "  font-family: Courier;\n",
       "}\n",
       "#T_40530_row1_col0 {\n",
       "  width: 10em;\n",
       "  background: linear-gradient(90deg, lightblue 1.5%, transparent 1.5%);\n",
       "  font-family: Courier;\n",
       "}\n",
       "#T_40530_row1_col3 {\n",
       "  width: 10em;\n",
       "  background: linear-gradient(90deg, lightblue 1.1%, transparent 1.1%);\n",
       "  font-family: Courier;\n",
       "}\n",
       "#T_40530_row2_col0 {\n",
       "  width: 10em;\n",
       "  background: linear-gradient(90deg, lightblue 7.5%, transparent 7.5%);\n",
       "  font-family: Courier;\n",
       "}\n",
       "#T_40530_row2_col1 {\n",
       "  width: 10em;\n",
       "  background: linear-gradient(90deg, lightblue 33.3%, transparent 33.3%);\n",
       "  font-family: Courier;\n",
       "}\n",
       "#T_40530_row2_col2, #T_40530_row6_col0, #T_40530_row6_col1, #T_40530_row6_col2, #T_40530_row6_col3 {\n",
       "  width: 10em;\n",
       "  background: linear-gradient(90deg, lightblue 100.0%, transparent 100.0%);\n",
       "  font-family: Courier;\n",
       "}\n",
       "#T_40530_row2_col3 {\n",
       "  width: 10em;\n",
       "  background: linear-gradient(90deg, lightblue 15.2%, transparent 15.2%);\n",
       "  font-family: Courier;\n",
       "}\n",
       "#T_40530_row3_col0 {\n",
       "  width: 10em;\n",
       "  background: linear-gradient(90deg, lightblue 11.3%, transparent 11.3%);\n",
       "  font-family: Courier;\n",
       "}\n",
       "#T_40530_row3_col1 {\n",
       "  width: 10em;\n",
       "  background: linear-gradient(90deg, lightblue 16.7%, transparent 16.7%);\n",
       "  font-family: Courier;\n",
       "}\n",
       "#T_40530_row3_col3 {\n",
       "  width: 10em;\n",
       "  background: linear-gradient(90deg, lightblue 12.4%, transparent 12.4%);\n",
       "  font-family: Courier;\n",
       "}\n",
       "#T_40530_row4_col0, #T_40530_row5_col0 {\n",
       "  width: 10em;\n",
       "  background: linear-gradient(90deg, lightblue 0.8%, transparent 0.8%);\n",
       "  font-family: Courier;\n",
       "}\n",
       "#T_40530_row4_col1 {\n",
       "  width: 10em;\n",
       "  background: linear-gradient(90deg, lightblue 4.8%, transparent 4.8%);\n",
       "  font-family: Courier;\n",
       "}\n",
       "#T_40530_row4_col3 {\n",
       "  width: 10em;\n",
       "  background: linear-gradient(90deg, lightblue 1.7%, transparent 1.7%);\n",
       "  font-family: Courier;\n",
       "}\n",
       "#T_40530_row5_col3 {\n",
       "  width: 10em;\n",
       "  background: linear-gradient(90deg, lightblue 0.6%, transparent 0.6%);\n",
       "  font-family: Courier;\n",
       "}\n",
       "</style>\n",
       "<table id=\"T_40530\">\n",
       "  <thead>\n",
       "    <tr>\n",
       "      <th class=\"index_name level0\" >[01.01] CTCAE</th>\n",
       "      <th id=\"T_40530_level0_col0\" class=\"col_heading level0 col0\" >1</th>\n",
       "      <th id=\"T_40530_level0_col1\" class=\"col_heading level0 col1\" >2</th>\n",
       "      <th id=\"T_40530_level0_col2\" class=\"col_heading level0 col2\" >3</th>\n",
       "      <th id=\"T_40530_level0_col3\" class=\"col_heading level0 col3\" >Total</th>\n",
       "    </tr>\n",
       "    <tr>\n",
       "      <th class=\"index_name level0\" >[03.10.01] Approver</th>\n",
       "      <th class=\"blank col0\" >&nbsp;</th>\n",
       "      <th class=\"blank col1\" >&nbsp;</th>\n",
       "      <th class=\"blank col2\" >&nbsp;</th>\n",
       "      <th class=\"blank col3\" >&nbsp;</th>\n",
       "    </tr>\n",
       "  </thead>\n",
       "  <tbody>\n",
       "    <tr>\n",
       "      <th id=\"T_40530_level0_row0\" class=\"row_heading level0 row0\" >-</th>\n",
       "      <td id=\"T_40530_row0_col0\" class=\"data row0 col0\" >104 <span style=\"color: grey\">(58.4%) </span></td>\n",
       "      <td id=\"T_40530_row0_col1\" class=\"data row0 col1\" >19 <span style=\"color: grey\">(10.7%) </span></td>\n",
       "      <td id=\"T_40530_row0_col2\" class=\"data row0 col2\" ><span style=\"color: grey\">0 </span></td>\n",
       "      <td id=\"T_40530_row0_col3\" class=\"data row0 col3\" >123 <span style=\"color: grey\">(69.1%) </span></td>\n",
       "    </tr>\n",
       "    <tr>\n",
       "      <th id=\"T_40530_level0_row1\" class=\"row_heading level0 row1\" >Eltern</th>\n",
       "      <td id=\"T_40530_row1_col0\" class=\"data row1 col0\" >2 <span style=\"color: grey\">(1.1%) </span></td>\n",
       "      <td id=\"T_40530_row1_col1\" class=\"data row1 col1\" ><span style=\"color: grey\">0 </span></td>\n",
       "      <td id=\"T_40530_row1_col2\" class=\"data row1 col2\" ><span style=\"color: grey\">0 </span></td>\n",
       "      <td id=\"T_40530_row1_col3\" class=\"data row1 col3\" >2 <span style=\"color: grey\">(1.1%) </span></td>\n",
       "    </tr>\n",
       "    <tr>\n",
       "      <th id=\"T_40530_level0_row2\" class=\"row_heading level0 row2\" >Medizin</th>\n",
       "      <td id=\"T_40530_row2_col0\" class=\"data row2 col0\" >10 <span style=\"color: grey\">(5.6%) </span></td>\n",
       "      <td id=\"T_40530_row2_col1\" class=\"data row2 col1\" >14 <span style=\"color: grey\">(7.9%) </span></td>\n",
       "      <td id=\"T_40530_row2_col2\" class=\"data row2 col2\" >3 <span style=\"color: grey\">(1.7%) </span></td>\n",
       "      <td id=\"T_40530_row2_col3\" class=\"data row2 col3\" >27 <span style=\"color: grey\">(15.2%) </span></td>\n",
       "    </tr>\n",
       "    <tr>\n",
       "      <th id=\"T_40530_level0_row3\" class=\"row_heading level0 row3\" >Pflege</th>\n",
       "      <td id=\"T_40530_row3_col0\" class=\"data row3 col0\" >15 <span style=\"color: grey\">(8.4%) </span></td>\n",
       "      <td id=\"T_40530_row3_col1\" class=\"data row3 col1\" >7 <span style=\"color: grey\">(3.9%) </span></td>\n",
       "      <td id=\"T_40530_row3_col2\" class=\"data row3 col2\" ><span style=\"color: grey\">0 </span></td>\n",
       "      <td id=\"T_40530_row3_col3\" class=\"data row3 col3\" >22 <span style=\"color: grey\">(12.4%) </span></td>\n",
       "    </tr>\n",
       "    <tr>\n",
       "      <th id=\"T_40530_level0_row4\" class=\"row_heading level0 row4\" >Physiotherapie</th>\n",
       "      <td id=\"T_40530_row4_col0\" class=\"data row4 col0\" >1 <span style=\"color: grey\">(0.6%) </span></td>\n",
       "      <td id=\"T_40530_row4_col1\" class=\"data row4 col1\" >2 <span style=\"color: grey\">(1.1%) </span></td>\n",
       "      <td id=\"T_40530_row4_col2\" class=\"data row4 col2\" ><span style=\"color: grey\">0 </span></td>\n",
       "      <td id=\"T_40530_row4_col3\" class=\"data row4 col3\" >3 <span style=\"color: grey\">(1.7%) </span></td>\n",
       "    </tr>\n",
       "    <tr>\n",
       "      <th id=\"T_40530_level0_row5\" class=\"row_heading level0 row5\" >Psychosozialer Dienst</th>\n",
       "      <td id=\"T_40530_row5_col0\" class=\"data row5 col0\" >1 <span style=\"color: grey\">(0.6%) </span></td>\n",
       "      <td id=\"T_40530_row5_col1\" class=\"data row5 col1\" ><span style=\"color: grey\">0 </span></td>\n",
       "      <td id=\"T_40530_row5_col2\" class=\"data row5 col2\" ><span style=\"color: grey\">0 </span></td>\n",
       "      <td id=\"T_40530_row5_col3\" class=\"data row5 col3\" >1 <span style=\"color: grey\">(0.6%) </span></td>\n",
       "    </tr>\n",
       "    <tr>\n",
       "      <th id=\"T_40530_level0_row6\" class=\"row_heading level0 row6\" >Total</th>\n",
       "      <td id=\"T_40530_row6_col0\" class=\"data row6 col0\" >133 <span style=\"color: grey\">(74.7%) </span></td>\n",
       "      <td id=\"T_40530_row6_col1\" class=\"data row6 col1\" >42 <span style=\"color: grey\">(23.6%) </span></td>\n",
       "      <td id=\"T_40530_row6_col2\" class=\"data row6 col2\" >3 <span style=\"color: grey\">(1.7%) </span></td>\n",
       "      <td id=\"T_40530_row6_col3\" class=\"data row6 col3\" >178 <span style=\"color: grey\">(100.0%) </span></td>\n",
       "    </tr>\n",
       "  </tbody>\n",
       "</table>\n"
      ],
      "text/plain": [
       "<pandas.io.formats.style.Styler at 0x30d1e2510>"
      ]
     },
     "metadata": {},
     "output_type": "display_data"
    },
    {
     "data": {
      "text/html": [
       "<style type=\"text/css\">\n",
       "#T_8ebba th:first-child {\n",
       "  min-width: 400px !important;\n",
       "  max-width: 400px !important;\n",
       "  white-space: nowrap;\n",
       "  overflow: hidden;\n",
       "}\n",
       "#T_8ebba  td:first-child {\n",
       "  min-width: 400px !important;\n",
       "  max-width: 400px !important;\n",
       "  white-space: nowrap;\n",
       "  overflow: hidden;\n",
       "}\n",
       "#T_8ebba_row0_col0 {\n",
       "  width: 10em;\n",
       "  background: linear-gradient(90deg, lightblue 1.5%, transparent 1.5%);\n",
       "  font-family: Courier;\n",
       "}\n",
       "#T_8ebba_row0_col1, #T_8ebba_row1_col2 {\n",
       "  width: 10em;\n",
       "  background: linear-gradient(90deg, lightblue 33.3%, transparent 33.3%);\n",
       "  font-family: Courier;\n",
       "}\n",
       "#T_8ebba_row0_col2, #T_8ebba_row1_col1 {\n",
       "  width: 10em;\n",
       "  background: linear-gradient(90deg, lightblue 66.7%, transparent 66.7%);\n",
       "  font-family: Courier;\n",
       "}\n",
       "#T_8ebba_row0_col3 {\n",
       "  width: 10em;\n",
       "  background: linear-gradient(90deg, lightblue 10.1%, transparent 10.1%);\n",
       "  font-family: Courier;\n",
       "}\n",
       "#T_8ebba_row1_col0 {\n",
       "  width: 10em;\n",
       "  background: linear-gradient(90deg, lightblue 98.5%, transparent 98.5%);\n",
       "  font-family: Courier;\n",
       "}\n",
       "#T_8ebba_row1_col3 {\n",
       "  width: 10em;\n",
       "  background: linear-gradient(90deg, lightblue 89.9%, transparent 89.9%);\n",
       "  font-family: Courier;\n",
       "}\n",
       "#T_8ebba_row2_col0, #T_8ebba_row2_col1, #T_8ebba_row2_col2, #T_8ebba_row2_col3 {\n",
       "  width: 10em;\n",
       "  background: linear-gradient(90deg, lightblue 100.0%, transparent 100.0%);\n",
       "  font-family: Courier;\n",
       "}\n",
       "</style>\n",
       "<table id=\"T_8ebba\">\n",
       "  <thead>\n",
       "    <tr>\n",
       "      <th class=\"index_name level0\" >[01.01] CTCAE</th>\n",
       "      <th id=\"T_8ebba_level0_col0\" class=\"col_heading level0 col0\" >1</th>\n",
       "      <th id=\"T_8ebba_level0_col1\" class=\"col_heading level0 col1\" >2</th>\n",
       "      <th id=\"T_8ebba_level0_col2\" class=\"col_heading level0 col2\" >3</th>\n",
       "      <th id=\"T_8ebba_level0_col3\" class=\"col_heading level0 col3\" >Total</th>\n",
       "    </tr>\n",
       "    <tr>\n",
       "      <th class=\"index_name level0\" >[03.11] Application RICE rule (Rest, Ice, Compression, Elevation)</th>\n",
       "      <th class=\"blank col0\" >&nbsp;</th>\n",
       "      <th class=\"blank col1\" >&nbsp;</th>\n",
       "      <th class=\"blank col2\" >&nbsp;</th>\n",
       "      <th class=\"blank col3\" >&nbsp;</th>\n",
       "    </tr>\n",
       "  </thead>\n",
       "  <tbody>\n",
       "    <tr>\n",
       "      <th id=\"T_8ebba_level0_row0\" class=\"row_heading level0 row0\" >Ja</th>\n",
       "      <td id=\"T_8ebba_row0_col0\" class=\"data row0 col0\" >2 <span style=\"color: grey\">(1.1%) </span></td>\n",
       "      <td id=\"T_8ebba_row0_col1\" class=\"data row0 col1\" >14 <span style=\"color: grey\">(7.9%) </span></td>\n",
       "      <td id=\"T_8ebba_row0_col2\" class=\"data row0 col2\" >2 <span style=\"color: grey\">(1.1%) </span></td>\n",
       "      <td id=\"T_8ebba_row0_col3\" class=\"data row0 col3\" >18 <span style=\"color: grey\">(10.1%) </span></td>\n",
       "    </tr>\n",
       "    <tr>\n",
       "      <th id=\"T_8ebba_level0_row1\" class=\"row_heading level0 row1\" >Nein</th>\n",
       "      <td id=\"T_8ebba_row1_col0\" class=\"data row1 col0\" >131 <span style=\"color: grey\">(73.6%) </span></td>\n",
       "      <td id=\"T_8ebba_row1_col1\" class=\"data row1 col1\" >28 <span style=\"color: grey\">(15.7%) </span></td>\n",
       "      <td id=\"T_8ebba_row1_col2\" class=\"data row1 col2\" >1 <span style=\"color: grey\">(0.6%) </span></td>\n",
       "      <td id=\"T_8ebba_row1_col3\" class=\"data row1 col3\" >160 <span style=\"color: grey\">(89.9%) </span></td>\n",
       "    </tr>\n",
       "    <tr>\n",
       "      <th id=\"T_8ebba_level0_row2\" class=\"row_heading level0 row2\" >Total</th>\n",
       "      <td id=\"T_8ebba_row2_col0\" class=\"data row2 col0\" >133 <span style=\"color: grey\">(74.7%) </span></td>\n",
       "      <td id=\"T_8ebba_row2_col1\" class=\"data row2 col1\" >42 <span style=\"color: grey\">(23.6%) </span></td>\n",
       "      <td id=\"T_8ebba_row2_col2\" class=\"data row2 col2\" >3 <span style=\"color: grey\">(1.7%) </span></td>\n",
       "      <td id=\"T_8ebba_row2_col3\" class=\"data row2 col3\" >178 <span style=\"color: grey\">(100.0%) </span></td>\n",
       "    </tr>\n",
       "  </tbody>\n",
       "</table>\n"
      ],
      "text/plain": [
       "<pandas.io.formats.style.Styler at 0x30d32a9c0>"
      ]
     },
     "metadata": {},
     "output_type": "display_data"
    },
    {
     "data": {
      "text/html": [
       "<style type=\"text/css\">\n",
       "#T_875f6 th:first-child {\n",
       "  min-width: 400px !important;\n",
       "  max-width: 400px !important;\n",
       "  white-space: nowrap;\n",
       "  overflow: hidden;\n",
       "}\n",
       "#T_875f6  td:first-child {\n",
       "  min-width: 400px !important;\n",
       "  max-width: 400px !important;\n",
       "  white-space: nowrap;\n",
       "  overflow: hidden;\n",
       "}\n",
       "#T_875f6_row0_col0 {\n",
       "  width: 10em;\n",
       "  background: linear-gradient(90deg, lightblue 2.3%, transparent 2.3%);\n",
       "  font-family: Courier;\n",
       "}\n",
       "#T_875f6_row0_col1 {\n",
       "  width: 10em;\n",
       "  background: linear-gradient(90deg, lightblue 4.8%, transparent 4.8%);\n",
       "  font-family: Courier;\n",
       "}\n",
       "#T_875f6_row0_col2 {\n",
       "  width: 10em;\n",
       "  background: linear-gradient(90deg, lightblue 33.3%, transparent 33.3%);\n",
       "  font-family: Courier;\n",
       "}\n",
       "#T_875f6_row0_col3 {\n",
       "  width: 10em;\n",
       "  background: linear-gradient(90deg, lightblue 3.4%, transparent 3.4%);\n",
       "  font-family: Courier;\n",
       "}\n",
       "#T_875f6_row1_col0 {\n",
       "  width: 10em;\n",
       "  background: linear-gradient(90deg, lightblue 97.0%, transparent 97.0%);\n",
       "  font-family: Courier;\n",
       "}\n",
       "#T_875f6_row1_col1 {\n",
       "  width: 10em;\n",
       "  background: linear-gradient(90deg, lightblue 95.2%, transparent 95.2%);\n",
       "  font-family: Courier;\n",
       "}\n",
       "#T_875f6_row1_col2 {\n",
       "  width: 10em;\n",
       "  background: linear-gradient(90deg, lightblue 66.7%, transparent 66.7%);\n",
       "  font-family: Courier;\n",
       "}\n",
       "#T_875f6_row1_col3 {\n",
       "  width: 10em;\n",
       "  background: linear-gradient(90deg, lightblue 96.1%, transparent 96.1%);\n",
       "  font-family: Courier;\n",
       "}\n",
       "#T_875f6_row2_col0 {\n",
       "  width: 10em;\n",
       "  background: linear-gradient(90deg, lightblue 0.8%, transparent 0.8%);\n",
       "  font-family: Courier;\n",
       "}\n",
       "#T_875f6_row2_col1, #T_875f6_row2_col2 {\n",
       "  width: 10em;\n",
       "  font-family: Courier;\n",
       "}\n",
       "#T_875f6_row2_col3 {\n",
       "  width: 10em;\n",
       "  background: linear-gradient(90deg, lightblue 0.6%, transparent 0.6%);\n",
       "  font-family: Courier;\n",
       "}\n",
       "#T_875f6_row3_col0, #T_875f6_row3_col1, #T_875f6_row3_col2, #T_875f6_row3_col3 {\n",
       "  width: 10em;\n",
       "  background: linear-gradient(90deg, lightblue 100.0%, transparent 100.0%);\n",
       "  font-family: Courier;\n",
       "}\n",
       "</style>\n",
       "<table id=\"T_875f6\">\n",
       "  <thead>\n",
       "    <tr>\n",
       "      <th class=\"index_name level0\" >[01.01] CTCAE</th>\n",
       "      <th id=\"T_875f6_level0_col0\" class=\"col_heading level0 col0\" >1</th>\n",
       "      <th id=\"T_875f6_level0_col1\" class=\"col_heading level0 col1\" >2</th>\n",
       "      <th id=\"T_875f6_level0_col2\" class=\"col_heading level0 col2\" >3</th>\n",
       "      <th id=\"T_875f6_level0_col3\" class=\"col_heading level0 col3\" >Total</th>\n",
       "    </tr>\n",
       "    <tr>\n",
       "      <th class=\"index_name level0\" >[03.12] With observation</th>\n",
       "      <th class=\"blank col0\" >&nbsp;</th>\n",
       "      <th class=\"blank col1\" >&nbsp;</th>\n",
       "      <th class=\"blank col2\" >&nbsp;</th>\n",
       "      <th class=\"blank col3\" >&nbsp;</th>\n",
       "    </tr>\n",
       "  </thead>\n",
       "  <tbody>\n",
       "    <tr>\n",
       "      <th id=\"T_875f6_level0_row0\" class=\"row_heading level0 row0\" >Ja</th>\n",
       "      <td id=\"T_875f6_row0_col0\" class=\"data row0 col0\" >3 <span style=\"color: grey\">(1.7%) </span></td>\n",
       "      <td id=\"T_875f6_row0_col1\" class=\"data row0 col1\" >2 <span style=\"color: grey\">(1.1%) </span></td>\n",
       "      <td id=\"T_875f6_row0_col2\" class=\"data row0 col2\" >1 <span style=\"color: grey\">(0.6%) </span></td>\n",
       "      <td id=\"T_875f6_row0_col3\" class=\"data row0 col3\" >6 <span style=\"color: grey\">(3.4%) </span></td>\n",
       "    </tr>\n",
       "    <tr>\n",
       "      <th id=\"T_875f6_level0_row1\" class=\"row_heading level0 row1\" >Nein</th>\n",
       "      <td id=\"T_875f6_row1_col0\" class=\"data row1 col0\" >129 <span style=\"color: grey\">(72.5%) </span></td>\n",
       "      <td id=\"T_875f6_row1_col1\" class=\"data row1 col1\" >40 <span style=\"color: grey\">(22.5%) </span></td>\n",
       "      <td id=\"T_875f6_row1_col2\" class=\"data row1 col2\" >2 <span style=\"color: grey\">(1.1%) </span></td>\n",
       "      <td id=\"T_875f6_row1_col3\" class=\"data row1 col3\" >171 <span style=\"color: grey\">(96.1%) </span></td>\n",
       "    </tr>\n",
       "    <tr>\n",
       "      <th id=\"T_875f6_level0_row2\" class=\"row_heading level0 row2\" >U</th>\n",
       "      <td id=\"T_875f6_row2_col0\" class=\"data row2 col0\" >1 <span style=\"color: grey\">(0.6%) </span></td>\n",
       "      <td id=\"T_875f6_row2_col1\" class=\"data row2 col1\" ><span style=\"color: grey\">0 </span></td>\n",
       "      <td id=\"T_875f6_row2_col2\" class=\"data row2 col2\" ><span style=\"color: grey\">0 </span></td>\n",
       "      <td id=\"T_875f6_row2_col3\" class=\"data row2 col3\" >1 <span style=\"color: grey\">(0.6%) </span></td>\n",
       "    </tr>\n",
       "    <tr>\n",
       "      <th id=\"T_875f6_level0_row3\" class=\"row_heading level0 row3\" >Total</th>\n",
       "      <td id=\"T_875f6_row3_col0\" class=\"data row3 col0\" >133 <span style=\"color: grey\">(74.7%) </span></td>\n",
       "      <td id=\"T_875f6_row3_col1\" class=\"data row3 col1\" >42 <span style=\"color: grey\">(23.6%) </span></td>\n",
       "      <td id=\"T_875f6_row3_col2\" class=\"data row3 col2\" >3 <span style=\"color: grey\">(1.7%) </span></td>\n",
       "      <td id=\"T_875f6_row3_col3\" class=\"data row3 col3\" >178 <span style=\"color: grey\">(100.0%) </span></td>\n",
       "    </tr>\n",
       "  </tbody>\n",
       "</table>\n"
      ],
      "text/plain": [
       "<pandas.io.formats.style.Styler at 0x30d32a090>"
      ]
     },
     "metadata": {},
     "output_type": "display_data"
    },
    {
     "data": {
      "text/html": [
       "<style type=\"text/css\">\n",
       "#T_3785b th:first-child {\n",
       "  min-width: 400px !important;\n",
       "  max-width: 400px !important;\n",
       "  white-space: nowrap;\n",
       "  overflow: hidden;\n",
       "}\n",
       "#T_3785b  td:first-child {\n",
       "  min-width: 400px !important;\n",
       "  max-width: 400px !important;\n",
       "  white-space: nowrap;\n",
       "  overflow: hidden;\n",
       "}\n",
       "#T_3785b_row0_col0 {\n",
       "  width: 10em;\n",
       "  background: linear-gradient(90deg, lightblue 8.3%, transparent 8.3%);\n",
       "  font-family: Courier;\n",
       "}\n",
       "#T_3785b_row0_col1 {\n",
       "  width: 10em;\n",
       "  background: linear-gradient(90deg, lightblue 11.9%, transparent 11.9%);\n",
       "  font-family: Courier;\n",
       "}\n",
       "#T_3785b_row0_col2 {\n",
       "  width: 10em;\n",
       "  font-family: Courier;\n",
       "}\n",
       "#T_3785b_row0_col3 {\n",
       "  width: 10em;\n",
       "  background: linear-gradient(90deg, lightblue 9.0%, transparent 9.0%);\n",
       "  font-family: Courier;\n",
       "}\n",
       "#T_3785b_row1_col0 {\n",
       "  width: 10em;\n",
       "  background: linear-gradient(90deg, lightblue 91.7%, transparent 91.7%);\n",
       "  font-family: Courier;\n",
       "}\n",
       "#T_3785b_row1_col1 {\n",
       "  width: 10em;\n",
       "  background: linear-gradient(90deg, lightblue 88.1%, transparent 88.1%);\n",
       "  font-family: Courier;\n",
       "}\n",
       "#T_3785b_row1_col2, #T_3785b_row2_col0, #T_3785b_row2_col1, #T_3785b_row2_col2, #T_3785b_row2_col3 {\n",
       "  width: 10em;\n",
       "  background: linear-gradient(90deg, lightblue 100.0%, transparent 100.0%);\n",
       "  font-family: Courier;\n",
       "}\n",
       "#T_3785b_row1_col3 {\n",
       "  width: 10em;\n",
       "  background: linear-gradient(90deg, lightblue 91.0%, transparent 91.0%);\n",
       "  font-family: Courier;\n",
       "}\n",
       "</style>\n",
       "<table id=\"T_3785b\">\n",
       "  <thead>\n",
       "    <tr>\n",
       "      <th class=\"index_name level0\" >[01.01] CTCAE</th>\n",
       "      <th id=\"T_3785b_level0_col0\" class=\"col_heading level0 col0\" >1</th>\n",
       "      <th id=\"T_3785b_level0_col1\" class=\"col_heading level0 col1\" >2</th>\n",
       "      <th id=\"T_3785b_level0_col2\" class=\"col_heading level0 col2\" >3</th>\n",
       "      <th id=\"T_3785b_level0_col3\" class=\"col_heading level0 col3\" >Total</th>\n",
       "    </tr>\n",
       "    <tr>\n",
       "      <th class=\"index_name level0\" >[03.13] Stop</th>\n",
       "      <th class=\"blank col0\" >&nbsp;</th>\n",
       "      <th class=\"blank col1\" >&nbsp;</th>\n",
       "      <th class=\"blank col2\" >&nbsp;</th>\n",
       "      <th class=\"blank col3\" >&nbsp;</th>\n",
       "    </tr>\n",
       "  </thead>\n",
       "  <tbody>\n",
       "    <tr>\n",
       "      <th id=\"T_3785b_level0_row0\" class=\"row_heading level0 row0\" >No</th>\n",
       "      <td id=\"T_3785b_row0_col0\" class=\"data row0 col0\" >11 <span style=\"color: grey\">(6.2%) </span></td>\n",
       "      <td id=\"T_3785b_row0_col1\" class=\"data row0 col1\" >5 <span style=\"color: grey\">(2.8%) </span></td>\n",
       "      <td id=\"T_3785b_row0_col2\" class=\"data row0 col2\" ><span style=\"color: grey\">0 </span></td>\n",
       "      <td id=\"T_3785b_row0_col3\" class=\"data row0 col3\" >16 <span style=\"color: grey\">(9.0%) </span></td>\n",
       "    </tr>\n",
       "    <tr>\n",
       "      <th id=\"T_3785b_level0_row1\" class=\"row_heading level0 row1\" >Yes</th>\n",
       "      <td id=\"T_3785b_row1_col0\" class=\"data row1 col0\" >122 <span style=\"color: grey\">(68.5%) </span></td>\n",
       "      <td id=\"T_3785b_row1_col1\" class=\"data row1 col1\" >37 <span style=\"color: grey\">(20.8%) </span></td>\n",
       "      <td id=\"T_3785b_row1_col2\" class=\"data row1 col2\" >3 <span style=\"color: grey\">(1.7%) </span></td>\n",
       "      <td id=\"T_3785b_row1_col3\" class=\"data row1 col3\" >162 <span style=\"color: grey\">(91.0%) </span></td>\n",
       "    </tr>\n",
       "    <tr>\n",
       "      <th id=\"T_3785b_level0_row2\" class=\"row_heading level0 row2\" >Total</th>\n",
       "      <td id=\"T_3785b_row2_col0\" class=\"data row2 col0\" >133 <span style=\"color: grey\">(74.7%) </span></td>\n",
       "      <td id=\"T_3785b_row2_col1\" class=\"data row2 col1\" >42 <span style=\"color: grey\">(23.6%) </span></td>\n",
       "      <td id=\"T_3785b_row2_col2\" class=\"data row2 col2\" >3 <span style=\"color: grey\">(1.7%) </span></td>\n",
       "      <td id=\"T_3785b_row2_col3\" class=\"data row2 col3\" >178 <span style=\"color: grey\">(100.0%) </span></td>\n",
       "    </tr>\n",
       "  </tbody>\n",
       "</table>\n"
      ],
      "text/plain": [
       "<pandas.io.formats.style.Styler at 0x30d32a690>"
      ]
     },
     "metadata": {},
     "output_type": "display_data"
    },
    {
     "data": {
      "text/html": [
       "<style type=\"text/css\">\n",
       "#T_e9a3d th:first-child {\n",
       "  min-width: 400px !important;\n",
       "  max-width: 400px !important;\n",
       "  white-space: nowrap;\n",
       "  overflow: hidden;\n",
       "}\n",
       "#T_e9a3d  td:first-child {\n",
       "  min-width: 400px !important;\n",
       "  max-width: 400px !important;\n",
       "  white-space: nowrap;\n",
       "  overflow: hidden;\n",
       "}\n",
       "#T_e9a3d_row0_col0 {\n",
       "  width: 10em;\n",
       "  background: linear-gradient(90deg, lightblue 44.3%, transparent 44.3%);\n",
       "  font-family: Courier;\n",
       "}\n",
       "#T_e9a3d_row0_col1 {\n",
       "  width: 10em;\n",
       "  background: linear-gradient(90deg, lightblue 40.5%, transparent 40.5%);\n",
       "  font-family: Courier;\n",
       "}\n",
       "#T_e9a3d_row0_col2 {\n",
       "  width: 10em;\n",
       "  background: linear-gradient(90deg, lightblue 33.3%, transparent 33.3%);\n",
       "  font-family: Courier;\n",
       "}\n",
       "#T_e9a3d_row0_col3 {\n",
       "  width: 10em;\n",
       "  background: linear-gradient(90deg, lightblue 43.2%, transparent 43.2%);\n",
       "  font-family: Courier;\n",
       "}\n",
       "#T_e9a3d_row1_col0 {\n",
       "  width: 10em;\n",
       "  background: linear-gradient(90deg, lightblue 55.7%, transparent 55.7%);\n",
       "  font-family: Courier;\n",
       "}\n",
       "#T_e9a3d_row1_col1 {\n",
       "  width: 10em;\n",
       "  background: linear-gradient(90deg, lightblue 59.5%, transparent 59.5%);\n",
       "  font-family: Courier;\n",
       "}\n",
       "#T_e9a3d_row1_col2 {\n",
       "  width: 10em;\n",
       "  background: linear-gradient(90deg, lightblue 66.7%, transparent 66.7%);\n",
       "  font-family: Courier;\n",
       "}\n",
       "#T_e9a3d_row1_col3 {\n",
       "  width: 10em;\n",
       "  background: linear-gradient(90deg, lightblue 56.8%, transparent 56.8%);\n",
       "  font-family: Courier;\n",
       "}\n",
       "#T_e9a3d_row2_col0, #T_e9a3d_row2_col1, #T_e9a3d_row2_col2, #T_e9a3d_row2_col3 {\n",
       "  width: 10em;\n",
       "  background: linear-gradient(90deg, lightblue 100.0%, transparent 100.0%);\n",
       "  font-family: Courier;\n",
       "}\n",
       "</style>\n",
       "<table id=\"T_e9a3d\">\n",
       "  <thead>\n",
       "    <tr>\n",
       "      <th class=\"index_name level0\" >[01.01] CTCAE</th>\n",
       "      <th id=\"T_e9a3d_level0_col0\" class=\"col_heading level0 col0\" >1</th>\n",
       "      <th id=\"T_e9a3d_level0_col1\" class=\"col_heading level0 col1\" >2</th>\n",
       "      <th id=\"T_e9a3d_level0_col2\" class=\"col_heading level0 col2\" >3</th>\n",
       "      <th id=\"T_e9a3d_level0_col3\" class=\"col_heading level0 col3\" >Total</th>\n",
       "    </tr>\n",
       "    <tr>\n",
       "      <th class=\"index_name level0\" >[03.13.01] Stop or Break</th>\n",
       "      <th class=\"blank col0\" >&nbsp;</th>\n",
       "      <th class=\"blank col1\" >&nbsp;</th>\n",
       "      <th class=\"blank col2\" >&nbsp;</th>\n",
       "      <th class=\"blank col3\" >&nbsp;</th>\n",
       "    </tr>\n",
       "  </thead>\n",
       "  <tbody>\n",
       "    <tr>\n",
       "      <th id=\"T_e9a3d_level0_row0\" class=\"row_heading level0 row0\" >Break</th>\n",
       "      <td id=\"T_e9a3d_row0_col0\" class=\"data row0 col0\" >54 <span style=\"color: grey\">(33.3%) </span></td>\n",
       "      <td id=\"T_e9a3d_row0_col1\" class=\"data row0 col1\" >15 <span style=\"color: grey\">(9.3%) </span></td>\n",
       "      <td id=\"T_e9a3d_row0_col2\" class=\"data row0 col2\" >1 <span style=\"color: grey\">(0.6%) </span></td>\n",
       "      <td id=\"T_e9a3d_row0_col3\" class=\"data row0 col3\" >70 <span style=\"color: grey\">(43.2%) </span></td>\n",
       "    </tr>\n",
       "    <tr>\n",
       "      <th id=\"T_e9a3d_level0_row1\" class=\"row_heading level0 row1\" >Cessation</th>\n",
       "      <td id=\"T_e9a3d_row1_col0\" class=\"data row1 col0\" >68 <span style=\"color: grey\">(42.0%) </span></td>\n",
       "      <td id=\"T_e9a3d_row1_col1\" class=\"data row1 col1\" >22 <span style=\"color: grey\">(13.6%) </span></td>\n",
       "      <td id=\"T_e9a3d_row1_col2\" class=\"data row1 col2\" >2 <span style=\"color: grey\">(1.2%) </span></td>\n",
       "      <td id=\"T_e9a3d_row1_col3\" class=\"data row1 col3\" >92 <span style=\"color: grey\">(56.8%) </span></td>\n",
       "    </tr>\n",
       "    <tr>\n",
       "      <th id=\"T_e9a3d_level0_row2\" class=\"row_heading level0 row2\" >Total</th>\n",
       "      <td id=\"T_e9a3d_row2_col0\" class=\"data row2 col0\" >122 <span style=\"color: grey\">(75.3%) </span></td>\n",
       "      <td id=\"T_e9a3d_row2_col1\" class=\"data row2 col1\" >37 <span style=\"color: grey\">(22.8%) </span></td>\n",
       "      <td id=\"T_e9a3d_row2_col2\" class=\"data row2 col2\" >3 <span style=\"color: grey\">(1.9%) </span></td>\n",
       "      <td id=\"T_e9a3d_row2_col3\" class=\"data row2 col3\" >162 <span style=\"color: grey\">(100.0%) </span></td>\n",
       "    </tr>\n",
       "  </tbody>\n",
       "</table>\n"
      ],
      "text/plain": [
       "<pandas.io.formats.style.Styler at 0x30d32a8a0>"
      ]
     },
     "metadata": {},
     "output_type": "display_data"
    },
    {
     "data": {
      "text/html": [
       "<style type=\"text/css\">\n",
       "#T_a704c th:first-child {\n",
       "  min-width: 400px !important;\n",
       "  max-width: 400px !important;\n",
       "  white-space: nowrap;\n",
       "  overflow: hidden;\n",
       "}\n",
       "#T_a704c  td:first-child {\n",
       "  min-width: 400px !important;\n",
       "  max-width: 400px !important;\n",
       "  white-space: nowrap;\n",
       "  overflow: hidden;\n",
       "}\n",
       "#T_a704c_row0_col0, #T_a704c_row0_col1, #T_a704c_row0_col2, #T_a704c_row0_col3, #T_a704c_row1_col0, #T_a704c_row1_col1, #T_a704c_row1_col2, #T_a704c_row1_col3 {\n",
       "  width: 10em;\n",
       "  background: linear-gradient(90deg, lightblue 100.0%, transparent 100.0%);\n",
       "  font-family: Courier;\n",
       "}\n",
       "</style>\n",
       "<table id=\"T_a704c\">\n",
       "  <thead>\n",
       "    <tr>\n",
       "      <th class=\"index_name level0\" >[01.01] CTCAE</th>\n",
       "      <th id=\"T_a704c_level0_col0\" class=\"col_heading level0 col0\" >1</th>\n",
       "      <th id=\"T_a704c_level0_col1\" class=\"col_heading level0 col1\" >2</th>\n",
       "      <th id=\"T_a704c_level0_col2\" class=\"col_heading level0 col2\" >3</th>\n",
       "      <th id=\"T_a704c_level0_col3\" class=\"col_heading level0 col3\" >Total</th>\n",
       "    </tr>\n",
       "    <tr>\n",
       "      <th class=\"index_name level0\" >[03.14] Adaptations</th>\n",
       "      <th class=\"blank col0\" >&nbsp;</th>\n",
       "      <th class=\"blank col1\" >&nbsp;</th>\n",
       "      <th class=\"blank col2\" >&nbsp;</th>\n",
       "      <th class=\"blank col3\" >&nbsp;</th>\n",
       "    </tr>\n",
       "  </thead>\n",
       "  <tbody>\n",
       "    <tr>\n",
       "      <th id=\"T_a704c_level0_row0\" class=\"row_heading level0 row0\" >-</th>\n",
       "      <td id=\"T_a704c_row0_col0\" class=\"data row0 col0\" >133 <span style=\"color: grey\">(74.7%) </span></td>\n",
       "      <td id=\"T_a704c_row0_col1\" class=\"data row0 col1\" >42 <span style=\"color: grey\">(23.6%) </span></td>\n",
       "      <td id=\"T_a704c_row0_col2\" class=\"data row0 col2\" >3 <span style=\"color: grey\">(1.7%) </span></td>\n",
       "      <td id=\"T_a704c_row0_col3\" class=\"data row0 col3\" >178 <span style=\"color: grey\">(100.0%) </span></td>\n",
       "    </tr>\n",
       "    <tr>\n",
       "      <th id=\"T_a704c_level0_row1\" class=\"row_heading level0 row1\" >Total</th>\n",
       "      <td id=\"T_a704c_row1_col0\" class=\"data row1 col0\" >133 <span style=\"color: grey\">(74.7%) </span></td>\n",
       "      <td id=\"T_a704c_row1_col1\" class=\"data row1 col1\" >42 <span style=\"color: grey\">(23.6%) </span></td>\n",
       "      <td id=\"T_a704c_row1_col2\" class=\"data row1 col2\" >3 <span style=\"color: grey\">(1.7%) </span></td>\n",
       "      <td id=\"T_a704c_row1_col3\" class=\"data row1 col3\" >178 <span style=\"color: grey\">(100.0%) </span></td>\n",
       "    </tr>\n",
       "  </tbody>\n",
       "</table>\n"
      ],
      "text/plain": [
       "<pandas.io.formats.style.Styler at 0x30d3297c0>"
      ]
     },
     "metadata": {},
     "output_type": "display_data"
    },
    {
     "data": {
      "text/html": [
       "<style type=\"text/css\">\n",
       "#T_e23dd th:first-child {\n",
       "  min-width: 400px !important;\n",
       "  max-width: 400px !important;\n",
       "  white-space: nowrap;\n",
       "  overflow: hidden;\n",
       "}\n",
       "#T_e23dd  td:first-child {\n",
       "  min-width: 400px !important;\n",
       "  max-width: 400px !important;\n",
       "  white-space: nowrap;\n",
       "  overflow: hidden;\n",
       "}\n",
       "#T_e23dd_row0_col0 {\n",
       "  width: 10em;\n",
       "  background: linear-gradient(90deg, lightblue 5.8%, transparent 5.8%);\n",
       "  font-family: Courier;\n",
       "}\n",
       "#T_e23dd_row0_col1, #T_e23dd_row4_col1 {\n",
       "  width: 10em;\n",
       "  font-family: Courier;\n",
       "}\n",
       "#T_e23dd_row0_col2, #T_e23dd_row1_col2 {\n",
       "  width: 10em;\n",
       "  background: linear-gradient(90deg, lightblue 5.3%, transparent 5.3%);\n",
       "  font-family: Courier;\n",
       "}\n",
       "#T_e23dd_row1_col0, #T_e23dd_row4_col0 {\n",
       "  width: 10em;\n",
       "  background: linear-gradient(90deg, lightblue 3.8%, transparent 3.8%);\n",
       "  font-family: Courier;\n",
       "}\n",
       "#T_e23dd_row1_col1, #T_e23dd_row3_col1 {\n",
       "  width: 10em;\n",
       "  background: linear-gradient(90deg, lightblue 20.0%, transparent 20.0%);\n",
       "  font-family: Courier;\n",
       "}\n",
       "#T_e23dd_row2_col0 {\n",
       "  width: 10em;\n",
       "  background: linear-gradient(90deg, lightblue 51.9%, transparent 51.9%);\n",
       "  font-family: Courier;\n",
       "}\n",
       "#T_e23dd_row2_col1 {\n",
       "  width: 10em;\n",
       "  background: linear-gradient(90deg, lightblue 60.0%, transparent 60.0%);\n",
       "  font-family: Courier;\n",
       "}\n",
       "#T_e23dd_row2_col2 {\n",
       "  width: 10em;\n",
       "  background: linear-gradient(90deg, lightblue 52.6%, transparent 52.6%);\n",
       "  font-family: Courier;\n",
       "}\n",
       "#T_e23dd_row3_col0 {\n",
       "  width: 10em;\n",
       "  background: linear-gradient(90deg, lightblue 34.6%, transparent 34.6%);\n",
       "  font-family: Courier;\n",
       "}\n",
       "#T_e23dd_row3_col2 {\n",
       "  width: 10em;\n",
       "  background: linear-gradient(90deg, lightblue 33.3%, transparent 33.3%);\n",
       "  font-family: Courier;\n",
       "}\n",
       "#T_e23dd_row4_col2 {\n",
       "  width: 10em;\n",
       "  background: linear-gradient(90deg, lightblue 3.5%, transparent 3.5%);\n",
       "  font-family: Courier;\n",
       "}\n",
       "#T_e23dd_row5_col0, #T_e23dd_row5_col1, #T_e23dd_row5_col2 {\n",
       "  width: 10em;\n",
       "  background: linear-gradient(90deg, lightblue 100.0%, transparent 100.0%);\n",
       "  font-family: Courier;\n",
       "}\n",
       "</style>\n",
       "<table id=\"T_e23dd\">\n",
       "  <thead>\n",
       "    <tr>\n",
       "      <th class=\"index_name level0\" >[01.01] CTCAE</th>\n",
       "      <th id=\"T_e23dd_level0_col0\" class=\"col_heading level0 col0\" >1</th>\n",
       "      <th id=\"T_e23dd_level0_col1\" class=\"col_heading level0 col1\" >2</th>\n",
       "      <th id=\"T_e23dd_level0_col2\" class=\"col_heading level0 col2\" >Total</th>\n",
       "    </tr>\n",
       "    <tr>\n",
       "      <th class=\"index_name level0\" >[03.14.01] Adaptations intensity</th>\n",
       "      <th class=\"blank col0\" >&nbsp;</th>\n",
       "      <th class=\"blank col1\" >&nbsp;</th>\n",
       "      <th class=\"blank col2\" >&nbsp;</th>\n",
       "    </tr>\n",
       "  </thead>\n",
       "  <tbody>\n",
       "    <tr>\n",
       "      <th id=\"T_e23dd_level0_row0\" class=\"row_heading level0 row0\" >Communication strategy</th>\n",
       "      <td id=\"T_e23dd_row0_col0\" class=\"data row0 col0\" >3 <span style=\"color: grey\">(5.3%) </span></td>\n",
       "      <td id=\"T_e23dd_row0_col1\" class=\"data row0 col1\" ><span style=\"color: grey\">0 </span></td>\n",
       "      <td id=\"T_e23dd_row0_col2\" class=\"data row0 col2\" >3 <span style=\"color: grey\">(5.3%) </span></td>\n",
       "    </tr>\n",
       "    <tr>\n",
       "      <th id=\"T_e23dd_level0_row1\" class=\"row_heading level0 row1\" >Equipment</th>\n",
       "      <td id=\"T_e23dd_row1_col0\" class=\"data row1 col0\" >2 <span style=\"color: grey\">(3.5%) </span></td>\n",
       "      <td id=\"T_e23dd_row1_col1\" class=\"data row1 col1\" >1 <span style=\"color: grey\">(1.8%) </span></td>\n",
       "      <td id=\"T_e23dd_row1_col2\" class=\"data row1 col2\" >3 <span style=\"color: grey\">(5.3%) </span></td>\n",
       "    </tr>\n",
       "    <tr>\n",
       "      <th id=\"T_e23dd_level0_row2\" class=\"row_heading level0 row2\" >Exercise selection</th>\n",
       "      <td id=\"T_e23dd_row2_col0\" class=\"data row2 col0\" >27 <span style=\"color: grey\">(47.4%) </span></td>\n",
       "      <td id=\"T_e23dd_row2_col1\" class=\"data row2 col1\" >3 <span style=\"color: grey\">(5.3%) </span></td>\n",
       "      <td id=\"T_e23dd_row2_col2\" class=\"data row2 col2\" >30 <span style=\"color: grey\">(52.6%) </span></td>\n",
       "    </tr>\n",
       "    <tr>\n",
       "      <th id=\"T_e23dd_level0_row3\" class=\"row_heading level0 row3\" >Intensity</th>\n",
       "      <td id=\"T_e23dd_row3_col0\" class=\"data row3 col0\" >18 <span style=\"color: grey\">(31.6%) </span></td>\n",
       "      <td id=\"T_e23dd_row3_col1\" class=\"data row3 col1\" >1 <span style=\"color: grey\">(1.8%) </span></td>\n",
       "      <td id=\"T_e23dd_row3_col2\" class=\"data row3 col2\" >19 <span style=\"color: grey\">(33.3%) </span></td>\n",
       "    </tr>\n",
       "    <tr>\n",
       "      <th id=\"T_e23dd_level0_row4\" class=\"row_heading level0 row4\" >Setting</th>\n",
       "      <td id=\"T_e23dd_row4_col0\" class=\"data row4 col0\" >2 <span style=\"color: grey\">(3.5%) </span></td>\n",
       "      <td id=\"T_e23dd_row4_col1\" class=\"data row4 col1\" ><span style=\"color: grey\">0 </span></td>\n",
       "      <td id=\"T_e23dd_row4_col2\" class=\"data row4 col2\" >2 <span style=\"color: grey\">(3.5%) </span></td>\n",
       "    </tr>\n",
       "    <tr>\n",
       "      <th id=\"T_e23dd_level0_row5\" class=\"row_heading level0 row5\" >Total</th>\n",
       "      <td id=\"T_e23dd_row5_col0\" class=\"data row5 col0\" >52 <span style=\"color: grey\">(91.2%) </span></td>\n",
       "      <td id=\"T_e23dd_row5_col1\" class=\"data row5 col1\" >5 <span style=\"color: grey\">(8.8%) </span></td>\n",
       "      <td id=\"T_e23dd_row5_col2\" class=\"data row5 col2\" >57 <span style=\"color: grey\">(100.0%) </span></td>\n",
       "    </tr>\n",
       "  </tbody>\n",
       "</table>\n"
      ],
      "text/plain": [
       "<pandas.io.formats.style.Styler at 0x1045ff470>"
      ]
     },
     "metadata": {},
     "output_type": "display_data"
    },
    {
     "data": {
      "text/html": [
       "<style type=\"text/css\">\n",
       "#T_7dee2 th:first-child {\n",
       "  min-width: 400px !important;\n",
       "  max-width: 400px !important;\n",
       "  white-space: nowrap;\n",
       "  overflow: hidden;\n",
       "}\n",
       "#T_7dee2  td:first-child {\n",
       "  min-width: 400px !important;\n",
       "  max-width: 400px !important;\n",
       "  white-space: nowrap;\n",
       "  overflow: hidden;\n",
       "}\n",
       "#T_7dee2_row0_col0 {\n",
       "  width: 10em;\n",
       "  background: linear-gradient(90deg, lightblue 8.1%, transparent 8.1%);\n",
       "  font-family: Courier;\n",
       "}\n",
       "#T_7dee2_row0_col1, #T_7dee2_row1_col1 {\n",
       "  width: 10em;\n",
       "  font-family: Courier;\n",
       "}\n",
       "#T_7dee2_row0_col2 {\n",
       "  width: 10em;\n",
       "  background: linear-gradient(90deg, lightblue 7.3%, transparent 7.3%);\n",
       "  font-family: Courier;\n",
       "}\n",
       "#T_7dee2_row1_col0 {\n",
       "  width: 10em;\n",
       "  background: linear-gradient(90deg, lightblue 21.6%, transparent 21.6%);\n",
       "  font-family: Courier;\n",
       "}\n",
       "#T_7dee2_row1_col2 {\n",
       "  width: 10em;\n",
       "  background: linear-gradient(90deg, lightblue 19.5%, transparent 19.5%);\n",
       "  font-family: Courier;\n",
       "}\n",
       "#T_7dee2_row2_col0 {\n",
       "  width: 10em;\n",
       "  background: linear-gradient(90deg, lightblue 70.3%, transparent 70.3%);\n",
       "  font-family: Courier;\n",
       "}\n",
       "#T_7dee2_row2_col1, #T_7dee2_row3_col0, #T_7dee2_row3_col1, #T_7dee2_row3_col2 {\n",
       "  width: 10em;\n",
       "  background: linear-gradient(90deg, lightblue 100.0%, transparent 100.0%);\n",
       "  font-family: Courier;\n",
       "}\n",
       "#T_7dee2_row2_col2 {\n",
       "  width: 10em;\n",
       "  background: linear-gradient(90deg, lightblue 73.2%, transparent 73.2%);\n",
       "  font-family: Courier;\n",
       "}\n",
       "</style>\n",
       "<table id=\"T_7dee2\">\n",
       "  <thead>\n",
       "    <tr>\n",
       "      <th class=\"index_name level0\" >[01.01] CTCAE</th>\n",
       "      <th id=\"T_7dee2_level0_col0\" class=\"col_heading level0 col0\" >1</th>\n",
       "      <th id=\"T_7dee2_level0_col1\" class=\"col_heading level0 col1\" >2</th>\n",
       "      <th id=\"T_7dee2_level0_col2\" class=\"col_heading level0 col2\" >Total</th>\n",
       "    </tr>\n",
       "    <tr>\n",
       "      <th class=\"index_name level0\" >[03.14.02] Adaptations duration</th>\n",
       "      <th class=\"blank col0\" >&nbsp;</th>\n",
       "      <th class=\"blank col1\" >&nbsp;</th>\n",
       "      <th class=\"blank col2\" >&nbsp;</th>\n",
       "    </tr>\n",
       "  </thead>\n",
       "  <tbody>\n",
       "    <tr>\n",
       "      <th id=\"T_7dee2_level0_row0\" class=\"row_heading level0 row0\" >Ab jetzt für alle Bewegungseinheiten mit allen Patient*innen</th>\n",
       "      <td id=\"T_7dee2_row0_col0\" class=\"data row0 col0\" >3 <span style=\"color: grey\">(7.3%) </span></td>\n",
       "      <td id=\"T_7dee2_row0_col1\" class=\"data row0 col1\" ><span style=\"color: grey\">0 </span></td>\n",
       "      <td id=\"T_7dee2_row0_col2\" class=\"data row0 col2\" >3 <span style=\"color: grey\">(7.3%) </span></td>\n",
       "    </tr>\n",
       "    <tr>\n",
       "      <th id=\"T_7dee2_level0_row1\" class=\"row_heading level0 row1\" >Für die gesamte Therapiephase</th>\n",
       "      <td id=\"T_7dee2_row1_col0\" class=\"data row1 col0\" >8 <span style=\"color: grey\">(19.5%) </span></td>\n",
       "      <td id=\"T_7dee2_row1_col1\" class=\"data row1 col1\" ><span style=\"color: grey\">0 </span></td>\n",
       "      <td id=\"T_7dee2_row1_col2\" class=\"data row1 col2\" >8 <span style=\"color: grey\">(19.5%) </span></td>\n",
       "    </tr>\n",
       "    <tr>\n",
       "      <th id=\"T_7dee2_level0_row2\" class=\"row_heading level0 row2\" >Nur für diese Einheit</th>\n",
       "      <td id=\"T_7dee2_row2_col0\" class=\"data row2 col0\" >26 <span style=\"color: grey\">(63.4%) </span></td>\n",
       "      <td id=\"T_7dee2_row2_col1\" class=\"data row2 col1\" >4 <span style=\"color: grey\">(9.8%) </span></td>\n",
       "      <td id=\"T_7dee2_row2_col2\" class=\"data row2 col2\" >30 <span style=\"color: grey\">(73.2%) </span></td>\n",
       "    </tr>\n",
       "    <tr>\n",
       "      <th id=\"T_7dee2_level0_row3\" class=\"row_heading level0 row3\" >Total</th>\n",
       "      <td id=\"T_7dee2_row3_col0\" class=\"data row3 col0\" >37 <span style=\"color: grey\">(90.2%) </span></td>\n",
       "      <td id=\"T_7dee2_row3_col1\" class=\"data row3 col1\" >4 <span style=\"color: grey\">(9.8%) </span></td>\n",
       "      <td id=\"T_7dee2_row3_col2\" class=\"data row3 col2\" >41 <span style=\"color: grey\">(100.0%) </span></td>\n",
       "    </tr>\n",
       "  </tbody>\n",
       "</table>\n"
      ],
      "text/plain": [
       "<pandas.io.formats.style.Styler at 0x30d3288f0>"
      ]
     },
     "metadata": {},
     "output_type": "display_data"
    },
    {
     "data": {
      "text/html": [
       "<style type=\"text/css\">\n",
       "#T_e3957 th:first-child {\n",
       "  min-width: 400px !important;\n",
       "  max-width: 400px !important;\n",
       "  white-space: nowrap;\n",
       "  overflow: hidden;\n",
       "}\n",
       "#T_e3957  td:first-child {\n",
       "  min-width: 400px !important;\n",
       "  max-width: 400px !important;\n",
       "  white-space: nowrap;\n",
       "  overflow: hidden;\n",
       "}\n",
       "#T_e3957_row0_col0 {\n",
       "  width: 10em;\n",
       "  background: linear-gradient(90deg, lightblue 90.2%, transparent 90.2%);\n",
       "  font-family: Courier;\n",
       "}\n",
       "#T_e3957_row0_col1 {\n",
       "  width: 10em;\n",
       "  background: linear-gradient(90deg, lightblue 61.9%, transparent 61.9%);\n",
       "  font-family: Courier;\n",
       "}\n",
       "#T_e3957_row0_col2, #T_e3957_row1_col1 {\n",
       "  width: 10em;\n",
       "  background: linear-gradient(90deg, lightblue 33.3%, transparent 33.3%);\n",
       "  font-family: Courier;\n",
       "}\n",
       "#T_e3957_row0_col3 {\n",
       "  width: 10em;\n",
       "  background: linear-gradient(90deg, lightblue 82.6%, transparent 82.6%);\n",
       "  font-family: Courier;\n",
       "}\n",
       "#T_e3957_row1_col0 {\n",
       "  width: 10em;\n",
       "  background: linear-gradient(90deg, lightblue 6.8%, transparent 6.8%);\n",
       "  font-family: Courier;\n",
       "}\n",
       "#T_e3957_row1_col2 {\n",
       "  width: 10em;\n",
       "  background: linear-gradient(90deg, lightblue 66.7%, transparent 66.7%);\n",
       "  font-family: Courier;\n",
       "}\n",
       "#T_e3957_row1_col3 {\n",
       "  width: 10em;\n",
       "  background: linear-gradient(90deg, lightblue 14.0%, transparent 14.0%);\n",
       "  font-family: Courier;\n",
       "}\n",
       "#T_e3957_row2_col0 {\n",
       "  width: 10em;\n",
       "  background: linear-gradient(90deg, lightblue 3.0%, transparent 3.0%);\n",
       "  font-family: Courier;\n",
       "}\n",
       "#T_e3957_row2_col1 {\n",
       "  width: 10em;\n",
       "  background: linear-gradient(90deg, lightblue 4.8%, transparent 4.8%);\n",
       "  font-family: Courier;\n",
       "}\n",
       "#T_e3957_row2_col2 {\n",
       "  width: 10em;\n",
       "  font-family: Courier;\n",
       "}\n",
       "#T_e3957_row2_col3 {\n",
       "  width: 10em;\n",
       "  background: linear-gradient(90deg, lightblue 3.4%, transparent 3.4%);\n",
       "  font-family: Courier;\n",
       "}\n",
       "#T_e3957_row3_col0, #T_e3957_row3_col1, #T_e3957_row3_col2, #T_e3957_row3_col3 {\n",
       "  width: 10em;\n",
       "  background: linear-gradient(90deg, lightblue 100.0%, transparent 100.0%);\n",
       "  font-family: Courier;\n",
       "}\n",
       "</style>\n",
       "<table id=\"T_e3957\">\n",
       "  <thead>\n",
       "    <tr>\n",
       "      <th class=\"index_name level0\" >[01.01] CTCAE</th>\n",
       "      <th id=\"T_e3957_level0_col0\" class=\"col_heading level0 col0\" >1</th>\n",
       "      <th id=\"T_e3957_level0_col1\" class=\"col_heading level0 col1\" >2</th>\n",
       "      <th id=\"T_e3957_level0_col2\" class=\"col_heading level0 col2\" >3</th>\n",
       "      <th id=\"T_e3957_level0_col3\" class=\"col_heading level0 col3\" >Total</th>\n",
       "    </tr>\n",
       "    <tr>\n",
       "      <th class=\"index_name level0\" >[05.01] Therapy phase</th>\n",
       "      <th class=\"blank col0\" >&nbsp;</th>\n",
       "      <th class=\"blank col1\" >&nbsp;</th>\n",
       "      <th class=\"blank col2\" >&nbsp;</th>\n",
       "      <th class=\"blank col3\" >&nbsp;</th>\n",
       "    </tr>\n",
       "  </thead>\n",
       "  <tbody>\n",
       "    <tr>\n",
       "      <th id=\"T_e3957_level0_row0\" class=\"row_heading level0 row0\" >Acute therapy</th>\n",
       "      <td id=\"T_e3957_row0_col0\" class=\"data row0 col0\" >120 <span style=\"color: grey\">(67.4%) </span></td>\n",
       "      <td id=\"T_e3957_row0_col1\" class=\"data row0 col1\" >26 <span style=\"color: grey\">(14.6%) </span></td>\n",
       "      <td id=\"T_e3957_row0_col2\" class=\"data row0 col2\" >1 <span style=\"color: grey\">(0.6%) </span></td>\n",
       "      <td id=\"T_e3957_row0_col3\" class=\"data row0 col3\" >147 <span style=\"color: grey\">(82.6%) </span></td>\n",
       "    </tr>\n",
       "    <tr>\n",
       "      <th id=\"T_e3957_level0_row1\" class=\"row_heading level0 row1\" >Aftercare</th>\n",
       "      <td id=\"T_e3957_row1_col0\" class=\"data row1 col0\" >9 <span style=\"color: grey\">(5.1%) </span></td>\n",
       "      <td id=\"T_e3957_row1_col1\" class=\"data row1 col1\" >14 <span style=\"color: grey\">(7.9%) </span></td>\n",
       "      <td id=\"T_e3957_row1_col2\" class=\"data row1 col2\" >2 <span style=\"color: grey\">(1.1%) </span></td>\n",
       "      <td id=\"T_e3957_row1_col3\" class=\"data row1 col3\" >25 <span style=\"color: grey\">(14.0%) </span></td>\n",
       "    </tr>\n",
       "    <tr>\n",
       "      <th id=\"T_e3957_level0_row2\" class=\"row_heading level0 row2\" >Long-term therapy</th>\n",
       "      <td id=\"T_e3957_row2_col0\" class=\"data row2 col0\" >4 <span style=\"color: grey\">(2.2%) </span></td>\n",
       "      <td id=\"T_e3957_row2_col1\" class=\"data row2 col1\" >2 <span style=\"color: grey\">(1.1%) </span></td>\n",
       "      <td id=\"T_e3957_row2_col2\" class=\"data row2 col2\" ><span style=\"color: grey\">0 </span></td>\n",
       "      <td id=\"T_e3957_row2_col3\" class=\"data row2 col3\" >6 <span style=\"color: grey\">(3.4%) </span></td>\n",
       "    </tr>\n",
       "    <tr>\n",
       "      <th id=\"T_e3957_level0_row3\" class=\"row_heading level0 row3\" >Total</th>\n",
       "      <td id=\"T_e3957_row3_col0\" class=\"data row3 col0\" >133 <span style=\"color: grey\">(74.7%) </span></td>\n",
       "      <td id=\"T_e3957_row3_col1\" class=\"data row3 col1\" >42 <span style=\"color: grey\">(23.6%) </span></td>\n",
       "      <td id=\"T_e3957_row3_col2\" class=\"data row3 col2\" >3 <span style=\"color: grey\">(1.7%) </span></td>\n",
       "      <td id=\"T_e3957_row3_col3\" class=\"data row3 col3\" >178 <span style=\"color: grey\">(100.0%) </span></td>\n",
       "    </tr>\n",
       "  </tbody>\n",
       "</table>\n"
      ],
      "text/plain": [
       "<pandas.io.formats.style.Styler at 0x30d3281d0>"
      ]
     },
     "metadata": {},
     "output_type": "display_data"
    },
    {
     "data": {
      "text/html": [
       "<style type=\"text/css\">\n",
       "#T_9a73f th:first-child {\n",
       "  min-width: 400px !important;\n",
       "  max-width: 400px !important;\n",
       "  white-space: nowrap;\n",
       "  overflow: hidden;\n",
       "}\n",
       "#T_9a73f  td:first-child {\n",
       "  min-width: 400px !important;\n",
       "  max-width: 400px !important;\n",
       "  white-space: nowrap;\n",
       "  overflow: hidden;\n",
       "}\n",
       "#T_9a73f_row0_col0, #T_9a73f_row1_col0 {\n",
       "  width: 10em;\n",
       "  background: linear-gradient(90deg, lightblue 0.8%, transparent 0.8%);\n",
       "  font-family: Courier;\n",
       "}\n",
       "#T_9a73f_row0_col1 {\n",
       "  width: 10em;\n",
       "  background: linear-gradient(90deg, lightblue 2.4%, transparent 2.4%);\n",
       "  font-family: Courier;\n",
       "}\n",
       "#T_9a73f_row0_col2, #T_9a73f_row2_col0, #T_9a73f_row2_col2 {\n",
       "  width: 10em;\n",
       "  font-family: Courier;\n",
       "}\n",
       "#T_9a73f_row0_col3 {\n",
       "  width: 10em;\n",
       "  background: linear-gradient(90deg, lightblue 1.1%, transparent 1.1%);\n",
       "  font-family: Courier;\n",
       "}\n",
       "#T_9a73f_row1_col1 {\n",
       "  width: 10em;\n",
       "  background: linear-gradient(90deg, lightblue 9.5%, transparent 9.5%);\n",
       "  font-family: Courier;\n",
       "}\n",
       "#T_9a73f_row1_col2 {\n",
       "  width: 10em;\n",
       "  background: linear-gradient(90deg, lightblue 33.3%, transparent 33.3%);\n",
       "  font-family: Courier;\n",
       "}\n",
       "#T_9a73f_row1_col3, #T_9a73f_row2_col3 {\n",
       "  width: 10em;\n",
       "  background: linear-gradient(90deg, lightblue 3.4%, transparent 3.4%);\n",
       "  font-family: Courier;\n",
       "}\n",
       "#T_9a73f_row2_col1 {\n",
       "  width: 10em;\n",
       "  background: linear-gradient(90deg, lightblue 14.3%, transparent 14.3%);\n",
       "  font-family: Courier;\n",
       "}\n",
       "#T_9a73f_row3_col0 {\n",
       "  width: 10em;\n",
       "  background: linear-gradient(90deg, lightblue 98.4%, transparent 98.4%);\n",
       "  font-family: Courier;\n",
       "}\n",
       "#T_9a73f_row3_col1 {\n",
       "  width: 10em;\n",
       "  background: linear-gradient(90deg, lightblue 73.8%, transparent 73.8%);\n",
       "  font-family: Courier;\n",
       "}\n",
       "#T_9a73f_row3_col2 {\n",
       "  width: 10em;\n",
       "  background: linear-gradient(90deg, lightblue 66.7%, transparent 66.7%);\n",
       "  font-family: Courier;\n",
       "}\n",
       "#T_9a73f_row3_col3 {\n",
       "  width: 10em;\n",
       "  background: linear-gradient(90deg, lightblue 92.0%, transparent 92.0%);\n",
       "  font-family: Courier;\n",
       "}\n",
       "#T_9a73f_row4_col0, #T_9a73f_row4_col1, #T_9a73f_row4_col2, #T_9a73f_row4_col3 {\n",
       "  width: 10em;\n",
       "  background: linear-gradient(90deg, lightblue 100.0%, transparent 100.0%);\n",
       "  font-family: Courier;\n",
       "}\n",
       "</style>\n",
       "<table id=\"T_9a73f\">\n",
       "  <thead>\n",
       "    <tr>\n",
       "      <th class=\"index_name level0\" >[01.01] CTCAE</th>\n",
       "      <th id=\"T_9a73f_level0_col0\" class=\"col_heading level0 col0\" >1</th>\n",
       "      <th id=\"T_9a73f_level0_col1\" class=\"col_heading level0 col1\" >2</th>\n",
       "      <th id=\"T_9a73f_level0_col2\" class=\"col_heading level0 col2\" >3</th>\n",
       "      <th id=\"T_9a73f_level0_col3\" class=\"col_heading level0 col3\" >Total</th>\n",
       "    </tr>\n",
       "    <tr>\n",
       "      <th class=\"index_name level0\" >[05.02] Group size</th>\n",
       "      <th class=\"blank col0\" >&nbsp;</th>\n",
       "      <th class=\"blank col1\" >&nbsp;</th>\n",
       "      <th class=\"blank col2\" >&nbsp;</th>\n",
       "      <th class=\"blank col3\" >&nbsp;</th>\n",
       "    </tr>\n",
       "  </thead>\n",
       "  <tbody>\n",
       "    <tr>\n",
       "      <th id=\"T_9a73f_level0_row0\" class=\"row_heading level0 row0\" >Group 2-5</th>\n",
       "      <td id=\"T_9a73f_row0_col0\" class=\"data row0 col0\" >1 <span style=\"color: grey\">(0.6%) </span></td>\n",
       "      <td id=\"T_9a73f_row0_col1\" class=\"data row0 col1\" >1 <span style=\"color: grey\">(0.6%) </span></td>\n",
       "      <td id=\"T_9a73f_row0_col2\" class=\"data row0 col2\" ><span style=\"color: grey\">0 </span></td>\n",
       "      <td id=\"T_9a73f_row0_col3\" class=\"data row0 col3\" >2 <span style=\"color: grey\">(1.1%) </span></td>\n",
       "    </tr>\n",
       "    <tr>\n",
       "      <th id=\"T_9a73f_level0_row1\" class=\"row_heading level0 row1\" >Group 5 to 10</th>\n",
       "      <td id=\"T_9a73f_row1_col0\" class=\"data row1 col0\" >1 <span style=\"color: grey\">(0.6%) </span></td>\n",
       "      <td id=\"T_9a73f_row1_col1\" class=\"data row1 col1\" >4 <span style=\"color: grey\">(2.3%) </span></td>\n",
       "      <td id=\"T_9a73f_row1_col2\" class=\"data row1 col2\" >1 <span style=\"color: grey\">(0.6%) </span></td>\n",
       "      <td id=\"T_9a73f_row1_col3\" class=\"data row1 col3\" >6 <span style=\"color: grey\">(3.4%) </span></td>\n",
       "    </tr>\n",
       "    <tr>\n",
       "      <th id=\"T_9a73f_level0_row2\" class=\"row_heading level0 row2\" >Group over 10</th>\n",
       "      <td id=\"T_9a73f_row2_col0\" class=\"data row2 col0\" ><span style=\"color: grey\">0 </span></td>\n",
       "      <td id=\"T_9a73f_row2_col1\" class=\"data row2 col1\" >6 <span style=\"color: grey\">(3.4%) </span></td>\n",
       "      <td id=\"T_9a73f_row2_col2\" class=\"data row2 col2\" ><span style=\"color: grey\">0 </span></td>\n",
       "      <td id=\"T_9a73f_row2_col3\" class=\"data row2 col3\" >6 <span style=\"color: grey\">(3.4%) </span></td>\n",
       "    </tr>\n",
       "    <tr>\n",
       "      <th id=\"T_9a73f_level0_row3\" class=\"row_heading level0 row3\" >Individual</th>\n",
       "      <td id=\"T_9a73f_row3_col0\" class=\"data row3 col0\" >127 <span style=\"color: grey\">(73.0%) </span></td>\n",
       "      <td id=\"T_9a73f_row3_col1\" class=\"data row3 col1\" >31 <span style=\"color: grey\">(17.8%) </span></td>\n",
       "      <td id=\"T_9a73f_row3_col2\" class=\"data row3 col2\" >2 <span style=\"color: grey\">(1.1%) </span></td>\n",
       "      <td id=\"T_9a73f_row3_col3\" class=\"data row3 col3\" >160 <span style=\"color: grey\">(92.0%) </span></td>\n",
       "    </tr>\n",
       "    <tr>\n",
       "      <th id=\"T_9a73f_level0_row4\" class=\"row_heading level0 row4\" >Total</th>\n",
       "      <td id=\"T_9a73f_row4_col0\" class=\"data row4 col0\" >129 <span style=\"color: grey\">(74.1%) </span></td>\n",
       "      <td id=\"T_9a73f_row4_col1\" class=\"data row4 col1\" >42 <span style=\"color: grey\">(24.1%) </span></td>\n",
       "      <td id=\"T_9a73f_row4_col2\" class=\"data row4 col2\" >3 <span style=\"color: grey\">(1.7%) </span></td>\n",
       "      <td id=\"T_9a73f_row4_col3\" class=\"data row4 col3\" >174 <span style=\"color: grey\">(100.0%) </span></td>\n",
       "    </tr>\n",
       "  </tbody>\n",
       "</table>\n"
      ],
      "text/plain": [
       "<pandas.io.formats.style.Styler at 0x30d32b110>"
      ]
     },
     "metadata": {},
     "output_type": "display_data"
    },
    {
     "data": {
      "text/html": [
       "<style type=\"text/css\">\n",
       "#T_0f976 th:first-child {\n",
       "  min-width: 400px !important;\n",
       "  max-width: 400px !important;\n",
       "  white-space: nowrap;\n",
       "  overflow: hidden;\n",
       "}\n",
       "#T_0f976  td:first-child {\n",
       "  min-width: 400px !important;\n",
       "  max-width: 400px !important;\n",
       "  white-space: nowrap;\n",
       "  overflow: hidden;\n",
       "}\n",
       "#T_0f976_row0_col0 {\n",
       "  width: 10em;\n",
       "  background: linear-gradient(90deg, lightblue 13.4%, transparent 13.4%);\n",
       "  font-family: Courier;\n",
       "}\n",
       "#T_0f976_row0_col1, #T_0f976_row2_col1 {\n",
       "  width: 10em;\n",
       "  background: linear-gradient(90deg, lightblue 27.3%, transparent 27.3%);\n",
       "  font-family: Courier;\n",
       "}\n",
       "#T_0f976_row0_col2, #T_0f976_row1_col2, #T_0f976_row2_col2 {\n",
       "  width: 10em;\n",
       "  font-family: Courier;\n",
       "}\n",
       "#T_0f976_row0_col3 {\n",
       "  width: 10em;\n",
       "  background: linear-gradient(90deg, lightblue 16.5%, transparent 16.5%);\n",
       "  font-family: Courier;\n",
       "}\n",
       "#T_0f976_row1_col0 {\n",
       "  width: 10em;\n",
       "  background: linear-gradient(90deg, lightblue 35.1%, transparent 35.1%);\n",
       "  font-family: Courier;\n",
       "}\n",
       "#T_0f976_row1_col1, #T_0f976_row3_col1 {\n",
       "  width: 10em;\n",
       "  background: linear-gradient(90deg, lightblue 18.2%, transparent 18.2%);\n",
       "  font-family: Courier;\n",
       "}\n",
       "#T_0f976_row1_col3 {\n",
       "  width: 10em;\n",
       "  background: linear-gradient(90deg, lightblue 30.1%, transparent 30.1%);\n",
       "  font-family: Courier;\n",
       "}\n",
       "#T_0f976_row2_col0 {\n",
       "  width: 10em;\n",
       "  background: linear-gradient(90deg, lightblue 30.9%, transparent 30.9%);\n",
       "  font-family: Courier;\n",
       "}\n",
       "#T_0f976_row2_col3 {\n",
       "  width: 10em;\n",
       "  background: linear-gradient(90deg, lightblue 29.3%, transparent 29.3%);\n",
       "  font-family: Courier;\n",
       "}\n",
       "#T_0f976_row3_col0 {\n",
       "  width: 10em;\n",
       "  background: linear-gradient(90deg, lightblue 17.5%, transparent 17.5%);\n",
       "  font-family: Courier;\n",
       "}\n",
       "#T_0f976_row3_col2 {\n",
       "  width: 10em;\n",
       "  background: linear-gradient(90deg, lightblue 33.3%, transparent 33.3%);\n",
       "  font-family: Courier;\n",
       "}\n",
       "#T_0f976_row3_col3 {\n",
       "  width: 10em;\n",
       "  background: linear-gradient(90deg, lightblue 18.0%, transparent 18.0%);\n",
       "  font-family: Courier;\n",
       "}\n",
       "#T_0f976_row4_col0 {\n",
       "  width: 10em;\n",
       "  background: linear-gradient(90deg, lightblue 3.1%, transparent 3.1%);\n",
       "  font-family: Courier;\n",
       "}\n",
       "#T_0f976_row4_col1 {\n",
       "  width: 10em;\n",
       "  background: linear-gradient(90deg, lightblue 9.1%, transparent 9.1%);\n",
       "  font-family: Courier;\n",
       "}\n",
       "#T_0f976_row4_col2 {\n",
       "  width: 10em;\n",
       "  background: linear-gradient(90deg, lightblue 66.7%, transparent 66.7%);\n",
       "  font-family: Courier;\n",
       "}\n",
       "#T_0f976_row4_col3 {\n",
       "  width: 10em;\n",
       "  background: linear-gradient(90deg, lightblue 6.0%, transparent 6.0%);\n",
       "  font-family: Courier;\n",
       "}\n",
       "#T_0f976_row5_col0, #T_0f976_row5_col1, #T_0f976_row5_col2, #T_0f976_row5_col3 {\n",
       "  width: 10em;\n",
       "  background: linear-gradient(90deg, lightblue 100.0%, transparent 100.0%);\n",
       "  font-family: Courier;\n",
       "}\n",
       "</style>\n",
       "<table id=\"T_0f976\">\n",
       "  <thead>\n",
       "    <tr>\n",
       "      <th class=\"index_name level0\" >[01.01] CTCAE</th>\n",
       "      <th id=\"T_0f976_level0_col0\" class=\"col_heading level0 col0\" >1</th>\n",
       "      <th id=\"T_0f976_level0_col1\" class=\"col_heading level0 col1\" >2</th>\n",
       "      <th id=\"T_0f976_level0_col2\" class=\"col_heading level0 col2\" >3</th>\n",
       "      <th id=\"T_0f976_level0_col3\" class=\"col_heading level0 col3\" >Total</th>\n",
       "    </tr>\n",
       "    <tr>\n",
       "      <th class=\"index_name level0\" >[05.03] Age</th>\n",
       "      <th class=\"blank col0\" >&nbsp;</th>\n",
       "      <th class=\"blank col1\" >&nbsp;</th>\n",
       "      <th class=\"blank col2\" >&nbsp;</th>\n",
       "      <th class=\"blank col3\" >&nbsp;</th>\n",
       "    </tr>\n",
       "  </thead>\n",
       "  <tbody>\n",
       "    <tr>\n",
       "      <th id=\"T_0f976_level0_row0\" class=\"row_heading level0 row0\" >02 to 05 years</th>\n",
       "      <td id=\"T_0f976_row0_col0\" class=\"data row0 col0\" >13 <span style=\"color: grey\">(9.8%) </span></td>\n",
       "      <td id=\"T_0f976_row0_col1\" class=\"data row0 col1\" >9 <span style=\"color: grey\">(6.8%) </span></td>\n",
       "      <td id=\"T_0f976_row0_col2\" class=\"data row0 col2\" ><span style=\"color: grey\">0 </span></td>\n",
       "      <td id=\"T_0f976_row0_col3\" class=\"data row0 col3\" >22 <span style=\"color: grey\">(16.5%) </span></td>\n",
       "    </tr>\n",
       "    <tr>\n",
       "      <th id=\"T_0f976_level0_row1\" class=\"row_heading level0 row1\" >06 to 09 years</th>\n",
       "      <td id=\"T_0f976_row1_col0\" class=\"data row1 col0\" >34 <span style=\"color: grey\">(25.6%) </span></td>\n",
       "      <td id=\"T_0f976_row1_col1\" class=\"data row1 col1\" >6 <span style=\"color: grey\">(4.5%) </span></td>\n",
       "      <td id=\"T_0f976_row1_col2\" class=\"data row1 col2\" ><span style=\"color: grey\">0 </span></td>\n",
       "      <td id=\"T_0f976_row1_col3\" class=\"data row1 col3\" >40 <span style=\"color: grey\">(30.1%) </span></td>\n",
       "    </tr>\n",
       "    <tr>\n",
       "      <th id=\"T_0f976_level0_row2\" class=\"row_heading level0 row2\" >10 to 14 years</th>\n",
       "      <td id=\"T_0f976_row2_col0\" class=\"data row2 col0\" >30 <span style=\"color: grey\">(22.6%) </span></td>\n",
       "      <td id=\"T_0f976_row2_col1\" class=\"data row2 col1\" >9 <span style=\"color: grey\">(6.8%) </span></td>\n",
       "      <td id=\"T_0f976_row2_col2\" class=\"data row2 col2\" ><span style=\"color: grey\">0 </span></td>\n",
       "      <td id=\"T_0f976_row2_col3\" class=\"data row2 col3\" >39 <span style=\"color: grey\">(29.3%) </span></td>\n",
       "    </tr>\n",
       "    <tr>\n",
       "      <th id=\"T_0f976_level0_row3\" class=\"row_heading level0 row3\" >15 to 18 years</th>\n",
       "      <td id=\"T_0f976_row3_col0\" class=\"data row3 col0\" >17 <span style=\"color: grey\">(12.8%) </span></td>\n",
       "      <td id=\"T_0f976_row3_col1\" class=\"data row3 col1\" >6 <span style=\"color: grey\">(4.5%) </span></td>\n",
       "      <td id=\"T_0f976_row3_col2\" class=\"data row3 col2\" >1 <span style=\"color: grey\">(0.8%) </span></td>\n",
       "      <td id=\"T_0f976_row3_col3\" class=\"data row3 col3\" >24 <span style=\"color: grey\">(18.0%) </span></td>\n",
       "    </tr>\n",
       "    <tr>\n",
       "      <th id=\"T_0f976_level0_row4\" class=\"row_heading level0 row4\" >18+ years</th>\n",
       "      <td id=\"T_0f976_row4_col0\" class=\"data row4 col0\" >3 <span style=\"color: grey\">(2.3%) </span></td>\n",
       "      <td id=\"T_0f976_row4_col1\" class=\"data row4 col1\" >3 <span style=\"color: grey\">(2.3%) </span></td>\n",
       "      <td id=\"T_0f976_row4_col2\" class=\"data row4 col2\" >2 <span style=\"color: grey\">(1.5%) </span></td>\n",
       "      <td id=\"T_0f976_row4_col3\" class=\"data row4 col3\" >8 <span style=\"color: grey\">(6.0%) </span></td>\n",
       "    </tr>\n",
       "    <tr>\n",
       "      <th id=\"T_0f976_level0_row5\" class=\"row_heading level0 row5\" >Total</th>\n",
       "      <td id=\"T_0f976_row5_col0\" class=\"data row5 col0\" >97 <span style=\"color: grey\">(72.9%) </span></td>\n",
       "      <td id=\"T_0f976_row5_col1\" class=\"data row5 col1\" >33 <span style=\"color: grey\">(24.8%) </span></td>\n",
       "      <td id=\"T_0f976_row5_col2\" class=\"data row5 col2\" >3 <span style=\"color: grey\">(2.3%) </span></td>\n",
       "      <td id=\"T_0f976_row5_col3\" class=\"data row5 col3\" >133 <span style=\"color: grey\">(100.0%) </span></td>\n",
       "    </tr>\n",
       "  </tbody>\n",
       "</table>\n"
      ],
      "text/plain": [
       "<pandas.io.formats.style.Styler at 0x30d328680>"
      ]
     },
     "metadata": {},
     "output_type": "display_data"
    },
    {
     "data": {
      "text/html": [
       "<style type=\"text/css\">\n",
       "#T_0a6bd th:first-child {\n",
       "  min-width: 400px !important;\n",
       "  max-width: 400px !important;\n",
       "  white-space: nowrap;\n",
       "  overflow: hidden;\n",
       "}\n",
       "#T_0a6bd  td:first-child {\n",
       "  min-width: 400px !important;\n",
       "  max-width: 400px !important;\n",
       "  white-space: nowrap;\n",
       "  overflow: hidden;\n",
       "}\n",
       "#T_0a6bd_row0_col0 {\n",
       "  width: 10em;\n",
       "  background: linear-gradient(90deg, lightblue 96.2%, transparent 96.2%);\n",
       "  font-family: Courier;\n",
       "}\n",
       "#T_0a6bd_row0_col1 {\n",
       "  width: 10em;\n",
       "  background: linear-gradient(90deg, lightblue 95.2%, transparent 95.2%);\n",
       "  font-family: Courier;\n",
       "}\n",
       "#T_0a6bd_row0_col2, #T_0a6bd_row2_col0, #T_0a6bd_row2_col1, #T_0a6bd_row2_col2, #T_0a6bd_row2_col3 {\n",
       "  width: 10em;\n",
       "  background: linear-gradient(90deg, lightblue 100.0%, transparent 100.0%);\n",
       "  font-family: Courier;\n",
       "}\n",
       "#T_0a6bd_row0_col3 {\n",
       "  width: 10em;\n",
       "  background: linear-gradient(90deg, lightblue 96.0%, transparent 96.0%);\n",
       "  font-family: Courier;\n",
       "}\n",
       "#T_0a6bd_row1_col0 {\n",
       "  width: 10em;\n",
       "  background: linear-gradient(90deg, lightblue 3.8%, transparent 3.8%);\n",
       "  font-family: Courier;\n",
       "}\n",
       "#T_0a6bd_row1_col1 {\n",
       "  width: 10em;\n",
       "  background: linear-gradient(90deg, lightblue 4.8%, transparent 4.8%);\n",
       "  font-family: Courier;\n",
       "}\n",
       "#T_0a6bd_row1_col2 {\n",
       "  width: 10em;\n",
       "  font-family: Courier;\n",
       "}\n",
       "#T_0a6bd_row1_col3 {\n",
       "  width: 10em;\n",
       "  background: linear-gradient(90deg, lightblue 4.0%, transparent 4.0%);\n",
       "  font-family: Courier;\n",
       "}\n",
       "</style>\n",
       "<table id=\"T_0a6bd\">\n",
       "  <thead>\n",
       "    <tr>\n",
       "      <th class=\"index_name level0\" >[01.01] CTCAE</th>\n",
       "      <th id=\"T_0a6bd_level0_col0\" class=\"col_heading level0 col0\" >1</th>\n",
       "      <th id=\"T_0a6bd_level0_col1\" class=\"col_heading level0 col1\" >2</th>\n",
       "      <th id=\"T_0a6bd_level0_col2\" class=\"col_heading level0 col2\" >3</th>\n",
       "      <th id=\"T_0a6bd_level0_col3\" class=\"col_heading level0 col3\" >Total</th>\n",
       "    </tr>\n",
       "    <tr>\n",
       "      <th class=\"index_name level0\" >[05.04] Online</th>\n",
       "      <th class=\"blank col0\" >&nbsp;</th>\n",
       "      <th class=\"blank col1\" >&nbsp;</th>\n",
       "      <th class=\"blank col2\" >&nbsp;</th>\n",
       "      <th class=\"blank col3\" >&nbsp;</th>\n",
       "    </tr>\n",
       "  </thead>\n",
       "  <tbody>\n",
       "    <tr>\n",
       "      <th id=\"T_0a6bd_level0_row0\" class=\"row_heading level0 row0\" >No</th>\n",
       "      <td id=\"T_0a6bd_row0_col0\" class=\"data row0 col0\" >127 <span style=\"color: grey\">(71.8%) </span></td>\n",
       "      <td id=\"T_0a6bd_row0_col1\" class=\"data row0 col1\" >40 <span style=\"color: grey\">(22.6%) </span></td>\n",
       "      <td id=\"T_0a6bd_row0_col2\" class=\"data row0 col2\" >3 <span style=\"color: grey\">(1.7%) </span></td>\n",
       "      <td id=\"T_0a6bd_row0_col3\" class=\"data row0 col3\" >170 <span style=\"color: grey\">(96.0%) </span></td>\n",
       "    </tr>\n",
       "    <tr>\n",
       "      <th id=\"T_0a6bd_level0_row1\" class=\"row_heading level0 row1\" >Yes</th>\n",
       "      <td id=\"T_0a6bd_row1_col0\" class=\"data row1 col0\" >5 <span style=\"color: grey\">(2.8%) </span></td>\n",
       "      <td id=\"T_0a6bd_row1_col1\" class=\"data row1 col1\" >2 <span style=\"color: grey\">(1.1%) </span></td>\n",
       "      <td id=\"T_0a6bd_row1_col2\" class=\"data row1 col2\" ><span style=\"color: grey\">0 </span></td>\n",
       "      <td id=\"T_0a6bd_row1_col3\" class=\"data row1 col3\" >7 <span style=\"color: grey\">(4.0%) </span></td>\n",
       "    </tr>\n",
       "    <tr>\n",
       "      <th id=\"T_0a6bd_level0_row2\" class=\"row_heading level0 row2\" >Total</th>\n",
       "      <td id=\"T_0a6bd_row2_col0\" class=\"data row2 col0\" >132 <span style=\"color: grey\">(74.6%) </span></td>\n",
       "      <td id=\"T_0a6bd_row2_col1\" class=\"data row2 col1\" >42 <span style=\"color: grey\">(23.7%) </span></td>\n",
       "      <td id=\"T_0a6bd_row2_col2\" class=\"data row2 col2\" >3 <span style=\"color: grey\">(1.7%) </span></td>\n",
       "      <td id=\"T_0a6bd_row2_col3\" class=\"data row2 col3\" >177 <span style=\"color: grey\">(100.0%) </span></td>\n",
       "    </tr>\n",
       "  </tbody>\n",
       "</table>\n"
      ],
      "text/plain": [
       "<pandas.io.formats.style.Styler at 0x30d32cd40>"
      ]
     },
     "metadata": {},
     "output_type": "display_data"
    },
    {
     "data": {
      "text/html": [
       "<style type=\"text/css\">\n",
       "#T_943eb th:first-child {\n",
       "  min-width: 400px !important;\n",
       "  max-width: 400px !important;\n",
       "  white-space: nowrap;\n",
       "  overflow: hidden;\n",
       "}\n",
       "#T_943eb  td:first-child {\n",
       "  min-width: 400px !important;\n",
       "  max-width: 400px !important;\n",
       "  white-space: nowrap;\n",
       "  overflow: hidden;\n",
       "}\n",
       "#T_943eb_row0_col0 {\n",
       "  width: 10em;\n",
       "  background: linear-gradient(90deg, lightblue 97.0%, transparent 97.0%);\n",
       "  font-family: Courier;\n",
       "}\n",
       "#T_943eb_row0_col1, #T_943eb_row0_col2, #T_943eb_row2_col0, #T_943eb_row2_col1, #T_943eb_row2_col2, #T_943eb_row2_col3 {\n",
       "  width: 10em;\n",
       "  background: linear-gradient(90deg, lightblue 100.0%, transparent 100.0%);\n",
       "  font-family: Courier;\n",
       "}\n",
       "#T_943eb_row0_col3 {\n",
       "  width: 10em;\n",
       "  background: linear-gradient(90deg, lightblue 97.7%, transparent 97.7%);\n",
       "  font-family: Courier;\n",
       "}\n",
       "#T_943eb_row1_col0 {\n",
       "  width: 10em;\n",
       "  background: linear-gradient(90deg, lightblue 3.0%, transparent 3.0%);\n",
       "  font-family: Courier;\n",
       "}\n",
       "#T_943eb_row1_col1, #T_943eb_row1_col2 {\n",
       "  width: 10em;\n",
       "  font-family: Courier;\n",
       "}\n",
       "#T_943eb_row1_col3 {\n",
       "  width: 10em;\n",
       "  background: linear-gradient(90deg, lightblue 2.3%, transparent 2.3%);\n",
       "  font-family: Courier;\n",
       "}\n",
       "</style>\n",
       "<table id=\"T_943eb\">\n",
       "  <thead>\n",
       "    <tr>\n",
       "      <th class=\"index_name level0\" >[01.01] CTCAE</th>\n",
       "      <th id=\"T_943eb_level0_col0\" class=\"col_heading level0 col0\" >1</th>\n",
       "      <th id=\"T_943eb_level0_col1\" class=\"col_heading level0 col1\" >2</th>\n",
       "      <th id=\"T_943eb_level0_col2\" class=\"col_heading level0 col2\" >3</th>\n",
       "      <th id=\"T_943eb_level0_col3\" class=\"col_heading level0 col3\" >Total</th>\n",
       "    </tr>\n",
       "    <tr>\n",
       "      <th class=\"index_name level0\" >[05.05] As part of testing</th>\n",
       "      <th class=\"blank col0\" >&nbsp;</th>\n",
       "      <th class=\"blank col1\" >&nbsp;</th>\n",
       "      <th class=\"blank col2\" >&nbsp;</th>\n",
       "      <th class=\"blank col3\" >&nbsp;</th>\n",
       "    </tr>\n",
       "  </thead>\n",
       "  <tbody>\n",
       "    <tr>\n",
       "      <th id=\"T_943eb_level0_row0\" class=\"row_heading level0 row0\" >No</th>\n",
       "      <td id=\"T_943eb_row0_col0\" class=\"data row0 col0\" >129 <span style=\"color: grey\">(72.9%) </span></td>\n",
       "      <td id=\"T_943eb_row0_col1\" class=\"data row0 col1\" >41 <span style=\"color: grey\">(23.2%) </span></td>\n",
       "      <td id=\"T_943eb_row0_col2\" class=\"data row0 col2\" >3 <span style=\"color: grey\">(1.7%) </span></td>\n",
       "      <td id=\"T_943eb_row0_col3\" class=\"data row0 col3\" >173 <span style=\"color: grey\">(97.7%) </span></td>\n",
       "    </tr>\n",
       "    <tr>\n",
       "      <th id=\"T_943eb_level0_row1\" class=\"row_heading level0 row1\" >Yes</th>\n",
       "      <td id=\"T_943eb_row1_col0\" class=\"data row1 col0\" >4 <span style=\"color: grey\">(2.3%) </span></td>\n",
       "      <td id=\"T_943eb_row1_col1\" class=\"data row1 col1\" ><span style=\"color: grey\">0 </span></td>\n",
       "      <td id=\"T_943eb_row1_col2\" class=\"data row1 col2\" ><span style=\"color: grey\">0 </span></td>\n",
       "      <td id=\"T_943eb_row1_col3\" class=\"data row1 col3\" >4 <span style=\"color: grey\">(2.3%) </span></td>\n",
       "    </tr>\n",
       "    <tr>\n",
       "      <th id=\"T_943eb_level0_row2\" class=\"row_heading level0 row2\" >Total</th>\n",
       "      <td id=\"T_943eb_row2_col0\" class=\"data row2 col0\" >133 <span style=\"color: grey\">(75.1%) </span></td>\n",
       "      <td id=\"T_943eb_row2_col1\" class=\"data row2 col1\" >41 <span style=\"color: grey\">(23.2%) </span></td>\n",
       "      <td id=\"T_943eb_row2_col2\" class=\"data row2 col2\" >3 <span style=\"color: grey\">(1.7%) </span></td>\n",
       "      <td id=\"T_943eb_row2_col3\" class=\"data row2 col3\" >177 <span style=\"color: grey\">(100.0%) </span></td>\n",
       "    </tr>\n",
       "  </tbody>\n",
       "</table>\n"
      ],
      "text/plain": [
       "<pandas.io.formats.style.Styler at 0x30d328170>"
      ]
     },
     "metadata": {},
     "output_type": "display_data"
    },
    {
     "data": {
      "text/html": [
       "<style type=\"text/css\">\n",
       "#T_b57ad th:first-child {\n",
       "  min-width: 400px !important;\n",
       "  max-width: 400px !important;\n",
       "  white-space: nowrap;\n",
       "  overflow: hidden;\n",
       "}\n",
       "#T_b57ad  td:first-child {\n",
       "  min-width: 400px !important;\n",
       "  max-width: 400px !important;\n",
       "  white-space: nowrap;\n",
       "  overflow: hidden;\n",
       "}\n",
       "#T_b57ad_row0_col0 {\n",
       "  width: 10em;\n",
       "  background: linear-gradient(90deg, lightblue 4.2%, transparent 4.2%);\n",
       "  font-family: Courier;\n",
       "}\n",
       "#T_b57ad_row0_col1, #T_b57ad_row3_col0 {\n",
       "  width: 10em;\n",
       "  background: linear-gradient(90deg, lightblue 5.0%, transparent 5.0%);\n",
       "  font-family: Courier;\n",
       "}\n",
       "#T_b57ad_row0_col2, #T_b57ad_row2_col2, #T_b57ad_row4_col2 {\n",
       "  width: 10em;\n",
       "  font-family: Courier;\n",
       "}\n",
       "#T_b57ad_row0_col3 {\n",
       "  width: 10em;\n",
       "  background: linear-gradient(90deg, lightblue 4.3%, transparent 4.3%);\n",
       "  font-family: Courier;\n",
       "}\n",
       "#T_b57ad_row1_col0 {\n",
       "  width: 10em;\n",
       "  background: linear-gradient(90deg, lightblue 34.5%, transparent 34.5%);\n",
       "  font-family: Courier;\n",
       "}\n",
       "#T_b57ad_row1_col1 {\n",
       "  width: 10em;\n",
       "  background: linear-gradient(90deg, lightblue 47.5%, transparent 47.5%);\n",
       "  font-family: Courier;\n",
       "}\n",
       "#T_b57ad_row1_col2 {\n",
       "  width: 10em;\n",
       "  background: linear-gradient(90deg, lightblue 66.7%, transparent 66.7%);\n",
       "  font-family: Courier;\n",
       "}\n",
       "#T_b57ad_row1_col3 {\n",
       "  width: 10em;\n",
       "  background: linear-gradient(90deg, lightblue 38.3%, transparent 38.3%);\n",
       "  font-family: Courier;\n",
       "}\n",
       "#T_b57ad_row2_col0 {\n",
       "  width: 10em;\n",
       "  background: linear-gradient(90deg, lightblue 28.6%, transparent 28.6%);\n",
       "  font-family: Courier;\n",
       "}\n",
       "#T_b57ad_row2_col1 {\n",
       "  width: 10em;\n",
       "  background: linear-gradient(90deg, lightblue 17.5%, transparent 17.5%);\n",
       "  font-family: Courier;\n",
       "}\n",
       "#T_b57ad_row2_col3, #T_b57ad_row4_col3 {\n",
       "  width: 10em;\n",
       "  background: linear-gradient(90deg, lightblue 25.3%, transparent 25.3%);\n",
       "  font-family: Courier;\n",
       "}\n",
       "#T_b57ad_row3_col1 {\n",
       "  width: 10em;\n",
       "  background: linear-gradient(90deg, lightblue 10.0%, transparent 10.0%);\n",
       "  font-family: Courier;\n",
       "}\n",
       "#T_b57ad_row3_col2 {\n",
       "  width: 10em;\n",
       "  background: linear-gradient(90deg, lightblue 33.3%, transparent 33.3%);\n",
       "  font-family: Courier;\n",
       "}\n",
       "#T_b57ad_row3_col3 {\n",
       "  width: 10em;\n",
       "  background: linear-gradient(90deg, lightblue 6.8%, transparent 6.8%);\n",
       "  font-family: Courier;\n",
       "}\n",
       "#T_b57ad_row4_col0 {\n",
       "  width: 10em;\n",
       "  background: linear-gradient(90deg, lightblue 27.7%, transparent 27.7%);\n",
       "  font-family: Courier;\n",
       "}\n",
       "#T_b57ad_row4_col1 {\n",
       "  width: 10em;\n",
       "  background: linear-gradient(90deg, lightblue 20.0%, transparent 20.0%);\n",
       "  font-family: Courier;\n",
       "}\n",
       "#T_b57ad_row5_col0, #T_b57ad_row5_col1, #T_b57ad_row5_col2, #T_b57ad_row5_col3 {\n",
       "  width: 10em;\n",
       "  background: linear-gradient(90deg, lightblue 100.0%, transparent 100.0%);\n",
       "  font-family: Courier;\n",
       "}\n",
       "</style>\n",
       "<table id=\"T_b57ad\">\n",
       "  <thead>\n",
       "    <tr>\n",
       "      <th class=\"index_name level0\" >[01.01] CTCAE</th>\n",
       "      <th id=\"T_b57ad_level0_col0\" class=\"col_heading level0 col0\" >1</th>\n",
       "      <th id=\"T_b57ad_level0_col1\" class=\"col_heading level0 col1\" >2</th>\n",
       "      <th id=\"T_b57ad_level0_col2\" class=\"col_heading level0 col2\" >3</th>\n",
       "      <th id=\"T_b57ad_level0_col3\" class=\"col_heading level0 col3\" >Total</th>\n",
       "    </tr>\n",
       "    <tr>\n",
       "      <th class=\"index_name level0\" >[05.06] Setting</th>\n",
       "      <th class=\"blank col0\" >&nbsp;</th>\n",
       "      <th class=\"blank col1\" >&nbsp;</th>\n",
       "      <th class=\"blank col2\" >&nbsp;</th>\n",
       "      <th class=\"blank col3\" >&nbsp;</th>\n",
       "    </tr>\n",
       "  </thead>\n",
       "  <tbody>\n",
       "    <tr>\n",
       "      <th id=\"T_b57ad_level0_row0\" class=\"row_heading level0 row0\" >At home (via telemedicine)</th>\n",
       "      <td id=\"T_b57ad_row0_col0\" class=\"data row0 col0\" >5 <span style=\"color: grey\">(3.1%) </span></td>\n",
       "      <td id=\"T_b57ad_row0_col1\" class=\"data row0 col1\" >2 <span style=\"color: grey\">(1.2%) </span></td>\n",
       "      <td id=\"T_b57ad_row0_col2\" class=\"data row0 col2\" ><span style=\"color: grey\">0 </span></td>\n",
       "      <td id=\"T_b57ad_row0_col3\" class=\"data row0 col3\" >7 <span style=\"color: grey\">(4.3%) </span></td>\n",
       "    </tr>\n",
       "    <tr>\n",
       "      <th id=\"T_b57ad_level0_row1\" class=\"row_heading level0 row1\" >Gym</th>\n",
       "      <td id=\"T_b57ad_row1_col0\" class=\"data row1 col0\" >41 <span style=\"color: grey\">(25.3%) </span></td>\n",
       "      <td id=\"T_b57ad_row1_col1\" class=\"data row1 col1\" >19 <span style=\"color: grey\">(11.7%) </span></td>\n",
       "      <td id=\"T_b57ad_row1_col2\" class=\"data row1 col2\" >2 <span style=\"color: grey\">(1.2%) </span></td>\n",
       "      <td id=\"T_b57ad_row1_col3\" class=\"data row1 col3\" >62 <span style=\"color: grey\">(38.3%) </span></td>\n",
       "    </tr>\n",
       "    <tr>\n",
       "      <th id=\"T_b57ad_level0_row2\" class=\"row_heading level0 row2\" >Hospital corridor</th>\n",
       "      <td id=\"T_b57ad_row2_col0\" class=\"data row2 col0\" >34 <span style=\"color: grey\">(21.0%) </span></td>\n",
       "      <td id=\"T_b57ad_row2_col1\" class=\"data row2 col1\" >7 <span style=\"color: grey\">(4.3%) </span></td>\n",
       "      <td id=\"T_b57ad_row2_col2\" class=\"data row2 col2\" ><span style=\"color: grey\">0 </span></td>\n",
       "      <td id=\"T_b57ad_row2_col3\" class=\"data row2 col3\" >41 <span style=\"color: grey\">(25.3%) </span></td>\n",
       "    </tr>\n",
       "    <tr>\n",
       "      <th id=\"T_b57ad_level0_row3\" class=\"row_heading level0 row3\" >Outside</th>\n",
       "      <td id=\"T_b57ad_row3_col0\" class=\"data row3 col0\" >6 <span style=\"color: grey\">(3.7%) </span></td>\n",
       "      <td id=\"T_b57ad_row3_col1\" class=\"data row3 col1\" >4 <span style=\"color: grey\">(2.5%) </span></td>\n",
       "      <td id=\"T_b57ad_row3_col2\" class=\"data row3 col2\" >1 <span style=\"color: grey\">(0.6%) </span></td>\n",
       "      <td id=\"T_b57ad_row3_col3\" class=\"data row3 col3\" >11 <span style=\"color: grey\">(6.8%) </span></td>\n",
       "    </tr>\n",
       "    <tr>\n",
       "      <th id=\"T_b57ad_level0_row4\" class=\"row_heading level0 row4\" >Patients room</th>\n",
       "      <td id=\"T_b57ad_row4_col0\" class=\"data row4 col0\" >33 <span style=\"color: grey\">(20.4%) </span></td>\n",
       "      <td id=\"T_b57ad_row4_col1\" class=\"data row4 col1\" >8 <span style=\"color: grey\">(4.9%) </span></td>\n",
       "      <td id=\"T_b57ad_row4_col2\" class=\"data row4 col2\" ><span style=\"color: grey\">0 </span></td>\n",
       "      <td id=\"T_b57ad_row4_col3\" class=\"data row4 col3\" >41 <span style=\"color: grey\">(25.3%) </span></td>\n",
       "    </tr>\n",
       "    <tr>\n",
       "      <th id=\"T_b57ad_level0_row5\" class=\"row_heading level0 row5\" >Total</th>\n",
       "      <td id=\"T_b57ad_row5_col0\" class=\"data row5 col0\" >119 <span style=\"color: grey\">(73.5%) </span></td>\n",
       "      <td id=\"T_b57ad_row5_col1\" class=\"data row5 col1\" >40 <span style=\"color: grey\">(24.7%) </span></td>\n",
       "      <td id=\"T_b57ad_row5_col2\" class=\"data row5 col2\" >3 <span style=\"color: grey\">(1.9%) </span></td>\n",
       "      <td id=\"T_b57ad_row5_col3\" class=\"data row5 col3\" >162 <span style=\"color: grey\">(100.0%) </span></td>\n",
       "    </tr>\n",
       "  </tbody>\n",
       "</table>\n"
      ],
      "text/plain": [
       "<pandas.io.formats.style.Styler at 0x30d329b80>"
      ]
     },
     "metadata": {},
     "output_type": "display_data"
    },
    {
     "data": {
      "text/html": [
       "<style type=\"text/css\">\n",
       "#T_d94f4 th:first-child {\n",
       "  min-width: 400px !important;\n",
       "  max-width: 400px !important;\n",
       "  white-space: nowrap;\n",
       "  overflow: hidden;\n",
       "}\n",
       "#T_d94f4  td:first-child {\n",
       "  min-width: 400px !important;\n",
       "  max-width: 400px !important;\n",
       "  white-space: nowrap;\n",
       "  overflow: hidden;\n",
       "}\n",
       "#T_d94f4_row0_col0 {\n",
       "  width: 10em;\n",
       "  background: linear-gradient(90deg, lightblue 34.7%, transparent 34.7%);\n",
       "  font-family: Courier;\n",
       "}\n",
       "#T_d94f4_row0_col1 {\n",
       "  width: 10em;\n",
       "  background: linear-gradient(90deg, lightblue 34.5%, transparent 34.5%);\n",
       "  font-family: Courier;\n",
       "}\n",
       "#T_d94f4_row0_col2 {\n",
       "  width: 10em;\n",
       "  background: linear-gradient(90deg, lightblue 75.0%, transparent 75.0%);\n",
       "  font-family: Courier;\n",
       "}\n",
       "#T_d94f4_row0_col3 {\n",
       "  width: 10em;\n",
       "  background: linear-gradient(90deg, lightblue 35.4%, transparent 35.4%);\n",
       "  font-family: Courier;\n",
       "}\n",
       "#T_d94f4_row1_col0, #T_d94f4_row6_col1 {\n",
       "  width: 10em;\n",
       "  background: linear-gradient(90deg, lightblue 21.8%, transparent 21.8%);\n",
       "  font-family: Courier;\n",
       "}\n",
       "#T_d94f4_row1_col1 {\n",
       "  width: 10em;\n",
       "  background: linear-gradient(90deg, lightblue 20.0%, transparent 20.0%);\n",
       "  font-family: Courier;\n",
       "}\n",
       "#T_d94f4_row1_col2, #T_d94f4_row2_col2, #T_d94f4_row3_col2, #T_d94f4_row4_col1, #T_d94f4_row4_col2, #T_d94f4_row5_col2 {\n",
       "  width: 10em;\n",
       "  font-family: Courier;\n",
       "}\n",
       "#T_d94f4_row1_col3 {\n",
       "  width: 10em;\n",
       "  background: linear-gradient(90deg, lightblue 21.0%, transparent 21.0%);\n",
       "  font-family: Courier;\n",
       "}\n",
       "#T_d94f4_row2_col0 {\n",
       "  width: 10em;\n",
       "  background: linear-gradient(90deg, lightblue 12.4%, transparent 12.4%);\n",
       "  font-family: Courier;\n",
       "}\n",
       "#T_d94f4_row2_col1 {\n",
       "  width: 10em;\n",
       "  background: linear-gradient(90deg, lightblue 5.5%, transparent 5.5%);\n",
       "  font-family: Courier;\n",
       "}\n",
       "#T_d94f4_row2_col3, #T_d94f4_row3_col3 {\n",
       "  width: 10em;\n",
       "  background: linear-gradient(90deg, lightblue 10.5%, transparent 10.5%);\n",
       "  font-family: Courier;\n",
       "}\n",
       "#T_d94f4_row3_col0 {\n",
       "  width: 10em;\n",
       "  background: linear-gradient(90deg, lightblue 11.2%, transparent 11.2%);\n",
       "  font-family: Courier;\n",
       "}\n",
       "#T_d94f4_row3_col1, #T_d94f4_row5_col1 {\n",
       "  width: 10em;\n",
       "  background: linear-gradient(90deg, lightblue 9.1%, transparent 9.1%);\n",
       "  font-family: Courier;\n",
       "}\n",
       "#T_d94f4_row4_col0 {\n",
       "  width: 10em;\n",
       "  background: linear-gradient(90deg, lightblue 1.2%, transparent 1.2%);\n",
       "  font-family: Courier;\n",
       "}\n",
       "#T_d94f4_row4_col3 {\n",
       "  width: 10em;\n",
       "  background: linear-gradient(90deg, lightblue 0.9%, transparent 0.9%);\n",
       "  font-family: Courier;\n",
       "}\n",
       "#T_d94f4_row5_col0 {\n",
       "  width: 10em;\n",
       "  background: linear-gradient(90deg, lightblue 2.9%, transparent 2.9%);\n",
       "  font-family: Courier;\n",
       "}\n",
       "#T_d94f4_row5_col3 {\n",
       "  width: 10em;\n",
       "  background: linear-gradient(90deg, lightblue 4.4%, transparent 4.4%);\n",
       "  font-family: Courier;\n",
       "}\n",
       "#T_d94f4_row6_col0 {\n",
       "  width: 10em;\n",
       "  background: linear-gradient(90deg, lightblue 15.9%, transparent 15.9%);\n",
       "  font-family: Courier;\n",
       "}\n",
       "#T_d94f4_row6_col2 {\n",
       "  width: 10em;\n",
       "  background: linear-gradient(90deg, lightblue 25.0%, transparent 25.0%);\n",
       "  font-family: Courier;\n",
       "}\n",
       "#T_d94f4_row6_col3 {\n",
       "  width: 10em;\n",
       "  background: linear-gradient(90deg, lightblue 17.5%, transparent 17.5%);\n",
       "  font-family: Courier;\n",
       "}\n",
       "#T_d94f4_row7_col0, #T_d94f4_row7_col1, #T_d94f4_row7_col2, #T_d94f4_row7_col3 {\n",
       "  width: 10em;\n",
       "  background: linear-gradient(90deg, lightblue 100.0%, transparent 100.0%);\n",
       "  font-family: Courier;\n",
       "}\n",
       "</style>\n",
       "<table id=\"T_d94f4\">\n",
       "  <thead>\n",
       "    <tr>\n",
       "      <th class=\"index_name level0\" >[01.01] CTCAE</th>\n",
       "      <th id=\"T_d94f4_level0_col0\" class=\"col_heading level0 col0\" >1</th>\n",
       "      <th id=\"T_d94f4_level0_col1\" class=\"col_heading level0 col1\" >2</th>\n",
       "      <th id=\"T_d94f4_level0_col2\" class=\"col_heading level0 col2\" >3</th>\n",
       "      <th id=\"T_d94f4_level0_col3\" class=\"col_heading level0 col3\" >Total</th>\n",
       "    </tr>\n",
       "    <tr>\n",
       "      <th class=\"index_name level0\" >[05.07] Main motor skill</th>\n",
       "      <th class=\"blank col0\" >&nbsp;</th>\n",
       "      <th class=\"blank col1\" >&nbsp;</th>\n",
       "      <th class=\"blank col2\" >&nbsp;</th>\n",
       "      <th class=\"blank col3\" >&nbsp;</th>\n",
       "    </tr>\n",
       "  </thead>\n",
       "  <tbody>\n",
       "    <tr>\n",
       "      <th id=\"T_d94f4_level0_row0\" class=\"row_heading level0 row0\" >Coordination</th>\n",
       "      <td id=\"T_d94f4_row0_col0\" class=\"data row0 col0\" >59 <span style=\"color: grey\">(25.8%) </span></td>\n",
       "      <td id=\"T_d94f4_row0_col1\" class=\"data row0 col1\" >19 <span style=\"color: grey\">(8.3%) </span></td>\n",
       "      <td id=\"T_d94f4_row0_col2\" class=\"data row0 col2\" >3 <span style=\"color: grey\">(1.3%) </span></td>\n",
       "      <td id=\"T_d94f4_row0_col3\" class=\"data row0 col3\" >81 <span style=\"color: grey\">(35.4%) </span></td>\n",
       "    </tr>\n",
       "    <tr>\n",
       "      <th id=\"T_d94f4_level0_row1\" class=\"row_heading level0 row1\" >Endurance</th>\n",
       "      <td id=\"T_d94f4_row1_col0\" class=\"data row1 col0\" >37 <span style=\"color: grey\">(16.2%) </span></td>\n",
       "      <td id=\"T_d94f4_row1_col1\" class=\"data row1 col1\" >11 <span style=\"color: grey\">(4.8%) </span></td>\n",
       "      <td id=\"T_d94f4_row1_col2\" class=\"data row1 col2\" ><span style=\"color: grey\">0 </span></td>\n",
       "      <td id=\"T_d94f4_row1_col3\" class=\"data row1 col3\" >48 <span style=\"color: grey\">(21.0%) </span></td>\n",
       "    </tr>\n",
       "    <tr>\n",
       "      <th id=\"T_d94f4_level0_row2\" class=\"row_heading level0 row2\" >Flexibility</th>\n",
       "      <td id=\"T_d94f4_row2_col0\" class=\"data row2 col0\" >21 <span style=\"color: grey\">(9.2%) </span></td>\n",
       "      <td id=\"T_d94f4_row2_col1\" class=\"data row2 col1\" >3 <span style=\"color: grey\">(1.3%) </span></td>\n",
       "      <td id=\"T_d94f4_row2_col2\" class=\"data row2 col2\" ><span style=\"color: grey\">0 </span></td>\n",
       "      <td id=\"T_d94f4_row2_col3\" class=\"data row2 col3\" >24 <span style=\"color: grey\">(10.5%) </span></td>\n",
       "    </tr>\n",
       "    <tr>\n",
       "      <th id=\"T_d94f4_level0_row3\" class=\"row_heading level0 row3\" >Full body</th>\n",
       "      <td id=\"T_d94f4_row3_col0\" class=\"data row3 col0\" >19 <span style=\"color: grey\">(8.3%) </span></td>\n",
       "      <td id=\"T_d94f4_row3_col1\" class=\"data row3 col1\" >5 <span style=\"color: grey\">(2.2%) </span></td>\n",
       "      <td id=\"T_d94f4_row3_col2\" class=\"data row3 col2\" ><span style=\"color: grey\">0 </span></td>\n",
       "      <td id=\"T_d94f4_row3_col3\" class=\"data row3 col3\" >24 <span style=\"color: grey\">(10.5%) </span></td>\n",
       "    </tr>\n",
       "    <tr>\n",
       "      <th id=\"T_d94f4_level0_row4\" class=\"row_heading level0 row4\" >Relaxation</th>\n",
       "      <td id=\"T_d94f4_row4_col0\" class=\"data row4 col0\" >2 <span style=\"color: grey\">(0.9%) </span></td>\n",
       "      <td id=\"T_d94f4_row4_col1\" class=\"data row4 col1\" ><span style=\"color: grey\">0 </span></td>\n",
       "      <td id=\"T_d94f4_row4_col2\" class=\"data row4 col2\" ><span style=\"color: grey\">0 </span></td>\n",
       "      <td id=\"T_d94f4_row4_col3\" class=\"data row4 col3\" >2 <span style=\"color: grey\">(0.9%) </span></td>\n",
       "    </tr>\n",
       "    <tr>\n",
       "      <th id=\"T_d94f4_level0_row5\" class=\"row_heading level0 row5\" >Speed</th>\n",
       "      <td id=\"T_d94f4_row5_col0\" class=\"data row5 col0\" >5 <span style=\"color: grey\">(2.2%) </span></td>\n",
       "      <td id=\"T_d94f4_row5_col1\" class=\"data row5 col1\" >5 <span style=\"color: grey\">(2.2%) </span></td>\n",
       "      <td id=\"T_d94f4_row5_col2\" class=\"data row5 col2\" ><span style=\"color: grey\">0 </span></td>\n",
       "      <td id=\"T_d94f4_row5_col3\" class=\"data row5 col3\" >10 <span style=\"color: grey\">(4.4%) </span></td>\n",
       "    </tr>\n",
       "    <tr>\n",
       "      <th id=\"T_d94f4_level0_row6\" class=\"row_heading level0 row6\" >Strength</th>\n",
       "      <td id=\"T_d94f4_row6_col0\" class=\"data row6 col0\" >27 <span style=\"color: grey\">(11.8%) </span></td>\n",
       "      <td id=\"T_d94f4_row6_col1\" class=\"data row6 col1\" >12 <span style=\"color: grey\">(5.2%) </span></td>\n",
       "      <td id=\"T_d94f4_row6_col2\" class=\"data row6 col2\" >1 <span style=\"color: grey\">(0.4%) </span></td>\n",
       "      <td id=\"T_d94f4_row6_col3\" class=\"data row6 col3\" >40 <span style=\"color: grey\">(17.5%) </span></td>\n",
       "    </tr>\n",
       "    <tr>\n",
       "      <th id=\"T_d94f4_level0_row7\" class=\"row_heading level0 row7\" >Total</th>\n",
       "      <td id=\"T_d94f4_row7_col0\" class=\"data row7 col0\" >170 <span style=\"color: grey\">(74.2%) </span></td>\n",
       "      <td id=\"T_d94f4_row7_col1\" class=\"data row7 col1\" >55 <span style=\"color: grey\">(24.0%) </span></td>\n",
       "      <td id=\"T_d94f4_row7_col2\" class=\"data row7 col2\" >4 <span style=\"color: grey\">(1.7%) </span></td>\n",
       "      <td id=\"T_d94f4_row7_col3\" class=\"data row7 col3\" >229 <span style=\"color: grey\">(100.0%) </span></td>\n",
       "    </tr>\n",
       "  </tbody>\n",
       "</table>\n"
      ],
      "text/plain": [
       "<pandas.io.formats.style.Styler at 0x30d328920>"
      ]
     },
     "metadata": {},
     "output_type": "display_data"
    },
    {
     "data": {
      "text/html": [
       "<style type=\"text/css\">\n",
       "#T_006ef th:first-child {\n",
       "  min-width: 400px !important;\n",
       "  max-width: 400px !important;\n",
       "  white-space: nowrap;\n",
       "  overflow: hidden;\n",
       "}\n",
       "#T_006ef  td:first-child {\n",
       "  min-width: 400px !important;\n",
       "  max-width: 400px !important;\n",
       "  white-space: nowrap;\n",
       "  overflow: hidden;\n",
       "}\n",
       "#T_006ef_row0_col0 {\n",
       "  width: 10em;\n",
       "  background: linear-gradient(90deg, lightblue 52.1%, transparent 52.1%);\n",
       "  font-family: Courier;\n",
       "}\n",
       "#T_006ef_row0_col1 {\n",
       "  width: 10em;\n",
       "  background: linear-gradient(90deg, lightblue 18.8%, transparent 18.8%);\n",
       "  font-family: Courier;\n",
       "}\n",
       "#T_006ef_row0_col2 {\n",
       "  width: 10em;\n",
       "  background: linear-gradient(90deg, lightblue 66.7%, transparent 66.7%);\n",
       "  font-family: Courier;\n",
       "}\n",
       "#T_006ef_row0_col3 {\n",
       "  width: 10em;\n",
       "  background: linear-gradient(90deg, lightblue 44.3%, transparent 44.3%);\n",
       "  font-family: Courier;\n",
       "}\n",
       "#T_006ef_row1_col0 {\n",
       "  width: 10em;\n",
       "  background: linear-gradient(90deg, lightblue 47.9%, transparent 47.9%);\n",
       "  font-family: Courier;\n",
       "}\n",
       "#T_006ef_row1_col1 {\n",
       "  width: 10em;\n",
       "  background: linear-gradient(90deg, lightblue 81.2%, transparent 81.2%);\n",
       "  font-family: Courier;\n",
       "}\n",
       "#T_006ef_row1_col2 {\n",
       "  width: 10em;\n",
       "  background: linear-gradient(90deg, lightblue 33.3%, transparent 33.3%);\n",
       "  font-family: Courier;\n",
       "}\n",
       "#T_006ef_row1_col3 {\n",
       "  width: 10em;\n",
       "  background: linear-gradient(90deg, lightblue 55.7%, transparent 55.7%);\n",
       "  font-family: Courier;\n",
       "}\n",
       "#T_006ef_row2_col0, #T_006ef_row2_col1, #T_006ef_row2_col2, #T_006ef_row2_col3 {\n",
       "  width: 10em;\n",
       "  background: linear-gradient(90deg, lightblue 100.0%, transparent 100.0%);\n",
       "  font-family: Courier;\n",
       "}\n",
       "</style>\n",
       "<table id=\"T_006ef\">\n",
       "  <thead>\n",
       "    <tr>\n",
       "      <th class=\"index_name level0\" >[01.01] CTCAE</th>\n",
       "      <th id=\"T_006ef_level0_col0\" class=\"col_heading level0 col0\" >1</th>\n",
       "      <th id=\"T_006ef_level0_col1\" class=\"col_heading level0 col1\" >2</th>\n",
       "      <th id=\"T_006ef_level0_col2\" class=\"col_heading level0 col2\" >3</th>\n",
       "      <th id=\"T_006ef_level0_col3\" class=\"col_heading level0 col3\" >Total</th>\n",
       "    </tr>\n",
       "    <tr>\n",
       "      <th class=\"index_name level0\" >[05.08] Time point</th>\n",
       "      <th class=\"blank col0\" >&nbsp;</th>\n",
       "      <th class=\"blank col1\" >&nbsp;</th>\n",
       "      <th class=\"blank col2\" >&nbsp;</th>\n",
       "      <th class=\"blank col3\" >&nbsp;</th>\n",
       "    </tr>\n",
       "  </thead>\n",
       "  <tbody>\n",
       "    <tr>\n",
       "      <th id=\"T_006ef_level0_row0\" class=\"row_heading level0 row0\" >1. Time point</th>\n",
       "      <td id=\"T_006ef_row0_col0\" class=\"data row0 col0\" >50 <span style=\"color: grey\">(38.2%) </span></td>\n",
       "      <td id=\"T_006ef_row0_col1\" class=\"data row0 col1\" >6 <span style=\"color: grey\">(4.6%) </span></td>\n",
       "      <td id=\"T_006ef_row0_col2\" class=\"data row0 col2\" >2 <span style=\"color: grey\">(1.5%) </span></td>\n",
       "      <td id=\"T_006ef_row0_col3\" class=\"data row0 col3\" >58 <span style=\"color: grey\">(44.3%) </span></td>\n",
       "    </tr>\n",
       "    <tr>\n",
       "      <th id=\"T_006ef_level0_row1\" class=\"row_heading level0 row1\" >2. Time point</th>\n",
       "      <td id=\"T_006ef_row1_col0\" class=\"data row1 col0\" >46 <span style=\"color: grey\">(35.1%) </span></td>\n",
       "      <td id=\"T_006ef_row1_col1\" class=\"data row1 col1\" >26 <span style=\"color: grey\">(19.8%) </span></td>\n",
       "      <td id=\"T_006ef_row1_col2\" class=\"data row1 col2\" >1 <span style=\"color: grey\">(0.8%) </span></td>\n",
       "      <td id=\"T_006ef_row1_col3\" class=\"data row1 col3\" >73 <span style=\"color: grey\">(55.7%) </span></td>\n",
       "    </tr>\n",
       "    <tr>\n",
       "      <th id=\"T_006ef_level0_row2\" class=\"row_heading level0 row2\" >Total</th>\n",
       "      <td id=\"T_006ef_row2_col0\" class=\"data row2 col0\" >96 <span style=\"color: grey\">(73.3%) </span></td>\n",
       "      <td id=\"T_006ef_row2_col1\" class=\"data row2 col1\" >32 <span style=\"color: grey\">(24.4%) </span></td>\n",
       "      <td id=\"T_006ef_row2_col2\" class=\"data row2 col2\" >3 <span style=\"color: grey\">(2.3%) </span></td>\n",
       "      <td id=\"T_006ef_row2_col3\" class=\"data row2 col3\" >131 <span style=\"color: grey\">(100.0%) </span></td>\n",
       "    </tr>\n",
       "  </tbody>\n",
       "</table>\n"
      ],
      "text/plain": [
       "<pandas.io.formats.style.Styler at 0x30d328890>"
      ]
     },
     "metadata": {},
     "output_type": "display_data"
    },
    {
     "data": {
      "text/html": [
       "<style type=\"text/css\">\n",
       "#T_57bb4 th:first-child {\n",
       "  min-width: 400px !important;\n",
       "  max-width: 400px !important;\n",
       "  white-space: nowrap;\n",
       "  overflow: hidden;\n",
       "}\n",
       "#T_57bb4  td:first-child {\n",
       "  min-width: 400px !important;\n",
       "  max-width: 400px !important;\n",
       "  white-space: nowrap;\n",
       "  overflow: hidden;\n",
       "}\n",
       "#T_57bb4_row0_col0 {\n",
       "  width: 10em;\n",
       "  background: linear-gradient(90deg, lightblue 28.3%, transparent 28.3%);\n",
       "  font-family: Courier;\n",
       "}\n",
       "#T_57bb4_row0_col1 {\n",
       "  width: 10em;\n",
       "  background: linear-gradient(90deg, lightblue 34.5%, transparent 34.5%);\n",
       "  font-family: Courier;\n",
       "}\n",
       "#T_57bb4_row0_col2, #T_57bb4_row1_col2, #T_57bb4_row3_col1, #T_57bb4_row3_col2 {\n",
       "  width: 10em;\n",
       "  font-family: Courier;\n",
       "}\n",
       "#T_57bb4_row0_col3 {\n",
       "  width: 10em;\n",
       "  background: linear-gradient(90deg, lightblue 29.0%, transparent 29.0%);\n",
       "  font-family: Courier;\n",
       "}\n",
       "#T_57bb4_row1_col0 {\n",
       "  width: 10em;\n",
       "  background: linear-gradient(90deg, lightblue 10.9%, transparent 10.9%);\n",
       "  font-family: Courier;\n",
       "}\n",
       "#T_57bb4_row1_col1 {\n",
       "  width: 10em;\n",
       "  background: linear-gradient(90deg, lightblue 6.9%, transparent 6.9%);\n",
       "  font-family: Courier;\n",
       "}\n",
       "#T_57bb4_row1_col3 {\n",
       "  width: 10em;\n",
       "  background: linear-gradient(90deg, lightblue 9.7%, transparent 9.7%);\n",
       "  font-family: Courier;\n",
       "}\n",
       "#T_57bb4_row2_col0 {\n",
       "  width: 10em;\n",
       "  background: linear-gradient(90deg, lightblue 57.6%, transparent 57.6%);\n",
       "  font-family: Courier;\n",
       "}\n",
       "#T_57bb4_row2_col1 {\n",
       "  width: 10em;\n",
       "  background: linear-gradient(90deg, lightblue 58.6%, transparent 58.6%);\n",
       "  font-family: Courier;\n",
       "}\n",
       "#T_57bb4_row2_col2, #T_57bb4_row4_col0, #T_57bb4_row4_col1, #T_57bb4_row4_col2, #T_57bb4_row4_col3 {\n",
       "  width: 10em;\n",
       "  background: linear-gradient(90deg, lightblue 100.0%, transparent 100.0%);\n",
       "  font-family: Courier;\n",
       "}\n",
       "#T_57bb4_row2_col3 {\n",
       "  width: 10em;\n",
       "  background: linear-gradient(90deg, lightblue 58.9%, transparent 58.9%);\n",
       "  font-family: Courier;\n",
       "}\n",
       "#T_57bb4_row3_col0 {\n",
       "  width: 10em;\n",
       "  background: linear-gradient(90deg, lightblue 3.3%, transparent 3.3%);\n",
       "  font-family: Courier;\n",
       "}\n",
       "#T_57bb4_row3_col3 {\n",
       "  width: 10em;\n",
       "  background: linear-gradient(90deg, lightblue 2.4%, transparent 2.4%);\n",
       "  font-family: Courier;\n",
       "}\n",
       "</style>\n",
       "<table id=\"T_57bb4\">\n",
       "  <thead>\n",
       "    <tr>\n",
       "      <th class=\"index_name level0\" >[01.01] CTCAE</th>\n",
       "      <th id=\"T_57bb4_level0_col0\" class=\"col_heading level0 col0\" >1</th>\n",
       "      <th id=\"T_57bb4_level0_col1\" class=\"col_heading level0 col1\" >2</th>\n",
       "      <th id=\"T_57bb4_level0_col2\" class=\"col_heading level0 col2\" >3</th>\n",
       "      <th id=\"T_57bb4_level0_col3\" class=\"col_heading level0 col3\" >Total</th>\n",
       "    </tr>\n",
       "    <tr>\n",
       "      <th class=\"index_name level0\" >[05.09] Training condition</th>\n",
       "      <th class=\"blank col0\" >&nbsp;</th>\n",
       "      <th class=\"blank col1\" >&nbsp;</th>\n",
       "      <th class=\"blank col2\" >&nbsp;</th>\n",
       "      <th class=\"blank col3\" >&nbsp;</th>\n",
       "    </tr>\n",
       "  </thead>\n",
       "  <tbody>\n",
       "    <tr>\n",
       "      <th id=\"T_57bb4_level0_row0\" class=\"row_heading level0 row0\" >Average</th>\n",
       "      <td id=\"T_57bb4_row0_col0\" class=\"data row0 col0\" >26 <span style=\"color: grey\">(21.0%) </span></td>\n",
       "      <td id=\"T_57bb4_row0_col1\" class=\"data row0 col1\" >10 <span style=\"color: grey\">(8.1%) </span></td>\n",
       "      <td id=\"T_57bb4_row0_col2\" class=\"data row0 col2\" ><span style=\"color: grey\">0 </span></td>\n",
       "      <td id=\"T_57bb4_row0_col3\" class=\"data row0 col3\" >36 <span style=\"color: grey\">(29.0%) </span></td>\n",
       "    </tr>\n",
       "    <tr>\n",
       "      <th id=\"T_57bb4_level0_row1\" class=\"row_heading level0 row1\" >Good</th>\n",
       "      <td id=\"T_57bb4_row1_col0\" class=\"data row1 col0\" >10 <span style=\"color: grey\">(8.1%) </span></td>\n",
       "      <td id=\"T_57bb4_row1_col1\" class=\"data row1 col1\" >2 <span style=\"color: grey\">(1.6%) </span></td>\n",
       "      <td id=\"T_57bb4_row1_col2\" class=\"data row1 col2\" ><span style=\"color: grey\">0 </span></td>\n",
       "      <td id=\"T_57bb4_row1_col3\" class=\"data row1 col3\" >12 <span style=\"color: grey\">(9.7%) </span></td>\n",
       "    </tr>\n",
       "    <tr>\n",
       "      <th id=\"T_57bb4_level0_row2\" class=\"row_heading level0 row2\" >Moderate</th>\n",
       "      <td id=\"T_57bb4_row2_col0\" class=\"data row2 col0\" >53 <span style=\"color: grey\">(42.7%) </span></td>\n",
       "      <td id=\"T_57bb4_row2_col1\" class=\"data row2 col1\" >17 <span style=\"color: grey\">(13.7%) </span></td>\n",
       "      <td id=\"T_57bb4_row2_col2\" class=\"data row2 col2\" >3 <span style=\"color: grey\">(2.4%) </span></td>\n",
       "      <td id=\"T_57bb4_row2_col3\" class=\"data row2 col3\" >73 <span style=\"color: grey\">(58.9%) </span></td>\n",
       "    </tr>\n",
       "    <tr>\n",
       "      <th id=\"T_57bb4_level0_row3\" class=\"row_heading level0 row3\" >Weiß nicht</th>\n",
       "      <td id=\"T_57bb4_row3_col0\" class=\"data row3 col0\" >3 <span style=\"color: grey\">(2.4%) </span></td>\n",
       "      <td id=\"T_57bb4_row3_col1\" class=\"data row3 col1\" ><span style=\"color: grey\">0 </span></td>\n",
       "      <td id=\"T_57bb4_row3_col2\" class=\"data row3 col2\" ><span style=\"color: grey\">0 </span></td>\n",
       "      <td id=\"T_57bb4_row3_col3\" class=\"data row3 col3\" >3 <span style=\"color: grey\">(2.4%) </span></td>\n",
       "    </tr>\n",
       "    <tr>\n",
       "      <th id=\"T_57bb4_level0_row4\" class=\"row_heading level0 row4\" >Total</th>\n",
       "      <td id=\"T_57bb4_row4_col0\" class=\"data row4 col0\" >92 <span style=\"color: grey\">(74.2%) </span></td>\n",
       "      <td id=\"T_57bb4_row4_col1\" class=\"data row4 col1\" >29 <span style=\"color: grey\">(23.4%) </span></td>\n",
       "      <td id=\"T_57bb4_row4_col2\" class=\"data row4 col2\" >3 <span style=\"color: grey\">(2.4%) </span></td>\n",
       "      <td id=\"T_57bb4_row4_col3\" class=\"data row4 col3\" >124 <span style=\"color: grey\">(100.0%) </span></td>\n",
       "    </tr>\n",
       "  </tbody>\n",
       "</table>\n"
      ],
      "text/plain": [
       "<pandas.io.formats.style.Styler at 0x30d32c080>"
      ]
     },
     "metadata": {},
     "output_type": "display_data"
    }
   ],
   "source": [
    "print_survey(df_csv_condensed_cleansed)"
   ]
  },
  {
   "cell_type": "markdown",
   "id": "790b2872",
   "metadata": {},
   "source": [
    "## <a id='toc1_3_'></a>[pie charts](#toc0_)"
   ]
  },
  {
   "cell_type": "code",
   "execution_count": 30,
   "id": "984b4e97",
   "metadata": {},
   "outputs": [],
   "source": [
    "import dis\n",
    "import plotly.express as px\n",
    "\n",
    "def print_pie(ser:pd.Series, caption:str=\"pie chart\")-> None:\n",
    "    cnt = ser.value_counts()\n",
    "\n",
    "    # Create the pie chart using the counts and their corresponding labels.\n",
    "    fig = px.pie(\n",
    "        values=cnt.values,\n",
    "        names=cnt.index,\n",
    "        title=caption,\n",
    "        width=800,\n",
    "        height=500,\n",
    "        # renderer=\"png\",\n",
    "    )\n",
    "    display(fig)"
   ]
  },
  {
   "cell_type": "code",
   "execution_count": 31,
   "id": "9a22d4f8",
   "metadata": {},
   "outputs": [
    {
     "name": "stdout",
     "output_type": "stream",
     "text": [
      "[05.03] Age\n"
     ]
    },
    {
     "data": {
      "application/vnd.plotly.v1+json": {
       "config": {
        "plotlyServerURL": "https://plot.ly"
       },
       "data": [
        {
         "domain": {
          "x": [
           0,
           1
          ],
          "y": [
           0,
           1
          ]
         },
         "hovertemplate": "label=%{label}<br>value=%{value}<extra></extra>",
         "labels": [
          "06 to 09 years",
          "10 to 14 years",
          "15 to 18 years",
          "02 to 05 years",
          "18+ years"
         ],
         "legendgroup": "",
         "name": "",
         "showlegend": true,
         "type": "pie",
         "values": {
          "bdata": "KCcYFgg=",
          "dtype": "i1"
         }
        }
       ],
       "layout": {
        "height": 500,
        "legend": {
         "tracegroupgap": 0
        },
        "template": {
         "data": {
          "bar": [
           {
            "error_x": {
             "color": "#2a3f5f"
            },
            "error_y": {
             "color": "#2a3f5f"
            },
            "marker": {
             "line": {
              "color": "#E5ECF6",
              "width": 0.5
             },
             "pattern": {
              "fillmode": "overlay",
              "size": 10,
              "solidity": 0.2
             }
            },
            "type": "bar"
           }
          ],
          "barpolar": [
           {
            "marker": {
             "line": {
              "color": "#E5ECF6",
              "width": 0.5
             },
             "pattern": {
              "fillmode": "overlay",
              "size": 10,
              "solidity": 0.2
             }
            },
            "type": "barpolar"
           }
          ],
          "carpet": [
           {
            "aaxis": {
             "endlinecolor": "#2a3f5f",
             "gridcolor": "white",
             "linecolor": "white",
             "minorgridcolor": "white",
             "startlinecolor": "#2a3f5f"
            },
            "baxis": {
             "endlinecolor": "#2a3f5f",
             "gridcolor": "white",
             "linecolor": "white",
             "minorgridcolor": "white",
             "startlinecolor": "#2a3f5f"
            },
            "type": "carpet"
           }
          ],
          "choropleth": [
           {
            "colorbar": {
             "outlinewidth": 0,
             "ticks": ""
            },
            "type": "choropleth"
           }
          ],
          "contour": [
           {
            "colorbar": {
             "outlinewidth": 0,
             "ticks": ""
            },
            "colorscale": [
             [
              0,
              "#0d0887"
             ],
             [
              0.1111111111111111,
              "#46039f"
             ],
             [
              0.2222222222222222,
              "#7201a8"
             ],
             [
              0.3333333333333333,
              "#9c179e"
             ],
             [
              0.4444444444444444,
              "#bd3786"
             ],
             [
              0.5555555555555556,
              "#d8576b"
             ],
             [
              0.6666666666666666,
              "#ed7953"
             ],
             [
              0.7777777777777778,
              "#fb9f3a"
             ],
             [
              0.8888888888888888,
              "#fdca26"
             ],
             [
              1,
              "#f0f921"
             ]
            ],
            "type": "contour"
           }
          ],
          "contourcarpet": [
           {
            "colorbar": {
             "outlinewidth": 0,
             "ticks": ""
            },
            "type": "contourcarpet"
           }
          ],
          "heatmap": [
           {
            "colorbar": {
             "outlinewidth": 0,
             "ticks": ""
            },
            "colorscale": [
             [
              0,
              "#0d0887"
             ],
             [
              0.1111111111111111,
              "#46039f"
             ],
             [
              0.2222222222222222,
              "#7201a8"
             ],
             [
              0.3333333333333333,
              "#9c179e"
             ],
             [
              0.4444444444444444,
              "#bd3786"
             ],
             [
              0.5555555555555556,
              "#d8576b"
             ],
             [
              0.6666666666666666,
              "#ed7953"
             ],
             [
              0.7777777777777778,
              "#fb9f3a"
             ],
             [
              0.8888888888888888,
              "#fdca26"
             ],
             [
              1,
              "#f0f921"
             ]
            ],
            "type": "heatmap"
           }
          ],
          "histogram": [
           {
            "marker": {
             "pattern": {
              "fillmode": "overlay",
              "size": 10,
              "solidity": 0.2
             }
            },
            "type": "histogram"
           }
          ],
          "histogram2d": [
           {
            "colorbar": {
             "outlinewidth": 0,
             "ticks": ""
            },
            "colorscale": [
             [
              0,
              "#0d0887"
             ],
             [
              0.1111111111111111,
              "#46039f"
             ],
             [
              0.2222222222222222,
              "#7201a8"
             ],
             [
              0.3333333333333333,
              "#9c179e"
             ],
             [
              0.4444444444444444,
              "#bd3786"
             ],
             [
              0.5555555555555556,
              "#d8576b"
             ],
             [
              0.6666666666666666,
              "#ed7953"
             ],
             [
              0.7777777777777778,
              "#fb9f3a"
             ],
             [
              0.8888888888888888,
              "#fdca26"
             ],
             [
              1,
              "#f0f921"
             ]
            ],
            "type": "histogram2d"
           }
          ],
          "histogram2dcontour": [
           {
            "colorbar": {
             "outlinewidth": 0,
             "ticks": ""
            },
            "colorscale": [
             [
              0,
              "#0d0887"
             ],
             [
              0.1111111111111111,
              "#46039f"
             ],
             [
              0.2222222222222222,
              "#7201a8"
             ],
             [
              0.3333333333333333,
              "#9c179e"
             ],
             [
              0.4444444444444444,
              "#bd3786"
             ],
             [
              0.5555555555555556,
              "#d8576b"
             ],
             [
              0.6666666666666666,
              "#ed7953"
             ],
             [
              0.7777777777777778,
              "#fb9f3a"
             ],
             [
              0.8888888888888888,
              "#fdca26"
             ],
             [
              1,
              "#f0f921"
             ]
            ],
            "type": "histogram2dcontour"
           }
          ],
          "mesh3d": [
           {
            "colorbar": {
             "outlinewidth": 0,
             "ticks": ""
            },
            "type": "mesh3d"
           }
          ],
          "parcoords": [
           {
            "line": {
             "colorbar": {
              "outlinewidth": 0,
              "ticks": ""
             }
            },
            "type": "parcoords"
           }
          ],
          "pie": [
           {
            "automargin": true,
            "type": "pie"
           }
          ],
          "scatter": [
           {
            "fillpattern": {
             "fillmode": "overlay",
             "size": 10,
             "solidity": 0.2
            },
            "type": "scatter"
           }
          ],
          "scatter3d": [
           {
            "line": {
             "colorbar": {
              "outlinewidth": 0,
              "ticks": ""
             }
            },
            "marker": {
             "colorbar": {
              "outlinewidth": 0,
              "ticks": ""
             }
            },
            "type": "scatter3d"
           }
          ],
          "scattercarpet": [
           {
            "marker": {
             "colorbar": {
              "outlinewidth": 0,
              "ticks": ""
             }
            },
            "type": "scattercarpet"
           }
          ],
          "scattergeo": [
           {
            "marker": {
             "colorbar": {
              "outlinewidth": 0,
              "ticks": ""
             }
            },
            "type": "scattergeo"
           }
          ],
          "scattergl": [
           {
            "marker": {
             "colorbar": {
              "outlinewidth": 0,
              "ticks": ""
             }
            },
            "type": "scattergl"
           }
          ],
          "scattermap": [
           {
            "marker": {
             "colorbar": {
              "outlinewidth": 0,
              "ticks": ""
             }
            },
            "type": "scattermap"
           }
          ],
          "scattermapbox": [
           {
            "marker": {
             "colorbar": {
              "outlinewidth": 0,
              "ticks": ""
             }
            },
            "type": "scattermapbox"
           }
          ],
          "scatterpolar": [
           {
            "marker": {
             "colorbar": {
              "outlinewidth": 0,
              "ticks": ""
             }
            },
            "type": "scatterpolar"
           }
          ],
          "scatterpolargl": [
           {
            "marker": {
             "colorbar": {
              "outlinewidth": 0,
              "ticks": ""
             }
            },
            "type": "scatterpolargl"
           }
          ],
          "scatterternary": [
           {
            "marker": {
             "colorbar": {
              "outlinewidth": 0,
              "ticks": ""
             }
            },
            "type": "scatterternary"
           }
          ],
          "surface": [
           {
            "colorbar": {
             "outlinewidth": 0,
             "ticks": ""
            },
            "colorscale": [
             [
              0,
              "#0d0887"
             ],
             [
              0.1111111111111111,
              "#46039f"
             ],
             [
              0.2222222222222222,
              "#7201a8"
             ],
             [
              0.3333333333333333,
              "#9c179e"
             ],
             [
              0.4444444444444444,
              "#bd3786"
             ],
             [
              0.5555555555555556,
              "#d8576b"
             ],
             [
              0.6666666666666666,
              "#ed7953"
             ],
             [
              0.7777777777777778,
              "#fb9f3a"
             ],
             [
              0.8888888888888888,
              "#fdca26"
             ],
             [
              1,
              "#f0f921"
             ]
            ],
            "type": "surface"
           }
          ],
          "table": [
           {
            "cells": {
             "fill": {
              "color": "#EBF0F8"
             },
             "line": {
              "color": "white"
             }
            },
            "header": {
             "fill": {
              "color": "#C8D4E3"
             },
             "line": {
              "color": "white"
             }
            },
            "type": "table"
           }
          ]
         },
         "layout": {
          "annotationdefaults": {
           "arrowcolor": "#2a3f5f",
           "arrowhead": 0,
           "arrowwidth": 1
          },
          "autotypenumbers": "strict",
          "coloraxis": {
           "colorbar": {
            "outlinewidth": 0,
            "ticks": ""
           }
          },
          "colorscale": {
           "diverging": [
            [
             0,
             "#8e0152"
            ],
            [
             0.1,
             "#c51b7d"
            ],
            [
             0.2,
             "#de77ae"
            ],
            [
             0.3,
             "#f1b6da"
            ],
            [
             0.4,
             "#fde0ef"
            ],
            [
             0.5,
             "#f7f7f7"
            ],
            [
             0.6,
             "#e6f5d0"
            ],
            [
             0.7,
             "#b8e186"
            ],
            [
             0.8,
             "#7fbc41"
            ],
            [
             0.9,
             "#4d9221"
            ],
            [
             1,
             "#276419"
            ]
           ],
           "sequential": [
            [
             0,
             "#0d0887"
            ],
            [
             0.1111111111111111,
             "#46039f"
            ],
            [
             0.2222222222222222,
             "#7201a8"
            ],
            [
             0.3333333333333333,
             "#9c179e"
            ],
            [
             0.4444444444444444,
             "#bd3786"
            ],
            [
             0.5555555555555556,
             "#d8576b"
            ],
            [
             0.6666666666666666,
             "#ed7953"
            ],
            [
             0.7777777777777778,
             "#fb9f3a"
            ],
            [
             0.8888888888888888,
             "#fdca26"
            ],
            [
             1,
             "#f0f921"
            ]
           ],
           "sequentialminus": [
            [
             0,
             "#0d0887"
            ],
            [
             0.1111111111111111,
             "#46039f"
            ],
            [
             0.2222222222222222,
             "#7201a8"
            ],
            [
             0.3333333333333333,
             "#9c179e"
            ],
            [
             0.4444444444444444,
             "#bd3786"
            ],
            [
             0.5555555555555556,
             "#d8576b"
            ],
            [
             0.6666666666666666,
             "#ed7953"
            ],
            [
             0.7777777777777778,
             "#fb9f3a"
            ],
            [
             0.8888888888888888,
             "#fdca26"
            ],
            [
             1,
             "#f0f921"
            ]
           ]
          },
          "colorway": [
           "#636efa",
           "#EF553B",
           "#00cc96",
           "#ab63fa",
           "#FFA15A",
           "#19d3f3",
           "#FF6692",
           "#B6E880",
           "#FF97FF",
           "#FECB52"
          ],
          "font": {
           "color": "#2a3f5f"
          },
          "geo": {
           "bgcolor": "white",
           "lakecolor": "white",
           "landcolor": "#E5ECF6",
           "showlakes": true,
           "showland": true,
           "subunitcolor": "white"
          },
          "hoverlabel": {
           "align": "left"
          },
          "hovermode": "closest",
          "mapbox": {
           "style": "light"
          },
          "paper_bgcolor": "white",
          "plot_bgcolor": "#E5ECF6",
          "polar": {
           "angularaxis": {
            "gridcolor": "white",
            "linecolor": "white",
            "ticks": ""
           },
           "bgcolor": "#E5ECF6",
           "radialaxis": {
            "gridcolor": "white",
            "linecolor": "white",
            "ticks": ""
           }
          },
          "scene": {
           "xaxis": {
            "backgroundcolor": "#E5ECF6",
            "gridcolor": "white",
            "gridwidth": 2,
            "linecolor": "white",
            "showbackground": true,
            "ticks": "",
            "zerolinecolor": "white"
           },
           "yaxis": {
            "backgroundcolor": "#E5ECF6",
            "gridcolor": "white",
            "gridwidth": 2,
            "linecolor": "white",
            "showbackground": true,
            "ticks": "",
            "zerolinecolor": "white"
           },
           "zaxis": {
            "backgroundcolor": "#E5ECF6",
            "gridcolor": "white",
            "gridwidth": 2,
            "linecolor": "white",
            "showbackground": true,
            "ticks": "",
            "zerolinecolor": "white"
           }
          },
          "shapedefaults": {
           "line": {
            "color": "#2a3f5f"
           }
          },
          "ternary": {
           "aaxis": {
            "gridcolor": "white",
            "linecolor": "white",
            "ticks": ""
           },
           "baxis": {
            "gridcolor": "white",
            "linecolor": "white",
            "ticks": ""
           },
           "bgcolor": "#E5ECF6",
           "caxis": {
            "gridcolor": "white",
            "linecolor": "white",
            "ticks": ""
           }
          },
          "title": {
           "x": 0.05
          },
          "xaxis": {
           "automargin": true,
           "gridcolor": "white",
           "linecolor": "white",
           "ticks": "",
           "title": {
            "standoff": 15
           },
           "zerolinecolor": "white",
           "zerolinewidth": 2
          },
          "yaxis": {
           "automargin": true,
           "gridcolor": "white",
           "linecolor": "white",
           "ticks": "",
           "title": {
            "standoff": 15
           },
           "zerolinecolor": "white",
           "zerolinewidth": 2
          }
         }
        },
        "title": {
         "text": "[05.03] Age, n = 178"
        },
        "width": 800
       }
      }
     },
     "metadata": {},
     "output_type": "display_data"
    },
    {
     "name": "stdout",
     "output_type": "stream",
     "text": [
      "[05.01] Therapy phase\n"
     ]
    },
    {
     "data": {
      "application/vnd.plotly.v1+json": {
       "config": {
        "plotlyServerURL": "https://plot.ly"
       },
       "data": [
        {
         "domain": {
          "x": [
           0,
           1
          ],
          "y": [
           0,
           1
          ]
         },
         "hovertemplate": "label=%{label}<br>value=%{value}<extra></extra>",
         "labels": [
          "Acute therapy",
          "Aftercare",
          "Long-term therapy"
         ],
         "legendgroup": "",
         "name": "",
         "showlegend": true,
         "type": "pie",
         "values": {
          "bdata": "kwAZAAYA",
          "dtype": "i2"
         }
        }
       ],
       "layout": {
        "height": 500,
        "legend": {
         "tracegroupgap": 0
        },
        "template": {
         "data": {
          "bar": [
           {
            "error_x": {
             "color": "#2a3f5f"
            },
            "error_y": {
             "color": "#2a3f5f"
            },
            "marker": {
             "line": {
              "color": "#E5ECF6",
              "width": 0.5
             },
             "pattern": {
              "fillmode": "overlay",
              "size": 10,
              "solidity": 0.2
             }
            },
            "type": "bar"
           }
          ],
          "barpolar": [
           {
            "marker": {
             "line": {
              "color": "#E5ECF6",
              "width": 0.5
             },
             "pattern": {
              "fillmode": "overlay",
              "size": 10,
              "solidity": 0.2
             }
            },
            "type": "barpolar"
           }
          ],
          "carpet": [
           {
            "aaxis": {
             "endlinecolor": "#2a3f5f",
             "gridcolor": "white",
             "linecolor": "white",
             "minorgridcolor": "white",
             "startlinecolor": "#2a3f5f"
            },
            "baxis": {
             "endlinecolor": "#2a3f5f",
             "gridcolor": "white",
             "linecolor": "white",
             "minorgridcolor": "white",
             "startlinecolor": "#2a3f5f"
            },
            "type": "carpet"
           }
          ],
          "choropleth": [
           {
            "colorbar": {
             "outlinewidth": 0,
             "ticks": ""
            },
            "type": "choropleth"
           }
          ],
          "contour": [
           {
            "colorbar": {
             "outlinewidth": 0,
             "ticks": ""
            },
            "colorscale": [
             [
              0,
              "#0d0887"
             ],
             [
              0.1111111111111111,
              "#46039f"
             ],
             [
              0.2222222222222222,
              "#7201a8"
             ],
             [
              0.3333333333333333,
              "#9c179e"
             ],
             [
              0.4444444444444444,
              "#bd3786"
             ],
             [
              0.5555555555555556,
              "#d8576b"
             ],
             [
              0.6666666666666666,
              "#ed7953"
             ],
             [
              0.7777777777777778,
              "#fb9f3a"
             ],
             [
              0.8888888888888888,
              "#fdca26"
             ],
             [
              1,
              "#f0f921"
             ]
            ],
            "type": "contour"
           }
          ],
          "contourcarpet": [
           {
            "colorbar": {
             "outlinewidth": 0,
             "ticks": ""
            },
            "type": "contourcarpet"
           }
          ],
          "heatmap": [
           {
            "colorbar": {
             "outlinewidth": 0,
             "ticks": ""
            },
            "colorscale": [
             [
              0,
              "#0d0887"
             ],
             [
              0.1111111111111111,
              "#46039f"
             ],
             [
              0.2222222222222222,
              "#7201a8"
             ],
             [
              0.3333333333333333,
              "#9c179e"
             ],
             [
              0.4444444444444444,
              "#bd3786"
             ],
             [
              0.5555555555555556,
              "#d8576b"
             ],
             [
              0.6666666666666666,
              "#ed7953"
             ],
             [
              0.7777777777777778,
              "#fb9f3a"
             ],
             [
              0.8888888888888888,
              "#fdca26"
             ],
             [
              1,
              "#f0f921"
             ]
            ],
            "type": "heatmap"
           }
          ],
          "histogram": [
           {
            "marker": {
             "pattern": {
              "fillmode": "overlay",
              "size": 10,
              "solidity": 0.2
             }
            },
            "type": "histogram"
           }
          ],
          "histogram2d": [
           {
            "colorbar": {
             "outlinewidth": 0,
             "ticks": ""
            },
            "colorscale": [
             [
              0,
              "#0d0887"
             ],
             [
              0.1111111111111111,
              "#46039f"
             ],
             [
              0.2222222222222222,
              "#7201a8"
             ],
             [
              0.3333333333333333,
              "#9c179e"
             ],
             [
              0.4444444444444444,
              "#bd3786"
             ],
             [
              0.5555555555555556,
              "#d8576b"
             ],
             [
              0.6666666666666666,
              "#ed7953"
             ],
             [
              0.7777777777777778,
              "#fb9f3a"
             ],
             [
              0.8888888888888888,
              "#fdca26"
             ],
             [
              1,
              "#f0f921"
             ]
            ],
            "type": "histogram2d"
           }
          ],
          "histogram2dcontour": [
           {
            "colorbar": {
             "outlinewidth": 0,
             "ticks": ""
            },
            "colorscale": [
             [
              0,
              "#0d0887"
             ],
             [
              0.1111111111111111,
              "#46039f"
             ],
             [
              0.2222222222222222,
              "#7201a8"
             ],
             [
              0.3333333333333333,
              "#9c179e"
             ],
             [
              0.4444444444444444,
              "#bd3786"
             ],
             [
              0.5555555555555556,
              "#d8576b"
             ],
             [
              0.6666666666666666,
              "#ed7953"
             ],
             [
              0.7777777777777778,
              "#fb9f3a"
             ],
             [
              0.8888888888888888,
              "#fdca26"
             ],
             [
              1,
              "#f0f921"
             ]
            ],
            "type": "histogram2dcontour"
           }
          ],
          "mesh3d": [
           {
            "colorbar": {
             "outlinewidth": 0,
             "ticks": ""
            },
            "type": "mesh3d"
           }
          ],
          "parcoords": [
           {
            "line": {
             "colorbar": {
              "outlinewidth": 0,
              "ticks": ""
             }
            },
            "type": "parcoords"
           }
          ],
          "pie": [
           {
            "automargin": true,
            "type": "pie"
           }
          ],
          "scatter": [
           {
            "fillpattern": {
             "fillmode": "overlay",
             "size": 10,
             "solidity": 0.2
            },
            "type": "scatter"
           }
          ],
          "scatter3d": [
           {
            "line": {
             "colorbar": {
              "outlinewidth": 0,
              "ticks": ""
             }
            },
            "marker": {
             "colorbar": {
              "outlinewidth": 0,
              "ticks": ""
             }
            },
            "type": "scatter3d"
           }
          ],
          "scattercarpet": [
           {
            "marker": {
             "colorbar": {
              "outlinewidth": 0,
              "ticks": ""
             }
            },
            "type": "scattercarpet"
           }
          ],
          "scattergeo": [
           {
            "marker": {
             "colorbar": {
              "outlinewidth": 0,
              "ticks": ""
             }
            },
            "type": "scattergeo"
           }
          ],
          "scattergl": [
           {
            "marker": {
             "colorbar": {
              "outlinewidth": 0,
              "ticks": ""
             }
            },
            "type": "scattergl"
           }
          ],
          "scattermap": [
           {
            "marker": {
             "colorbar": {
              "outlinewidth": 0,
              "ticks": ""
             }
            },
            "type": "scattermap"
           }
          ],
          "scattermapbox": [
           {
            "marker": {
             "colorbar": {
              "outlinewidth": 0,
              "ticks": ""
             }
            },
            "type": "scattermapbox"
           }
          ],
          "scatterpolar": [
           {
            "marker": {
             "colorbar": {
              "outlinewidth": 0,
              "ticks": ""
             }
            },
            "type": "scatterpolar"
           }
          ],
          "scatterpolargl": [
           {
            "marker": {
             "colorbar": {
              "outlinewidth": 0,
              "ticks": ""
             }
            },
            "type": "scatterpolargl"
           }
          ],
          "scatterternary": [
           {
            "marker": {
             "colorbar": {
              "outlinewidth": 0,
              "ticks": ""
             }
            },
            "type": "scatterternary"
           }
          ],
          "surface": [
           {
            "colorbar": {
             "outlinewidth": 0,
             "ticks": ""
            },
            "colorscale": [
             [
              0,
              "#0d0887"
             ],
             [
              0.1111111111111111,
              "#46039f"
             ],
             [
              0.2222222222222222,
              "#7201a8"
             ],
             [
              0.3333333333333333,
              "#9c179e"
             ],
             [
              0.4444444444444444,
              "#bd3786"
             ],
             [
              0.5555555555555556,
              "#d8576b"
             ],
             [
              0.6666666666666666,
              "#ed7953"
             ],
             [
              0.7777777777777778,
              "#fb9f3a"
             ],
             [
              0.8888888888888888,
              "#fdca26"
             ],
             [
              1,
              "#f0f921"
             ]
            ],
            "type": "surface"
           }
          ],
          "table": [
           {
            "cells": {
             "fill": {
              "color": "#EBF0F8"
             },
             "line": {
              "color": "white"
             }
            },
            "header": {
             "fill": {
              "color": "#C8D4E3"
             },
             "line": {
              "color": "white"
             }
            },
            "type": "table"
           }
          ]
         },
         "layout": {
          "annotationdefaults": {
           "arrowcolor": "#2a3f5f",
           "arrowhead": 0,
           "arrowwidth": 1
          },
          "autotypenumbers": "strict",
          "coloraxis": {
           "colorbar": {
            "outlinewidth": 0,
            "ticks": ""
           }
          },
          "colorscale": {
           "diverging": [
            [
             0,
             "#8e0152"
            ],
            [
             0.1,
             "#c51b7d"
            ],
            [
             0.2,
             "#de77ae"
            ],
            [
             0.3,
             "#f1b6da"
            ],
            [
             0.4,
             "#fde0ef"
            ],
            [
             0.5,
             "#f7f7f7"
            ],
            [
             0.6,
             "#e6f5d0"
            ],
            [
             0.7,
             "#b8e186"
            ],
            [
             0.8,
             "#7fbc41"
            ],
            [
             0.9,
             "#4d9221"
            ],
            [
             1,
             "#276419"
            ]
           ],
           "sequential": [
            [
             0,
             "#0d0887"
            ],
            [
             0.1111111111111111,
             "#46039f"
            ],
            [
             0.2222222222222222,
             "#7201a8"
            ],
            [
             0.3333333333333333,
             "#9c179e"
            ],
            [
             0.4444444444444444,
             "#bd3786"
            ],
            [
             0.5555555555555556,
             "#d8576b"
            ],
            [
             0.6666666666666666,
             "#ed7953"
            ],
            [
             0.7777777777777778,
             "#fb9f3a"
            ],
            [
             0.8888888888888888,
             "#fdca26"
            ],
            [
             1,
             "#f0f921"
            ]
           ],
           "sequentialminus": [
            [
             0,
             "#0d0887"
            ],
            [
             0.1111111111111111,
             "#46039f"
            ],
            [
             0.2222222222222222,
             "#7201a8"
            ],
            [
             0.3333333333333333,
             "#9c179e"
            ],
            [
             0.4444444444444444,
             "#bd3786"
            ],
            [
             0.5555555555555556,
             "#d8576b"
            ],
            [
             0.6666666666666666,
             "#ed7953"
            ],
            [
             0.7777777777777778,
             "#fb9f3a"
            ],
            [
             0.8888888888888888,
             "#fdca26"
            ],
            [
             1,
             "#f0f921"
            ]
           ]
          },
          "colorway": [
           "#636efa",
           "#EF553B",
           "#00cc96",
           "#ab63fa",
           "#FFA15A",
           "#19d3f3",
           "#FF6692",
           "#B6E880",
           "#FF97FF",
           "#FECB52"
          ],
          "font": {
           "color": "#2a3f5f"
          },
          "geo": {
           "bgcolor": "white",
           "lakecolor": "white",
           "landcolor": "#E5ECF6",
           "showlakes": true,
           "showland": true,
           "subunitcolor": "white"
          },
          "hoverlabel": {
           "align": "left"
          },
          "hovermode": "closest",
          "mapbox": {
           "style": "light"
          },
          "paper_bgcolor": "white",
          "plot_bgcolor": "#E5ECF6",
          "polar": {
           "angularaxis": {
            "gridcolor": "white",
            "linecolor": "white",
            "ticks": ""
           },
           "bgcolor": "#E5ECF6",
           "radialaxis": {
            "gridcolor": "white",
            "linecolor": "white",
            "ticks": ""
           }
          },
          "scene": {
           "xaxis": {
            "backgroundcolor": "#E5ECF6",
            "gridcolor": "white",
            "gridwidth": 2,
            "linecolor": "white",
            "showbackground": true,
            "ticks": "",
            "zerolinecolor": "white"
           },
           "yaxis": {
            "backgroundcolor": "#E5ECF6",
            "gridcolor": "white",
            "gridwidth": 2,
            "linecolor": "white",
            "showbackground": true,
            "ticks": "",
            "zerolinecolor": "white"
           },
           "zaxis": {
            "backgroundcolor": "#E5ECF6",
            "gridcolor": "white",
            "gridwidth": 2,
            "linecolor": "white",
            "showbackground": true,
            "ticks": "",
            "zerolinecolor": "white"
           }
          },
          "shapedefaults": {
           "line": {
            "color": "#2a3f5f"
           }
          },
          "ternary": {
           "aaxis": {
            "gridcolor": "white",
            "linecolor": "white",
            "ticks": ""
           },
           "baxis": {
            "gridcolor": "white",
            "linecolor": "white",
            "ticks": ""
           },
           "bgcolor": "#E5ECF6",
           "caxis": {
            "gridcolor": "white",
            "linecolor": "white",
            "ticks": ""
           }
          },
          "title": {
           "x": 0.05
          },
          "xaxis": {
           "automargin": true,
           "gridcolor": "white",
           "linecolor": "white",
           "ticks": "",
           "title": {
            "standoff": 15
           },
           "zerolinecolor": "white",
           "zerolinewidth": 2
          },
          "yaxis": {
           "automargin": true,
           "gridcolor": "white",
           "linecolor": "white",
           "ticks": "",
           "title": {
            "standoff": 15
           },
           "zerolinecolor": "white",
           "zerolinewidth": 2
          }
         }
        },
        "title": {
         "text": "[05.01] Therapy phase, n = 178"
        },
        "width": 800
       }
      }
     },
     "metadata": {},
     "output_type": "display_data"
    },
    {
     "name": "stdout",
     "output_type": "stream",
     "text": [
      "[05.09] Training condition\n"
     ]
    },
    {
     "data": {
      "application/vnd.plotly.v1+json": {
       "config": {
        "plotlyServerURL": "https://plot.ly"
       },
       "data": [
        {
         "domain": {
          "x": [
           0,
           1
          ],
          "y": [
           0,
           1
          ]
         },
         "hovertemplate": "label=%{label}<br>value=%{value}<extra></extra>",
         "labels": [
          "Moderate",
          "Average",
          "Good",
          "Weiß nicht"
         ],
         "legendgroup": "",
         "name": "",
         "showlegend": true,
         "type": "pie",
         "values": {
          "bdata": "SSQMAw==",
          "dtype": "i1"
         }
        }
       ],
       "layout": {
        "height": 500,
        "legend": {
         "tracegroupgap": 0
        },
        "template": {
         "data": {
          "bar": [
           {
            "error_x": {
             "color": "#2a3f5f"
            },
            "error_y": {
             "color": "#2a3f5f"
            },
            "marker": {
             "line": {
              "color": "#E5ECF6",
              "width": 0.5
             },
             "pattern": {
              "fillmode": "overlay",
              "size": 10,
              "solidity": 0.2
             }
            },
            "type": "bar"
           }
          ],
          "barpolar": [
           {
            "marker": {
             "line": {
              "color": "#E5ECF6",
              "width": 0.5
             },
             "pattern": {
              "fillmode": "overlay",
              "size": 10,
              "solidity": 0.2
             }
            },
            "type": "barpolar"
           }
          ],
          "carpet": [
           {
            "aaxis": {
             "endlinecolor": "#2a3f5f",
             "gridcolor": "white",
             "linecolor": "white",
             "minorgridcolor": "white",
             "startlinecolor": "#2a3f5f"
            },
            "baxis": {
             "endlinecolor": "#2a3f5f",
             "gridcolor": "white",
             "linecolor": "white",
             "minorgridcolor": "white",
             "startlinecolor": "#2a3f5f"
            },
            "type": "carpet"
           }
          ],
          "choropleth": [
           {
            "colorbar": {
             "outlinewidth": 0,
             "ticks": ""
            },
            "type": "choropleth"
           }
          ],
          "contour": [
           {
            "colorbar": {
             "outlinewidth": 0,
             "ticks": ""
            },
            "colorscale": [
             [
              0,
              "#0d0887"
             ],
             [
              0.1111111111111111,
              "#46039f"
             ],
             [
              0.2222222222222222,
              "#7201a8"
             ],
             [
              0.3333333333333333,
              "#9c179e"
             ],
             [
              0.4444444444444444,
              "#bd3786"
             ],
             [
              0.5555555555555556,
              "#d8576b"
             ],
             [
              0.6666666666666666,
              "#ed7953"
             ],
             [
              0.7777777777777778,
              "#fb9f3a"
             ],
             [
              0.8888888888888888,
              "#fdca26"
             ],
             [
              1,
              "#f0f921"
             ]
            ],
            "type": "contour"
           }
          ],
          "contourcarpet": [
           {
            "colorbar": {
             "outlinewidth": 0,
             "ticks": ""
            },
            "type": "contourcarpet"
           }
          ],
          "heatmap": [
           {
            "colorbar": {
             "outlinewidth": 0,
             "ticks": ""
            },
            "colorscale": [
             [
              0,
              "#0d0887"
             ],
             [
              0.1111111111111111,
              "#46039f"
             ],
             [
              0.2222222222222222,
              "#7201a8"
             ],
             [
              0.3333333333333333,
              "#9c179e"
             ],
             [
              0.4444444444444444,
              "#bd3786"
             ],
             [
              0.5555555555555556,
              "#d8576b"
             ],
             [
              0.6666666666666666,
              "#ed7953"
             ],
             [
              0.7777777777777778,
              "#fb9f3a"
             ],
             [
              0.8888888888888888,
              "#fdca26"
             ],
             [
              1,
              "#f0f921"
             ]
            ],
            "type": "heatmap"
           }
          ],
          "histogram": [
           {
            "marker": {
             "pattern": {
              "fillmode": "overlay",
              "size": 10,
              "solidity": 0.2
             }
            },
            "type": "histogram"
           }
          ],
          "histogram2d": [
           {
            "colorbar": {
             "outlinewidth": 0,
             "ticks": ""
            },
            "colorscale": [
             [
              0,
              "#0d0887"
             ],
             [
              0.1111111111111111,
              "#46039f"
             ],
             [
              0.2222222222222222,
              "#7201a8"
             ],
             [
              0.3333333333333333,
              "#9c179e"
             ],
             [
              0.4444444444444444,
              "#bd3786"
             ],
             [
              0.5555555555555556,
              "#d8576b"
             ],
             [
              0.6666666666666666,
              "#ed7953"
             ],
             [
              0.7777777777777778,
              "#fb9f3a"
             ],
             [
              0.8888888888888888,
              "#fdca26"
             ],
             [
              1,
              "#f0f921"
             ]
            ],
            "type": "histogram2d"
           }
          ],
          "histogram2dcontour": [
           {
            "colorbar": {
             "outlinewidth": 0,
             "ticks": ""
            },
            "colorscale": [
             [
              0,
              "#0d0887"
             ],
             [
              0.1111111111111111,
              "#46039f"
             ],
             [
              0.2222222222222222,
              "#7201a8"
             ],
             [
              0.3333333333333333,
              "#9c179e"
             ],
             [
              0.4444444444444444,
              "#bd3786"
             ],
             [
              0.5555555555555556,
              "#d8576b"
             ],
             [
              0.6666666666666666,
              "#ed7953"
             ],
             [
              0.7777777777777778,
              "#fb9f3a"
             ],
             [
              0.8888888888888888,
              "#fdca26"
             ],
             [
              1,
              "#f0f921"
             ]
            ],
            "type": "histogram2dcontour"
           }
          ],
          "mesh3d": [
           {
            "colorbar": {
             "outlinewidth": 0,
             "ticks": ""
            },
            "type": "mesh3d"
           }
          ],
          "parcoords": [
           {
            "line": {
             "colorbar": {
              "outlinewidth": 0,
              "ticks": ""
             }
            },
            "type": "parcoords"
           }
          ],
          "pie": [
           {
            "automargin": true,
            "type": "pie"
           }
          ],
          "scatter": [
           {
            "fillpattern": {
             "fillmode": "overlay",
             "size": 10,
             "solidity": 0.2
            },
            "type": "scatter"
           }
          ],
          "scatter3d": [
           {
            "line": {
             "colorbar": {
              "outlinewidth": 0,
              "ticks": ""
             }
            },
            "marker": {
             "colorbar": {
              "outlinewidth": 0,
              "ticks": ""
             }
            },
            "type": "scatter3d"
           }
          ],
          "scattercarpet": [
           {
            "marker": {
             "colorbar": {
              "outlinewidth": 0,
              "ticks": ""
             }
            },
            "type": "scattercarpet"
           }
          ],
          "scattergeo": [
           {
            "marker": {
             "colorbar": {
              "outlinewidth": 0,
              "ticks": ""
             }
            },
            "type": "scattergeo"
           }
          ],
          "scattergl": [
           {
            "marker": {
             "colorbar": {
              "outlinewidth": 0,
              "ticks": ""
             }
            },
            "type": "scattergl"
           }
          ],
          "scattermap": [
           {
            "marker": {
             "colorbar": {
              "outlinewidth": 0,
              "ticks": ""
             }
            },
            "type": "scattermap"
           }
          ],
          "scattermapbox": [
           {
            "marker": {
             "colorbar": {
              "outlinewidth": 0,
              "ticks": ""
             }
            },
            "type": "scattermapbox"
           }
          ],
          "scatterpolar": [
           {
            "marker": {
             "colorbar": {
              "outlinewidth": 0,
              "ticks": ""
             }
            },
            "type": "scatterpolar"
           }
          ],
          "scatterpolargl": [
           {
            "marker": {
             "colorbar": {
              "outlinewidth": 0,
              "ticks": ""
             }
            },
            "type": "scatterpolargl"
           }
          ],
          "scatterternary": [
           {
            "marker": {
             "colorbar": {
              "outlinewidth": 0,
              "ticks": ""
             }
            },
            "type": "scatterternary"
           }
          ],
          "surface": [
           {
            "colorbar": {
             "outlinewidth": 0,
             "ticks": ""
            },
            "colorscale": [
             [
              0,
              "#0d0887"
             ],
             [
              0.1111111111111111,
              "#46039f"
             ],
             [
              0.2222222222222222,
              "#7201a8"
             ],
             [
              0.3333333333333333,
              "#9c179e"
             ],
             [
              0.4444444444444444,
              "#bd3786"
             ],
             [
              0.5555555555555556,
              "#d8576b"
             ],
             [
              0.6666666666666666,
              "#ed7953"
             ],
             [
              0.7777777777777778,
              "#fb9f3a"
             ],
             [
              0.8888888888888888,
              "#fdca26"
             ],
             [
              1,
              "#f0f921"
             ]
            ],
            "type": "surface"
           }
          ],
          "table": [
           {
            "cells": {
             "fill": {
              "color": "#EBF0F8"
             },
             "line": {
              "color": "white"
             }
            },
            "header": {
             "fill": {
              "color": "#C8D4E3"
             },
             "line": {
              "color": "white"
             }
            },
            "type": "table"
           }
          ]
         },
         "layout": {
          "annotationdefaults": {
           "arrowcolor": "#2a3f5f",
           "arrowhead": 0,
           "arrowwidth": 1
          },
          "autotypenumbers": "strict",
          "coloraxis": {
           "colorbar": {
            "outlinewidth": 0,
            "ticks": ""
           }
          },
          "colorscale": {
           "diverging": [
            [
             0,
             "#8e0152"
            ],
            [
             0.1,
             "#c51b7d"
            ],
            [
             0.2,
             "#de77ae"
            ],
            [
             0.3,
             "#f1b6da"
            ],
            [
             0.4,
             "#fde0ef"
            ],
            [
             0.5,
             "#f7f7f7"
            ],
            [
             0.6,
             "#e6f5d0"
            ],
            [
             0.7,
             "#b8e186"
            ],
            [
             0.8,
             "#7fbc41"
            ],
            [
             0.9,
             "#4d9221"
            ],
            [
             1,
             "#276419"
            ]
           ],
           "sequential": [
            [
             0,
             "#0d0887"
            ],
            [
             0.1111111111111111,
             "#46039f"
            ],
            [
             0.2222222222222222,
             "#7201a8"
            ],
            [
             0.3333333333333333,
             "#9c179e"
            ],
            [
             0.4444444444444444,
             "#bd3786"
            ],
            [
             0.5555555555555556,
             "#d8576b"
            ],
            [
             0.6666666666666666,
             "#ed7953"
            ],
            [
             0.7777777777777778,
             "#fb9f3a"
            ],
            [
             0.8888888888888888,
             "#fdca26"
            ],
            [
             1,
             "#f0f921"
            ]
           ],
           "sequentialminus": [
            [
             0,
             "#0d0887"
            ],
            [
             0.1111111111111111,
             "#46039f"
            ],
            [
             0.2222222222222222,
             "#7201a8"
            ],
            [
             0.3333333333333333,
             "#9c179e"
            ],
            [
             0.4444444444444444,
             "#bd3786"
            ],
            [
             0.5555555555555556,
             "#d8576b"
            ],
            [
             0.6666666666666666,
             "#ed7953"
            ],
            [
             0.7777777777777778,
             "#fb9f3a"
            ],
            [
             0.8888888888888888,
             "#fdca26"
            ],
            [
             1,
             "#f0f921"
            ]
           ]
          },
          "colorway": [
           "#636efa",
           "#EF553B",
           "#00cc96",
           "#ab63fa",
           "#FFA15A",
           "#19d3f3",
           "#FF6692",
           "#B6E880",
           "#FF97FF",
           "#FECB52"
          ],
          "font": {
           "color": "#2a3f5f"
          },
          "geo": {
           "bgcolor": "white",
           "lakecolor": "white",
           "landcolor": "#E5ECF6",
           "showlakes": true,
           "showland": true,
           "subunitcolor": "white"
          },
          "hoverlabel": {
           "align": "left"
          },
          "hovermode": "closest",
          "mapbox": {
           "style": "light"
          },
          "paper_bgcolor": "white",
          "plot_bgcolor": "#E5ECF6",
          "polar": {
           "angularaxis": {
            "gridcolor": "white",
            "linecolor": "white",
            "ticks": ""
           },
           "bgcolor": "#E5ECF6",
           "radialaxis": {
            "gridcolor": "white",
            "linecolor": "white",
            "ticks": ""
           }
          },
          "scene": {
           "xaxis": {
            "backgroundcolor": "#E5ECF6",
            "gridcolor": "white",
            "gridwidth": 2,
            "linecolor": "white",
            "showbackground": true,
            "ticks": "",
            "zerolinecolor": "white"
           },
           "yaxis": {
            "backgroundcolor": "#E5ECF6",
            "gridcolor": "white",
            "gridwidth": 2,
            "linecolor": "white",
            "showbackground": true,
            "ticks": "",
            "zerolinecolor": "white"
           },
           "zaxis": {
            "backgroundcolor": "#E5ECF6",
            "gridcolor": "white",
            "gridwidth": 2,
            "linecolor": "white",
            "showbackground": true,
            "ticks": "",
            "zerolinecolor": "white"
           }
          },
          "shapedefaults": {
           "line": {
            "color": "#2a3f5f"
           }
          },
          "ternary": {
           "aaxis": {
            "gridcolor": "white",
            "linecolor": "white",
            "ticks": ""
           },
           "baxis": {
            "gridcolor": "white",
            "linecolor": "white",
            "ticks": ""
           },
           "bgcolor": "#E5ECF6",
           "caxis": {
            "gridcolor": "white",
            "linecolor": "white",
            "ticks": ""
           }
          },
          "title": {
           "x": 0.05
          },
          "xaxis": {
           "automargin": true,
           "gridcolor": "white",
           "linecolor": "white",
           "ticks": "",
           "title": {
            "standoff": 15
           },
           "zerolinecolor": "white",
           "zerolinewidth": 2
          },
          "yaxis": {
           "automargin": true,
           "gridcolor": "white",
           "linecolor": "white",
           "ticks": "",
           "title": {
            "standoff": 15
           },
           "zerolinecolor": "white",
           "zerolinewidth": 2
          }
         }
        },
        "title": {
         "text": "[05.09] Training condition, n = 178"
        },
        "width": 800
       }
      }
     },
     "metadata": {},
     "output_type": "display_data"
    },
    {
     "name": "stdout",
     "output_type": "stream",
     "text": [
      "[02.02] Type\n"
     ]
    },
    {
     "data": {
      "application/vnd.plotly.v1+json": {
       "config": {
        "plotlyServerURL": "https://plot.ly"
       },
       "data": [
        {
         "domain": {
          "x": [
           0,
           1
          ],
          "y": [
           0,
           1
          ]
         },
         "hovertemplate": "label=%{label}<br>value=%{value}<extra></extra>",
         "labels": [
          "Pain",
          "Übelkeit / Erbrechen",
          "Circulatory problems",
          "Weichteil-/Gewebeverletzung",
          "Superficial injuries",
          "Psychological stress reaction",
          "Muscle soreness",
          "Itching",
          "Coughing fit",
          "Severe exhaustion",
          "Bone injuries",
          "Schmerzhafter Spontaneous painful bowel movement",
          "Enuresis",
          "Nosebleed",
          "Muscle cramps"
         ],
         "legendgroup": "",
         "name": "",
         "showlegend": true,
         "type": "pie",
         "values": {
          "bdata": "XiMeFA8HBgQEBAICAgIB",
          "dtype": "i1"
         }
        }
       ],
       "layout": {
        "height": 500,
        "legend": {
         "tracegroupgap": 0
        },
        "template": {
         "data": {
          "bar": [
           {
            "error_x": {
             "color": "#2a3f5f"
            },
            "error_y": {
             "color": "#2a3f5f"
            },
            "marker": {
             "line": {
              "color": "#E5ECF6",
              "width": 0.5
             },
             "pattern": {
              "fillmode": "overlay",
              "size": 10,
              "solidity": 0.2
             }
            },
            "type": "bar"
           }
          ],
          "barpolar": [
           {
            "marker": {
             "line": {
              "color": "#E5ECF6",
              "width": 0.5
             },
             "pattern": {
              "fillmode": "overlay",
              "size": 10,
              "solidity": 0.2
             }
            },
            "type": "barpolar"
           }
          ],
          "carpet": [
           {
            "aaxis": {
             "endlinecolor": "#2a3f5f",
             "gridcolor": "white",
             "linecolor": "white",
             "minorgridcolor": "white",
             "startlinecolor": "#2a3f5f"
            },
            "baxis": {
             "endlinecolor": "#2a3f5f",
             "gridcolor": "white",
             "linecolor": "white",
             "minorgridcolor": "white",
             "startlinecolor": "#2a3f5f"
            },
            "type": "carpet"
           }
          ],
          "choropleth": [
           {
            "colorbar": {
             "outlinewidth": 0,
             "ticks": ""
            },
            "type": "choropleth"
           }
          ],
          "contour": [
           {
            "colorbar": {
             "outlinewidth": 0,
             "ticks": ""
            },
            "colorscale": [
             [
              0,
              "#0d0887"
             ],
             [
              0.1111111111111111,
              "#46039f"
             ],
             [
              0.2222222222222222,
              "#7201a8"
             ],
             [
              0.3333333333333333,
              "#9c179e"
             ],
             [
              0.4444444444444444,
              "#bd3786"
             ],
             [
              0.5555555555555556,
              "#d8576b"
             ],
             [
              0.6666666666666666,
              "#ed7953"
             ],
             [
              0.7777777777777778,
              "#fb9f3a"
             ],
             [
              0.8888888888888888,
              "#fdca26"
             ],
             [
              1,
              "#f0f921"
             ]
            ],
            "type": "contour"
           }
          ],
          "contourcarpet": [
           {
            "colorbar": {
             "outlinewidth": 0,
             "ticks": ""
            },
            "type": "contourcarpet"
           }
          ],
          "heatmap": [
           {
            "colorbar": {
             "outlinewidth": 0,
             "ticks": ""
            },
            "colorscale": [
             [
              0,
              "#0d0887"
             ],
             [
              0.1111111111111111,
              "#46039f"
             ],
             [
              0.2222222222222222,
              "#7201a8"
             ],
             [
              0.3333333333333333,
              "#9c179e"
             ],
             [
              0.4444444444444444,
              "#bd3786"
             ],
             [
              0.5555555555555556,
              "#d8576b"
             ],
             [
              0.6666666666666666,
              "#ed7953"
             ],
             [
              0.7777777777777778,
              "#fb9f3a"
             ],
             [
              0.8888888888888888,
              "#fdca26"
             ],
             [
              1,
              "#f0f921"
             ]
            ],
            "type": "heatmap"
           }
          ],
          "histogram": [
           {
            "marker": {
             "pattern": {
              "fillmode": "overlay",
              "size": 10,
              "solidity": 0.2
             }
            },
            "type": "histogram"
           }
          ],
          "histogram2d": [
           {
            "colorbar": {
             "outlinewidth": 0,
             "ticks": ""
            },
            "colorscale": [
             [
              0,
              "#0d0887"
             ],
             [
              0.1111111111111111,
              "#46039f"
             ],
             [
              0.2222222222222222,
              "#7201a8"
             ],
             [
              0.3333333333333333,
              "#9c179e"
             ],
             [
              0.4444444444444444,
              "#bd3786"
             ],
             [
              0.5555555555555556,
              "#d8576b"
             ],
             [
              0.6666666666666666,
              "#ed7953"
             ],
             [
              0.7777777777777778,
              "#fb9f3a"
             ],
             [
              0.8888888888888888,
              "#fdca26"
             ],
             [
              1,
              "#f0f921"
             ]
            ],
            "type": "histogram2d"
           }
          ],
          "histogram2dcontour": [
           {
            "colorbar": {
             "outlinewidth": 0,
             "ticks": ""
            },
            "colorscale": [
             [
              0,
              "#0d0887"
             ],
             [
              0.1111111111111111,
              "#46039f"
             ],
             [
              0.2222222222222222,
              "#7201a8"
             ],
             [
              0.3333333333333333,
              "#9c179e"
             ],
             [
              0.4444444444444444,
              "#bd3786"
             ],
             [
              0.5555555555555556,
              "#d8576b"
             ],
             [
              0.6666666666666666,
              "#ed7953"
             ],
             [
              0.7777777777777778,
              "#fb9f3a"
             ],
             [
              0.8888888888888888,
              "#fdca26"
             ],
             [
              1,
              "#f0f921"
             ]
            ],
            "type": "histogram2dcontour"
           }
          ],
          "mesh3d": [
           {
            "colorbar": {
             "outlinewidth": 0,
             "ticks": ""
            },
            "type": "mesh3d"
           }
          ],
          "parcoords": [
           {
            "line": {
             "colorbar": {
              "outlinewidth": 0,
              "ticks": ""
             }
            },
            "type": "parcoords"
           }
          ],
          "pie": [
           {
            "automargin": true,
            "type": "pie"
           }
          ],
          "scatter": [
           {
            "fillpattern": {
             "fillmode": "overlay",
             "size": 10,
             "solidity": 0.2
            },
            "type": "scatter"
           }
          ],
          "scatter3d": [
           {
            "line": {
             "colorbar": {
              "outlinewidth": 0,
              "ticks": ""
             }
            },
            "marker": {
             "colorbar": {
              "outlinewidth": 0,
              "ticks": ""
             }
            },
            "type": "scatter3d"
           }
          ],
          "scattercarpet": [
           {
            "marker": {
             "colorbar": {
              "outlinewidth": 0,
              "ticks": ""
             }
            },
            "type": "scattercarpet"
           }
          ],
          "scattergeo": [
           {
            "marker": {
             "colorbar": {
              "outlinewidth": 0,
              "ticks": ""
             }
            },
            "type": "scattergeo"
           }
          ],
          "scattergl": [
           {
            "marker": {
             "colorbar": {
              "outlinewidth": 0,
              "ticks": ""
             }
            },
            "type": "scattergl"
           }
          ],
          "scattermap": [
           {
            "marker": {
             "colorbar": {
              "outlinewidth": 0,
              "ticks": ""
             }
            },
            "type": "scattermap"
           }
          ],
          "scattermapbox": [
           {
            "marker": {
             "colorbar": {
              "outlinewidth": 0,
              "ticks": ""
             }
            },
            "type": "scattermapbox"
           }
          ],
          "scatterpolar": [
           {
            "marker": {
             "colorbar": {
              "outlinewidth": 0,
              "ticks": ""
             }
            },
            "type": "scatterpolar"
           }
          ],
          "scatterpolargl": [
           {
            "marker": {
             "colorbar": {
              "outlinewidth": 0,
              "ticks": ""
             }
            },
            "type": "scatterpolargl"
           }
          ],
          "scatterternary": [
           {
            "marker": {
             "colorbar": {
              "outlinewidth": 0,
              "ticks": ""
             }
            },
            "type": "scatterternary"
           }
          ],
          "surface": [
           {
            "colorbar": {
             "outlinewidth": 0,
             "ticks": ""
            },
            "colorscale": [
             [
              0,
              "#0d0887"
             ],
             [
              0.1111111111111111,
              "#46039f"
             ],
             [
              0.2222222222222222,
              "#7201a8"
             ],
             [
              0.3333333333333333,
              "#9c179e"
             ],
             [
              0.4444444444444444,
              "#bd3786"
             ],
             [
              0.5555555555555556,
              "#d8576b"
             ],
             [
              0.6666666666666666,
              "#ed7953"
             ],
             [
              0.7777777777777778,
              "#fb9f3a"
             ],
             [
              0.8888888888888888,
              "#fdca26"
             ],
             [
              1,
              "#f0f921"
             ]
            ],
            "type": "surface"
           }
          ],
          "table": [
           {
            "cells": {
             "fill": {
              "color": "#EBF0F8"
             },
             "line": {
              "color": "white"
             }
            },
            "header": {
             "fill": {
              "color": "#C8D4E3"
             },
             "line": {
              "color": "white"
             }
            },
            "type": "table"
           }
          ]
         },
         "layout": {
          "annotationdefaults": {
           "arrowcolor": "#2a3f5f",
           "arrowhead": 0,
           "arrowwidth": 1
          },
          "autotypenumbers": "strict",
          "coloraxis": {
           "colorbar": {
            "outlinewidth": 0,
            "ticks": ""
           }
          },
          "colorscale": {
           "diverging": [
            [
             0,
             "#8e0152"
            ],
            [
             0.1,
             "#c51b7d"
            ],
            [
             0.2,
             "#de77ae"
            ],
            [
             0.3,
             "#f1b6da"
            ],
            [
             0.4,
             "#fde0ef"
            ],
            [
             0.5,
             "#f7f7f7"
            ],
            [
             0.6,
             "#e6f5d0"
            ],
            [
             0.7,
             "#b8e186"
            ],
            [
             0.8,
             "#7fbc41"
            ],
            [
             0.9,
             "#4d9221"
            ],
            [
             1,
             "#276419"
            ]
           ],
           "sequential": [
            [
             0,
             "#0d0887"
            ],
            [
             0.1111111111111111,
             "#46039f"
            ],
            [
             0.2222222222222222,
             "#7201a8"
            ],
            [
             0.3333333333333333,
             "#9c179e"
            ],
            [
             0.4444444444444444,
             "#bd3786"
            ],
            [
             0.5555555555555556,
             "#d8576b"
            ],
            [
             0.6666666666666666,
             "#ed7953"
            ],
            [
             0.7777777777777778,
             "#fb9f3a"
            ],
            [
             0.8888888888888888,
             "#fdca26"
            ],
            [
             1,
             "#f0f921"
            ]
           ],
           "sequentialminus": [
            [
             0,
             "#0d0887"
            ],
            [
             0.1111111111111111,
             "#46039f"
            ],
            [
             0.2222222222222222,
             "#7201a8"
            ],
            [
             0.3333333333333333,
             "#9c179e"
            ],
            [
             0.4444444444444444,
             "#bd3786"
            ],
            [
             0.5555555555555556,
             "#d8576b"
            ],
            [
             0.6666666666666666,
             "#ed7953"
            ],
            [
             0.7777777777777778,
             "#fb9f3a"
            ],
            [
             0.8888888888888888,
             "#fdca26"
            ],
            [
             1,
             "#f0f921"
            ]
           ]
          },
          "colorway": [
           "#636efa",
           "#EF553B",
           "#00cc96",
           "#ab63fa",
           "#FFA15A",
           "#19d3f3",
           "#FF6692",
           "#B6E880",
           "#FF97FF",
           "#FECB52"
          ],
          "font": {
           "color": "#2a3f5f"
          },
          "geo": {
           "bgcolor": "white",
           "lakecolor": "white",
           "landcolor": "#E5ECF6",
           "showlakes": true,
           "showland": true,
           "subunitcolor": "white"
          },
          "hoverlabel": {
           "align": "left"
          },
          "hovermode": "closest",
          "mapbox": {
           "style": "light"
          },
          "paper_bgcolor": "white",
          "plot_bgcolor": "#E5ECF6",
          "polar": {
           "angularaxis": {
            "gridcolor": "white",
            "linecolor": "white",
            "ticks": ""
           },
           "bgcolor": "#E5ECF6",
           "radialaxis": {
            "gridcolor": "white",
            "linecolor": "white",
            "ticks": ""
           }
          },
          "scene": {
           "xaxis": {
            "backgroundcolor": "#E5ECF6",
            "gridcolor": "white",
            "gridwidth": 2,
            "linecolor": "white",
            "showbackground": true,
            "ticks": "",
            "zerolinecolor": "white"
           },
           "yaxis": {
            "backgroundcolor": "#E5ECF6",
            "gridcolor": "white",
            "gridwidth": 2,
            "linecolor": "white",
            "showbackground": true,
            "ticks": "",
            "zerolinecolor": "white"
           },
           "zaxis": {
            "backgroundcolor": "#E5ECF6",
            "gridcolor": "white",
            "gridwidth": 2,
            "linecolor": "white",
            "showbackground": true,
            "ticks": "",
            "zerolinecolor": "white"
           }
          },
          "shapedefaults": {
           "line": {
            "color": "#2a3f5f"
           }
          },
          "ternary": {
           "aaxis": {
            "gridcolor": "white",
            "linecolor": "white",
            "ticks": ""
           },
           "baxis": {
            "gridcolor": "white",
            "linecolor": "white",
            "ticks": ""
           },
           "bgcolor": "#E5ECF6",
           "caxis": {
            "gridcolor": "white",
            "linecolor": "white",
            "ticks": ""
           }
          },
          "title": {
           "x": 0.05
          },
          "xaxis": {
           "automargin": true,
           "gridcolor": "white",
           "linecolor": "white",
           "ticks": "",
           "title": {
            "standoff": 15
           },
           "zerolinecolor": "white",
           "zerolinewidth": 2
          },
          "yaxis": {
           "automargin": true,
           "gridcolor": "white",
           "linecolor": "white",
           "ticks": "",
           "title": {
            "standoff": 15
           },
           "zerolinecolor": "white",
           "zerolinewidth": 2
          }
         }
        },
        "title": {
         "text": "[02.02] Type, n = 228"
        },
        "width": 800
       }
      }
     },
     "metadata": {},
     "output_type": "display_data"
    },
    {
     "name": "stdout",
     "output_type": "stream",
     "text": [
      "[02.03] Trigger\n"
     ]
    },
    {
     "data": {
      "application/vnd.plotly.v1+json": {
       "config": {
        "plotlyServerURL": "https://plot.ly"
       },
       "data": [
        {
         "domain": {
          "x": [
           0,
           1
          ],
          "y": [
           0,
           1
          ]
         },
         "hovertemplate": "label=%{label}<br>value=%{value}<extra></extra>",
         "labels": [
          "Physical strain",
          "Medical therapy",
          "Sturzereignis",
          "Coordination problems",
          "Psychological strain",
          "Kollision",
          "Environmental conditions",
          "Other"
         ],
         "legendgroup": "",
         "name": "",
         "showlegend": true,
         "type": "pie",
         "values": {
          "bdata": "cU4pFw0JBgE=",
          "dtype": "i1"
         }
        }
       ],
       "layout": {
        "height": 500,
        "legend": {
         "tracegroupgap": 0
        },
        "template": {
         "data": {
          "bar": [
           {
            "error_x": {
             "color": "#2a3f5f"
            },
            "error_y": {
             "color": "#2a3f5f"
            },
            "marker": {
             "line": {
              "color": "#E5ECF6",
              "width": 0.5
             },
             "pattern": {
              "fillmode": "overlay",
              "size": 10,
              "solidity": 0.2
             }
            },
            "type": "bar"
           }
          ],
          "barpolar": [
           {
            "marker": {
             "line": {
              "color": "#E5ECF6",
              "width": 0.5
             },
             "pattern": {
              "fillmode": "overlay",
              "size": 10,
              "solidity": 0.2
             }
            },
            "type": "barpolar"
           }
          ],
          "carpet": [
           {
            "aaxis": {
             "endlinecolor": "#2a3f5f",
             "gridcolor": "white",
             "linecolor": "white",
             "minorgridcolor": "white",
             "startlinecolor": "#2a3f5f"
            },
            "baxis": {
             "endlinecolor": "#2a3f5f",
             "gridcolor": "white",
             "linecolor": "white",
             "minorgridcolor": "white",
             "startlinecolor": "#2a3f5f"
            },
            "type": "carpet"
           }
          ],
          "choropleth": [
           {
            "colorbar": {
             "outlinewidth": 0,
             "ticks": ""
            },
            "type": "choropleth"
           }
          ],
          "contour": [
           {
            "colorbar": {
             "outlinewidth": 0,
             "ticks": ""
            },
            "colorscale": [
             [
              0,
              "#0d0887"
             ],
             [
              0.1111111111111111,
              "#46039f"
             ],
             [
              0.2222222222222222,
              "#7201a8"
             ],
             [
              0.3333333333333333,
              "#9c179e"
             ],
             [
              0.4444444444444444,
              "#bd3786"
             ],
             [
              0.5555555555555556,
              "#d8576b"
             ],
             [
              0.6666666666666666,
              "#ed7953"
             ],
             [
              0.7777777777777778,
              "#fb9f3a"
             ],
             [
              0.8888888888888888,
              "#fdca26"
             ],
             [
              1,
              "#f0f921"
             ]
            ],
            "type": "contour"
           }
          ],
          "contourcarpet": [
           {
            "colorbar": {
             "outlinewidth": 0,
             "ticks": ""
            },
            "type": "contourcarpet"
           }
          ],
          "heatmap": [
           {
            "colorbar": {
             "outlinewidth": 0,
             "ticks": ""
            },
            "colorscale": [
             [
              0,
              "#0d0887"
             ],
             [
              0.1111111111111111,
              "#46039f"
             ],
             [
              0.2222222222222222,
              "#7201a8"
             ],
             [
              0.3333333333333333,
              "#9c179e"
             ],
             [
              0.4444444444444444,
              "#bd3786"
             ],
             [
              0.5555555555555556,
              "#d8576b"
             ],
             [
              0.6666666666666666,
              "#ed7953"
             ],
             [
              0.7777777777777778,
              "#fb9f3a"
             ],
             [
              0.8888888888888888,
              "#fdca26"
             ],
             [
              1,
              "#f0f921"
             ]
            ],
            "type": "heatmap"
           }
          ],
          "histogram": [
           {
            "marker": {
             "pattern": {
              "fillmode": "overlay",
              "size": 10,
              "solidity": 0.2
             }
            },
            "type": "histogram"
           }
          ],
          "histogram2d": [
           {
            "colorbar": {
             "outlinewidth": 0,
             "ticks": ""
            },
            "colorscale": [
             [
              0,
              "#0d0887"
             ],
             [
              0.1111111111111111,
              "#46039f"
             ],
             [
              0.2222222222222222,
              "#7201a8"
             ],
             [
              0.3333333333333333,
              "#9c179e"
             ],
             [
              0.4444444444444444,
              "#bd3786"
             ],
             [
              0.5555555555555556,
              "#d8576b"
             ],
             [
              0.6666666666666666,
              "#ed7953"
             ],
             [
              0.7777777777777778,
              "#fb9f3a"
             ],
             [
              0.8888888888888888,
              "#fdca26"
             ],
             [
              1,
              "#f0f921"
             ]
            ],
            "type": "histogram2d"
           }
          ],
          "histogram2dcontour": [
           {
            "colorbar": {
             "outlinewidth": 0,
             "ticks": ""
            },
            "colorscale": [
             [
              0,
              "#0d0887"
             ],
             [
              0.1111111111111111,
              "#46039f"
             ],
             [
              0.2222222222222222,
              "#7201a8"
             ],
             [
              0.3333333333333333,
              "#9c179e"
             ],
             [
              0.4444444444444444,
              "#bd3786"
             ],
             [
              0.5555555555555556,
              "#d8576b"
             ],
             [
              0.6666666666666666,
              "#ed7953"
             ],
             [
              0.7777777777777778,
              "#fb9f3a"
             ],
             [
              0.8888888888888888,
              "#fdca26"
             ],
             [
              1,
              "#f0f921"
             ]
            ],
            "type": "histogram2dcontour"
           }
          ],
          "mesh3d": [
           {
            "colorbar": {
             "outlinewidth": 0,
             "ticks": ""
            },
            "type": "mesh3d"
           }
          ],
          "parcoords": [
           {
            "line": {
             "colorbar": {
              "outlinewidth": 0,
              "ticks": ""
             }
            },
            "type": "parcoords"
           }
          ],
          "pie": [
           {
            "automargin": true,
            "type": "pie"
           }
          ],
          "scatter": [
           {
            "fillpattern": {
             "fillmode": "overlay",
             "size": 10,
             "solidity": 0.2
            },
            "type": "scatter"
           }
          ],
          "scatter3d": [
           {
            "line": {
             "colorbar": {
              "outlinewidth": 0,
              "ticks": ""
             }
            },
            "marker": {
             "colorbar": {
              "outlinewidth": 0,
              "ticks": ""
             }
            },
            "type": "scatter3d"
           }
          ],
          "scattercarpet": [
           {
            "marker": {
             "colorbar": {
              "outlinewidth": 0,
              "ticks": ""
             }
            },
            "type": "scattercarpet"
           }
          ],
          "scattergeo": [
           {
            "marker": {
             "colorbar": {
              "outlinewidth": 0,
              "ticks": ""
             }
            },
            "type": "scattergeo"
           }
          ],
          "scattergl": [
           {
            "marker": {
             "colorbar": {
              "outlinewidth": 0,
              "ticks": ""
             }
            },
            "type": "scattergl"
           }
          ],
          "scattermap": [
           {
            "marker": {
             "colorbar": {
              "outlinewidth": 0,
              "ticks": ""
             }
            },
            "type": "scattermap"
           }
          ],
          "scattermapbox": [
           {
            "marker": {
             "colorbar": {
              "outlinewidth": 0,
              "ticks": ""
             }
            },
            "type": "scattermapbox"
           }
          ],
          "scatterpolar": [
           {
            "marker": {
             "colorbar": {
              "outlinewidth": 0,
              "ticks": ""
             }
            },
            "type": "scatterpolar"
           }
          ],
          "scatterpolargl": [
           {
            "marker": {
             "colorbar": {
              "outlinewidth": 0,
              "ticks": ""
             }
            },
            "type": "scatterpolargl"
           }
          ],
          "scatterternary": [
           {
            "marker": {
             "colorbar": {
              "outlinewidth": 0,
              "ticks": ""
             }
            },
            "type": "scatterternary"
           }
          ],
          "surface": [
           {
            "colorbar": {
             "outlinewidth": 0,
             "ticks": ""
            },
            "colorscale": [
             [
              0,
              "#0d0887"
             ],
             [
              0.1111111111111111,
              "#46039f"
             ],
             [
              0.2222222222222222,
              "#7201a8"
             ],
             [
              0.3333333333333333,
              "#9c179e"
             ],
             [
              0.4444444444444444,
              "#bd3786"
             ],
             [
              0.5555555555555556,
              "#d8576b"
             ],
             [
              0.6666666666666666,
              "#ed7953"
             ],
             [
              0.7777777777777778,
              "#fb9f3a"
             ],
             [
              0.8888888888888888,
              "#fdca26"
             ],
             [
              1,
              "#f0f921"
             ]
            ],
            "type": "surface"
           }
          ],
          "table": [
           {
            "cells": {
             "fill": {
              "color": "#EBF0F8"
             },
             "line": {
              "color": "white"
             }
            },
            "header": {
             "fill": {
              "color": "#C8D4E3"
             },
             "line": {
              "color": "white"
             }
            },
            "type": "table"
           }
          ]
         },
         "layout": {
          "annotationdefaults": {
           "arrowcolor": "#2a3f5f",
           "arrowhead": 0,
           "arrowwidth": 1
          },
          "autotypenumbers": "strict",
          "coloraxis": {
           "colorbar": {
            "outlinewidth": 0,
            "ticks": ""
           }
          },
          "colorscale": {
           "diverging": [
            [
             0,
             "#8e0152"
            ],
            [
             0.1,
             "#c51b7d"
            ],
            [
             0.2,
             "#de77ae"
            ],
            [
             0.3,
             "#f1b6da"
            ],
            [
             0.4,
             "#fde0ef"
            ],
            [
             0.5,
             "#f7f7f7"
            ],
            [
             0.6,
             "#e6f5d0"
            ],
            [
             0.7,
             "#b8e186"
            ],
            [
             0.8,
             "#7fbc41"
            ],
            [
             0.9,
             "#4d9221"
            ],
            [
             1,
             "#276419"
            ]
           ],
           "sequential": [
            [
             0,
             "#0d0887"
            ],
            [
             0.1111111111111111,
             "#46039f"
            ],
            [
             0.2222222222222222,
             "#7201a8"
            ],
            [
             0.3333333333333333,
             "#9c179e"
            ],
            [
             0.4444444444444444,
             "#bd3786"
            ],
            [
             0.5555555555555556,
             "#d8576b"
            ],
            [
             0.6666666666666666,
             "#ed7953"
            ],
            [
             0.7777777777777778,
             "#fb9f3a"
            ],
            [
             0.8888888888888888,
             "#fdca26"
            ],
            [
             1,
             "#f0f921"
            ]
           ],
           "sequentialminus": [
            [
             0,
             "#0d0887"
            ],
            [
             0.1111111111111111,
             "#46039f"
            ],
            [
             0.2222222222222222,
             "#7201a8"
            ],
            [
             0.3333333333333333,
             "#9c179e"
            ],
            [
             0.4444444444444444,
             "#bd3786"
            ],
            [
             0.5555555555555556,
             "#d8576b"
            ],
            [
             0.6666666666666666,
             "#ed7953"
            ],
            [
             0.7777777777777778,
             "#fb9f3a"
            ],
            [
             0.8888888888888888,
             "#fdca26"
            ],
            [
             1,
             "#f0f921"
            ]
           ]
          },
          "colorway": [
           "#636efa",
           "#EF553B",
           "#00cc96",
           "#ab63fa",
           "#FFA15A",
           "#19d3f3",
           "#FF6692",
           "#B6E880",
           "#FF97FF",
           "#FECB52"
          ],
          "font": {
           "color": "#2a3f5f"
          },
          "geo": {
           "bgcolor": "white",
           "lakecolor": "white",
           "landcolor": "#E5ECF6",
           "showlakes": true,
           "showland": true,
           "subunitcolor": "white"
          },
          "hoverlabel": {
           "align": "left"
          },
          "hovermode": "closest",
          "mapbox": {
           "style": "light"
          },
          "paper_bgcolor": "white",
          "plot_bgcolor": "#E5ECF6",
          "polar": {
           "angularaxis": {
            "gridcolor": "white",
            "linecolor": "white",
            "ticks": ""
           },
           "bgcolor": "#E5ECF6",
           "radialaxis": {
            "gridcolor": "white",
            "linecolor": "white",
            "ticks": ""
           }
          },
          "scene": {
           "xaxis": {
            "backgroundcolor": "#E5ECF6",
            "gridcolor": "white",
            "gridwidth": 2,
            "linecolor": "white",
            "showbackground": true,
            "ticks": "",
            "zerolinecolor": "white"
           },
           "yaxis": {
            "backgroundcolor": "#E5ECF6",
            "gridcolor": "white",
            "gridwidth": 2,
            "linecolor": "white",
            "showbackground": true,
            "ticks": "",
            "zerolinecolor": "white"
           },
           "zaxis": {
            "backgroundcolor": "#E5ECF6",
            "gridcolor": "white",
            "gridwidth": 2,
            "linecolor": "white",
            "showbackground": true,
            "ticks": "",
            "zerolinecolor": "white"
           }
          },
          "shapedefaults": {
           "line": {
            "color": "#2a3f5f"
           }
          },
          "ternary": {
           "aaxis": {
            "gridcolor": "white",
            "linecolor": "white",
            "ticks": ""
           },
           "baxis": {
            "gridcolor": "white",
            "linecolor": "white",
            "ticks": ""
           },
           "bgcolor": "#E5ECF6",
           "caxis": {
            "gridcolor": "white",
            "linecolor": "white",
            "ticks": ""
           }
          },
          "title": {
           "x": 0.05
          },
          "xaxis": {
           "automargin": true,
           "gridcolor": "white",
           "linecolor": "white",
           "ticks": "",
           "title": {
            "standoff": 15
           },
           "zerolinecolor": "white",
           "zerolinewidth": 2
          },
          "yaxis": {
           "automargin": true,
           "gridcolor": "white",
           "linecolor": "white",
           "ticks": "",
           "title": {
            "standoff": 15
           },
           "zerolinecolor": "white",
           "zerolinewidth": 2
          }
         }
        },
        "title": {
         "text": "[02.03] Trigger, n = 284"
        },
        "width": 800
       }
      }
     },
     "metadata": {},
     "output_type": "display_data"
    },
    {
     "name": "stdout",
     "output_type": "stream",
     "text": [
      "[02.04] Affected body parts\n"
     ]
    },
    {
     "data": {
      "application/vnd.plotly.v1+json": {
       "config": {
        "plotlyServerURL": "https://plot.ly"
       },
       "data": [
        {
         "domain": {
          "x": [
           0,
           1
          ],
          "y": [
           0,
           1
          ]
         },
         "hovertemplate": "label=%{label}<br>value=%{value}<extra></extra>",
         "labels": [
          "Innere Medizin",
          "Lower extremities",
          "Head",
          "Upper extremities",
          "Abdomen",
          "Back",
          "Full body",
          "Buttocks",
          "Chest",
          "Coccyx",
          "Intestine",
          "Intimate area"
         ],
         "legendgroup": "",
         "name": "",
         "showlegend": true,
         "type": "pie",
         "values": {
          "bdata": "QSsUCwsKCQcFAgIB",
          "dtype": "i1"
         }
        }
       ],
       "layout": {
        "height": 500,
        "legend": {
         "tracegroupgap": 0
        },
        "template": {
         "data": {
          "bar": [
           {
            "error_x": {
             "color": "#2a3f5f"
            },
            "error_y": {
             "color": "#2a3f5f"
            },
            "marker": {
             "line": {
              "color": "#E5ECF6",
              "width": 0.5
             },
             "pattern": {
              "fillmode": "overlay",
              "size": 10,
              "solidity": 0.2
             }
            },
            "type": "bar"
           }
          ],
          "barpolar": [
           {
            "marker": {
             "line": {
              "color": "#E5ECF6",
              "width": 0.5
             },
             "pattern": {
              "fillmode": "overlay",
              "size": 10,
              "solidity": 0.2
             }
            },
            "type": "barpolar"
           }
          ],
          "carpet": [
           {
            "aaxis": {
             "endlinecolor": "#2a3f5f",
             "gridcolor": "white",
             "linecolor": "white",
             "minorgridcolor": "white",
             "startlinecolor": "#2a3f5f"
            },
            "baxis": {
             "endlinecolor": "#2a3f5f",
             "gridcolor": "white",
             "linecolor": "white",
             "minorgridcolor": "white",
             "startlinecolor": "#2a3f5f"
            },
            "type": "carpet"
           }
          ],
          "choropleth": [
           {
            "colorbar": {
             "outlinewidth": 0,
             "ticks": ""
            },
            "type": "choropleth"
           }
          ],
          "contour": [
           {
            "colorbar": {
             "outlinewidth": 0,
             "ticks": ""
            },
            "colorscale": [
             [
              0,
              "#0d0887"
             ],
             [
              0.1111111111111111,
              "#46039f"
             ],
             [
              0.2222222222222222,
              "#7201a8"
             ],
             [
              0.3333333333333333,
              "#9c179e"
             ],
             [
              0.4444444444444444,
              "#bd3786"
             ],
             [
              0.5555555555555556,
              "#d8576b"
             ],
             [
              0.6666666666666666,
              "#ed7953"
             ],
             [
              0.7777777777777778,
              "#fb9f3a"
             ],
             [
              0.8888888888888888,
              "#fdca26"
             ],
             [
              1,
              "#f0f921"
             ]
            ],
            "type": "contour"
           }
          ],
          "contourcarpet": [
           {
            "colorbar": {
             "outlinewidth": 0,
             "ticks": ""
            },
            "type": "contourcarpet"
           }
          ],
          "heatmap": [
           {
            "colorbar": {
             "outlinewidth": 0,
             "ticks": ""
            },
            "colorscale": [
             [
              0,
              "#0d0887"
             ],
             [
              0.1111111111111111,
              "#46039f"
             ],
             [
              0.2222222222222222,
              "#7201a8"
             ],
             [
              0.3333333333333333,
              "#9c179e"
             ],
             [
              0.4444444444444444,
              "#bd3786"
             ],
             [
              0.5555555555555556,
              "#d8576b"
             ],
             [
              0.6666666666666666,
              "#ed7953"
             ],
             [
              0.7777777777777778,
              "#fb9f3a"
             ],
             [
              0.8888888888888888,
              "#fdca26"
             ],
             [
              1,
              "#f0f921"
             ]
            ],
            "type": "heatmap"
           }
          ],
          "histogram": [
           {
            "marker": {
             "pattern": {
              "fillmode": "overlay",
              "size": 10,
              "solidity": 0.2
             }
            },
            "type": "histogram"
           }
          ],
          "histogram2d": [
           {
            "colorbar": {
             "outlinewidth": 0,
             "ticks": ""
            },
            "colorscale": [
             [
              0,
              "#0d0887"
             ],
             [
              0.1111111111111111,
              "#46039f"
             ],
             [
              0.2222222222222222,
              "#7201a8"
             ],
             [
              0.3333333333333333,
              "#9c179e"
             ],
             [
              0.4444444444444444,
              "#bd3786"
             ],
             [
              0.5555555555555556,
              "#d8576b"
             ],
             [
              0.6666666666666666,
              "#ed7953"
             ],
             [
              0.7777777777777778,
              "#fb9f3a"
             ],
             [
              0.8888888888888888,
              "#fdca26"
             ],
             [
              1,
              "#f0f921"
             ]
            ],
            "type": "histogram2d"
           }
          ],
          "histogram2dcontour": [
           {
            "colorbar": {
             "outlinewidth": 0,
             "ticks": ""
            },
            "colorscale": [
             [
              0,
              "#0d0887"
             ],
             [
              0.1111111111111111,
              "#46039f"
             ],
             [
              0.2222222222222222,
              "#7201a8"
             ],
             [
              0.3333333333333333,
              "#9c179e"
             ],
             [
              0.4444444444444444,
              "#bd3786"
             ],
             [
              0.5555555555555556,
              "#d8576b"
             ],
             [
              0.6666666666666666,
              "#ed7953"
             ],
             [
              0.7777777777777778,
              "#fb9f3a"
             ],
             [
              0.8888888888888888,
              "#fdca26"
             ],
             [
              1,
              "#f0f921"
             ]
            ],
            "type": "histogram2dcontour"
           }
          ],
          "mesh3d": [
           {
            "colorbar": {
             "outlinewidth": 0,
             "ticks": ""
            },
            "type": "mesh3d"
           }
          ],
          "parcoords": [
           {
            "line": {
             "colorbar": {
              "outlinewidth": 0,
              "ticks": ""
             }
            },
            "type": "parcoords"
           }
          ],
          "pie": [
           {
            "automargin": true,
            "type": "pie"
           }
          ],
          "scatter": [
           {
            "fillpattern": {
             "fillmode": "overlay",
             "size": 10,
             "solidity": 0.2
            },
            "type": "scatter"
           }
          ],
          "scatter3d": [
           {
            "line": {
             "colorbar": {
              "outlinewidth": 0,
              "ticks": ""
             }
            },
            "marker": {
             "colorbar": {
              "outlinewidth": 0,
              "ticks": ""
             }
            },
            "type": "scatter3d"
           }
          ],
          "scattercarpet": [
           {
            "marker": {
             "colorbar": {
              "outlinewidth": 0,
              "ticks": ""
             }
            },
            "type": "scattercarpet"
           }
          ],
          "scattergeo": [
           {
            "marker": {
             "colorbar": {
              "outlinewidth": 0,
              "ticks": ""
             }
            },
            "type": "scattergeo"
           }
          ],
          "scattergl": [
           {
            "marker": {
             "colorbar": {
              "outlinewidth": 0,
              "ticks": ""
             }
            },
            "type": "scattergl"
           }
          ],
          "scattermap": [
           {
            "marker": {
             "colorbar": {
              "outlinewidth": 0,
              "ticks": ""
             }
            },
            "type": "scattermap"
           }
          ],
          "scattermapbox": [
           {
            "marker": {
             "colorbar": {
              "outlinewidth": 0,
              "ticks": ""
             }
            },
            "type": "scattermapbox"
           }
          ],
          "scatterpolar": [
           {
            "marker": {
             "colorbar": {
              "outlinewidth": 0,
              "ticks": ""
             }
            },
            "type": "scatterpolar"
           }
          ],
          "scatterpolargl": [
           {
            "marker": {
             "colorbar": {
              "outlinewidth": 0,
              "ticks": ""
             }
            },
            "type": "scatterpolargl"
           }
          ],
          "scatterternary": [
           {
            "marker": {
             "colorbar": {
              "outlinewidth": 0,
              "ticks": ""
             }
            },
            "type": "scatterternary"
           }
          ],
          "surface": [
           {
            "colorbar": {
             "outlinewidth": 0,
             "ticks": ""
            },
            "colorscale": [
             [
              0,
              "#0d0887"
             ],
             [
              0.1111111111111111,
              "#46039f"
             ],
             [
              0.2222222222222222,
              "#7201a8"
             ],
             [
              0.3333333333333333,
              "#9c179e"
             ],
             [
              0.4444444444444444,
              "#bd3786"
             ],
             [
              0.5555555555555556,
              "#d8576b"
             ],
             [
              0.6666666666666666,
              "#ed7953"
             ],
             [
              0.7777777777777778,
              "#fb9f3a"
             ],
             [
              0.8888888888888888,
              "#fdca26"
             ],
             [
              1,
              "#f0f921"
             ]
            ],
            "type": "surface"
           }
          ],
          "table": [
           {
            "cells": {
             "fill": {
              "color": "#EBF0F8"
             },
             "line": {
              "color": "white"
             }
            },
            "header": {
             "fill": {
              "color": "#C8D4E3"
             },
             "line": {
              "color": "white"
             }
            },
            "type": "table"
           }
          ]
         },
         "layout": {
          "annotationdefaults": {
           "arrowcolor": "#2a3f5f",
           "arrowhead": 0,
           "arrowwidth": 1
          },
          "autotypenumbers": "strict",
          "coloraxis": {
           "colorbar": {
            "outlinewidth": 0,
            "ticks": ""
           }
          },
          "colorscale": {
           "diverging": [
            [
             0,
             "#8e0152"
            ],
            [
             0.1,
             "#c51b7d"
            ],
            [
             0.2,
             "#de77ae"
            ],
            [
             0.3,
             "#f1b6da"
            ],
            [
             0.4,
             "#fde0ef"
            ],
            [
             0.5,
             "#f7f7f7"
            ],
            [
             0.6,
             "#e6f5d0"
            ],
            [
             0.7,
             "#b8e186"
            ],
            [
             0.8,
             "#7fbc41"
            ],
            [
             0.9,
             "#4d9221"
            ],
            [
             1,
             "#276419"
            ]
           ],
           "sequential": [
            [
             0,
             "#0d0887"
            ],
            [
             0.1111111111111111,
             "#46039f"
            ],
            [
             0.2222222222222222,
             "#7201a8"
            ],
            [
             0.3333333333333333,
             "#9c179e"
            ],
            [
             0.4444444444444444,
             "#bd3786"
            ],
            [
             0.5555555555555556,
             "#d8576b"
            ],
            [
             0.6666666666666666,
             "#ed7953"
            ],
            [
             0.7777777777777778,
             "#fb9f3a"
            ],
            [
             0.8888888888888888,
             "#fdca26"
            ],
            [
             1,
             "#f0f921"
            ]
           ],
           "sequentialminus": [
            [
             0,
             "#0d0887"
            ],
            [
             0.1111111111111111,
             "#46039f"
            ],
            [
             0.2222222222222222,
             "#7201a8"
            ],
            [
             0.3333333333333333,
             "#9c179e"
            ],
            [
             0.4444444444444444,
             "#bd3786"
            ],
            [
             0.5555555555555556,
             "#d8576b"
            ],
            [
             0.6666666666666666,
             "#ed7953"
            ],
            [
             0.7777777777777778,
             "#fb9f3a"
            ],
            [
             0.8888888888888888,
             "#fdca26"
            ],
            [
             1,
             "#f0f921"
            ]
           ]
          },
          "colorway": [
           "#636efa",
           "#EF553B",
           "#00cc96",
           "#ab63fa",
           "#FFA15A",
           "#19d3f3",
           "#FF6692",
           "#B6E880",
           "#FF97FF",
           "#FECB52"
          ],
          "font": {
           "color": "#2a3f5f"
          },
          "geo": {
           "bgcolor": "white",
           "lakecolor": "white",
           "landcolor": "#E5ECF6",
           "showlakes": true,
           "showland": true,
           "subunitcolor": "white"
          },
          "hoverlabel": {
           "align": "left"
          },
          "hovermode": "closest",
          "mapbox": {
           "style": "light"
          },
          "paper_bgcolor": "white",
          "plot_bgcolor": "#E5ECF6",
          "polar": {
           "angularaxis": {
            "gridcolor": "white",
            "linecolor": "white",
            "ticks": ""
           },
           "bgcolor": "#E5ECF6",
           "radialaxis": {
            "gridcolor": "white",
            "linecolor": "white",
            "ticks": ""
           }
          },
          "scene": {
           "xaxis": {
            "backgroundcolor": "#E5ECF6",
            "gridcolor": "white",
            "gridwidth": 2,
            "linecolor": "white",
            "showbackground": true,
            "ticks": "",
            "zerolinecolor": "white"
           },
           "yaxis": {
            "backgroundcolor": "#E5ECF6",
            "gridcolor": "white",
            "gridwidth": 2,
            "linecolor": "white",
            "showbackground": true,
            "ticks": "",
            "zerolinecolor": "white"
           },
           "zaxis": {
            "backgroundcolor": "#E5ECF6",
            "gridcolor": "white",
            "gridwidth": 2,
            "linecolor": "white",
            "showbackground": true,
            "ticks": "",
            "zerolinecolor": "white"
           }
          },
          "shapedefaults": {
           "line": {
            "color": "#2a3f5f"
           }
          },
          "ternary": {
           "aaxis": {
            "gridcolor": "white",
            "linecolor": "white",
            "ticks": ""
           },
           "baxis": {
            "gridcolor": "white",
            "linecolor": "white",
            "ticks": ""
           },
           "bgcolor": "#E5ECF6",
           "caxis": {
            "gridcolor": "white",
            "linecolor": "white",
            "ticks": ""
           }
          },
          "title": {
           "x": 0.05
          },
          "xaxis": {
           "automargin": true,
           "gridcolor": "white",
           "linecolor": "white",
           "ticks": "",
           "title": {
            "standoff": 15
           },
           "zerolinecolor": "white",
           "zerolinewidth": 2
          },
          "yaxis": {
           "automargin": true,
           "gridcolor": "white",
           "linecolor": "white",
           "ticks": "",
           "title": {
            "standoff": 15
           },
           "zerolinecolor": "white",
           "zerolinewidth": 2
          }
         }
        },
        "title": {
         "text": "[02.04] Affected body parts, n = 187"
        },
        "width": 800
       }
      }
     },
     "metadata": {},
     "output_type": "display_data"
    },
    {
     "name": "stdout",
     "output_type": "stream",
     "text": [
      "[05.07] Main motor skill\n"
     ]
    },
    {
     "data": {
      "application/vnd.plotly.v1+json": {
       "config": {
        "plotlyServerURL": "https://plot.ly"
       },
       "data": [
        {
         "domain": {
          "x": [
           0,
           1
          ],
          "y": [
           0,
           1
          ]
         },
         "hovertemplate": "label=%{label}<br>value=%{value}<extra></extra>",
         "labels": [
          "Coordination",
          "Endurance",
          "Strength",
          "Full body",
          "Flexibility",
          "Speed",
          "Relaxation"
         ],
         "legendgroup": "",
         "name": "",
         "showlegend": true,
         "type": "pie",
         "values": {
          "bdata": "UTAoGBgKAg==",
          "dtype": "i1"
         }
        }
       ],
       "layout": {
        "height": 500,
        "legend": {
         "tracegroupgap": 0
        },
        "template": {
         "data": {
          "bar": [
           {
            "error_x": {
             "color": "#2a3f5f"
            },
            "error_y": {
             "color": "#2a3f5f"
            },
            "marker": {
             "line": {
              "color": "#E5ECF6",
              "width": 0.5
             },
             "pattern": {
              "fillmode": "overlay",
              "size": 10,
              "solidity": 0.2
             }
            },
            "type": "bar"
           }
          ],
          "barpolar": [
           {
            "marker": {
             "line": {
              "color": "#E5ECF6",
              "width": 0.5
             },
             "pattern": {
              "fillmode": "overlay",
              "size": 10,
              "solidity": 0.2
             }
            },
            "type": "barpolar"
           }
          ],
          "carpet": [
           {
            "aaxis": {
             "endlinecolor": "#2a3f5f",
             "gridcolor": "white",
             "linecolor": "white",
             "minorgridcolor": "white",
             "startlinecolor": "#2a3f5f"
            },
            "baxis": {
             "endlinecolor": "#2a3f5f",
             "gridcolor": "white",
             "linecolor": "white",
             "minorgridcolor": "white",
             "startlinecolor": "#2a3f5f"
            },
            "type": "carpet"
           }
          ],
          "choropleth": [
           {
            "colorbar": {
             "outlinewidth": 0,
             "ticks": ""
            },
            "type": "choropleth"
           }
          ],
          "contour": [
           {
            "colorbar": {
             "outlinewidth": 0,
             "ticks": ""
            },
            "colorscale": [
             [
              0,
              "#0d0887"
             ],
             [
              0.1111111111111111,
              "#46039f"
             ],
             [
              0.2222222222222222,
              "#7201a8"
             ],
             [
              0.3333333333333333,
              "#9c179e"
             ],
             [
              0.4444444444444444,
              "#bd3786"
             ],
             [
              0.5555555555555556,
              "#d8576b"
             ],
             [
              0.6666666666666666,
              "#ed7953"
             ],
             [
              0.7777777777777778,
              "#fb9f3a"
             ],
             [
              0.8888888888888888,
              "#fdca26"
             ],
             [
              1,
              "#f0f921"
             ]
            ],
            "type": "contour"
           }
          ],
          "contourcarpet": [
           {
            "colorbar": {
             "outlinewidth": 0,
             "ticks": ""
            },
            "type": "contourcarpet"
           }
          ],
          "heatmap": [
           {
            "colorbar": {
             "outlinewidth": 0,
             "ticks": ""
            },
            "colorscale": [
             [
              0,
              "#0d0887"
             ],
             [
              0.1111111111111111,
              "#46039f"
             ],
             [
              0.2222222222222222,
              "#7201a8"
             ],
             [
              0.3333333333333333,
              "#9c179e"
             ],
             [
              0.4444444444444444,
              "#bd3786"
             ],
             [
              0.5555555555555556,
              "#d8576b"
             ],
             [
              0.6666666666666666,
              "#ed7953"
             ],
             [
              0.7777777777777778,
              "#fb9f3a"
             ],
             [
              0.8888888888888888,
              "#fdca26"
             ],
             [
              1,
              "#f0f921"
             ]
            ],
            "type": "heatmap"
           }
          ],
          "histogram": [
           {
            "marker": {
             "pattern": {
              "fillmode": "overlay",
              "size": 10,
              "solidity": 0.2
             }
            },
            "type": "histogram"
           }
          ],
          "histogram2d": [
           {
            "colorbar": {
             "outlinewidth": 0,
             "ticks": ""
            },
            "colorscale": [
             [
              0,
              "#0d0887"
             ],
             [
              0.1111111111111111,
              "#46039f"
             ],
             [
              0.2222222222222222,
              "#7201a8"
             ],
             [
              0.3333333333333333,
              "#9c179e"
             ],
             [
              0.4444444444444444,
              "#bd3786"
             ],
             [
              0.5555555555555556,
              "#d8576b"
             ],
             [
              0.6666666666666666,
              "#ed7953"
             ],
             [
              0.7777777777777778,
              "#fb9f3a"
             ],
             [
              0.8888888888888888,
              "#fdca26"
             ],
             [
              1,
              "#f0f921"
             ]
            ],
            "type": "histogram2d"
           }
          ],
          "histogram2dcontour": [
           {
            "colorbar": {
             "outlinewidth": 0,
             "ticks": ""
            },
            "colorscale": [
             [
              0,
              "#0d0887"
             ],
             [
              0.1111111111111111,
              "#46039f"
             ],
             [
              0.2222222222222222,
              "#7201a8"
             ],
             [
              0.3333333333333333,
              "#9c179e"
             ],
             [
              0.4444444444444444,
              "#bd3786"
             ],
             [
              0.5555555555555556,
              "#d8576b"
             ],
             [
              0.6666666666666666,
              "#ed7953"
             ],
             [
              0.7777777777777778,
              "#fb9f3a"
             ],
             [
              0.8888888888888888,
              "#fdca26"
             ],
             [
              1,
              "#f0f921"
             ]
            ],
            "type": "histogram2dcontour"
           }
          ],
          "mesh3d": [
           {
            "colorbar": {
             "outlinewidth": 0,
             "ticks": ""
            },
            "type": "mesh3d"
           }
          ],
          "parcoords": [
           {
            "line": {
             "colorbar": {
              "outlinewidth": 0,
              "ticks": ""
             }
            },
            "type": "parcoords"
           }
          ],
          "pie": [
           {
            "automargin": true,
            "type": "pie"
           }
          ],
          "scatter": [
           {
            "fillpattern": {
             "fillmode": "overlay",
             "size": 10,
             "solidity": 0.2
            },
            "type": "scatter"
           }
          ],
          "scatter3d": [
           {
            "line": {
             "colorbar": {
              "outlinewidth": 0,
              "ticks": ""
             }
            },
            "marker": {
             "colorbar": {
              "outlinewidth": 0,
              "ticks": ""
             }
            },
            "type": "scatter3d"
           }
          ],
          "scattercarpet": [
           {
            "marker": {
             "colorbar": {
              "outlinewidth": 0,
              "ticks": ""
             }
            },
            "type": "scattercarpet"
           }
          ],
          "scattergeo": [
           {
            "marker": {
             "colorbar": {
              "outlinewidth": 0,
              "ticks": ""
             }
            },
            "type": "scattergeo"
           }
          ],
          "scattergl": [
           {
            "marker": {
             "colorbar": {
              "outlinewidth": 0,
              "ticks": ""
             }
            },
            "type": "scattergl"
           }
          ],
          "scattermap": [
           {
            "marker": {
             "colorbar": {
              "outlinewidth": 0,
              "ticks": ""
             }
            },
            "type": "scattermap"
           }
          ],
          "scattermapbox": [
           {
            "marker": {
             "colorbar": {
              "outlinewidth": 0,
              "ticks": ""
             }
            },
            "type": "scattermapbox"
           }
          ],
          "scatterpolar": [
           {
            "marker": {
             "colorbar": {
              "outlinewidth": 0,
              "ticks": ""
             }
            },
            "type": "scatterpolar"
           }
          ],
          "scatterpolargl": [
           {
            "marker": {
             "colorbar": {
              "outlinewidth": 0,
              "ticks": ""
             }
            },
            "type": "scatterpolargl"
           }
          ],
          "scatterternary": [
           {
            "marker": {
             "colorbar": {
              "outlinewidth": 0,
              "ticks": ""
             }
            },
            "type": "scatterternary"
           }
          ],
          "surface": [
           {
            "colorbar": {
             "outlinewidth": 0,
             "ticks": ""
            },
            "colorscale": [
             [
              0,
              "#0d0887"
             ],
             [
              0.1111111111111111,
              "#46039f"
             ],
             [
              0.2222222222222222,
              "#7201a8"
             ],
             [
              0.3333333333333333,
              "#9c179e"
             ],
             [
              0.4444444444444444,
              "#bd3786"
             ],
             [
              0.5555555555555556,
              "#d8576b"
             ],
             [
              0.6666666666666666,
              "#ed7953"
             ],
             [
              0.7777777777777778,
              "#fb9f3a"
             ],
             [
              0.8888888888888888,
              "#fdca26"
             ],
             [
              1,
              "#f0f921"
             ]
            ],
            "type": "surface"
           }
          ],
          "table": [
           {
            "cells": {
             "fill": {
              "color": "#EBF0F8"
             },
             "line": {
              "color": "white"
             }
            },
            "header": {
             "fill": {
              "color": "#C8D4E3"
             },
             "line": {
              "color": "white"
             }
            },
            "type": "table"
           }
          ]
         },
         "layout": {
          "annotationdefaults": {
           "arrowcolor": "#2a3f5f",
           "arrowhead": 0,
           "arrowwidth": 1
          },
          "autotypenumbers": "strict",
          "coloraxis": {
           "colorbar": {
            "outlinewidth": 0,
            "ticks": ""
           }
          },
          "colorscale": {
           "diverging": [
            [
             0,
             "#8e0152"
            ],
            [
             0.1,
             "#c51b7d"
            ],
            [
             0.2,
             "#de77ae"
            ],
            [
             0.3,
             "#f1b6da"
            ],
            [
             0.4,
             "#fde0ef"
            ],
            [
             0.5,
             "#f7f7f7"
            ],
            [
             0.6,
             "#e6f5d0"
            ],
            [
             0.7,
             "#b8e186"
            ],
            [
             0.8,
             "#7fbc41"
            ],
            [
             0.9,
             "#4d9221"
            ],
            [
             1,
             "#276419"
            ]
           ],
           "sequential": [
            [
             0,
             "#0d0887"
            ],
            [
             0.1111111111111111,
             "#46039f"
            ],
            [
             0.2222222222222222,
             "#7201a8"
            ],
            [
             0.3333333333333333,
             "#9c179e"
            ],
            [
             0.4444444444444444,
             "#bd3786"
            ],
            [
             0.5555555555555556,
             "#d8576b"
            ],
            [
             0.6666666666666666,
             "#ed7953"
            ],
            [
             0.7777777777777778,
             "#fb9f3a"
            ],
            [
             0.8888888888888888,
             "#fdca26"
            ],
            [
             1,
             "#f0f921"
            ]
           ],
           "sequentialminus": [
            [
             0,
             "#0d0887"
            ],
            [
             0.1111111111111111,
             "#46039f"
            ],
            [
             0.2222222222222222,
             "#7201a8"
            ],
            [
             0.3333333333333333,
             "#9c179e"
            ],
            [
             0.4444444444444444,
             "#bd3786"
            ],
            [
             0.5555555555555556,
             "#d8576b"
            ],
            [
             0.6666666666666666,
             "#ed7953"
            ],
            [
             0.7777777777777778,
             "#fb9f3a"
            ],
            [
             0.8888888888888888,
             "#fdca26"
            ],
            [
             1,
             "#f0f921"
            ]
           ]
          },
          "colorway": [
           "#636efa",
           "#EF553B",
           "#00cc96",
           "#ab63fa",
           "#FFA15A",
           "#19d3f3",
           "#FF6692",
           "#B6E880",
           "#FF97FF",
           "#FECB52"
          ],
          "font": {
           "color": "#2a3f5f"
          },
          "geo": {
           "bgcolor": "white",
           "lakecolor": "white",
           "landcolor": "#E5ECF6",
           "showlakes": true,
           "showland": true,
           "subunitcolor": "white"
          },
          "hoverlabel": {
           "align": "left"
          },
          "hovermode": "closest",
          "mapbox": {
           "style": "light"
          },
          "paper_bgcolor": "white",
          "plot_bgcolor": "#E5ECF6",
          "polar": {
           "angularaxis": {
            "gridcolor": "white",
            "linecolor": "white",
            "ticks": ""
           },
           "bgcolor": "#E5ECF6",
           "radialaxis": {
            "gridcolor": "white",
            "linecolor": "white",
            "ticks": ""
           }
          },
          "scene": {
           "xaxis": {
            "backgroundcolor": "#E5ECF6",
            "gridcolor": "white",
            "gridwidth": 2,
            "linecolor": "white",
            "showbackground": true,
            "ticks": "",
            "zerolinecolor": "white"
           },
           "yaxis": {
            "backgroundcolor": "#E5ECF6",
            "gridcolor": "white",
            "gridwidth": 2,
            "linecolor": "white",
            "showbackground": true,
            "ticks": "",
            "zerolinecolor": "white"
           },
           "zaxis": {
            "backgroundcolor": "#E5ECF6",
            "gridcolor": "white",
            "gridwidth": 2,
            "linecolor": "white",
            "showbackground": true,
            "ticks": "",
            "zerolinecolor": "white"
           }
          },
          "shapedefaults": {
           "line": {
            "color": "#2a3f5f"
           }
          },
          "ternary": {
           "aaxis": {
            "gridcolor": "white",
            "linecolor": "white",
            "ticks": ""
           },
           "baxis": {
            "gridcolor": "white",
            "linecolor": "white",
            "ticks": ""
           },
           "bgcolor": "#E5ECF6",
           "caxis": {
            "gridcolor": "white",
            "linecolor": "white",
            "ticks": ""
           }
          },
          "title": {
           "x": 0.05
          },
          "xaxis": {
           "automargin": true,
           "gridcolor": "white",
           "linecolor": "white",
           "ticks": "",
           "title": {
            "standoff": 15
           },
           "zerolinecolor": "white",
           "zerolinewidth": 2
          },
          "yaxis": {
           "automargin": true,
           "gridcolor": "white",
           "linecolor": "white",
           "ticks": "",
           "title": {
            "standoff": 15
           },
           "zerolinecolor": "white",
           "zerolinewidth": 2
          }
         }
        },
        "title": {
         "text": "[05.07] Main motor skill, n = 242"
        },
        "width": 800
       }
      }
     },
     "metadata": {},
     "output_type": "display_data"
    },
    {
     "name": "stdout",
     "output_type": "stream",
     "text": [
      "[05.06] Setting\n"
     ]
    },
    {
     "data": {
      "application/vnd.plotly.v1+json": {
       "config": {
        "plotlyServerURL": "https://plot.ly"
       },
       "data": [
        {
         "domain": {
          "x": [
           0,
           1
          ],
          "y": [
           0,
           1
          ]
         },
         "hovertemplate": "label=%{label}<br>value=%{value}<extra></extra>",
         "labels": [
          "Gym",
          "Hospital corridor",
          "Patients room",
          "Outside",
          "At home (via telemedicine)"
         ],
         "legendgroup": "",
         "name": "",
         "showlegend": true,
         "type": "pie",
         "values": {
          "bdata": "PikpCwc=",
          "dtype": "i1"
         }
        }
       ],
       "layout": {
        "height": 500,
        "legend": {
         "tracegroupgap": 0
        },
        "template": {
         "data": {
          "bar": [
           {
            "error_x": {
             "color": "#2a3f5f"
            },
            "error_y": {
             "color": "#2a3f5f"
            },
            "marker": {
             "line": {
              "color": "#E5ECF6",
              "width": 0.5
             },
             "pattern": {
              "fillmode": "overlay",
              "size": 10,
              "solidity": 0.2
             }
            },
            "type": "bar"
           }
          ],
          "barpolar": [
           {
            "marker": {
             "line": {
              "color": "#E5ECF6",
              "width": 0.5
             },
             "pattern": {
              "fillmode": "overlay",
              "size": 10,
              "solidity": 0.2
             }
            },
            "type": "barpolar"
           }
          ],
          "carpet": [
           {
            "aaxis": {
             "endlinecolor": "#2a3f5f",
             "gridcolor": "white",
             "linecolor": "white",
             "minorgridcolor": "white",
             "startlinecolor": "#2a3f5f"
            },
            "baxis": {
             "endlinecolor": "#2a3f5f",
             "gridcolor": "white",
             "linecolor": "white",
             "minorgridcolor": "white",
             "startlinecolor": "#2a3f5f"
            },
            "type": "carpet"
           }
          ],
          "choropleth": [
           {
            "colorbar": {
             "outlinewidth": 0,
             "ticks": ""
            },
            "type": "choropleth"
           }
          ],
          "contour": [
           {
            "colorbar": {
             "outlinewidth": 0,
             "ticks": ""
            },
            "colorscale": [
             [
              0,
              "#0d0887"
             ],
             [
              0.1111111111111111,
              "#46039f"
             ],
             [
              0.2222222222222222,
              "#7201a8"
             ],
             [
              0.3333333333333333,
              "#9c179e"
             ],
             [
              0.4444444444444444,
              "#bd3786"
             ],
             [
              0.5555555555555556,
              "#d8576b"
             ],
             [
              0.6666666666666666,
              "#ed7953"
             ],
             [
              0.7777777777777778,
              "#fb9f3a"
             ],
             [
              0.8888888888888888,
              "#fdca26"
             ],
             [
              1,
              "#f0f921"
             ]
            ],
            "type": "contour"
           }
          ],
          "contourcarpet": [
           {
            "colorbar": {
             "outlinewidth": 0,
             "ticks": ""
            },
            "type": "contourcarpet"
           }
          ],
          "heatmap": [
           {
            "colorbar": {
             "outlinewidth": 0,
             "ticks": ""
            },
            "colorscale": [
             [
              0,
              "#0d0887"
             ],
             [
              0.1111111111111111,
              "#46039f"
             ],
             [
              0.2222222222222222,
              "#7201a8"
             ],
             [
              0.3333333333333333,
              "#9c179e"
             ],
             [
              0.4444444444444444,
              "#bd3786"
             ],
             [
              0.5555555555555556,
              "#d8576b"
             ],
             [
              0.6666666666666666,
              "#ed7953"
             ],
             [
              0.7777777777777778,
              "#fb9f3a"
             ],
             [
              0.8888888888888888,
              "#fdca26"
             ],
             [
              1,
              "#f0f921"
             ]
            ],
            "type": "heatmap"
           }
          ],
          "histogram": [
           {
            "marker": {
             "pattern": {
              "fillmode": "overlay",
              "size": 10,
              "solidity": 0.2
             }
            },
            "type": "histogram"
           }
          ],
          "histogram2d": [
           {
            "colorbar": {
             "outlinewidth": 0,
             "ticks": ""
            },
            "colorscale": [
             [
              0,
              "#0d0887"
             ],
             [
              0.1111111111111111,
              "#46039f"
             ],
             [
              0.2222222222222222,
              "#7201a8"
             ],
             [
              0.3333333333333333,
              "#9c179e"
             ],
             [
              0.4444444444444444,
              "#bd3786"
             ],
             [
              0.5555555555555556,
              "#d8576b"
             ],
             [
              0.6666666666666666,
              "#ed7953"
             ],
             [
              0.7777777777777778,
              "#fb9f3a"
             ],
             [
              0.8888888888888888,
              "#fdca26"
             ],
             [
              1,
              "#f0f921"
             ]
            ],
            "type": "histogram2d"
           }
          ],
          "histogram2dcontour": [
           {
            "colorbar": {
             "outlinewidth": 0,
             "ticks": ""
            },
            "colorscale": [
             [
              0,
              "#0d0887"
             ],
             [
              0.1111111111111111,
              "#46039f"
             ],
             [
              0.2222222222222222,
              "#7201a8"
             ],
             [
              0.3333333333333333,
              "#9c179e"
             ],
             [
              0.4444444444444444,
              "#bd3786"
             ],
             [
              0.5555555555555556,
              "#d8576b"
             ],
             [
              0.6666666666666666,
              "#ed7953"
             ],
             [
              0.7777777777777778,
              "#fb9f3a"
             ],
             [
              0.8888888888888888,
              "#fdca26"
             ],
             [
              1,
              "#f0f921"
             ]
            ],
            "type": "histogram2dcontour"
           }
          ],
          "mesh3d": [
           {
            "colorbar": {
             "outlinewidth": 0,
             "ticks": ""
            },
            "type": "mesh3d"
           }
          ],
          "parcoords": [
           {
            "line": {
             "colorbar": {
              "outlinewidth": 0,
              "ticks": ""
             }
            },
            "type": "parcoords"
           }
          ],
          "pie": [
           {
            "automargin": true,
            "type": "pie"
           }
          ],
          "scatter": [
           {
            "fillpattern": {
             "fillmode": "overlay",
             "size": 10,
             "solidity": 0.2
            },
            "type": "scatter"
           }
          ],
          "scatter3d": [
           {
            "line": {
             "colorbar": {
              "outlinewidth": 0,
              "ticks": ""
             }
            },
            "marker": {
             "colorbar": {
              "outlinewidth": 0,
              "ticks": ""
             }
            },
            "type": "scatter3d"
           }
          ],
          "scattercarpet": [
           {
            "marker": {
             "colorbar": {
              "outlinewidth": 0,
              "ticks": ""
             }
            },
            "type": "scattercarpet"
           }
          ],
          "scattergeo": [
           {
            "marker": {
             "colorbar": {
              "outlinewidth": 0,
              "ticks": ""
             }
            },
            "type": "scattergeo"
           }
          ],
          "scattergl": [
           {
            "marker": {
             "colorbar": {
              "outlinewidth": 0,
              "ticks": ""
             }
            },
            "type": "scattergl"
           }
          ],
          "scattermap": [
           {
            "marker": {
             "colorbar": {
              "outlinewidth": 0,
              "ticks": ""
             }
            },
            "type": "scattermap"
           }
          ],
          "scattermapbox": [
           {
            "marker": {
             "colorbar": {
              "outlinewidth": 0,
              "ticks": ""
             }
            },
            "type": "scattermapbox"
           }
          ],
          "scatterpolar": [
           {
            "marker": {
             "colorbar": {
              "outlinewidth": 0,
              "ticks": ""
             }
            },
            "type": "scatterpolar"
           }
          ],
          "scatterpolargl": [
           {
            "marker": {
             "colorbar": {
              "outlinewidth": 0,
              "ticks": ""
             }
            },
            "type": "scatterpolargl"
           }
          ],
          "scatterternary": [
           {
            "marker": {
             "colorbar": {
              "outlinewidth": 0,
              "ticks": ""
             }
            },
            "type": "scatterternary"
           }
          ],
          "surface": [
           {
            "colorbar": {
             "outlinewidth": 0,
             "ticks": ""
            },
            "colorscale": [
             [
              0,
              "#0d0887"
             ],
             [
              0.1111111111111111,
              "#46039f"
             ],
             [
              0.2222222222222222,
              "#7201a8"
             ],
             [
              0.3333333333333333,
              "#9c179e"
             ],
             [
              0.4444444444444444,
              "#bd3786"
             ],
             [
              0.5555555555555556,
              "#d8576b"
             ],
             [
              0.6666666666666666,
              "#ed7953"
             ],
             [
              0.7777777777777778,
              "#fb9f3a"
             ],
             [
              0.8888888888888888,
              "#fdca26"
             ],
             [
              1,
              "#f0f921"
             ]
            ],
            "type": "surface"
           }
          ],
          "table": [
           {
            "cells": {
             "fill": {
              "color": "#EBF0F8"
             },
             "line": {
              "color": "white"
             }
            },
            "header": {
             "fill": {
              "color": "#C8D4E3"
             },
             "line": {
              "color": "white"
             }
            },
            "type": "table"
           }
          ]
         },
         "layout": {
          "annotationdefaults": {
           "arrowcolor": "#2a3f5f",
           "arrowhead": 0,
           "arrowwidth": 1
          },
          "autotypenumbers": "strict",
          "coloraxis": {
           "colorbar": {
            "outlinewidth": 0,
            "ticks": ""
           }
          },
          "colorscale": {
           "diverging": [
            [
             0,
             "#8e0152"
            ],
            [
             0.1,
             "#c51b7d"
            ],
            [
             0.2,
             "#de77ae"
            ],
            [
             0.3,
             "#f1b6da"
            ],
            [
             0.4,
             "#fde0ef"
            ],
            [
             0.5,
             "#f7f7f7"
            ],
            [
             0.6,
             "#e6f5d0"
            ],
            [
             0.7,
             "#b8e186"
            ],
            [
             0.8,
             "#7fbc41"
            ],
            [
             0.9,
             "#4d9221"
            ],
            [
             1,
             "#276419"
            ]
           ],
           "sequential": [
            [
             0,
             "#0d0887"
            ],
            [
             0.1111111111111111,
             "#46039f"
            ],
            [
             0.2222222222222222,
             "#7201a8"
            ],
            [
             0.3333333333333333,
             "#9c179e"
            ],
            [
             0.4444444444444444,
             "#bd3786"
            ],
            [
             0.5555555555555556,
             "#d8576b"
            ],
            [
             0.6666666666666666,
             "#ed7953"
            ],
            [
             0.7777777777777778,
             "#fb9f3a"
            ],
            [
             0.8888888888888888,
             "#fdca26"
            ],
            [
             1,
             "#f0f921"
            ]
           ],
           "sequentialminus": [
            [
             0,
             "#0d0887"
            ],
            [
             0.1111111111111111,
             "#46039f"
            ],
            [
             0.2222222222222222,
             "#7201a8"
            ],
            [
             0.3333333333333333,
             "#9c179e"
            ],
            [
             0.4444444444444444,
             "#bd3786"
            ],
            [
             0.5555555555555556,
             "#d8576b"
            ],
            [
             0.6666666666666666,
             "#ed7953"
            ],
            [
             0.7777777777777778,
             "#fb9f3a"
            ],
            [
             0.8888888888888888,
             "#fdca26"
            ],
            [
             1,
             "#f0f921"
            ]
           ]
          },
          "colorway": [
           "#636efa",
           "#EF553B",
           "#00cc96",
           "#ab63fa",
           "#FFA15A",
           "#19d3f3",
           "#FF6692",
           "#B6E880",
           "#FF97FF",
           "#FECB52"
          ],
          "font": {
           "color": "#2a3f5f"
          },
          "geo": {
           "bgcolor": "white",
           "lakecolor": "white",
           "landcolor": "#E5ECF6",
           "showlakes": true,
           "showland": true,
           "subunitcolor": "white"
          },
          "hoverlabel": {
           "align": "left"
          },
          "hovermode": "closest",
          "mapbox": {
           "style": "light"
          },
          "paper_bgcolor": "white",
          "plot_bgcolor": "#E5ECF6",
          "polar": {
           "angularaxis": {
            "gridcolor": "white",
            "linecolor": "white",
            "ticks": ""
           },
           "bgcolor": "#E5ECF6",
           "radialaxis": {
            "gridcolor": "white",
            "linecolor": "white",
            "ticks": ""
           }
          },
          "scene": {
           "xaxis": {
            "backgroundcolor": "#E5ECF6",
            "gridcolor": "white",
            "gridwidth": 2,
            "linecolor": "white",
            "showbackground": true,
            "ticks": "",
            "zerolinecolor": "white"
           },
           "yaxis": {
            "backgroundcolor": "#E5ECF6",
            "gridcolor": "white",
            "gridwidth": 2,
            "linecolor": "white",
            "showbackground": true,
            "ticks": "",
            "zerolinecolor": "white"
           },
           "zaxis": {
            "backgroundcolor": "#E5ECF6",
            "gridcolor": "white",
            "gridwidth": 2,
            "linecolor": "white",
            "showbackground": true,
            "ticks": "",
            "zerolinecolor": "white"
           }
          },
          "shapedefaults": {
           "line": {
            "color": "#2a3f5f"
           }
          },
          "ternary": {
           "aaxis": {
            "gridcolor": "white",
            "linecolor": "white",
            "ticks": ""
           },
           "baxis": {
            "gridcolor": "white",
            "linecolor": "white",
            "ticks": ""
           },
           "bgcolor": "#E5ECF6",
           "caxis": {
            "gridcolor": "white",
            "linecolor": "white",
            "ticks": ""
           }
          },
          "title": {
           "x": 0.05
          },
          "xaxis": {
           "automargin": true,
           "gridcolor": "white",
           "linecolor": "white",
           "ticks": "",
           "title": {
            "standoff": 15
           },
           "zerolinecolor": "white",
           "zerolinewidth": 2
          },
          "yaxis": {
           "automargin": true,
           "gridcolor": "white",
           "linecolor": "white",
           "ticks": "",
           "title": {
            "standoff": 15
           },
           "zerolinecolor": "white",
           "zerolinewidth": 2
          }
         }
        },
        "title": {
         "text": "[05.06] Setting, n = 178"
        },
        "width": 800
       }
      }
     },
     "metadata": {},
     "output_type": "display_data"
    },
    {
     "name": "stdout",
     "output_type": "stream",
     "text": [
      "[05.02] Group size\n"
     ]
    },
    {
     "data": {
      "application/vnd.plotly.v1+json": {
       "config": {
        "plotlyServerURL": "https://plot.ly"
       },
       "data": [
        {
         "domain": {
          "x": [
           0,
           1
          ],
          "y": [
           0,
           1
          ]
         },
         "hovertemplate": "label=%{label}<br>value=%{value}<extra></extra>",
         "labels": [
          "Individual",
          "Group 5 to 10",
          "Group over 10",
          "Group 2-5"
         ],
         "legendgroup": "",
         "name": "",
         "showlegend": true,
         "type": "pie",
         "values": {
          "bdata": "oAAGAAYAAgA=",
          "dtype": "i2"
         }
        }
       ],
       "layout": {
        "height": 500,
        "legend": {
         "tracegroupgap": 0
        },
        "template": {
         "data": {
          "bar": [
           {
            "error_x": {
             "color": "#2a3f5f"
            },
            "error_y": {
             "color": "#2a3f5f"
            },
            "marker": {
             "line": {
              "color": "#E5ECF6",
              "width": 0.5
             },
             "pattern": {
              "fillmode": "overlay",
              "size": 10,
              "solidity": 0.2
             }
            },
            "type": "bar"
           }
          ],
          "barpolar": [
           {
            "marker": {
             "line": {
              "color": "#E5ECF6",
              "width": 0.5
             },
             "pattern": {
              "fillmode": "overlay",
              "size": 10,
              "solidity": 0.2
             }
            },
            "type": "barpolar"
           }
          ],
          "carpet": [
           {
            "aaxis": {
             "endlinecolor": "#2a3f5f",
             "gridcolor": "white",
             "linecolor": "white",
             "minorgridcolor": "white",
             "startlinecolor": "#2a3f5f"
            },
            "baxis": {
             "endlinecolor": "#2a3f5f",
             "gridcolor": "white",
             "linecolor": "white",
             "minorgridcolor": "white",
             "startlinecolor": "#2a3f5f"
            },
            "type": "carpet"
           }
          ],
          "choropleth": [
           {
            "colorbar": {
             "outlinewidth": 0,
             "ticks": ""
            },
            "type": "choropleth"
           }
          ],
          "contour": [
           {
            "colorbar": {
             "outlinewidth": 0,
             "ticks": ""
            },
            "colorscale": [
             [
              0,
              "#0d0887"
             ],
             [
              0.1111111111111111,
              "#46039f"
             ],
             [
              0.2222222222222222,
              "#7201a8"
             ],
             [
              0.3333333333333333,
              "#9c179e"
             ],
             [
              0.4444444444444444,
              "#bd3786"
             ],
             [
              0.5555555555555556,
              "#d8576b"
             ],
             [
              0.6666666666666666,
              "#ed7953"
             ],
             [
              0.7777777777777778,
              "#fb9f3a"
             ],
             [
              0.8888888888888888,
              "#fdca26"
             ],
             [
              1,
              "#f0f921"
             ]
            ],
            "type": "contour"
           }
          ],
          "contourcarpet": [
           {
            "colorbar": {
             "outlinewidth": 0,
             "ticks": ""
            },
            "type": "contourcarpet"
           }
          ],
          "heatmap": [
           {
            "colorbar": {
             "outlinewidth": 0,
             "ticks": ""
            },
            "colorscale": [
             [
              0,
              "#0d0887"
             ],
             [
              0.1111111111111111,
              "#46039f"
             ],
             [
              0.2222222222222222,
              "#7201a8"
             ],
             [
              0.3333333333333333,
              "#9c179e"
             ],
             [
              0.4444444444444444,
              "#bd3786"
             ],
             [
              0.5555555555555556,
              "#d8576b"
             ],
             [
              0.6666666666666666,
              "#ed7953"
             ],
             [
              0.7777777777777778,
              "#fb9f3a"
             ],
             [
              0.8888888888888888,
              "#fdca26"
             ],
             [
              1,
              "#f0f921"
             ]
            ],
            "type": "heatmap"
           }
          ],
          "histogram": [
           {
            "marker": {
             "pattern": {
              "fillmode": "overlay",
              "size": 10,
              "solidity": 0.2
             }
            },
            "type": "histogram"
           }
          ],
          "histogram2d": [
           {
            "colorbar": {
             "outlinewidth": 0,
             "ticks": ""
            },
            "colorscale": [
             [
              0,
              "#0d0887"
             ],
             [
              0.1111111111111111,
              "#46039f"
             ],
             [
              0.2222222222222222,
              "#7201a8"
             ],
             [
              0.3333333333333333,
              "#9c179e"
             ],
             [
              0.4444444444444444,
              "#bd3786"
             ],
             [
              0.5555555555555556,
              "#d8576b"
             ],
             [
              0.6666666666666666,
              "#ed7953"
             ],
             [
              0.7777777777777778,
              "#fb9f3a"
             ],
             [
              0.8888888888888888,
              "#fdca26"
             ],
             [
              1,
              "#f0f921"
             ]
            ],
            "type": "histogram2d"
           }
          ],
          "histogram2dcontour": [
           {
            "colorbar": {
             "outlinewidth": 0,
             "ticks": ""
            },
            "colorscale": [
             [
              0,
              "#0d0887"
             ],
             [
              0.1111111111111111,
              "#46039f"
             ],
             [
              0.2222222222222222,
              "#7201a8"
             ],
             [
              0.3333333333333333,
              "#9c179e"
             ],
             [
              0.4444444444444444,
              "#bd3786"
             ],
             [
              0.5555555555555556,
              "#d8576b"
             ],
             [
              0.6666666666666666,
              "#ed7953"
             ],
             [
              0.7777777777777778,
              "#fb9f3a"
             ],
             [
              0.8888888888888888,
              "#fdca26"
             ],
             [
              1,
              "#f0f921"
             ]
            ],
            "type": "histogram2dcontour"
           }
          ],
          "mesh3d": [
           {
            "colorbar": {
             "outlinewidth": 0,
             "ticks": ""
            },
            "type": "mesh3d"
           }
          ],
          "parcoords": [
           {
            "line": {
             "colorbar": {
              "outlinewidth": 0,
              "ticks": ""
             }
            },
            "type": "parcoords"
           }
          ],
          "pie": [
           {
            "automargin": true,
            "type": "pie"
           }
          ],
          "scatter": [
           {
            "fillpattern": {
             "fillmode": "overlay",
             "size": 10,
             "solidity": 0.2
            },
            "type": "scatter"
           }
          ],
          "scatter3d": [
           {
            "line": {
             "colorbar": {
              "outlinewidth": 0,
              "ticks": ""
             }
            },
            "marker": {
             "colorbar": {
              "outlinewidth": 0,
              "ticks": ""
             }
            },
            "type": "scatter3d"
           }
          ],
          "scattercarpet": [
           {
            "marker": {
             "colorbar": {
              "outlinewidth": 0,
              "ticks": ""
             }
            },
            "type": "scattercarpet"
           }
          ],
          "scattergeo": [
           {
            "marker": {
             "colorbar": {
              "outlinewidth": 0,
              "ticks": ""
             }
            },
            "type": "scattergeo"
           }
          ],
          "scattergl": [
           {
            "marker": {
             "colorbar": {
              "outlinewidth": 0,
              "ticks": ""
             }
            },
            "type": "scattergl"
           }
          ],
          "scattermap": [
           {
            "marker": {
             "colorbar": {
              "outlinewidth": 0,
              "ticks": ""
             }
            },
            "type": "scattermap"
           }
          ],
          "scattermapbox": [
           {
            "marker": {
             "colorbar": {
              "outlinewidth": 0,
              "ticks": ""
             }
            },
            "type": "scattermapbox"
           }
          ],
          "scatterpolar": [
           {
            "marker": {
             "colorbar": {
              "outlinewidth": 0,
              "ticks": ""
             }
            },
            "type": "scatterpolar"
           }
          ],
          "scatterpolargl": [
           {
            "marker": {
             "colorbar": {
              "outlinewidth": 0,
              "ticks": ""
             }
            },
            "type": "scatterpolargl"
           }
          ],
          "scatterternary": [
           {
            "marker": {
             "colorbar": {
              "outlinewidth": 0,
              "ticks": ""
             }
            },
            "type": "scatterternary"
           }
          ],
          "surface": [
           {
            "colorbar": {
             "outlinewidth": 0,
             "ticks": ""
            },
            "colorscale": [
             [
              0,
              "#0d0887"
             ],
             [
              0.1111111111111111,
              "#46039f"
             ],
             [
              0.2222222222222222,
              "#7201a8"
             ],
             [
              0.3333333333333333,
              "#9c179e"
             ],
             [
              0.4444444444444444,
              "#bd3786"
             ],
             [
              0.5555555555555556,
              "#d8576b"
             ],
             [
              0.6666666666666666,
              "#ed7953"
             ],
             [
              0.7777777777777778,
              "#fb9f3a"
             ],
             [
              0.8888888888888888,
              "#fdca26"
             ],
             [
              1,
              "#f0f921"
             ]
            ],
            "type": "surface"
           }
          ],
          "table": [
           {
            "cells": {
             "fill": {
              "color": "#EBF0F8"
             },
             "line": {
              "color": "white"
             }
            },
            "header": {
             "fill": {
              "color": "#C8D4E3"
             },
             "line": {
              "color": "white"
             }
            },
            "type": "table"
           }
          ]
         },
         "layout": {
          "annotationdefaults": {
           "arrowcolor": "#2a3f5f",
           "arrowhead": 0,
           "arrowwidth": 1
          },
          "autotypenumbers": "strict",
          "coloraxis": {
           "colorbar": {
            "outlinewidth": 0,
            "ticks": ""
           }
          },
          "colorscale": {
           "diverging": [
            [
             0,
             "#8e0152"
            ],
            [
             0.1,
             "#c51b7d"
            ],
            [
             0.2,
             "#de77ae"
            ],
            [
             0.3,
             "#f1b6da"
            ],
            [
             0.4,
             "#fde0ef"
            ],
            [
             0.5,
             "#f7f7f7"
            ],
            [
             0.6,
             "#e6f5d0"
            ],
            [
             0.7,
             "#b8e186"
            ],
            [
             0.8,
             "#7fbc41"
            ],
            [
             0.9,
             "#4d9221"
            ],
            [
             1,
             "#276419"
            ]
           ],
           "sequential": [
            [
             0,
             "#0d0887"
            ],
            [
             0.1111111111111111,
             "#46039f"
            ],
            [
             0.2222222222222222,
             "#7201a8"
            ],
            [
             0.3333333333333333,
             "#9c179e"
            ],
            [
             0.4444444444444444,
             "#bd3786"
            ],
            [
             0.5555555555555556,
             "#d8576b"
            ],
            [
             0.6666666666666666,
             "#ed7953"
            ],
            [
             0.7777777777777778,
             "#fb9f3a"
            ],
            [
             0.8888888888888888,
             "#fdca26"
            ],
            [
             1,
             "#f0f921"
            ]
           ],
           "sequentialminus": [
            [
             0,
             "#0d0887"
            ],
            [
             0.1111111111111111,
             "#46039f"
            ],
            [
             0.2222222222222222,
             "#7201a8"
            ],
            [
             0.3333333333333333,
             "#9c179e"
            ],
            [
             0.4444444444444444,
             "#bd3786"
            ],
            [
             0.5555555555555556,
             "#d8576b"
            ],
            [
             0.6666666666666666,
             "#ed7953"
            ],
            [
             0.7777777777777778,
             "#fb9f3a"
            ],
            [
             0.8888888888888888,
             "#fdca26"
            ],
            [
             1,
             "#f0f921"
            ]
           ]
          },
          "colorway": [
           "#636efa",
           "#EF553B",
           "#00cc96",
           "#ab63fa",
           "#FFA15A",
           "#19d3f3",
           "#FF6692",
           "#B6E880",
           "#FF97FF",
           "#FECB52"
          ],
          "font": {
           "color": "#2a3f5f"
          },
          "geo": {
           "bgcolor": "white",
           "lakecolor": "white",
           "landcolor": "#E5ECF6",
           "showlakes": true,
           "showland": true,
           "subunitcolor": "white"
          },
          "hoverlabel": {
           "align": "left"
          },
          "hovermode": "closest",
          "mapbox": {
           "style": "light"
          },
          "paper_bgcolor": "white",
          "plot_bgcolor": "#E5ECF6",
          "polar": {
           "angularaxis": {
            "gridcolor": "white",
            "linecolor": "white",
            "ticks": ""
           },
           "bgcolor": "#E5ECF6",
           "radialaxis": {
            "gridcolor": "white",
            "linecolor": "white",
            "ticks": ""
           }
          },
          "scene": {
           "xaxis": {
            "backgroundcolor": "#E5ECF6",
            "gridcolor": "white",
            "gridwidth": 2,
            "linecolor": "white",
            "showbackground": true,
            "ticks": "",
            "zerolinecolor": "white"
           },
           "yaxis": {
            "backgroundcolor": "#E5ECF6",
            "gridcolor": "white",
            "gridwidth": 2,
            "linecolor": "white",
            "showbackground": true,
            "ticks": "",
            "zerolinecolor": "white"
           },
           "zaxis": {
            "backgroundcolor": "#E5ECF6",
            "gridcolor": "white",
            "gridwidth": 2,
            "linecolor": "white",
            "showbackground": true,
            "ticks": "",
            "zerolinecolor": "white"
           }
          },
          "shapedefaults": {
           "line": {
            "color": "#2a3f5f"
           }
          },
          "ternary": {
           "aaxis": {
            "gridcolor": "white",
            "linecolor": "white",
            "ticks": ""
           },
           "baxis": {
            "gridcolor": "white",
            "linecolor": "white",
            "ticks": ""
           },
           "bgcolor": "#E5ECF6",
           "caxis": {
            "gridcolor": "white",
            "linecolor": "white",
            "ticks": ""
           }
          },
          "title": {
           "x": 0.05
          },
          "xaxis": {
           "automargin": true,
           "gridcolor": "white",
           "linecolor": "white",
           "ticks": "",
           "title": {
            "standoff": 15
           },
           "zerolinecolor": "white",
           "zerolinewidth": 2
          },
          "yaxis": {
           "automargin": true,
           "gridcolor": "white",
           "linecolor": "white",
           "ticks": "",
           "title": {
            "standoff": 15
           },
           "zerolinecolor": "white",
           "zerolinewidth": 2
          }
         }
        },
        "title": {
         "text": "[05.02] Group size, n = 178"
        },
        "width": 800
       }
      }
     },
     "metadata": {},
     "output_type": "display_data"
    }
   ],
   "source": [
    "stubs = [\"Age\", \"Therapy\", \"Training\", \"Type\", \"Trigger\",\"Affected\", \"motor\", \"Setting\", \"Group\"]\n",
    "\n",
    "for stub in stubs[:]:\n",
    "    df_pie = df_csv_condensed_cleansed.copy()\n",
    "    col = df_pie.find_cols([stub])[0]\n",
    "    print(col)\n",
    "\n",
    "    # * split to create arrays in cells, then explode to have atomic values\n",
    "    df_pie[col] = df_pie[col].str.split(\"|\")\n",
    "    df_pie = df_pie.explode(col)\n",
    "    n = len(df_pie[col])\n",
    "    # display(df_pie)\n",
    "\n",
    "    _=print_pie(df_pie[col], caption=f\"{col}, n = {n:_}\")\n"
   ]
  }
 ],
 "metadata": {
  "kernelspec": {
   "display_name": "sport-adverse-events",
   "language": "python",
   "name": "python3"
  },
  "language_info": {
   "codemirror_mode": {
    "name": "ipython",
    "version": 3
   },
   "file_extension": ".py",
   "mimetype": "text/x-python",
   "name": "python",
   "nbconvert_exporter": "python",
   "pygments_lexer": "ipython3",
   "version": "3.12.9"
  }
 },
 "nbformat": 4,
 "nbformat_minor": 5
}
