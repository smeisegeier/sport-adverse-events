{
 "cells": [
  {
   "cell_type": "markdown",
   "metadata": {},
   "source": [
    "# convert notebooks to markdown\n",
    "- `no_input=True` currently does not work from console"
   ]
  },
  {
   "cell_type": "code",
   "execution_count": null,
   "metadata": {},
   "outputs": [
    {
     "name": "stdout",
     "output_type": "stream",
     "text": [
      "🐍 3.12.2 | 📦 dataframe_image: 0.2.7\n"
     ]
    }
   ],
   "source": [
    "from pandas_plots import hlp\n",
    "import dataframe_image as dfi\n",
    "\n",
    "def nb_to_md(path: str):\n",
    "    dfi.convert(path,\n",
    "                to='markdown',\n",
    "                use='latex',\n",
    "                # center_df=True,\n",
    "                max_rows=100,\n",
    "                # max_cols=10,\n",
    "                execute=False,\n",
    "                save_notebook=False,\n",
    "                limit=None,\n",
    "                document_name=None,\n",
    "                # table_conversion='playwright',\n",
    "                table_conversion='chrome',\n",
    "                chrome_path=\"/opt/homebrew/bin/chromium\",\n",
    "                latex_command=None,\n",
    "                output_dir='../docs/notebooks',\n",
    "                no_input=True,\n",
    "                )\n",
    "\n",
    "hlp.show_package_version([\"dataframe_image\"], include_demo_packages=False)"
   ]
  },
  {
   "cell_type": "code",
   "execution_count": 2,
   "metadata": {},
   "outputs": [],
   "source": [
    "nb_to_md(\"./2_analyze.ipynb\")"
   ]
  }
 ],
 "metadata": {
  "kernelspec": {
   "display_name": ".venv",
   "language": "python",
   "name": "python3"
  },
  "language_info": {
   "codemirror_mode": {
    "name": "ipython",
    "version": 3
   },
   "file_extension": ".py",
   "mimetype": "text/x-python",
   "name": "python",
   "nbconvert_exporter": "python",
   "pygments_lexer": "ipython3",
   "version": "3.12.2"
  }
 },
 "nbformat": 4,
 "nbformat_minor": 2
}
