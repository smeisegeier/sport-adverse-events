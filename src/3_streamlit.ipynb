{
 "cells": [
  {
   "cell_type": "markdown",
   "metadata": {},
   "source": [
    "# <a id='toc1_'></a>[show data](#toc0_)"
   ]
  },
  {
   "cell_type": "code",
   "execution_count": 10,
   "metadata": {},
   "outputs": [],
   "source": [
    "import os\n",
    "import pandas as pd\n",
    "from pathlib import Path\n",
    "import streamlit as st\n",
    "import pygwalker as pyg\n",
    "\n",
    "os.environ[\"THEME\"]=\"dark\"\n",
    "\n",
    "dir_data_out=Path(\"../data/out\")"
   ]
  },
  {
   "cell_type": "code",
   "execution_count": 6,
   "metadata": {},
   "outputs": [],
   "source": [
    "def get_cols(all_cols: list[str], stubs = list[str]):\n",
    "    return [col for col in all_cols if any(match in col for match in stubs)]"
   ]
  },
  {
   "cell_type": "code",
   "execution_count": 7,
   "metadata": {},
   "outputs": [],
   "source": [
    "df_csv_condensed = (\n",
    "    pd.read_csv(\n",
    "        dir_data_out / \"df_csv_condensed.csv\",\n",
    "        sep=\";\",\n",
    "        encoding=\"utf-8-sig\",\n",
    "        index_col=None,\n",
    "    ))\n",
    "\n",
    "# * mark columns that should be str instead of float, fuzzy\n",
    "col_int = get_cols(all_cols=df_csv_condensed.columns, stubs=[\"[01.01]\"])\n",
    "\n",
    "# * \n",
    "df_csv_condensed = (df_csv_condensed\n",
    "        .astype({col_int[0]:\"Int64\"})\n",
    "        .astype({col_int[0]:str})\n",
    ")"
   ]
  },
  {
   "cell_type": "code",
   "execution_count": 8,
   "metadata": {},
   "outputs": [
    {
     "data": {
      "application/vnd.jupyter.widget-view+json": {
       "model_id": "0908b7cb6bc145a3be87995212f7555c",
       "version_major": 2,
       "version_minor": 0
      },
      "text/plain": [
       "Box(children=(HTML(value='\\n<div id=\"ifr-pyg-00062e97dcab9102VzWYEUQk82KOGxhX\" style=\"height: auto\">\\n    <hea…"
      ]
     },
     "metadata": {},
     "output_type": "display_data"
    },
    {
     "data": {
      "text/html": [
       "<script>\n",
       "    window.addEventListener(\"message\", function(event) {\n",
       "        const backgroundMap = {\n",
       "            \"dark\": \"hsl(240 10% 3.9%)\",\n",
       "            \"light\": \"hsl(0 0 100%)\",\n",
       "        };\n",
       "        const colorMap = {\n",
       "            \"dark\": \"hsl(0 0% 98%)\",\n",
       "            \"light\": \"hsl(240 10% 3.9%)\",\n",
       "        };\n",
       "        if (event.data.action === \"changeAppearance\" && event.data.gid === \"00062e97dcab9102VzWYEUQk82KOGxhX\") {\n",
       "            var iframe = document.getElementById(\"gwalker-00062e97dcab9102VzWYEUQk82KOGxhX\");\n",
       "            iframe.style.background  = backgroundMap[event.data.appearance];\n",
       "            iframe.style.color = colorMap[event.data.appearance];\n",
       "        }\n",
       "    });\n",
       "</script>"
      ],
      "text/plain": [
       "<IPython.core.display.HTML object>"
      ]
     },
     "metadata": {},
     "output_type": "display_data"
    },
    {
     "data": {
      "text/html": [],
      "text/plain": [
       "<IPython.core.display.HTML object>"
      ]
     },
     "metadata": {},
     "output_type": "display_data"
    },
    {
     "name": "stderr",
     "output_type": "stream",
     "text": [
      "2025-02-20 20:27:17.533 WARNING streamlit.runtime.scriptrunner_utils.script_run_context: Thread 'MainThread': missing ScriptRunContext! This warning can be ignored when running in bare mode.\n",
      "2025-02-20 20:27:17.549 \n",
      "  \u001b[33m\u001b[1mWarning:\u001b[0m to view this Streamlit app on a browser, run it with the following\n",
      "  command:\n",
      "\n",
      "    streamlit run /Users/dexter/Documents/repos/github/sport-adverse-events/.venv/lib/python3.13/site-packages/ipykernel_launcher.py [ARGUMENTS]\n",
      "2025-02-20 20:27:17.550 Thread 'MainThread': missing ScriptRunContext! This warning can be ignored when running in bare mode.\n"
     ]
    },
    {
     "data": {
      "text/plain": [
       "DeltaGenerator()"
      ]
     },
     "execution_count": 8,
     "metadata": {},
     "output_type": "execute_result"
    }
   ],
   "source": [
    "\n",
    "# Render PyGWalker widget\n",
    "pyg_app = pyg.walk(df_csv_condensed).to_html()\n",
    "\n",
    "# Embed the PyGWalker app in Streamlit\n",
    "# st.components.v1.html(pyg_app)\n",
    "st.components.v1.html(pyg_app, height=1000, scrolling=True)"
   ]
  }
 ],
 "metadata": {
  "kernelspec": {
   "display_name": ".venv",
   "language": "python",
   "name": "python3"
  },
  "language_info": {
   "codemirror_mode": {
    "name": "ipython",
    "version": 3
   },
   "file_extension": ".py",
   "mimetype": "text/x-python",
   "name": "python",
   "nbconvert_exporter": "python",
   "pygments_lexer": "ipython3",
   "version": "3.13.1"
  }
 },
 "nbformat": 4,
 "nbformat_minor": 2
}
